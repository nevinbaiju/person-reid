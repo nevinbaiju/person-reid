{
 "cells": [
  {
   "cell_type": "code",
   "execution_count": 14,
   "id": "dd117a25-51f7-4b37-80dd-57601c645fe7",
   "metadata": {},
   "outputs": [],
   "source": [
    "import torch, math, time, argparse, os\n",
    "import random, dataset, utils, losses, net\n",
    "import numpy as np\n",
    "\n",
    "from dataset.market import Market\n",
    "from net.os_net import get_embedding_model, osnet_ibn_x1_0, OSNet, OSBlock\n",
    "from dataset import sampler\n",
    "from torch.utils.data.sampler import BatchSampler\n",
    "from torch.utils.data.dataloader import default_collate\n",
    "from torch import nn\n",
    "\n",
    "\n",
    "from tqdm import *\n",
    "import wandb"
   ]
  },
  {
   "cell_type": "code",
   "execution_count": 2,
   "id": "9b68c83a-1a81-444f-aa00-51349c5ecca5",
   "metadata": {},
   "outputs": [],
   "source": [
    "seed = 1\n",
    "random.seed(seed)\n",
    "np.random.seed(seed)\n",
    "torch.manual_seed(seed)\n",
    "torch.cuda.manual_seed_all(seed)"
   ]
  },
  {
   "cell_type": "code",
   "execution_count": 3,
   "id": "0de986bb-fec0-4e9a-b128-8144593a4615",
   "metadata": {},
   "outputs": [],
   "source": [
    "LOG_DIR = '.'\n",
    "trn_dataset = dataset.load('market', '../ITCS-5145-CV/learning/Market-1501-v15.09.15/', 'train', transform = dataset.utils.make_transform(\n",
    "                                                                                                                        is_train = True, \n",
    "                                                                                                                        is_inception = False))"
   ]
  },
  {
   "cell_type": "code",
   "execution_count": 4,
   "id": "fe096192-8b04-4ee1-8e3e-0e9ce965ec0e",
   "metadata": {},
   "outputs": [],
   "source": [
    "dl_tr = torch.utils.data.DataLoader(\n",
    "        trn_dataset,\n",
    "        batch_size = 50,\n",
    "        shuffle = True,\n",
    "        num_workers = 4,\n",
    "        drop_last = True,\n",
    "        pin_memory = True\n",
    "    )"
   ]
  },
  {
   "cell_type": "code",
   "execution_count": 5,
   "id": "46516afa-f077-4d5e-ad4a-eb73858068dc",
   "metadata": {},
   "outputs": [],
   "source": [
    "eval_dataset = dataset.load('market', '../ITCS-5145-CV/learning/Market-1501-v15.09.15/', 'train', transform = dataset.utils.make_transform(\n",
    "                                                                                                                        is_train = True, \n",
    "                                                                                                                        is_inception = False))\n",
    "\n",
    "dl_ev = torch.utils.data.DataLoader(\n",
    "        eval_dataset,\n",
    "        batch_size = 50,\n",
    "        shuffle = False,\n",
    "        num_workers = 4,\n",
    "        pin_memory = True\n",
    ")"
   ]
  },
  {
   "cell_type": "code",
   "execution_count": 6,
   "id": "61bf8ce8-11a7-4f5c-8f4d-27eae79c40c1",
   "metadata": {},
   "outputs": [],
   "source": [
    "model_name = 'OSNET'"
   ]
  },
  {
   "cell_type": "code",
   "execution_count": 7,
   "id": "e09b2d13-d22e-4d91-a519-a8971ba45bad",
   "metadata": {},
   "outputs": [
    {
     "name": "stdout",
     "output_type": "stream",
     "text": [
      "Successfully loaded imagenet pretrained weights from \"/home/nevin/.cache/torch/checkpoints/osnet_ibn_x1_0_imagenet.pth\"\n",
      "** The following layers are discarded due to unmatched keys or layer size: ['classifier.weight', 'classifier.bias']\n"
     ]
    }
   ],
   "source": [
    "model = osnet_ibn_x1_0(pretrained=True).cuda()"
   ]
  },
  {
   "cell_type": "code",
   "execution_count": 8,
   "id": "aa815ea5-c86f-4e64-9dfb-bdd71319837c",
   "metadata": {},
   "outputs": [],
   "source": [
    "criterion = losses.Proxy_Anchor(nb_classes = trn_dataset.nb_classes(), sz_embed = 512, mrg = 0.1, alpha = 32).cuda()"
   ]
  },
  {
   "cell_type": "code",
   "execution_count": 9,
   "id": "1d82987f-a60d-4672-8eb6-cc87035cb22e",
   "metadata": {},
   "outputs": [],
   "source": [
    "param_groups = [\n",
    "    {'params': list(set(model.parameters()).difference(set(model.fc.parameters())))},\n",
    "    {'params': model.fc.parameters(), 'lr':float(1e-4) * 1},\n",
    "]\n",
    "param_groups.append({'params': criterion.parameters(), 'lr':float(1e-4) * 100})"
   ]
  },
  {
   "cell_type": "code",
   "execution_count": 10,
   "id": "39029af3-6b21-4cd2-8dd0-d3d1db46d109",
   "metadata": {},
   "outputs": [],
   "source": [
    "opt = torch.optim.AdamW(param_groups, lr=float(1e-4), weight_decay = 1e-4)"
   ]
  },
  {
   "cell_type": "code",
   "execution_count": 11,
   "id": "00b75ef9-d5d0-48c1-a6fa-d80b64139414",
   "metadata": {},
   "outputs": [],
   "source": [
    "scheduler = torch.optim.lr_scheduler.StepLR(opt, step_size=10, gamma = 0.5)"
   ]
  },
  {
   "cell_type": "code",
   "execution_count": 12,
   "id": "0b4b8894-c782-41a7-a070-0cd9030ede22",
   "metadata": {},
   "outputs": [],
   "source": [
    "model_dir = 'models'"
   ]
  },
  {
   "cell_type": "code",
   "execution_count": 16,
   "id": "405de8ba-1e69-4f04-9b8a-1d995e5cfa7e",
   "metadata": {},
   "outputs": [
    {
     "name": "stderr",
     "output_type": "stream",
     "text": [
      "0it [00:00, ?it/s]/home/nevin/anaconda3/envs/cv/lib/python3.9/site-packages/torch/nn/modules/conv.py:456: UserWarning: Applied workaround for CuDNN issue, install nvrtc.so (Triggered internally at /opt/conda/conda-bld/pytorch_1695392022560/work/aten/src/ATen/native/cudnn/Conv_v8.cpp:80.)\n",
      "  return F.conv2d(input, weight, bias, self.stride,\n",
      "Train Epoch: 0 [549/549 (100%)] Loss: 2.588382: : 549it [00:51, 10.69it/s]\n"
     ]
    },
    {
     "name": "stdout",
     "output_type": "stream",
     "text": [
      "**Evaluating...**\n"
     ]
    },
    {
     "name": "stderr",
     "output_type": "stream",
     "text": [
      "100%|█████████████████████████████████████████| 550/550 [00:48<00:00, 11.28it/s]\n"
     ]
    },
    {
     "name": "stdout",
     "output_type": "stream",
     "text": [
      "R@1 : 28.088\n",
      "R@2 : 34.129\n",
      "R@4 : 40.857\n",
      "R@8 : 47.844\n",
      "R@16 : 55.329\n",
      "R@32 : 63.804\n"
     ]
    },
    {
     "name": "stderr",
     "output_type": "stream",
     "text": [
      "Train Epoch: 1 [549/549 (100%)] Loss: 1.709753: : 549it [02:32,  3.60it/s]\n"
     ]
    },
    {
     "name": "stdout",
     "output_type": "stream",
     "text": [
      "**Evaluating...**\n"
     ]
    },
    {
     "name": "stderr",
     "output_type": "stream",
     "text": [
      "100%|█████████████████████████████████████████| 550/550 [00:47<00:00, 11.62it/s]\n"
     ]
    },
    {
     "name": "stdout",
     "output_type": "stream",
     "text": [
      "R@1 : 52.902\n",
      "R@2 : 59.823\n",
      "R@4 : 66.402\n",
      "R@8 : 72.585\n",
      "R@16 : 78.294\n",
      "R@32 : 83.530\n"
     ]
    },
    {
     "name": "stderr",
     "output_type": "stream",
     "text": [
      "Train Epoch: 2 [549/549 (100%)] Loss: 1.450046: : 549it [02:27,  3.72it/s]\n"
     ]
    },
    {
     "name": "stdout",
     "output_type": "stream",
     "text": [
      "**Evaluating...**\n"
     ]
    },
    {
     "name": "stderr",
     "output_type": "stream",
     "text": [
      "100%|█████████████████████████████████████████| 550/550 [00:47<00:00, 11.57it/s]\n"
     ]
    },
    {
     "name": "stdout",
     "output_type": "stream",
     "text": [
      "R@1 : 57.716\n",
      "R@2 : 64.477\n",
      "R@4 : 70.922\n",
      "R@8 : 76.522\n",
      "R@16 : 81.780\n",
      "R@32 : 86.514\n"
     ]
    },
    {
     "name": "stderr",
     "output_type": "stream",
     "text": [
      "Train Epoch: 3 [549/549 (100%)] Loss: 0.883422: : 549it [02:29,  3.67it/s]\n"
     ]
    },
    {
     "name": "stdout",
     "output_type": "stream",
     "text": [
      "**Evaluating...**\n"
     ]
    },
    {
     "name": "stderr",
     "output_type": "stream",
     "text": [
      "100%|█████████████████████████████████████████| 550/550 [00:47<00:00, 11.60it/s]\n"
     ]
    },
    {
     "name": "stdout",
     "output_type": "stream",
     "text": [
      "R@1 : 60.664\n",
      "R@2 : 67.356\n",
      "R@4 : 73.531\n",
      "R@8 : 78.836\n",
      "R@16 : 83.600\n",
      "R@32 : 87.839\n"
     ]
    },
    {
     "name": "stderr",
     "output_type": "stream",
     "text": [
      "Train Epoch: 4 [549/549 (100%)] Loss: 1.230753: : 549it [02:27,  3.73it/s]\n"
     ]
    },
    {
     "name": "stdout",
     "output_type": "stream",
     "text": [
      "**Evaluating...**\n"
     ]
    },
    {
     "name": "stderr",
     "output_type": "stream",
     "text": [
      "100%|█████████████████████████████████████████| 550/550 [00:47<00:00, 11.62it/s]\n"
     ]
    },
    {
     "name": "stdout",
     "output_type": "stream",
     "text": [
      "R@1 : 61.839\n",
      "R@2 : 68.498\n",
      "R@4 : 74.462\n",
      "R@8 : 79.753\n",
      "R@16 : 84.429\n",
      "R@32 : 88.534\n"
     ]
    },
    {
     "name": "stderr",
     "output_type": "stream",
     "text": [
      "Train Epoch: 5 [549/549 (100%)] Loss: 1.059925: : 549it [02:27,  3.73it/s]\n"
     ]
    },
    {
     "name": "stdout",
     "output_type": "stream",
     "text": [
      "**Evaluating...**\n"
     ]
    },
    {
     "name": "stderr",
     "output_type": "stream",
     "text": [
      "100%|█████████████████████████████████████████| 550/550 [00:47<00:00, 11.62it/s]\n"
     ]
    },
    {
     "name": "stdout",
     "output_type": "stream",
     "text": [
      "R@1 : 63.706\n",
      "R@2 : 70.460\n",
      "R@4 : 75.914\n",
      "R@8 : 80.900\n",
      "R@16 : 85.292\n",
      "R@32 : 89.294\n"
     ]
    },
    {
     "name": "stderr",
     "output_type": "stream",
     "text": [
      "Train Epoch: 6 [549/549 (100%)] Loss: 0.846803: : 549it [02:27,  3.73it/s]\n"
     ]
    },
    {
     "name": "stdout",
     "output_type": "stream",
     "text": [
      "**Evaluating...**\n"
     ]
    },
    {
     "name": "stderr",
     "output_type": "stream",
     "text": [
      "100%|█████████████████████████████████████████| 550/550 [00:47<00:00, 11.62it/s]\n"
     ]
    },
    {
     "name": "stdout",
     "output_type": "stream",
     "text": [
      "R@1 : 65.005\n",
      "R@2 : 71.526\n",
      "R@4 : 77.217\n",
      "R@8 : 82.173\n",
      "R@16 : 86.442\n",
      "R@32 : 89.971\n"
     ]
    },
    {
     "name": "stderr",
     "output_type": "stream",
     "text": [
      "Train Epoch: 7 [549/549 (100%)] Loss: 0.707047: : 549it [02:28,  3.70it/s]\n"
     ]
    },
    {
     "name": "stdout",
     "output_type": "stream",
     "text": [
      "**Evaluating...**\n"
     ]
    },
    {
     "name": "stderr",
     "output_type": "stream",
     "text": [
      "100%|█████████████████████████████████████████| 550/550 [00:47<00:00, 11.51it/s]\n"
     ]
    },
    {
     "name": "stdout",
     "output_type": "stream",
     "text": [
      "R@1 : 65.540\n",
      "R@2 : 72.017\n",
      "R@4 : 77.825\n",
      "R@8 : 82.643\n",
      "R@16 : 86.896\n",
      "R@32 : 90.241\n"
     ]
    },
    {
     "name": "stderr",
     "output_type": "stream",
     "text": [
      "Train Epoch: 8 [549/549 (100%)] Loss: 0.652674: : 549it [02:28,  3.69it/s]\n"
     ]
    },
    {
     "name": "stdout",
     "output_type": "stream",
     "text": [
      "**Evaluating...**\n"
     ]
    },
    {
     "name": "stderr",
     "output_type": "stream",
     "text": [
      "100%|█████████████████████████████████████████| 550/550 [00:47<00:00, 11.52it/s]\n"
     ]
    },
    {
     "name": "stdout",
     "output_type": "stream",
     "text": [
      "R@1 : 66.122\n",
      "R@2 : 72.537\n",
      "R@4 : 78.101\n",
      "R@8 : 83.025\n",
      "R@16 : 87.511\n",
      "R@32 : 90.888\n"
     ]
    },
    {
     "name": "stderr",
     "output_type": "stream",
     "text": [
      "Train Epoch: 9 [549/549 (100%)] Loss: 0.750289: : 549it [02:28,  3.70it/s]\n"
     ]
    },
    {
     "name": "stdout",
     "output_type": "stream",
     "text": [
      "**Evaluating...**\n"
     ]
    },
    {
     "name": "stderr",
     "output_type": "stream",
     "text": [
      "100%|█████████████████████████████████████████| 550/550 [00:47<00:00, 11.52it/s]\n"
     ]
    },
    {
     "name": "stdout",
     "output_type": "stream",
     "text": [
      "R@1 : 66.464\n",
      "R@2 : 72.748\n",
      "R@4 : 78.163\n",
      "R@8 : 83.094\n",
      "R@16 : 87.428\n",
      "R@32 : 91.136\n"
     ]
    },
    {
     "name": "stderr",
     "output_type": "stream",
     "text": [
      "Train Epoch: 10 [549/549 (100%)] Loss: 0.889701: : 549it [02:28,  3.70it/s]\n"
     ]
    },
    {
     "name": "stdout",
     "output_type": "stream",
     "text": [
      "**Evaluating...**\n"
     ]
    },
    {
     "name": "stderr",
     "output_type": "stream",
     "text": [
      "100%|█████████████████████████████████████████| 550/550 [00:47<00:00, 11.51it/s]\n"
     ]
    },
    {
     "name": "stdout",
     "output_type": "stream",
     "text": [
      "R@1 : 68.436\n",
      "R@2 : 74.622\n",
      "R@4 : 80.205\n",
      "R@8 : 84.891\n",
      "R@16 : 88.800\n",
      "R@32 : 92.034\n"
     ]
    },
    {
     "name": "stderr",
     "output_type": "stream",
     "text": [
      "Train Epoch: 11 [549/549 (100%)] Loss: 0.785181: : 549it [02:28,  3.69it/s]\n"
     ]
    },
    {
     "name": "stdout",
     "output_type": "stream",
     "text": [
      "**Evaluating...**\n"
     ]
    },
    {
     "name": "stderr",
     "output_type": "stream",
     "text": [
      "100%|█████████████████████████████████████████| 550/550 [00:47<00:00, 11.50it/s]\n"
     ]
    },
    {
     "name": "stdout",
     "output_type": "stream",
     "text": [
      "R@1 : 68.960\n",
      "R@2 : 75.034\n",
      "R@4 : 80.303\n",
      "R@8 : 84.709\n",
      "R@16 : 88.796\n",
      "R@32 : 91.965\n"
     ]
    },
    {
     "name": "stderr",
     "output_type": "stream",
     "text": [
      "Train Epoch: 12 [549/549 (100%)] Loss: 0.509127: : 549it [02:28,  3.69it/s]\n"
     ]
    },
    {
     "name": "stdout",
     "output_type": "stream",
     "text": [
      "**Evaluating...**\n"
     ]
    },
    {
     "name": "stderr",
     "output_type": "stream",
     "text": [
      "100%|█████████████████████████████████████████| 550/550 [00:47<00:00, 11.57it/s]\n"
     ]
    },
    {
     "name": "stdout",
     "output_type": "stream",
     "text": [
      "R@1 : 69.452\n",
      "R@2 : 75.416\n",
      "R@4 : 80.645\n",
      "R@8 : 85.419\n",
      "R@16 : 89.120\n",
      "R@32 : 92.206\n"
     ]
    },
    {
     "name": "stderr",
     "output_type": "stream",
     "text": [
      "Train Epoch: 13 [549/549 (100%)] Loss: 0.419646: : 549it [02:27,  3.72it/s]\n"
     ]
    },
    {
     "name": "stdout",
     "output_type": "stream",
     "text": [
      "**Evaluating...**\n"
     ]
    },
    {
     "name": "stderr",
     "output_type": "stream",
     "text": [
      "100%|█████████████████████████████████████████| 550/550 [00:47<00:00, 11.57it/s]\n"
     ]
    },
    {
     "name": "stdout",
     "output_type": "stream",
     "text": [
      "R@1 : 69.666\n",
      "R@2 : 76.114\n",
      "R@4 : 81.256\n",
      "R@8 : 85.561\n",
      "R@16 : 89.087\n",
      "R@32 : 92.140\n"
     ]
    },
    {
     "name": "stderr",
     "output_type": "stream",
     "text": [
      "Train Epoch: 14 [549/549 (100%)] Loss: 0.694466: : 549it [02:27,  3.72it/s]\n"
     ]
    },
    {
     "name": "stdout",
     "output_type": "stream",
     "text": [
      "**Evaluating...**\n"
     ]
    },
    {
     "name": "stderr",
     "output_type": "stream",
     "text": [
      "100%|█████████████████████████████████████████| 550/550 [00:47<00:00, 11.58it/s]\n"
     ]
    },
    {
     "name": "stdout",
     "output_type": "stream",
     "text": [
      "R@1 : 70.016\n",
      "R@2 : 75.871\n",
      "R@4 : 81.158\n",
      "R@8 : 85.590\n",
      "R@16 : 89.309\n",
      "R@32 : 92.315\n"
     ]
    },
    {
     "name": "stderr",
     "output_type": "stream",
     "text": [
      "Train Epoch: 15 [549/549 (100%)] Loss: 0.686370: : 549it [02:27,  3.72it/s]\n"
     ]
    },
    {
     "name": "stdout",
     "output_type": "stream",
     "text": [
      "**Evaluating...**\n"
     ]
    },
    {
     "name": "stderr",
     "output_type": "stream",
     "text": [
      "100%|█████████████████████████████████████████| 550/550 [00:47<00:00, 11.59it/s]\n"
     ]
    },
    {
     "name": "stdout",
     "output_type": "stream",
     "text": [
      "R@1 : 70.605\n",
      "R@2 : 76.471\n",
      "R@4 : 81.704\n",
      "R@8 : 86.056\n",
      "R@16 : 89.727\n",
      "R@32 : 92.708\n"
     ]
    },
    {
     "name": "stderr",
     "output_type": "stream",
     "text": [
      "Train Epoch: 16 [549/549 (100%)] Loss: 0.392014: : 549it [02:27,  3.72it/s]\n"
     ]
    },
    {
     "name": "stdout",
     "output_type": "stream",
     "text": [
      "**Evaluating...**\n"
     ]
    },
    {
     "name": "stderr",
     "output_type": "stream",
     "text": [
      "100%|█████████████████████████████████████████| 550/550 [00:47<00:00, 11.59it/s]\n"
     ]
    },
    {
     "name": "stdout",
     "output_type": "stream",
     "text": [
      "R@1 : 71.078\n",
      "R@2 : 76.999\n",
      "R@4 : 82.086\n",
      "R@8 : 86.598\n",
      "R@16 : 90.208\n",
      "R@32 : 93.290\n"
     ]
    },
    {
     "name": "stderr",
     "output_type": "stream",
     "text": [
      "Train Epoch: 17 [549/549 (100%)] Loss: 0.497259: : 549it [02:27,  3.72it/s]\n"
     ]
    },
    {
     "name": "stdout",
     "output_type": "stream",
     "text": [
      "**Evaluating...**\n"
     ]
    },
    {
     "name": "stderr",
     "output_type": "stream",
     "text": [
      "100%|█████████████████████████████████████████| 550/550 [00:47<00:00, 11.59it/s]\n"
     ]
    },
    {
     "name": "stdout",
     "output_type": "stream",
     "text": [
      "R@1 : 71.402\n",
      "R@2 : 77.508\n",
      "R@4 : 82.435\n",
      "R@8 : 86.718\n",
      "R@16 : 90.219\n",
      "R@32 : 93.130\n"
     ]
    },
    {
     "name": "stderr",
     "output_type": "stream",
     "text": [
      "Train Epoch: 18 [549/549 (100%)] Loss: 0.524589: : 549it [02:27,  3.72it/s]\n"
     ]
    },
    {
     "name": "stdout",
     "output_type": "stream",
     "text": [
      "**Evaluating...**\n"
     ]
    },
    {
     "name": "stderr",
     "output_type": "stream",
     "text": [
      "100%|█████████████████████████████████████████| 550/550 [00:47<00:00, 11.57it/s]\n"
     ]
    },
    {
     "name": "stdout",
     "output_type": "stream",
     "text": [
      "R@1 : 71.740\n",
      "R@2 : 77.701\n",
      "R@4 : 82.734\n",
      "R@8 : 86.933\n",
      "R@16 : 90.368\n",
      "R@32 : 93.272\n"
     ]
    },
    {
     "name": "stderr",
     "output_type": "stream",
     "text": [
      "Train Epoch: 19 [549/549 (100%)] Loss: 0.448716: : 549it [02:27,  3.72it/s]\n"
     ]
    },
    {
     "name": "stdout",
     "output_type": "stream",
     "text": [
      "**Evaluating...**\n"
     ]
    },
    {
     "name": "stderr",
     "output_type": "stream",
     "text": [
      "100%|█████████████████████████████████████████| 550/550 [00:47<00:00, 11.59it/s]\n"
     ]
    },
    {
     "name": "stdout",
     "output_type": "stream",
     "text": [
      "R@1 : 72.002\n",
      "R@2 : 77.836\n",
      "R@4 : 83.123\n",
      "R@8 : 87.322\n",
      "R@16 : 90.728\n",
      "R@32 : 93.501\n"
     ]
    },
    {
     "name": "stderr",
     "output_type": "stream",
     "text": [
      "Train Epoch: 20 [549/549 (100%)] Loss: 0.458349: : 549it [02:27,  3.72it/s]\n"
     ]
    },
    {
     "name": "stdout",
     "output_type": "stream",
     "text": [
      "**Evaluating...**\n"
     ]
    },
    {
     "name": "stderr",
     "output_type": "stream",
     "text": [
      "100%|█████████████████████████████████████████| 550/550 [00:47<00:00, 11.59it/s]\n"
     ]
    },
    {
     "name": "stdout",
     "output_type": "stream",
     "text": [
      "R@1 : 71.690\n",
      "R@2 : 77.865\n",
      "R@4 : 82.854\n",
      "R@8 : 87.038\n",
      "R@16 : 90.513\n",
      "R@32 : 93.410\n"
     ]
    },
    {
     "name": "stderr",
     "output_type": "stream",
     "text": [
      "Train Epoch: 21 [549/549 (100%)] Loss: 0.648710: : 549it [02:27,  3.72it/s]\n"
     ]
    },
    {
     "name": "stdout",
     "output_type": "stream",
     "text": [
      "**Evaluating...**\n"
     ]
    },
    {
     "name": "stderr",
     "output_type": "stream",
     "text": [
      "100%|█████████████████████████████████████████| 550/550 [00:47<00:00, 11.59it/s]\n"
     ]
    },
    {
     "name": "stdout",
     "output_type": "stream",
     "text": [
      "R@1 : 72.730\n",
      "R@2 : 78.636\n",
      "R@4 : 83.341\n",
      "R@8 : 87.409\n",
      "R@16 : 90.725\n",
      "R@32 : 93.585\n"
     ]
    },
    {
     "name": "stderr",
     "output_type": "stream",
     "text": [
      "Train Epoch: 22 [549/549 (100%)] Loss: 0.443695: : 549it [02:27,  3.72it/s]\n"
     ]
    },
    {
     "name": "stdout",
     "output_type": "stream",
     "text": [
      "**Evaluating...**\n"
     ]
    },
    {
     "name": "stderr",
     "output_type": "stream",
     "text": [
      "100%|█████████████████████████████████████████| 550/550 [00:47<00:00, 11.58it/s]\n"
     ]
    },
    {
     "name": "stdout",
     "output_type": "stream",
     "text": [
      "R@1 : 72.610\n",
      "R@2 : 78.592\n",
      "R@4 : 83.570\n",
      "R@8 : 87.668\n",
      "R@16 : 91.154\n",
      "R@32 : 93.901\n"
     ]
    },
    {
     "name": "stderr",
     "output_type": "stream",
     "text": [
      "Train Epoch: 23 [549/549 (100%)] Loss: 0.543780: : 549it [02:27,  3.72it/s]\n"
     ]
    },
    {
     "name": "stdout",
     "output_type": "stream",
     "text": [
      "**Evaluating...**\n"
     ]
    },
    {
     "name": "stderr",
     "output_type": "stream",
     "text": [
      "100%|█████████████████████████████████████████| 550/550 [00:47<00:00, 11.58it/s]\n"
     ]
    },
    {
     "name": "stdout",
     "output_type": "stream",
     "text": [
      "R@1 : 72.959\n",
      "R@2 : 78.771\n",
      "R@4 : 83.549\n",
      "R@8 : 87.369\n",
      "R@16 : 90.852\n",
      "R@32 : 93.708\n"
     ]
    },
    {
     "name": "stderr",
     "output_type": "stream",
     "text": [
      "Train Epoch: 24 [549/549 (100%)] Loss: 0.662393: : 549it [02:27,  3.72it/s]\n"
     ]
    },
    {
     "name": "stdout",
     "output_type": "stream",
     "text": [
      "**Evaluating...**\n"
     ]
    },
    {
     "name": "stderr",
     "output_type": "stream",
     "text": [
      "100%|█████████████████████████████████████████| 550/550 [00:47<00:00, 11.59it/s]\n"
     ]
    },
    {
     "name": "stdout",
     "output_type": "stream",
     "text": [
      "R@1 : 72.654\n",
      "R@2 : 78.334\n",
      "R@4 : 83.414\n",
      "R@8 : 87.599\n",
      "R@16 : 90.888\n",
      "R@32 : 93.508\n"
     ]
    },
    {
     "name": "stderr",
     "output_type": "stream",
     "text": [
      "Train Epoch: 25 [549/549 (100%)] Loss: 0.535847: : 549it [02:27,  3.72it/s]\n"
     ]
    },
    {
     "name": "stdout",
     "output_type": "stream",
     "text": [
      "**Evaluating...**\n"
     ]
    },
    {
     "name": "stderr",
     "output_type": "stream",
     "text": [
      "100%|█████████████████████████████████████████| 550/550 [00:47<00:00, 11.57it/s]\n"
     ]
    },
    {
     "name": "stdout",
     "output_type": "stream",
     "text": [
      "R@1 : 72.796\n",
      "R@2 : 78.800\n",
      "R@4 : 83.767\n",
      "R@8 : 87.817\n",
      "R@16 : 91.321\n",
      "R@32 : 94.116\n"
     ]
    },
    {
     "name": "stderr",
     "output_type": "stream",
     "text": [
      "Train Epoch: 26 [549/549 (100%)] Loss: 0.538302: : 549it [02:27,  3.72it/s]\n"
     ]
    },
    {
     "name": "stdout",
     "output_type": "stream",
     "text": [
      "**Evaluating...**\n"
     ]
    },
    {
     "name": "stderr",
     "output_type": "stream",
     "text": [
      "100%|█████████████████████████████████████████| 550/550 [00:47<00:00, 11.58it/s]\n"
     ]
    },
    {
     "name": "stdout",
     "output_type": "stream",
     "text": [
      "R@1 : 72.858\n",
      "R@2 : 78.702\n",
      "R@4 : 83.585\n",
      "R@8 : 87.577\n",
      "R@16 : 91.158\n",
      "R@32 : 93.847\n"
     ]
    },
    {
     "name": "stderr",
     "output_type": "stream",
     "text": [
      "Train Epoch: 27 [549/549 (100%)] Loss: 0.413091: : 549it [02:27,  3.72it/s]\n"
     ]
    },
    {
     "name": "stdout",
     "output_type": "stream",
     "text": [
      "**Evaluating...**\n"
     ]
    },
    {
     "name": "stderr",
     "output_type": "stream",
     "text": [
      "100%|█████████████████████████████████████████| 550/550 [00:47<00:00, 11.58it/s]\n"
     ]
    },
    {
     "name": "stdout",
     "output_type": "stream",
     "text": [
      "R@1 : 73.043\n",
      "R@2 : 78.854\n",
      "R@4 : 83.756\n",
      "R@8 : 87.613\n",
      "R@16 : 91.143\n",
      "R@32 : 93.956\n"
     ]
    },
    {
     "name": "stderr",
     "output_type": "stream",
     "text": [
      "Train Epoch: 28 [549/549 (100%)] Loss: 0.481274: : 549it [02:27,  3.72it/s]\n"
     ]
    },
    {
     "name": "stdout",
     "output_type": "stream",
     "text": [
      "**Evaluating...**\n"
     ]
    },
    {
     "name": "stderr",
     "output_type": "stream",
     "text": [
      "100%|█████████████████████████████████████████| 550/550 [00:47<00:00, 11.58it/s]\n"
     ]
    },
    {
     "name": "stdout",
     "output_type": "stream",
     "text": [
      "R@1 : 73.167\n",
      "R@2 : 78.876\n",
      "R@4 : 83.676\n",
      "R@8 : 87.861\n",
      "R@16 : 91.292\n",
      "R@32 : 93.919\n"
     ]
    },
    {
     "name": "stderr",
     "output_type": "stream",
     "text": [
      "Train Epoch: 29 [549/549 (100%)] Loss: 0.410652: : 549it [02:27,  3.72it/s]\n"
     ]
    },
    {
     "name": "stdout",
     "output_type": "stream",
     "text": [
      "**Evaluating...**\n"
     ]
    },
    {
     "name": "stderr",
     "output_type": "stream",
     "text": [
      "100%|█████████████████████████████████████████| 550/550 [00:47<00:00, 11.58it/s]\n"
     ]
    },
    {
     "name": "stdout",
     "output_type": "stream",
     "text": [
      "R@1 : 72.850\n",
      "R@2 : 78.804\n",
      "R@4 : 83.523\n",
      "R@8 : 87.595\n",
      "R@16 : 91.034\n",
      "R@32 : 93.978\n"
     ]
    },
    {
     "name": "stderr",
     "output_type": "stream",
     "text": [
      "Train Epoch: 30 [549/549 (100%)] Loss: 0.432664: : 549it [02:27,  3.72it/s]\n"
     ]
    },
    {
     "name": "stdout",
     "output_type": "stream",
     "text": [
      "**Evaluating...**\n"
     ]
    },
    {
     "name": "stderr",
     "output_type": "stream",
     "text": [
      "100%|█████████████████████████████████████████| 550/550 [00:47<00:00, 11.57it/s]\n"
     ]
    },
    {
     "name": "stdout",
     "output_type": "stream",
     "text": [
      "R@1 : 73.320\n",
      "R@2 : 78.982\n",
      "R@4 : 84.073\n",
      "R@8 : 87.959\n",
      "R@16 : 91.420\n",
      "R@32 : 94.043\n"
     ]
    },
    {
     "name": "stderr",
     "output_type": "stream",
     "text": [
      "Train Epoch: 31 [549/549 (100%)] Loss: 0.384337: : 549it [02:27,  3.72it/s]\n"
     ]
    },
    {
     "name": "stdout",
     "output_type": "stream",
     "text": [
      "**Evaluating...**\n"
     ]
    },
    {
     "name": "stderr",
     "output_type": "stream",
     "text": [
      "100%|█████████████████████████████████████████| 550/550 [00:47<00:00, 11.58it/s]\n"
     ]
    },
    {
     "name": "stdout",
     "output_type": "stream",
     "text": [
      "R@1 : 73.520\n",
      "R@2 : 79.371\n",
      "R@4 : 84.364\n",
      "R@8 : 88.392\n",
      "R@16 : 91.813\n",
      "R@32 : 94.312\n"
     ]
    },
    {
     "name": "stderr",
     "output_type": "stream",
     "text": [
      "Train Epoch: 32 [549/549 (100%)] Loss: 0.363387: : 549it [02:27,  3.72it/s]\n"
     ]
    },
    {
     "name": "stdout",
     "output_type": "stream",
     "text": [
      "**Evaluating...**\n"
     ]
    },
    {
     "name": "stderr",
     "output_type": "stream",
     "text": [
      "100%|█████████████████████████████████████████| 550/550 [00:47<00:00, 11.57it/s]\n"
     ]
    },
    {
     "name": "stdout",
     "output_type": "stream",
     "text": [
      "R@1 : 73.684\n",
      "R@2 : 79.284\n",
      "R@4 : 84.295\n",
      "R@8 : 88.370\n",
      "R@16 : 91.558\n",
      "R@32 : 94.061\n"
     ]
    },
    {
     "name": "stderr",
     "output_type": "stream",
     "text": [
      "Train Epoch: 33 [549/549 (100%)] Loss: 0.333681: : 549it [02:27,  3.72it/s]\n"
     ]
    },
    {
     "name": "stdout",
     "output_type": "stream",
     "text": [
      "**Evaluating...**\n"
     ]
    },
    {
     "name": "stderr",
     "output_type": "stream",
     "text": [
      "100%|█████████████████████████████████████████| 550/550 [00:47<00:00, 11.58it/s]\n"
     ]
    },
    {
     "name": "stdout",
     "output_type": "stream",
     "text": [
      "R@1 : 73.938\n",
      "R@2 : 79.524\n",
      "R@4 : 84.364\n",
      "R@8 : 88.417\n",
      "R@16 : 91.689\n",
      "R@32 : 94.280\n"
     ]
    },
    {
     "name": "stderr",
     "output_type": "stream",
     "text": [
      "Train Epoch: 34 [549/549 (100%)] Loss: 0.543878: : 549it [02:27,  3.72it/s]\n"
     ]
    },
    {
     "name": "stdout",
     "output_type": "stream",
     "text": [
      "**Evaluating...**\n"
     ]
    },
    {
     "name": "stderr",
     "output_type": "stream",
     "text": [
      "100%|█████████████████████████████████████████| 550/550 [00:47<00:00, 11.59it/s]\n"
     ]
    },
    {
     "name": "stdout",
     "output_type": "stream",
     "text": [
      "R@1 : 73.938\n",
      "R@2 : 79.608\n",
      "R@4 : 84.356\n",
      "R@8 : 88.334\n",
      "R@16 : 91.507\n",
      "R@32 : 94.181\n"
     ]
    },
    {
     "name": "stderr",
     "output_type": "stream",
     "text": [
      "Train Epoch: 35 [549/549 (100%)] Loss: 0.274569: : 549it [02:27,  3.72it/s]\n"
     ]
    },
    {
     "name": "stdout",
     "output_type": "stream",
     "text": [
      "**Evaluating...**\n"
     ]
    },
    {
     "name": "stderr",
     "output_type": "stream",
     "text": [
      "100%|█████████████████████████████████████████| 550/550 [00:47<00:00, 11.58it/s]\n"
     ]
    },
    {
     "name": "stdout",
     "output_type": "stream",
     "text": [
      "R@1 : 74.015\n",
      "R@2 : 79.819\n",
      "R@4 : 84.789\n",
      "R@8 : 88.796\n",
      "R@16 : 91.896\n",
      "R@32 : 94.443\n"
     ]
    },
    {
     "name": "stderr",
     "output_type": "stream",
     "text": [
      "Train Epoch: 36 [549/549 (100%)] Loss: 0.332709: : 549it [02:27,  3.72it/s]\n"
     ]
    },
    {
     "name": "stdout",
     "output_type": "stream",
     "text": [
      "**Evaluating...**\n"
     ]
    },
    {
     "name": "stderr",
     "output_type": "stream",
     "text": [
      "100%|█████████████████████████████████████████| 550/550 [00:47<00:00, 11.59it/s]\n"
     ]
    },
    {
     "name": "stdout",
     "output_type": "stream",
     "text": [
      "R@1 : 74.211\n",
      "R@2 : 80.015\n",
      "R@4 : 84.768\n",
      "R@8 : 88.494\n",
      "R@16 : 91.714\n",
      "R@32 : 94.189\n"
     ]
    },
    {
     "name": "stderr",
     "output_type": "stream",
     "text": [
      "Train Epoch: 37 [549/549 (100%)] Loss: 0.284108: : 549it [02:27,  3.72it/s]\n"
     ]
    },
    {
     "name": "stdout",
     "output_type": "stream",
     "text": [
      "**Evaluating...**\n"
     ]
    },
    {
     "name": "stderr",
     "output_type": "stream",
     "text": [
      "100%|█████████████████████████████████████████| 550/550 [00:47<00:00, 11.58it/s]\n"
     ]
    },
    {
     "name": "stdout",
     "output_type": "stream",
     "text": [
      "R@1 : 74.251\n",
      "R@2 : 79.848\n",
      "R@4 : 84.542\n",
      "R@8 : 88.559\n",
      "R@16 : 91.576\n",
      "R@32 : 94.254\n"
     ]
    },
    {
     "name": "stderr",
     "output_type": "stream",
     "text": [
      "Train Epoch: 38 [549/549 (100%)] Loss: 0.570190: : 549it [02:27,  3.72it/s]\n"
     ]
    },
    {
     "name": "stdout",
     "output_type": "stream",
     "text": [
      "**Evaluating...**\n"
     ]
    },
    {
     "name": "stderr",
     "output_type": "stream",
     "text": [
      "100%|█████████████████████████████████████████| 550/550 [00:47<00:00, 11.59it/s]\n"
     ]
    },
    {
     "name": "stdout",
     "output_type": "stream",
     "text": [
      "R@1 : 74.579\n",
      "R@2 : 80.255\n",
      "R@4 : 84.797\n",
      "R@8 : 88.752\n",
      "R@16 : 91.980\n",
      "R@32 : 94.422\n"
     ]
    },
    {
     "name": "stderr",
     "output_type": "stream",
     "text": [
      "Train Epoch: 39 [549/549 (100%)] Loss: 0.454069: : 549it [02:27,  3.72it/s]\n"
     ]
    },
    {
     "name": "stdout",
     "output_type": "stream",
     "text": [
      "**Evaluating...**\n"
     ]
    },
    {
     "name": "stderr",
     "output_type": "stream",
     "text": [
      "100%|█████████████████████████████████████████| 550/550 [00:47<00:00, 11.59it/s]\n"
     ]
    },
    {
     "name": "stdout",
     "output_type": "stream",
     "text": [
      "R@1 : 73.949\n",
      "R@2 : 79.539\n",
      "R@4 : 84.331\n",
      "R@8 : 88.436\n",
      "R@16 : 91.700\n",
      "R@32 : 94.203\n"
     ]
    },
    {
     "name": "stderr",
     "output_type": "stream",
     "text": [
      "Train Epoch: 40 [549/549 (100%)] Loss: 0.340911: : 549it [02:27,  3.72it/s]\n"
     ]
    },
    {
     "name": "stdout",
     "output_type": "stream",
     "text": [
      "**Evaluating...**\n"
     ]
    },
    {
     "name": "stderr",
     "output_type": "stream",
     "text": [
      "100%|█████████████████████████████████████████| 550/550 [00:47<00:00, 11.59it/s]\n"
     ]
    },
    {
     "name": "stdout",
     "output_type": "stream",
     "text": [
      "R@1 : 74.240\n",
      "R@2 : 79.830\n",
      "R@4 : 84.480\n",
      "R@8 : 88.519\n",
      "R@16 : 91.674\n",
      "R@32 : 94.345\n"
     ]
    },
    {
     "name": "stderr",
     "output_type": "stream",
     "text": [
      "Train Epoch: 41 [549/549 (100%)] Loss: 0.311129: : 549it [02:27,  3.72it/s]\n"
     ]
    },
    {
     "name": "stdout",
     "output_type": "stream",
     "text": [
      "**Evaluating...**\n"
     ]
    },
    {
     "name": "stderr",
     "output_type": "stream",
     "text": [
      "100%|█████████████████████████████████████████| 550/550 [00:47<00:00, 11.57it/s]\n"
     ]
    },
    {
     "name": "stdout",
     "output_type": "stream",
     "text": [
      "R@1 : 74.360\n",
      "R@2 : 80.281\n",
      "R@4 : 85.070\n",
      "R@8 : 88.880\n",
      "R@16 : 92.027\n",
      "R@32 : 94.476\n"
     ]
    },
    {
     "name": "stderr",
     "output_type": "stream",
     "text": [
      "Train Epoch: 42 [549/549 (100%)] Loss: 0.446315: : 549it [02:27,  3.72it/s]\n"
     ]
    },
    {
     "name": "stdout",
     "output_type": "stream",
     "text": [
      "**Evaluating...**\n"
     ]
    },
    {
     "name": "stderr",
     "output_type": "stream",
     "text": [
      "100%|█████████████████████████████████████████| 550/550 [00:47<00:00, 11.57it/s]\n"
     ]
    },
    {
     "name": "stdout",
     "output_type": "stream",
     "text": [
      "R@1 : 74.739\n",
      "R@2 : 80.547\n",
      "R@4 : 85.124\n",
      "R@8 : 88.891\n",
      "R@16 : 92.235\n",
      "R@32 : 94.796\n"
     ]
    },
    {
     "name": "stderr",
     "output_type": "stream",
     "text": [
      "Train Epoch: 43 [549/549 (100%)] Loss: 0.652000: : 549it [02:27,  3.72it/s]\n"
     ]
    },
    {
     "name": "stdout",
     "output_type": "stream",
     "text": [
      "**Evaluating...**\n"
     ]
    },
    {
     "name": "stderr",
     "output_type": "stream",
     "text": [
      "100%|█████████████████████████████████████████| 550/550 [00:47<00:00, 11.58it/s]\n"
     ]
    },
    {
     "name": "stdout",
     "output_type": "stream",
     "text": [
      "R@1 : 74.866\n",
      "R@2 : 80.539\n",
      "R@4 : 85.270\n",
      "R@8 : 89.022\n",
      "R@16 : 92.224\n",
      "R@32 : 94.607\n"
     ]
    },
    {
     "name": "stderr",
     "output_type": "stream",
     "text": [
      "Train Epoch: 44 [549/549 (100%)] Loss: 0.347563: : 549it [02:28,  3.70it/s]\n"
     ]
    },
    {
     "name": "stdout",
     "output_type": "stream",
     "text": [
      "**Evaluating...**\n"
     ]
    },
    {
     "name": "stderr",
     "output_type": "stream",
     "text": [
      "100%|█████████████████████████████████████████| 550/550 [00:50<00:00, 10.96it/s]\n"
     ]
    },
    {
     "name": "stdout",
     "output_type": "stream",
     "text": [
      "R@1 : 74.306\n",
      "R@2 : 80.168\n",
      "R@4 : 84.935\n",
      "R@8 : 88.825\n",
      "R@16 : 91.965\n",
      "R@32 : 94.509\n"
     ]
    },
    {
     "name": "stderr",
     "output_type": "stream",
     "text": [
      "Train Epoch: 45 [549/549 (100%)] Loss: 0.306923: : 549it [02:34,  3.56it/s]\n"
     ]
    },
    {
     "name": "stdout",
     "output_type": "stream",
     "text": [
      "**Evaluating...**\n"
     ]
    },
    {
     "name": "stderr",
     "output_type": "stream",
     "text": [
      "100%|█████████████████████████████████████████| 550/550 [00:47<00:00, 11.60it/s]\n"
     ]
    },
    {
     "name": "stdout",
     "output_type": "stream",
     "text": [
      "R@1 : 74.819\n",
      "R@2 : 80.554\n",
      "R@4 : 85.212\n",
      "R@8 : 88.989\n",
      "R@16 : 92.158\n",
      "R@32 : 94.542\n"
     ]
    },
    {
     "name": "stderr",
     "output_type": "stream",
     "text": [
      "Train Epoch: 46 [549/549 (100%)] Loss: 0.348604: : 549it [02:27,  3.73it/s]\n"
     ]
    },
    {
     "name": "stdout",
     "output_type": "stream",
     "text": [
      "**Evaluating...**\n"
     ]
    },
    {
     "name": "stderr",
     "output_type": "stream",
     "text": [
      "100%|█████████████████████████████████████████| 550/550 [00:47<00:00, 11.61it/s]\n"
     ]
    },
    {
     "name": "stdout",
     "output_type": "stream",
     "text": [
      "R@1 : 75.023\n",
      "R@2 : 80.736\n",
      "R@4 : 85.233\n",
      "R@8 : 88.949\n",
      "R@16 : 92.169\n",
      "R@32 : 94.582\n"
     ]
    },
    {
     "name": "stderr",
     "output_type": "stream",
     "text": [
      "Train Epoch: 47 [549/549 (100%)] Loss: 0.299949: : 549it [02:27,  3.73it/s]\n"
     ]
    },
    {
     "name": "stdout",
     "output_type": "stream",
     "text": [
      "**Evaluating...**\n"
     ]
    },
    {
     "name": "stderr",
     "output_type": "stream",
     "text": [
      "100%|█████████████████████████████████████████| 550/550 [00:47<00:00, 11.59it/s]\n"
     ]
    },
    {
     "name": "stdout",
     "output_type": "stream",
     "text": [
      "R@1 : 74.834\n",
      "R@2 : 80.499\n",
      "R@4 : 85.215\n",
      "R@8 : 89.207\n",
      "R@16 : 92.249\n",
      "R@32 : 94.702\n"
     ]
    },
    {
     "name": "stderr",
     "output_type": "stream",
     "text": [
      "Train Epoch: 48 [549/549 (100%)] Loss: 0.450698: : 549it [02:27,  3.73it/s]\n"
     ]
    },
    {
     "name": "stdout",
     "output_type": "stream",
     "text": [
      "**Evaluating...**\n"
     ]
    },
    {
     "name": "stderr",
     "output_type": "stream",
     "text": [
      "100%|█████████████████████████████████████████| 550/550 [00:47<00:00, 11.61it/s]\n"
     ]
    },
    {
     "name": "stdout",
     "output_type": "stream",
     "text": [
      "R@1 : 74.728\n",
      "R@2 : 80.350\n",
      "R@4 : 84.800\n",
      "R@8 : 88.669\n",
      "R@16 : 91.783\n",
      "R@32 : 94.334\n"
     ]
    },
    {
     "name": "stderr",
     "output_type": "stream",
     "text": [
      "Train Epoch: 49 [549/549 (100%)] Loss: 0.303714: : 549it [02:27,  3.73it/s]\n"
     ]
    },
    {
     "name": "stdout",
     "output_type": "stream",
     "text": [
      "**Evaluating...**\n"
     ]
    },
    {
     "name": "stderr",
     "output_type": "stream",
     "text": [
      "100%|█████████████████████████████████████████| 550/550 [00:47<00:00, 11.60it/s]\n"
     ]
    },
    {
     "name": "stdout",
     "output_type": "stream",
     "text": [
      "R@1 : 74.295\n",
      "R@2 : 80.106\n",
      "R@4 : 84.884\n",
      "R@8 : 88.836\n",
      "R@16 : 91.994\n",
      "R@32 : 94.534\n"
     ]
    },
    {
     "name": "stderr",
     "output_type": "stream",
     "text": [
      "Train Epoch: 50 [549/549 (100%)] Loss: 0.359653: : 549it [02:27,  3.73it/s]\n"
     ]
    },
    {
     "name": "stdout",
     "output_type": "stream",
     "text": [
      "**Evaluating...**\n"
     ]
    },
    {
     "name": "stderr",
     "output_type": "stream",
     "text": [
      "100%|█████████████████████████████████████████| 550/550 [00:47<00:00, 11.60it/s]\n"
     ]
    },
    {
     "name": "stdout",
     "output_type": "stream",
     "text": [
      "R@1 : 74.295\n",
      "R@2 : 80.110\n",
      "R@4 : 84.935\n",
      "R@8 : 88.709\n",
      "R@16 : 91.794\n",
      "R@32 : 94.498\n"
     ]
    },
    {
     "name": "stderr",
     "output_type": "stream",
     "text": [
      "Train Epoch: 51 [549/549 (100%)] Loss: 0.334709: : 549it [02:27,  3.73it/s]\n"
     ]
    },
    {
     "name": "stdout",
     "output_type": "stream",
     "text": [
      "**Evaluating...**\n"
     ]
    },
    {
     "name": "stderr",
     "output_type": "stream",
     "text": [
      "100%|█████████████████████████████████████████| 550/550 [00:47<00:00, 11.60it/s]\n"
     ]
    },
    {
     "name": "stdout",
     "output_type": "stream",
     "text": [
      "R@1 : 74.906\n",
      "R@2 : 80.605\n",
      "R@4 : 85.263\n",
      "R@8 : 89.229\n",
      "R@16 : 92.216\n",
      "R@32 : 94.673\n"
     ]
    },
    {
     "name": "stderr",
     "output_type": "stream",
     "text": [
      "Train Epoch: 52 [549/549 (100%)] Loss: 0.316644: : 549it [02:27,  3.73it/s]\n"
     ]
    },
    {
     "name": "stdout",
     "output_type": "stream",
     "text": [
      "**Evaluating...**\n"
     ]
    },
    {
     "name": "stderr",
     "output_type": "stream",
     "text": [
      "100%|█████████████████████████████████████████| 550/550 [00:47<00:00, 11.60it/s]\n"
     ]
    },
    {
     "name": "stdout",
     "output_type": "stream",
     "text": [
      "R@1 : 74.637\n",
      "R@2 : 80.485\n",
      "R@4 : 85.288\n",
      "R@8 : 89.094\n",
      "R@16 : 92.398\n",
      "R@32 : 94.658\n"
     ]
    },
    {
     "name": "stderr",
     "output_type": "stream",
     "text": [
      "Train Epoch: 53 [549/549 (100%)] Loss: 0.335378: : 549it [02:27,  3.73it/s]\n"
     ]
    },
    {
     "name": "stdout",
     "output_type": "stream",
     "text": [
      "**Evaluating...**\n"
     ]
    },
    {
     "name": "stderr",
     "output_type": "stream",
     "text": [
      "100%|█████████████████████████████████████████| 550/550 [00:47<00:00, 11.60it/s]\n"
     ]
    },
    {
     "name": "stdout",
     "output_type": "stream",
     "text": [
      "R@1 : 74.564\n",
      "R@2 : 80.205\n",
      "R@4 : 84.968\n",
      "R@8 : 88.829\n",
      "R@16 : 91.958\n",
      "R@32 : 94.527\n"
     ]
    },
    {
     "name": "stderr",
     "output_type": "stream",
     "text": [
      "Train Epoch: 54 [549/549 (100%)] Loss: 0.447203: : 549it [02:27,  3.73it/s]\n"
     ]
    },
    {
     "name": "stdout",
     "output_type": "stream",
     "text": [
      "**Evaluating...**\n"
     ]
    },
    {
     "name": "stderr",
     "output_type": "stream",
     "text": [
      "100%|█████████████████████████████████████████| 550/550 [00:47<00:00, 11.60it/s]\n"
     ]
    },
    {
     "name": "stdout",
     "output_type": "stream",
     "text": [
      "R@1 : 74.550\n",
      "R@2 : 80.230\n",
      "R@4 : 84.877\n",
      "R@8 : 88.574\n",
      "R@16 : 91.856\n",
      "R@32 : 94.527\n"
     ]
    },
    {
     "name": "stderr",
     "output_type": "stream",
     "text": [
      "Train Epoch: 55 [549/549 (100%)] Loss: 0.393831: : 549it [02:27,  3.73it/s]\n"
     ]
    },
    {
     "name": "stdout",
     "output_type": "stream",
     "text": [
      "**Evaluating...**\n"
     ]
    },
    {
     "name": "stderr",
     "output_type": "stream",
     "text": [
      "100%|█████████████████████████████████████████| 550/550 [00:47<00:00, 11.61it/s]\n"
     ]
    },
    {
     "name": "stdout",
     "output_type": "stream",
     "text": [
      "R@1 : 75.052\n",
      "R@2 : 80.790\n",
      "R@4 : 85.233\n",
      "R@8 : 88.883\n",
      "R@16 : 92.129\n",
      "R@32 : 94.669\n"
     ]
    },
    {
     "name": "stderr",
     "output_type": "stream",
     "text": [
      "Train Epoch: 56 [549/549 (100%)] Loss: 0.340469: : 549it [02:27,  3.73it/s]\n"
     ]
    },
    {
     "name": "stdout",
     "output_type": "stream",
     "text": [
      "**Evaluating...**\n"
     ]
    },
    {
     "name": "stderr",
     "output_type": "stream",
     "text": [
      "100%|█████████████████████████████████████████| 550/550 [00:47<00:00, 11.59it/s]\n"
     ]
    },
    {
     "name": "stdout",
     "output_type": "stream",
     "text": [
      "R@1 : 74.793\n",
      "R@2 : 80.354\n",
      "R@4 : 84.899\n",
      "R@8 : 88.730\n",
      "R@16 : 91.838\n",
      "R@32 : 94.440\n"
     ]
    },
    {
     "name": "stderr",
     "output_type": "stream",
     "text": [
      "Train Epoch: 57 [549/549 (100%)] Loss: 0.334977: : 549it [02:27,  3.73it/s]\n"
     ]
    },
    {
     "name": "stdout",
     "output_type": "stream",
     "text": [
      "**Evaluating...**\n"
     ]
    },
    {
     "name": "stderr",
     "output_type": "stream",
     "text": [
      "100%|█████████████████████████████████████████| 550/550 [00:47<00:00, 11.60it/s]\n"
     ]
    },
    {
     "name": "stdout",
     "output_type": "stream",
     "text": [
      "R@1 : 74.739\n",
      "R@2 : 80.426\n",
      "R@4 : 85.102\n",
      "R@8 : 88.974\n",
      "R@16 : 92.064\n",
      "R@32 : 94.483\n"
     ]
    },
    {
     "name": "stderr",
     "output_type": "stream",
     "text": [
      "Train Epoch: 58 [549/549 (100%)] Loss: 0.299106: : 549it [02:27,  3.73it/s]\n"
     ]
    },
    {
     "name": "stdout",
     "output_type": "stream",
     "text": [
      "**Evaluating...**\n"
     ]
    },
    {
     "name": "stderr",
     "output_type": "stream",
     "text": [
      "100%|█████████████████████████████████████████| 550/550 [00:47<00:00, 11.60it/s]\n"
     ]
    },
    {
     "name": "stdout",
     "output_type": "stream",
     "text": [
      "R@1 : 74.979\n",
      "R@2 : 80.619\n",
      "R@4 : 85.270\n",
      "R@8 : 88.996\n",
      "R@16 : 92.082\n",
      "R@32 : 94.483\n"
     ]
    },
    {
     "name": "stderr",
     "output_type": "stream",
     "text": [
      "Train Epoch: 59 [549/549 (100%)] Loss: 0.387693: : 549it [02:27,  3.73it/s]\n"
     ]
    },
    {
     "name": "stdout",
     "output_type": "stream",
     "text": [
      "**Evaluating...**\n"
     ]
    },
    {
     "name": "stderr",
     "output_type": "stream",
     "text": [
      "100%|█████████████████████████████████████████| 550/550 [00:49<00:00, 11.10it/s]\n"
     ]
    },
    {
     "name": "stdout",
     "output_type": "stream",
     "text": [
      "R@1 : 74.630\n",
      "R@2 : 80.310\n",
      "R@4 : 85.084\n",
      "R@8 : 88.876\n",
      "R@16 : 92.169\n",
      "R@32 : 94.720\n"
     ]
    }
   ],
   "source": [
    "best_recall=[0]\n",
    "log = {}\n",
    "for epoch in range(0, 60):\n",
    "    model.train()\n",
    "    bn_freeze = True\n",
    "\n",
    "    if bn_freeze:\n",
    "            modules = model.modules()\n",
    "            for m in modules: \n",
    "                if isinstance(m, nn.BatchNorm2d):\n",
    "                    m.eval()\n",
    "\n",
    "    losses_per_epoch = []\n",
    "    unfreeze_model_param = list(model.fc.parameters()) + list(criterion.parameters())\n",
    "\n",
    "    if epoch == 0:\n",
    "        for param in list(set(model.parameters()).difference(set(unfreeze_model_param))):\n",
    "            param.requires_grad = False\n",
    "    if epoch == 1:\n",
    "        for param in list(set(model.parameters()).difference(set(unfreeze_model_param))):\n",
    "            param.requires_grad = True\n",
    "\n",
    "    pbar = tqdm(enumerate(dl_tr))\n",
    "\n",
    "    for batch_idx, (x, y) in pbar:                         \n",
    "        m = model(x.squeeze().cuda())\n",
    "        loss = criterion(m, y.squeeze().cuda())\n",
    "        \n",
    "        opt.zero_grad()\n",
    "        loss.backward()\n",
    "        \n",
    "        torch.nn.utils.clip_grad_value_(model.parameters(), 10)\n",
    "        \n",
    "        torch.nn.utils.clip_grad_value_(criterion.parameters(), 10)\n",
    "\n",
    "        losses_per_epoch.append(loss.data.cpu().numpy())\n",
    "        opt.step()\n",
    "\n",
    "        pbar.set_description(\n",
    "            'Train Epoch: {} [{}/{} ({:.0f}%)] Loss: {:.6f}'.format(\n",
    "                epoch, batch_idx + 1, len(dl_tr),\n",
    "                100. * batch_idx / len(dl_tr),\n",
    "                loss.item()))\n",
    "    scheduler.step()\n",
    "    \n",
    "    if(epoch >= 0):\n",
    "        with torch.no_grad():\n",
    "            print(\"**Evaluating...**\")\n",
    "            Recalls = utils.evaluate_cos(model, dl_ev)\n",
    "        if best_recall[0] < Recalls[0]:\n",
    "            best_recall = Recalls\n",
    "            best_epoch = epoch\n",
    "            if not os.path.exists(model_dir):\n",
    "                os.makedirs(model_dir)\n",
    "            torch.save({'model_state_dict':model.state_dict()}, '{}/{}_best.pth'.format(model_dir, model_name))\n",
    "            with open('{}/{}_best_results.txt'.format(model_dir, model_name), 'w') as f:\n",
    "                f.write('Best Epoch: {}\\n'.format(best_epoch))\n",
    "                for i in range(6):\n",
    "                    f.write(\"Best Recall@{}: {:.4f}\\n\".format(2**i, best_recall[i] * 100))"
   ]
  }
 ],
 "metadata": {
  "kernelspec": {
   "display_name": "Python 3 (ipykernel)",
   "language": "python",
   "name": "python3"
  },
  "language_info": {
   "codemirror_mode": {
    "name": "ipython",
    "version": 3
   },
   "file_extension": ".py",
   "mimetype": "text/x-python",
   "name": "python",
   "nbconvert_exporter": "python",
   "pygments_lexer": "ipython3",
   "version": "3.9.18"
  }
 },
 "nbformat": 4,
 "nbformat_minor": 5
}
