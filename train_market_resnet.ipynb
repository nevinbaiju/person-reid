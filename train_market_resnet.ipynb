{
 "cells": [
  {
   "cell_type": "code",
   "execution_count": 1,
   "id": "dd117a25-51f7-4b37-80dd-57601c645fe7",
   "metadata": {},
   "outputs": [],
   "source": [
    "import torch, math, time, argparse, os\n",
    "import random, dataset, utils, losses, net\n",
    "import numpy as np\n",
    "\n",
    "from dataset.market import Market\n",
    "from net.resnet import *\n",
    "from net.googlenet import *\n",
    "from net.bn_inception import *\n",
    "from dataset import sampler\n",
    "from torch.utils.data.sampler import BatchSampler\n",
    "from torch.utils.data.dataloader import default_collate\n",
    "\n",
    "from tqdm import *\n",
    "import wandb"
   ]
  },
  {
   "cell_type": "code",
   "execution_count": 2,
   "id": "9b68c83a-1a81-444f-aa00-51349c5ecca5",
   "metadata": {},
   "outputs": [],
   "source": [
    "seed = 1\n",
    "random.seed(seed)\n",
    "np.random.seed(seed)\n",
    "torch.manual_seed(seed)\n",
    "torch.cuda.manual_seed_all(seed)"
   ]
  },
  {
   "cell_type": "code",
   "execution_count": 3,
   "id": "0de986bb-fec0-4e9a-b128-8144593a4615",
   "metadata": {},
   "outputs": [],
   "source": [
    "LOG_DIR = '.'\n",
    "trn_dataset = dataset.load('market', '../ITCS-5145-CV/learning/Market-1501-v15.09.15/', 'train', transform = dataset.utils.make_transform(\n",
    "                                                                                                                        is_train = True, \n",
    "                                                                                                                        is_inception = False))"
   ]
  },
  {
   "cell_type": "code",
   "execution_count": 4,
   "id": "fe096192-8b04-4ee1-8e3e-0e9ce965ec0e",
   "metadata": {},
   "outputs": [],
   "source": [
    "dl_tr = torch.utils.data.DataLoader(\n",
    "        trn_dataset,\n",
    "        batch_size = 50,\n",
    "        shuffle = True,\n",
    "        num_workers = 4,\n",
    "        drop_last = True,\n",
    "        pin_memory = True\n",
    "    )"
   ]
  },
  {
   "cell_type": "code",
   "execution_count": 5,
   "id": "46516afa-f077-4d5e-ad4a-eb73858068dc",
   "metadata": {},
   "outputs": [],
   "source": [
    "eval_dataset = dataset.load('market', '../ITCS-5145-CV/learning/Market-1501-v15.09.15/', 'train', transform = dataset.utils.make_transform(\n",
    "                                                                                                                        is_train = True, \n",
    "                                                                                                                        is_inception = False))\n",
    "\n",
    "dl_ev = torch.utils.data.DataLoader(\n",
    "        eval_dataset,\n",
    "        batch_size = 50,\n",
    "        shuffle = False,\n",
    "        num_workers = 4,\n",
    "        pin_memory = True\n",
    ")"
   ]
  },
  {
   "cell_type": "code",
   "execution_count": 6,
   "id": "61bf8ce8-11a7-4f5c-8f4d-27eae79c40c1",
   "metadata": {},
   "outputs": [],
   "source": [
    "model_name = 'resnet50'"
   ]
  },
  {
   "cell_type": "code",
   "execution_count": 8,
   "id": "e09b2d13-d22e-4d91-a519-a8971ba45bad",
   "metadata": {},
   "outputs": [
    {
     "name": "stderr",
     "output_type": "stream",
     "text": [
      "/home/nevin/anaconda3/envs/cv/lib/python3.9/site-packages/torchvision/models/_utils.py:135: UserWarning: Using 'weights' as positional parameter(s) is deprecated since 0.13 and may be removed in the future. Please use keyword parameter(s) instead.\n",
      "  warnings.warn(\n",
      "/home/nevin/anaconda3/envs/cv/lib/python3.9/site-packages/torchvision/models/_utils.py:223: UserWarning: Arguments other than a weight enum or `None` for 'weights' are deprecated since 0.13 and may be removed in the future. The current behavior is equivalent to passing `weights=ResNet50_Weights.IMAGENET1K_V1`. You can also use `weights=ResNet50_Weights.DEFAULT` to get the most up-to-date weights.\n",
      "  warnings.warn(msg)\n"
     ]
    }
   ],
   "source": [
    "if model_name == 'resnet50':\n",
    "    model = Resnet50(embedding_size=512, pretrained=True, is_norm=1, bn_freeze =1).cuda()"
   ]
  },
  {
   "cell_type": "code",
   "execution_count": 9,
   "id": "aa815ea5-c86f-4e64-9dfb-bdd71319837c",
   "metadata": {},
   "outputs": [],
   "source": [
    "criterion = losses.Proxy_Anchor(nb_classes = trn_dataset.nb_classes(), sz_embed = 512, mrg = 0.1, alpha = 32).cuda()"
   ]
  },
  {
   "cell_type": "code",
   "execution_count": 10,
   "id": "1d82987f-a60d-4672-8eb6-cc87035cb22e",
   "metadata": {},
   "outputs": [],
   "source": [
    "param_groups = [\n",
    "    {'params': list(set(model.parameters()).difference(set(model.model.embedding.parameters())))},\n",
    "    {'params': model.model.embedding.parameters(), 'lr':float(1e-4) * 1},\n",
    "]\n",
    "param_groups.append({'params': criterion.parameters(), 'lr':float(1e-4) * 100})"
   ]
  },
  {
   "cell_type": "code",
   "execution_count": 11,
   "id": "39029af3-6b21-4cd2-8dd0-d3d1db46d109",
   "metadata": {},
   "outputs": [],
   "source": [
    "opt = torch.optim.AdamW(param_groups, lr=float(1e-4), weight_decay = 1e-4)"
   ]
  },
  {
   "cell_type": "code",
   "execution_count": 12,
   "id": "00b75ef9-d5d0-48c1-a6fa-d80b64139414",
   "metadata": {},
   "outputs": [],
   "source": [
    "scheduler = torch.optim.lr_scheduler.StepLR(opt, step_size=10, gamma = 0.5)"
   ]
  },
  {
   "cell_type": "code",
   "execution_count": 13,
   "id": "0b4b8894-c782-41a7-a070-0cd9030ede22",
   "metadata": {},
   "outputs": [],
   "source": [
    "model_dir = 'models'"
   ]
  },
  {
   "cell_type": "code",
   "execution_count": 27,
   "id": "405de8ba-1e69-4f04-9b8a-1d995e5cfa7e",
   "metadata": {},
   "outputs": [
    {
     "name": "stderr",
     "output_type": "stream",
     "text": [
      "Train Epoch: 0 [549/549 (100%)] Loss: 2.359023: : 549it [00:52, 10.52it/s]\n"
     ]
    },
    {
     "name": "stdout",
     "output_type": "stream",
     "text": [
      "**Evaluating...**\n"
     ]
    },
    {
     "name": "stderr",
     "output_type": "stream",
     "text": [
      "100%|█████████████████████████████████████████| 550/550 [00:49<00:00, 11.09it/s]\n"
     ]
    },
    {
     "name": "stdout",
     "output_type": "stream",
     "text": [
      "R@1 : 23.467\n",
      "R@2 : 29.184\n",
      "R@4 : 35.552\n",
      "R@8 : 42.830\n",
      "R@16 : 50.791\n",
      "R@32 : 59.568\n"
     ]
    },
    {
     "name": "stderr",
     "output_type": "stream",
     "text": [
      "Train Epoch: 1 [549/549 (100%)] Loss: 1.572577: : 549it [02:29,  3.67it/s]\n"
     ]
    },
    {
     "name": "stdout",
     "output_type": "stream",
     "text": [
      "**Evaluating...**\n"
     ]
    },
    {
     "name": "stderr",
     "output_type": "stream",
     "text": [
      "100%|█████████████████████████████████████████| 550/550 [00:49<00:00, 11.07it/s]\n"
     ]
    },
    {
     "name": "stdout",
     "output_type": "stream",
     "text": [
      "R@1 : 53.804\n",
      "R@2 : 60.787\n",
      "R@4 : 67.356\n",
      "R@8 : 73.243\n",
      "R@16 : 79.080\n",
      "R@32 : 84.080\n"
     ]
    },
    {
     "name": "stderr",
     "output_type": "stream",
     "text": [
      "Train Epoch: 2 [549/549 (100%)] Loss: 1.335792: : 549it [02:29,  3.68it/s]\n"
     ]
    },
    {
     "name": "stdout",
     "output_type": "stream",
     "text": [
      "**Evaluating...**\n"
     ]
    },
    {
     "name": "stderr",
     "output_type": "stream",
     "text": [
      "100%|█████████████████████████████████████████| 550/550 [00:49<00:00, 11.08it/s]\n"
     ]
    },
    {
     "name": "stdout",
     "output_type": "stream",
     "text": [
      "R@1 : 57.942\n",
      "R@2 : 64.717\n",
      "R@4 : 71.031\n",
      "R@8 : 76.839\n",
      "R@16 : 82.068\n",
      "R@32 : 86.452\n"
     ]
    },
    {
     "name": "stderr",
     "output_type": "stream",
     "text": [
      "Train Epoch: 3 [549/549 (100%)] Loss: 1.146981: : 549it [02:29,  3.68it/s]\n"
     ]
    },
    {
     "name": "stdout",
     "output_type": "stream",
     "text": [
      "**Evaluating...**\n"
     ]
    },
    {
     "name": "stderr",
     "output_type": "stream",
     "text": [
      "100%|█████████████████████████████████████████| 550/550 [00:49<00:00, 11.07it/s]\n"
     ]
    },
    {
     "name": "stdout",
     "output_type": "stream",
     "text": [
      "R@1 : 60.744\n",
      "R@2 : 67.592\n",
      "R@4 : 73.458\n",
      "R@8 : 78.720\n",
      "R@16 : 83.560\n",
      "R@32 : 87.933\n"
     ]
    },
    {
     "name": "stderr",
     "output_type": "stream",
     "text": [
      "Train Epoch: 4 [549/549 (100%)] Loss: 1.095672: : 549it [02:29,  3.68it/s]\n"
     ]
    },
    {
     "name": "stdout",
     "output_type": "stream",
     "text": [
      "**Evaluating...**\n"
     ]
    },
    {
     "name": "stderr",
     "output_type": "stream",
     "text": [
      "100%|█████████████████████████████████████████| 550/550 [00:49<00:00, 11.07it/s]\n"
     ]
    },
    {
     "name": "stdout",
     "output_type": "stream",
     "text": [
      "R@1 : 62.461\n",
      "R@2 : 69.091\n",
      "R@4 : 74.881\n",
      "R@8 : 79.997\n",
      "R@16 : 84.589\n",
      "R@32 : 88.505\n"
     ]
    },
    {
     "name": "stderr",
     "output_type": "stream",
     "text": [
      "Train Epoch: 5 [549/549 (100%)] Loss: 0.871683: : 549it [02:29,  3.68it/s]\n"
     ]
    },
    {
     "name": "stdout",
     "output_type": "stream",
     "text": [
      "**Evaluating...**\n"
     ]
    },
    {
     "name": "stderr",
     "output_type": "stream",
     "text": [
      "100%|█████████████████████████████████████████| 550/550 [00:49<00:00, 11.07it/s]\n"
     ]
    },
    {
     "name": "stdout",
     "output_type": "stream",
     "text": [
      "R@1 : 64.568\n",
      "R@2 : 71.104\n",
      "R@4 : 76.547\n",
      "R@8 : 81.562\n",
      "R@16 : 86.150\n",
      "R@32 : 89.960\n"
     ]
    },
    {
     "name": "stderr",
     "output_type": "stream",
     "text": [
      "Train Epoch: 6 [549/549 (100%)] Loss: 0.813018: : 549it [02:29,  3.68it/s]\n"
     ]
    },
    {
     "name": "stdout",
     "output_type": "stream",
     "text": [
      "**Evaluating...**\n"
     ]
    },
    {
     "name": "stderr",
     "output_type": "stream",
     "text": [
      "100%|█████████████████████████████████████████| 550/550 [00:49<00:00, 11.06it/s]\n"
     ]
    },
    {
     "name": "stdout",
     "output_type": "stream",
     "text": [
      "R@1 : 66.158\n",
      "R@2 : 72.603\n",
      "R@4 : 78.098\n",
      "R@8 : 83.032\n",
      "R@16 : 87.104\n",
      "R@32 : 90.725\n"
     ]
    },
    {
     "name": "stderr",
     "output_type": "stream",
     "text": [
      "Train Epoch: 7 [549/549 (100%)] Loss: 0.742974: : 549it [02:29,  3.68it/s]\n"
     ]
    },
    {
     "name": "stdout",
     "output_type": "stream",
     "text": [
      "**Evaluating...**\n"
     ]
    },
    {
     "name": "stderr",
     "output_type": "stream",
     "text": [
      "100%|█████████████████████████████████████████| 550/550 [00:49<00:00, 11.08it/s]\n"
     ]
    },
    {
     "name": "stdout",
     "output_type": "stream",
     "text": [
      "R@1 : 66.613\n",
      "R@2 : 73.265\n",
      "R@4 : 79.011\n",
      "R@8 : 83.865\n",
      "R@16 : 87.995\n",
      "R@32 : 91.409\n"
     ]
    },
    {
     "name": "stderr",
     "output_type": "stream",
     "text": [
      "Train Epoch: 8 [549/549 (100%)] Loss: 0.870985: : 549it [02:29,  3.68it/s]\n"
     ]
    },
    {
     "name": "stdout",
     "output_type": "stream",
     "text": [
      "**Evaluating...**\n"
     ]
    },
    {
     "name": "stderr",
     "output_type": "stream",
     "text": [
      "100%|█████████████████████████████████████████| 550/550 [00:49<00:00, 11.07it/s]\n"
     ]
    },
    {
     "name": "stdout",
     "output_type": "stream",
     "text": [
      "R@1 : 68.207\n",
      "R@2 : 74.386\n",
      "R@4 : 79.644\n",
      "R@8 : 84.094\n",
      "R@16 : 88.072\n",
      "R@32 : 91.401\n"
     ]
    },
    {
     "name": "stderr",
     "output_type": "stream",
     "text": [
      "Train Epoch: 9 [549/549 (100%)] Loss: 0.657853: : 549it [02:29,  3.68it/s]\n"
     ]
    },
    {
     "name": "stdout",
     "output_type": "stream",
     "text": [
      "**Evaluating...**\n"
     ]
    },
    {
     "name": "stderr",
     "output_type": "stream",
     "text": [
      "100%|█████████████████████████████████████████| 550/550 [00:49<00:00, 11.07it/s]\n"
     ]
    },
    {
     "name": "stdout",
     "output_type": "stream",
     "text": [
      "R@1 : 70.783\n",
      "R@2 : 76.693\n",
      "R@4 : 81.769\n",
      "R@8 : 85.947\n",
      "R@16 : 89.611\n",
      "R@32 : 92.642\n"
     ]
    },
    {
     "name": "stderr",
     "output_type": "stream",
     "text": [
      "Train Epoch: 10 [549/549 (100%)] Loss: 0.609130: : 549it [02:29,  3.68it/s]\n"
     ]
    },
    {
     "name": "stdout",
     "output_type": "stream",
     "text": [
      "**Evaluating...**\n"
     ]
    },
    {
     "name": "stderr",
     "output_type": "stream",
     "text": [
      "100%|█████████████████████████████████████████| 550/550 [00:49<00:00, 11.07it/s]\n"
     ]
    },
    {
     "name": "stdout",
     "output_type": "stream",
     "text": [
      "R@1 : 72.385\n",
      "R@2 : 78.094\n",
      "R@4 : 83.050\n",
      "R@8 : 87.031\n",
      "R@16 : 90.528\n",
      "R@32 : 93.475\n"
     ]
    },
    {
     "name": "stderr",
     "output_type": "stream",
     "text": [
      "Train Epoch: 11 [549/549 (100%)] Loss: 0.631427: : 549it [02:29,  3.68it/s]\n"
     ]
    },
    {
     "name": "stdout",
     "output_type": "stream",
     "text": [
      "**Evaluating...**\n"
     ]
    },
    {
     "name": "stderr",
     "output_type": "stream",
     "text": [
      "100%|█████████████████████████████████████████| 550/550 [00:49<00:00, 11.06it/s]\n"
     ]
    },
    {
     "name": "stdout",
     "output_type": "stream",
     "text": [
      "R@1 : 72.869\n",
      "R@2 : 78.494\n",
      "R@4 : 83.152\n",
      "R@8 : 87.238\n",
      "R@16 : 90.594\n",
      "R@32 : 93.254\n"
     ]
    },
    {
     "name": "stderr",
     "output_type": "stream",
     "text": [
      "Train Epoch: 12 [549/549 (100%)] Loss: 0.518400: : 549it [02:29,  3.68it/s]\n"
     ]
    },
    {
     "name": "stdout",
     "output_type": "stream",
     "text": [
      "**Evaluating...**\n"
     ]
    },
    {
     "name": "stderr",
     "output_type": "stream",
     "text": [
      "100%|█████████████████████████████████████████| 550/550 [00:49<00:00, 11.10it/s]\n"
     ]
    },
    {
     "name": "stdout",
     "output_type": "stream",
     "text": [
      "R@1 : 72.770\n",
      "R@2 : 78.633\n",
      "R@4 : 83.338\n",
      "R@8 : 87.417\n",
      "R@16 : 90.888\n",
      "R@32 : 93.774\n"
     ]
    },
    {
     "name": "stderr",
     "output_type": "stream",
     "text": [
      "Train Epoch: 13 [549/549 (100%)] Loss: 0.408567: : 549it [02:28,  3.69it/s]\n"
     ]
    },
    {
     "name": "stdout",
     "output_type": "stream",
     "text": [
      "**Evaluating...**\n"
     ]
    },
    {
     "name": "stderr",
     "output_type": "stream",
     "text": [
      "100%|█████████████████████████████████████████| 550/550 [00:49<00:00, 11.10it/s]\n"
     ]
    },
    {
     "name": "stdout",
     "output_type": "stream",
     "text": [
      "R@1 : 73.491\n",
      "R@2 : 79.142\n",
      "R@4 : 83.869\n",
      "R@8 : 87.799\n",
      "R@16 : 91.048\n",
      "R@32 : 93.785\n"
     ]
    },
    {
     "name": "stderr",
     "output_type": "stream",
     "text": [
      "Train Epoch: 14 [549/549 (100%)] Loss: 0.393018: : 549it [02:28,  3.69it/s]\n"
     ]
    },
    {
     "name": "stdout",
     "output_type": "stream",
     "text": [
      "**Evaluating...**\n"
     ]
    },
    {
     "name": "stderr",
     "output_type": "stream",
     "text": [
      "100%|█████████████████████████████████████████| 550/550 [00:49<00:00, 11.11it/s]\n"
     ]
    },
    {
     "name": "stdout",
     "output_type": "stream",
     "text": [
      "R@1 : 74.091\n",
      "R@2 : 79.728\n",
      "R@4 : 84.422\n",
      "R@8 : 88.290\n",
      "R@16 : 91.674\n",
      "R@32 : 94.291\n"
     ]
    },
    {
     "name": "stderr",
     "output_type": "stream",
     "text": [
      "Train Epoch: 15 [549/549 (100%)] Loss: 0.580796: : 549it [02:28,  3.69it/s]\n"
     ]
    },
    {
     "name": "stdout",
     "output_type": "stream",
     "text": [
      "**Evaluating...**\n"
     ]
    },
    {
     "name": "stderr",
     "output_type": "stream",
     "text": [
      "100%|█████████████████████████████████████████| 550/550 [00:49<00:00, 11.11it/s]\n"
     ]
    },
    {
     "name": "stdout",
     "output_type": "stream",
     "text": [
      "R@1 : 74.011\n",
      "R@2 : 79.637\n",
      "R@4 : 84.484\n",
      "R@8 : 88.381\n",
      "R@16 : 91.682\n",
      "R@32 : 94.276\n"
     ]
    },
    {
     "name": "stderr",
     "output_type": "stream",
     "text": [
      "Train Epoch: 16 [549/549 (100%)] Loss: 0.424468: : 549it [02:28,  3.69it/s]\n"
     ]
    },
    {
     "name": "stdout",
     "output_type": "stream",
     "text": [
      "**Evaluating...**\n"
     ]
    },
    {
     "name": "stderr",
     "output_type": "stream",
     "text": [
      "100%|█████████████████████████████████████████| 550/550 [00:49<00:00, 11.11it/s]\n"
     ]
    },
    {
     "name": "stdout",
     "output_type": "stream",
     "text": [
      "R@1 : 74.965\n",
      "R@2 : 80.474\n",
      "R@4 : 85.150\n",
      "R@8 : 88.807\n",
      "R@16 : 92.129\n",
      "R@32 : 94.731\n"
     ]
    },
    {
     "name": "stderr",
     "output_type": "stream",
     "text": [
      "Train Epoch: 17 [549/549 (100%)] Loss: 0.500823: : 549it [02:28,  3.69it/s]\n"
     ]
    },
    {
     "name": "stdout",
     "output_type": "stream",
     "text": [
      "**Evaluating...**\n"
     ]
    },
    {
     "name": "stderr",
     "output_type": "stream",
     "text": [
      "100%|█████████████████████████████████████████| 550/550 [00:49<00:00, 11.11it/s]\n"
     ]
    },
    {
     "name": "stdout",
     "output_type": "stream",
     "text": [
      "R@1 : 74.426\n",
      "R@2 : 80.426\n",
      "R@4 : 85.011\n",
      "R@8 : 88.829\n",
      "R@16 : 91.922\n",
      "R@32 : 94.440\n"
     ]
    },
    {
     "name": "stderr",
     "output_type": "stream",
     "text": [
      "Train Epoch: 18 [549/549 (100%)] Loss: 0.564353: : 549it [02:28,  3.69it/s]\n"
     ]
    },
    {
     "name": "stdout",
     "output_type": "stream",
     "text": [
      "**Evaluating...**\n"
     ]
    },
    {
     "name": "stderr",
     "output_type": "stream",
     "text": [
      "100%|█████████████████████████████████████████| 550/550 [00:49<00:00, 11.10it/s]\n"
     ]
    },
    {
     "name": "stdout",
     "output_type": "stream",
     "text": [
      "R@1 : 74.895\n",
      "R@2 : 80.452\n",
      "R@4 : 84.986\n",
      "R@8 : 89.080\n",
      "R@16 : 92.304\n",
      "R@32 : 94.716\n"
     ]
    },
    {
     "name": "stderr",
     "output_type": "stream",
     "text": [
      "Train Epoch: 19 [549/549 (100%)] Loss: 0.415564: : 549it [02:28,  3.69it/s]\n"
     ]
    },
    {
     "name": "stdout",
     "output_type": "stream",
     "text": [
      "**Evaluating...**\n"
     ]
    },
    {
     "name": "stderr",
     "output_type": "stream",
     "text": [
      "100%|█████████████████████████████████████████| 550/550 [00:49<00:00, 11.11it/s]\n"
     ]
    },
    {
     "name": "stdout",
     "output_type": "stream",
     "text": [
      "R@1 : 76.799\n",
      "R@2 : 82.079\n",
      "R@4 : 86.722\n",
      "R@8 : 90.048\n",
      "R@16 : 92.933\n",
      "R@32 : 95.306\n"
     ]
    },
    {
     "name": "stderr",
     "output_type": "stream",
     "text": [
      "Train Epoch: 20 [549/549 (100%)] Loss: 0.340005: : 549it [02:28,  3.69it/s]\n"
     ]
    },
    {
     "name": "stdout",
     "output_type": "stream",
     "text": [
      "**Evaluating...**\n"
     ]
    },
    {
     "name": "stderr",
     "output_type": "stream",
     "text": [
      "100%|█████████████████████████████████████████| 550/550 [00:49<00:00, 11.10it/s]\n"
     ]
    },
    {
     "name": "stdout",
     "output_type": "stream",
     "text": [
      "R@1 : 76.511\n",
      "R@2 : 82.046\n",
      "R@4 : 86.438\n",
      "R@8 : 90.077\n",
      "R@16 : 93.082\n",
      "R@32 : 95.353\n"
     ]
    },
    {
     "name": "stderr",
     "output_type": "stream",
     "text": [
      "Train Epoch: 21 [549/549 (100%)] Loss: 0.469753: : 549it [02:28,  3.69it/s]\n"
     ]
    },
    {
     "name": "stdout",
     "output_type": "stream",
     "text": [
      "**Evaluating...**\n"
     ]
    },
    {
     "name": "stderr",
     "output_type": "stream",
     "text": [
      "100%|█████████████████████████████████████████| 550/550 [00:49<00:00, 11.11it/s]\n"
     ]
    },
    {
     "name": "stdout",
     "output_type": "stream",
     "text": [
      "R@1 : 76.897\n",
      "R@2 : 82.049\n",
      "R@4 : 86.409\n",
      "R@8 : 90.135\n",
      "R@16 : 93.101\n",
      "R@32 : 95.422\n"
     ]
    },
    {
     "name": "stderr",
     "output_type": "stream",
     "text": [
      "Train Epoch: 22 [549/549 (100%)] Loss: 0.367866: : 549it [02:28,  3.69it/s]\n"
     ]
    },
    {
     "name": "stdout",
     "output_type": "stream",
     "text": [
      "**Evaluating...**\n"
     ]
    },
    {
     "name": "stderr",
     "output_type": "stream",
     "text": [
      "100%|█████████████████████████████████████████| 550/550 [00:49<00:00, 11.10it/s]\n"
     ]
    },
    {
     "name": "stdout",
     "output_type": "stream",
     "text": [
      "R@1 : 77.006\n",
      "R@2 : 82.119\n",
      "R@4 : 86.562\n",
      "R@8 : 90.062\n",
      "R@16 : 92.948\n",
      "R@32 : 95.157\n"
     ]
    },
    {
     "name": "stderr",
     "output_type": "stream",
     "text": [
      "Train Epoch: 23 [549/549 (100%)] Loss: 0.262938: : 549it [02:28,  3.69it/s]\n"
     ]
    },
    {
     "name": "stdout",
     "output_type": "stream",
     "text": [
      "**Evaluating...**\n"
     ]
    },
    {
     "name": "stderr",
     "output_type": "stream",
     "text": [
      "100%|█████████████████████████████████████████| 550/550 [00:49<00:00, 11.11it/s]\n"
     ]
    },
    {
     "name": "stdout",
     "output_type": "stream",
     "text": [
      "R@1 : 77.228\n",
      "R@2 : 82.774\n",
      "R@4 : 87.053\n",
      "R@8 : 90.495\n",
      "R@16 : 93.137\n",
      "R@32 : 95.397\n"
     ]
    },
    {
     "name": "stderr",
     "output_type": "stream",
     "text": [
      "Train Epoch: 24 [549/549 (100%)] Loss: 0.262215: : 549it [02:28,  3.69it/s]\n"
     ]
    },
    {
     "name": "stdout",
     "output_type": "stream",
     "text": [
      "**Evaluating...**\n"
     ]
    },
    {
     "name": "stderr",
     "output_type": "stream",
     "text": [
      "100%|█████████████████████████████████████████| 550/550 [00:49<00:00, 11.11it/s]\n"
     ]
    },
    {
     "name": "stdout",
     "output_type": "stream",
     "text": [
      "R@1 : 78.374\n",
      "R@2 : 83.396\n",
      "R@4 : 87.591\n",
      "R@8 : 90.848\n",
      "R@16 : 93.639\n",
      "R@32 : 95.837\n"
     ]
    },
    {
     "name": "stderr",
     "output_type": "stream",
     "text": [
      "Train Epoch: 25 [549/549 (100%)] Loss: 0.379567: : 549it [02:28,  3.69it/s]\n"
     ]
    },
    {
     "name": "stdout",
     "output_type": "stream",
     "text": [
      "**Evaluating...**\n"
     ]
    },
    {
     "name": "stderr",
     "output_type": "stream",
     "text": [
      "100%|█████████████████████████████████████████| 550/550 [00:49<00:00, 11.11it/s]\n"
     ]
    },
    {
     "name": "stdout",
     "output_type": "stream",
     "text": [
      "R@1 : 77.887\n",
      "R@2 : 82.941\n",
      "R@4 : 87.191\n",
      "R@8 : 90.604\n",
      "R@16 : 93.374\n",
      "R@32 : 95.571\n"
     ]
    },
    {
     "name": "stderr",
     "output_type": "stream",
     "text": [
      "Train Epoch: 26 [549/549 (100%)] Loss: 0.295938: : 549it [02:33,  3.57it/s]\n"
     ]
    },
    {
     "name": "stdout",
     "output_type": "stream",
     "text": [
      "**Evaluating...**\n"
     ]
    },
    {
     "name": "stderr",
     "output_type": "stream",
     "text": [
      "100%|█████████████████████████████████████████| 550/550 [00:51<00:00, 10.68it/s]\n"
     ]
    },
    {
     "name": "stdout",
     "output_type": "stream",
     "text": [
      "R@1 : 78.181\n",
      "R@2 : 83.119\n",
      "R@4 : 87.460\n",
      "R@8 : 90.837\n",
      "R@16 : 93.661\n",
      "R@32 : 95.786\n"
     ]
    },
    {
     "name": "stderr",
     "output_type": "stream",
     "text": [
      "Train Epoch: 27 [549/549 (100%)] Loss: 0.197996: : 549it [02:36,  3.50it/s]\n"
     ]
    },
    {
     "name": "stdout",
     "output_type": "stream",
     "text": [
      "**Evaluating...**\n"
     ]
    },
    {
     "name": "stderr",
     "output_type": "stream",
     "text": [
      "100%|█████████████████████████████████████████| 550/550 [00:51<00:00, 10.71it/s]\n"
     ]
    },
    {
     "name": "stdout",
     "output_type": "stream",
     "text": [
      "R@1 : 78.327\n",
      "R@2 : 83.261\n",
      "R@4 : 87.413\n",
      "R@8 : 90.619\n",
      "R@16 : 93.505\n",
      "R@32 : 95.633\n"
     ]
    },
    {
     "name": "stderr",
     "output_type": "stream",
     "text": [
      "Train Epoch: 28 [549/549 (100%)] Loss: 0.309971: : 549it [02:34,  3.55it/s]\n"
     ]
    },
    {
     "name": "stdout",
     "output_type": "stream",
     "text": [
      "**Evaluating...**\n"
     ]
    },
    {
     "name": "stderr",
     "output_type": "stream",
     "text": [
      "100%|█████████████████████████████████████████| 550/550 [00:51<00:00, 10.74it/s]\n"
     ]
    },
    {
     "name": "stdout",
     "output_type": "stream",
     "text": [
      "R@1 : 78.461\n",
      "R@2 : 83.665\n",
      "R@4 : 87.824\n",
      "R@8 : 91.343\n",
      "R@16 : 93.941\n",
      "R@32 : 95.954\n"
     ]
    },
    {
     "name": "stderr",
     "output_type": "stream",
     "text": [
      "Train Epoch: 29 [549/549 (100%)] Loss: 0.236703: : 549it [02:32,  3.60it/s]\n"
     ]
    },
    {
     "name": "stdout",
     "output_type": "stream",
     "text": [
      "**Evaluating...**\n"
     ]
    },
    {
     "name": "stderr",
     "output_type": "stream",
     "text": [
      "100%|█████████████████████████████████████████| 550/550 [00:49<00:00, 11.03it/s]\n"
     ]
    },
    {
     "name": "stdout",
     "output_type": "stream",
     "text": [
      "R@1 : 79.491\n",
      "R@2 : 84.367\n",
      "R@4 : 88.498\n",
      "R@8 : 91.805\n",
      "R@16 : 94.327\n",
      "R@32 : 96.267\n"
     ]
    },
    {
     "name": "stderr",
     "output_type": "stream",
     "text": [
      "Train Epoch: 30 [549/549 (100%)] Loss: 0.302339: : 549it [02:29,  3.67it/s]\n"
     ]
    },
    {
     "name": "stdout",
     "output_type": "stream",
     "text": [
      "**Evaluating...**\n"
     ]
    },
    {
     "name": "stderr",
     "output_type": "stream",
     "text": [
      "100%|█████████████████████████████████████████| 550/550 [00:49<00:00, 11.05it/s]\n"
     ]
    },
    {
     "name": "stdout",
     "output_type": "stream",
     "text": [
      "R@1 : 79.539\n",
      "R@2 : 84.364\n",
      "R@4 : 88.326\n",
      "R@8 : 91.405\n",
      "R@16 : 93.930\n",
      "R@32 : 95.986\n"
     ]
    },
    {
     "name": "stderr",
     "output_type": "stream",
     "text": [
      "Train Epoch: 31 [549/549 (100%)] Loss: 0.281956: : 549it [02:29,  3.67it/s]\n"
     ]
    },
    {
     "name": "stdout",
     "output_type": "stream",
     "text": [
      "**Evaluating...**\n"
     ]
    },
    {
     "name": "stderr",
     "output_type": "stream",
     "text": [
      "100%|█████████████████████████████████████████| 550/550 [00:49<00:00, 11.05it/s]\n"
     ]
    },
    {
     "name": "stdout",
     "output_type": "stream",
     "text": [
      "R@1 : 79.215\n",
      "R@2 : 84.094\n",
      "R@4 : 88.221\n",
      "R@8 : 91.387\n",
      "R@16 : 93.956\n",
      "R@32 : 96.037\n"
     ]
    },
    {
     "name": "stderr",
     "output_type": "stream",
     "text": [
      "Train Epoch: 32 [549/549 (100%)] Loss: 0.202660: : 549it [02:29,  3.67it/s]\n"
     ]
    },
    {
     "name": "stdout",
     "output_type": "stream",
     "text": [
      "**Evaluating...**\n"
     ]
    },
    {
     "name": "stderr",
     "output_type": "stream",
     "text": [
      "100%|█████████████████████████████████████████| 550/550 [00:50<00:00, 10.95it/s]\n"
     ]
    },
    {
     "name": "stdout",
     "output_type": "stream",
     "text": [
      "R@1 : 79.833\n",
      "R@2 : 84.804\n",
      "R@4 : 88.690\n",
      "R@8 : 91.925\n",
      "R@16 : 94.385\n",
      "R@32 : 96.303\n"
     ]
    },
    {
     "name": "stderr",
     "output_type": "stream",
     "text": [
      "Train Epoch: 33 [549/549 (100%)] Loss: 0.212894: : 549it [02:31,  3.63it/s]\n"
     ]
    },
    {
     "name": "stdout",
     "output_type": "stream",
     "text": [
      "**Evaluating...**\n"
     ]
    },
    {
     "name": "stderr",
     "output_type": "stream",
     "text": [
      "100%|█████████████████████████████████████████| 550/550 [00:50<00:00, 10.99it/s]\n"
     ]
    },
    {
     "name": "stdout",
     "output_type": "stream",
     "text": [
      "R@1 : 79.939\n",
      "R@2 : 84.797\n",
      "R@4 : 88.683\n",
      "R@8 : 91.758\n",
      "R@16 : 94.225\n",
      "R@32 : 96.248\n"
     ]
    },
    {
     "name": "stderr",
     "output_type": "stream",
     "text": [
      "Train Epoch: 34 [549/549 (100%)] Loss: 0.426289: : 549it [02:30,  3.66it/s]\n"
     ]
    },
    {
     "name": "stdout",
     "output_type": "stream",
     "text": [
      "**Evaluating...**\n"
     ]
    },
    {
     "name": "stderr",
     "output_type": "stream",
     "text": [
      "100%|█████████████████████████████████████████| 550/550 [00:50<00:00, 10.92it/s]\n"
     ]
    },
    {
     "name": "stdout",
     "output_type": "stream",
     "text": [
      "R@1 : 79.615\n",
      "R@2 : 84.717\n",
      "R@4 : 88.705\n",
      "R@8 : 91.772\n",
      "R@16 : 94.287\n",
      "R@32 : 96.376\n"
     ]
    },
    {
     "name": "stderr",
     "output_type": "stream",
     "text": [
      "Train Epoch: 35 [549/549 (100%)] Loss: 0.351429: : 549it [02:32,  3.59it/s]\n"
     ]
    },
    {
     "name": "stdout",
     "output_type": "stream",
     "text": [
      "**Evaluating...**\n"
     ]
    },
    {
     "name": "stderr",
     "output_type": "stream",
     "text": [
      "100%|█████████████████████████████████████████| 550/550 [00:49<00:00, 11.11it/s]\n"
     ]
    },
    {
     "name": "stdout",
     "output_type": "stream",
     "text": [
      "R@1 : 79.848\n",
      "R@2 : 84.677\n",
      "R@4 : 88.730\n",
      "R@8 : 91.798\n",
      "R@16 : 94.352\n",
      "R@32 : 96.372\n"
     ]
    },
    {
     "name": "stderr",
     "output_type": "stream",
     "text": [
      "Train Epoch: 36 [549/549 (100%)] Loss: 0.231800: : 549it [02:31,  3.63it/s]\n"
     ]
    },
    {
     "name": "stdout",
     "output_type": "stream",
     "text": [
      "**Evaluating...**\n"
     ]
    },
    {
     "name": "stderr",
     "output_type": "stream",
     "text": [
      "100%|█████████████████████████████████████████| 550/550 [00:51<00:00, 10.78it/s]\n"
     ]
    },
    {
     "name": "stdout",
     "output_type": "stream",
     "text": [
      "R@1 : 80.190\n",
      "R@2 : 85.190\n",
      "R@4 : 88.992\n",
      "R@8 : 91.962\n",
      "R@16 : 94.491\n",
      "R@32 : 96.339\n"
     ]
    },
    {
     "name": "stderr",
     "output_type": "stream",
     "text": [
      "Train Epoch: 37 [549/549 (100%)] Loss: 0.349966: : 549it [02:36,  3.51it/s]\n"
     ]
    },
    {
     "name": "stdout",
     "output_type": "stream",
     "text": [
      "**Evaluating...**\n"
     ]
    },
    {
     "name": "stderr",
     "output_type": "stream",
     "text": [
      "100%|█████████████████████████████████████████| 550/550 [00:51<00:00, 10.71it/s]\n"
     ]
    },
    {
     "name": "stdout",
     "output_type": "stream",
     "text": [
      "R@1 : 80.139\n",
      "R@2 : 84.939\n",
      "R@4 : 88.854\n",
      "R@8 : 92.089\n",
      "R@16 : 94.571\n",
      "R@32 : 96.463\n"
     ]
    },
    {
     "name": "stderr",
     "output_type": "stream",
     "text": [
      "Train Epoch: 38 [549/549 (100%)] Loss: 0.406586: : 549it [02:32,  3.59it/s]\n"
     ]
    },
    {
     "name": "stdout",
     "output_type": "stream",
     "text": [
      "**Evaluating...**\n"
     ]
    },
    {
     "name": "stderr",
     "output_type": "stream",
     "text": [
      "100%|█████████████████████████████████████████| 550/550 [00:50<00:00, 10.94it/s]\n"
     ]
    },
    {
     "name": "stdout",
     "output_type": "stream",
     "text": [
      "R@1 : 80.459\n",
      "R@2 : 85.044\n",
      "R@4 : 88.785\n",
      "R@8 : 92.187\n",
      "R@16 : 94.520\n",
      "R@32 : 96.321\n"
     ]
    },
    {
     "name": "stderr",
     "output_type": "stream",
     "text": [
      "Train Epoch: 39 [549/549 (100%)] Loss: 0.374494: : 549it [02:32,  3.61it/s]\n"
     ]
    },
    {
     "name": "stdout",
     "output_type": "stream",
     "text": [
      "**Evaluating...**\n"
     ]
    },
    {
     "name": "stderr",
     "output_type": "stream",
     "text": [
      "100%|█████████████████████████████████████████| 550/550 [00:50<00:00, 10.82it/s]\n"
     ]
    },
    {
     "name": "stdout",
     "output_type": "stream",
     "text": [
      "R@1 : 80.707\n",
      "R@2 : 85.241\n",
      "R@4 : 89.051\n",
      "R@8 : 92.078\n",
      "R@16 : 94.494\n",
      "R@32 : 96.438\n"
     ]
    },
    {
     "name": "stderr",
     "output_type": "stream",
     "text": [
      "Train Epoch: 40 [549/549 (100%)] Loss: 0.220872: : 549it [02:34,  3.55it/s]\n"
     ]
    },
    {
     "name": "stdout",
     "output_type": "stream",
     "text": [
      "**Evaluating...**\n"
     ]
    },
    {
     "name": "stderr",
     "output_type": "stream",
     "text": [
      "100%|█████████████████████████████████████████| 550/550 [00:50<00:00, 10.93it/s]\n"
     ]
    },
    {
     "name": "stdout",
     "output_type": "stream",
     "text": [
      "R@1 : 80.183\n",
      "R@2 : 85.204\n",
      "R@4 : 88.854\n",
      "R@8 : 92.151\n",
      "R@16 : 94.607\n",
      "R@32 : 96.470\n"
     ]
    },
    {
     "name": "stderr",
     "output_type": "stream",
     "text": [
      "Train Epoch: 41 [549/549 (100%)] Loss: 0.187914: : 549it [02:33,  3.59it/s]\n"
     ]
    },
    {
     "name": "stdout",
     "output_type": "stream",
     "text": [
      "**Evaluating...**\n"
     ]
    },
    {
     "name": "stderr",
     "output_type": "stream",
     "text": [
      "100%|█████████████████████████████████████████| 550/550 [00:50<00:00, 10.96it/s]\n"
     ]
    },
    {
     "name": "stdout",
     "output_type": "stream",
     "text": [
      "R@1 : 80.703\n",
      "R@2 : 85.648\n",
      "R@4 : 89.455\n",
      "R@8 : 92.529\n",
      "R@16 : 94.920\n",
      "R@32 : 96.689\n"
     ]
    },
    {
     "name": "stderr",
     "output_type": "stream",
     "text": [
      "Train Epoch: 42 [549/549 (100%)] Loss: 0.144969: : 549it [02:32,  3.60it/s]\n"
     ]
    },
    {
     "name": "stdout",
     "output_type": "stream",
     "text": [
      "**Evaluating...**\n"
     ]
    },
    {
     "name": "stderr",
     "output_type": "stream",
     "text": [
      "100%|█████████████████████████████████████████| 550/550 [00:50<00:00, 10.96it/s]\n"
     ]
    },
    {
     "name": "stdout",
     "output_type": "stream",
     "text": [
      "R@1 : 81.023\n",
      "R@2 : 85.736\n",
      "R@4 : 89.589\n",
      "R@8 : 92.580\n",
      "R@16 : 94.978\n",
      "R@32 : 96.758\n"
     ]
    },
    {
     "name": "stderr",
     "output_type": "stream",
     "text": [
      "Train Epoch: 43 [549/549 (100%)] Loss: 0.241390: : 549it [02:34,  3.56it/s]\n"
     ]
    },
    {
     "name": "stdout",
     "output_type": "stream",
     "text": [
      "**Evaluating...**\n"
     ]
    },
    {
     "name": "stderr",
     "output_type": "stream",
     "text": [
      "100%|█████████████████████████████████████████| 550/550 [00:50<00:00, 10.90it/s]\n"
     ]
    },
    {
     "name": "stdout",
     "output_type": "stream",
     "text": [
      "R@1 : 80.881\n",
      "R@2 : 85.521\n",
      "R@4 : 89.502\n",
      "R@8 : 92.660\n",
      "R@16 : 94.931\n",
      "R@32 : 96.590\n"
     ]
    },
    {
     "name": "stderr",
     "output_type": "stream",
     "text": [
      "Train Epoch: 44 [549/549 (100%)] Loss: 0.133402: : 549it [02:32,  3.59it/s]\n"
     ]
    },
    {
     "name": "stdout",
     "output_type": "stream",
     "text": [
      "**Evaluating...**\n"
     ]
    },
    {
     "name": "stderr",
     "output_type": "stream",
     "text": [
      "100%|█████████████████████████████████████████| 550/550 [00:49<00:00, 11.04it/s]\n"
     ]
    },
    {
     "name": "stdout",
     "output_type": "stream",
     "text": [
      "R@1 : 80.783\n",
      "R@2 : 85.674\n",
      "R@4 : 89.415\n",
      "R@8 : 92.438\n",
      "R@16 : 94.680\n",
      "R@32 : 96.492\n"
     ]
    },
    {
     "name": "stderr",
     "output_type": "stream",
     "text": [
      "Train Epoch: 45 [549/549 (100%)] Loss: 0.403319: : 549it [02:30,  3.66it/s]\n"
     ]
    },
    {
     "name": "stdout",
     "output_type": "stream",
     "text": [
      "**Evaluating...**\n"
     ]
    },
    {
     "name": "stderr",
     "output_type": "stream",
     "text": [
      "100%|█████████████████████████████████████████| 550/550 [00:50<00:00, 10.82it/s]\n"
     ]
    },
    {
     "name": "stdout",
     "output_type": "stream",
     "text": [
      "R@1 : 81.020\n",
      "R@2 : 85.794\n",
      "R@4 : 89.578\n",
      "R@8 : 92.617\n",
      "R@16 : 94.993\n",
      "R@32 : 96.736\n"
     ]
    },
    {
     "name": "stderr",
     "output_type": "stream",
     "text": [
      "Train Epoch: 46 [549/549 (100%)] Loss: 0.148571: : 549it [02:31,  3.63it/s]\n"
     ]
    },
    {
     "name": "stdout",
     "output_type": "stream",
     "text": [
      "**Evaluating...**\n"
     ]
    },
    {
     "name": "stderr",
     "output_type": "stream",
     "text": [
      "100%|█████████████████████████████████████████| 550/550 [00:49<00:00, 11.11it/s]\n"
     ]
    },
    {
     "name": "stdout",
     "output_type": "stream",
     "text": [
      "R@1 : 81.340\n",
      "R@2 : 85.972\n",
      "R@4 : 89.698\n",
      "R@8 : 92.526\n",
      "R@16 : 94.826\n",
      "R@32 : 96.569\n"
     ]
    },
    {
     "name": "stderr",
     "output_type": "stream",
     "text": [
      "Train Epoch: 47 [549/549 (100%)] Loss: 0.218278: : 549it [02:28,  3.69it/s]\n"
     ]
    },
    {
     "name": "stdout",
     "output_type": "stream",
     "text": [
      "**Evaluating...**\n"
     ]
    },
    {
     "name": "stderr",
     "output_type": "stream",
     "text": [
      "100%|█████████████████████████████████████████| 550/550 [00:49<00:00, 11.05it/s]\n"
     ]
    },
    {
     "name": "stdout",
     "output_type": "stream",
     "text": [
      "R@1 : 80.492\n",
      "R@2 : 85.292\n",
      "R@4 : 89.174\n",
      "R@8 : 92.158\n",
      "R@16 : 94.574\n",
      "R@32 : 96.539\n"
     ]
    },
    {
     "name": "stderr",
     "output_type": "stream",
     "text": [
      "Train Epoch: 48 [549/549 (100%)] Loss: 0.190938: : 549it [02:37,  3.49it/s]\n"
     ]
    },
    {
     "name": "stdout",
     "output_type": "stream",
     "text": [
      "**Evaluating...**\n"
     ]
    },
    {
     "name": "stderr",
     "output_type": "stream",
     "text": [
      "100%|█████████████████████████████████████████| 550/550 [00:52<00:00, 10.38it/s]\n"
     ]
    },
    {
     "name": "stdout",
     "output_type": "stream",
     "text": [
      "R@1 : 81.067\n",
      "R@2 : 85.768\n",
      "R@4 : 89.622\n",
      "R@8 : 92.551\n",
      "R@16 : 94.942\n",
      "R@32 : 96.867\n"
     ]
    },
    {
     "name": "stderr",
     "output_type": "stream",
     "text": [
      "Train Epoch: 49 [549/549 (100%)] Loss: 0.247204: : 549it [02:38,  3.45it/s]\n"
     ]
    },
    {
     "name": "stdout",
     "output_type": "stream",
     "text": [
      "**Evaluating...**\n"
     ]
    },
    {
     "name": "stderr",
     "output_type": "stream",
     "text": [
      "100%|█████████████████████████████████████████| 550/550 [00:53<00:00, 10.35it/s]\n"
     ]
    },
    {
     "name": "stdout",
     "output_type": "stream",
     "text": [
      "R@1 : 81.074\n",
      "R@2 : 85.808\n",
      "R@4 : 89.811\n",
      "R@8 : 92.722\n",
      "R@16 : 95.000\n",
      "R@32 : 96.951\n"
     ]
    },
    {
     "name": "stderr",
     "output_type": "stream",
     "text": [
      "Train Epoch: 50 [549/549 (100%)] Loss: 0.321806: : 549it [02:27,  3.72it/s]\n"
     ]
    },
    {
     "name": "stdout",
     "output_type": "stream",
     "text": [
      "**Evaluating...**\n"
     ]
    },
    {
     "name": "stderr",
     "output_type": "stream",
     "text": [
      "100%|█████████████████████████████████████████| 550/550 [00:47<00:00, 11.49it/s]\n"
     ]
    },
    {
     "name": "stdout",
     "output_type": "stream",
     "text": [
      "R@1 : 81.540\n",
      "R@2 : 86.201\n",
      "R@4 : 89.884\n",
      "R@8 : 92.875\n",
      "R@16 : 95.226\n",
      "R@32 : 96.885\n"
     ]
    },
    {
     "name": "stderr",
     "output_type": "stream",
     "text": [
      "Train Epoch: 51 [549/549 (100%)] Loss: 0.230531: : 549it [02:36,  3.50it/s]\n"
     ]
    },
    {
     "name": "stdout",
     "output_type": "stream",
     "text": [
      "**Evaluating...**\n"
     ]
    },
    {
     "name": "stderr",
     "output_type": "stream",
     "text": [
      "100%|█████████████████████████████████████████| 550/550 [00:53<00:00, 10.21it/s]\n"
     ]
    },
    {
     "name": "stdout",
     "output_type": "stream",
     "text": [
      "R@1 : 81.242\n",
      "R@2 : 85.925\n",
      "R@4 : 89.749\n",
      "R@8 : 92.649\n",
      "R@16 : 94.909\n",
      "R@32 : 96.630\n"
     ]
    },
    {
     "name": "stderr",
     "output_type": "stream",
     "text": [
      "Train Epoch: 52 [549/549 (100%)] Loss: 0.154761: : 549it [02:36,  3.50it/s]\n"
     ]
    },
    {
     "name": "stdout",
     "output_type": "stream",
     "text": [
      "**Evaluating...**\n"
     ]
    },
    {
     "name": "stderr",
     "output_type": "stream",
     "text": [
      "100%|█████████████████████████████████████████| 550/550 [00:50<00:00, 10.95it/s]\n"
     ]
    },
    {
     "name": "stdout",
     "output_type": "stream",
     "text": [
      "R@1 : 81.540\n",
      "R@2 : 86.402\n",
      "R@4 : 89.906\n",
      "R@8 : 92.817\n",
      "R@16 : 94.920\n",
      "R@32 : 96.700\n"
     ]
    },
    {
     "name": "stderr",
     "output_type": "stream",
     "text": [
      "Train Epoch: 53 [549/549 (100%)] Loss: 0.192330: : 549it [02:30,  3.65it/s]\n"
     ]
    },
    {
     "name": "stdout",
     "output_type": "stream",
     "text": [
      "**Evaluating...**\n"
     ]
    },
    {
     "name": "stderr",
     "output_type": "stream",
     "text": [
      "100%|█████████████████████████████████████████| 550/550 [00:49<00:00, 11.06it/s]\n"
     ]
    },
    {
     "name": "stdout",
     "output_type": "stream",
     "text": [
      "R@1 : 81.373\n",
      "R@2 : 86.220\n",
      "R@4 : 89.746\n",
      "R@8 : 92.562\n",
      "R@16 : 94.909\n",
      "R@32 : 96.725\n"
     ]
    },
    {
     "name": "stderr",
     "output_type": "stream",
     "text": [
      "Train Epoch: 54 [549/549 (100%)] Loss: 0.205376: : 549it [02:29,  3.68it/s]\n"
     ]
    },
    {
     "name": "stdout",
     "output_type": "stream",
     "text": [
      "**Evaluating...**\n"
     ]
    },
    {
     "name": "stderr",
     "output_type": "stream",
     "text": [
      "100%|█████████████████████████████████████████| 550/550 [00:49<00:00, 11.08it/s]\n"
     ]
    },
    {
     "name": "stdout",
     "output_type": "stream",
     "text": [
      "R@1 : 81.536\n",
      "R@2 : 86.161\n",
      "R@4 : 89.844\n",
      "R@8 : 92.973\n",
      "R@16 : 95.237\n",
      "R@32 : 96.845\n"
     ]
    },
    {
     "name": "stderr",
     "output_type": "stream",
     "text": [
      "Train Epoch: 55 [549/549 (100%)] Loss: 0.163384: : 549it [02:29,  3.68it/s]\n"
     ]
    },
    {
     "name": "stdout",
     "output_type": "stream",
     "text": [
      "**Evaluating...**\n"
     ]
    },
    {
     "name": "stderr",
     "output_type": "stream",
     "text": [
      "100%|█████████████████████████████████████████| 550/550 [00:49<00:00, 11.08it/s]\n"
     ]
    },
    {
     "name": "stdout",
     "output_type": "stream",
     "text": [
      "R@1 : 81.460\n",
      "R@2 : 86.063\n",
      "R@4 : 89.731\n",
      "R@8 : 92.751\n",
      "R@16 : 94.986\n",
      "R@32 : 96.867\n"
     ]
    },
    {
     "name": "stderr",
     "output_type": "stream",
     "text": [
      "Train Epoch: 56 [549/549 (100%)] Loss: 0.219911: : 549it [02:29,  3.68it/s]\n"
     ]
    },
    {
     "name": "stdout",
     "output_type": "stream",
     "text": [
      "**Evaluating...**\n"
     ]
    },
    {
     "name": "stderr",
     "output_type": "stream",
     "text": [
      "100%|█████████████████████████████████████████| 550/550 [00:49<00:00, 11.08it/s]\n"
     ]
    },
    {
     "name": "stdout",
     "output_type": "stream",
     "text": [
      "R@1 : 81.060\n",
      "R@2 : 85.808\n",
      "R@4 : 89.651\n",
      "R@8 : 92.311\n",
      "R@16 : 94.789\n",
      "R@32 : 96.681\n"
     ]
    },
    {
     "name": "stderr",
     "output_type": "stream",
     "text": [
      "Train Epoch: 57 [549/549 (100%)] Loss: 0.183448: : 549it [02:29,  3.68it/s]\n"
     ]
    },
    {
     "name": "stdout",
     "output_type": "stream",
     "text": [
      "**Evaluating...**\n"
     ]
    },
    {
     "name": "stderr",
     "output_type": "stream",
     "text": [
      "100%|█████████████████████████████████████████| 550/550 [00:49<00:00, 11.08it/s]\n"
     ]
    },
    {
     "name": "stdout",
     "output_type": "stream",
     "text": [
      "R@1 : 82.188\n",
      "R@2 : 86.631\n",
      "R@4 : 90.113\n",
      "R@8 : 92.828\n",
      "R@16 : 95.157\n",
      "R@32 : 96.827\n"
     ]
    },
    {
     "name": "stderr",
     "output_type": "stream",
     "text": [
      "Train Epoch: 58 [549/549 (100%)] Loss: 0.254851: : 549it [02:29,  3.68it/s]\n"
     ]
    },
    {
     "name": "stdout",
     "output_type": "stream",
     "text": [
      "**Evaluating...**\n"
     ]
    },
    {
     "name": "stderr",
     "output_type": "stream",
     "text": [
      "100%|█████████████████████████████████████████| 550/550 [00:49<00:00, 11.08it/s]\n"
     ]
    },
    {
     "name": "stdout",
     "output_type": "stream",
     "text": [
      "R@1 : 81.929\n",
      "R@2 : 86.405\n",
      "R@4 : 90.171\n",
      "R@8 : 92.908\n",
      "R@16 : 95.164\n",
      "R@32 : 96.951\n"
     ]
    },
    {
     "name": "stderr",
     "output_type": "stream",
     "text": [
      "Train Epoch: 59 [549/549 (100%)] Loss: 0.245883: : 549it [02:29,  3.68it/s]\n"
     ]
    },
    {
     "name": "stdout",
     "output_type": "stream",
     "text": [
      "**Evaluating...**\n"
     ]
    },
    {
     "name": "stderr",
     "output_type": "stream",
     "text": [
      "100%|█████████████████████████████████████████| 550/550 [00:49<00:00, 11.06it/s]\n"
     ]
    },
    {
     "name": "stdout",
     "output_type": "stream",
     "text": [
      "R@1 : 81.591\n",
      "R@2 : 86.089\n",
      "R@4 : 89.720\n",
      "R@8 : 92.562\n",
      "R@16 : 94.782\n",
      "R@32 : 96.652\n"
     ]
    }
   ],
   "source": [
    "best_recall=[0]\n",
    "log = {}\n",
    "for epoch in range(0, 60):\n",
    "    model.train()\n",
    "    bn_freeze = True\n",
    "\n",
    "    if bn_freeze:\n",
    "            modules = model.model.modules()\n",
    "            for m in modules: \n",
    "                if isinstance(m, nn.BatchNorm2d):\n",
    "                    m.eval()\n",
    "\n",
    "    losses_per_epoch = []\n",
    "    unfreeze_model_param = list(model.model.embedding.parameters()) + list(criterion.parameters())\n",
    "\n",
    "    if epoch == 0:\n",
    "        for param in list(set(model.parameters()).difference(set(unfreeze_model_param))):\n",
    "            param.requires_grad = False\n",
    "    if epoch == 1:\n",
    "        for param in list(set(model.parameters()).difference(set(unfreeze_model_param))):\n",
    "            param.requires_grad = True\n",
    "\n",
    "    pbar = tqdm(enumerate(dl_tr))\n",
    "\n",
    "    for batch_idx, (x, y) in pbar:                         \n",
    "        m = model(x.squeeze().cuda())\n",
    "        loss = criterion(m, y.squeeze().cuda())\n",
    "        \n",
    "        opt.zero_grad()\n",
    "        loss.backward()\n",
    "        \n",
    "        torch.nn.utils.clip_grad_value_(model.parameters(), 10)\n",
    "        \n",
    "        torch.nn.utils.clip_grad_value_(criterion.parameters(), 10)\n",
    "\n",
    "        losses_per_epoch.append(loss.data.cpu().numpy())\n",
    "        opt.step()\n",
    "\n",
    "        pbar.set_description(\n",
    "            'Train Epoch: {} [{}/{} ({:.0f}%)] Loss: {:.6f}'.format(\n",
    "                epoch, batch_idx + 1, len(dl_tr),\n",
    "                100. * batch_idx / len(dl_tr),\n",
    "                loss.item()))\n",
    "    scheduler.step()\n",
    "    \n",
    "    if(epoch >= 0):\n",
    "        with torch.no_grad():\n",
    "            print(\"**Evaluating...**\")\n",
    "            Recalls = utils.evaluate_cos(model, dl_ev)\n",
    "        if best_recall[0] < Recalls[0]:\n",
    "            best_recall = Recalls\n",
    "            best_epoch = epoch\n",
    "            if not os.path.exists(model_dir):\n",
    "                os.makedirs(model_dir)\n",
    "            torch.save({'model_state_dict':model.state_dict()}, '{}/{}_best.pth'.format(model_dir, model_name))\n",
    "            with open('{}/{}_best_results.txt'.format(model_dir, model_name), 'w') as f:\n",
    "                f.write('Best Epoch: {}\\n'.format(best_epoch))\n",
    "                for i in range(6):\n",
    "                    f.write(\"Best Recall@{}: {:.4f}\\n\".format(2**i, best_recall[i] * 100))"
   ]
  }
 ],
 "metadata": {
  "kernelspec": {
   "display_name": "Python 3 (ipykernel)",
   "language": "python",
   "name": "python3"
  },
  "language_info": {
   "codemirror_mode": {
    "name": "ipython",
    "version": 3
   },
   "file_extension": ".py",
   "mimetype": "text/x-python",
   "name": "python",
   "nbconvert_exporter": "python",
   "pygments_lexer": "ipython3",
   "version": "3.9.18"
  }
 },
 "nbformat": 4,
 "nbformat_minor": 5
}
