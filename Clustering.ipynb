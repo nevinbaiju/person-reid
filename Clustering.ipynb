{
 "cells": [
  {
   "cell_type": "code",
   "execution_count": 1,
   "id": "a893d6eb-65d1-4293-847d-882dd17e0280",
   "metadata": {},
   "outputs": [],
   "source": [
    "import torch, math, time, argparse, os\n",
    "import random, dataset, utils, losses, net\n",
    "import numpy as np\n",
    "import pandas as pd\n",
    "from sklearn.manifold import TSNE\n",
    "import matplotlib.pyplot as plt\n",
    "import seaborn as sns\n",
    "import numpy as np\n",
    "from sklearn.cluster import KMeans, AgglomerativeClustering\n",
    "from sklearn.preprocessing import StandardScaler\n",
    "from sklearn.decomposition import PCA\n",
    "\n",
    "from dataset.market import Market\n",
    "from net.resnet import *\n",
    "from net.googlenet import *\n",
    "from net.bn_inception import *\n",
    "\n",
    "from tqdm import *"
   ]
  },
  {
   "cell_type": "markdown",
   "id": "05a786e6-18f1-449e-b74a-fea5a2f6231b",
   "metadata": {},
   "source": [
    "### Loading the model and the data"
   ]
  },
  {
   "cell_type": "code",
   "execution_count": 2,
   "id": "f7682e9a-c45a-4bd9-8a87-4f1eee312530",
   "metadata": {},
   "outputs": [],
   "source": [
    "dataset = dataset.load('market', '../ITCS-5145-CV/learning/Market-1501-v15.09.15/', 'eval', \n",
    "                           transform = dataset.utils.make_transform(\n",
    "                                                                    is_train = False, \n",
    "                                                                    is_inception = False\n",
    "                            )\n",
    "                       )"
   ]
  },
  {
   "cell_type": "code",
   "execution_count": 3,
   "id": "84cd624c-85f8-4622-b5df-e02d5cc09b07",
   "metadata": {},
   "outputs": [],
   "source": [
    "dl_ev = torch.utils.data.DataLoader(\n",
    "        dataset,\n",
    "        batch_size = 32,\n",
    "        shuffle = False,\n",
    "        num_workers = 4,\n",
    "        pin_memory = True\n",
    ")"
   ]
  },
  {
   "cell_type": "code",
   "execution_count": 5,
   "id": "185532ba-b543-44a9-9d18-10bffb9009d7",
   "metadata": {},
   "outputs": [
    {
     "name": "stderr",
     "output_type": "stream",
     "text": [
      "/home/nevin/anaconda3/envs/cv/lib/python3.9/site-packages/torchvision/models/_utils.py:135: UserWarning: Using 'weights' as positional parameter(s) is deprecated since 0.13 and may be removed in the future. Please use keyword parameter(s) instead.\n",
      "  warnings.warn(\n",
      "/home/nevin/anaconda3/envs/cv/lib/python3.9/site-packages/torchvision/models/_utils.py:223: UserWarning: Arguments other than a weight enum or `None` for 'weights' are deprecated since 0.13 and may be removed in the future. The current behavior is equivalent to passing `weights=ResNet50_Weights.IMAGENET1K_V1`. You can also use `weights=ResNet50_Weights.DEFAULT` to get the most up-to-date weights.\n",
      "  warnings.warn(msg)\n"
     ]
    },
    {
     "data": {
      "text/plain": [
       "<All keys matched successfully>"
      ]
     },
     "execution_count": 5,
     "metadata": {},
     "output_type": "execute_result"
    }
   ],
   "source": [
    "model = Resnet50(embedding_size=512, pretrained=True, is_norm=1, bn_freeze =1).cuda()\n",
    "model.load_state_dict(torch.load('models/resnet50_best.pth')['model_state_dict'])"
   ]
  },
  {
   "cell_type": "markdown",
   "id": "7ad39e29-0b2c-455e-aa0f-ee1fffd9720e",
   "metadata": {},
   "source": [
    "### Extracting the embeddings"
   ]
  },
  {
   "cell_type": "code",
   "execution_count": 6,
   "id": "07e7f881-6f2d-4746-aa18-ca58b1a948af",
   "metadata": {},
   "outputs": [
    {
     "name": "stderr",
     "output_type": "stream",
     "text": [
      "0it [00:00, ?it/s]/home/nevin/anaconda3/envs/cv/lib/python3.9/site-packages/torch/nn/modules/conv.py:456: UserWarning: Applied workaround for CuDNN issue, install nvrtc.so (Triggered internally at /opt/conda/conda-bld/pytorch_1695392022560/work/aten/src/ATen/native/cudnn/Conv_v8.cpp:80.)\n",
      "  return F.conv2d(input, weight, bias, self.stride,\n",
      "335it [00:22, 15.19it/s]\n"
     ]
    }
   ],
   "source": [
    "embeddings, class_labels = [], []\n",
    "model.eval()\n",
    "iterator = tqdm(enumerate(dl_ev))\n",
    "for i, dat in iterator:\n",
    "    imgs, labels = dat\n",
    "    imgs = imgs.cuda()\n",
    "    res = model(imgs)\n",
    "    embeddings.append(res.cpu().detach().numpy())\n",
    "    class_labels.append(labels.cpu().numpy())"
   ]
  },
  {
   "cell_type": "code",
   "execution_count": 7,
   "id": "b6c5eeba-d6f9-4089-9af6-73b4f50091e5",
   "metadata": {},
   "outputs": [],
   "source": [
    "class_labels, embeddings = np.concatenate(class_labels), np.concatenate(embeddings)"
   ]
  },
  {
   "cell_type": "code",
   "execution_count": 8,
   "id": "2ec1c5b3-08e0-4665-9c0c-47b4040a5dc6",
   "metadata": {},
   "outputs": [
    {
     "data": {
      "text/plain": [
       "(10706, 512)"
      ]
     },
     "execution_count": 8,
     "metadata": {},
     "output_type": "execute_result"
    }
   ],
   "source": [
    "embeddings.shape"
   ]
  },
  {
   "cell_type": "markdown",
   "id": "4c32fa51-3b93-4de7-86bc-036f9ef98b0b",
   "metadata": {},
   "source": [
    "##### Dimensionality Reduction"
   ]
  },
  {
   "cell_type": "raw",
   "id": "f9b2af55-f658-4859-88e4-925d3475e40a",
   "metadata": {},
   "source": [
    "tsne = TSNE(n_components=2, random_state=0)  # Specify the desired output dimension\n",
    "reduced_data = tsne.fit_transform(embeddings)"
   ]
  },
  {
   "cell_type": "raw",
   "id": "bc58c4fe-7110-40c8-85f3-72ba77fcfa31",
   "metadata": {},
   "source": [
    "reduced_df = pd.DataFrame(reduced_data, columns=['x1', 'x2'])\n",
    "reduced_df['y'] = class_labels"
   ]
  },
  {
   "cell_type": "raw",
   "id": "6b7af74e-c0c3-4076-a3ac-23f42768790f",
   "metadata": {},
   "source": [
    "plt.figure(figsize=(18, 18))\n",
    "sns.scatterplot(x=reduced_df['x1'], y=reduced_df['x2'], hue=reduced_df['y'])"
   ]
  },
  {
   "cell_type": "markdown",
   "id": "daa5f00f-67af-4609-aa80-76cb6d9797a2",
   "metadata": {},
   "source": [
    "### Clustering"
   ]
  },
  {
   "cell_type": "code",
   "execution_count": 9,
   "id": "1fbb5777-8f8a-4838-8bba-d972dccaf672",
   "metadata": {},
   "outputs": [],
   "source": [
    "scaler = StandardScaler()\n",
    "X_scaled = scaler.fit_transform(embeddings)"
   ]
  },
  {
   "cell_type": "code",
   "execution_count": 10,
   "id": "9d7b8d28-7eff-4ffd-ae24-3b31b60068af",
   "metadata": {},
   "outputs": [],
   "source": [
    "def cosine_sim(x, y):\n",
    "    return 1 - np.dot(x, y) / (np.linalg.norm(x) * np.linalg.norm(y))"
   ]
  },
  {
   "cell_type": "code",
   "execution_count": 11,
   "id": "57466bbf-b70f-4ba1-bbc4-f9445dd098db",
   "metadata": {},
   "outputs": [],
   "source": [
    "agg_clustering = AgglomerativeClustering(n_clusters=500, metric='cosine', linkage='complete')\n",
    "cluster_labels = agg_clustering.fit_predict(X_scaled)"
   ]
  },
  {
   "cell_type": "code",
   "execution_count": 12,
   "id": "e405ec5a-e31f-406a-9034-f70c4a8eb8be",
   "metadata": {},
   "outputs": [],
   "source": [
    "df = pd.DataFrame({'labels': class_labels, 'cluster': cluster_labels})"
   ]
  },
  {
   "cell_type": "code",
   "execution_count": 13,
   "id": "4a2b3c19-d514-455f-b52a-9971bf9e52a2",
   "metadata": {},
   "outputs": [],
   "source": [
    "df.groupby('labels')['cluster'].agg(['count', 'nunique']).to_csv('results/clustering_results_agg_cosine_resnet_modified_fully_trained.csv')"
   ]
  },
  {
   "cell_type": "code",
   "execution_count": null,
   "id": "8a5b138e-9382-48b0-9256-4232f626d4ba",
   "metadata": {},
   "outputs": [],
   "source": []
  }
 ],
 "metadata": {
  "kernelspec": {
   "display_name": "Python 3 (ipykernel)",
   "language": "python",
   "name": "python3"
  },
  "language_info": {
   "codemirror_mode": {
    "name": "ipython",
    "version": 3
   },
   "file_extension": ".py",
   "mimetype": "text/x-python",
   "name": "python",
   "nbconvert_exporter": "python",
   "pygments_lexer": "ipython3",
   "version": "3.9.18"
  }
 },
 "nbformat": 4,
 "nbformat_minor": 5
}
