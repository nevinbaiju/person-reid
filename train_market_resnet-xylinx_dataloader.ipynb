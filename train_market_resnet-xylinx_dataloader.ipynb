{
 "cells": [
  {
   "cell_type": "code",
   "execution_count": 1,
   "id": "dd117a25-51f7-4b37-80dd-57601c645fe7",
   "metadata": {},
   "outputs": [],
   "source": [
    "import torch, math, time, argparse, os\n",
    "import random, dataset, utils, losses, net\n",
    "import numpy as np\n",
    "\n",
    "from dataset.market import Market\n",
    "from dataset.build_market import build_market_dataloader\n",
    "from net.os_net import get_embedding_model, osnet_ibn_x1_0, OSNet, OSBlock\n",
    "from net.resnet import *\n",
    "from net.googlenet import *\n",
    "from net.bn_inception import *\n",
    "from dataset import sampler\n",
    "from eval import inference\n",
    "from torch.utils.data.sampler import BatchSampler\n",
    "from torch.utils.data.dataloader import default_collate\n",
    "\n",
    "from tqdm import *\n",
    "import datetime\n",
    "import wandb"
   ]
  },
  {
   "cell_type": "code",
   "execution_count": 2,
   "id": "9b68c83a-1a81-444f-aa00-51349c5ecca5",
   "metadata": {},
   "outputs": [],
   "source": [
    "seed = 1\n",
    "random.seed(seed)\n",
    "np.random.seed(seed)\n",
    "torch.manual_seed(seed)\n",
    "torch.cuda.manual_seed_all(seed)"
   ]
  },
  {
   "cell_type": "code",
   "execution_count": 3,
   "id": "22a24709-0200-480a-b886-4f93794672dc",
   "metadata": {},
   "outputs": [
    {
     "name": "stdout",
     "output_type": "stream",
     "text": [
      "=> Market1501 loaded\n",
      "Dataset statistics:\n",
      "  ----------------------------------------\n",
      "  subset   | # ids | # images | # cameras\n",
      "  ----------------------------------------\n",
      "  train    |   751 |    12936 |         6\n",
      "  query    |   750 |     3368 |         6\n",
      "  gallery  |   751 |    15913 |         6\n",
      "  ----------------------------------------\n"
     ]
    }
   ],
   "source": [
    "train_loader, val_dict, num_classes = build_market_dataloader()"
   ]
  },
  {
   "cell_type": "code",
   "execution_count": 4,
   "id": "61bf8ce8-11a7-4f5c-8f4d-27eae79c40c1",
   "metadata": {},
   "outputs": [],
   "source": [
    "model_name = 'osnet'"
   ]
  },
  {
   "cell_type": "code",
   "execution_count": 5,
   "id": "aa815ea5-c86f-4e64-9dfb-bdd71319837c",
   "metadata": {},
   "outputs": [],
   "source": [
    "criterion = losses.Proxy_Anchor(nb_classes = num_classes, sz_embed = 512, mrg = 0.1, alpha = 32).cuda()"
   ]
  },
  {
   "cell_type": "code",
   "execution_count": 6,
   "id": "e09b2d13-d22e-4d91-a519-a8971ba45bad",
   "metadata": {},
   "outputs": [
    {
     "name": "stdout",
     "output_type": "stream",
     "text": [
      "Successfully loaded imagenet pretrained weights from \"/home/nevin/.cache/torch/checkpoints/osnet_ibn_x1_0_imagenet.pth\"\n",
      "** The following layers are discarded due to unmatched keys or layer size: ['classifier.weight', 'classifier.bias']\n"
     ]
    }
   ],
   "source": [
    "if model_name == 'resnet50':\n",
    "    model = Resnet50(embedding_size=512, pretrained=True, is_norm=1, bn_freeze =1).cuda()\n",
    "\n",
    "    param_groups = [\n",
    "        {'params': list(set(model.parameters()).difference(set(model.model.embedding.parameters())))},\n",
    "        {'params': model.model.embedding.parameters(), 'lr':float(1e-4) * 1},\n",
    "    ]\n",
    "    param_groups.append({'params': criterion.parameters(), 'lr':float(1e-4) * 100})\n",
    "\n",
    "    modules = model.model.modules()\n",
    "    for m in modules: \n",
    "        if isinstance(m, nn.BatchNorm2d):\n",
    "            m.eval()\n",
    "elif model_name == 'osnet':\n",
    "    model = osnet_ibn_x1_0(pretrained=True).cuda()\n",
    "    \n",
    "    param_groups = [\n",
    "        {'params': list(set(model.parameters()).difference(set(model.fc.parameters())))},\n",
    "        {'params': model.fc.parameters(), 'lr':float(1e-4) * 1},\n",
    "    ]\n",
    "    param_groups.append({'params': criterion.parameters(), 'lr':float(1e-4) * 100})\n",
    "\n",
    "    modules = model.modules()\n",
    "    for m in modules: \n",
    "        if isinstance(m, nn.BatchNorm2d):\n",
    "            m.eval()"
   ]
  },
  {
   "cell_type": "code",
   "execution_count": 7,
   "id": "39029af3-6b21-4cd2-8dd0-d3d1db46d109",
   "metadata": {},
   "outputs": [],
   "source": [
    "opt = torch.optim.AdamW(param_groups, lr=float(1e-4), weight_decay = 1e-4)"
   ]
  },
  {
   "cell_type": "code",
   "execution_count": 8,
   "id": "00b75ef9-d5d0-48c1-a6fa-d80b64139414",
   "metadata": {},
   "outputs": [],
   "source": [
    "scheduler = torch.optim.lr_scheduler.StepLR(opt, step_size=10, gamma = 0.5)"
   ]
  },
  {
   "cell_type": "code",
   "execution_count": 9,
   "id": "0b4b8894-c782-41a7-a070-0cd9030ede22",
   "metadata": {},
   "outputs": [],
   "source": [
    "model_dir = 'models'\n",
    "if not os.path.exists(model_dir):\n",
    "    os.mkdir(model_dir)"
   ]
  },
  {
   "cell_type": "code",
   "execution_count": 10,
   "id": "e0c95048-c4c7-4762-a0be-01155d42e93c",
   "metadata": {},
   "outputs": [],
   "source": [
    "def append_result(result, model):\n",
    "    filename = f\"{model_dir}/results_{current_datetime}.txt\"\n",
    "\n",
    "    # Open the file in append mode and write the result\n",
    "    with open(filename, \"a\") as file:\n",
    "        file.write('CMC\\n')\n",
    "        file.write(str(result[0]) + \"\\n\")\n",
    "        file.write('mAP\\n')\n",
    "        file.write(str(result[1]) + \"\\n\\n\")\n",
    "    torch.save({'model_state_dict':model.state_dict()}, '{}/{}_{}_best.pth'.format(model_dir, model_name, current_datetime))"
   ]
  },
  {
   "cell_type": "code",
   "execution_count": null,
   "id": "7d9047ce-c008-4224-ba46-5f45f280e6d5",
   "metadata": {},
   "outputs": [
    {
     "name": "stderr",
     "output_type": "stream",
     "text": [
      "0it [00:00, ?it/s]/home/nevin/anaconda3/envs/cv/lib/python3.9/site-packages/torch/nn/modules/conv.py:456: UserWarning: Applied workaround for CuDNN issue, install nvrtc.so (Triggered internally at /opt/conda/conda-bld/pytorch_1695392022560/work/aten/src/ATen/native/cudnn/Conv_v8.cpp:80.)\n",
      "  return F.conv2d(input, weight, bias, self.stride,\n",
      "Train Epoch: 0 [259/259 (100%)] Loss: 2.383882: : 259it [00:26,  9.85it/s]"
     ]
    },
    {
     "name": "stdout",
     "output_type": "stream",
     "text": [
      "Enter inferencing\n",
      "Create evaluator\n"
     ]
    },
    {
     "name": "stderr",
     "output_type": "stream",
     "text": [
      "\n"
     ]
    },
    {
     "name": "stdout",
     "output_type": "stream",
     "text": [
      "The test feature is normalized\n"
     ]
    },
    {
     "name": "stderr",
     "output_type": "stream",
     "text": [
      "/home/nevin/projects/assignments/cv_final_project/reid_metric.py:118: UserWarning: This overload of addmm_ is deprecated:\n",
      "\taddmm_(Number beta, Number alpha, Tensor mat1, Tensor mat2)\n",
      "Consider using one of the following signatures instead:\n",
      "\taddmm_(Tensor mat1, Tensor mat2, *, Number beta, Number alpha) (Triggered internally at /opt/conda/conda-bld/pytorch_1695392022560/work/torch/csrc/utils/python_arg_parser.cpp:1519.)\n",
      "  distmat.addmm_(1, -2, qf, gf.t())\n"
     ]
    },
    {
     "name": "stdout",
     "output_type": "stream",
     "text": [
      "Validation Results\n",
      "mAP: 1.9%\n",
      "CMC curve, Rank-1  :6.0%\n",
      "CMC curve, Rank-2  :9.0%\n",
      "CMC curve, Rank-4  :13.3%\n",
      "CMC curve, Rank-6  :15.8%\n",
      "CMC curve, Rank-8  :17.8%\n",
      "CMC curve, Rank-10 :19.7%\n",
      "CMC curve, Rank-12 :21.6%\n",
      "CMC curve, Rank-14 :23.4%\n",
      "CMC curve, Rank-16 :24.9%\n",
      "CMC curve, Rank-18 :26.2%\n",
      "CMC curve, Rank-20 :27.3%\n",
      "CMC curve, Rank-22 :28.2%\n",
      "CMC curve, Rank-24 :29.3%\n",
      "CMC curve, Rank-26 :30.4%\n",
      "CMC curve, Rank-28 :31.4%\n",
      "CMC curve, Rank-30 :32.3%\n",
      "CMC curve, Rank-32 :33.2%\n"
     ]
    },
    {
     "name": "stderr",
     "output_type": "stream",
     "text": [
      "Train Epoch: 1 [259/259 (100%)] Loss: 1.188502: : 259it [01:11,  3.60it/s]"
     ]
    },
    {
     "name": "stdout",
     "output_type": "stream",
     "text": [
      "Enter inferencing\n",
      "Create evaluator\n"
     ]
    },
    {
     "name": "stderr",
     "output_type": "stream",
     "text": [
      "\n"
     ]
    },
    {
     "name": "stdout",
     "output_type": "stream",
     "text": [
      "The test feature is normalized\n",
      "Validation Results\n",
      "mAP: 15.2%\n",
      "CMC curve, Rank-1  :34.2%\n",
      "CMC curve, Rank-2  :42.4%\n",
      "CMC curve, Rank-4  :51.6%\n",
      "CMC curve, Rank-6  :57.0%\n",
      "CMC curve, Rank-8  :60.9%\n",
      "CMC curve, Rank-10 :64.4%\n",
      "CMC curve, Rank-12 :66.4%\n",
      "CMC curve, Rank-14 :68.5%\n",
      "CMC curve, Rank-16 :70.3%\n",
      "CMC curve, Rank-18 :71.3%\n",
      "CMC curve, Rank-20 :72.8%\n",
      "CMC curve, Rank-22 :73.9%\n",
      "CMC curve, Rank-24 :74.8%\n",
      "CMC curve, Rank-26 :75.8%\n",
      "CMC curve, Rank-28 :76.4%\n",
      "CMC curve, Rank-30 :77.3%\n",
      "CMC curve, Rank-32 :78.2%\n"
     ]
    },
    {
     "name": "stderr",
     "output_type": "stream",
     "text": [
      "Train Epoch: 2 [259/259 (100%)] Loss: 0.781379: : 259it [01:11,  3.60it/s]"
     ]
    },
    {
     "name": "stdout",
     "output_type": "stream",
     "text": [
      "Enter inferencing\n",
      "Create evaluator\n"
     ]
    },
    {
     "name": "stderr",
     "output_type": "stream",
     "text": [
      "\n"
     ]
    },
    {
     "name": "stdout",
     "output_type": "stream",
     "text": [
      "The test feature is normalized\n",
      "Validation Results\n",
      "mAP: 23.8%\n",
      "CMC curve, Rank-1  :47.8%\n",
      "CMC curve, Rank-2  :56.3%\n",
      "CMC curve, Rank-4  :64.5%\n",
      "CMC curve, Rank-6  :70.0%\n",
      "CMC curve, Rank-8  :73.8%\n",
      "CMC curve, Rank-10 :76.4%\n",
      "CMC curve, Rank-12 :78.4%\n",
      "CMC curve, Rank-14 :80.3%\n",
      "CMC curve, Rank-16 :81.4%\n",
      "CMC curve, Rank-18 :82.5%\n",
      "CMC curve, Rank-20 :83.4%\n",
      "CMC curve, Rank-22 :84.2%\n",
      "CMC curve, Rank-24 :85.1%\n",
      "CMC curve, Rank-26 :85.7%\n",
      "CMC curve, Rank-28 :86.3%\n",
      "CMC curve, Rank-30 :87.0%\n",
      "CMC curve, Rank-32 :87.4%\n"
     ]
    },
    {
     "name": "stderr",
     "output_type": "stream",
     "text": [
      "Train Epoch: 3 [259/259 (100%)] Loss: 0.558782: : 259it [01:11,  3.61it/s]"
     ]
    },
    {
     "name": "stdout",
     "output_type": "stream",
     "text": [
      "Enter inferencing\n",
      "Create evaluator\n"
     ]
    },
    {
     "name": "stderr",
     "output_type": "stream",
     "text": [
      "\n"
     ]
    },
    {
     "name": "stdout",
     "output_type": "stream",
     "text": [
      "The test feature is normalized\n",
      "Validation Results\n",
      "mAP: 29.7%\n",
      "CMC curve, Rank-1  :55.5%\n",
      "CMC curve, Rank-2  :64.3%\n",
      "CMC curve, Rank-4  :72.8%\n",
      "CMC curve, Rank-6  :77.1%\n",
      "CMC curve, Rank-8  :80.3%\n",
      "CMC curve, Rank-10 :82.3%\n",
      "CMC curve, Rank-12 :84.2%\n",
      "CMC curve, Rank-14 :85.7%\n",
      "CMC curve, Rank-16 :86.5%\n",
      "CMC curve, Rank-18 :87.5%\n",
      "CMC curve, Rank-20 :88.2%\n",
      "CMC curve, Rank-22 :89.0%\n",
      "CMC curve, Rank-24 :89.3%\n",
      "CMC curve, Rank-26 :89.8%\n",
      "CMC curve, Rank-28 :90.3%\n",
      "CMC curve, Rank-30 :90.7%\n",
      "CMC curve, Rank-32 :91.0%\n"
     ]
    },
    {
     "name": "stderr",
     "output_type": "stream",
     "text": [
      "Train Epoch: 4 [259/259 (100%)] Loss: 0.432035: : 259it [01:11,  3.60it/s]"
     ]
    },
    {
     "name": "stdout",
     "output_type": "stream",
     "text": [
      "Enter inferencing\n",
      "Create evaluator\n"
     ]
    },
    {
     "name": "stderr",
     "output_type": "stream",
     "text": [
      "\n"
     ]
    },
    {
     "name": "stdout",
     "output_type": "stream",
     "text": [
      "The test feature is normalized\n",
      "Validation Results\n",
      "mAP: 34.6%\n",
      "CMC curve, Rank-1  :61.4%\n",
      "CMC curve, Rank-2  :69.4%\n",
      "CMC curve, Rank-4  :77.3%\n",
      "CMC curve, Rank-6  :81.4%\n",
      "CMC curve, Rank-8  :84.0%\n",
      "CMC curve, Rank-10 :85.4%\n",
      "CMC curve, Rank-12 :86.8%\n",
      "CMC curve, Rank-14 :87.9%\n",
      "CMC curve, Rank-16 :89.0%\n",
      "CMC curve, Rank-18 :89.8%\n",
      "CMC curve, Rank-20 :90.5%\n",
      "CMC curve, Rank-22 :91.1%\n",
      "CMC curve, Rank-24 :91.5%\n",
      "CMC curve, Rank-26 :91.9%\n",
      "CMC curve, Rank-28 :92.4%\n",
      "CMC curve, Rank-30 :92.9%\n",
      "CMC curve, Rank-32 :93.1%\n"
     ]
    },
    {
     "name": "stderr",
     "output_type": "stream",
     "text": [
      "Train Epoch: 5 [259/259 (100%)] Loss: 0.361157: : 259it [01:11,  3.60it/s]"
     ]
    },
    {
     "name": "stdout",
     "output_type": "stream",
     "text": [
      "Enter inferencing\n",
      "Create evaluator\n"
     ]
    },
    {
     "name": "stderr",
     "output_type": "stream",
     "text": [
      "\n"
     ]
    },
    {
     "name": "stdout",
     "output_type": "stream",
     "text": [
      "The test feature is normalized\n",
      "Validation Results\n",
      "mAP: 38.1%\n",
      "CMC curve, Rank-1  :64.0%\n",
      "CMC curve, Rank-2  :72.7%\n",
      "CMC curve, Rank-4  :79.7%\n",
      "CMC curve, Rank-6  :83.4%\n",
      "CMC curve, Rank-8  :85.7%\n",
      "CMC curve, Rank-10 :87.6%\n",
      "CMC curve, Rank-12 :88.7%\n",
      "CMC curve, Rank-14 :89.8%\n",
      "CMC curve, Rank-16 :90.6%\n",
      "CMC curve, Rank-18 :91.4%\n",
      "CMC curve, Rank-20 :91.9%\n",
      "CMC curve, Rank-22 :92.4%\n",
      "CMC curve, Rank-24 :92.9%\n",
      "CMC curve, Rank-26 :93.3%\n",
      "CMC curve, Rank-28 :93.8%\n",
      "CMC curve, Rank-30 :94.2%\n",
      "CMC curve, Rank-32 :94.4%\n"
     ]
    },
    {
     "name": "stderr",
     "output_type": "stream",
     "text": [
      "Train Epoch: 6 [259/259 (100%)] Loss: 0.385662: : 259it [01:12,  3.58it/s]"
     ]
    },
    {
     "name": "stdout",
     "output_type": "stream",
     "text": [
      "Enter inferencing\n",
      "Create evaluator\n"
     ]
    },
    {
     "name": "stderr",
     "output_type": "stream",
     "text": [
      "\n"
     ]
    },
    {
     "name": "stdout",
     "output_type": "stream",
     "text": [
      "The test feature is normalized\n",
      "Validation Results\n",
      "mAP: 40.9%\n",
      "CMC curve, Rank-1  :67.5%\n",
      "CMC curve, Rank-2  :75.2%\n",
      "CMC curve, Rank-4  :82.1%\n",
      "CMC curve, Rank-6  :85.3%\n",
      "CMC curve, Rank-8  :87.6%\n",
      "CMC curve, Rank-10 :89.1%\n",
      "CMC curve, Rank-12 :90.1%\n",
      "CMC curve, Rank-14 :90.9%\n",
      "CMC curve, Rank-16 :91.7%\n",
      "CMC curve, Rank-18 :92.4%\n",
      "CMC curve, Rank-20 :93.1%\n",
      "CMC curve, Rank-22 :93.6%\n",
      "CMC curve, Rank-24 :94.0%\n",
      "CMC curve, Rank-26 :94.3%\n",
      "CMC curve, Rank-28 :94.8%\n",
      "CMC curve, Rank-30 :95.2%\n",
      "CMC curve, Rank-32 :95.4%\n"
     ]
    },
    {
     "name": "stderr",
     "output_type": "stream",
     "text": [
      "Train Epoch: 7 [259/259 (100%)] Loss: 0.196667: : 259it [01:12,  3.59it/s]"
     ]
    },
    {
     "name": "stdout",
     "output_type": "stream",
     "text": [
      "Enter inferencing\n",
      "Create evaluator\n"
     ]
    },
    {
     "name": "stderr",
     "output_type": "stream",
     "text": [
      "\n"
     ]
    },
    {
     "name": "stdout",
     "output_type": "stream",
     "text": [
      "The test feature is normalized\n",
      "Validation Results\n",
      "mAP: 43.6%\n",
      "CMC curve, Rank-1  :69.3%\n",
      "CMC curve, Rank-2  :77.5%\n",
      "CMC curve, Rank-4  :83.8%\n",
      "CMC curve, Rank-6  :87.0%\n",
      "CMC curve, Rank-8  :88.9%\n",
      "CMC curve, Rank-10 :90.5%\n",
      "CMC curve, Rank-12 :91.6%\n",
      "CMC curve, Rank-14 :92.2%\n",
      "CMC curve, Rank-16 :93.1%\n",
      "CMC curve, Rank-18 :93.8%\n",
      "CMC curve, Rank-20 :94.4%\n",
      "CMC curve, Rank-22 :94.7%\n",
      "CMC curve, Rank-24 :95.0%\n",
      "CMC curve, Rank-26 :95.4%\n",
      "CMC curve, Rank-28 :95.6%\n",
      "CMC curve, Rank-30 :95.8%\n",
      "CMC curve, Rank-32 :96.0%\n"
     ]
    },
    {
     "name": "stderr",
     "output_type": "stream",
     "text": [
      "Train Epoch: 8 [259/259 (100%)] Loss: 0.287230: : 259it [01:12,  3.59it/s]"
     ]
    },
    {
     "name": "stdout",
     "output_type": "stream",
     "text": [
      "Enter inferencing\n",
      "Create evaluator\n"
     ]
    },
    {
     "name": "stderr",
     "output_type": "stream",
     "text": [
      "\n"
     ]
    },
    {
     "name": "stdout",
     "output_type": "stream",
     "text": [
      "The test feature is normalized\n",
      "Validation Results\n",
      "mAP: 46.2%\n",
      "CMC curve, Rank-1  :71.7%\n",
      "CMC curve, Rank-2  :79.2%\n",
      "CMC curve, Rank-4  :84.9%\n",
      "CMC curve, Rank-6  :87.9%\n",
      "CMC curve, Rank-8  :89.7%\n",
      "CMC curve, Rank-10 :91.2%\n",
      "CMC curve, Rank-12 :92.0%\n",
      "CMC curve, Rank-14 :93.0%\n",
      "CMC curve, Rank-16 :93.3%\n",
      "CMC curve, Rank-18 :94.0%\n",
      "CMC curve, Rank-20 :94.6%\n",
      "CMC curve, Rank-22 :94.9%\n",
      "CMC curve, Rank-24 :95.2%\n",
      "CMC curve, Rank-26 :95.6%\n",
      "CMC curve, Rank-28 :95.9%\n",
      "CMC curve, Rank-30 :96.1%\n",
      "CMC curve, Rank-32 :96.3%\n"
     ]
    },
    {
     "name": "stderr",
     "output_type": "stream",
     "text": [
      "Train Epoch: 9 [259/259 (100%)] Loss: 0.157119: : 259it [01:11,  3.60it/s]"
     ]
    },
    {
     "name": "stdout",
     "output_type": "stream",
     "text": [
      "Enter inferencing\n",
      "Create evaluator\n"
     ]
    },
    {
     "name": "stderr",
     "output_type": "stream",
     "text": [
      "\n"
     ]
    },
    {
     "name": "stdout",
     "output_type": "stream",
     "text": [
      "The test feature is normalized\n",
      "Validation Results\n",
      "mAP: 48.2%\n",
      "CMC curve, Rank-1  :73.6%\n",
      "CMC curve, Rank-2  :80.8%\n",
      "CMC curve, Rank-4  :86.6%\n",
      "CMC curve, Rank-6  :89.2%\n",
      "CMC curve, Rank-8  :91.0%\n",
      "CMC curve, Rank-10 :92.5%\n",
      "CMC curve, Rank-12 :93.6%\n",
      "CMC curve, Rank-14 :94.2%\n",
      "CMC curve, Rank-16 :94.8%\n",
      "CMC curve, Rank-18 :95.2%\n",
      "CMC curve, Rank-20 :95.4%\n",
      "CMC curve, Rank-22 :95.7%\n",
      "CMC curve, Rank-24 :95.9%\n",
      "CMC curve, Rank-26 :96.1%\n",
      "CMC curve, Rank-28 :96.4%\n",
      "CMC curve, Rank-30 :96.5%\n",
      "CMC curve, Rank-32 :96.6%\n"
     ]
    },
    {
     "name": "stderr",
     "output_type": "stream",
     "text": [
      "Train Epoch: 10 [259/259 (100%)] Loss: 0.115702: : 259it [01:11,  3.60it/s]"
     ]
    },
    {
     "name": "stdout",
     "output_type": "stream",
     "text": [
      "Enter inferencing\n",
      "Create evaluator\n"
     ]
    },
    {
     "name": "stderr",
     "output_type": "stream",
     "text": [
      "\n"
     ]
    },
    {
     "name": "stdout",
     "output_type": "stream",
     "text": [
      "The test feature is normalized\n",
      "Validation Results\n",
      "mAP: 49.2%\n",
      "CMC curve, Rank-1  :74.2%\n",
      "CMC curve, Rank-2  :81.2%\n",
      "CMC curve, Rank-4  :86.9%\n",
      "CMC curve, Rank-6  :89.8%\n",
      "CMC curve, Rank-8  :91.7%\n",
      "CMC curve, Rank-10 :92.9%\n",
      "CMC curve, Rank-12 :93.7%\n",
      "CMC curve, Rank-14 :94.2%\n",
      "CMC curve, Rank-16 :94.9%\n",
      "CMC curve, Rank-18 :95.3%\n",
      "CMC curve, Rank-20 :95.8%\n",
      "CMC curve, Rank-22 :96.0%\n",
      "CMC curve, Rank-24 :96.2%\n",
      "CMC curve, Rank-26 :96.4%\n",
      "CMC curve, Rank-28 :96.6%\n",
      "CMC curve, Rank-30 :96.8%\n",
      "CMC curve, Rank-32 :96.9%\n"
     ]
    },
    {
     "name": "stderr",
     "output_type": "stream",
     "text": [
      "Train Epoch: 11 [259/259 (100%)] Loss: 0.264608: : 259it [01:12,  3.60it/s]"
     ]
    },
    {
     "name": "stdout",
     "output_type": "stream",
     "text": [
      "Enter inferencing\n",
      "Create evaluator\n"
     ]
    },
    {
     "name": "stderr",
     "output_type": "stream",
     "text": [
      "\n"
     ]
    },
    {
     "name": "stdout",
     "output_type": "stream",
     "text": [
      "The test feature is normalized\n",
      "Validation Results\n",
      "mAP: 49.9%\n",
      "CMC curve, Rank-1  :74.5%\n",
      "CMC curve, Rank-2  :81.8%\n",
      "CMC curve, Rank-4  :87.5%\n",
      "CMC curve, Rank-6  :90.2%\n",
      "CMC curve, Rank-8  :91.8%\n",
      "CMC curve, Rank-10 :93.1%\n",
      "CMC curve, Rank-12 :94.0%\n",
      "CMC curve, Rank-14 :94.6%\n",
      "CMC curve, Rank-16 :95.0%\n",
      "CMC curve, Rank-18 :95.2%\n",
      "CMC curve, Rank-20 :95.7%\n",
      "CMC curve, Rank-22 :96.1%\n",
      "CMC curve, Rank-24 :96.3%\n",
      "CMC curve, Rank-26 :96.5%\n",
      "CMC curve, Rank-28 :96.7%\n",
      "CMC curve, Rank-30 :96.8%\n",
      "CMC curve, Rank-32 :96.9%\n"
     ]
    },
    {
     "name": "stderr",
     "output_type": "stream",
     "text": [
      "Train Epoch: 12 [259/259 (100%)] Loss: 0.156909: : 259it [01:11,  3.63it/s]"
     ]
    },
    {
     "name": "stdout",
     "output_type": "stream",
     "text": [
      "Enter inferencing\n",
      "Create evaluator\n"
     ]
    },
    {
     "name": "stderr",
     "output_type": "stream",
     "text": [
      "\n"
     ]
    },
    {
     "name": "stdout",
     "output_type": "stream",
     "text": [
      "The test feature is normalized\n",
      "Validation Results\n",
      "mAP: 50.6%\n",
      "CMC curve, Rank-1  :75.4%\n",
      "CMC curve, Rank-2  :82.2%\n",
      "CMC curve, Rank-4  :87.7%\n",
      "CMC curve, Rank-6  :90.5%\n",
      "CMC curve, Rank-8  :92.0%\n",
      "CMC curve, Rank-10 :93.1%\n",
      "CMC curve, Rank-12 :94.0%\n",
      "CMC curve, Rank-14 :94.9%\n",
      "CMC curve, Rank-16 :95.2%\n",
      "CMC curve, Rank-18 :95.7%\n",
      "CMC curve, Rank-20 :96.0%\n",
      "CMC curve, Rank-22 :96.2%\n",
      "CMC curve, Rank-24 :96.4%\n",
      "CMC curve, Rank-26 :96.5%\n",
      "CMC curve, Rank-28 :96.8%\n",
      "CMC curve, Rank-30 :96.9%\n",
      "CMC curve, Rank-32 :97.0%\n"
     ]
    },
    {
     "name": "stderr",
     "output_type": "stream",
     "text": [
      "Train Epoch: 13 [259/259 (100%)] Loss: 0.111088: : 259it [01:11,  3.63it/s]"
     ]
    },
    {
     "name": "stdout",
     "output_type": "stream",
     "text": [
      "Enter inferencing\n",
      "Create evaluator\n"
     ]
    },
    {
     "name": "stderr",
     "output_type": "stream",
     "text": [
      "\n"
     ]
    },
    {
     "name": "stdout",
     "output_type": "stream",
     "text": [
      "The test feature is normalized\n",
      "Validation Results\n",
      "mAP: 51.6%\n",
      "CMC curve, Rank-1  :76.5%\n",
      "CMC curve, Rank-2  :82.6%\n",
      "CMC curve, Rank-4  :88.3%\n",
      "CMC curve, Rank-6  :91.1%\n",
      "CMC curve, Rank-8  :92.6%\n",
      "CMC curve, Rank-10 :93.3%\n",
      "CMC curve, Rank-12 :94.2%\n",
      "CMC curve, Rank-14 :94.9%\n",
      "CMC curve, Rank-16 :95.4%\n",
      "CMC curve, Rank-18 :95.9%\n",
      "CMC curve, Rank-20 :96.3%\n",
      "CMC curve, Rank-22 :96.5%\n",
      "CMC curve, Rank-24 :96.7%\n",
      "CMC curve, Rank-26 :97.0%\n",
      "CMC curve, Rank-28 :97.1%\n",
      "CMC curve, Rank-30 :97.3%\n",
      "CMC curve, Rank-32 :97.4%\n"
     ]
    },
    {
     "name": "stderr",
     "output_type": "stream",
     "text": [
      "Train Epoch: 14 [259/259 (100%)] Loss: 0.092876: : 259it [01:11,  3.63it/s]"
     ]
    },
    {
     "name": "stdout",
     "output_type": "stream",
     "text": [
      "Enter inferencing\n",
      "Create evaluator\n"
     ]
    },
    {
     "name": "stderr",
     "output_type": "stream",
     "text": [
      "\n"
     ]
    },
    {
     "name": "stdout",
     "output_type": "stream",
     "text": [
      "The test feature is normalized\n",
      "Validation Results\n",
      "mAP: 52.3%\n",
      "CMC curve, Rank-1  :76.9%\n",
      "CMC curve, Rank-2  :83.4%\n",
      "CMC curve, Rank-4  :88.5%\n",
      "CMC curve, Rank-6  :91.4%\n",
      "CMC curve, Rank-8  :92.9%\n",
      "CMC curve, Rank-10 :93.9%\n",
      "CMC curve, Rank-12 :94.6%\n",
      "CMC curve, Rank-14 :95.2%\n",
      "CMC curve, Rank-16 :95.5%\n",
      "CMC curve, Rank-18 :96.0%\n",
      "CMC curve, Rank-20 :96.2%\n",
      "CMC curve, Rank-22 :96.5%\n",
      "CMC curve, Rank-24 :96.6%\n",
      "CMC curve, Rank-26 :96.8%\n",
      "CMC curve, Rank-28 :96.9%\n",
      "CMC curve, Rank-30 :97.0%\n",
      "CMC curve, Rank-32 :97.1%\n"
     ]
    },
    {
     "name": "stderr",
     "output_type": "stream",
     "text": [
      "Train Epoch: 15 [259/259 (100%)] Loss: 0.091611: : 259it [01:11,  3.63it/s]"
     ]
    },
    {
     "name": "stdout",
     "output_type": "stream",
     "text": [
      "Enter inferencing\n",
      "Create evaluator\n"
     ]
    },
    {
     "name": "stderr",
     "output_type": "stream",
     "text": [
      "\n"
     ]
    },
    {
     "name": "stdout",
     "output_type": "stream",
     "text": [
      "The test feature is normalized\n",
      "Validation Results\n",
      "mAP: 53.0%\n",
      "CMC curve, Rank-1  :77.3%\n",
      "CMC curve, Rank-2  :83.5%\n",
      "CMC curve, Rank-4  :88.4%\n",
      "CMC curve, Rank-6  :91.5%\n",
      "CMC curve, Rank-8  :93.0%\n",
      "CMC curve, Rank-10 :93.9%\n",
      "CMC curve, Rank-12 :94.7%\n",
      "CMC curve, Rank-14 :95.3%\n",
      "CMC curve, Rank-16 :95.7%\n",
      "CMC curve, Rank-18 :95.9%\n",
      "CMC curve, Rank-20 :96.0%\n",
      "CMC curve, Rank-22 :96.3%\n",
      "CMC curve, Rank-24 :96.6%\n",
      "CMC curve, Rank-26 :96.7%\n",
      "CMC curve, Rank-28 :96.9%\n",
      "CMC curve, Rank-30 :97.2%\n",
      "CMC curve, Rank-32 :97.3%\n"
     ]
    },
    {
     "name": "stderr",
     "output_type": "stream",
     "text": [
      "Train Epoch: 16 [259/259 (100%)] Loss: 0.130846: : 259it [01:11,  3.63it/s]"
     ]
    },
    {
     "name": "stdout",
     "output_type": "stream",
     "text": [
      "Enter inferencing\n",
      "Create evaluator\n"
     ]
    },
    {
     "name": "stderr",
     "output_type": "stream",
     "text": [
      "\n"
     ]
    },
    {
     "name": "stdout",
     "output_type": "stream",
     "text": [
      "The test feature is normalized\n",
      "Validation Results\n",
      "mAP: 54.0%\n",
      "CMC curve, Rank-1  :78.7%\n",
      "CMC curve, Rank-2  :84.1%\n",
      "CMC curve, Rank-4  :89.3%\n",
      "CMC curve, Rank-6  :92.3%\n",
      "CMC curve, Rank-8  :93.5%\n",
      "CMC curve, Rank-10 :94.4%\n",
      "CMC curve, Rank-12 :94.9%\n",
      "CMC curve, Rank-14 :95.5%\n",
      "CMC curve, Rank-16 :96.0%\n",
      "CMC curve, Rank-18 :96.4%\n",
      "CMC curve, Rank-20 :96.7%\n",
      "CMC curve, Rank-22 :96.9%\n",
      "CMC curve, Rank-24 :97.1%\n",
      "CMC curve, Rank-26 :97.3%\n",
      "CMC curve, Rank-28 :97.4%\n",
      "CMC curve, Rank-30 :97.5%\n",
      "CMC curve, Rank-32 :97.7%\n"
     ]
    },
    {
     "name": "stderr",
     "output_type": "stream",
     "text": [
      "Train Epoch: 17 [259/259 (100%)] Loss: 0.085605: : 259it [01:11,  3.63it/s]"
     ]
    },
    {
     "name": "stdout",
     "output_type": "stream",
     "text": [
      "Enter inferencing\n",
      "Create evaluator\n"
     ]
    },
    {
     "name": "stderr",
     "output_type": "stream",
     "text": [
      "\n"
     ]
    },
    {
     "name": "stdout",
     "output_type": "stream",
     "text": [
      "The test feature is normalized\n",
      "Validation Results\n",
      "mAP: 54.9%\n",
      "CMC curve, Rank-1  :79.0%\n",
      "CMC curve, Rank-2  :84.9%\n",
      "CMC curve, Rank-4  :89.8%\n",
      "CMC curve, Rank-6  :92.5%\n",
      "CMC curve, Rank-8  :93.7%\n",
      "CMC curve, Rank-10 :94.5%\n",
      "CMC curve, Rank-12 :95.1%\n",
      "CMC curve, Rank-14 :95.7%\n",
      "CMC curve, Rank-16 :96.2%\n",
      "CMC curve, Rank-18 :96.5%\n",
      "CMC curve, Rank-20 :96.8%\n",
      "CMC curve, Rank-22 :97.1%\n",
      "CMC curve, Rank-24 :97.2%\n",
      "CMC curve, Rank-26 :97.4%\n",
      "CMC curve, Rank-28 :97.6%\n",
      "CMC curve, Rank-30 :97.7%\n",
      "CMC curve, Rank-32 :97.8%\n"
     ]
    },
    {
     "name": "stderr",
     "output_type": "stream",
     "text": [
      "Train Epoch: 18 [259/259 (100%)] Loss: 0.173203: : 259it [01:11,  3.63it/s]"
     ]
    },
    {
     "name": "stdout",
     "output_type": "stream",
     "text": [
      "Enter inferencing\n",
      "Create evaluator\n"
     ]
    },
    {
     "name": "stderr",
     "output_type": "stream",
     "text": [
      "\n"
     ]
    },
    {
     "name": "stdout",
     "output_type": "stream",
     "text": [
      "The test feature is normalized\n",
      "Validation Results\n",
      "mAP: 55.3%\n",
      "CMC curve, Rank-1  :79.1%\n",
      "CMC curve, Rank-2  :85.1%\n",
      "CMC curve, Rank-4  :90.0%\n",
      "CMC curve, Rank-6  :92.5%\n",
      "CMC curve, Rank-8  :94.0%\n",
      "CMC curve, Rank-10 :94.8%\n",
      "CMC curve, Rank-12 :95.5%\n",
      "CMC curve, Rank-14 :96.0%\n",
      "CMC curve, Rank-16 :96.3%\n",
      "CMC curve, Rank-18 :96.6%\n",
      "CMC curve, Rank-20 :97.0%\n",
      "CMC curve, Rank-22 :97.2%\n",
      "CMC curve, Rank-24 :97.4%\n",
      "CMC curve, Rank-26 :97.4%\n",
      "CMC curve, Rank-28 :97.6%\n",
      "CMC curve, Rank-30 :97.7%\n",
      "CMC curve, Rank-32 :97.7%\n"
     ]
    },
    {
     "name": "stderr",
     "output_type": "stream",
     "text": [
      "Train Epoch: 19 [259/259 (100%)] Loss: 0.095682: : 259it [01:11,  3.63it/s]"
     ]
    },
    {
     "name": "stdout",
     "output_type": "stream",
     "text": [
      "Enter inferencing\n",
      "Create evaluator\n"
     ]
    },
    {
     "name": "stderr",
     "output_type": "stream",
     "text": [
      "\n"
     ]
    },
    {
     "name": "stdout",
     "output_type": "stream",
     "text": [
      "The test feature is normalized\n",
      "Validation Results\n",
      "mAP: 55.9%\n",
      "CMC curve, Rank-1  :78.8%\n",
      "CMC curve, Rank-2  :85.2%\n",
      "CMC curve, Rank-4  :90.0%\n",
      "CMC curve, Rank-6  :92.9%\n",
      "CMC curve, Rank-8  :94.1%\n",
      "CMC curve, Rank-10 :94.9%\n",
      "CMC curve, Rank-12 :95.4%\n",
      "CMC curve, Rank-14 :95.9%\n",
      "CMC curve, Rank-16 :96.3%\n",
      "CMC curve, Rank-18 :96.9%\n",
      "CMC curve, Rank-20 :97.1%\n",
      "CMC curve, Rank-22 :97.2%\n",
      "CMC curve, Rank-24 :97.4%\n",
      "CMC curve, Rank-26 :97.6%\n",
      "CMC curve, Rank-28 :97.6%\n",
      "CMC curve, Rank-30 :97.7%\n",
      "CMC curve, Rank-32 :97.9%\n"
     ]
    },
    {
     "name": "stderr",
     "output_type": "stream",
     "text": [
      "Train Epoch: 20 [259/259 (100%)] Loss: 0.068287: : 259it [01:11,  3.63it/s]"
     ]
    },
    {
     "name": "stdout",
     "output_type": "stream",
     "text": [
      "Enter inferencing\n",
      "Create evaluator\n"
     ]
    },
    {
     "name": "stderr",
     "output_type": "stream",
     "text": [
      "\n"
     ]
    },
    {
     "name": "stdout",
     "output_type": "stream",
     "text": [
      "The test feature is normalized\n",
      "Validation Results\n",
      "mAP: 56.4%\n",
      "CMC curve, Rank-1  :79.9%\n",
      "CMC curve, Rank-2  :85.3%\n",
      "CMC curve, Rank-4  :90.4%\n",
      "CMC curve, Rank-6  :92.8%\n",
      "CMC curve, Rank-8  :93.8%\n",
      "CMC curve, Rank-10 :94.8%\n",
      "CMC curve, Rank-12 :95.3%\n",
      "CMC curve, Rank-14 :95.8%\n",
      "CMC curve, Rank-16 :96.5%\n",
      "CMC curve, Rank-18 :96.9%\n",
      "CMC curve, Rank-20 :97.1%\n",
      "CMC curve, Rank-22 :97.3%\n",
      "CMC curve, Rank-24 :97.5%\n",
      "CMC curve, Rank-26 :97.7%\n",
      "CMC curve, Rank-28 :97.8%\n",
      "CMC curve, Rank-30 :97.9%\n",
      "CMC curve, Rank-32 :98.0%\n"
     ]
    },
    {
     "name": "stderr",
     "output_type": "stream",
     "text": [
      "Train Epoch: 21 [259/259 (100%)] Loss: 0.092062: : 259it [01:11,  3.63it/s]"
     ]
    },
    {
     "name": "stdout",
     "output_type": "stream",
     "text": [
      "Enter inferencing\n",
      "Create evaluator\n"
     ]
    },
    {
     "name": "stderr",
     "output_type": "stream",
     "text": [
      "\n"
     ]
    },
    {
     "name": "stdout",
     "output_type": "stream",
     "text": [
      "The test feature is normalized\n",
      "Validation Results\n",
      "mAP: 56.7%\n",
      "CMC curve, Rank-1  :80.3%\n",
      "CMC curve, Rank-2  :85.7%\n",
      "CMC curve, Rank-4  :90.7%\n",
      "CMC curve, Rank-6  :93.1%\n",
      "CMC curve, Rank-8  :94.1%\n",
      "CMC curve, Rank-10 :94.9%\n",
      "CMC curve, Rank-12 :95.6%\n",
      "CMC curve, Rank-14 :96.2%\n",
      "CMC curve, Rank-16 :96.7%\n",
      "CMC curve, Rank-18 :97.0%\n",
      "CMC curve, Rank-20 :97.3%\n",
      "CMC curve, Rank-22 :97.4%\n",
      "CMC curve, Rank-24 :97.6%\n",
      "CMC curve, Rank-26 :97.7%\n",
      "CMC curve, Rank-28 :97.8%\n",
      "CMC curve, Rank-30 :97.9%\n",
      "CMC curve, Rank-32 :97.9%\n"
     ]
    },
    {
     "name": "stderr",
     "output_type": "stream",
     "text": [
      "Train Epoch: 22 [259/259 (100%)] Loss: 0.084378: : 259it [01:11,  3.63it/s]"
     ]
    },
    {
     "name": "stdout",
     "output_type": "stream",
     "text": [
      "Enter inferencing\n",
      "Create evaluator\n"
     ]
    },
    {
     "name": "stderr",
     "output_type": "stream",
     "text": [
      "\n"
     ]
    },
    {
     "name": "stdout",
     "output_type": "stream",
     "text": [
      "The test feature is normalized\n",
      "Validation Results\n",
      "mAP: 57.2%\n",
      "CMC curve, Rank-1  :80.0%\n",
      "CMC curve, Rank-2  :86.5%\n",
      "CMC curve, Rank-4  :90.6%\n",
      "CMC curve, Rank-6  :93.2%\n",
      "CMC curve, Rank-8  :94.3%\n",
      "CMC curve, Rank-10 :95.3%\n",
      "CMC curve, Rank-12 :95.8%\n",
      "CMC curve, Rank-14 :96.2%\n",
      "CMC curve, Rank-16 :96.5%\n",
      "CMC curve, Rank-18 :96.8%\n",
      "CMC curve, Rank-20 :97.2%\n",
      "CMC curve, Rank-22 :97.3%\n",
      "CMC curve, Rank-24 :97.5%\n",
      "CMC curve, Rank-26 :97.7%\n",
      "CMC curve, Rank-28 :97.8%\n",
      "CMC curve, Rank-30 :97.9%\n",
      "CMC curve, Rank-32 :98.0%\n"
     ]
    },
    {
     "name": "stderr",
     "output_type": "stream",
     "text": [
      "Train Epoch: 23 [259/259 (100%)] Loss: 0.134927: : 259it [01:11,  3.63it/s]"
     ]
    },
    {
     "name": "stdout",
     "output_type": "stream",
     "text": [
      "Enter inferencing\n",
      "Create evaluator\n"
     ]
    },
    {
     "name": "stderr",
     "output_type": "stream",
     "text": [
      "\n"
     ]
    },
    {
     "name": "stdout",
     "output_type": "stream",
     "text": [
      "The test feature is normalized\n",
      "Validation Results\n",
      "mAP: 57.5%\n",
      "CMC curve, Rank-1  :80.6%\n",
      "CMC curve, Rank-2  :86.5%\n",
      "CMC curve, Rank-4  :91.2%\n",
      "CMC curve, Rank-6  :93.6%\n",
      "CMC curve, Rank-8  :94.6%\n",
      "CMC curve, Rank-10 :95.4%\n",
      "CMC curve, Rank-12 :96.1%\n",
      "CMC curve, Rank-14 :96.4%\n",
      "CMC curve, Rank-16 :96.7%\n",
      "CMC curve, Rank-18 :97.1%\n",
      "CMC curve, Rank-20 :97.3%\n",
      "CMC curve, Rank-22 :97.6%\n",
      "CMC curve, Rank-24 :97.8%\n",
      "CMC curve, Rank-26 :97.9%\n",
      "CMC curve, Rank-28 :98.0%\n",
      "CMC curve, Rank-30 :98.1%\n",
      "CMC curve, Rank-32 :98.2%\n"
     ]
    },
    {
     "name": "stderr",
     "output_type": "stream",
     "text": [
      "Train Epoch: 24 [259/259 (100%)] Loss: 0.077651: : 259it [01:11,  3.62it/s]"
     ]
    },
    {
     "name": "stdout",
     "output_type": "stream",
     "text": [
      "Enter inferencing\n",
      "Create evaluator\n"
     ]
    },
    {
     "name": "stderr",
     "output_type": "stream",
     "text": [
      "\n"
     ]
    },
    {
     "name": "stdout",
     "output_type": "stream",
     "text": [
      "The test feature is normalized\n",
      "Validation Results\n",
      "mAP: 57.7%\n",
      "CMC curve, Rank-1  :80.6%\n",
      "CMC curve, Rank-2  :87.0%\n",
      "CMC curve, Rank-4  :91.5%\n",
      "CMC curve, Rank-6  :93.3%\n",
      "CMC curve, Rank-8  :94.4%\n",
      "CMC curve, Rank-10 :95.4%\n",
      "CMC curve, Rank-12 :96.0%\n",
      "CMC curve, Rank-14 :96.5%\n",
      "CMC curve, Rank-16 :97.0%\n",
      "CMC curve, Rank-18 :97.2%\n",
      "CMC curve, Rank-20 :97.4%\n",
      "CMC curve, Rank-22 :97.6%\n",
      "CMC curve, Rank-24 :97.7%\n",
      "CMC curve, Rank-26 :97.9%\n",
      "CMC curve, Rank-28 :97.9%\n",
      "CMC curve, Rank-30 :98.0%\n",
      "CMC curve, Rank-32 :98.1%\n"
     ]
    },
    {
     "name": "stderr",
     "output_type": "stream",
     "text": [
      "Train Epoch: 25 [259/259 (100%)] Loss: 0.038820: : 259it [01:11,  3.63it/s]"
     ]
    },
    {
     "name": "stdout",
     "output_type": "stream",
     "text": [
      "Enter inferencing\n",
      "Create evaluator\n"
     ]
    },
    {
     "name": "stderr",
     "output_type": "stream",
     "text": [
      "\n"
     ]
    },
    {
     "name": "stdout",
     "output_type": "stream",
     "text": [
      "The test feature is normalized\n",
      "Validation Results\n",
      "mAP: 58.2%\n",
      "CMC curve, Rank-1  :80.9%\n",
      "CMC curve, Rank-2  :86.9%\n",
      "CMC curve, Rank-4  :91.3%\n",
      "CMC curve, Rank-6  :93.7%\n",
      "CMC curve, Rank-8  :94.7%\n",
      "CMC curve, Rank-10 :95.6%\n",
      "CMC curve, Rank-12 :96.2%\n",
      "CMC curve, Rank-14 :96.6%\n",
      "CMC curve, Rank-16 :96.9%\n",
      "CMC curve, Rank-18 :97.3%\n",
      "CMC curve, Rank-20 :97.4%\n",
      "CMC curve, Rank-22 :97.5%\n",
      "CMC curve, Rank-24 :97.5%\n",
      "CMC curve, Rank-26 :97.7%\n",
      "CMC curve, Rank-28 :97.8%\n",
      "CMC curve, Rank-30 :98.0%\n",
      "CMC curve, Rank-32 :98.0%\n"
     ]
    },
    {
     "name": "stderr",
     "output_type": "stream",
     "text": [
      "Train Epoch: 26 [259/259 (100%)] Loss: 0.048777: : 259it [01:11,  3.63it/s]"
     ]
    },
    {
     "name": "stdout",
     "output_type": "stream",
     "text": [
      "Enter inferencing\n",
      "Create evaluator\n"
     ]
    },
    {
     "name": "stderr",
     "output_type": "stream",
     "text": [
      "\n"
     ]
    },
    {
     "name": "stdout",
     "output_type": "stream",
     "text": [
      "The test feature is normalized\n",
      "Validation Results\n",
      "mAP: 58.7%\n",
      "CMC curve, Rank-1  :81.3%\n",
      "CMC curve, Rank-2  :87.4%\n",
      "CMC curve, Rank-4  :91.7%\n",
      "CMC curve, Rank-6  :93.8%\n",
      "CMC curve, Rank-8  :94.8%\n",
      "CMC curve, Rank-10 :95.8%\n",
      "CMC curve, Rank-12 :96.1%\n",
      "CMC curve, Rank-14 :96.6%\n",
      "CMC curve, Rank-16 :96.9%\n",
      "CMC curve, Rank-18 :97.2%\n",
      "CMC curve, Rank-20 :97.4%\n",
      "CMC curve, Rank-22 :97.4%\n",
      "CMC curve, Rank-24 :97.6%\n",
      "CMC curve, Rank-26 :97.8%\n",
      "CMC curve, Rank-28 :98.0%\n",
      "CMC curve, Rank-30 :98.2%\n",
      "CMC curve, Rank-32 :98.2%\n"
     ]
    },
    {
     "name": "stderr",
     "output_type": "stream",
     "text": [
      "Train Epoch: 27 [259/259 (100%)] Loss: 0.047572: : 259it [01:11,  3.63it/s]"
     ]
    },
    {
     "name": "stdout",
     "output_type": "stream",
     "text": [
      "Enter inferencing\n",
      "Create evaluator\n"
     ]
    },
    {
     "name": "stderr",
     "output_type": "stream",
     "text": [
      "\n"
     ]
    },
    {
     "name": "stdout",
     "output_type": "stream",
     "text": [
      "The test feature is normalized\n",
      "Validation Results\n",
      "mAP: 58.8%\n",
      "CMC curve, Rank-1  :81.5%\n",
      "CMC curve, Rank-2  :87.1%\n",
      "CMC curve, Rank-4  :91.8%\n",
      "CMC curve, Rank-6  :93.4%\n",
      "CMC curve, Rank-8  :95.0%\n",
      "CMC curve, Rank-10 :95.8%\n",
      "CMC curve, Rank-12 :96.2%\n",
      "CMC curve, Rank-14 :96.8%\n",
      "CMC curve, Rank-16 :96.9%\n",
      "CMC curve, Rank-18 :97.2%\n",
      "CMC curve, Rank-20 :97.3%\n",
      "CMC curve, Rank-22 :97.7%\n",
      "CMC curve, Rank-24 :97.8%\n",
      "CMC curve, Rank-26 :98.0%\n",
      "CMC curve, Rank-28 :98.1%\n",
      "CMC curve, Rank-30 :98.1%\n",
      "CMC curve, Rank-32 :98.2%\n"
     ]
    },
    {
     "name": "stderr",
     "output_type": "stream",
     "text": [
      "Train Epoch: 28 [259/259 (100%)] Loss: 0.051358: : 259it [01:11,  3.63it/s]"
     ]
    },
    {
     "name": "stdout",
     "output_type": "stream",
     "text": [
      "Enter inferencing\n",
      "Create evaluator\n"
     ]
    },
    {
     "name": "stderr",
     "output_type": "stream",
     "text": [
      "\n"
     ]
    },
    {
     "name": "stdout",
     "output_type": "stream",
     "text": [
      "The test feature is normalized\n",
      "Validation Results\n",
      "mAP: 59.3%\n",
      "CMC curve, Rank-1  :81.8%\n",
      "CMC curve, Rank-2  :87.4%\n",
      "CMC curve, Rank-4  :91.7%\n",
      "CMC curve, Rank-6  :93.6%\n",
      "CMC curve, Rank-8  :94.8%\n",
      "CMC curve, Rank-10 :95.7%\n",
      "CMC curve, Rank-12 :96.2%\n",
      "CMC curve, Rank-14 :96.6%\n",
      "CMC curve, Rank-16 :96.8%\n",
      "CMC curve, Rank-18 :97.1%\n",
      "CMC curve, Rank-20 :97.4%\n",
      "CMC curve, Rank-22 :97.5%\n",
      "CMC curve, Rank-24 :97.6%\n",
      "CMC curve, Rank-26 :97.7%\n",
      "CMC curve, Rank-28 :97.9%\n",
      "CMC curve, Rank-30 :98.0%\n",
      "CMC curve, Rank-32 :98.2%\n"
     ]
    },
    {
     "name": "stderr",
     "output_type": "stream",
     "text": [
      "Train Epoch: 29 [259/259 (100%)] Loss: 0.089085: : 259it [01:11,  3.63it/s]"
     ]
    },
    {
     "name": "stdout",
     "output_type": "stream",
     "text": [
      "Enter inferencing\n",
      "Create evaluator\n"
     ]
    },
    {
     "name": "stderr",
     "output_type": "stream",
     "text": [
      "\n"
     ]
    },
    {
     "name": "stdout",
     "output_type": "stream",
     "text": [
      "The test feature is normalized\n",
      "Validation Results\n",
      "mAP: 59.5%\n",
      "CMC curve, Rank-1  :81.3%\n",
      "CMC curve, Rank-2  :87.4%\n",
      "CMC curve, Rank-4  :91.9%\n",
      "CMC curve, Rank-6  :93.8%\n",
      "CMC curve, Rank-8  :94.9%\n",
      "CMC curve, Rank-10 :95.7%\n",
      "CMC curve, Rank-12 :96.1%\n",
      "CMC curve, Rank-14 :96.5%\n",
      "CMC curve, Rank-16 :96.8%\n",
      "CMC curve, Rank-18 :97.1%\n",
      "CMC curve, Rank-20 :97.2%\n",
      "CMC curve, Rank-22 :97.5%\n",
      "CMC curve, Rank-24 :97.8%\n",
      "CMC curve, Rank-26 :97.9%\n",
      "CMC curve, Rank-28 :98.0%\n",
      "CMC curve, Rank-30 :98.3%\n",
      "CMC curve, Rank-32 :98.3%\n"
     ]
    },
    {
     "name": "stderr",
     "output_type": "stream",
     "text": [
      "Train Epoch: 30 [259/259 (100%)] Loss: 0.045081: : 259it [01:11,  3.63it/s]"
     ]
    },
    {
     "name": "stdout",
     "output_type": "stream",
     "text": [
      "Enter inferencing\n",
      "Create evaluator\n"
     ]
    },
    {
     "name": "stderr",
     "output_type": "stream",
     "text": [
      "\n"
     ]
    },
    {
     "name": "stdout",
     "output_type": "stream",
     "text": [
      "The test feature is normalized\n",
      "Validation Results\n",
      "mAP: 59.5%\n",
      "CMC curve, Rank-1  :81.5%\n",
      "CMC curve, Rank-2  :87.5%\n",
      "CMC curve, Rank-4  :91.6%\n",
      "CMC curve, Rank-6  :93.8%\n",
      "CMC curve, Rank-8  :94.9%\n",
      "CMC curve, Rank-10 :95.7%\n",
      "CMC curve, Rank-12 :96.3%\n",
      "CMC curve, Rank-14 :96.6%\n",
      "CMC curve, Rank-16 :96.8%\n",
      "CMC curve, Rank-18 :97.1%\n",
      "CMC curve, Rank-20 :97.4%\n",
      "CMC curve, Rank-22 :97.6%\n",
      "CMC curve, Rank-24 :97.7%\n",
      "CMC curve, Rank-26 :97.9%\n",
      "CMC curve, Rank-28 :97.9%\n",
      "CMC curve, Rank-30 :98.0%\n",
      "CMC curve, Rank-32 :98.2%\n"
     ]
    },
    {
     "name": "stderr",
     "output_type": "stream",
     "text": [
      "Train Epoch: 31 [259/259 (100%)] Loss: 0.159704: : 259it [01:11,  3.63it/s]"
     ]
    },
    {
     "name": "stdout",
     "output_type": "stream",
     "text": [
      "Enter inferencing\n",
      "Create evaluator\n"
     ]
    },
    {
     "name": "stderr",
     "output_type": "stream",
     "text": [
      "\n"
     ]
    },
    {
     "name": "stdout",
     "output_type": "stream",
     "text": [
      "The test feature is normalized\n",
      "Validation Results\n",
      "mAP: 59.5%\n",
      "CMC curve, Rank-1  :81.4%\n",
      "CMC curve, Rank-2  :87.4%\n",
      "CMC curve, Rank-4  :91.9%\n",
      "CMC curve, Rank-6  :93.6%\n",
      "CMC curve, Rank-8  :94.7%\n",
      "CMC curve, Rank-10 :95.8%\n",
      "CMC curve, Rank-12 :96.1%\n",
      "CMC curve, Rank-14 :96.6%\n",
      "CMC curve, Rank-16 :96.9%\n",
      "CMC curve, Rank-18 :97.2%\n",
      "CMC curve, Rank-20 :97.4%\n",
      "CMC curve, Rank-22 :97.7%\n",
      "CMC curve, Rank-24 :97.7%\n",
      "CMC curve, Rank-26 :97.9%\n",
      "CMC curve, Rank-28 :98.0%\n",
      "CMC curve, Rank-30 :98.1%\n",
      "CMC curve, Rank-32 :98.2%\n"
     ]
    },
    {
     "name": "stderr",
     "output_type": "stream",
     "text": [
      "Train Epoch: 32 [259/259 (100%)] Loss: 0.057597: : 259it [01:11,  3.62it/s]"
     ]
    },
    {
     "name": "stdout",
     "output_type": "stream",
     "text": [
      "Enter inferencing\n",
      "Create evaluator\n"
     ]
    },
    {
     "name": "stderr",
     "output_type": "stream",
     "text": [
      "\n"
     ]
    },
    {
     "name": "stdout",
     "output_type": "stream",
     "text": [
      "The test feature is normalized\n",
      "Validation Results\n",
      "mAP: 59.9%\n",
      "CMC curve, Rank-1  :81.9%\n",
      "CMC curve, Rank-2  :87.2%\n",
      "CMC curve, Rank-4  :92.2%\n",
      "CMC curve, Rank-6  :94.2%\n",
      "CMC curve, Rank-8  :95.2%\n",
      "CMC curve, Rank-10 :95.8%\n",
      "CMC curve, Rank-12 :96.3%\n",
      "CMC curve, Rank-14 :96.7%\n",
      "CMC curve, Rank-16 :96.9%\n",
      "CMC curve, Rank-18 :97.3%\n",
      "CMC curve, Rank-20 :97.6%\n",
      "CMC curve, Rank-22 :97.7%\n",
      "CMC curve, Rank-24 :97.8%\n",
      "CMC curve, Rank-26 :98.0%\n",
      "CMC curve, Rank-28 :98.2%\n",
      "CMC curve, Rank-30 :98.2%\n",
      "CMC curve, Rank-32 :98.2%\n"
     ]
    },
    {
     "name": "stderr",
     "output_type": "stream",
     "text": [
      "Train Epoch: 33 [259/259 (100%)] Loss: 0.047737: : 259it [01:11,  3.63it/s]"
     ]
    },
    {
     "name": "stdout",
     "output_type": "stream",
     "text": [
      "Enter inferencing\n",
      "Create evaluator\n"
     ]
    },
    {
     "name": "stderr",
     "output_type": "stream",
     "text": [
      "\n"
     ]
    },
    {
     "name": "stdout",
     "output_type": "stream",
     "text": [
      "The test feature is normalized\n",
      "Validation Results\n",
      "mAP: 60.1%\n",
      "CMC curve, Rank-1  :82.0%\n",
      "CMC curve, Rank-2  :87.7%\n",
      "CMC curve, Rank-4  :92.3%\n",
      "CMC curve, Rank-6  :94.2%\n",
      "CMC curve, Rank-8  :95.2%\n",
      "CMC curve, Rank-10 :95.8%\n",
      "CMC curve, Rank-12 :96.3%\n",
      "CMC curve, Rank-14 :96.8%\n",
      "CMC curve, Rank-16 :97.0%\n",
      "CMC curve, Rank-18 :97.1%\n",
      "CMC curve, Rank-20 :97.4%\n",
      "CMC curve, Rank-22 :97.7%\n",
      "CMC curve, Rank-24 :97.8%\n",
      "CMC curve, Rank-26 :97.9%\n",
      "CMC curve, Rank-28 :98.1%\n",
      "CMC curve, Rank-30 :98.2%\n",
      "CMC curve, Rank-32 :98.3%\n"
     ]
    },
    {
     "name": "stderr",
     "output_type": "stream",
     "text": [
      "Train Epoch: 34 [259/259 (100%)] Loss: 0.043128: : 259it [01:11,  3.62it/s]"
     ]
    },
    {
     "name": "stdout",
     "output_type": "stream",
     "text": [
      "Enter inferencing\n",
      "Create evaluator\n"
     ]
    },
    {
     "name": "stderr",
     "output_type": "stream",
     "text": [
      "\n"
     ]
    },
    {
     "name": "stdout",
     "output_type": "stream",
     "text": [
      "The test feature is normalized\n",
      "Validation Results\n",
      "mAP: 60.3%\n",
      "CMC curve, Rank-1  :82.6%\n",
      "CMC curve, Rank-2  :87.8%\n",
      "CMC curve, Rank-4  :92.1%\n",
      "CMC curve, Rank-6  :94.2%\n",
      "CMC curve, Rank-8  :95.2%\n",
      "CMC curve, Rank-10 :95.8%\n",
      "CMC curve, Rank-12 :96.3%\n",
      "CMC curve, Rank-14 :96.7%\n",
      "CMC curve, Rank-16 :97.1%\n",
      "CMC curve, Rank-18 :97.3%\n",
      "CMC curve, Rank-20 :97.5%\n",
      "CMC curve, Rank-22 :97.7%\n",
      "CMC curve, Rank-24 :97.9%\n",
      "CMC curve, Rank-26 :98.0%\n",
      "CMC curve, Rank-28 :98.2%\n",
      "CMC curve, Rank-30 :98.3%\n",
      "CMC curve, Rank-32 :98.3%\n"
     ]
    },
    {
     "name": "stderr",
     "output_type": "stream",
     "text": [
      "Train Epoch: 35 [259/259 (100%)] Loss: 0.066268: : 259it [01:11,  3.63it/s]"
     ]
    },
    {
     "name": "stdout",
     "output_type": "stream",
     "text": [
      "Enter inferencing\n",
      "Create evaluator\n"
     ]
    },
    {
     "name": "stderr",
     "output_type": "stream",
     "text": [
      "\n"
     ]
    },
    {
     "name": "stdout",
     "output_type": "stream",
     "text": [
      "The test feature is normalized\n",
      "Validation Results\n",
      "mAP: 60.4%\n",
      "CMC curve, Rank-1  :82.3%\n",
      "CMC curve, Rank-2  :87.8%\n",
      "CMC curve, Rank-4  :92.4%\n",
      "CMC curve, Rank-6  :94.3%\n",
      "CMC curve, Rank-8  :95.1%\n",
      "CMC curve, Rank-10 :95.7%\n",
      "CMC curve, Rank-12 :96.1%\n",
      "CMC curve, Rank-14 :96.7%\n",
      "CMC curve, Rank-16 :97.0%\n",
      "CMC curve, Rank-18 :97.2%\n",
      "CMC curve, Rank-20 :97.6%\n",
      "CMC curve, Rank-22 :97.7%\n",
      "CMC curve, Rank-24 :97.9%\n",
      "CMC curve, Rank-26 :98.0%\n",
      "CMC curve, Rank-28 :98.1%\n",
      "CMC curve, Rank-30 :98.3%\n",
      "CMC curve, Rank-32 :98.4%\n"
     ]
    },
    {
     "name": "stderr",
     "output_type": "stream",
     "text": [
      "Train Epoch: 36 [259/259 (100%)] Loss: 0.097425: : 259it [01:11,  3.62it/s]"
     ]
    },
    {
     "name": "stdout",
     "output_type": "stream",
     "text": [
      "Enter inferencing\n",
      "Create evaluator\n"
     ]
    },
    {
     "name": "stderr",
     "output_type": "stream",
     "text": [
      "\n"
     ]
    },
    {
     "name": "stdout",
     "output_type": "stream",
     "text": [
      "The test feature is normalized\n",
      "Validation Results\n",
      "mAP: 60.6%\n",
      "CMC curve, Rank-1  :82.6%\n",
      "CMC curve, Rank-2  :88.0%\n",
      "CMC curve, Rank-4  :92.5%\n",
      "CMC curve, Rank-6  :94.3%\n",
      "CMC curve, Rank-8  :95.2%\n",
      "CMC curve, Rank-10 :95.9%\n",
      "CMC curve, Rank-12 :96.3%\n",
      "CMC curve, Rank-14 :96.8%\n",
      "CMC curve, Rank-16 :97.1%\n",
      "CMC curve, Rank-18 :97.4%\n",
      "CMC curve, Rank-20 :97.7%\n",
      "CMC curve, Rank-22 :97.8%\n",
      "CMC curve, Rank-24 :97.9%\n",
      "CMC curve, Rank-26 :98.1%\n",
      "CMC curve, Rank-28 :98.2%\n",
      "CMC curve, Rank-30 :98.3%\n",
      "CMC curve, Rank-32 :98.5%\n"
     ]
    },
    {
     "name": "stderr",
     "output_type": "stream",
     "text": [
      "Train Epoch: 37 [259/259 (100%)] Loss: 0.043110: : 259it [01:11,  3.63it/s]"
     ]
    },
    {
     "name": "stdout",
     "output_type": "stream",
     "text": [
      "Enter inferencing\n",
      "Create evaluator\n"
     ]
    },
    {
     "name": "stderr",
     "output_type": "stream",
     "text": [
      "\n"
     ]
    },
    {
     "name": "stdout",
     "output_type": "stream",
     "text": [
      "The test feature is normalized\n",
      "Validation Results\n",
      "mAP: 60.7%\n",
      "CMC curve, Rank-1  :82.7%\n",
      "CMC curve, Rank-2  :88.0%\n",
      "CMC curve, Rank-4  :92.4%\n",
      "CMC curve, Rank-6  :94.4%\n",
      "CMC curve, Rank-8  :95.2%\n",
      "CMC curve, Rank-10 :95.8%\n",
      "CMC curve, Rank-12 :96.2%\n",
      "CMC curve, Rank-14 :96.8%\n",
      "CMC curve, Rank-16 :97.0%\n",
      "CMC curve, Rank-18 :97.2%\n",
      "CMC curve, Rank-20 :97.5%\n",
      "CMC curve, Rank-22 :97.7%\n",
      "CMC curve, Rank-24 :98.0%\n",
      "CMC curve, Rank-26 :98.1%\n",
      "CMC curve, Rank-28 :98.1%\n",
      "CMC curve, Rank-30 :98.2%\n",
      "CMC curve, Rank-32 :98.4%\n"
     ]
    },
    {
     "name": "stderr",
     "output_type": "stream",
     "text": [
      "Train Epoch: 38 [259/259 (100%)] Loss: 0.045296: : 259it [01:11,  3.63it/s]"
     ]
    },
    {
     "name": "stdout",
     "output_type": "stream",
     "text": [
      "Enter inferencing\n",
      "Create evaluator\n"
     ]
    },
    {
     "name": "stderr",
     "output_type": "stream",
     "text": [
      "\n"
     ]
    },
    {
     "name": "stdout",
     "output_type": "stream",
     "text": [
      "The test feature is normalized\n",
      "Validation Results\n",
      "mAP: 60.6%\n",
      "CMC curve, Rank-1  :82.5%\n",
      "CMC curve, Rank-2  :88.0%\n",
      "CMC curve, Rank-4  :92.5%\n",
      "CMC curve, Rank-6  :94.4%\n",
      "CMC curve, Rank-8  :95.2%\n",
      "CMC curve, Rank-10 :95.9%\n",
      "CMC curve, Rank-12 :96.2%\n",
      "CMC curve, Rank-14 :96.6%\n",
      "CMC curve, Rank-16 :97.0%\n",
      "CMC curve, Rank-18 :97.4%\n",
      "CMC curve, Rank-20 :97.6%\n",
      "CMC curve, Rank-22 :97.9%\n",
      "CMC curve, Rank-24 :98.0%\n",
      "CMC curve, Rank-26 :98.1%\n",
      "CMC curve, Rank-28 :98.2%\n",
      "CMC curve, Rank-30 :98.2%\n",
      "CMC curve, Rank-32 :98.4%\n"
     ]
    },
    {
     "name": "stderr",
     "output_type": "stream",
     "text": [
      "Train Epoch: 39 [259/259 (100%)] Loss: 0.061524: : 259it [01:11,  3.63it/s]"
     ]
    },
    {
     "name": "stdout",
     "output_type": "stream",
     "text": [
      "Enter inferencing\n",
      "Create evaluator\n"
     ]
    },
    {
     "name": "stderr",
     "output_type": "stream",
     "text": [
      "\n"
     ]
    },
    {
     "name": "stdout",
     "output_type": "stream",
     "text": [
      "The test feature is normalized\n",
      "Validation Results\n",
      "mAP: 60.9%\n",
      "CMC curve, Rank-1  :83.0%\n",
      "CMC curve, Rank-2  :88.2%\n",
      "CMC curve, Rank-4  :92.4%\n",
      "CMC curve, Rank-6  :94.3%\n",
      "CMC curve, Rank-8  :95.5%\n",
      "CMC curve, Rank-10 :96.0%\n",
      "CMC curve, Rank-12 :96.4%\n",
      "CMC curve, Rank-14 :96.7%\n",
      "CMC curve, Rank-16 :96.9%\n",
      "CMC curve, Rank-18 :97.2%\n",
      "CMC curve, Rank-20 :97.4%\n",
      "CMC curve, Rank-22 :97.6%\n",
      "CMC curve, Rank-24 :97.7%\n",
      "CMC curve, Rank-26 :97.8%\n",
      "CMC curve, Rank-28 :98.0%\n",
      "CMC curve, Rank-30 :98.1%\n",
      "CMC curve, Rank-32 :98.4%\n"
     ]
    },
    {
     "name": "stderr",
     "output_type": "stream",
     "text": [
      "Train Epoch: 40 [259/259 (100%)] Loss: 0.052645: : 259it [01:11,  3.62it/s]"
     ]
    },
    {
     "name": "stdout",
     "output_type": "stream",
     "text": [
      "Enter inferencing\n",
      "Create evaluator\n"
     ]
    },
    {
     "name": "stderr",
     "output_type": "stream",
     "text": [
      "\n"
     ]
    },
    {
     "name": "stdout",
     "output_type": "stream",
     "text": [
      "The test feature is normalized\n",
      "Validation Results\n",
      "mAP: 60.9%\n",
      "CMC curve, Rank-1  :82.6%\n",
      "CMC curve, Rank-2  :88.1%\n",
      "CMC curve, Rank-4  :92.4%\n",
      "CMC curve, Rank-6  :94.3%\n",
      "CMC curve, Rank-8  :95.2%\n",
      "CMC curve, Rank-10 :95.8%\n",
      "CMC curve, Rank-12 :96.3%\n",
      "CMC curve, Rank-14 :96.7%\n",
      "CMC curve, Rank-16 :97.0%\n",
      "CMC curve, Rank-18 :97.3%\n",
      "CMC curve, Rank-20 :97.5%\n",
      "CMC curve, Rank-22 :97.8%\n",
      "CMC curve, Rank-24 :97.9%\n",
      "CMC curve, Rank-26 :98.0%\n",
      "CMC curve, Rank-28 :98.1%\n",
      "CMC curve, Rank-30 :98.2%\n",
      "CMC curve, Rank-32 :98.3%\n"
     ]
    },
    {
     "name": "stderr",
     "output_type": "stream",
     "text": [
      "Train Epoch: 41 [259/259 (100%)] Loss: 0.033397: : 259it [01:11,  3.63it/s]"
     ]
    },
    {
     "name": "stdout",
     "output_type": "stream",
     "text": [
      "Enter inferencing\n",
      "Create evaluator\n"
     ]
    },
    {
     "name": "stderr",
     "output_type": "stream",
     "text": [
      "\n"
     ]
    },
    {
     "name": "stdout",
     "output_type": "stream",
     "text": [
      "The test feature is normalized\n",
      "Validation Results\n",
      "mAP: 61.1%\n",
      "CMC curve, Rank-1  :82.7%\n",
      "CMC curve, Rank-2  :88.3%\n",
      "CMC curve, Rank-4  :92.6%\n",
      "CMC curve, Rank-6  :94.3%\n",
      "CMC curve, Rank-8  :95.2%\n",
      "CMC curve, Rank-10 :95.8%\n",
      "CMC curve, Rank-12 :96.3%\n",
      "CMC curve, Rank-14 :96.8%\n",
      "CMC curve, Rank-16 :97.1%\n",
      "CMC curve, Rank-18 :97.4%\n",
      "CMC curve, Rank-20 :97.7%\n",
      "CMC curve, Rank-22 :97.7%\n",
      "CMC curve, Rank-24 :97.8%\n",
      "CMC curve, Rank-26 :97.9%\n",
      "CMC curve, Rank-28 :98.1%\n",
      "CMC curve, Rank-30 :98.2%\n",
      "CMC curve, Rank-32 :98.3%\n"
     ]
    },
    {
     "name": "stderr",
     "output_type": "stream",
     "text": [
      "Train Epoch: 42 [259/259 (100%)] Loss: 0.073711: : 259it [01:11,  3.62it/s]"
     ]
    },
    {
     "name": "stdout",
     "output_type": "stream",
     "text": [
      "Enter inferencing\n",
      "Create evaluator\n"
     ]
    },
    {
     "name": "stderr",
     "output_type": "stream",
     "text": [
      "\n"
     ]
    },
    {
     "name": "stdout",
     "output_type": "stream",
     "text": [
      "The test feature is normalized\n",
      "Validation Results\n",
      "mAP: 61.2%\n",
      "CMC curve, Rank-1  :83.0%\n",
      "CMC curve, Rank-2  :88.4%\n",
      "CMC curve, Rank-4  :92.3%\n",
      "CMC curve, Rank-6  :94.4%\n",
      "CMC curve, Rank-8  :95.4%\n",
      "CMC curve, Rank-10 :95.9%\n",
      "CMC curve, Rank-12 :96.4%\n",
      "CMC curve, Rank-14 :96.8%\n",
      "CMC curve, Rank-16 :97.1%\n",
      "CMC curve, Rank-18 :97.4%\n",
      "CMC curve, Rank-20 :97.7%\n",
      "CMC curve, Rank-22 :97.9%\n",
      "CMC curve, Rank-24 :98.0%\n",
      "CMC curve, Rank-26 :98.0%\n",
      "CMC curve, Rank-28 :98.2%\n",
      "CMC curve, Rank-30 :98.2%\n",
      "CMC curve, Rank-32 :98.4%\n"
     ]
    },
    {
     "name": "stderr",
     "output_type": "stream",
     "text": [
      "Train Epoch: 43 [259/259 (100%)] Loss: 0.049645: : 259it [01:11,  3.63it/s]"
     ]
    },
    {
     "name": "stdout",
     "output_type": "stream",
     "text": [
      "Enter inferencing\n",
      "Create evaluator\n"
     ]
    },
    {
     "name": "stderr",
     "output_type": "stream",
     "text": [
      "\n"
     ]
    },
    {
     "name": "stdout",
     "output_type": "stream",
     "text": [
      "The test feature is normalized\n",
      "Validation Results\n",
      "mAP: 61.2%\n",
      "CMC curve, Rank-1  :82.9%\n",
      "CMC curve, Rank-2  :88.4%\n",
      "CMC curve, Rank-4  :92.4%\n",
      "CMC curve, Rank-6  :94.4%\n",
      "CMC curve, Rank-8  :95.4%\n",
      "CMC curve, Rank-10 :95.9%\n",
      "CMC curve, Rank-12 :96.3%\n",
      "CMC curve, Rank-14 :96.8%\n",
      "CMC curve, Rank-16 :97.2%\n",
      "CMC curve, Rank-18 :97.5%\n",
      "CMC curve, Rank-20 :97.7%\n",
      "CMC curve, Rank-22 :97.8%\n",
      "CMC curve, Rank-24 :97.9%\n",
      "CMC curve, Rank-26 :98.1%\n",
      "CMC curve, Rank-28 :98.2%\n",
      "CMC curve, Rank-30 :98.3%\n",
      "CMC curve, Rank-32 :98.3%\n"
     ]
    },
    {
     "name": "stderr",
     "output_type": "stream",
     "text": [
      "Train Epoch: 44 [259/259 (100%)] Loss: 0.050757: : 259it [01:11,  3.63it/s]"
     ]
    },
    {
     "name": "stdout",
     "output_type": "stream",
     "text": [
      "Enter inferencing\n",
      "Create evaluator\n"
     ]
    },
    {
     "name": "stderr",
     "output_type": "stream",
     "text": [
      "\n"
     ]
    },
    {
     "name": "stdout",
     "output_type": "stream",
     "text": [
      "The test feature is normalized\n",
      "Validation Results\n",
      "mAP: 61.1%\n",
      "CMC curve, Rank-1  :82.7%\n",
      "CMC curve, Rank-2  :88.2%\n",
      "CMC curve, Rank-4  :92.4%\n",
      "CMC curve, Rank-6  :94.5%\n",
      "CMC curve, Rank-8  :95.4%\n",
      "CMC curve, Rank-10 :95.9%\n",
      "CMC curve, Rank-12 :96.4%\n",
      "CMC curve, Rank-14 :96.8%\n",
      "CMC curve, Rank-16 :97.1%\n",
      "CMC curve, Rank-18 :97.4%\n",
      "CMC curve, Rank-20 :97.7%\n",
      "CMC curve, Rank-22 :97.9%\n",
      "CMC curve, Rank-24 :97.9%\n",
      "CMC curve, Rank-26 :98.1%\n",
      "CMC curve, Rank-28 :98.2%\n",
      "CMC curve, Rank-30 :98.3%\n",
      "CMC curve, Rank-32 :98.4%\n"
     ]
    },
    {
     "name": "stderr",
     "output_type": "stream",
     "text": [
      "Train Epoch: 45 [259/259 (100%)] Loss: 0.041451: : 259it [01:11,  3.63it/s]"
     ]
    },
    {
     "name": "stdout",
     "output_type": "stream",
     "text": [
      "Enter inferencing\n",
      "Create evaluator\n"
     ]
    },
    {
     "name": "stderr",
     "output_type": "stream",
     "text": [
      "\n"
     ]
    },
    {
     "name": "stdout",
     "output_type": "stream",
     "text": [
      "The test feature is normalized\n",
      "Validation Results\n",
      "mAP: 61.3%\n",
      "CMC curve, Rank-1  :82.8%\n",
      "CMC curve, Rank-2  :88.4%\n",
      "CMC curve, Rank-4  :92.3%\n",
      "CMC curve, Rank-6  :94.4%\n",
      "CMC curve, Rank-8  :95.4%\n",
      "CMC curve, Rank-10 :95.9%\n",
      "CMC curve, Rank-12 :96.4%\n",
      "CMC curve, Rank-14 :96.8%\n",
      "CMC curve, Rank-16 :97.1%\n",
      "CMC curve, Rank-18 :97.4%\n",
      "CMC curve, Rank-20 :97.6%\n",
      "CMC curve, Rank-22 :97.7%\n",
      "CMC curve, Rank-24 :97.9%\n",
      "CMC curve, Rank-26 :98.0%\n",
      "CMC curve, Rank-28 :98.2%\n",
      "CMC curve, Rank-30 :98.3%\n",
      "CMC curve, Rank-32 :98.3%\n"
     ]
    },
    {
     "name": "stderr",
     "output_type": "stream",
     "text": [
      "Train Epoch: 46 [259/259 (100%)] Loss: 0.068861: : 259it [01:11,  3.63it/s]"
     ]
    },
    {
     "name": "stdout",
     "output_type": "stream",
     "text": [
      "Enter inferencing\n",
      "Create evaluator\n"
     ]
    },
    {
     "name": "stderr",
     "output_type": "stream",
     "text": [
      "\n"
     ]
    },
    {
     "name": "stdout",
     "output_type": "stream",
     "text": [
      "The test feature is normalized\n",
      "Validation Results\n",
      "mAP: 61.4%\n",
      "CMC curve, Rank-1  :83.0%\n",
      "CMC curve, Rank-2  :88.3%\n",
      "CMC curve, Rank-4  :92.5%\n",
      "CMC curve, Rank-6  :94.5%\n",
      "CMC curve, Rank-8  :95.4%\n",
      "CMC curve, Rank-10 :96.0%\n",
      "CMC curve, Rank-12 :96.4%\n",
      "CMC curve, Rank-14 :96.8%\n",
      "CMC curve, Rank-16 :97.1%\n",
      "CMC curve, Rank-18 :97.4%\n",
      "CMC curve, Rank-20 :97.6%\n",
      "CMC curve, Rank-22 :97.8%\n",
      "CMC curve, Rank-24 :98.0%\n",
      "CMC curve, Rank-26 :98.0%\n",
      "CMC curve, Rank-28 :98.1%\n",
      "CMC curve, Rank-30 :98.3%\n",
      "CMC curve, Rank-32 :98.4%\n"
     ]
    },
    {
     "name": "stderr",
     "output_type": "stream",
     "text": [
      "Train Epoch: 47 [259/259 (100%)] Loss: 0.131059: : 259it [01:11,  3.62it/s]"
     ]
    },
    {
     "name": "stdout",
     "output_type": "stream",
     "text": [
      "Enter inferencing\n",
      "Create evaluator\n"
     ]
    },
    {
     "name": "stderr",
     "output_type": "stream",
     "text": [
      "\n"
     ]
    },
    {
     "name": "stdout",
     "output_type": "stream",
     "text": [
      "The test feature is normalized\n",
      "Validation Results\n",
      "mAP: 61.4%\n",
      "CMC curve, Rank-1  :83.0%\n",
      "CMC curve, Rank-2  :88.5%\n",
      "CMC curve, Rank-4  :92.5%\n",
      "CMC curve, Rank-6  :94.5%\n",
      "CMC curve, Rank-8  :95.6%\n",
      "CMC curve, Rank-10 :95.9%\n",
      "CMC curve, Rank-12 :96.3%\n",
      "CMC curve, Rank-14 :96.8%\n",
      "CMC curve, Rank-16 :97.2%\n",
      "CMC curve, Rank-18 :97.4%\n",
      "CMC curve, Rank-20 :97.7%\n",
      "CMC curve, Rank-22 :97.7%\n",
      "CMC curve, Rank-24 :97.9%\n",
      "CMC curve, Rank-26 :98.0%\n",
      "CMC curve, Rank-28 :98.2%\n",
      "CMC curve, Rank-30 :98.2%\n",
      "CMC curve, Rank-32 :98.4%\n"
     ]
    },
    {
     "name": "stderr",
     "output_type": "stream",
     "text": [
      "Train Epoch: 48 [259/259 (100%)] Loss: 0.072205: : 259it [01:11,  3.62it/s]"
     ]
    },
    {
     "name": "stdout",
     "output_type": "stream",
     "text": [
      "Enter inferencing\n",
      "Create evaluator\n"
     ]
    },
    {
     "name": "stderr",
     "output_type": "stream",
     "text": [
      "\n"
     ]
    },
    {
     "name": "stdout",
     "output_type": "stream",
     "text": [
      "The test feature is normalized\n",
      "Validation Results\n",
      "mAP: 61.4%\n",
      "CMC curve, Rank-1  :83.0%\n",
      "CMC curve, Rank-2  :88.3%\n",
      "CMC curve, Rank-4  :92.5%\n",
      "CMC curve, Rank-6  :94.3%\n",
      "CMC curve, Rank-8  :95.5%\n",
      "CMC curve, Rank-10 :96.1%\n",
      "CMC curve, Rank-12 :96.4%\n",
      "CMC curve, Rank-14 :96.7%\n",
      "CMC curve, Rank-16 :96.9%\n",
      "CMC curve, Rank-18 :97.3%\n",
      "CMC curve, Rank-20 :97.5%\n",
      "CMC curve, Rank-22 :97.7%\n",
      "CMC curve, Rank-24 :98.0%\n",
      "CMC curve, Rank-26 :98.0%\n",
      "CMC curve, Rank-28 :98.2%\n",
      "CMC curve, Rank-30 :98.3%\n",
      "CMC curve, Rank-32 :98.4%\n"
     ]
    },
    {
     "name": "stderr",
     "output_type": "stream",
     "text": [
      "Train Epoch: 49 [259/259 (100%)] Loss: 0.041577: : 259it [01:11,  3.62it/s]"
     ]
    },
    {
     "name": "stdout",
     "output_type": "stream",
     "text": [
      "Enter inferencing\n",
      "Create evaluator\n"
     ]
    },
    {
     "name": "stderr",
     "output_type": "stream",
     "text": [
      "\n"
     ]
    },
    {
     "name": "stdout",
     "output_type": "stream",
     "text": [
      "The test feature is normalized\n",
      "Validation Results\n",
      "mAP: 61.6%\n",
      "CMC curve, Rank-1  :83.5%\n",
      "CMC curve, Rank-2  :88.6%\n",
      "CMC curve, Rank-4  :92.4%\n",
      "CMC curve, Rank-6  :94.4%\n",
      "CMC curve, Rank-8  :95.4%\n",
      "CMC curve, Rank-10 :96.0%\n",
      "CMC curve, Rank-12 :96.2%\n",
      "CMC curve, Rank-14 :96.6%\n",
      "CMC curve, Rank-16 :97.1%\n",
      "CMC curve, Rank-18 :97.4%\n",
      "CMC curve, Rank-20 :97.7%\n",
      "CMC curve, Rank-22 :98.0%\n",
      "CMC curve, Rank-24 :98.1%\n",
      "CMC curve, Rank-26 :98.2%\n",
      "CMC curve, Rank-28 :98.3%\n",
      "CMC curve, Rank-30 :98.4%\n",
      "CMC curve, Rank-32 :98.5%\n"
     ]
    },
    {
     "name": "stderr",
     "output_type": "stream",
     "text": [
      "Train Epoch: 50 [259/259 (100%)] Loss: 0.136353: : 259it [01:11,  3.63it/s]"
     ]
    },
    {
     "name": "stdout",
     "output_type": "stream",
     "text": [
      "Enter inferencing\n",
      "Create evaluator\n"
     ]
    },
    {
     "name": "stderr",
     "output_type": "stream",
     "text": [
      "\n"
     ]
    },
    {
     "name": "stdout",
     "output_type": "stream",
     "text": [
      "The test feature is normalized\n",
      "Validation Results\n",
      "mAP: 61.6%\n",
      "CMC curve, Rank-1  :83.1%\n",
      "CMC curve, Rank-2  :88.6%\n",
      "CMC curve, Rank-4  :92.5%\n",
      "CMC curve, Rank-6  :94.5%\n",
      "CMC curve, Rank-8  :95.5%\n",
      "CMC curve, Rank-10 :95.9%\n",
      "CMC curve, Rank-12 :96.4%\n",
      "CMC curve, Rank-14 :96.7%\n",
      "CMC curve, Rank-16 :97.1%\n",
      "CMC curve, Rank-18 :97.5%\n",
      "CMC curve, Rank-20 :97.7%\n",
      "CMC curve, Rank-22 :97.9%\n",
      "CMC curve, Rank-24 :98.1%\n",
      "CMC curve, Rank-26 :98.1%\n",
      "CMC curve, Rank-28 :98.2%\n",
      "CMC curve, Rank-30 :98.3%\n",
      "CMC curve, Rank-32 :98.4%\n"
     ]
    },
    {
     "name": "stderr",
     "output_type": "stream",
     "text": [
      "Train Epoch: 51 [259/259 (100%)] Loss: 0.061411: : 259it [01:11,  3.63it/s]"
     ]
    },
    {
     "name": "stdout",
     "output_type": "stream",
     "text": [
      "Enter inferencing\n",
      "Create evaluator\n"
     ]
    },
    {
     "name": "stderr",
     "output_type": "stream",
     "text": [
      "\n"
     ]
    },
    {
     "name": "stdout",
     "output_type": "stream",
     "text": [
      "The test feature is normalized\n",
      "Validation Results\n",
      "mAP: 61.6%\n",
      "CMC curve, Rank-1  :83.2%\n",
      "CMC curve, Rank-2  :88.5%\n",
      "CMC curve, Rank-4  :92.5%\n",
      "CMC curve, Rank-6  :94.3%\n",
      "CMC curve, Rank-8  :95.5%\n",
      "CMC curve, Rank-10 :96.1%\n",
      "CMC curve, Rank-12 :96.5%\n",
      "CMC curve, Rank-14 :96.9%\n",
      "CMC curve, Rank-16 :97.1%\n",
      "CMC curve, Rank-18 :97.5%\n",
      "CMC curve, Rank-20 :97.8%\n",
      "CMC curve, Rank-22 :97.8%\n",
      "CMC curve, Rank-24 :97.9%\n",
      "CMC curve, Rank-26 :98.0%\n",
      "CMC curve, Rank-28 :98.1%\n",
      "CMC curve, Rank-30 :98.2%\n",
      "CMC curve, Rank-32 :98.4%\n"
     ]
    },
    {
     "name": "stderr",
     "output_type": "stream",
     "text": [
      "Train Epoch: 52 [259/259 (100%)] Loss: 0.045097: : 259it [01:11,  3.62it/s]"
     ]
    },
    {
     "name": "stdout",
     "output_type": "stream",
     "text": [
      "Enter inferencing\n",
      "Create evaluator\n"
     ]
    },
    {
     "name": "stderr",
     "output_type": "stream",
     "text": [
      "\n"
     ]
    },
    {
     "name": "stdout",
     "output_type": "stream",
     "text": [
      "The test feature is normalized\n",
      "Validation Results\n",
      "mAP: 61.7%\n",
      "CMC curve, Rank-1  :83.1%\n",
      "CMC curve, Rank-2  :88.5%\n",
      "CMC curve, Rank-4  :92.6%\n",
      "CMC curve, Rank-6  :94.5%\n",
      "CMC curve, Rank-8  :95.5%\n",
      "CMC curve, Rank-10 :95.9%\n",
      "CMC curve, Rank-12 :96.3%\n",
      "CMC curve, Rank-14 :96.7%\n",
      "CMC curve, Rank-16 :97.0%\n",
      "CMC curve, Rank-18 :97.4%\n",
      "CMC curve, Rank-20 :97.7%\n",
      "CMC curve, Rank-22 :97.8%\n",
      "CMC curve, Rank-24 :98.0%\n",
      "CMC curve, Rank-26 :98.0%\n",
      "CMC curve, Rank-28 :98.1%\n",
      "CMC curve, Rank-30 :98.2%\n",
      "CMC curve, Rank-32 :98.4%\n"
     ]
    },
    {
     "name": "stderr",
     "output_type": "stream",
     "text": [
      "Train Epoch: 53 [259/259 (100%)] Loss: 0.034577: : 259it [01:11,  3.62it/s]"
     ]
    },
    {
     "name": "stdout",
     "output_type": "stream",
     "text": [
      "Enter inferencing\n",
      "Create evaluator\n"
     ]
    },
    {
     "name": "stderr",
     "output_type": "stream",
     "text": [
      "\n"
     ]
    },
    {
     "name": "stdout",
     "output_type": "stream",
     "text": [
      "The test feature is normalized\n",
      "Validation Results\n",
      "mAP: 61.6%\n",
      "CMC curve, Rank-1  :83.3%\n",
      "CMC curve, Rank-2  :88.6%\n",
      "CMC curve, Rank-4  :92.5%\n",
      "CMC curve, Rank-6  :94.4%\n",
      "CMC curve, Rank-8  :95.7%\n",
      "CMC curve, Rank-10 :96.1%\n",
      "CMC curve, Rank-12 :96.3%\n",
      "CMC curve, Rank-14 :96.6%\n",
      "CMC curve, Rank-16 :97.1%\n",
      "CMC curve, Rank-18 :97.5%\n",
      "CMC curve, Rank-20 :97.6%\n",
      "CMC curve, Rank-22 :97.8%\n",
      "CMC curve, Rank-24 :97.9%\n",
      "CMC curve, Rank-26 :98.1%\n",
      "CMC curve, Rank-28 :98.2%\n",
      "CMC curve, Rank-30 :98.3%\n",
      "CMC curve, Rank-32 :98.4%\n"
     ]
    },
    {
     "name": "stderr",
     "output_type": "stream",
     "text": [
      "Train Epoch: 54 [259/259 (100%)] Loss: 0.041501: : 259it [01:11,  3.62it/s]"
     ]
    },
    {
     "name": "stdout",
     "output_type": "stream",
     "text": [
      "Enter inferencing\n",
      "Create evaluator\n"
     ]
    },
    {
     "name": "stderr",
     "output_type": "stream",
     "text": [
      "\n"
     ]
    },
    {
     "name": "stdout",
     "output_type": "stream",
     "text": [
      "The test feature is normalized\n",
      "Validation Results\n",
      "mAP: 61.6%\n",
      "CMC curve, Rank-1  :83.4%\n",
      "CMC curve, Rank-2  :88.5%\n",
      "CMC curve, Rank-4  :92.6%\n",
      "CMC curve, Rank-6  :94.7%\n",
      "CMC curve, Rank-8  :95.5%\n",
      "CMC curve, Rank-10 :96.1%\n",
      "CMC curve, Rank-12 :96.4%\n",
      "CMC curve, Rank-14 :96.9%\n",
      "CMC curve, Rank-16 :97.1%\n",
      "CMC curve, Rank-18 :97.3%\n",
      "CMC curve, Rank-20 :97.7%\n",
      "CMC curve, Rank-22 :97.8%\n",
      "CMC curve, Rank-24 :97.9%\n",
      "CMC curve, Rank-26 :98.1%\n",
      "CMC curve, Rank-28 :98.2%\n",
      "CMC curve, Rank-30 :98.3%\n",
      "CMC curve, Rank-32 :98.4%\n"
     ]
    },
    {
     "name": "stderr",
     "output_type": "stream",
     "text": [
      "Train Epoch: 55 [259/259 (100%)] Loss: 0.084945: : 259it [01:11,  3.62it/s]"
     ]
    },
    {
     "name": "stdout",
     "output_type": "stream",
     "text": [
      "Enter inferencing\n",
      "Create evaluator\n"
     ]
    },
    {
     "name": "stderr",
     "output_type": "stream",
     "text": [
      "\n"
     ]
    },
    {
     "name": "stdout",
     "output_type": "stream",
     "text": [
      "The test feature is normalized\n",
      "Validation Results\n",
      "mAP: 61.8%\n",
      "CMC curve, Rank-1  :83.4%\n",
      "CMC curve, Rank-2  :88.5%\n",
      "CMC curve, Rank-4  :92.6%\n",
      "CMC curve, Rank-6  :94.5%\n",
      "CMC curve, Rank-8  :95.7%\n",
      "CMC curve, Rank-10 :96.1%\n",
      "CMC curve, Rank-12 :96.4%\n",
      "CMC curve, Rank-14 :96.8%\n",
      "CMC curve, Rank-16 :97.0%\n",
      "CMC curve, Rank-18 :97.4%\n",
      "CMC curve, Rank-20 :97.6%\n",
      "CMC curve, Rank-22 :97.9%\n",
      "CMC curve, Rank-24 :98.0%\n",
      "CMC curve, Rank-26 :98.1%\n",
      "CMC curve, Rank-28 :98.2%\n",
      "CMC curve, Rank-30 :98.3%\n",
      "CMC curve, Rank-32 :98.4%\n"
     ]
    },
    {
     "name": "stderr",
     "output_type": "stream",
     "text": [
      "Train Epoch: 56 [259/259 (100%)] Loss: 0.089299: : 259it [01:11,  3.62it/s]"
     ]
    },
    {
     "name": "stdout",
     "output_type": "stream",
     "text": [
      "Enter inferencing\n",
      "Create evaluator\n"
     ]
    },
    {
     "name": "stderr",
     "output_type": "stream",
     "text": [
      "\n"
     ]
    },
    {
     "name": "stdout",
     "output_type": "stream",
     "text": [
      "The test feature is normalized\n",
      "Validation Results\n",
      "mAP: 61.9%\n",
      "CMC curve, Rank-1  :83.3%\n",
      "CMC curve, Rank-2  :88.8%\n",
      "CMC curve, Rank-4  :92.7%\n",
      "CMC curve, Rank-6  :94.6%\n",
      "CMC curve, Rank-8  :95.7%\n",
      "CMC curve, Rank-10 :96.1%\n",
      "CMC curve, Rank-12 :96.5%\n",
      "CMC curve, Rank-14 :96.9%\n",
      "CMC curve, Rank-16 :97.2%\n",
      "CMC curve, Rank-18 :97.6%\n",
      "CMC curve, Rank-20 :97.7%\n",
      "CMC curve, Rank-22 :97.8%\n",
      "CMC curve, Rank-24 :98.0%\n",
      "CMC curve, Rank-26 :98.1%\n",
      "CMC curve, Rank-28 :98.2%\n",
      "CMC curve, Rank-30 :98.3%\n",
      "CMC curve, Rank-32 :98.4%\n"
     ]
    },
    {
     "name": "stderr",
     "output_type": "stream",
     "text": [
      "Train Epoch: 57 [259/259 (100%)] Loss: 0.048143: : 259it [01:11,  3.62it/s]"
     ]
    },
    {
     "name": "stdout",
     "output_type": "stream",
     "text": [
      "Enter inferencing\n",
      "Create evaluator\n"
     ]
    },
    {
     "name": "stderr",
     "output_type": "stream",
     "text": [
      "\n"
     ]
    },
    {
     "name": "stdout",
     "output_type": "stream",
     "text": [
      "The test feature is normalized\n",
      "Validation Results\n",
      "mAP: 61.8%\n",
      "CMC curve, Rank-1  :83.5%\n",
      "CMC curve, Rank-2  :88.6%\n",
      "CMC curve, Rank-4  :92.5%\n",
      "CMC curve, Rank-6  :94.6%\n",
      "CMC curve, Rank-8  :95.5%\n",
      "CMC curve, Rank-10 :96.0%\n",
      "CMC curve, Rank-12 :96.4%\n",
      "CMC curve, Rank-14 :96.7%\n",
      "CMC curve, Rank-16 :97.1%\n",
      "CMC curve, Rank-18 :97.4%\n",
      "CMC curve, Rank-20 :97.7%\n",
      "CMC curve, Rank-22 :97.9%\n",
      "CMC curve, Rank-24 :98.0%\n",
      "CMC curve, Rank-26 :98.1%\n",
      "CMC curve, Rank-28 :98.3%\n",
      "CMC curve, Rank-30 :98.4%\n",
      "CMC curve, Rank-32 :98.5%\n"
     ]
    },
    {
     "name": "stderr",
     "output_type": "stream",
     "text": [
      "Train Epoch: 58 [259/259 (100%)] Loss: 0.157247: : 259it [01:11,  3.63it/s]"
     ]
    },
    {
     "name": "stdout",
     "output_type": "stream",
     "text": [
      "Enter inferencing\n",
      "Create evaluator\n"
     ]
    },
    {
     "name": "stderr",
     "output_type": "stream",
     "text": [
      "\n"
     ]
    },
    {
     "name": "stdout",
     "output_type": "stream",
     "text": [
      "The test feature is normalized\n",
      "Validation Results\n",
      "mAP: 62.0%\n",
      "CMC curve, Rank-1  :83.6%\n",
      "CMC curve, Rank-2  :88.8%\n",
      "CMC curve, Rank-4  :92.7%\n",
      "CMC curve, Rank-6  :94.7%\n",
      "CMC curve, Rank-8  :95.6%\n",
      "CMC curve, Rank-10 :96.0%\n",
      "CMC curve, Rank-12 :96.3%\n",
      "CMC curve, Rank-14 :96.7%\n",
      "CMC curve, Rank-16 :97.1%\n",
      "CMC curve, Rank-18 :97.5%\n",
      "CMC curve, Rank-20 :97.8%\n",
      "CMC curve, Rank-22 :97.9%\n",
      "CMC curve, Rank-24 :98.1%\n",
      "CMC curve, Rank-26 :98.2%\n",
      "CMC curve, Rank-28 :98.2%\n",
      "CMC curve, Rank-30 :98.3%\n",
      "CMC curve, Rank-32 :98.4%\n"
     ]
    },
    {
     "name": "stderr",
     "output_type": "stream",
     "text": [
      "Train Epoch: 59 [259/259 (100%)] Loss: 0.042913: : 259it [01:11,  3.63it/s]"
     ]
    },
    {
     "name": "stdout",
     "output_type": "stream",
     "text": [
      "Enter inferencing\n",
      "Create evaluator\n"
     ]
    },
    {
     "name": "stderr",
     "output_type": "stream",
     "text": [
      "\n"
     ]
    },
    {
     "name": "stdout",
     "output_type": "stream",
     "text": [
      "The test feature is normalized\n",
      "Validation Results\n",
      "mAP: 61.9%\n",
      "CMC curve, Rank-1  :83.6%\n",
      "CMC curve, Rank-2  :88.9%\n",
      "CMC curve, Rank-4  :92.6%\n",
      "CMC curve, Rank-6  :94.3%\n",
      "CMC curve, Rank-8  :95.5%\n",
      "CMC curve, Rank-10 :95.9%\n",
      "CMC curve, Rank-12 :96.4%\n",
      "CMC curve, Rank-14 :96.7%\n",
      "CMC curve, Rank-16 :97.0%\n",
      "CMC curve, Rank-18 :97.5%\n",
      "CMC curve, Rank-20 :97.6%\n",
      "CMC curve, Rank-22 :97.8%\n",
      "CMC curve, Rank-24 :98.1%\n",
      "CMC curve, Rank-26 :98.2%\n",
      "CMC curve, Rank-28 :98.3%\n",
      "CMC curve, Rank-30 :98.3%\n",
      "CMC curve, Rank-32 :98.4%\n"
     ]
    },
    {
     "name": "stderr",
     "output_type": "stream",
     "text": [
      "Train Epoch: 60 [259/259 (100%)] Loss: 0.040119: : 259it [01:11,  3.62it/s]"
     ]
    },
    {
     "name": "stdout",
     "output_type": "stream",
     "text": [
      "Enter inferencing\n",
      "Create evaluator\n"
     ]
    },
    {
     "name": "stderr",
     "output_type": "stream",
     "text": [
      "\n"
     ]
    },
    {
     "name": "stdout",
     "output_type": "stream",
     "text": [
      "The test feature is normalized\n",
      "Validation Results\n",
      "mAP: 61.9%\n",
      "CMC curve, Rank-1  :83.3%\n",
      "CMC curve, Rank-2  :88.8%\n",
      "CMC curve, Rank-4  :92.6%\n",
      "CMC curve, Rank-6  :94.7%\n",
      "CMC curve, Rank-8  :95.6%\n",
      "CMC curve, Rank-10 :96.1%\n",
      "CMC curve, Rank-12 :96.3%\n",
      "CMC curve, Rank-14 :96.6%\n",
      "CMC curve, Rank-16 :97.0%\n",
      "CMC curve, Rank-18 :97.4%\n",
      "CMC curve, Rank-20 :97.6%\n",
      "CMC curve, Rank-22 :97.9%\n",
      "CMC curve, Rank-24 :98.0%\n",
      "CMC curve, Rank-26 :98.1%\n",
      "CMC curve, Rank-28 :98.2%\n",
      "CMC curve, Rank-30 :98.2%\n",
      "CMC curve, Rank-32 :98.4%\n"
     ]
    },
    {
     "name": "stderr",
     "output_type": "stream",
     "text": [
      "Train Epoch: 61 [259/259 (100%)] Loss: 0.054662: : 259it [01:11,  3.63it/s]"
     ]
    },
    {
     "name": "stdout",
     "output_type": "stream",
     "text": [
      "Enter inferencing\n",
      "Create evaluator\n"
     ]
    },
    {
     "name": "stderr",
     "output_type": "stream",
     "text": [
      "\n"
     ]
    },
    {
     "name": "stdout",
     "output_type": "stream",
     "text": [
      "The test feature is normalized\n",
      "Validation Results\n",
      "mAP: 61.9%\n",
      "CMC curve, Rank-1  :83.4%\n",
      "CMC curve, Rank-2  :88.7%\n",
      "CMC curve, Rank-4  :92.7%\n",
      "CMC curve, Rank-6  :94.6%\n",
      "CMC curve, Rank-8  :95.6%\n",
      "CMC curve, Rank-10 :96.1%\n",
      "CMC curve, Rank-12 :96.4%\n",
      "CMC curve, Rank-14 :96.9%\n",
      "CMC curve, Rank-16 :97.4%\n",
      "CMC curve, Rank-18 :97.6%\n",
      "CMC curve, Rank-20 :97.8%\n",
      "CMC curve, Rank-22 :97.9%\n",
      "CMC curve, Rank-24 :98.0%\n",
      "CMC curve, Rank-26 :98.1%\n",
      "CMC curve, Rank-28 :98.2%\n",
      "CMC curve, Rank-30 :98.2%\n",
      "CMC curve, Rank-32 :98.4%\n"
     ]
    },
    {
     "name": "stderr",
     "output_type": "stream",
     "text": [
      "Train Epoch: 62 [259/259 (100%)] Loss: 0.042244: : 259it [01:11,  3.62it/s]"
     ]
    },
    {
     "name": "stdout",
     "output_type": "stream",
     "text": [
      "Enter inferencing\n",
      "Create evaluator\n"
     ]
    },
    {
     "name": "stderr",
     "output_type": "stream",
     "text": [
      "\n"
     ]
    },
    {
     "name": "stdout",
     "output_type": "stream",
     "text": [
      "The test feature is normalized\n",
      "Validation Results\n",
      "mAP: 62.0%\n",
      "CMC curve, Rank-1  :83.4%\n",
      "CMC curve, Rank-2  :88.8%\n",
      "CMC curve, Rank-4  :92.8%\n",
      "CMC curve, Rank-6  :94.7%\n",
      "CMC curve, Rank-8  :95.7%\n",
      "CMC curve, Rank-10 :96.1%\n",
      "CMC curve, Rank-12 :96.3%\n",
      "CMC curve, Rank-14 :96.8%\n",
      "CMC curve, Rank-16 :97.1%\n",
      "CMC curve, Rank-18 :97.5%\n",
      "CMC curve, Rank-20 :97.8%\n",
      "CMC curve, Rank-22 :98.0%\n",
      "CMC curve, Rank-24 :98.1%\n",
      "CMC curve, Rank-26 :98.2%\n",
      "CMC curve, Rank-28 :98.2%\n",
      "CMC curve, Rank-30 :98.3%\n",
      "CMC curve, Rank-32 :98.4%\n"
     ]
    },
    {
     "name": "stderr",
     "output_type": "stream",
     "text": [
      "Train Epoch: 63 [259/259 (100%)] Loss: 0.070597: : 259it [01:11,  3.63it/s]"
     ]
    },
    {
     "name": "stdout",
     "output_type": "stream",
     "text": [
      "Enter inferencing\n",
      "Create evaluator\n"
     ]
    },
    {
     "name": "stderr",
     "output_type": "stream",
     "text": [
      "\n"
     ]
    },
    {
     "name": "stdout",
     "output_type": "stream",
     "text": [
      "The test feature is normalized\n",
      "Validation Results\n",
      "mAP: 61.9%\n",
      "CMC curve, Rank-1  :83.5%\n",
      "CMC curve, Rank-2  :88.8%\n",
      "CMC curve, Rank-4  :92.8%\n",
      "CMC curve, Rank-6  :94.4%\n",
      "CMC curve, Rank-8  :95.6%\n",
      "CMC curve, Rank-10 :95.8%\n",
      "CMC curve, Rank-12 :96.2%\n",
      "CMC curve, Rank-14 :96.6%\n",
      "CMC curve, Rank-16 :97.1%\n",
      "CMC curve, Rank-18 :97.6%\n",
      "CMC curve, Rank-20 :97.7%\n",
      "CMC curve, Rank-22 :97.9%\n",
      "CMC curve, Rank-24 :98.0%\n",
      "CMC curve, Rank-26 :98.2%\n",
      "CMC curve, Rank-28 :98.3%\n",
      "CMC curve, Rank-30 :98.4%\n",
      "CMC curve, Rank-32 :98.5%\n"
     ]
    },
    {
     "name": "stderr",
     "output_type": "stream",
     "text": [
      "Train Epoch: 64 [259/259 (100%)] Loss: 0.047557: : 259it [01:11,  3.62it/s]"
     ]
    },
    {
     "name": "stdout",
     "output_type": "stream",
     "text": [
      "Enter inferencing\n",
      "Create evaluator\n"
     ]
    },
    {
     "name": "stderr",
     "output_type": "stream",
     "text": [
      "\n"
     ]
    },
    {
     "name": "stdout",
     "output_type": "stream",
     "text": [
      "The test feature is normalized\n",
      "Validation Results\n",
      "mAP: 62.0%\n",
      "CMC curve, Rank-1  :83.7%\n",
      "CMC curve, Rank-2  :89.0%\n",
      "CMC curve, Rank-4  :92.9%\n",
      "CMC curve, Rank-6  :94.7%\n",
      "CMC curve, Rank-8  :95.5%\n",
      "CMC curve, Rank-10 :96.0%\n",
      "CMC curve, Rank-12 :96.4%\n",
      "CMC curve, Rank-14 :96.9%\n",
      "CMC curve, Rank-16 :97.1%\n",
      "CMC curve, Rank-18 :97.4%\n",
      "CMC curve, Rank-20 :97.7%\n",
      "CMC curve, Rank-22 :97.8%\n",
      "CMC curve, Rank-24 :97.9%\n",
      "CMC curve, Rank-26 :98.1%\n",
      "CMC curve, Rank-28 :98.2%\n",
      "CMC curve, Rank-30 :98.3%\n",
      "CMC curve, Rank-32 :98.4%\n"
     ]
    },
    {
     "name": "stderr",
     "output_type": "stream",
     "text": [
      "Train Epoch: 65 [259/259 (100%)] Loss: 0.025340: : 259it [01:11,  3.62it/s]"
     ]
    },
    {
     "name": "stdout",
     "output_type": "stream",
     "text": [
      "Enter inferencing\n",
      "Create evaluator\n"
     ]
    },
    {
     "name": "stderr",
     "output_type": "stream",
     "text": [
      "\n"
     ]
    },
    {
     "name": "stdout",
     "output_type": "stream",
     "text": [
      "The test feature is normalized\n",
      "Validation Results\n",
      "mAP: 62.0%\n",
      "CMC curve, Rank-1  :83.6%\n",
      "CMC curve, Rank-2  :88.7%\n",
      "CMC curve, Rank-4  :92.5%\n",
      "CMC curve, Rank-6  :94.5%\n",
      "CMC curve, Rank-8  :95.6%\n",
      "CMC curve, Rank-10 :96.1%\n",
      "CMC curve, Rank-12 :96.3%\n",
      "CMC curve, Rank-14 :96.6%\n",
      "CMC curve, Rank-16 :97.0%\n",
      "CMC curve, Rank-18 :97.4%\n",
      "CMC curve, Rank-20 :97.7%\n",
      "CMC curve, Rank-22 :97.8%\n",
      "CMC curve, Rank-24 :98.0%\n",
      "CMC curve, Rank-26 :98.2%\n",
      "CMC curve, Rank-28 :98.2%\n",
      "CMC curve, Rank-30 :98.3%\n",
      "CMC curve, Rank-32 :98.3%\n"
     ]
    },
    {
     "name": "stderr",
     "output_type": "stream",
     "text": [
      "Train Epoch: 66 [259/259 (100%)] Loss: 0.080435: : 259it [01:11,  3.62it/s]"
     ]
    },
    {
     "name": "stdout",
     "output_type": "stream",
     "text": [
      "Enter inferencing\n",
      "Create evaluator\n"
     ]
    },
    {
     "name": "stderr",
     "output_type": "stream",
     "text": [
      "\n"
     ]
    },
    {
     "name": "stdout",
     "output_type": "stream",
     "text": [
      "The test feature is normalized\n",
      "Validation Results\n",
      "mAP: 62.1%\n",
      "CMC curve, Rank-1  :83.3%\n",
      "CMC curve, Rank-2  :88.9%\n",
      "CMC curve, Rank-4  :92.6%\n",
      "CMC curve, Rank-6  :94.6%\n",
      "CMC curve, Rank-8  :95.7%\n",
      "CMC curve, Rank-10 :96.1%\n",
      "CMC curve, Rank-12 :96.4%\n",
      "CMC curve, Rank-14 :96.9%\n",
      "CMC curve, Rank-16 :97.1%\n",
      "CMC curve, Rank-18 :97.5%\n",
      "CMC curve, Rank-20 :97.7%\n",
      "CMC curve, Rank-22 :97.9%\n",
      "CMC curve, Rank-24 :98.1%\n",
      "CMC curve, Rank-26 :98.1%\n",
      "CMC curve, Rank-28 :98.2%\n",
      "CMC curve, Rank-30 :98.2%\n",
      "CMC curve, Rank-32 :98.4%\n"
     ]
    },
    {
     "name": "stderr",
     "output_type": "stream",
     "text": [
      "Train Epoch: 67 [259/259 (100%)] Loss: 0.031670: : 259it [01:11,  3.62it/s]"
     ]
    },
    {
     "name": "stdout",
     "output_type": "stream",
     "text": [
      "Enter inferencing\n",
      "Create evaluator\n"
     ]
    },
    {
     "name": "stderr",
     "output_type": "stream",
     "text": [
      "\n"
     ]
    },
    {
     "name": "stdout",
     "output_type": "stream",
     "text": [
      "The test feature is normalized\n",
      "Validation Results\n",
      "mAP: 62.0%\n",
      "CMC curve, Rank-1  :83.6%\n",
      "CMC curve, Rank-2  :89.0%\n",
      "CMC curve, Rank-4  :92.7%\n",
      "CMC curve, Rank-6  :94.6%\n",
      "CMC curve, Rank-8  :95.5%\n",
      "CMC curve, Rank-10 :96.1%\n",
      "CMC curve, Rank-12 :96.4%\n",
      "CMC curve, Rank-14 :96.8%\n",
      "CMC curve, Rank-16 :97.1%\n",
      "CMC curve, Rank-18 :97.5%\n",
      "CMC curve, Rank-20 :97.6%\n",
      "CMC curve, Rank-22 :97.8%\n",
      "CMC curve, Rank-24 :98.0%\n",
      "CMC curve, Rank-26 :98.0%\n",
      "CMC curve, Rank-28 :98.1%\n",
      "CMC curve, Rank-30 :98.2%\n",
      "CMC curve, Rank-32 :98.3%\n"
     ]
    },
    {
     "name": "stderr",
     "output_type": "stream",
     "text": [
      "Train Epoch: 68 [259/259 (100%)] Loss: 0.039437: : 259it [01:11,  3.62it/s]"
     ]
    },
    {
     "name": "stdout",
     "output_type": "stream",
     "text": [
      "Enter inferencing\n",
      "Create evaluator\n"
     ]
    },
    {
     "name": "stderr",
     "output_type": "stream",
     "text": [
      "\n"
     ]
    },
    {
     "name": "stdout",
     "output_type": "stream",
     "text": [
      "The test feature is normalized\n",
      "Validation Results\n",
      "mAP: 62.1%\n",
      "CMC curve, Rank-1  :83.6%\n",
      "CMC curve, Rank-2  :88.8%\n",
      "CMC curve, Rank-4  :92.5%\n",
      "CMC curve, Rank-6  :94.5%\n",
      "CMC curve, Rank-8  :95.6%\n",
      "CMC curve, Rank-10 :96.1%\n",
      "CMC curve, Rank-12 :96.5%\n",
      "CMC curve, Rank-14 :96.7%\n",
      "CMC curve, Rank-16 :97.1%\n",
      "CMC curve, Rank-18 :97.4%\n",
      "CMC curve, Rank-20 :97.7%\n",
      "CMC curve, Rank-22 :97.9%\n",
      "CMC curve, Rank-24 :98.0%\n",
      "CMC curve, Rank-26 :98.1%\n",
      "CMC curve, Rank-28 :98.2%\n",
      "CMC curve, Rank-30 :98.3%\n",
      "CMC curve, Rank-32 :98.3%\n"
     ]
    },
    {
     "name": "stderr",
     "output_type": "stream",
     "text": [
      "Train Epoch: 69 [259/259 (100%)] Loss: 0.038934: : 259it [01:11,  3.62it/s]"
     ]
    },
    {
     "name": "stdout",
     "output_type": "stream",
     "text": [
      "Enter inferencing\n",
      "Create evaluator\n"
     ]
    },
    {
     "name": "stderr",
     "output_type": "stream",
     "text": [
      "\n"
     ]
    },
    {
     "name": "stdout",
     "output_type": "stream",
     "text": [
      "The test feature is normalized\n",
      "Validation Results\n",
      "mAP: 62.1%\n",
      "CMC curve, Rank-1  :83.5%\n",
      "CMC curve, Rank-2  :88.8%\n",
      "CMC curve, Rank-4  :92.5%\n",
      "CMC curve, Rank-6  :94.6%\n",
      "CMC curve, Rank-8  :95.7%\n",
      "CMC curve, Rank-10 :96.1%\n",
      "CMC curve, Rank-12 :96.5%\n",
      "CMC curve, Rank-14 :96.7%\n",
      "CMC curve, Rank-16 :97.2%\n",
      "CMC curve, Rank-18 :97.6%\n",
      "CMC curve, Rank-20 :97.7%\n",
      "CMC curve, Rank-22 :97.8%\n",
      "CMC curve, Rank-24 :98.1%\n",
      "CMC curve, Rank-26 :98.2%\n",
      "CMC curve, Rank-28 :98.2%\n",
      "CMC curve, Rank-30 :98.3%\n",
      "CMC curve, Rank-32 :98.4%\n"
     ]
    },
    {
     "name": "stderr",
     "output_type": "stream",
     "text": [
      "Train Epoch: 70 [259/259 (100%)] Loss: 0.020757: : 259it [01:11,  3.62it/s]"
     ]
    },
    {
     "name": "stdout",
     "output_type": "stream",
     "text": [
      "Enter inferencing\n",
      "Create evaluator\n"
     ]
    },
    {
     "name": "stderr",
     "output_type": "stream",
     "text": [
      "\n"
     ]
    },
    {
     "name": "stdout",
     "output_type": "stream",
     "text": [
      "The test feature is normalized\n",
      "Validation Results\n",
      "mAP: 62.1%\n",
      "CMC curve, Rank-1  :83.6%\n",
      "CMC curve, Rank-2  :88.8%\n",
      "CMC curve, Rank-4  :92.8%\n",
      "CMC curve, Rank-6  :94.5%\n",
      "CMC curve, Rank-8  :95.8%\n",
      "CMC curve, Rank-10 :96.1%\n",
      "CMC curve, Rank-12 :96.4%\n",
      "CMC curve, Rank-14 :96.8%\n",
      "CMC curve, Rank-16 :97.1%\n",
      "CMC curve, Rank-18 :97.4%\n",
      "CMC curve, Rank-20 :97.7%\n",
      "CMC curve, Rank-22 :97.9%\n",
      "CMC curve, Rank-24 :98.1%\n",
      "CMC curve, Rank-26 :98.2%\n",
      "CMC curve, Rank-28 :98.3%\n",
      "CMC curve, Rank-30 :98.4%\n",
      "CMC curve, Rank-32 :98.5%\n"
     ]
    },
    {
     "name": "stderr",
     "output_type": "stream",
     "text": [
      "Train Epoch: 71 [259/259 (100%)] Loss: 0.046762: : 259it [01:11,  3.63it/s]"
     ]
    },
    {
     "name": "stdout",
     "output_type": "stream",
     "text": [
      "Enter inferencing\n",
      "Create evaluator\n"
     ]
    },
    {
     "name": "stderr",
     "output_type": "stream",
     "text": [
      "\n"
     ]
    },
    {
     "name": "stdout",
     "output_type": "stream",
     "text": [
      "The test feature is normalized\n",
      "Validation Results\n",
      "mAP: 62.1%\n",
      "CMC curve, Rank-1  :83.6%\n",
      "CMC curve, Rank-2  :88.8%\n",
      "CMC curve, Rank-4  :92.5%\n",
      "CMC curve, Rank-6  :94.6%\n",
      "CMC curve, Rank-8  :95.7%\n",
      "CMC curve, Rank-10 :96.1%\n",
      "CMC curve, Rank-12 :96.4%\n",
      "CMC curve, Rank-14 :96.9%\n",
      "CMC curve, Rank-16 :97.2%\n",
      "CMC curve, Rank-18 :97.4%\n",
      "CMC curve, Rank-20 :97.7%\n",
      "CMC curve, Rank-22 :97.9%\n",
      "CMC curve, Rank-24 :98.0%\n",
      "CMC curve, Rank-26 :98.1%\n",
      "CMC curve, Rank-28 :98.3%\n",
      "CMC curve, Rank-30 :98.4%\n",
      "CMC curve, Rank-32 :98.5%\n"
     ]
    },
    {
     "name": "stderr",
     "output_type": "stream",
     "text": [
      "Train Epoch: 72 [259/259 (100%)] Loss: 0.060087: : 259it [01:11,  3.62it/s]"
     ]
    },
    {
     "name": "stdout",
     "output_type": "stream",
     "text": [
      "Enter inferencing\n",
      "Create evaluator\n"
     ]
    },
    {
     "name": "stderr",
     "output_type": "stream",
     "text": [
      "\n"
     ]
    },
    {
     "name": "stdout",
     "output_type": "stream",
     "text": [
      "The test feature is normalized\n",
      "Validation Results\n",
      "mAP: 62.2%\n",
      "CMC curve, Rank-1  :83.9%\n",
      "CMC curve, Rank-2  :89.2%\n",
      "CMC curve, Rank-4  :92.8%\n",
      "CMC curve, Rank-6  :94.6%\n",
      "CMC curve, Rank-8  :95.6%\n",
      "CMC curve, Rank-10 :96.1%\n",
      "CMC curve, Rank-12 :96.5%\n",
      "CMC curve, Rank-14 :96.9%\n",
      "CMC curve, Rank-16 :97.2%\n",
      "CMC curve, Rank-18 :97.5%\n",
      "CMC curve, Rank-20 :97.7%\n",
      "CMC curve, Rank-22 :97.8%\n",
      "CMC curve, Rank-24 :98.0%\n",
      "CMC curve, Rank-26 :98.1%\n",
      "CMC curve, Rank-28 :98.2%\n",
      "CMC curve, Rank-30 :98.2%\n",
      "CMC curve, Rank-32 :98.4%\n"
     ]
    },
    {
     "name": "stderr",
     "output_type": "stream",
     "text": [
      "Train Epoch: 73 [259/259 (100%)] Loss: 0.028651: : 259it [01:11,  3.62it/s]"
     ]
    },
    {
     "name": "stdout",
     "output_type": "stream",
     "text": [
      "Enter inferencing\n",
      "Create evaluator\n"
     ]
    },
    {
     "name": "stderr",
     "output_type": "stream",
     "text": [
      "\n"
     ]
    },
    {
     "name": "stdout",
     "output_type": "stream",
     "text": [
      "The test feature is normalized\n",
      "Validation Results\n",
      "mAP: 62.1%\n",
      "CMC curve, Rank-1  :83.7%\n",
      "CMC curve, Rank-2  :89.0%\n",
      "CMC curve, Rank-4  :92.8%\n",
      "CMC curve, Rank-6  :94.7%\n",
      "CMC curve, Rank-8  :95.7%\n",
      "CMC curve, Rank-10 :96.1%\n",
      "CMC curve, Rank-12 :96.4%\n",
      "CMC curve, Rank-14 :96.7%\n",
      "CMC curve, Rank-16 :97.1%\n",
      "CMC curve, Rank-18 :97.4%\n",
      "CMC curve, Rank-20 :97.7%\n",
      "CMC curve, Rank-22 :98.0%\n",
      "CMC curve, Rank-24 :98.1%\n",
      "CMC curve, Rank-26 :98.2%\n",
      "CMC curve, Rank-28 :98.3%\n",
      "CMC curve, Rank-30 :98.4%\n",
      "CMC curve, Rank-32 :98.5%\n"
     ]
    },
    {
     "name": "stderr",
     "output_type": "stream",
     "text": [
      "Train Epoch: 74 [259/259 (100%)] Loss: 0.038352: : 259it [01:11,  3.62it/s]"
     ]
    },
    {
     "name": "stdout",
     "output_type": "stream",
     "text": [
      "Enter inferencing\n",
      "Create evaluator\n"
     ]
    },
    {
     "name": "stderr",
     "output_type": "stream",
     "text": [
      "\n"
     ]
    },
    {
     "name": "stdout",
     "output_type": "stream",
     "text": [
      "The test feature is normalized\n",
      "Validation Results\n",
      "mAP: 62.1%\n",
      "CMC curve, Rank-1  :83.3%\n",
      "CMC curve, Rank-2  :88.9%\n",
      "CMC curve, Rank-4  :92.8%\n",
      "CMC curve, Rank-6  :94.6%\n",
      "CMC curve, Rank-8  :95.5%\n",
      "CMC curve, Rank-10 :96.1%\n",
      "CMC curve, Rank-12 :96.4%\n",
      "CMC curve, Rank-14 :96.8%\n",
      "CMC curve, Rank-16 :97.2%\n",
      "CMC curve, Rank-18 :97.4%\n",
      "CMC curve, Rank-20 :97.8%\n",
      "CMC curve, Rank-22 :97.9%\n",
      "CMC curve, Rank-24 :98.0%\n",
      "CMC curve, Rank-26 :98.2%\n",
      "CMC curve, Rank-28 :98.3%\n",
      "CMC curve, Rank-30 :98.3%\n",
      "CMC curve, Rank-32 :98.5%\n"
     ]
    },
    {
     "name": "stderr",
     "output_type": "stream",
     "text": [
      "Train Epoch: 75 [259/259 (100%)] Loss: 0.038099: : 259it [01:11,  3.62it/s]"
     ]
    },
    {
     "name": "stdout",
     "output_type": "stream",
     "text": [
      "Enter inferencing\n",
      "Create evaluator\n"
     ]
    },
    {
     "name": "stderr",
     "output_type": "stream",
     "text": [
      "\n"
     ]
    },
    {
     "name": "stdout",
     "output_type": "stream",
     "text": [
      "The test feature is normalized\n",
      "Validation Results\n",
      "mAP: 62.1%\n",
      "CMC curve, Rank-1  :83.4%\n",
      "CMC curve, Rank-2  :88.8%\n",
      "CMC curve, Rank-4  :92.6%\n",
      "CMC curve, Rank-6  :94.6%\n",
      "CMC curve, Rank-8  :95.6%\n",
      "CMC curve, Rank-10 :96.1%\n",
      "CMC curve, Rank-12 :96.3%\n",
      "CMC curve, Rank-14 :96.6%\n",
      "CMC curve, Rank-16 :97.1%\n",
      "CMC curve, Rank-18 :97.5%\n",
      "CMC curve, Rank-20 :97.7%\n",
      "CMC curve, Rank-22 :98.0%\n",
      "CMC curve, Rank-24 :98.0%\n",
      "CMC curve, Rank-26 :98.1%\n",
      "CMC curve, Rank-28 :98.2%\n",
      "CMC curve, Rank-30 :98.4%\n",
      "CMC curve, Rank-32 :98.5%\n"
     ]
    },
    {
     "name": "stderr",
     "output_type": "stream",
     "text": [
      "Train Epoch: 76 [259/259 (100%)] Loss: 0.051263: : 259it [01:11,  3.63it/s]"
     ]
    },
    {
     "name": "stdout",
     "output_type": "stream",
     "text": [
      "Enter inferencing\n",
      "Create evaluator\n"
     ]
    },
    {
     "name": "stderr",
     "output_type": "stream",
     "text": [
      "\n"
     ]
    },
    {
     "name": "stdout",
     "output_type": "stream",
     "text": [
      "The test feature is normalized\n",
      "Validation Results\n",
      "mAP: 62.2%\n",
      "CMC curve, Rank-1  :83.6%\n",
      "CMC curve, Rank-2  :88.9%\n",
      "CMC curve, Rank-4  :92.7%\n",
      "CMC curve, Rank-6  :94.5%\n",
      "CMC curve, Rank-8  :95.7%\n",
      "CMC curve, Rank-10 :96.1%\n",
      "CMC curve, Rank-12 :96.4%\n",
      "CMC curve, Rank-14 :96.9%\n",
      "CMC curve, Rank-16 :97.1%\n",
      "CMC curve, Rank-18 :97.6%\n",
      "CMC curve, Rank-20 :97.7%\n",
      "CMC curve, Rank-22 :97.8%\n",
      "CMC curve, Rank-24 :98.0%\n",
      "CMC curve, Rank-26 :98.1%\n",
      "CMC curve, Rank-28 :98.3%\n",
      "CMC curve, Rank-30 :98.3%\n",
      "CMC curve, Rank-32 :98.4%\n"
     ]
    },
    {
     "name": "stderr",
     "output_type": "stream",
     "text": [
      "Train Epoch: 77 [259/259 (100%)] Loss: 0.054858: : 259it [01:11,  3.62it/s]"
     ]
    },
    {
     "name": "stdout",
     "output_type": "stream",
     "text": [
      "Enter inferencing\n",
      "Create evaluator\n"
     ]
    },
    {
     "name": "stderr",
     "output_type": "stream",
     "text": [
      "\n"
     ]
    },
    {
     "name": "stdout",
     "output_type": "stream",
     "text": [
      "The test feature is normalized\n",
      "Validation Results\n",
      "mAP: 62.3%\n",
      "CMC curve, Rank-1  :83.8%\n",
      "CMC curve, Rank-2  :89.0%\n",
      "CMC curve, Rank-4  :92.8%\n",
      "CMC curve, Rank-6  :94.7%\n",
      "CMC curve, Rank-8  :95.7%\n",
      "CMC curve, Rank-10 :96.1%\n",
      "CMC curve, Rank-12 :96.5%\n",
      "CMC curve, Rank-14 :96.8%\n",
      "CMC curve, Rank-16 :97.2%\n",
      "CMC curve, Rank-18 :97.5%\n",
      "CMC curve, Rank-20 :97.7%\n",
      "CMC curve, Rank-22 :97.8%\n",
      "CMC curve, Rank-24 :98.2%\n",
      "CMC curve, Rank-26 :98.2%\n",
      "CMC curve, Rank-28 :98.3%\n",
      "CMC curve, Rank-30 :98.3%\n",
      "CMC curve, Rank-32 :98.4%\n"
     ]
    },
    {
     "name": "stderr",
     "output_type": "stream",
     "text": [
      "Train Epoch: 78 [259/259 (100%)] Loss: 0.036261: : 259it [01:11,  3.62it/s]"
     ]
    },
    {
     "name": "stdout",
     "output_type": "stream",
     "text": [
      "Enter inferencing\n",
      "Create evaluator\n"
     ]
    },
    {
     "name": "stderr",
     "output_type": "stream",
     "text": [
      "\n"
     ]
    },
    {
     "name": "stdout",
     "output_type": "stream",
     "text": [
      "The test feature is normalized\n",
      "Validation Results\n",
      "mAP: 62.2%\n",
      "CMC curve, Rank-1  :83.7%\n",
      "CMC curve, Rank-2  :89.1%\n",
      "CMC curve, Rank-4  :92.7%\n",
      "CMC curve, Rank-6  :94.6%\n",
      "CMC curve, Rank-8  :95.8%\n",
      "CMC curve, Rank-10 :96.2%\n",
      "CMC curve, Rank-12 :96.6%\n",
      "CMC curve, Rank-14 :96.9%\n",
      "CMC curve, Rank-16 :97.3%\n",
      "CMC curve, Rank-18 :97.6%\n",
      "CMC curve, Rank-20 :97.8%\n",
      "CMC curve, Rank-22 :97.9%\n",
      "CMC curve, Rank-24 :98.0%\n",
      "CMC curve, Rank-26 :98.1%\n",
      "CMC curve, Rank-28 :98.1%\n",
      "CMC curve, Rank-30 :98.2%\n",
      "CMC curve, Rank-32 :98.5%\n"
     ]
    },
    {
     "name": "stderr",
     "output_type": "stream",
     "text": [
      "Train Epoch: 79 [259/259 (100%)] Loss: 0.065095: : 259it [01:11,  3.62it/s]"
     ]
    },
    {
     "name": "stdout",
     "output_type": "stream",
     "text": [
      "Enter inferencing\n",
      "Create evaluator\n"
     ]
    },
    {
     "name": "stderr",
     "output_type": "stream",
     "text": [
      "\n"
     ]
    },
    {
     "name": "stdout",
     "output_type": "stream",
     "text": [
      "The test feature is normalized\n",
      "Validation Results\n",
      "mAP: 62.1%\n",
      "CMC curve, Rank-1  :83.6%\n",
      "CMC curve, Rank-2  :88.9%\n",
      "CMC curve, Rank-4  :92.8%\n",
      "CMC curve, Rank-6  :94.6%\n",
      "CMC curve, Rank-8  :95.6%\n",
      "CMC curve, Rank-10 :96.1%\n",
      "CMC curve, Rank-12 :96.4%\n",
      "CMC curve, Rank-14 :96.8%\n",
      "CMC curve, Rank-16 :97.0%\n",
      "CMC curve, Rank-18 :97.4%\n",
      "CMC curve, Rank-20 :97.6%\n",
      "CMC curve, Rank-22 :97.9%\n",
      "CMC curve, Rank-24 :98.0%\n",
      "CMC curve, Rank-26 :98.1%\n",
      "CMC curve, Rank-28 :98.2%\n",
      "CMC curve, Rank-30 :98.3%\n",
      "CMC curve, Rank-32 :98.4%\n"
     ]
    },
    {
     "name": "stderr",
     "output_type": "stream",
     "text": [
      "Train Epoch: 80 [259/259 (100%)] Loss: 0.047632: : 259it [01:11,  3.62it/s]"
     ]
    },
    {
     "name": "stdout",
     "output_type": "stream",
     "text": [
      "Enter inferencing\n",
      "Create evaluator\n"
     ]
    },
    {
     "name": "stderr",
     "output_type": "stream",
     "text": [
      "\n"
     ]
    },
    {
     "name": "stdout",
     "output_type": "stream",
     "text": [
      "The test feature is normalized\n",
      "Validation Results\n",
      "mAP: 62.3%\n",
      "CMC curve, Rank-1  :83.5%\n",
      "CMC curve, Rank-2  :89.0%\n",
      "CMC curve, Rank-4  :92.7%\n",
      "CMC curve, Rank-6  :94.7%\n",
      "CMC curve, Rank-8  :95.8%\n",
      "CMC curve, Rank-10 :96.2%\n",
      "CMC curve, Rank-12 :96.4%\n",
      "CMC curve, Rank-14 :97.0%\n",
      "CMC curve, Rank-16 :97.3%\n",
      "CMC curve, Rank-18 :97.5%\n",
      "CMC curve, Rank-20 :97.7%\n",
      "CMC curve, Rank-22 :98.0%\n",
      "CMC curve, Rank-24 :98.1%\n",
      "CMC curve, Rank-26 :98.2%\n",
      "CMC curve, Rank-28 :98.3%\n",
      "CMC curve, Rank-30 :98.3%\n",
      "CMC curve, Rank-32 :98.4%\n"
     ]
    },
    {
     "name": "stderr",
     "output_type": "stream",
     "text": [
      "Train Epoch: 81 [259/259 (100%)] Loss: 0.033688: : 259it [01:11,  3.62it/s]"
     ]
    },
    {
     "name": "stdout",
     "output_type": "stream",
     "text": [
      "Enter inferencing\n",
      "Create evaluator\n"
     ]
    },
    {
     "name": "stderr",
     "output_type": "stream",
     "text": [
      "\n"
     ]
    },
    {
     "name": "stdout",
     "output_type": "stream",
     "text": [
      "The test feature is normalized\n",
      "Validation Results\n",
      "mAP: 62.3%\n",
      "CMC curve, Rank-1  :83.8%\n",
      "CMC curve, Rank-2  :89.1%\n",
      "CMC curve, Rank-4  :92.7%\n",
      "CMC curve, Rank-6  :94.5%\n",
      "CMC curve, Rank-8  :95.6%\n",
      "CMC curve, Rank-10 :96.1%\n",
      "CMC curve, Rank-12 :96.5%\n",
      "CMC curve, Rank-14 :96.7%\n",
      "CMC curve, Rank-16 :97.1%\n",
      "CMC curve, Rank-18 :97.5%\n",
      "CMC curve, Rank-20 :97.7%\n",
      "CMC curve, Rank-22 :97.9%\n",
      "CMC curve, Rank-24 :98.1%\n",
      "CMC curve, Rank-26 :98.2%\n",
      "CMC curve, Rank-28 :98.3%\n",
      "CMC curve, Rank-30 :98.3%\n",
      "CMC curve, Rank-32 :98.5%\n"
     ]
    },
    {
     "name": "stderr",
     "output_type": "stream",
     "text": [
      "Train Epoch: 82 [259/259 (100%)] Loss: 0.062369: : 259it [01:11,  3.62it/s]"
     ]
    },
    {
     "name": "stdout",
     "output_type": "stream",
     "text": [
      "Enter inferencing\n",
      "Create evaluator\n"
     ]
    },
    {
     "name": "stderr",
     "output_type": "stream",
     "text": [
      "\n"
     ]
    },
    {
     "name": "stdout",
     "output_type": "stream",
     "text": [
      "The test feature is normalized\n",
      "Validation Results\n",
      "mAP: 62.3%\n",
      "CMC curve, Rank-1  :83.8%\n",
      "CMC curve, Rank-2  :89.0%\n",
      "CMC curve, Rank-4  :92.8%\n",
      "CMC curve, Rank-6  :94.7%\n",
      "CMC curve, Rank-8  :95.7%\n",
      "CMC curve, Rank-10 :96.3%\n",
      "CMC curve, Rank-12 :96.6%\n",
      "CMC curve, Rank-14 :96.8%\n",
      "CMC curve, Rank-16 :97.1%\n",
      "CMC curve, Rank-18 :97.5%\n",
      "CMC curve, Rank-20 :97.7%\n",
      "CMC curve, Rank-22 :97.8%\n",
      "CMC curve, Rank-24 :97.9%\n",
      "CMC curve, Rank-26 :98.1%\n",
      "CMC curve, Rank-28 :98.3%\n",
      "CMC curve, Rank-30 :98.4%\n",
      "CMC curve, Rank-32 :98.6%\n"
     ]
    },
    {
     "name": "stderr",
     "output_type": "stream",
     "text": [
      "Train Epoch: 83 [259/259 (100%)] Loss: 0.048901: : 259it [01:11,  3.62it/s]"
     ]
    },
    {
     "name": "stdout",
     "output_type": "stream",
     "text": [
      "Enter inferencing\n",
      "Create evaluator\n"
     ]
    },
    {
     "name": "stderr",
     "output_type": "stream",
     "text": [
      "\n"
     ]
    },
    {
     "name": "stdout",
     "output_type": "stream",
     "text": [
      "The test feature is normalized\n",
      "Validation Results\n",
      "mAP: 62.1%\n",
      "CMC curve, Rank-1  :83.5%\n",
      "CMC curve, Rank-2  :89.1%\n",
      "CMC curve, Rank-4  :92.8%\n",
      "CMC curve, Rank-6  :94.7%\n",
      "CMC curve, Rank-8  :95.7%\n",
      "CMC curve, Rank-10 :96.2%\n",
      "CMC curve, Rank-12 :96.4%\n",
      "CMC curve, Rank-14 :96.8%\n",
      "CMC curve, Rank-16 :97.0%\n",
      "CMC curve, Rank-18 :97.4%\n",
      "CMC curve, Rank-20 :97.6%\n",
      "CMC curve, Rank-22 :97.8%\n",
      "CMC curve, Rank-24 :97.9%\n",
      "CMC curve, Rank-26 :98.0%\n",
      "CMC curve, Rank-28 :98.1%\n",
      "CMC curve, Rank-30 :98.2%\n",
      "CMC curve, Rank-32 :98.3%\n"
     ]
    },
    {
     "name": "stderr",
     "output_type": "stream",
     "text": [
      "Train Epoch: 84 [259/259 (100%)] Loss: 0.043981: : 259it [01:11,  3.62it/s]"
     ]
    },
    {
     "name": "stdout",
     "output_type": "stream",
     "text": [
      "Enter inferencing\n",
      "Create evaluator\n"
     ]
    },
    {
     "name": "stderr",
     "output_type": "stream",
     "text": [
      "\n"
     ]
    },
    {
     "name": "stdout",
     "output_type": "stream",
     "text": [
      "The test feature is normalized\n",
      "Validation Results\n",
      "mAP: 62.3%\n",
      "CMC curve, Rank-1  :83.8%\n",
      "CMC curve, Rank-2  :89.2%\n",
      "CMC curve, Rank-4  :92.8%\n",
      "CMC curve, Rank-6  :94.6%\n",
      "CMC curve, Rank-8  :95.7%\n",
      "CMC curve, Rank-10 :96.2%\n",
      "CMC curve, Rank-12 :96.4%\n",
      "CMC curve, Rank-14 :96.7%\n",
      "CMC curve, Rank-16 :97.2%\n",
      "CMC curve, Rank-18 :97.5%\n",
      "CMC curve, Rank-20 :97.7%\n",
      "CMC curve, Rank-22 :97.8%\n",
      "CMC curve, Rank-24 :97.9%\n",
      "CMC curve, Rank-26 :98.1%\n",
      "CMC curve, Rank-28 :98.2%\n",
      "CMC curve, Rank-30 :98.4%\n",
      "CMC curve, Rank-32 :98.4%\n"
     ]
    },
    {
     "name": "stderr",
     "output_type": "stream",
     "text": [
      "Train Epoch: 85 [259/259 (100%)] Loss: 0.060160: : 259it [01:11,  3.63it/s]"
     ]
    },
    {
     "name": "stdout",
     "output_type": "stream",
     "text": [
      "Enter inferencing\n",
      "Create evaluator\n"
     ]
    },
    {
     "name": "stderr",
     "output_type": "stream",
     "text": [
      "\n"
     ]
    },
    {
     "name": "stdout",
     "output_type": "stream",
     "text": [
      "The test feature is normalized\n",
      "Validation Results\n",
      "mAP: 62.2%\n",
      "CMC curve, Rank-1  :83.6%\n",
      "CMC curve, Rank-2  :89.2%\n",
      "CMC curve, Rank-4  :92.7%\n",
      "CMC curve, Rank-6  :94.6%\n",
      "CMC curve, Rank-8  :95.5%\n",
      "CMC curve, Rank-10 :96.1%\n",
      "CMC curve, Rank-12 :96.5%\n",
      "CMC curve, Rank-14 :96.9%\n",
      "CMC curve, Rank-16 :97.2%\n",
      "CMC curve, Rank-18 :97.5%\n",
      "CMC curve, Rank-20 :97.7%\n",
      "CMC curve, Rank-22 :97.9%\n",
      "CMC curve, Rank-24 :98.1%\n",
      "CMC curve, Rank-26 :98.2%\n",
      "CMC curve, Rank-28 :98.2%\n",
      "CMC curve, Rank-30 :98.3%\n",
      "CMC curve, Rank-32 :98.5%\n"
     ]
    },
    {
     "name": "stderr",
     "output_type": "stream",
     "text": [
      "Train Epoch: 86 [259/259 (100%)] Loss: 0.050660: : 259it [01:11,  3.62it/s]"
     ]
    },
    {
     "name": "stdout",
     "output_type": "stream",
     "text": [
      "Enter inferencing\n",
      "Create evaluator\n"
     ]
    },
    {
     "name": "stderr",
     "output_type": "stream",
     "text": [
      "\n"
     ]
    },
    {
     "name": "stdout",
     "output_type": "stream",
     "text": [
      "The test feature is normalized\n",
      "Validation Results\n",
      "mAP: 62.2%\n",
      "CMC curve, Rank-1  :83.5%\n",
      "CMC curve, Rank-2  :89.0%\n",
      "CMC curve, Rank-4  :92.6%\n",
      "CMC curve, Rank-6  :94.7%\n",
      "CMC curve, Rank-8  :95.7%\n",
      "CMC curve, Rank-10 :96.2%\n",
      "CMC curve, Rank-12 :96.4%\n",
      "CMC curve, Rank-14 :96.9%\n",
      "CMC curve, Rank-16 :97.2%\n",
      "CMC curve, Rank-18 :97.5%\n",
      "CMC curve, Rank-20 :97.7%\n",
      "CMC curve, Rank-22 :97.8%\n",
      "CMC curve, Rank-24 :98.0%\n",
      "CMC curve, Rank-26 :98.1%\n",
      "CMC curve, Rank-28 :98.2%\n",
      "CMC curve, Rank-30 :98.3%\n",
      "CMC curve, Rank-32 :98.4%\n"
     ]
    },
    {
     "name": "stderr",
     "output_type": "stream",
     "text": [
      "Train Epoch: 87 [259/259 (100%)] Loss: 0.047194: : 259it [01:11,  3.62it/s]"
     ]
    },
    {
     "name": "stdout",
     "output_type": "stream",
     "text": [
      "Enter inferencing\n",
      "Create evaluator\n"
     ]
    },
    {
     "name": "stderr",
     "output_type": "stream",
     "text": [
      "\n"
     ]
    },
    {
     "name": "stdout",
     "output_type": "stream",
     "text": [
      "The test feature is normalized\n",
      "Validation Results\n",
      "mAP: 62.4%\n",
      "CMC curve, Rank-1  :84.0%\n",
      "CMC curve, Rank-2  :89.1%\n",
      "CMC curve, Rank-4  :92.8%\n",
      "CMC curve, Rank-6  :94.7%\n",
      "CMC curve, Rank-8  :95.7%\n",
      "CMC curve, Rank-10 :96.2%\n",
      "CMC curve, Rank-12 :96.5%\n",
      "CMC curve, Rank-14 :96.9%\n",
      "CMC curve, Rank-16 :97.4%\n",
      "CMC curve, Rank-18 :97.7%\n",
      "CMC curve, Rank-20 :97.8%\n",
      "CMC curve, Rank-22 :97.9%\n",
      "CMC curve, Rank-24 :98.1%\n",
      "CMC curve, Rank-26 :98.2%\n",
      "CMC curve, Rank-28 :98.3%\n",
      "CMC curve, Rank-30 :98.4%\n",
      "CMC curve, Rank-32 :98.5%\n"
     ]
    },
    {
     "name": "stderr",
     "output_type": "stream",
     "text": [
      "Train Epoch: 88 [259/259 (100%)] Loss: 0.047193: : 259it [01:11,  3.62it/s]"
     ]
    },
    {
     "name": "stdout",
     "output_type": "stream",
     "text": [
      "Enter inferencing\n",
      "Create evaluator\n"
     ]
    },
    {
     "name": "stderr",
     "output_type": "stream",
     "text": [
      "\n"
     ]
    },
    {
     "name": "stdout",
     "output_type": "stream",
     "text": [
      "The test feature is normalized\n",
      "Validation Results\n",
      "mAP: 62.3%\n",
      "CMC curve, Rank-1  :83.8%\n",
      "CMC curve, Rank-2  :89.1%\n",
      "CMC curve, Rank-4  :92.7%\n",
      "CMC curve, Rank-6  :94.8%\n",
      "CMC curve, Rank-8  :95.7%\n",
      "CMC curve, Rank-10 :96.2%\n",
      "CMC curve, Rank-12 :96.5%\n",
      "CMC curve, Rank-14 :96.9%\n",
      "CMC curve, Rank-16 :97.3%\n",
      "CMC curve, Rank-18 :97.5%\n",
      "CMC curve, Rank-20 :97.8%\n",
      "CMC curve, Rank-22 :97.9%\n",
      "CMC curve, Rank-24 :98.0%\n",
      "CMC curve, Rank-26 :98.2%\n",
      "CMC curve, Rank-28 :98.2%\n",
      "CMC curve, Rank-30 :98.3%\n",
      "CMC curve, Rank-32 :98.4%\n"
     ]
    },
    {
     "name": "stderr",
     "output_type": "stream",
     "text": [
      "Train Epoch: 89 [259/259 (100%)] Loss: 0.042031: : 259it [01:11,  3.61it/s]"
     ]
    },
    {
     "name": "stdout",
     "output_type": "stream",
     "text": [
      "Enter inferencing\n",
      "Create evaluator\n"
     ]
    },
    {
     "name": "stderr",
     "output_type": "stream",
     "text": [
      "\n"
     ]
    },
    {
     "name": "stdout",
     "output_type": "stream",
     "text": [
      "The test feature is normalized\n",
      "Validation Results\n",
      "mAP: 62.2%\n",
      "CMC curve, Rank-1  :83.8%\n",
      "CMC curve, Rank-2  :89.1%\n",
      "CMC curve, Rank-4  :92.6%\n",
      "CMC curve, Rank-6  :94.6%\n",
      "CMC curve, Rank-8  :95.7%\n",
      "CMC curve, Rank-10 :96.2%\n",
      "CMC curve, Rank-12 :96.6%\n",
      "CMC curve, Rank-14 :96.9%\n",
      "CMC curve, Rank-16 :97.4%\n",
      "CMC curve, Rank-18 :97.7%\n",
      "CMC curve, Rank-20 :97.8%\n",
      "CMC curve, Rank-22 :98.0%\n",
      "CMC curve, Rank-24 :98.0%\n",
      "CMC curve, Rank-26 :98.2%\n",
      "CMC curve, Rank-28 :98.2%\n",
      "CMC curve, Rank-30 :98.3%\n",
      "CMC curve, Rank-32 :98.4%\n"
     ]
    },
    {
     "name": "stderr",
     "output_type": "stream",
     "text": [
      "Train Epoch: 90 [259/259 (100%)] Loss: 0.026881: : 259it [01:11,  3.62it/s]"
     ]
    },
    {
     "name": "stdout",
     "output_type": "stream",
     "text": [
      "Enter inferencing\n",
      "Create evaluator\n"
     ]
    },
    {
     "name": "stderr",
     "output_type": "stream",
     "text": [
      "\n"
     ]
    },
    {
     "name": "stdout",
     "output_type": "stream",
     "text": [
      "The test feature is normalized\n",
      "Validation Results\n",
      "mAP: 62.3%\n",
      "CMC curve, Rank-1  :83.6%\n",
      "CMC curve, Rank-2  :89.2%\n",
      "CMC curve, Rank-4  :92.8%\n",
      "CMC curve, Rank-6  :94.7%\n",
      "CMC curve, Rank-8  :95.7%\n",
      "CMC curve, Rank-10 :96.1%\n",
      "CMC curve, Rank-12 :96.4%\n",
      "CMC curve, Rank-14 :96.8%\n",
      "CMC curve, Rank-16 :97.1%\n",
      "CMC curve, Rank-18 :97.6%\n",
      "CMC curve, Rank-20 :97.7%\n",
      "CMC curve, Rank-22 :98.0%\n",
      "CMC curve, Rank-24 :98.1%\n",
      "CMC curve, Rank-26 :98.2%\n",
      "CMC curve, Rank-28 :98.3%\n",
      "CMC curve, Rank-30 :98.4%\n",
      "CMC curve, Rank-32 :98.5%\n"
     ]
    },
    {
     "name": "stderr",
     "output_type": "stream",
     "text": [
      "Train Epoch: 91 [259/259 (100%)] Loss: 0.044726: : 259it [01:11,  3.62it/s]"
     ]
    },
    {
     "name": "stdout",
     "output_type": "stream",
     "text": [
      "Enter inferencing\n",
      "Create evaluator\n"
     ]
    },
    {
     "name": "stderr",
     "output_type": "stream",
     "text": [
      "\n"
     ]
    },
    {
     "name": "stdout",
     "output_type": "stream",
     "text": [
      "The test feature is normalized\n",
      "Validation Results\n",
      "mAP: 62.2%\n",
      "CMC curve, Rank-1  :83.4%\n",
      "CMC curve, Rank-2  :88.7%\n",
      "CMC curve, Rank-4  :92.8%\n",
      "CMC curve, Rank-6  :94.4%\n",
      "CMC curve, Rank-8  :95.7%\n",
      "CMC curve, Rank-10 :96.2%\n",
      "CMC curve, Rank-12 :96.4%\n",
      "CMC curve, Rank-14 :96.8%\n",
      "CMC curve, Rank-16 :97.2%\n",
      "CMC curve, Rank-18 :97.7%\n",
      "CMC curve, Rank-20 :97.8%\n",
      "CMC curve, Rank-22 :97.9%\n",
      "CMC curve, Rank-24 :98.0%\n",
      "CMC curve, Rank-26 :98.1%\n",
      "CMC curve, Rank-28 :98.2%\n",
      "CMC curve, Rank-30 :98.3%\n",
      "CMC curve, Rank-32 :98.4%\n"
     ]
    },
    {
     "name": "stderr",
     "output_type": "stream",
     "text": [
      "Train Epoch: 92 [259/259 (100%)] Loss: 0.030292: : 259it [01:11,  3.62it/s]"
     ]
    },
    {
     "name": "stdout",
     "output_type": "stream",
     "text": [
      "Enter inferencing\n",
      "Create evaluator\n"
     ]
    },
    {
     "name": "stderr",
     "output_type": "stream",
     "text": [
      "\n"
     ]
    },
    {
     "name": "stdout",
     "output_type": "stream",
     "text": [
      "The test feature is normalized\n",
      "Validation Results\n",
      "mAP: 62.3%\n",
      "CMC curve, Rank-1  :83.6%\n",
      "CMC curve, Rank-2  :88.8%\n",
      "CMC curve, Rank-4  :92.7%\n",
      "CMC curve, Rank-6  :94.8%\n",
      "CMC curve, Rank-8  :95.8%\n",
      "CMC curve, Rank-10 :96.1%\n",
      "CMC curve, Rank-12 :96.4%\n",
      "CMC curve, Rank-14 :97.0%\n",
      "CMC curve, Rank-16 :97.3%\n",
      "CMC curve, Rank-18 :97.5%\n",
      "CMC curve, Rank-20 :97.7%\n",
      "CMC curve, Rank-22 :97.9%\n",
      "CMC curve, Rank-24 :98.0%\n",
      "CMC curve, Rank-26 :98.1%\n",
      "CMC curve, Rank-28 :98.2%\n",
      "CMC curve, Rank-30 :98.3%\n",
      "CMC curve, Rank-32 :98.4%\n"
     ]
    },
    {
     "name": "stderr",
     "output_type": "stream",
     "text": [
      "Train Epoch: 93 [259/259 (100%)] Loss: 0.056777: : 259it [01:11,  3.63it/s]"
     ]
    },
    {
     "name": "stdout",
     "output_type": "stream",
     "text": [
      "Enter inferencing\n",
      "Create evaluator\n"
     ]
    },
    {
     "name": "stderr",
     "output_type": "stream",
     "text": [
      "\n"
     ]
    },
    {
     "name": "stdout",
     "output_type": "stream",
     "text": [
      "The test feature is normalized\n",
      "Validation Results\n",
      "mAP: 62.2%\n",
      "CMC curve, Rank-1  :83.5%\n",
      "CMC curve, Rank-2  :88.9%\n",
      "CMC curve, Rank-4  :92.8%\n",
      "CMC curve, Rank-6  :94.7%\n",
      "CMC curve, Rank-8  :95.6%\n",
      "CMC curve, Rank-10 :96.1%\n",
      "CMC curve, Rank-12 :96.4%\n",
      "CMC curve, Rank-14 :97.0%\n",
      "CMC curve, Rank-16 :97.3%\n",
      "CMC curve, Rank-18 :97.6%\n",
      "CMC curve, Rank-20 :97.8%\n",
      "CMC curve, Rank-22 :97.9%\n",
      "CMC curve, Rank-24 :98.0%\n",
      "CMC curve, Rank-26 :98.1%\n",
      "CMC curve, Rank-28 :98.2%\n",
      "CMC curve, Rank-30 :98.2%\n",
      "CMC curve, Rank-32 :98.3%\n"
     ]
    },
    {
     "name": "stderr",
     "output_type": "stream",
     "text": [
      "Train Epoch: 94 [259/259 (100%)] Loss: 0.052826: : 259it [01:11,  3.62it/s]"
     ]
    },
    {
     "name": "stdout",
     "output_type": "stream",
     "text": [
      "Enter inferencing\n",
      "Create evaluator\n"
     ]
    },
    {
     "name": "stderr",
     "output_type": "stream",
     "text": [
      "\n"
     ]
    },
    {
     "name": "stdout",
     "output_type": "stream",
     "text": [
      "The test feature is normalized\n",
      "Validation Results\n",
      "mAP: 62.2%\n",
      "CMC curve, Rank-1  :83.5%\n",
      "CMC curve, Rank-2  :88.9%\n",
      "CMC curve, Rank-4  :92.6%\n",
      "CMC curve, Rank-6  :94.6%\n",
      "CMC curve, Rank-8  :95.8%\n",
      "CMC curve, Rank-10 :96.1%\n",
      "CMC curve, Rank-12 :96.4%\n",
      "CMC curve, Rank-14 :96.7%\n",
      "CMC curve, Rank-16 :97.1%\n",
      "CMC curve, Rank-18 :97.5%\n",
      "CMC curve, Rank-20 :97.7%\n",
      "CMC curve, Rank-22 :97.9%\n",
      "CMC curve, Rank-24 :98.0%\n",
      "CMC curve, Rank-26 :98.1%\n",
      "CMC curve, Rank-28 :98.2%\n",
      "CMC curve, Rank-30 :98.3%\n",
      "CMC curve, Rank-32 :98.4%\n"
     ]
    },
    {
     "name": "stderr",
     "output_type": "stream",
     "text": [
      "Train Epoch: 95 [259/259 (100%)] Loss: 0.034564: : 259it [01:11,  3.62it/s]"
     ]
    },
    {
     "name": "stdout",
     "output_type": "stream",
     "text": [
      "Enter inferencing\n",
      "Create evaluator\n"
     ]
    },
    {
     "name": "stderr",
     "output_type": "stream",
     "text": [
      "\n"
     ]
    },
    {
     "name": "stdout",
     "output_type": "stream",
     "text": [
      "The test feature is normalized\n",
      "Validation Results\n",
      "mAP: 62.3%\n",
      "CMC curve, Rank-1  :83.6%\n",
      "CMC curve, Rank-2  :88.7%\n",
      "CMC curve, Rank-4  :92.8%\n",
      "CMC curve, Rank-6  :94.6%\n",
      "CMC curve, Rank-8  :95.7%\n",
      "CMC curve, Rank-10 :96.1%\n",
      "CMC curve, Rank-12 :96.4%\n",
      "CMC curve, Rank-14 :96.8%\n",
      "CMC curve, Rank-16 :97.2%\n",
      "CMC curve, Rank-18 :97.5%\n",
      "CMC curve, Rank-20 :97.7%\n",
      "CMC curve, Rank-22 :97.8%\n",
      "CMC curve, Rank-24 :98.1%\n",
      "CMC curve, Rank-26 :98.1%\n",
      "CMC curve, Rank-28 :98.3%\n",
      "CMC curve, Rank-30 :98.3%\n",
      "CMC curve, Rank-32 :98.4%\n"
     ]
    },
    {
     "name": "stderr",
     "output_type": "stream",
     "text": [
      "Train Epoch: 96 [259/259 (100%)] Loss: 0.083331: : 259it [01:11,  3.62it/s]"
     ]
    },
    {
     "name": "stdout",
     "output_type": "stream",
     "text": [
      "Enter inferencing\n",
      "Create evaluator\n"
     ]
    },
    {
     "name": "stderr",
     "output_type": "stream",
     "text": [
      "\n"
     ]
    },
    {
     "name": "stdout",
     "output_type": "stream",
     "text": [
      "The test feature is normalized\n",
      "Validation Results\n",
      "mAP: 62.2%\n",
      "CMC curve, Rank-1  :83.8%\n",
      "CMC curve, Rank-2  :89.2%\n",
      "CMC curve, Rank-4  :92.8%\n",
      "CMC curve, Rank-6  :94.7%\n",
      "CMC curve, Rank-8  :95.6%\n",
      "CMC curve, Rank-10 :96.1%\n",
      "CMC curve, Rank-12 :96.5%\n",
      "CMC curve, Rank-14 :97.0%\n",
      "CMC curve, Rank-16 :97.3%\n",
      "CMC curve, Rank-18 :97.6%\n",
      "CMC curve, Rank-20 :97.7%\n",
      "CMC curve, Rank-22 :97.9%\n",
      "CMC curve, Rank-24 :98.1%\n",
      "CMC curve, Rank-26 :98.1%\n",
      "CMC curve, Rank-28 :98.2%\n",
      "CMC curve, Rank-30 :98.3%\n",
      "CMC curve, Rank-32 :98.4%\n"
     ]
    },
    {
     "name": "stderr",
     "output_type": "stream",
     "text": [
      "Train Epoch: 97 [259/259 (100%)] Loss: 0.132107: : 259it [01:11,  3.63it/s]"
     ]
    },
    {
     "name": "stdout",
     "output_type": "stream",
     "text": [
      "Enter inferencing\n",
      "Create evaluator\n"
     ]
    },
    {
     "name": "stderr",
     "output_type": "stream",
     "text": [
      "\n"
     ]
    },
    {
     "name": "stdout",
     "output_type": "stream",
     "text": [
      "The test feature is normalized\n",
      "Validation Results\n",
      "mAP: 62.3%\n",
      "CMC curve, Rank-1  :83.6%\n",
      "CMC curve, Rank-2  :88.9%\n",
      "CMC curve, Rank-4  :92.7%\n",
      "CMC curve, Rank-6  :94.7%\n",
      "CMC curve, Rank-8  :95.7%\n",
      "CMC curve, Rank-10 :96.1%\n",
      "CMC curve, Rank-12 :96.4%\n",
      "CMC curve, Rank-14 :96.7%\n",
      "CMC curve, Rank-16 :97.2%\n",
      "CMC curve, Rank-18 :97.6%\n",
      "CMC curve, Rank-20 :97.7%\n",
      "CMC curve, Rank-22 :97.9%\n",
      "CMC curve, Rank-24 :98.0%\n",
      "CMC curve, Rank-26 :98.1%\n",
      "CMC curve, Rank-28 :98.2%\n",
      "CMC curve, Rank-30 :98.3%\n",
      "CMC curve, Rank-32 :98.4%\n"
     ]
    },
    {
     "name": "stderr",
     "output_type": "stream",
     "text": [
      "Train Epoch: 98 [259/259 (100%)] Loss: 0.100011: : 259it [01:11,  3.62it/s]"
     ]
    },
    {
     "name": "stdout",
     "output_type": "stream",
     "text": [
      "Enter inferencing\n",
      "Create evaluator\n"
     ]
    },
    {
     "name": "stderr",
     "output_type": "stream",
     "text": [
      "\n"
     ]
    },
    {
     "name": "stdout",
     "output_type": "stream",
     "text": [
      "The test feature is normalized\n",
      "Validation Results\n",
      "mAP: 62.4%\n",
      "CMC curve, Rank-1  :83.7%\n",
      "CMC curve, Rank-2  :89.0%\n",
      "CMC curve, Rank-4  :92.9%\n",
      "CMC curve, Rank-6  :94.5%\n",
      "CMC curve, Rank-8  :95.6%\n",
      "CMC curve, Rank-10 :96.1%\n",
      "CMC curve, Rank-12 :96.4%\n",
      "CMC curve, Rank-14 :96.7%\n",
      "CMC curve, Rank-16 :97.2%\n",
      "CMC curve, Rank-18 :97.5%\n",
      "CMC curve, Rank-20 :97.7%\n",
      "CMC curve, Rank-22 :98.0%\n",
      "CMC curve, Rank-24 :98.1%\n",
      "CMC curve, Rank-26 :98.2%\n",
      "CMC curve, Rank-28 :98.3%\n",
      "CMC curve, Rank-30 :98.4%\n",
      "CMC curve, Rank-32 :98.5%\n"
     ]
    },
    {
     "name": "stderr",
     "output_type": "stream",
     "text": [
      "Train Epoch: 99 [259/259 (100%)] Loss: 0.065032: : 259it [01:11,  3.62it/s]"
     ]
    },
    {
     "name": "stdout",
     "output_type": "stream",
     "text": [
      "Enter inferencing\n",
      "Create evaluator\n"
     ]
    },
    {
     "name": "stderr",
     "output_type": "stream",
     "text": [
      "\n"
     ]
    },
    {
     "name": "stdout",
     "output_type": "stream",
     "text": [
      "The test feature is normalized\n",
      "Validation Results\n",
      "mAP: 62.2%\n",
      "CMC curve, Rank-1  :83.4%\n",
      "CMC curve, Rank-2  :89.0%\n",
      "CMC curve, Rank-4  :92.8%\n",
      "CMC curve, Rank-6  :94.8%\n",
      "CMC curve, Rank-8  :95.8%\n",
      "CMC curve, Rank-10 :96.2%\n",
      "CMC curve, Rank-12 :96.6%\n",
      "CMC curve, Rank-14 :96.9%\n",
      "CMC curve, Rank-16 :97.2%\n",
      "CMC curve, Rank-18 :97.5%\n",
      "CMC curve, Rank-20 :97.7%\n",
      "CMC curve, Rank-22 :97.8%\n",
      "CMC curve, Rank-24 :98.1%\n",
      "CMC curve, Rank-26 :98.2%\n",
      "CMC curve, Rank-28 :98.3%\n",
      "CMC curve, Rank-30 :98.3%\n",
      "CMC curve, Rank-32 :98.4%\n"
     ]
    },
    {
     "name": "stderr",
     "output_type": "stream",
     "text": [
      "Train Epoch: 100 [259/259 (100%)] Loss: 0.039378: : 259it [01:11,  3.62it/s]"
     ]
    },
    {
     "name": "stdout",
     "output_type": "stream",
     "text": [
      "Enter inferencing\n",
      "Create evaluator\n"
     ]
    },
    {
     "name": "stderr",
     "output_type": "stream",
     "text": [
      "\n"
     ]
    },
    {
     "name": "stdout",
     "output_type": "stream",
     "text": [
      "The test feature is normalized\n",
      "Validation Results\n",
      "mAP: 62.2%\n",
      "CMC curve, Rank-1  :83.6%\n",
      "CMC curve, Rank-2  :89.1%\n",
      "CMC curve, Rank-4  :92.8%\n",
      "CMC curve, Rank-6  :94.6%\n",
      "CMC curve, Rank-8  :95.8%\n",
      "CMC curve, Rank-10 :96.2%\n",
      "CMC curve, Rank-12 :96.5%\n",
      "CMC curve, Rank-14 :96.9%\n",
      "CMC curve, Rank-16 :97.2%\n",
      "CMC curve, Rank-18 :97.5%\n",
      "CMC curve, Rank-20 :97.7%\n",
      "CMC curve, Rank-22 :97.9%\n",
      "CMC curve, Rank-24 :98.0%\n",
      "CMC curve, Rank-26 :98.1%\n",
      "CMC curve, Rank-28 :98.2%\n",
      "CMC curve, Rank-30 :98.3%\n",
      "CMC curve, Rank-32 :98.3%\n"
     ]
    },
    {
     "name": "stderr",
     "output_type": "stream",
     "text": [
      "Train Epoch: 101 [259/259 (100%)] Loss: 0.049465: : 259it [01:11,  3.62it/s]"
     ]
    },
    {
     "name": "stdout",
     "output_type": "stream",
     "text": [
      "Enter inferencing\n",
      "Create evaluator\n"
     ]
    },
    {
     "name": "stderr",
     "output_type": "stream",
     "text": [
      "\n"
     ]
    },
    {
     "name": "stdout",
     "output_type": "stream",
     "text": [
      "The test feature is normalized\n",
      "Validation Results\n",
      "mAP: 62.3%\n",
      "CMC curve, Rank-1  :83.8%\n",
      "CMC curve, Rank-2  :89.1%\n",
      "CMC curve, Rank-4  :92.7%\n",
      "CMC curve, Rank-6  :94.7%\n",
      "CMC curve, Rank-8  :95.7%\n",
      "CMC curve, Rank-10 :96.2%\n",
      "CMC curve, Rank-12 :96.5%\n",
      "CMC curve, Rank-14 :96.7%\n",
      "CMC curve, Rank-16 :97.1%\n",
      "CMC curve, Rank-18 :97.5%\n",
      "CMC curve, Rank-20 :97.7%\n",
      "CMC curve, Rank-22 :97.9%\n",
      "CMC curve, Rank-24 :98.0%\n",
      "CMC curve, Rank-26 :98.1%\n",
      "CMC curve, Rank-28 :98.3%\n",
      "CMC curve, Rank-30 :98.3%\n",
      "CMC curve, Rank-32 :98.4%\n"
     ]
    },
    {
     "name": "stderr",
     "output_type": "stream",
     "text": [
      "Train Epoch: 102 [259/259 (100%)] Loss: 0.047926: : 259it [01:11,  3.62it/s]"
     ]
    },
    {
     "name": "stdout",
     "output_type": "stream",
     "text": [
      "Enter inferencing\n",
      "Create evaluator\n"
     ]
    },
    {
     "name": "stderr",
     "output_type": "stream",
     "text": [
      "\n"
     ]
    },
    {
     "name": "stdout",
     "output_type": "stream",
     "text": [
      "The test feature is normalized\n",
      "Validation Results\n",
      "mAP: 62.2%\n",
      "CMC curve, Rank-1  :83.7%\n",
      "CMC curve, Rank-2  :89.2%\n",
      "CMC curve, Rank-4  :93.0%\n",
      "CMC curve, Rank-6  :94.6%\n",
      "CMC curve, Rank-8  :95.7%\n",
      "CMC curve, Rank-10 :96.1%\n",
      "CMC curve, Rank-12 :96.5%\n",
      "CMC curve, Rank-14 :96.9%\n",
      "CMC curve, Rank-16 :97.3%\n",
      "CMC curve, Rank-18 :97.5%\n",
      "CMC curve, Rank-20 :97.8%\n",
      "CMC curve, Rank-22 :98.0%\n",
      "CMC curve, Rank-24 :98.0%\n",
      "CMC curve, Rank-26 :98.1%\n",
      "CMC curve, Rank-28 :98.3%\n",
      "CMC curve, Rank-30 :98.4%\n",
      "CMC curve, Rank-32 :98.5%\n"
     ]
    },
    {
     "name": "stderr",
     "output_type": "stream",
     "text": [
      "Train Epoch: 103 [259/259 (100%)] Loss: 0.065539: : 259it [01:11,  3.63it/s]"
     ]
    },
    {
     "name": "stdout",
     "output_type": "stream",
     "text": [
      "Enter inferencing\n",
      "Create evaluator\n"
     ]
    },
    {
     "name": "stderr",
     "output_type": "stream",
     "text": [
      "\n"
     ]
    },
    {
     "name": "stdout",
     "output_type": "stream",
     "text": [
      "The test feature is normalized\n",
      "Validation Results\n",
      "mAP: 62.4%\n",
      "CMC curve, Rank-1  :83.8%\n",
      "CMC curve, Rank-2  :89.2%\n",
      "CMC curve, Rank-4  :92.7%\n",
      "CMC curve, Rank-6  :94.7%\n",
      "CMC curve, Rank-8  :95.7%\n",
      "CMC curve, Rank-10 :96.2%\n",
      "CMC curve, Rank-12 :96.5%\n",
      "CMC curve, Rank-14 :96.8%\n",
      "CMC curve, Rank-16 :97.1%\n",
      "CMC curve, Rank-18 :97.6%\n",
      "CMC curve, Rank-20 :97.8%\n",
      "CMC curve, Rank-22 :97.9%\n",
      "CMC curve, Rank-24 :98.1%\n",
      "CMC curve, Rank-26 :98.2%\n",
      "CMC curve, Rank-28 :98.3%\n",
      "CMC curve, Rank-30 :98.4%\n",
      "CMC curve, Rank-32 :98.4%\n"
     ]
    },
    {
     "name": "stderr",
     "output_type": "stream",
     "text": [
      "Train Epoch: 104 [259/259 (100%)] Loss: 0.060684: : 259it [01:11,  3.62it/s]"
     ]
    },
    {
     "name": "stdout",
     "output_type": "stream",
     "text": [
      "Enter inferencing\n",
      "Create evaluator\n"
     ]
    },
    {
     "name": "stderr",
     "output_type": "stream",
     "text": [
      "\n"
     ]
    },
    {
     "name": "stdout",
     "output_type": "stream",
     "text": [
      "The test feature is normalized\n",
      "Validation Results\n",
      "mAP: 62.2%\n",
      "CMC curve, Rank-1  :83.5%\n",
      "CMC curve, Rank-2  :89.0%\n",
      "CMC curve, Rank-4  :92.7%\n",
      "CMC curve, Rank-6  :94.6%\n",
      "CMC curve, Rank-8  :95.7%\n",
      "CMC curve, Rank-10 :96.2%\n",
      "CMC curve, Rank-12 :96.6%\n",
      "CMC curve, Rank-14 :96.9%\n",
      "CMC curve, Rank-16 :97.2%\n",
      "CMC curve, Rank-18 :97.5%\n",
      "CMC curve, Rank-20 :97.8%\n",
      "CMC curve, Rank-22 :98.0%\n",
      "CMC curve, Rank-24 :98.1%\n",
      "CMC curve, Rank-26 :98.2%\n",
      "CMC curve, Rank-28 :98.3%\n",
      "CMC curve, Rank-30 :98.4%\n",
      "CMC curve, Rank-32 :98.4%\n"
     ]
    },
    {
     "name": "stderr",
     "output_type": "stream",
     "text": [
      "Train Epoch: 105 [259/259 (100%)] Loss: 0.078066: : 259it [01:11,  3.62it/s]"
     ]
    },
    {
     "name": "stdout",
     "output_type": "stream",
     "text": [
      "Enter inferencing\n",
      "Create evaluator\n"
     ]
    },
    {
     "name": "stderr",
     "output_type": "stream",
     "text": [
      "\n"
     ]
    },
    {
     "name": "stdout",
     "output_type": "stream",
     "text": [
      "The test feature is normalized\n",
      "Validation Results\n",
      "mAP: 62.2%\n",
      "CMC curve, Rank-1  :83.4%\n",
      "CMC curve, Rank-2  :88.8%\n",
      "CMC curve, Rank-4  :92.7%\n",
      "CMC curve, Rank-6  :94.5%\n",
      "CMC curve, Rank-8  :95.8%\n",
      "CMC curve, Rank-10 :96.2%\n",
      "CMC curve, Rank-12 :96.4%\n",
      "CMC curve, Rank-14 :96.8%\n",
      "CMC curve, Rank-16 :97.3%\n",
      "CMC curve, Rank-18 :97.5%\n",
      "CMC curve, Rank-20 :97.7%\n",
      "CMC curve, Rank-22 :97.9%\n",
      "CMC curve, Rank-24 :98.0%\n",
      "CMC curve, Rank-26 :98.1%\n",
      "CMC curve, Rank-28 :98.3%\n",
      "CMC curve, Rank-30 :98.4%\n",
      "CMC curve, Rank-32 :98.4%\n"
     ]
    },
    {
     "name": "stderr",
     "output_type": "stream",
     "text": [
      "Train Epoch: 106 [259/259 (100%)] Loss: 0.026556: : 259it [01:11,  3.62it/s]"
     ]
    },
    {
     "name": "stdout",
     "output_type": "stream",
     "text": [
      "Enter inferencing\n",
      "Create evaluator\n"
     ]
    },
    {
     "name": "stderr",
     "output_type": "stream",
     "text": [
      "\n"
     ]
    },
    {
     "name": "stdout",
     "output_type": "stream",
     "text": [
      "The test feature is normalized\n",
      "Validation Results\n",
      "mAP: 62.2%\n",
      "CMC curve, Rank-1  :83.6%\n",
      "CMC curve, Rank-2  :89.0%\n",
      "CMC curve, Rank-4  :92.7%\n",
      "CMC curve, Rank-6  :94.7%\n",
      "CMC curve, Rank-8  :95.5%\n",
      "CMC curve, Rank-10 :96.1%\n",
      "CMC curve, Rank-12 :96.5%\n",
      "CMC curve, Rank-14 :96.7%\n",
      "CMC curve, Rank-16 :97.1%\n",
      "CMC curve, Rank-18 :97.5%\n",
      "CMC curve, Rank-20 :97.7%\n",
      "CMC curve, Rank-22 :97.9%\n",
      "CMC curve, Rank-24 :98.0%\n",
      "CMC curve, Rank-26 :98.2%\n",
      "CMC curve, Rank-28 :98.3%\n",
      "CMC curve, Rank-30 :98.3%\n",
      "CMC curve, Rank-32 :98.4%\n"
     ]
    },
    {
     "name": "stderr",
     "output_type": "stream",
     "text": [
      "Train Epoch: 107 [259/259 (100%)] Loss: 0.028550: : 259it [01:11,  3.62it/s]"
     ]
    },
    {
     "name": "stdout",
     "output_type": "stream",
     "text": [
      "Enter inferencing\n",
      "Create evaluator\n"
     ]
    },
    {
     "name": "stderr",
     "output_type": "stream",
     "text": [
      "\n"
     ]
    },
    {
     "name": "stdout",
     "output_type": "stream",
     "text": [
      "The test feature is normalized\n",
      "Validation Results\n",
      "mAP: 62.4%\n",
      "CMC curve, Rank-1  :83.6%\n",
      "CMC curve, Rank-2  :89.1%\n",
      "CMC curve, Rank-4  :92.9%\n",
      "CMC curve, Rank-6  :94.7%\n",
      "CMC curve, Rank-8  :95.6%\n",
      "CMC curve, Rank-10 :96.1%\n",
      "CMC curve, Rank-12 :96.5%\n",
      "CMC curve, Rank-14 :96.8%\n",
      "CMC curve, Rank-16 :97.3%\n",
      "CMC curve, Rank-18 :97.6%\n",
      "CMC curve, Rank-20 :97.8%\n",
      "CMC curve, Rank-22 :97.9%\n",
      "CMC curve, Rank-24 :98.2%\n",
      "CMC curve, Rank-26 :98.2%\n",
      "CMC curve, Rank-28 :98.4%\n",
      "CMC curve, Rank-30 :98.5%\n",
      "CMC curve, Rank-32 :98.5%\n"
     ]
    },
    {
     "name": "stderr",
     "output_type": "stream",
     "text": [
      "Train Epoch: 108 [259/259 (100%)] Loss: 0.046082: : 259it [01:11,  3.62it/s]"
     ]
    },
    {
     "name": "stdout",
     "output_type": "stream",
     "text": [
      "Enter inferencing\n",
      "Create evaluator\n"
     ]
    },
    {
     "name": "stderr",
     "output_type": "stream",
     "text": [
      "\n"
     ]
    },
    {
     "name": "stdout",
     "output_type": "stream",
     "text": [
      "The test feature is normalized\n",
      "Validation Results\n",
      "mAP: 62.3%\n",
      "CMC curve, Rank-1  :84.0%\n",
      "CMC curve, Rank-2  :89.1%\n",
      "CMC curve, Rank-4  :92.8%\n",
      "CMC curve, Rank-6  :94.7%\n",
      "CMC curve, Rank-8  :95.6%\n",
      "CMC curve, Rank-10 :96.1%\n",
      "CMC curve, Rank-12 :96.4%\n",
      "CMC curve, Rank-14 :96.7%\n",
      "CMC curve, Rank-16 :97.1%\n",
      "CMC curve, Rank-18 :97.6%\n",
      "CMC curve, Rank-20 :97.7%\n",
      "CMC curve, Rank-22 :98.0%\n",
      "CMC curve, Rank-24 :98.1%\n",
      "CMC curve, Rank-26 :98.2%\n",
      "CMC curve, Rank-28 :98.2%\n",
      "CMC curve, Rank-30 :98.4%\n",
      "CMC curve, Rank-32 :98.5%\n"
     ]
    },
    {
     "name": "stderr",
     "output_type": "stream",
     "text": [
      "Train Epoch: 109 [259/259 (100%)] Loss: 0.085107: : 259it [01:11,  3.62it/s]"
     ]
    },
    {
     "name": "stdout",
     "output_type": "stream",
     "text": [
      "Enter inferencing\n",
      "Create evaluator\n"
     ]
    },
    {
     "name": "stderr",
     "output_type": "stream",
     "text": [
      "\n"
     ]
    },
    {
     "name": "stdout",
     "output_type": "stream",
     "text": [
      "The test feature is normalized\n",
      "Validation Results\n",
      "mAP: 62.1%\n",
      "CMC curve, Rank-1  :83.7%\n",
      "CMC curve, Rank-2  :89.1%\n",
      "CMC curve, Rank-4  :92.8%\n",
      "CMC curve, Rank-6  :94.8%\n",
      "CMC curve, Rank-8  :95.7%\n",
      "CMC curve, Rank-10 :96.1%\n",
      "CMC curve, Rank-12 :96.4%\n",
      "CMC curve, Rank-14 :96.8%\n",
      "CMC curve, Rank-16 :97.4%\n",
      "CMC curve, Rank-18 :97.6%\n",
      "CMC curve, Rank-20 :97.8%\n",
      "CMC curve, Rank-22 :97.9%\n",
      "CMC curve, Rank-24 :98.0%\n",
      "CMC curve, Rank-26 :98.1%\n",
      "CMC curve, Rank-28 :98.2%\n",
      "CMC curve, Rank-30 :98.3%\n",
      "CMC curve, Rank-32 :98.4%\n"
     ]
    },
    {
     "name": "stderr",
     "output_type": "stream",
     "text": [
      "Train Epoch: 110 [259/259 (100%)] Loss: 0.167667: : 259it [01:11,  3.62it/s]"
     ]
    },
    {
     "name": "stdout",
     "output_type": "stream",
     "text": [
      "Enter inferencing\n",
      "Create evaluator\n"
     ]
    },
    {
     "name": "stderr",
     "output_type": "stream",
     "text": [
      "\n"
     ]
    },
    {
     "name": "stdout",
     "output_type": "stream",
     "text": [
      "The test feature is normalized\n",
      "Validation Results\n",
      "mAP: 62.3%\n",
      "CMC curve, Rank-1  :83.6%\n",
      "CMC curve, Rank-2  :89.3%\n",
      "CMC curve, Rank-4  :92.9%\n",
      "CMC curve, Rank-6  :94.7%\n",
      "CMC curve, Rank-8  :95.8%\n",
      "CMC curve, Rank-10 :96.2%\n",
      "CMC curve, Rank-12 :96.4%\n",
      "CMC curve, Rank-14 :96.8%\n",
      "CMC curve, Rank-16 :97.2%\n",
      "CMC curve, Rank-18 :97.5%\n",
      "CMC curve, Rank-20 :97.7%\n",
      "CMC curve, Rank-22 :97.9%\n",
      "CMC curve, Rank-24 :98.1%\n",
      "CMC curve, Rank-26 :98.2%\n",
      "CMC curve, Rank-28 :98.3%\n",
      "CMC curve, Rank-30 :98.4%\n",
      "CMC curve, Rank-32 :98.5%\n"
     ]
    },
    {
     "name": "stderr",
     "output_type": "stream",
     "text": [
      "Train Epoch: 111 [259/259 (100%)] Loss: 0.105905: : 259it [01:11,  3.62it/s]"
     ]
    },
    {
     "name": "stdout",
     "output_type": "stream",
     "text": [
      "Enter inferencing\n",
      "Create evaluator\n"
     ]
    },
    {
     "name": "stderr",
     "output_type": "stream",
     "text": [
      "\n"
     ]
    },
    {
     "name": "stdout",
     "output_type": "stream",
     "text": [
      "The test feature is normalized\n",
      "Validation Results\n",
      "mAP: 62.4%\n",
      "CMC curve, Rank-1  :83.8%\n",
      "CMC curve, Rank-2  :89.3%\n",
      "CMC curve, Rank-4  :93.0%\n",
      "CMC curve, Rank-6  :94.7%\n",
      "CMC curve, Rank-8  :95.7%\n",
      "CMC curve, Rank-10 :96.2%\n",
      "CMC curve, Rank-12 :96.6%\n",
      "CMC curve, Rank-14 :96.7%\n",
      "CMC curve, Rank-16 :97.3%\n",
      "CMC curve, Rank-18 :97.7%\n",
      "CMC curve, Rank-20 :97.8%\n",
      "CMC curve, Rank-22 :97.9%\n",
      "CMC curve, Rank-24 :98.1%\n",
      "CMC curve, Rank-26 :98.2%\n",
      "CMC curve, Rank-28 :98.3%\n",
      "CMC curve, Rank-30 :98.4%\n",
      "CMC curve, Rank-32 :98.4%\n"
     ]
    },
    {
     "name": "stderr",
     "output_type": "stream",
     "text": [
      "Train Epoch: 112 [259/259 (100%)] Loss: 0.063667: : 259it [01:11,  3.63it/s]"
     ]
    },
    {
     "name": "stdout",
     "output_type": "stream",
     "text": [
      "Enter inferencing\n",
      "Create evaluator\n"
     ]
    },
    {
     "name": "stderr",
     "output_type": "stream",
     "text": [
      "\n"
     ]
    },
    {
     "name": "stdout",
     "output_type": "stream",
     "text": [
      "The test feature is normalized\n",
      "Validation Results\n",
      "mAP: 62.3%\n",
      "CMC curve, Rank-1  :83.7%\n",
      "CMC curve, Rank-2  :89.0%\n",
      "CMC curve, Rank-4  :92.9%\n",
      "CMC curve, Rank-6  :94.6%\n",
      "CMC curve, Rank-8  :95.6%\n",
      "CMC curve, Rank-10 :96.2%\n",
      "CMC curve, Rank-12 :96.5%\n",
      "CMC curve, Rank-14 :96.7%\n",
      "CMC curve, Rank-16 :97.1%\n",
      "CMC curve, Rank-18 :97.6%\n",
      "CMC curve, Rank-20 :97.7%\n",
      "CMC curve, Rank-22 :97.9%\n",
      "CMC curve, Rank-24 :98.1%\n",
      "CMC curve, Rank-26 :98.2%\n",
      "CMC curve, Rank-28 :98.2%\n",
      "CMC curve, Rank-30 :98.3%\n",
      "CMC curve, Rank-32 :98.5%\n"
     ]
    },
    {
     "name": "stderr",
     "output_type": "stream",
     "text": [
      "Train Epoch: 113 [259/259 (100%)] Loss: 0.025025: : 259it [01:11,  3.62it/s]"
     ]
    },
    {
     "name": "stdout",
     "output_type": "stream",
     "text": [
      "Enter inferencing\n",
      "Create evaluator\n"
     ]
    },
    {
     "name": "stderr",
     "output_type": "stream",
     "text": [
      "\n"
     ]
    },
    {
     "name": "stdout",
     "output_type": "stream",
     "text": [
      "The test feature is normalized\n",
      "Validation Results\n",
      "mAP: 62.4%\n",
      "CMC curve, Rank-1  :83.6%\n",
      "CMC curve, Rank-2  :89.1%\n",
      "CMC curve, Rank-4  :92.8%\n",
      "CMC curve, Rank-6  :94.8%\n",
      "CMC curve, Rank-8  :95.7%\n",
      "CMC curve, Rank-10 :96.1%\n",
      "CMC curve, Rank-12 :96.5%\n",
      "CMC curve, Rank-14 :96.8%\n",
      "CMC curve, Rank-16 :97.2%\n",
      "CMC curve, Rank-18 :97.7%\n",
      "CMC curve, Rank-20 :97.8%\n",
      "CMC curve, Rank-22 :97.9%\n",
      "CMC curve, Rank-24 :98.0%\n",
      "CMC curve, Rank-26 :98.2%\n",
      "CMC curve, Rank-28 :98.3%\n",
      "CMC curve, Rank-30 :98.4%\n",
      "CMC curve, Rank-32 :98.5%\n"
     ]
    },
    {
     "name": "stderr",
     "output_type": "stream",
     "text": [
      "Train Epoch: 114 [259/259 (100%)] Loss: 0.059761: : 259it [01:11,  3.62it/s]"
     ]
    },
    {
     "name": "stdout",
     "output_type": "stream",
     "text": [
      "Enter inferencing\n",
      "Create evaluator\n"
     ]
    },
    {
     "name": "stderr",
     "output_type": "stream",
     "text": [
      "\n"
     ]
    },
    {
     "name": "stdout",
     "output_type": "stream",
     "text": [
      "The test feature is normalized\n",
      "Validation Results\n",
      "mAP: 62.2%\n",
      "CMC curve, Rank-1  :83.9%\n",
      "CMC curve, Rank-2  :89.0%\n",
      "CMC curve, Rank-4  :92.8%\n",
      "CMC curve, Rank-6  :94.7%\n",
      "CMC curve, Rank-8  :95.5%\n",
      "CMC curve, Rank-10 :96.1%\n",
      "CMC curve, Rank-12 :96.4%\n",
      "CMC curve, Rank-14 :96.8%\n",
      "CMC curve, Rank-16 :97.3%\n",
      "CMC curve, Rank-18 :97.6%\n",
      "CMC curve, Rank-20 :97.9%\n",
      "CMC curve, Rank-22 :98.0%\n",
      "CMC curve, Rank-24 :98.1%\n",
      "CMC curve, Rank-26 :98.2%\n",
      "CMC curve, Rank-28 :98.4%\n",
      "CMC curve, Rank-30 :98.5%\n",
      "CMC curve, Rank-32 :98.5%\n"
     ]
    },
    {
     "name": "stderr",
     "output_type": "stream",
     "text": [
      "Train Epoch: 115 [259/259 (100%)] Loss: 0.055876: : 259it [01:11,  3.62it/s]"
     ]
    },
    {
     "name": "stdout",
     "output_type": "stream",
     "text": [
      "Enter inferencing\n",
      "Create evaluator\n"
     ]
    },
    {
     "name": "stderr",
     "output_type": "stream",
     "text": [
      "\n"
     ]
    },
    {
     "name": "stdout",
     "output_type": "stream",
     "text": [
      "The test feature is normalized\n",
      "Validation Results\n",
      "mAP: 62.2%\n",
      "CMC curve, Rank-1  :83.4%\n",
      "CMC curve, Rank-2  :88.9%\n",
      "CMC curve, Rank-4  :92.7%\n",
      "CMC curve, Rank-6  :94.7%\n",
      "CMC curve, Rank-8  :95.8%\n",
      "CMC curve, Rank-10 :96.2%\n",
      "CMC curve, Rank-12 :96.5%\n",
      "CMC curve, Rank-14 :96.8%\n",
      "CMC curve, Rank-16 :97.2%\n",
      "CMC curve, Rank-18 :97.6%\n",
      "CMC curve, Rank-20 :97.8%\n",
      "CMC curve, Rank-22 :97.9%\n",
      "CMC curve, Rank-24 :98.1%\n",
      "CMC curve, Rank-26 :98.3%\n",
      "CMC curve, Rank-28 :98.4%\n",
      "CMC curve, Rank-30 :98.4%\n",
      "CMC curve, Rank-32 :98.5%\n"
     ]
    },
    {
     "name": "stderr",
     "output_type": "stream",
     "text": [
      "Train Epoch: 116 [259/259 (100%)] Loss: 0.041342: : 259it [01:11,  3.62it/s]"
     ]
    },
    {
     "name": "stdout",
     "output_type": "stream",
     "text": [
      "Enter inferencing\n",
      "Create evaluator\n"
     ]
    },
    {
     "name": "stderr",
     "output_type": "stream",
     "text": [
      "\n"
     ]
    },
    {
     "name": "stdout",
     "output_type": "stream",
     "text": [
      "The test feature is normalized\n",
      "Validation Results\n",
      "mAP: 62.3%\n",
      "CMC curve, Rank-1  :83.8%\n",
      "CMC curve, Rank-2  :89.1%\n",
      "CMC curve, Rank-4  :92.8%\n",
      "CMC curve, Rank-6  :94.6%\n",
      "CMC curve, Rank-8  :95.6%\n",
      "CMC curve, Rank-10 :96.1%\n",
      "CMC curve, Rank-12 :96.4%\n",
      "CMC curve, Rank-14 :96.9%\n",
      "CMC curve, Rank-16 :97.4%\n",
      "CMC curve, Rank-18 :97.6%\n",
      "CMC curve, Rank-20 :97.7%\n",
      "CMC curve, Rank-22 :97.8%\n",
      "CMC curve, Rank-24 :98.0%\n",
      "CMC curve, Rank-26 :98.1%\n",
      "CMC curve, Rank-28 :98.2%\n",
      "CMC curve, Rank-30 :98.3%\n",
      "CMC curve, Rank-32 :98.4%\n"
     ]
    },
    {
     "name": "stderr",
     "output_type": "stream",
     "text": [
      "Train Epoch: 117 [259/259 (100%)] Loss: 0.046584: : 259it [01:11,  3.62it/s]"
     ]
    },
    {
     "name": "stdout",
     "output_type": "stream",
     "text": [
      "Enter inferencing\n",
      "Create evaluator\n"
     ]
    },
    {
     "name": "stderr",
     "output_type": "stream",
     "text": [
      "\n"
     ]
    },
    {
     "name": "stdout",
     "output_type": "stream",
     "text": [
      "The test feature is normalized\n",
      "Validation Results\n",
      "mAP: 62.3%\n",
      "CMC curve, Rank-1  :83.8%\n",
      "CMC curve, Rank-2  :89.1%\n",
      "CMC curve, Rank-4  :92.8%\n",
      "CMC curve, Rank-6  :94.8%\n",
      "CMC curve, Rank-8  :95.5%\n",
      "CMC curve, Rank-10 :96.1%\n",
      "CMC curve, Rank-12 :96.3%\n",
      "CMC curve, Rank-14 :96.9%\n",
      "CMC curve, Rank-16 :97.3%\n",
      "CMC curve, Rank-18 :97.6%\n",
      "CMC curve, Rank-20 :97.8%\n",
      "CMC curve, Rank-22 :97.9%\n",
      "CMC curve, Rank-24 :98.0%\n",
      "CMC curve, Rank-26 :98.1%\n",
      "CMC curve, Rank-28 :98.3%\n",
      "CMC curve, Rank-30 :98.4%\n",
      "CMC curve, Rank-32 :98.5%\n"
     ]
    },
    {
     "name": "stderr",
     "output_type": "stream",
     "text": [
      "Train Epoch: 118 [259/259 (100%)] Loss: 0.035679: : 259it [01:11,  3.62it/s]"
     ]
    },
    {
     "name": "stdout",
     "output_type": "stream",
     "text": [
      "Enter inferencing\n",
      "Create evaluator\n"
     ]
    },
    {
     "name": "stderr",
     "output_type": "stream",
     "text": [
      "\n"
     ]
    },
    {
     "name": "stdout",
     "output_type": "stream",
     "text": [
      "The test feature is normalized\n",
      "Validation Results\n",
      "mAP: 62.4%\n",
      "CMC curve, Rank-1  :83.7%\n",
      "CMC curve, Rank-2  :89.1%\n",
      "CMC curve, Rank-4  :92.9%\n",
      "CMC curve, Rank-6  :94.6%\n",
      "CMC curve, Rank-8  :95.6%\n",
      "CMC curve, Rank-10 :96.1%\n",
      "CMC curve, Rank-12 :96.4%\n",
      "CMC curve, Rank-14 :96.8%\n",
      "CMC curve, Rank-16 :97.2%\n",
      "CMC curve, Rank-18 :97.6%\n",
      "CMC curve, Rank-20 :97.7%\n",
      "CMC curve, Rank-22 :97.9%\n",
      "CMC curve, Rank-24 :98.1%\n",
      "CMC curve, Rank-26 :98.2%\n",
      "CMC curve, Rank-28 :98.2%\n",
      "CMC curve, Rank-30 :98.4%\n",
      "CMC curve, Rank-32 :98.5%\n"
     ]
    },
    {
     "name": "stderr",
     "output_type": "stream",
     "text": [
      "Train Epoch: 119 [259/259 (100%)] Loss: 0.051645: : 259it [01:11,  3.62it/s]"
     ]
    },
    {
     "name": "stdout",
     "output_type": "stream",
     "text": [
      "Enter inferencing\n",
      "Create evaluator\n"
     ]
    },
    {
     "name": "stderr",
     "output_type": "stream",
     "text": [
      "\n"
     ]
    },
    {
     "name": "stdout",
     "output_type": "stream",
     "text": [
      "The test feature is normalized\n",
      "Validation Results\n",
      "mAP: 62.3%\n",
      "CMC curve, Rank-1  :83.8%\n",
      "CMC curve, Rank-2  :89.1%\n",
      "CMC curve, Rank-4  :92.9%\n",
      "CMC curve, Rank-6  :94.7%\n",
      "CMC curve, Rank-8  :95.6%\n",
      "CMC curve, Rank-10 :96.1%\n",
      "CMC curve, Rank-12 :96.6%\n",
      "CMC curve, Rank-14 :96.8%\n",
      "CMC curve, Rank-16 :97.3%\n",
      "CMC curve, Rank-18 :97.6%\n",
      "CMC curve, Rank-20 :97.7%\n",
      "CMC curve, Rank-22 :97.9%\n",
      "CMC curve, Rank-24 :98.1%\n",
      "CMC curve, Rank-26 :98.2%\n",
      "CMC curve, Rank-28 :98.4%\n",
      "CMC curve, Rank-30 :98.4%\n",
      "CMC curve, Rank-32 :98.5%\n"
     ]
    },
    {
     "name": "stderr",
     "output_type": "stream",
     "text": [
      "Train Epoch: 120 [259/259 (100%)] Loss: 0.029571: : 259it [01:11,  3.62it/s]"
     ]
    },
    {
     "name": "stdout",
     "output_type": "stream",
     "text": [
      "Enter inferencing\n",
      "Create evaluator\n"
     ]
    },
    {
     "name": "stderr",
     "output_type": "stream",
     "text": [
      "\n"
     ]
    },
    {
     "name": "stdout",
     "output_type": "stream",
     "text": [
      "The test feature is normalized\n",
      "Validation Results\n",
      "mAP: 62.3%\n",
      "CMC curve, Rank-1  :83.8%\n",
      "CMC curve, Rank-2  :89.0%\n",
      "CMC curve, Rank-4  :92.7%\n",
      "CMC curve, Rank-6  :94.7%\n",
      "CMC curve, Rank-8  :95.6%\n",
      "CMC curve, Rank-10 :96.3%\n",
      "CMC curve, Rank-12 :96.6%\n",
      "CMC curve, Rank-14 :96.9%\n",
      "CMC curve, Rank-16 :97.2%\n",
      "CMC curve, Rank-18 :97.5%\n",
      "CMC curve, Rank-20 :97.6%\n",
      "CMC curve, Rank-22 :97.9%\n",
      "CMC curve, Rank-24 :98.0%\n",
      "CMC curve, Rank-26 :98.1%\n",
      "CMC curve, Rank-28 :98.2%\n",
      "CMC curve, Rank-30 :98.3%\n",
      "CMC curve, Rank-32 :98.4%\n"
     ]
    },
    {
     "name": "stderr",
     "output_type": "stream",
     "text": [
      "Train Epoch: 121 [259/259 (100%)] Loss: 0.070433: : 259it [01:11,  3.62it/s]"
     ]
    },
    {
     "name": "stdout",
     "output_type": "stream",
     "text": [
      "Enter inferencing\n",
      "Create evaluator\n"
     ]
    },
    {
     "name": "stderr",
     "output_type": "stream",
     "text": [
      "\n"
     ]
    },
    {
     "name": "stdout",
     "output_type": "stream",
     "text": [
      "The test feature is normalized\n",
      "Validation Results\n",
      "mAP: 62.3%\n",
      "CMC curve, Rank-1  :83.8%\n",
      "CMC curve, Rank-2  :89.1%\n",
      "CMC curve, Rank-4  :92.8%\n",
      "CMC curve, Rank-6  :94.7%\n",
      "CMC curve, Rank-8  :95.6%\n",
      "CMC curve, Rank-10 :96.2%\n",
      "CMC curve, Rank-12 :96.5%\n",
      "CMC curve, Rank-14 :96.9%\n",
      "CMC curve, Rank-16 :97.2%\n",
      "CMC curve, Rank-18 :97.6%\n",
      "CMC curve, Rank-20 :97.7%\n",
      "CMC curve, Rank-22 :97.9%\n",
      "CMC curve, Rank-24 :98.0%\n",
      "CMC curve, Rank-26 :98.1%\n",
      "CMC curve, Rank-28 :98.2%\n",
      "CMC curve, Rank-30 :98.3%\n",
      "CMC curve, Rank-32 :98.4%\n"
     ]
    },
    {
     "name": "stderr",
     "output_type": "stream",
     "text": [
      "Train Epoch: 122 [259/259 (100%)] Loss: 0.030444: : 259it [01:11,  3.62it/s]"
     ]
    },
    {
     "name": "stdout",
     "output_type": "stream",
     "text": [
      "Enter inferencing\n",
      "Create evaluator\n"
     ]
    },
    {
     "name": "stderr",
     "output_type": "stream",
     "text": [
      "\n"
     ]
    },
    {
     "name": "stdout",
     "output_type": "stream",
     "text": [
      "The test feature is normalized\n",
      "Validation Results\n",
      "mAP: 62.2%\n",
      "CMC curve, Rank-1  :83.6%\n",
      "CMC curve, Rank-2  :89.0%\n",
      "CMC curve, Rank-4  :92.8%\n",
      "CMC curve, Rank-6  :94.7%\n",
      "CMC curve, Rank-8  :95.7%\n",
      "CMC curve, Rank-10 :96.3%\n",
      "CMC curve, Rank-12 :96.5%\n",
      "CMC curve, Rank-14 :96.8%\n",
      "CMC curve, Rank-16 :97.1%\n",
      "CMC curve, Rank-18 :97.6%\n",
      "CMC curve, Rank-20 :97.8%\n",
      "CMC curve, Rank-22 :97.9%\n",
      "CMC curve, Rank-24 :98.0%\n",
      "CMC curve, Rank-26 :98.1%\n",
      "CMC curve, Rank-28 :98.2%\n",
      "CMC curve, Rank-30 :98.4%\n",
      "CMC curve, Rank-32 :98.5%\n"
     ]
    },
    {
     "name": "stderr",
     "output_type": "stream",
     "text": [
      "Train Epoch: 123 [259/259 (100%)] Loss: 0.049191: : 259it [01:11,  3.62it/s]"
     ]
    },
    {
     "name": "stdout",
     "output_type": "stream",
     "text": [
      "Enter inferencing\n",
      "Create evaluator\n"
     ]
    },
    {
     "name": "stderr",
     "output_type": "stream",
     "text": [
      "\n"
     ]
    },
    {
     "name": "stdout",
     "output_type": "stream",
     "text": [
      "The test feature is normalized\n",
      "Validation Results\n",
      "mAP: 62.3%\n",
      "CMC curve, Rank-1  :83.6%\n",
      "CMC curve, Rank-2  :89.1%\n",
      "CMC curve, Rank-4  :92.7%\n",
      "CMC curve, Rank-6  :94.6%\n",
      "CMC curve, Rank-8  :95.8%\n",
      "CMC curve, Rank-10 :96.1%\n",
      "CMC curve, Rank-12 :96.5%\n",
      "CMC curve, Rank-14 :96.9%\n",
      "CMC curve, Rank-16 :97.3%\n",
      "CMC curve, Rank-18 :97.5%\n",
      "CMC curve, Rank-20 :97.8%\n",
      "CMC curve, Rank-22 :97.9%\n",
      "CMC curve, Rank-24 :98.1%\n",
      "CMC curve, Rank-26 :98.1%\n",
      "CMC curve, Rank-28 :98.2%\n",
      "CMC curve, Rank-30 :98.4%\n",
      "CMC curve, Rank-32 :98.5%\n"
     ]
    },
    {
     "name": "stderr",
     "output_type": "stream",
     "text": [
      "Train Epoch: 124 [259/259 (100%)] Loss: 0.035376: : 259it [01:11,  3.62it/s]"
     ]
    },
    {
     "name": "stdout",
     "output_type": "stream",
     "text": [
      "Enter inferencing\n",
      "Create evaluator\n"
     ]
    },
    {
     "name": "stderr",
     "output_type": "stream",
     "text": [
      "\n"
     ]
    },
    {
     "name": "stdout",
     "output_type": "stream",
     "text": [
      "The test feature is normalized\n",
      "Validation Results\n",
      "mAP: 62.2%\n",
      "CMC curve, Rank-1  :83.9%\n",
      "CMC curve, Rank-2  :89.2%\n",
      "CMC curve, Rank-4  :93.0%\n",
      "CMC curve, Rank-6  :94.8%\n",
      "CMC curve, Rank-8  :95.7%\n",
      "CMC curve, Rank-10 :96.1%\n",
      "CMC curve, Rank-12 :96.5%\n",
      "CMC curve, Rank-14 :96.7%\n",
      "CMC curve, Rank-16 :97.2%\n",
      "CMC curve, Rank-18 :97.5%\n",
      "CMC curve, Rank-20 :97.7%\n",
      "CMC curve, Rank-22 :98.0%\n",
      "CMC curve, Rank-24 :98.0%\n",
      "CMC curve, Rank-26 :98.2%\n",
      "CMC curve, Rank-28 :98.2%\n",
      "CMC curve, Rank-30 :98.3%\n",
      "CMC curve, Rank-32 :98.5%\n"
     ]
    },
    {
     "name": "stderr",
     "output_type": "stream",
     "text": [
      "Train Epoch: 125 [259/259 (100%)] Loss: 0.028080: : 259it [01:11,  3.62it/s]"
     ]
    },
    {
     "name": "stdout",
     "output_type": "stream",
     "text": [
      "Enter inferencing\n",
      "Create evaluator\n"
     ]
    },
    {
     "name": "stderr",
     "output_type": "stream",
     "text": [
      "\n"
     ]
    },
    {
     "name": "stdout",
     "output_type": "stream",
     "text": [
      "The test feature is normalized\n",
      "Validation Results\n",
      "mAP: 62.3%\n",
      "CMC curve, Rank-1  :83.9%\n",
      "CMC curve, Rank-2  :89.0%\n",
      "CMC curve, Rank-4  :92.9%\n",
      "CMC curve, Rank-6  :94.8%\n",
      "CMC curve, Rank-8  :95.7%\n",
      "CMC curve, Rank-10 :96.1%\n",
      "CMC curve, Rank-12 :96.4%\n",
      "CMC curve, Rank-14 :96.9%\n",
      "CMC curve, Rank-16 :97.3%\n",
      "CMC curve, Rank-18 :97.7%\n",
      "CMC curve, Rank-20 :97.9%\n",
      "CMC curve, Rank-22 :98.0%\n",
      "CMC curve, Rank-24 :98.1%\n",
      "CMC curve, Rank-26 :98.2%\n",
      "CMC curve, Rank-28 :98.3%\n",
      "CMC curve, Rank-30 :98.4%\n",
      "CMC curve, Rank-32 :98.5%\n"
     ]
    },
    {
     "name": "stderr",
     "output_type": "stream",
     "text": [
      "Train Epoch: 126 [259/259 (100%)] Loss: 0.023939: : 259it [01:11,  3.62it/s]"
     ]
    },
    {
     "name": "stdout",
     "output_type": "stream",
     "text": [
      "Enter inferencing\n",
      "Create evaluator\n"
     ]
    },
    {
     "name": "stderr",
     "output_type": "stream",
     "text": [
      "\n"
     ]
    },
    {
     "name": "stdout",
     "output_type": "stream",
     "text": [
      "The test feature is normalized\n",
      "Validation Results\n",
      "mAP: 62.3%\n",
      "CMC curve, Rank-1  :83.9%\n",
      "CMC curve, Rank-2  :89.2%\n",
      "CMC curve, Rank-4  :92.8%\n",
      "CMC curve, Rank-6  :94.8%\n",
      "CMC curve, Rank-8  :95.7%\n",
      "CMC curve, Rank-10 :96.1%\n",
      "CMC curve, Rank-12 :96.5%\n",
      "CMC curve, Rank-14 :96.9%\n",
      "CMC curve, Rank-16 :97.2%\n",
      "CMC curve, Rank-18 :97.6%\n",
      "CMC curve, Rank-20 :97.8%\n",
      "CMC curve, Rank-22 :98.0%\n",
      "CMC curve, Rank-24 :98.0%\n",
      "CMC curve, Rank-26 :98.2%\n",
      "CMC curve, Rank-28 :98.4%\n",
      "CMC curve, Rank-30 :98.4%\n",
      "CMC curve, Rank-32 :98.5%\n"
     ]
    },
    {
     "name": "stderr",
     "output_type": "stream",
     "text": [
      "Train Epoch: 127 [259/259 (100%)] Loss: 0.030841: : 259it [01:11,  3.62it/s]"
     ]
    },
    {
     "name": "stdout",
     "output_type": "stream",
     "text": [
      "Enter inferencing\n",
      "Create evaluator\n"
     ]
    },
    {
     "name": "stderr",
     "output_type": "stream",
     "text": [
      "\n"
     ]
    },
    {
     "name": "stdout",
     "output_type": "stream",
     "text": [
      "The test feature is normalized\n",
      "Validation Results\n",
      "mAP: 62.0%\n",
      "CMC curve, Rank-1  :83.3%\n",
      "CMC curve, Rank-2  :88.8%\n",
      "CMC curve, Rank-4  :92.6%\n",
      "CMC curve, Rank-6  :94.6%\n",
      "CMC curve, Rank-8  :95.8%\n",
      "CMC curve, Rank-10 :96.3%\n",
      "CMC curve, Rank-12 :96.6%\n",
      "CMC curve, Rank-14 :96.9%\n",
      "CMC curve, Rank-16 :97.3%\n",
      "CMC curve, Rank-18 :97.5%\n",
      "CMC curve, Rank-20 :97.6%\n",
      "CMC curve, Rank-22 :97.9%\n",
      "CMC curve, Rank-24 :98.0%\n",
      "CMC curve, Rank-26 :98.2%\n",
      "CMC curve, Rank-28 :98.3%\n",
      "CMC curve, Rank-30 :98.4%\n",
      "CMC curve, Rank-32 :98.4%\n"
     ]
    },
    {
     "name": "stderr",
     "output_type": "stream",
     "text": [
      "Train Epoch: 128 [259/259 (100%)] Loss: 0.033772: : 259it [01:11,  3.62it/s]"
     ]
    },
    {
     "name": "stdout",
     "output_type": "stream",
     "text": [
      "Enter inferencing\n",
      "Create evaluator\n"
     ]
    },
    {
     "name": "stderr",
     "output_type": "stream",
     "text": [
      "\n"
     ]
    },
    {
     "name": "stdout",
     "output_type": "stream",
     "text": [
      "The test feature is normalized\n",
      "Validation Results\n",
      "mAP: 62.3%\n",
      "CMC curve, Rank-1  :84.0%\n",
      "CMC curve, Rank-2  :89.0%\n",
      "CMC curve, Rank-4  :92.9%\n",
      "CMC curve, Rank-6  :94.8%\n",
      "CMC curve, Rank-8  :95.8%\n",
      "CMC curve, Rank-10 :96.2%\n",
      "CMC curve, Rank-12 :96.4%\n",
      "CMC curve, Rank-14 :96.8%\n",
      "CMC curve, Rank-16 :97.2%\n",
      "CMC curve, Rank-18 :97.6%\n",
      "CMC curve, Rank-20 :97.8%\n",
      "CMC curve, Rank-22 :98.0%\n",
      "CMC curve, Rank-24 :98.1%\n",
      "CMC curve, Rank-26 :98.2%\n",
      "CMC curve, Rank-28 :98.2%\n",
      "CMC curve, Rank-30 :98.3%\n",
      "CMC curve, Rank-32 :98.5%\n"
     ]
    },
    {
     "name": "stderr",
     "output_type": "stream",
     "text": [
      "Train Epoch: 129 [259/259 (100%)] Loss: 0.035717: : 259it [01:11,  3.63it/s]"
     ]
    },
    {
     "name": "stdout",
     "output_type": "stream",
     "text": [
      "Enter inferencing\n",
      "Create evaluator\n"
     ]
    },
    {
     "name": "stderr",
     "output_type": "stream",
     "text": [
      "\n"
     ]
    },
    {
     "name": "stdout",
     "output_type": "stream",
     "text": [
      "The test feature is normalized\n",
      "Validation Results\n",
      "mAP: 62.3%\n",
      "CMC curve, Rank-1  :83.6%\n",
      "CMC curve, Rank-2  :89.3%\n",
      "CMC curve, Rank-4  :92.7%\n",
      "CMC curve, Rank-6  :94.6%\n",
      "CMC curve, Rank-8  :95.6%\n",
      "CMC curve, Rank-10 :96.1%\n",
      "CMC curve, Rank-12 :96.4%\n",
      "CMC curve, Rank-14 :96.9%\n",
      "CMC curve, Rank-16 :97.2%\n",
      "CMC curve, Rank-18 :97.5%\n",
      "CMC curve, Rank-20 :97.7%\n",
      "CMC curve, Rank-22 :97.9%\n",
      "CMC curve, Rank-24 :98.0%\n",
      "CMC curve, Rank-26 :98.1%\n",
      "CMC curve, Rank-28 :98.3%\n",
      "CMC curve, Rank-30 :98.4%\n",
      "CMC curve, Rank-32 :98.5%\n"
     ]
    },
    {
     "name": "stderr",
     "output_type": "stream",
     "text": [
      "Train Epoch: 130 [259/259 (100%)] Loss: 0.042957: : 259it [01:11,  3.62it/s]"
     ]
    },
    {
     "name": "stdout",
     "output_type": "stream",
     "text": [
      "Enter inferencing\n",
      "Create evaluator\n"
     ]
    },
    {
     "name": "stderr",
     "output_type": "stream",
     "text": [
      "\n"
     ]
    },
    {
     "name": "stdout",
     "output_type": "stream",
     "text": [
      "The test feature is normalized\n",
      "Validation Results\n",
      "mAP: 62.2%\n",
      "CMC curve, Rank-1  :83.7%\n",
      "CMC curve, Rank-2  :89.0%\n",
      "CMC curve, Rank-4  :92.8%\n",
      "CMC curve, Rank-6  :94.6%\n",
      "CMC curve, Rank-8  :95.6%\n",
      "CMC curve, Rank-10 :96.1%\n",
      "CMC curve, Rank-12 :96.4%\n",
      "CMC curve, Rank-14 :96.9%\n",
      "CMC curve, Rank-16 :97.2%\n",
      "CMC curve, Rank-18 :97.5%\n",
      "CMC curve, Rank-20 :97.7%\n",
      "CMC curve, Rank-22 :97.8%\n",
      "CMC curve, Rank-24 :98.0%\n",
      "CMC curve, Rank-26 :98.1%\n",
      "CMC curve, Rank-28 :98.3%\n",
      "CMC curve, Rank-30 :98.3%\n",
      "CMC curve, Rank-32 :98.4%\n"
     ]
    },
    {
     "name": "stderr",
     "output_type": "stream",
     "text": [
      "Train Epoch: 131 [259/259 (100%)] Loss: 0.038388: : 259it [01:11,  3.62it/s]"
     ]
    },
    {
     "name": "stdout",
     "output_type": "stream",
     "text": [
      "Enter inferencing\n",
      "Create evaluator\n"
     ]
    },
    {
     "name": "stderr",
     "output_type": "stream",
     "text": [
      "\n"
     ]
    },
    {
     "name": "stdout",
     "output_type": "stream",
     "text": [
      "The test feature is normalized\n",
      "Validation Results\n",
      "mAP: 62.3%\n",
      "CMC curve, Rank-1  :83.7%\n",
      "CMC curve, Rank-2  :89.1%\n",
      "CMC curve, Rank-4  :92.5%\n",
      "CMC curve, Rank-6  :94.6%\n",
      "CMC curve, Rank-8  :95.6%\n",
      "CMC curve, Rank-10 :96.1%\n",
      "CMC curve, Rank-12 :96.4%\n",
      "CMC curve, Rank-14 :96.7%\n",
      "CMC curve, Rank-16 :97.1%\n",
      "CMC curve, Rank-18 :97.6%\n",
      "CMC curve, Rank-20 :97.7%\n",
      "CMC curve, Rank-22 :97.9%\n",
      "CMC curve, Rank-24 :98.0%\n",
      "CMC curve, Rank-26 :98.1%\n",
      "CMC curve, Rank-28 :98.3%\n",
      "CMC curve, Rank-30 :98.4%\n",
      "CMC curve, Rank-32 :98.5%\n"
     ]
    },
    {
     "name": "stderr",
     "output_type": "stream",
     "text": [
      "Train Epoch: 132 [259/259 (100%)] Loss: 0.050742: : 259it [01:11,  3.62it/s]"
     ]
    },
    {
     "name": "stdout",
     "output_type": "stream",
     "text": [
      "Enter inferencing\n",
      "Create evaluator\n"
     ]
    },
    {
     "name": "stderr",
     "output_type": "stream",
     "text": [
      "\n"
     ]
    },
    {
     "name": "stdout",
     "output_type": "stream",
     "text": [
      "The test feature is normalized\n",
      "Validation Results\n",
      "mAP: 62.3%\n",
      "CMC curve, Rank-1  :83.7%\n",
      "CMC curve, Rank-2  :88.9%\n",
      "CMC curve, Rank-4  :92.8%\n",
      "CMC curve, Rank-6  :94.7%\n",
      "CMC curve, Rank-8  :95.7%\n",
      "CMC curve, Rank-10 :96.1%\n",
      "CMC curve, Rank-12 :96.4%\n",
      "CMC curve, Rank-14 :96.8%\n",
      "CMC curve, Rank-16 :97.3%\n",
      "CMC curve, Rank-18 :97.6%\n",
      "CMC curve, Rank-20 :97.7%\n",
      "CMC curve, Rank-22 :97.8%\n",
      "CMC curve, Rank-24 :98.0%\n",
      "CMC curve, Rank-26 :98.0%\n",
      "CMC curve, Rank-28 :98.2%\n",
      "CMC curve, Rank-30 :98.3%\n",
      "CMC curve, Rank-32 :98.5%\n"
     ]
    },
    {
     "name": "stderr",
     "output_type": "stream",
     "text": [
      "Train Epoch: 133 [259/259 (100%)] Loss: 0.058586: : 259it [01:11,  3.62it/s]"
     ]
    },
    {
     "name": "stdout",
     "output_type": "stream",
     "text": [
      "Enter inferencing\n",
      "Create evaluator\n"
     ]
    },
    {
     "name": "stderr",
     "output_type": "stream",
     "text": [
      "\n"
     ]
    },
    {
     "name": "stdout",
     "output_type": "stream",
     "text": [
      "The test feature is normalized\n",
      "Validation Results\n",
      "mAP: 62.3%\n",
      "CMC curve, Rank-1  :83.6%\n",
      "CMC curve, Rank-2  :89.2%\n",
      "CMC curve, Rank-4  :92.9%\n",
      "CMC curve, Rank-6  :94.7%\n",
      "CMC curve, Rank-8  :95.6%\n",
      "CMC curve, Rank-10 :96.1%\n",
      "CMC curve, Rank-12 :96.5%\n",
      "CMC curve, Rank-14 :96.8%\n",
      "CMC curve, Rank-16 :97.2%\n",
      "CMC curve, Rank-18 :97.6%\n",
      "CMC curve, Rank-20 :97.8%\n",
      "CMC curve, Rank-22 :98.0%\n",
      "CMC curve, Rank-24 :98.0%\n",
      "CMC curve, Rank-26 :98.2%\n",
      "CMC curve, Rank-28 :98.3%\n",
      "CMC curve, Rank-30 :98.4%\n",
      "CMC curve, Rank-32 :98.6%\n"
     ]
    },
    {
     "name": "stderr",
     "output_type": "stream",
     "text": [
      "Train Epoch: 134 [259/259 (100%)] Loss: 0.026969: : 259it [01:11,  3.62it/s]"
     ]
    },
    {
     "name": "stdout",
     "output_type": "stream",
     "text": [
      "Enter inferencing\n",
      "Create evaluator\n"
     ]
    },
    {
     "name": "stderr",
     "output_type": "stream",
     "text": [
      "\n"
     ]
    },
    {
     "name": "stdout",
     "output_type": "stream",
     "text": [
      "The test feature is normalized\n",
      "Validation Results\n",
      "mAP: 62.2%\n",
      "CMC curve, Rank-1  :83.6%\n",
      "CMC curve, Rank-2  :89.0%\n",
      "CMC curve, Rank-4  :92.8%\n",
      "CMC curve, Rank-6  :94.7%\n",
      "CMC curve, Rank-8  :95.6%\n",
      "CMC curve, Rank-10 :96.0%\n",
      "CMC curve, Rank-12 :96.4%\n",
      "CMC curve, Rank-14 :96.8%\n",
      "CMC curve, Rank-16 :97.2%\n",
      "CMC curve, Rank-18 :97.5%\n",
      "CMC curve, Rank-20 :97.7%\n",
      "CMC curve, Rank-22 :97.9%\n",
      "CMC curve, Rank-24 :98.0%\n",
      "CMC curve, Rank-26 :98.1%\n",
      "CMC curve, Rank-28 :98.2%\n",
      "CMC curve, Rank-30 :98.4%\n",
      "CMC curve, Rank-32 :98.5%\n"
     ]
    },
    {
     "name": "stderr",
     "output_type": "stream",
     "text": [
      "Train Epoch: 135 [259/259 (100%)] Loss: 0.049592: : 259it [01:11,  3.62it/s]"
     ]
    },
    {
     "name": "stdout",
     "output_type": "stream",
     "text": [
      "Enter inferencing\n",
      "Create evaluator\n"
     ]
    },
    {
     "name": "stderr",
     "output_type": "stream",
     "text": [
      "\n"
     ]
    },
    {
     "name": "stdout",
     "output_type": "stream",
     "text": [
      "The test feature is normalized\n",
      "Validation Results\n",
      "mAP: 62.5%\n",
      "CMC curve, Rank-1  :83.9%\n",
      "CMC curve, Rank-2  :89.2%\n",
      "CMC curve, Rank-4  :93.1%\n",
      "CMC curve, Rank-6  :94.8%\n",
      "CMC curve, Rank-8  :95.8%\n",
      "CMC curve, Rank-10 :96.3%\n",
      "CMC curve, Rank-12 :96.6%\n",
      "CMC curve, Rank-14 :96.8%\n",
      "CMC curve, Rank-16 :97.2%\n",
      "CMC curve, Rank-18 :97.6%\n",
      "CMC curve, Rank-20 :97.7%\n",
      "CMC curve, Rank-22 :98.0%\n",
      "CMC curve, Rank-24 :98.2%\n",
      "CMC curve, Rank-26 :98.2%\n",
      "CMC curve, Rank-28 :98.4%\n",
      "CMC curve, Rank-30 :98.5%\n",
      "CMC curve, Rank-32 :98.5%\n"
     ]
    },
    {
     "name": "stderr",
     "output_type": "stream",
     "text": [
      "Train Epoch: 136 [259/259 (100%)] Loss: 0.035546: : 259it [01:11,  3.62it/s]"
     ]
    },
    {
     "name": "stdout",
     "output_type": "stream",
     "text": [
      "Enter inferencing\n",
      "Create evaluator\n"
     ]
    },
    {
     "name": "stderr",
     "output_type": "stream",
     "text": [
      "\n"
     ]
    },
    {
     "name": "stdout",
     "output_type": "stream",
     "text": [
      "The test feature is normalized\n",
      "Validation Results\n",
      "mAP: 62.3%\n",
      "CMC curve, Rank-1  :83.7%\n",
      "CMC curve, Rank-2  :89.1%\n",
      "CMC curve, Rank-4  :92.7%\n",
      "CMC curve, Rank-6  :94.6%\n",
      "CMC curve, Rank-8  :95.6%\n",
      "CMC curve, Rank-10 :96.0%\n",
      "CMC curve, Rank-12 :96.5%\n",
      "CMC curve, Rank-14 :96.9%\n",
      "CMC curve, Rank-16 :97.2%\n",
      "CMC curve, Rank-18 :97.6%\n",
      "CMC curve, Rank-20 :97.9%\n",
      "CMC curve, Rank-22 :98.0%\n",
      "CMC curve, Rank-24 :98.1%\n",
      "CMC curve, Rank-26 :98.2%\n",
      "CMC curve, Rank-28 :98.3%\n",
      "CMC curve, Rank-30 :98.3%\n",
      "CMC curve, Rank-32 :98.4%\n"
     ]
    },
    {
     "name": "stderr",
     "output_type": "stream",
     "text": [
      "Train Epoch: 137 [259/259 (100%)] Loss: 0.075078: : 259it [01:11,  3.63it/s]"
     ]
    },
    {
     "name": "stdout",
     "output_type": "stream",
     "text": [
      "Enter inferencing\n",
      "Create evaluator\n"
     ]
    },
    {
     "name": "stderr",
     "output_type": "stream",
     "text": [
      "\n"
     ]
    },
    {
     "name": "stdout",
     "output_type": "stream",
     "text": [
      "The test feature is normalized\n",
      "Validation Results\n",
      "mAP: 62.3%\n",
      "CMC curve, Rank-1  :83.7%\n",
      "CMC curve, Rank-2  :89.0%\n",
      "CMC curve, Rank-4  :92.8%\n",
      "CMC curve, Rank-6  :94.8%\n",
      "CMC curve, Rank-8  :95.7%\n",
      "CMC curve, Rank-10 :96.1%\n",
      "CMC curve, Rank-12 :96.5%\n",
      "CMC curve, Rank-14 :96.9%\n",
      "CMC curve, Rank-16 :97.3%\n",
      "CMC curve, Rank-18 :97.5%\n",
      "CMC curve, Rank-20 :97.8%\n",
      "CMC curve, Rank-22 :97.9%\n",
      "CMC curve, Rank-24 :98.0%\n",
      "CMC curve, Rank-26 :98.1%\n",
      "CMC curve, Rank-28 :98.2%\n",
      "CMC curve, Rank-30 :98.2%\n",
      "CMC curve, Rank-32 :98.4%\n"
     ]
    },
    {
     "name": "stderr",
     "output_type": "stream",
     "text": [
      "Train Epoch: 138 [259/259 (100%)] Loss: 0.034291: : 259it [01:11,  3.62it/s]"
     ]
    },
    {
     "name": "stdout",
     "output_type": "stream",
     "text": [
      "Enter inferencing\n",
      "Create evaluator\n"
     ]
    },
    {
     "name": "stderr",
     "output_type": "stream",
     "text": [
      "\n"
     ]
    },
    {
     "name": "stdout",
     "output_type": "stream",
     "text": [
      "The test feature is normalized\n",
      "Validation Results\n",
      "mAP: 62.4%\n",
      "CMC curve, Rank-1  :83.6%\n",
      "CMC curve, Rank-2  :89.0%\n",
      "CMC curve, Rank-4  :92.8%\n",
      "CMC curve, Rank-6  :94.8%\n",
      "CMC curve, Rank-8  :95.8%\n",
      "CMC curve, Rank-10 :96.1%\n",
      "CMC curve, Rank-12 :96.4%\n",
      "CMC curve, Rank-14 :96.8%\n",
      "CMC curve, Rank-16 :97.2%\n",
      "CMC curve, Rank-18 :97.6%\n",
      "CMC curve, Rank-20 :97.8%\n",
      "CMC curve, Rank-22 :98.0%\n",
      "CMC curve, Rank-24 :98.0%\n",
      "CMC curve, Rank-26 :98.3%\n",
      "CMC curve, Rank-28 :98.3%\n",
      "CMC curve, Rank-30 :98.4%\n",
      "CMC curve, Rank-32 :98.5%\n"
     ]
    },
    {
     "name": "stderr",
     "output_type": "stream",
     "text": [
      "Train Epoch: 139 [259/259 (100%)] Loss: 0.053311: : 259it [01:11,  3.63it/s]"
     ]
    },
    {
     "name": "stdout",
     "output_type": "stream",
     "text": [
      "Enter inferencing\n",
      "Create evaluator\n"
     ]
    },
    {
     "name": "stderr",
     "output_type": "stream",
     "text": [
      "\n"
     ]
    },
    {
     "name": "stdout",
     "output_type": "stream",
     "text": [
      "The test feature is normalized\n",
      "Validation Results\n",
      "mAP: 62.3%\n",
      "CMC curve, Rank-1  :83.8%\n",
      "CMC curve, Rank-2  :89.0%\n",
      "CMC curve, Rank-4  :92.8%\n",
      "CMC curve, Rank-6  :94.7%\n",
      "CMC curve, Rank-8  :95.6%\n",
      "CMC curve, Rank-10 :96.1%\n",
      "CMC curve, Rank-12 :96.5%\n",
      "CMC curve, Rank-14 :96.9%\n",
      "CMC curve, Rank-16 :97.3%\n",
      "CMC curve, Rank-18 :97.7%\n",
      "CMC curve, Rank-20 :97.8%\n",
      "CMC curve, Rank-22 :98.0%\n",
      "CMC curve, Rank-24 :98.0%\n",
      "CMC curve, Rank-26 :98.2%\n",
      "CMC curve, Rank-28 :98.3%\n",
      "CMC curve, Rank-30 :98.4%\n",
      "CMC curve, Rank-32 :98.5%\n"
     ]
    },
    {
     "name": "stderr",
     "output_type": "stream",
     "text": [
      "Train Epoch: 140 [259/259 (100%)] Loss: 0.047519: : 259it [01:11,  3.62it/s]"
     ]
    },
    {
     "name": "stdout",
     "output_type": "stream",
     "text": [
      "Enter inferencing\n",
      "Create evaluator\n"
     ]
    },
    {
     "name": "stderr",
     "output_type": "stream",
     "text": [
      "\n"
     ]
    },
    {
     "name": "stdout",
     "output_type": "stream",
     "text": [
      "The test feature is normalized\n",
      "Validation Results\n",
      "mAP: 62.4%\n",
      "CMC curve, Rank-1  :83.9%\n",
      "CMC curve, Rank-2  :89.2%\n",
      "CMC curve, Rank-4  :92.9%\n",
      "CMC curve, Rank-6  :94.6%\n",
      "CMC curve, Rank-8  :95.5%\n",
      "CMC curve, Rank-10 :96.1%\n",
      "CMC curve, Rank-12 :96.5%\n",
      "CMC curve, Rank-14 :96.7%\n",
      "CMC curve, Rank-16 :97.2%\n",
      "CMC curve, Rank-18 :97.4%\n",
      "CMC curve, Rank-20 :97.8%\n",
      "CMC curve, Rank-22 :98.0%\n",
      "CMC curve, Rank-24 :98.1%\n",
      "CMC curve, Rank-26 :98.2%\n",
      "CMC curve, Rank-28 :98.3%\n",
      "CMC curve, Rank-30 :98.4%\n",
      "CMC curve, Rank-32 :98.5%\n"
     ]
    },
    {
     "name": "stderr",
     "output_type": "stream",
     "text": [
      "Train Epoch: 141 [259/259 (100%)] Loss: 0.054227: : 259it [01:11,  3.62it/s]"
     ]
    },
    {
     "name": "stdout",
     "output_type": "stream",
     "text": [
      "Enter inferencing\n",
      "Create evaluator\n"
     ]
    },
    {
     "name": "stderr",
     "output_type": "stream",
     "text": [
      "\n"
     ]
    },
    {
     "name": "stdout",
     "output_type": "stream",
     "text": [
      "The test feature is normalized\n",
      "Validation Results\n",
      "mAP: 62.2%\n",
      "CMC curve, Rank-1  :83.8%\n",
      "CMC curve, Rank-2  :89.2%\n",
      "CMC curve, Rank-4  :92.8%\n",
      "CMC curve, Rank-6  :94.6%\n",
      "CMC curve, Rank-8  :95.6%\n",
      "CMC curve, Rank-10 :96.2%\n",
      "CMC curve, Rank-12 :96.5%\n",
      "CMC curve, Rank-14 :96.8%\n",
      "CMC curve, Rank-16 :97.1%\n",
      "CMC curve, Rank-18 :97.5%\n",
      "CMC curve, Rank-20 :97.7%\n",
      "CMC curve, Rank-22 :97.9%\n",
      "CMC curve, Rank-24 :98.0%\n",
      "CMC curve, Rank-26 :98.1%\n",
      "CMC curve, Rank-28 :98.2%\n",
      "CMC curve, Rank-30 :98.3%\n",
      "CMC curve, Rank-32 :98.5%\n"
     ]
    },
    {
     "name": "stderr",
     "output_type": "stream",
     "text": [
      "Train Epoch: 142 [259/259 (100%)] Loss: 0.046428: : 259it [01:11,  3.63it/s]"
     ]
    },
    {
     "name": "stdout",
     "output_type": "stream",
     "text": [
      "Enter inferencing\n",
      "Create evaluator\n"
     ]
    },
    {
     "name": "stderr",
     "output_type": "stream",
     "text": [
      "\n"
     ]
    },
    {
     "name": "stdout",
     "output_type": "stream",
     "text": [
      "The test feature is normalized\n",
      "Validation Results\n",
      "mAP: 62.2%\n",
      "CMC curve, Rank-1  :83.5%\n",
      "CMC curve, Rank-2  :89.1%\n",
      "CMC curve, Rank-4  :92.8%\n",
      "CMC curve, Rank-6  :94.6%\n",
      "CMC curve, Rank-8  :95.6%\n",
      "CMC curve, Rank-10 :96.0%\n",
      "CMC curve, Rank-12 :96.3%\n",
      "CMC curve, Rank-14 :96.8%\n",
      "CMC curve, Rank-16 :97.3%\n",
      "CMC curve, Rank-18 :97.7%\n",
      "CMC curve, Rank-20 :97.9%\n",
      "CMC curve, Rank-22 :98.0%\n",
      "CMC curve, Rank-24 :98.1%\n",
      "CMC curve, Rank-26 :98.2%\n",
      "CMC curve, Rank-28 :98.3%\n",
      "CMC curve, Rank-30 :98.4%\n",
      "CMC curve, Rank-32 :98.4%\n"
     ]
    },
    {
     "name": "stderr",
     "output_type": "stream",
     "text": [
      "Train Epoch: 143 [259/259 (100%)] Loss: 0.071646: : 259it [01:11,  3.62it/s]"
     ]
    },
    {
     "name": "stdout",
     "output_type": "stream",
     "text": [
      "Enter inferencing\n",
      "Create evaluator\n"
     ]
    },
    {
     "name": "stderr",
     "output_type": "stream",
     "text": [
      "\n"
     ]
    },
    {
     "name": "stdout",
     "output_type": "stream",
     "text": [
      "The test feature is normalized\n",
      "Validation Results\n",
      "mAP: 62.2%\n",
      "CMC curve, Rank-1  :83.5%\n",
      "CMC curve, Rank-2  :89.0%\n",
      "CMC curve, Rank-4  :92.7%\n",
      "CMC curve, Rank-6  :94.7%\n",
      "CMC curve, Rank-8  :95.7%\n",
      "CMC curve, Rank-10 :96.1%\n",
      "CMC curve, Rank-12 :96.4%\n",
      "CMC curve, Rank-14 :96.7%\n",
      "CMC curve, Rank-16 :97.1%\n",
      "CMC curve, Rank-18 :97.5%\n",
      "CMC curve, Rank-20 :97.8%\n",
      "CMC curve, Rank-22 :97.9%\n",
      "CMC curve, Rank-24 :98.1%\n",
      "CMC curve, Rank-26 :98.2%\n",
      "CMC curve, Rank-28 :98.3%\n",
      "CMC curve, Rank-30 :98.3%\n",
      "CMC curve, Rank-32 :98.4%\n"
     ]
    },
    {
     "name": "stderr",
     "output_type": "stream",
     "text": [
      "Train Epoch: 144 [259/259 (100%)] Loss: 0.032929: : 259it [01:11,  3.62it/s]"
     ]
    },
    {
     "name": "stdout",
     "output_type": "stream",
     "text": [
      "Enter inferencing\n",
      "Create evaluator\n"
     ]
    },
    {
     "name": "stderr",
     "output_type": "stream",
     "text": [
      "\n"
     ]
    },
    {
     "name": "stdout",
     "output_type": "stream",
     "text": [
      "The test feature is normalized\n",
      "Validation Results\n",
      "mAP: 62.3%\n",
      "CMC curve, Rank-1  :83.8%\n",
      "CMC curve, Rank-2  :89.1%\n",
      "CMC curve, Rank-4  :92.8%\n",
      "CMC curve, Rank-6  :94.7%\n",
      "CMC curve, Rank-8  :95.8%\n",
      "CMC curve, Rank-10 :96.1%\n",
      "CMC curve, Rank-12 :96.5%\n",
      "CMC curve, Rank-14 :96.9%\n",
      "CMC curve, Rank-16 :97.2%\n",
      "CMC curve, Rank-18 :97.6%\n",
      "CMC curve, Rank-20 :97.8%\n",
      "CMC curve, Rank-22 :98.0%\n",
      "CMC curve, Rank-24 :98.0%\n",
      "CMC curve, Rank-26 :98.1%\n",
      "CMC curve, Rank-28 :98.3%\n",
      "CMC curve, Rank-30 :98.4%\n",
      "CMC curve, Rank-32 :98.4%\n"
     ]
    },
    {
     "name": "stderr",
     "output_type": "stream",
     "text": [
      "Train Epoch: 145 [259/259 (100%)] Loss: 0.045895: : 259it [01:11,  3.62it/s]"
     ]
    },
    {
     "name": "stdout",
     "output_type": "stream",
     "text": [
      "Enter inferencing\n",
      "Create evaluator\n"
     ]
    },
    {
     "name": "stderr",
     "output_type": "stream",
     "text": [
      "\n"
     ]
    },
    {
     "name": "stdout",
     "output_type": "stream",
     "text": [
      "The test feature is normalized\n",
      "Validation Results\n",
      "mAP: 62.3%\n",
      "CMC curve, Rank-1  :83.6%\n",
      "CMC curve, Rank-2  :88.9%\n",
      "CMC curve, Rank-4  :92.9%\n",
      "CMC curve, Rank-6  :94.7%\n",
      "CMC curve, Rank-8  :95.7%\n",
      "CMC curve, Rank-10 :96.1%\n",
      "CMC curve, Rank-12 :96.4%\n",
      "CMC curve, Rank-14 :96.9%\n",
      "CMC curve, Rank-16 :97.2%\n",
      "CMC curve, Rank-18 :97.5%\n",
      "CMC curve, Rank-20 :97.6%\n",
      "CMC curve, Rank-22 :98.0%\n",
      "CMC curve, Rank-24 :98.1%\n",
      "CMC curve, Rank-26 :98.2%\n",
      "CMC curve, Rank-28 :98.3%\n",
      "CMC curve, Rank-30 :98.4%\n",
      "CMC curve, Rank-32 :98.5%\n"
     ]
    },
    {
     "name": "stderr",
     "output_type": "stream",
     "text": [
      "Train Epoch: 146 [259/259 (100%)] Loss: 0.030661: : 259it [01:11,  3.62it/s]"
     ]
    },
    {
     "name": "stdout",
     "output_type": "stream",
     "text": [
      "Enter inferencing\n",
      "Create evaluator\n"
     ]
    },
    {
     "name": "stderr",
     "output_type": "stream",
     "text": [
      "\n"
     ]
    },
    {
     "name": "stdout",
     "output_type": "stream",
     "text": [
      "The test feature is normalized\n",
      "Validation Results\n",
      "mAP: 62.3%\n",
      "CMC curve, Rank-1  :83.7%\n",
      "CMC curve, Rank-2  :89.1%\n",
      "CMC curve, Rank-4  :92.8%\n",
      "CMC curve, Rank-6  :94.6%\n",
      "CMC curve, Rank-8  :95.7%\n",
      "CMC curve, Rank-10 :96.1%\n",
      "CMC curve, Rank-12 :96.4%\n",
      "CMC curve, Rank-14 :96.8%\n",
      "CMC curve, Rank-16 :97.2%\n",
      "CMC curve, Rank-18 :97.6%\n",
      "CMC curve, Rank-20 :97.8%\n",
      "CMC curve, Rank-22 :97.9%\n",
      "CMC curve, Rank-24 :98.0%\n",
      "CMC curve, Rank-26 :98.2%\n",
      "CMC curve, Rank-28 :98.4%\n",
      "CMC curve, Rank-30 :98.4%\n",
      "CMC curve, Rank-32 :98.4%\n"
     ]
    },
    {
     "name": "stderr",
     "output_type": "stream",
     "text": [
      "Train Epoch: 147 [259/259 (100%)] Loss: 0.055229: : 259it [01:11,  3.63it/s]"
     ]
    },
    {
     "name": "stdout",
     "output_type": "stream",
     "text": [
      "Enter inferencing\n",
      "Create evaluator\n"
     ]
    },
    {
     "name": "stderr",
     "output_type": "stream",
     "text": [
      "\n"
     ]
    },
    {
     "name": "stdout",
     "output_type": "stream",
     "text": [
      "The test feature is normalized\n",
      "Validation Results\n",
      "mAP: 62.3%\n",
      "CMC curve, Rank-1  :83.6%\n",
      "CMC curve, Rank-2  :88.8%\n",
      "CMC curve, Rank-4  :92.5%\n",
      "CMC curve, Rank-6  :94.8%\n",
      "CMC curve, Rank-8  :95.8%\n",
      "CMC curve, Rank-10 :96.2%\n",
      "CMC curve, Rank-12 :96.5%\n",
      "CMC curve, Rank-14 :96.9%\n",
      "CMC curve, Rank-16 :97.3%\n",
      "CMC curve, Rank-18 :97.6%\n",
      "CMC curve, Rank-20 :97.8%\n",
      "CMC curve, Rank-22 :98.0%\n",
      "CMC curve, Rank-24 :98.2%\n",
      "CMC curve, Rank-26 :98.2%\n",
      "CMC curve, Rank-28 :98.3%\n",
      "CMC curve, Rank-30 :98.5%\n",
      "CMC curve, Rank-32 :98.5%\n"
     ]
    },
    {
     "name": "stderr",
     "output_type": "stream",
     "text": [
      "Train Epoch: 148 [259/259 (100%)] Loss: 0.059432: : 259it [01:11,  3.62it/s]"
     ]
    },
    {
     "name": "stdout",
     "output_type": "stream",
     "text": [
      "Enter inferencing\n",
      "Create evaluator\n"
     ]
    },
    {
     "name": "stderr",
     "output_type": "stream",
     "text": [
      "\n"
     ]
    },
    {
     "name": "stdout",
     "output_type": "stream",
     "text": [
      "The test feature is normalized\n",
      "Validation Results\n",
      "mAP: 62.3%\n",
      "CMC curve, Rank-1  :83.6%\n",
      "CMC curve, Rank-2  :89.1%\n",
      "CMC curve, Rank-4  :92.9%\n",
      "CMC curve, Rank-6  :94.6%\n",
      "CMC curve, Rank-8  :95.7%\n",
      "CMC curve, Rank-10 :96.2%\n",
      "CMC curve, Rank-12 :96.5%\n",
      "CMC curve, Rank-14 :96.8%\n",
      "CMC curve, Rank-16 :97.3%\n",
      "CMC curve, Rank-18 :97.7%\n",
      "CMC curve, Rank-20 :97.9%\n",
      "CMC curve, Rank-22 :98.1%\n",
      "CMC curve, Rank-24 :98.1%\n",
      "CMC curve, Rank-26 :98.2%\n",
      "CMC curve, Rank-28 :98.3%\n",
      "CMC curve, Rank-30 :98.3%\n",
      "CMC curve, Rank-32 :98.5%\n"
     ]
    },
    {
     "name": "stderr",
     "output_type": "stream",
     "text": [
      "Train Epoch: 149 [259/259 (100%)] Loss: 0.033466: : 259it [01:11,  3.62it/s]"
     ]
    },
    {
     "name": "stdout",
     "output_type": "stream",
     "text": [
      "Enter inferencing\n",
      "Create evaluator\n"
     ]
    },
    {
     "name": "stderr",
     "output_type": "stream",
     "text": [
      "\n"
     ]
    },
    {
     "name": "stdout",
     "output_type": "stream",
     "text": [
      "The test feature is normalized\n",
      "Validation Results\n",
      "mAP: 62.2%\n",
      "CMC curve, Rank-1  :83.5%\n",
      "CMC curve, Rank-2  :89.0%\n",
      "CMC curve, Rank-4  :92.7%\n",
      "CMC curve, Rank-6  :94.7%\n",
      "CMC curve, Rank-8  :95.8%\n",
      "CMC curve, Rank-10 :96.2%\n",
      "CMC curve, Rank-12 :96.6%\n",
      "CMC curve, Rank-14 :96.7%\n",
      "CMC curve, Rank-16 :97.3%\n",
      "CMC curve, Rank-18 :97.6%\n",
      "CMC curve, Rank-20 :97.7%\n",
      "CMC curve, Rank-22 :98.0%\n",
      "CMC curve, Rank-24 :98.0%\n",
      "CMC curve, Rank-26 :98.1%\n",
      "CMC curve, Rank-28 :98.3%\n",
      "CMC curve, Rank-30 :98.4%\n",
      "CMC curve, Rank-32 :98.5%\n"
     ]
    },
    {
     "name": "stderr",
     "output_type": "stream",
     "text": [
      "Train Epoch: 150 [259/259 (100%)] Loss: 0.038212: : 259it [01:11,  3.62it/s]"
     ]
    },
    {
     "name": "stdout",
     "output_type": "stream",
     "text": [
      "Enter inferencing\n",
      "Create evaluator\n"
     ]
    },
    {
     "name": "stderr",
     "output_type": "stream",
     "text": [
      "\n"
     ]
    },
    {
     "name": "stdout",
     "output_type": "stream",
     "text": [
      "The test feature is normalized\n",
      "Validation Results\n",
      "mAP: 62.3%\n",
      "CMC curve, Rank-1  :83.7%\n",
      "CMC curve, Rank-2  :88.9%\n",
      "CMC curve, Rank-4  :92.8%\n",
      "CMC curve, Rank-6  :94.7%\n",
      "CMC curve, Rank-8  :95.8%\n",
      "CMC curve, Rank-10 :96.2%\n",
      "CMC curve, Rank-12 :96.5%\n",
      "CMC curve, Rank-14 :96.8%\n",
      "CMC curve, Rank-16 :97.4%\n",
      "CMC curve, Rank-18 :97.5%\n",
      "CMC curve, Rank-20 :97.8%\n",
      "CMC curve, Rank-22 :98.0%\n",
      "CMC curve, Rank-24 :98.1%\n",
      "CMC curve, Rank-26 :98.2%\n",
      "CMC curve, Rank-28 :98.2%\n",
      "CMC curve, Rank-30 :98.3%\n",
      "CMC curve, Rank-32 :98.4%\n"
     ]
    },
    {
     "name": "stderr",
     "output_type": "stream",
     "text": [
      "Train Epoch: 151 [259/259 (100%)] Loss: 0.033474: : 259it [01:11,  3.62it/s]"
     ]
    },
    {
     "name": "stdout",
     "output_type": "stream",
     "text": [
      "Enter inferencing\n",
      "Create evaluator\n"
     ]
    },
    {
     "name": "stderr",
     "output_type": "stream",
     "text": [
      "\n"
     ]
    },
    {
     "name": "stdout",
     "output_type": "stream",
     "text": [
      "The test feature is normalized\n",
      "Validation Results\n",
      "mAP: 62.4%\n",
      "CMC curve, Rank-1  :83.8%\n",
      "CMC curve, Rank-2  :89.0%\n",
      "CMC curve, Rank-4  :92.9%\n",
      "CMC curve, Rank-6  :94.8%\n",
      "CMC curve, Rank-8  :95.7%\n",
      "CMC curve, Rank-10 :96.2%\n",
      "CMC curve, Rank-12 :96.5%\n",
      "CMC curve, Rank-14 :96.9%\n",
      "CMC curve, Rank-16 :97.2%\n",
      "CMC curve, Rank-18 :97.6%\n",
      "CMC curve, Rank-20 :97.7%\n",
      "CMC curve, Rank-22 :97.9%\n",
      "CMC curve, Rank-24 :98.0%\n",
      "CMC curve, Rank-26 :98.1%\n",
      "CMC curve, Rank-28 :98.2%\n",
      "CMC curve, Rank-30 :98.4%\n",
      "CMC curve, Rank-32 :98.4%\n"
     ]
    },
    {
     "name": "stderr",
     "output_type": "stream",
     "text": [
      "Train Epoch: 152 [259/259 (100%)] Loss: 0.034359: : 259it [01:11,  3.62it/s]"
     ]
    },
    {
     "name": "stdout",
     "output_type": "stream",
     "text": [
      "Enter inferencing\n",
      "Create evaluator\n"
     ]
    },
    {
     "name": "stderr",
     "output_type": "stream",
     "text": [
      "\n"
     ]
    },
    {
     "name": "stdout",
     "output_type": "stream",
     "text": [
      "The test feature is normalized\n",
      "Validation Results\n",
      "mAP: 62.1%\n",
      "CMC curve, Rank-1  :83.3%\n",
      "CMC curve, Rank-2  :89.0%\n",
      "CMC curve, Rank-4  :92.7%\n",
      "CMC curve, Rank-6  :94.6%\n",
      "CMC curve, Rank-8  :95.7%\n",
      "CMC curve, Rank-10 :96.2%\n",
      "CMC curve, Rank-12 :96.4%\n",
      "CMC curve, Rank-14 :96.9%\n",
      "CMC curve, Rank-16 :97.2%\n",
      "CMC curve, Rank-18 :97.6%\n",
      "CMC curve, Rank-20 :97.8%\n",
      "CMC curve, Rank-22 :97.9%\n",
      "CMC curve, Rank-24 :98.0%\n",
      "CMC curve, Rank-26 :98.1%\n",
      "CMC curve, Rank-28 :98.2%\n",
      "CMC curve, Rank-30 :98.3%\n",
      "CMC curve, Rank-32 :98.4%\n"
     ]
    },
    {
     "name": "stderr",
     "output_type": "stream",
     "text": [
      "Train Epoch: 153 [259/259 (100%)] Loss: 0.059031: : 259it [01:11,  3.62it/s]"
     ]
    },
    {
     "name": "stdout",
     "output_type": "stream",
     "text": [
      "Enter inferencing\n",
      "Create evaluator\n"
     ]
    },
    {
     "name": "stderr",
     "output_type": "stream",
     "text": [
      "\n"
     ]
    },
    {
     "name": "stdout",
     "output_type": "stream",
     "text": [
      "The test feature is normalized\n",
      "Validation Results\n",
      "mAP: 62.3%\n",
      "CMC curve, Rank-1  :83.8%\n",
      "CMC curve, Rank-2  :89.2%\n",
      "CMC curve, Rank-4  :92.7%\n",
      "CMC curve, Rank-6  :94.8%\n",
      "CMC curve, Rank-8  :95.8%\n",
      "CMC curve, Rank-10 :96.2%\n",
      "CMC curve, Rank-12 :96.5%\n",
      "CMC curve, Rank-14 :96.9%\n",
      "CMC curve, Rank-16 :97.2%\n",
      "CMC curve, Rank-18 :97.5%\n",
      "CMC curve, Rank-20 :97.7%\n",
      "CMC curve, Rank-22 :97.9%\n",
      "CMC curve, Rank-24 :98.0%\n",
      "CMC curve, Rank-26 :98.1%\n",
      "CMC curve, Rank-28 :98.3%\n",
      "CMC curve, Rank-30 :98.4%\n",
      "CMC curve, Rank-32 :98.4%\n"
     ]
    },
    {
     "name": "stderr",
     "output_type": "stream",
     "text": [
      "Train Epoch: 154 [259/259 (100%)] Loss: 0.042239: : 259it [01:11,  3.62it/s]"
     ]
    },
    {
     "name": "stdout",
     "output_type": "stream",
     "text": [
      "Enter inferencing\n",
      "Create evaluator\n"
     ]
    },
    {
     "name": "stderr",
     "output_type": "stream",
     "text": [
      "\n"
     ]
    },
    {
     "name": "stdout",
     "output_type": "stream",
     "text": [
      "The test feature is normalized\n",
      "Validation Results\n",
      "mAP: 62.3%\n",
      "CMC curve, Rank-1  :83.6%\n",
      "CMC curve, Rank-2  :89.1%\n",
      "CMC curve, Rank-4  :92.7%\n",
      "CMC curve, Rank-6  :94.7%\n",
      "CMC curve, Rank-8  :95.5%\n",
      "CMC curve, Rank-10 :96.1%\n",
      "CMC curve, Rank-12 :96.4%\n",
      "CMC curve, Rank-14 :96.8%\n",
      "CMC curve, Rank-16 :97.2%\n",
      "CMC curve, Rank-18 :97.4%\n",
      "CMC curve, Rank-20 :97.8%\n",
      "CMC curve, Rank-22 :97.9%\n",
      "CMC curve, Rank-24 :98.0%\n",
      "CMC curve, Rank-26 :98.2%\n",
      "CMC curve, Rank-28 :98.2%\n",
      "CMC curve, Rank-30 :98.3%\n",
      "CMC curve, Rank-32 :98.4%\n"
     ]
    },
    {
     "name": "stderr",
     "output_type": "stream",
     "text": [
      "Train Epoch: 155 [259/259 (100%)] Loss: 0.029032: : 259it [01:11,  3.62it/s]"
     ]
    },
    {
     "name": "stdout",
     "output_type": "stream",
     "text": [
      "Enter inferencing\n",
      "Create evaluator\n"
     ]
    },
    {
     "name": "stderr",
     "output_type": "stream",
     "text": [
      "\n"
     ]
    },
    {
     "name": "stdout",
     "output_type": "stream",
     "text": [
      "The test feature is normalized\n",
      "Validation Results\n",
      "mAP: 62.2%\n",
      "CMC curve, Rank-1  :83.7%\n",
      "CMC curve, Rank-2  :89.2%\n",
      "CMC curve, Rank-4  :92.8%\n",
      "CMC curve, Rank-6  :94.6%\n",
      "CMC curve, Rank-8  :95.6%\n",
      "CMC curve, Rank-10 :96.2%\n",
      "CMC curve, Rank-12 :96.5%\n",
      "CMC curve, Rank-14 :96.9%\n",
      "CMC curve, Rank-16 :97.2%\n",
      "CMC curve, Rank-18 :97.5%\n",
      "CMC curve, Rank-20 :97.8%\n",
      "CMC curve, Rank-22 :97.9%\n",
      "CMC curve, Rank-24 :98.0%\n",
      "CMC curve, Rank-26 :98.1%\n",
      "CMC curve, Rank-28 :98.2%\n",
      "CMC curve, Rank-30 :98.3%\n",
      "CMC curve, Rank-32 :98.5%\n"
     ]
    },
    {
     "name": "stderr",
     "output_type": "stream",
     "text": [
      "Train Epoch: 156 [259/259 (100%)] Loss: 0.061072: : 259it [01:11,  3.62it/s]"
     ]
    },
    {
     "name": "stdout",
     "output_type": "stream",
     "text": [
      "Enter inferencing\n",
      "Create evaluator\n"
     ]
    },
    {
     "name": "stderr",
     "output_type": "stream",
     "text": [
      "\n"
     ]
    },
    {
     "name": "stdout",
     "output_type": "stream",
     "text": [
      "The test feature is normalized\n",
      "Validation Results\n",
      "mAP: 62.2%\n",
      "CMC curve, Rank-1  :83.5%\n",
      "CMC curve, Rank-2  :89.0%\n",
      "CMC curve, Rank-4  :92.8%\n",
      "CMC curve, Rank-6  :94.7%\n",
      "CMC curve, Rank-8  :95.7%\n",
      "CMC curve, Rank-10 :96.2%\n",
      "CMC curve, Rank-12 :96.5%\n",
      "CMC curve, Rank-14 :96.8%\n",
      "CMC curve, Rank-16 :97.2%\n",
      "CMC curve, Rank-18 :97.6%\n",
      "CMC curve, Rank-20 :97.8%\n",
      "CMC curve, Rank-22 :97.9%\n",
      "CMC curve, Rank-24 :98.0%\n",
      "CMC curve, Rank-26 :98.1%\n",
      "CMC curve, Rank-28 :98.3%\n",
      "CMC curve, Rank-30 :98.4%\n",
      "CMC curve, Rank-32 :98.4%\n"
     ]
    },
    {
     "name": "stderr",
     "output_type": "stream",
     "text": [
      "Train Epoch: 157 [259/259 (100%)] Loss: 0.034977: : 259it [01:11,  3.62it/s]"
     ]
    },
    {
     "name": "stdout",
     "output_type": "stream",
     "text": [
      "Enter inferencing\n",
      "Create evaluator\n"
     ]
    },
    {
     "name": "stderr",
     "output_type": "stream",
     "text": [
      "\n"
     ]
    },
    {
     "name": "stdout",
     "output_type": "stream",
     "text": [
      "The test feature is normalized\n",
      "Validation Results\n",
      "mAP: 62.3%\n",
      "CMC curve, Rank-1  :83.8%\n",
      "CMC curve, Rank-2  :88.9%\n",
      "CMC curve, Rank-4  :92.5%\n",
      "CMC curve, Rank-6  :94.4%\n",
      "CMC curve, Rank-8  :95.8%\n",
      "CMC curve, Rank-10 :96.1%\n",
      "CMC curve, Rank-12 :96.4%\n",
      "CMC curve, Rank-14 :96.8%\n",
      "CMC curve, Rank-16 :97.3%\n",
      "CMC curve, Rank-18 :97.5%\n",
      "CMC curve, Rank-20 :97.6%\n",
      "CMC curve, Rank-22 :97.8%\n",
      "CMC curve, Rank-24 :98.0%\n",
      "CMC curve, Rank-26 :98.1%\n",
      "CMC curve, Rank-28 :98.2%\n",
      "CMC curve, Rank-30 :98.2%\n",
      "CMC curve, Rank-32 :98.3%\n"
     ]
    },
    {
     "name": "stderr",
     "output_type": "stream",
     "text": [
      "Train Epoch: 158 [259/259 (100%)] Loss: 0.036814: : 259it [01:11,  3.62it/s]"
     ]
    },
    {
     "name": "stdout",
     "output_type": "stream",
     "text": [
      "Enter inferencing\n",
      "Create evaluator\n"
     ]
    },
    {
     "name": "stderr",
     "output_type": "stream",
     "text": [
      "\n"
     ]
    },
    {
     "name": "stdout",
     "output_type": "stream",
     "text": [
      "The test feature is normalized\n",
      "Validation Results\n",
      "mAP: 62.4%\n",
      "CMC curve, Rank-1  :83.9%\n",
      "CMC curve, Rank-2  :88.9%\n",
      "CMC curve, Rank-4  :92.9%\n",
      "CMC curve, Rank-6  :94.8%\n",
      "CMC curve, Rank-8  :95.9%\n",
      "CMC curve, Rank-10 :96.3%\n",
      "CMC curve, Rank-12 :96.5%\n",
      "CMC curve, Rank-14 :96.8%\n",
      "CMC curve, Rank-16 :97.1%\n",
      "CMC curve, Rank-18 :97.7%\n",
      "CMC curve, Rank-20 :97.7%\n",
      "CMC curve, Rank-22 :98.0%\n",
      "CMC curve, Rank-24 :98.0%\n",
      "CMC curve, Rank-26 :98.2%\n",
      "CMC curve, Rank-28 :98.3%\n",
      "CMC curve, Rank-30 :98.3%\n",
      "CMC curve, Rank-32 :98.5%\n"
     ]
    },
    {
     "name": "stderr",
     "output_type": "stream",
     "text": [
      "Train Epoch: 159 [259/259 (100%)] Loss: 0.069217: : 259it [01:11,  3.62it/s]"
     ]
    },
    {
     "name": "stdout",
     "output_type": "stream",
     "text": [
      "Enter inferencing\n",
      "Create evaluator\n"
     ]
    },
    {
     "name": "stderr",
     "output_type": "stream",
     "text": [
      "\n"
     ]
    },
    {
     "name": "stdout",
     "output_type": "stream",
     "text": [
      "The test feature is normalized\n",
      "Validation Results\n",
      "mAP: 62.3%\n",
      "CMC curve, Rank-1  :83.7%\n",
      "CMC curve, Rank-2  :88.9%\n",
      "CMC curve, Rank-4  :92.8%\n",
      "CMC curve, Rank-6  :94.7%\n",
      "CMC curve, Rank-8  :95.6%\n",
      "CMC curve, Rank-10 :96.1%\n",
      "CMC curve, Rank-12 :96.4%\n",
      "CMC curve, Rank-14 :96.7%\n",
      "CMC curve, Rank-16 :97.0%\n",
      "CMC curve, Rank-18 :97.5%\n",
      "CMC curve, Rank-20 :97.8%\n",
      "CMC curve, Rank-22 :97.9%\n",
      "CMC curve, Rank-24 :98.0%\n",
      "CMC curve, Rank-26 :98.0%\n",
      "CMC curve, Rank-28 :98.1%\n",
      "CMC curve, Rank-30 :98.3%\n",
      "CMC curve, Rank-32 :98.4%\n"
     ]
    },
    {
     "name": "stderr",
     "output_type": "stream",
     "text": [
      "Train Epoch: 160 [259/259 (100%)] Loss: 0.038237: : 259it [01:11,  3.62it/s]"
     ]
    },
    {
     "name": "stdout",
     "output_type": "stream",
     "text": [
      "Enter inferencing\n",
      "Create evaluator\n"
     ]
    },
    {
     "name": "stderr",
     "output_type": "stream",
     "text": [
      "\n"
     ]
    },
    {
     "name": "stdout",
     "output_type": "stream",
     "text": [
      "The test feature is normalized\n",
      "Validation Results\n",
      "mAP: 62.4%\n",
      "CMC curve, Rank-1  :83.8%\n",
      "CMC curve, Rank-2  :89.2%\n",
      "CMC curve, Rank-4  :92.8%\n",
      "CMC curve, Rank-6  :94.6%\n",
      "CMC curve, Rank-8  :95.6%\n",
      "CMC curve, Rank-10 :96.0%\n",
      "CMC curve, Rank-12 :96.3%\n",
      "CMC curve, Rank-14 :96.7%\n",
      "CMC curve, Rank-16 :97.0%\n",
      "CMC curve, Rank-18 :97.5%\n",
      "CMC curve, Rank-20 :97.7%\n",
      "CMC curve, Rank-22 :98.0%\n",
      "CMC curve, Rank-24 :98.1%\n",
      "CMC curve, Rank-26 :98.2%\n",
      "CMC curve, Rank-28 :98.2%\n",
      "CMC curve, Rank-30 :98.3%\n",
      "CMC curve, Rank-32 :98.4%\n"
     ]
    },
    {
     "name": "stderr",
     "output_type": "stream",
     "text": [
      "Train Epoch: 161 [259/259 (100%)] Loss: 0.033138: : 259it [01:11,  3.62it/s]"
     ]
    },
    {
     "name": "stdout",
     "output_type": "stream",
     "text": [
      "Enter inferencing\n",
      "Create evaluator\n"
     ]
    },
    {
     "name": "stderr",
     "output_type": "stream",
     "text": [
      "\n"
     ]
    },
    {
     "name": "stdout",
     "output_type": "stream",
     "text": [
      "The test feature is normalized\n",
      "Validation Results\n",
      "mAP: 62.2%\n",
      "CMC curve, Rank-1  :83.6%\n",
      "CMC curve, Rank-2  :89.0%\n",
      "CMC curve, Rank-4  :92.7%\n",
      "CMC curve, Rank-6  :94.6%\n",
      "CMC curve, Rank-8  :95.7%\n",
      "CMC curve, Rank-10 :96.2%\n",
      "CMC curve, Rank-12 :96.4%\n",
      "CMC curve, Rank-14 :96.9%\n",
      "CMC curve, Rank-16 :97.3%\n",
      "CMC curve, Rank-18 :97.5%\n",
      "CMC curve, Rank-20 :97.7%\n",
      "CMC curve, Rank-22 :97.9%\n",
      "CMC curve, Rank-24 :98.0%\n",
      "CMC curve, Rank-26 :98.1%\n",
      "CMC curve, Rank-28 :98.2%\n",
      "CMC curve, Rank-30 :98.4%\n",
      "CMC curve, Rank-32 :98.5%\n"
     ]
    },
    {
     "name": "stderr",
     "output_type": "stream",
     "text": [
      "Train Epoch: 162 [259/259 (100%)] Loss: 0.048482: : 259it [01:11,  3.62it/s]"
     ]
    },
    {
     "name": "stdout",
     "output_type": "stream",
     "text": [
      "Enter inferencing\n",
      "Create evaluator\n"
     ]
    },
    {
     "name": "stderr",
     "output_type": "stream",
     "text": [
      "\n"
     ]
    },
    {
     "name": "stdout",
     "output_type": "stream",
     "text": [
      "The test feature is normalized\n",
      "Validation Results\n",
      "mAP: 62.3%\n",
      "CMC curve, Rank-1  :83.8%\n",
      "CMC curve, Rank-2  :88.9%\n",
      "CMC curve, Rank-4  :92.5%\n",
      "CMC curve, Rank-6  :94.5%\n",
      "CMC curve, Rank-8  :95.7%\n",
      "CMC curve, Rank-10 :96.1%\n",
      "CMC curve, Rank-12 :96.5%\n",
      "CMC curve, Rank-14 :96.8%\n",
      "CMC curve, Rank-16 :97.2%\n",
      "CMC curve, Rank-18 :97.5%\n",
      "CMC curve, Rank-20 :97.8%\n",
      "CMC curve, Rank-22 :98.0%\n",
      "CMC curve, Rank-24 :98.1%\n",
      "CMC curve, Rank-26 :98.2%\n",
      "CMC curve, Rank-28 :98.3%\n",
      "CMC curve, Rank-30 :98.3%\n",
      "CMC curve, Rank-32 :98.3%\n"
     ]
    },
    {
     "name": "stderr",
     "output_type": "stream",
     "text": [
      "Train Epoch: 163 [259/259 (100%)] Loss: 0.032912: : 259it [01:11,  3.62it/s]"
     ]
    },
    {
     "name": "stdout",
     "output_type": "stream",
     "text": [
      "Enter inferencing\n",
      "Create evaluator\n"
     ]
    },
    {
     "name": "stderr",
     "output_type": "stream",
     "text": [
      "\n"
     ]
    },
    {
     "name": "stdout",
     "output_type": "stream",
     "text": [
      "The test feature is normalized\n",
      "Validation Results\n",
      "mAP: 62.3%\n",
      "CMC curve, Rank-1  :83.8%\n",
      "CMC curve, Rank-2  :89.1%\n",
      "CMC curve, Rank-4  :92.8%\n",
      "CMC curve, Rank-6  :94.7%\n",
      "CMC curve, Rank-8  :95.6%\n",
      "CMC curve, Rank-10 :96.1%\n",
      "CMC curve, Rank-12 :96.5%\n",
      "CMC curve, Rank-14 :96.9%\n",
      "CMC curve, Rank-16 :97.1%\n",
      "CMC curve, Rank-18 :97.4%\n",
      "CMC curve, Rank-20 :97.6%\n",
      "CMC curve, Rank-22 :97.8%\n",
      "CMC curve, Rank-24 :98.0%\n",
      "CMC curve, Rank-26 :98.1%\n",
      "CMC curve, Rank-28 :98.3%\n",
      "CMC curve, Rank-30 :98.3%\n",
      "CMC curve, Rank-32 :98.4%\n"
     ]
    },
    {
     "name": "stderr",
     "output_type": "stream",
     "text": [
      "Train Epoch: 164 [259/259 (100%)] Loss: 0.030660: : 259it [01:11,  3.62it/s]"
     ]
    },
    {
     "name": "stdout",
     "output_type": "stream",
     "text": [
      "Enter inferencing\n",
      "Create evaluator\n"
     ]
    },
    {
     "name": "stderr",
     "output_type": "stream",
     "text": [
      "\n"
     ]
    },
    {
     "name": "stdout",
     "output_type": "stream",
     "text": [
      "The test feature is normalized\n",
      "Validation Results\n",
      "mAP: 62.3%\n",
      "CMC curve, Rank-1  :83.6%\n",
      "CMC curve, Rank-2  :89.2%\n",
      "CMC curve, Rank-4  :92.9%\n",
      "CMC curve, Rank-6  :94.7%\n",
      "CMC curve, Rank-8  :95.8%\n",
      "CMC curve, Rank-10 :96.1%\n",
      "CMC curve, Rank-12 :96.4%\n",
      "CMC curve, Rank-14 :96.9%\n",
      "CMC curve, Rank-16 :97.3%\n",
      "CMC curve, Rank-18 :97.7%\n",
      "CMC curve, Rank-20 :97.8%\n",
      "CMC curve, Rank-22 :98.0%\n",
      "CMC curve, Rank-24 :98.1%\n",
      "CMC curve, Rank-26 :98.2%\n",
      "CMC curve, Rank-28 :98.3%\n",
      "CMC curve, Rank-30 :98.4%\n",
      "CMC curve, Rank-32 :98.5%\n"
     ]
    },
    {
     "name": "stderr",
     "output_type": "stream",
     "text": [
      "Train Epoch: 165 [259/259 (100%)] Loss: 0.030974: : 259it [01:11,  3.62it/s]"
     ]
    },
    {
     "name": "stdout",
     "output_type": "stream",
     "text": [
      "Enter inferencing\n",
      "Create evaluator\n"
     ]
    },
    {
     "name": "stderr",
     "output_type": "stream",
     "text": [
      "\n"
     ]
    },
    {
     "name": "stdout",
     "output_type": "stream",
     "text": [
      "The test feature is normalized\n",
      "Validation Results\n",
      "mAP: 62.3%\n",
      "CMC curve, Rank-1  :83.6%\n",
      "CMC curve, Rank-2  :89.0%\n",
      "CMC curve, Rank-4  :92.7%\n",
      "CMC curve, Rank-6  :94.7%\n",
      "CMC curve, Rank-8  :95.8%\n",
      "CMC curve, Rank-10 :96.2%\n",
      "CMC curve, Rank-12 :96.5%\n",
      "CMC curve, Rank-14 :96.8%\n",
      "CMC curve, Rank-16 :97.2%\n",
      "CMC curve, Rank-18 :97.6%\n",
      "CMC curve, Rank-20 :97.7%\n",
      "CMC curve, Rank-22 :97.9%\n",
      "CMC curve, Rank-24 :98.1%\n",
      "CMC curve, Rank-26 :98.2%\n",
      "CMC curve, Rank-28 :98.3%\n",
      "CMC curve, Rank-30 :98.4%\n",
      "CMC curve, Rank-32 :98.5%\n"
     ]
    },
    {
     "name": "stderr",
     "output_type": "stream",
     "text": [
      "Train Epoch: 166 [259/259 (100%)] Loss: 0.036459: : 259it [01:11,  3.62it/s]"
     ]
    },
    {
     "name": "stdout",
     "output_type": "stream",
     "text": [
      "Enter inferencing\n",
      "Create evaluator\n"
     ]
    },
    {
     "name": "stderr",
     "output_type": "stream",
     "text": [
      "\n"
     ]
    },
    {
     "name": "stdout",
     "output_type": "stream",
     "text": [
      "The test feature is normalized\n",
      "Validation Results\n",
      "mAP: 62.5%\n",
      "CMC curve, Rank-1  :83.8%\n",
      "CMC curve, Rank-2  :89.0%\n",
      "CMC curve, Rank-4  :92.8%\n",
      "CMC curve, Rank-6  :94.8%\n",
      "CMC curve, Rank-8  :95.7%\n",
      "CMC curve, Rank-10 :96.2%\n",
      "CMC curve, Rank-12 :96.5%\n",
      "CMC curve, Rank-14 :97.0%\n",
      "CMC curve, Rank-16 :97.2%\n",
      "CMC curve, Rank-18 :97.6%\n",
      "CMC curve, Rank-20 :97.7%\n",
      "CMC curve, Rank-22 :98.0%\n",
      "CMC curve, Rank-24 :98.1%\n",
      "CMC curve, Rank-26 :98.2%\n",
      "CMC curve, Rank-28 :98.2%\n",
      "CMC curve, Rank-30 :98.4%\n",
      "CMC curve, Rank-32 :98.4%\n"
     ]
    },
    {
     "name": "stderr",
     "output_type": "stream",
     "text": [
      "Train Epoch: 167 [259/259 (100%)] Loss: 0.045026: : 259it [01:11,  3.62it/s]"
     ]
    },
    {
     "name": "stdout",
     "output_type": "stream",
     "text": [
      "Enter inferencing\n",
      "Create evaluator\n"
     ]
    },
    {
     "name": "stderr",
     "output_type": "stream",
     "text": [
      "\n"
     ]
    },
    {
     "name": "stdout",
     "output_type": "stream",
     "text": [
      "The test feature is normalized\n",
      "Validation Results\n",
      "mAP: 62.3%\n",
      "CMC curve, Rank-1  :83.8%\n",
      "CMC curve, Rank-2  :89.0%\n",
      "CMC curve, Rank-4  :92.8%\n",
      "CMC curve, Rank-6  :94.5%\n",
      "CMC curve, Rank-8  :95.6%\n",
      "CMC curve, Rank-10 :96.1%\n",
      "CMC curve, Rank-12 :96.3%\n",
      "CMC curve, Rank-14 :96.7%\n",
      "CMC curve, Rank-16 :97.2%\n",
      "CMC curve, Rank-18 :97.6%\n",
      "CMC curve, Rank-20 :97.7%\n",
      "CMC curve, Rank-22 :98.0%\n",
      "CMC curve, Rank-24 :98.0%\n",
      "CMC curve, Rank-26 :98.2%\n",
      "CMC curve, Rank-28 :98.3%\n",
      "CMC curve, Rank-30 :98.4%\n",
      "CMC curve, Rank-32 :98.4%\n"
     ]
    },
    {
     "name": "stderr",
     "output_type": "stream",
     "text": [
      "Train Epoch: 168 [259/259 (100%)] Loss: 0.055793: : 259it [01:11,  3.62it/s]"
     ]
    },
    {
     "name": "stdout",
     "output_type": "stream",
     "text": [
      "Enter inferencing\n",
      "Create evaluator\n"
     ]
    },
    {
     "name": "stderr",
     "output_type": "stream",
     "text": [
      "\n"
     ]
    },
    {
     "name": "stdout",
     "output_type": "stream",
     "text": [
      "The test feature is normalized\n",
      "Validation Results\n",
      "mAP: 62.3%\n",
      "CMC curve, Rank-1  :83.5%\n",
      "CMC curve, Rank-2  :89.1%\n",
      "CMC curve, Rank-4  :92.8%\n",
      "CMC curve, Rank-6  :94.7%\n",
      "CMC curve, Rank-8  :95.9%\n",
      "CMC curve, Rank-10 :96.1%\n",
      "CMC curve, Rank-12 :96.4%\n",
      "CMC curve, Rank-14 :96.9%\n",
      "CMC curve, Rank-16 :97.3%\n",
      "CMC curve, Rank-18 :97.5%\n",
      "CMC curve, Rank-20 :97.8%\n",
      "CMC curve, Rank-22 :97.9%\n",
      "CMC curve, Rank-24 :98.0%\n",
      "CMC curve, Rank-26 :98.2%\n",
      "CMC curve, Rank-28 :98.2%\n",
      "CMC curve, Rank-30 :98.3%\n",
      "CMC curve, Rank-32 :98.4%\n"
     ]
    },
    {
     "name": "stderr",
     "output_type": "stream",
     "text": [
      "Train Epoch: 169 [259/259 (100%)] Loss: 0.039683: : 259it [01:11,  3.62it/s]"
     ]
    },
    {
     "name": "stdout",
     "output_type": "stream",
     "text": [
      "Enter inferencing\n",
      "Create evaluator\n"
     ]
    },
    {
     "name": "stderr",
     "output_type": "stream",
     "text": [
      "\n"
     ]
    },
    {
     "name": "stdout",
     "output_type": "stream",
     "text": [
      "The test feature is normalized\n",
      "Validation Results\n",
      "mAP: 62.4%\n",
      "CMC curve, Rank-1  :83.7%\n",
      "CMC curve, Rank-2  :89.1%\n",
      "CMC curve, Rank-4  :93.0%\n",
      "CMC curve, Rank-6  :94.8%\n",
      "CMC curve, Rank-8  :95.6%\n",
      "CMC curve, Rank-10 :96.1%\n",
      "CMC curve, Rank-12 :96.5%\n",
      "CMC curve, Rank-14 :96.8%\n",
      "CMC curve, Rank-16 :97.0%\n",
      "CMC curve, Rank-18 :97.4%\n",
      "CMC curve, Rank-20 :97.8%\n",
      "CMC curve, Rank-22 :98.0%\n",
      "CMC curve, Rank-24 :98.1%\n",
      "CMC curve, Rank-26 :98.2%\n",
      "CMC curve, Rank-28 :98.3%\n",
      "CMC curve, Rank-30 :98.3%\n",
      "CMC curve, Rank-32 :98.4%\n"
     ]
    },
    {
     "name": "stderr",
     "output_type": "stream",
     "text": [
      "Train Epoch: 170 [259/259 (100%)] Loss: 0.030997: : 259it [01:11,  3.62it/s]"
     ]
    },
    {
     "name": "stdout",
     "output_type": "stream",
     "text": [
      "Enter inferencing\n",
      "Create evaluator\n"
     ]
    },
    {
     "name": "stderr",
     "output_type": "stream",
     "text": [
      "\n"
     ]
    },
    {
     "name": "stdout",
     "output_type": "stream",
     "text": [
      "The test feature is normalized\n",
      "Validation Results\n",
      "mAP: 62.3%\n",
      "CMC curve, Rank-1  :83.6%\n",
      "CMC curve, Rank-2  :89.0%\n",
      "CMC curve, Rank-4  :92.7%\n",
      "CMC curve, Rank-6  :94.7%\n",
      "CMC curve, Rank-8  :95.7%\n",
      "CMC curve, Rank-10 :96.2%\n",
      "CMC curve, Rank-12 :96.5%\n",
      "CMC curve, Rank-14 :96.9%\n",
      "CMC curve, Rank-16 :97.2%\n",
      "CMC curve, Rank-18 :97.5%\n",
      "CMC curve, Rank-20 :97.7%\n",
      "CMC curve, Rank-22 :97.8%\n",
      "CMC curve, Rank-24 :98.0%\n",
      "CMC curve, Rank-26 :98.2%\n",
      "CMC curve, Rank-28 :98.2%\n",
      "CMC curve, Rank-30 :98.3%\n",
      "CMC curve, Rank-32 :98.4%\n"
     ]
    },
    {
     "name": "stderr",
     "output_type": "stream",
     "text": [
      "Train Epoch: 171 [259/259 (100%)] Loss: 0.045371: : 259it [01:11,  3.62it/s]"
     ]
    },
    {
     "name": "stdout",
     "output_type": "stream",
     "text": [
      "Enter inferencing\n",
      "Create evaluator\n"
     ]
    },
    {
     "name": "stderr",
     "output_type": "stream",
     "text": [
      "\n"
     ]
    },
    {
     "name": "stdout",
     "output_type": "stream",
     "text": [
      "The test feature is normalized\n",
      "Validation Results\n",
      "mAP: 62.2%\n",
      "CMC curve, Rank-1  :83.4%\n",
      "CMC curve, Rank-2  :88.9%\n",
      "CMC curve, Rank-4  :92.9%\n",
      "CMC curve, Rank-6  :94.6%\n",
      "CMC curve, Rank-8  :95.7%\n",
      "CMC curve, Rank-10 :96.1%\n",
      "CMC curve, Rank-12 :96.4%\n",
      "CMC curve, Rank-14 :96.8%\n",
      "CMC curve, Rank-16 :97.1%\n",
      "CMC curve, Rank-18 :97.5%\n",
      "CMC curve, Rank-20 :97.7%\n",
      "CMC curve, Rank-22 :97.8%\n",
      "CMC curve, Rank-24 :98.0%\n",
      "CMC curve, Rank-26 :98.1%\n",
      "CMC curve, Rank-28 :98.2%\n",
      "CMC curve, Rank-30 :98.3%\n",
      "CMC curve, Rank-32 :98.3%\n"
     ]
    },
    {
     "name": "stderr",
     "output_type": "stream",
     "text": [
      "Train Epoch: 172 [259/259 (100%)] Loss: 0.050139: : 259it [01:11,  3.62it/s]"
     ]
    },
    {
     "name": "stdout",
     "output_type": "stream",
     "text": [
      "Enter inferencing\n",
      "Create evaluator\n"
     ]
    },
    {
     "name": "stderr",
     "output_type": "stream",
     "text": [
      "\n"
     ]
    },
    {
     "name": "stdout",
     "output_type": "stream",
     "text": [
      "The test feature is normalized\n",
      "Validation Results\n",
      "mAP: 62.2%\n",
      "CMC curve, Rank-1  :83.5%\n",
      "CMC curve, Rank-2  :89.0%\n",
      "CMC curve, Rank-4  :92.7%\n",
      "CMC curve, Rank-6  :94.7%\n",
      "CMC curve, Rank-8  :95.7%\n",
      "CMC curve, Rank-10 :96.3%\n",
      "CMC curve, Rank-12 :96.5%\n",
      "CMC curve, Rank-14 :97.0%\n",
      "CMC curve, Rank-16 :97.3%\n",
      "CMC curve, Rank-18 :97.5%\n",
      "CMC curve, Rank-20 :97.7%\n",
      "CMC curve, Rank-22 :97.9%\n",
      "CMC curve, Rank-24 :98.0%\n",
      "CMC curve, Rank-26 :98.1%\n",
      "CMC curve, Rank-28 :98.2%\n",
      "CMC curve, Rank-30 :98.2%\n",
      "CMC curve, Rank-32 :98.5%\n"
     ]
    },
    {
     "name": "stderr",
     "output_type": "stream",
     "text": [
      "Train Epoch: 173 [259/259 (100%)] Loss: 0.060573: : 259it [01:11,  3.63it/s]"
     ]
    },
    {
     "name": "stdout",
     "output_type": "stream",
     "text": [
      "Enter inferencing\n",
      "Create evaluator\n"
     ]
    },
    {
     "name": "stderr",
     "output_type": "stream",
     "text": [
      "\n"
     ]
    },
    {
     "name": "stdout",
     "output_type": "stream",
     "text": [
      "The test feature is normalized\n",
      "Validation Results\n",
      "mAP: 62.4%\n",
      "CMC curve, Rank-1  :83.8%\n",
      "CMC curve, Rank-2  :89.0%\n",
      "CMC curve, Rank-4  :92.7%\n",
      "CMC curve, Rank-6  :94.8%\n",
      "CMC curve, Rank-8  :95.8%\n",
      "CMC curve, Rank-10 :96.2%\n",
      "CMC curve, Rank-12 :96.5%\n",
      "CMC curve, Rank-14 :96.8%\n",
      "CMC curve, Rank-16 :97.1%\n",
      "CMC curve, Rank-18 :97.6%\n",
      "CMC curve, Rank-20 :97.8%\n",
      "CMC curve, Rank-22 :97.9%\n",
      "CMC curve, Rank-24 :98.0%\n",
      "CMC curve, Rank-26 :98.2%\n",
      "CMC curve, Rank-28 :98.4%\n",
      "CMC curve, Rank-30 :98.4%\n",
      "CMC curve, Rank-32 :98.5%\n"
     ]
    },
    {
     "name": "stderr",
     "output_type": "stream",
     "text": [
      "Train Epoch: 174 [259/259 (100%)] Loss: 0.033958: : 259it [01:11,  3.62it/s]"
     ]
    },
    {
     "name": "stdout",
     "output_type": "stream",
     "text": [
      "Enter inferencing\n",
      "Create evaluator\n"
     ]
    },
    {
     "name": "stderr",
     "output_type": "stream",
     "text": [
      "\n"
     ]
    },
    {
     "name": "stdout",
     "output_type": "stream",
     "text": [
      "The test feature is normalized\n",
      "Validation Results\n",
      "mAP: 62.2%\n",
      "CMC curve, Rank-1  :83.8%\n",
      "CMC curve, Rank-2  :89.0%\n",
      "CMC curve, Rank-4  :92.9%\n",
      "CMC curve, Rank-6  :94.7%\n",
      "CMC curve, Rank-8  :95.6%\n",
      "CMC curve, Rank-10 :96.2%\n",
      "CMC curve, Rank-12 :96.5%\n",
      "CMC curve, Rank-14 :96.9%\n",
      "CMC curve, Rank-16 :97.2%\n",
      "CMC curve, Rank-18 :97.6%\n",
      "CMC curve, Rank-20 :97.9%\n",
      "CMC curve, Rank-22 :98.0%\n",
      "CMC curve, Rank-24 :98.1%\n",
      "CMC curve, Rank-26 :98.1%\n",
      "CMC curve, Rank-28 :98.2%\n",
      "CMC curve, Rank-30 :98.3%\n",
      "CMC curve, Rank-32 :98.5%\n"
     ]
    },
    {
     "name": "stderr",
     "output_type": "stream",
     "text": [
      "Train Epoch: 175 [259/259 (100%)] Loss: 0.071018: : 259it [01:11,  3.62it/s]"
     ]
    },
    {
     "name": "stdout",
     "output_type": "stream",
     "text": [
      "Enter inferencing\n",
      "Create evaluator\n"
     ]
    },
    {
     "name": "stderr",
     "output_type": "stream",
     "text": [
      "\n"
     ]
    },
    {
     "name": "stdout",
     "output_type": "stream",
     "text": [
      "The test feature is normalized\n",
      "Validation Results\n",
      "mAP: 62.3%\n",
      "CMC curve, Rank-1  :83.6%\n",
      "CMC curve, Rank-2  :89.0%\n",
      "CMC curve, Rank-4  :92.9%\n",
      "CMC curve, Rank-6  :94.7%\n",
      "CMC curve, Rank-8  :95.8%\n",
      "CMC curve, Rank-10 :96.3%\n",
      "CMC curve, Rank-12 :96.5%\n",
      "CMC curve, Rank-14 :96.8%\n",
      "CMC curve, Rank-16 :97.1%\n",
      "CMC curve, Rank-18 :97.5%\n",
      "CMC curve, Rank-20 :97.7%\n",
      "CMC curve, Rank-22 :98.0%\n",
      "CMC curve, Rank-24 :98.1%\n",
      "CMC curve, Rank-26 :98.2%\n",
      "CMC curve, Rank-28 :98.2%\n",
      "CMC curve, Rank-30 :98.4%\n",
      "CMC curve, Rank-32 :98.5%\n"
     ]
    },
    {
     "name": "stderr",
     "output_type": "stream",
     "text": [
      "Train Epoch: 176 [259/259 (100%)] Loss: 0.064514: : 259it [01:11,  3.62it/s]"
     ]
    },
    {
     "name": "stdout",
     "output_type": "stream",
     "text": [
      "Enter inferencing\n",
      "Create evaluator\n"
     ]
    },
    {
     "name": "stderr",
     "output_type": "stream",
     "text": [
      "\n"
     ]
    },
    {
     "name": "stdout",
     "output_type": "stream",
     "text": [
      "The test feature is normalized\n",
      "Validation Results\n",
      "mAP: 62.3%\n",
      "CMC curve, Rank-1  :83.8%\n",
      "CMC curve, Rank-2  :89.1%\n",
      "CMC curve, Rank-4  :92.6%\n",
      "CMC curve, Rank-6  :94.6%\n",
      "CMC curve, Rank-8  :95.5%\n",
      "CMC curve, Rank-10 :96.1%\n",
      "CMC curve, Rank-12 :96.4%\n",
      "CMC curve, Rank-14 :96.8%\n",
      "CMC curve, Rank-16 :97.3%\n",
      "CMC curve, Rank-18 :97.7%\n",
      "CMC curve, Rank-20 :97.8%\n",
      "CMC curve, Rank-22 :98.0%\n",
      "CMC curve, Rank-24 :98.1%\n",
      "CMC curve, Rank-26 :98.2%\n",
      "CMC curve, Rank-28 :98.3%\n",
      "CMC curve, Rank-30 :98.3%\n",
      "CMC curve, Rank-32 :98.5%\n"
     ]
    },
    {
     "name": "stderr",
     "output_type": "stream",
     "text": [
      "Train Epoch: 177 [259/259 (100%)] Loss: 0.048137: : 259it [01:11,  3.62it/s]"
     ]
    },
    {
     "name": "stdout",
     "output_type": "stream",
     "text": [
      "Enter inferencing\n",
      "Create evaluator\n"
     ]
    },
    {
     "name": "stderr",
     "output_type": "stream",
     "text": [
      "\n"
     ]
    },
    {
     "name": "stdout",
     "output_type": "stream",
     "text": [
      "The test feature is normalized\n",
      "Validation Results\n",
      "mAP: 62.4%\n",
      "CMC curve, Rank-1  :83.7%\n",
      "CMC curve, Rank-2  :89.0%\n",
      "CMC curve, Rank-4  :92.7%\n",
      "CMC curve, Rank-6  :94.6%\n",
      "CMC curve, Rank-8  :95.6%\n",
      "CMC curve, Rank-10 :96.1%\n",
      "CMC curve, Rank-12 :96.4%\n",
      "CMC curve, Rank-14 :96.8%\n",
      "CMC curve, Rank-16 :97.2%\n",
      "CMC curve, Rank-18 :97.4%\n",
      "CMC curve, Rank-20 :97.6%\n",
      "CMC curve, Rank-22 :97.9%\n",
      "CMC curve, Rank-24 :98.2%\n",
      "CMC curve, Rank-26 :98.2%\n",
      "CMC curve, Rank-28 :98.3%\n",
      "CMC curve, Rank-30 :98.4%\n",
      "CMC curve, Rank-32 :98.5%\n"
     ]
    },
    {
     "name": "stderr",
     "output_type": "stream",
     "text": [
      "Train Epoch: 178 [259/259 (100%)] Loss: 0.092773: : 259it [01:11,  3.62it/s]"
     ]
    },
    {
     "name": "stdout",
     "output_type": "stream",
     "text": [
      "Enter inferencing\n",
      "Create evaluator\n"
     ]
    },
    {
     "name": "stderr",
     "output_type": "stream",
     "text": [
      "\n"
     ]
    },
    {
     "name": "stdout",
     "output_type": "stream",
     "text": [
      "The test feature is normalized\n",
      "Validation Results\n",
      "mAP: 62.2%\n",
      "CMC curve, Rank-1  :83.8%\n",
      "CMC curve, Rank-2  :89.2%\n",
      "CMC curve, Rank-4  :92.7%\n",
      "CMC curve, Rank-6  :94.5%\n",
      "CMC curve, Rank-8  :95.6%\n",
      "CMC curve, Rank-10 :96.1%\n",
      "CMC curve, Rank-12 :96.4%\n",
      "CMC curve, Rank-14 :97.0%\n",
      "CMC curve, Rank-16 :97.3%\n",
      "CMC curve, Rank-18 :97.6%\n",
      "CMC curve, Rank-20 :97.7%\n",
      "CMC curve, Rank-22 :97.9%\n",
      "CMC curve, Rank-24 :98.0%\n",
      "CMC curve, Rank-26 :98.1%\n",
      "CMC curve, Rank-28 :98.2%\n",
      "CMC curve, Rank-30 :98.3%\n",
      "CMC curve, Rank-32 :98.5%\n"
     ]
    },
    {
     "name": "stderr",
     "output_type": "stream",
     "text": [
      "Train Epoch: 179 [259/259 (100%)] Loss: 0.031572: : 259it [01:11,  3.62it/s]"
     ]
    },
    {
     "name": "stdout",
     "output_type": "stream",
     "text": [
      "Enter inferencing\n",
      "Create evaluator\n"
     ]
    },
    {
     "name": "stderr",
     "output_type": "stream",
     "text": [
      "\n"
     ]
    },
    {
     "name": "stdout",
     "output_type": "stream",
     "text": [
      "The test feature is normalized\n",
      "Validation Results\n",
      "mAP: 62.4%\n",
      "CMC curve, Rank-1  :83.5%\n",
      "CMC curve, Rank-2  :89.1%\n",
      "CMC curve, Rank-4  :92.7%\n",
      "CMC curve, Rank-6  :94.7%\n",
      "CMC curve, Rank-8  :95.8%\n",
      "CMC curve, Rank-10 :96.1%\n",
      "CMC curve, Rank-12 :96.4%\n",
      "CMC curve, Rank-14 :96.9%\n",
      "CMC curve, Rank-16 :97.2%\n",
      "CMC curve, Rank-18 :97.5%\n",
      "CMC curve, Rank-20 :97.7%\n",
      "CMC curve, Rank-22 :97.9%\n",
      "CMC curve, Rank-24 :98.1%\n",
      "CMC curve, Rank-26 :98.1%\n",
      "CMC curve, Rank-28 :98.2%\n",
      "CMC curve, Rank-30 :98.3%\n",
      "CMC curve, Rank-32 :98.4%\n"
     ]
    },
    {
     "name": "stderr",
     "output_type": "stream",
     "text": [
      "Train Epoch: 180 [259/259 (100%)] Loss: 0.033844: : 259it [01:11,  3.62it/s]"
     ]
    },
    {
     "name": "stdout",
     "output_type": "stream",
     "text": [
      "Enter inferencing\n",
      "Create evaluator\n"
     ]
    },
    {
     "name": "stderr",
     "output_type": "stream",
     "text": [
      "\n"
     ]
    },
    {
     "name": "stdout",
     "output_type": "stream",
     "text": [
      "The test feature is normalized\n",
      "Validation Results\n",
      "mAP: 62.3%\n",
      "CMC curve, Rank-1  :83.8%\n",
      "CMC curve, Rank-2  :89.0%\n",
      "CMC curve, Rank-4  :92.9%\n",
      "CMC curve, Rank-6  :94.6%\n",
      "CMC curve, Rank-8  :95.6%\n",
      "CMC curve, Rank-10 :96.1%\n",
      "CMC curve, Rank-12 :96.4%\n",
      "CMC curve, Rank-14 :96.8%\n",
      "CMC curve, Rank-16 :97.1%\n",
      "CMC curve, Rank-18 :97.5%\n",
      "CMC curve, Rank-20 :97.9%\n",
      "CMC curve, Rank-22 :98.1%\n",
      "CMC curve, Rank-24 :98.2%\n",
      "CMC curve, Rank-26 :98.2%\n",
      "CMC curve, Rank-28 :98.4%\n",
      "CMC curve, Rank-30 :98.5%\n",
      "CMC curve, Rank-32 :98.5%\n"
     ]
    },
    {
     "name": "stderr",
     "output_type": "stream",
     "text": [
      "Train Epoch: 181 [259/259 (100%)] Loss: 0.055839: : 259it [01:11,  3.62it/s]"
     ]
    },
    {
     "name": "stdout",
     "output_type": "stream",
     "text": [
      "Enter inferencing\n",
      "Create evaluator\n"
     ]
    },
    {
     "name": "stderr",
     "output_type": "stream",
     "text": [
      "\n"
     ]
    },
    {
     "name": "stdout",
     "output_type": "stream",
     "text": [
      "The test feature is normalized\n",
      "Validation Results\n",
      "mAP: 62.3%\n",
      "CMC curve, Rank-1  :83.6%\n",
      "CMC curve, Rank-2  :89.1%\n",
      "CMC curve, Rank-4  :92.9%\n",
      "CMC curve, Rank-6  :94.7%\n",
      "CMC curve, Rank-8  :95.8%\n",
      "CMC curve, Rank-10 :96.1%\n",
      "CMC curve, Rank-12 :96.5%\n",
      "CMC curve, Rank-14 :96.8%\n",
      "CMC curve, Rank-16 :97.2%\n",
      "CMC curve, Rank-18 :97.6%\n",
      "CMC curve, Rank-20 :97.8%\n",
      "CMC curve, Rank-22 :97.8%\n",
      "CMC curve, Rank-24 :98.0%\n",
      "CMC curve, Rank-26 :98.2%\n",
      "CMC curve, Rank-28 :98.3%\n",
      "CMC curve, Rank-30 :98.4%\n",
      "CMC curve, Rank-32 :98.5%\n"
     ]
    },
    {
     "name": "stderr",
     "output_type": "stream",
     "text": [
      "Train Epoch: 182 [259/259 (100%)] Loss: 0.047586: : 259it [01:11,  3.62it/s]"
     ]
    },
    {
     "name": "stdout",
     "output_type": "stream",
     "text": [
      "Enter inferencing\n",
      "Create evaluator\n"
     ]
    },
    {
     "name": "stderr",
     "output_type": "stream",
     "text": [
      "\n"
     ]
    },
    {
     "name": "stdout",
     "output_type": "stream",
     "text": [
      "The test feature is normalized\n",
      "Validation Results\n",
      "mAP: 62.4%\n",
      "CMC curve, Rank-1  :83.6%\n",
      "CMC curve, Rank-2  :89.1%\n",
      "CMC curve, Rank-4  :92.8%\n",
      "CMC curve, Rank-6  :94.7%\n",
      "CMC curve, Rank-8  :95.8%\n",
      "CMC curve, Rank-10 :96.2%\n",
      "CMC curve, Rank-12 :96.3%\n",
      "CMC curve, Rank-14 :96.7%\n",
      "CMC curve, Rank-16 :97.1%\n",
      "CMC curve, Rank-18 :97.5%\n",
      "CMC curve, Rank-20 :97.7%\n",
      "CMC curve, Rank-22 :97.9%\n",
      "CMC curve, Rank-24 :98.0%\n",
      "CMC curve, Rank-26 :98.1%\n",
      "CMC curve, Rank-28 :98.3%\n",
      "CMC curve, Rank-30 :98.4%\n",
      "CMC curve, Rank-32 :98.5%\n"
     ]
    },
    {
     "name": "stderr",
     "output_type": "stream",
     "text": [
      "Train Epoch: 183 [259/259 (100%)] Loss: 0.057705: : 259it [01:11,  3.62it/s]"
     ]
    },
    {
     "name": "stdout",
     "output_type": "stream",
     "text": [
      "Enter inferencing\n",
      "Create evaluator\n"
     ]
    },
    {
     "name": "stderr",
     "output_type": "stream",
     "text": [
      "\n"
     ]
    },
    {
     "name": "stdout",
     "output_type": "stream",
     "text": [
      "The test feature is normalized\n",
      "Validation Results\n",
      "mAP: 62.3%\n",
      "CMC curve, Rank-1  :83.9%\n",
      "CMC curve, Rank-2  :89.1%\n",
      "CMC curve, Rank-4  :92.9%\n",
      "CMC curve, Rank-6  :94.7%\n",
      "CMC curve, Rank-8  :95.6%\n",
      "CMC curve, Rank-10 :96.1%\n",
      "CMC curve, Rank-12 :96.4%\n",
      "CMC curve, Rank-14 :96.8%\n",
      "CMC curve, Rank-16 :97.1%\n",
      "CMC curve, Rank-18 :97.4%\n",
      "CMC curve, Rank-20 :97.7%\n",
      "CMC curve, Rank-22 :97.9%\n",
      "CMC curve, Rank-24 :98.0%\n",
      "CMC curve, Rank-26 :98.1%\n",
      "CMC curve, Rank-28 :98.3%\n",
      "CMC curve, Rank-30 :98.4%\n",
      "CMC curve, Rank-32 :98.5%\n"
     ]
    },
    {
     "name": "stderr",
     "output_type": "stream",
     "text": [
      "Train Epoch: 184 [259/259 (100%)] Loss: 0.052932: : 259it [01:11,  3.62it/s]"
     ]
    },
    {
     "name": "stdout",
     "output_type": "stream",
     "text": [
      "Enter inferencing\n",
      "Create evaluator\n"
     ]
    },
    {
     "name": "stderr",
     "output_type": "stream",
     "text": [
      "\n"
     ]
    },
    {
     "name": "stdout",
     "output_type": "stream",
     "text": [
      "The test feature is normalized\n",
      "Validation Results\n",
      "mAP: 62.1%\n",
      "CMC curve, Rank-1  :83.6%\n",
      "CMC curve, Rank-2  :89.0%\n",
      "CMC curve, Rank-4  :92.9%\n",
      "CMC curve, Rank-6  :94.5%\n",
      "CMC curve, Rank-8  :95.6%\n",
      "CMC curve, Rank-10 :96.2%\n",
      "CMC curve, Rank-12 :96.5%\n",
      "CMC curve, Rank-14 :96.8%\n",
      "CMC curve, Rank-16 :97.2%\n",
      "CMC curve, Rank-18 :97.5%\n",
      "CMC curve, Rank-20 :97.7%\n",
      "CMC curve, Rank-22 :97.8%\n",
      "CMC curve, Rank-24 :97.9%\n",
      "CMC curve, Rank-26 :98.1%\n",
      "CMC curve, Rank-28 :98.3%\n",
      "CMC curve, Rank-30 :98.4%\n",
      "CMC curve, Rank-32 :98.5%\n"
     ]
    },
    {
     "name": "stderr",
     "output_type": "stream",
     "text": [
      "Train Epoch: 185 [259/259 (100%)] Loss: 0.055446: : 259it [01:11,  3.62it/s]"
     ]
    },
    {
     "name": "stdout",
     "output_type": "stream",
     "text": [
      "Enter inferencing\n",
      "Create evaluator\n"
     ]
    },
    {
     "name": "stderr",
     "output_type": "stream",
     "text": [
      "\n"
     ]
    },
    {
     "name": "stdout",
     "output_type": "stream",
     "text": [
      "The test feature is normalized\n",
      "Validation Results\n",
      "mAP: 62.3%\n",
      "CMC curve, Rank-1  :83.9%\n",
      "CMC curve, Rank-2  :88.9%\n",
      "CMC curve, Rank-4  :92.7%\n",
      "CMC curve, Rank-6  :94.5%\n",
      "CMC curve, Rank-8  :95.6%\n",
      "CMC curve, Rank-10 :96.2%\n",
      "CMC curve, Rank-12 :96.4%\n",
      "CMC curve, Rank-14 :96.9%\n",
      "CMC curve, Rank-16 :97.3%\n",
      "CMC curve, Rank-18 :97.5%\n",
      "CMC curve, Rank-20 :97.7%\n",
      "CMC curve, Rank-22 :97.9%\n",
      "CMC curve, Rank-24 :98.0%\n",
      "CMC curve, Rank-26 :98.2%\n",
      "CMC curve, Rank-28 :98.2%\n",
      "CMC curve, Rank-30 :98.4%\n",
      "CMC curve, Rank-32 :98.5%\n"
     ]
    },
    {
     "name": "stderr",
     "output_type": "stream",
     "text": [
      "Train Epoch: 186 [259/259 (100%)] Loss: 0.079680: : 259it [01:11,  3.62it/s]"
     ]
    },
    {
     "name": "stdout",
     "output_type": "stream",
     "text": [
      "Enter inferencing\n",
      "Create evaluator\n"
     ]
    },
    {
     "name": "stderr",
     "output_type": "stream",
     "text": [
      "\n"
     ]
    },
    {
     "name": "stdout",
     "output_type": "stream",
     "text": [
      "The test feature is normalized\n",
      "Validation Results\n",
      "mAP: 62.4%\n",
      "CMC curve, Rank-1  :83.7%\n",
      "CMC curve, Rank-2  :89.0%\n",
      "CMC curve, Rank-4  :92.8%\n",
      "CMC curve, Rank-6  :94.7%\n",
      "CMC curve, Rank-8  :95.6%\n",
      "CMC curve, Rank-10 :96.1%\n",
      "CMC curve, Rank-12 :96.3%\n",
      "CMC curve, Rank-14 :96.8%\n",
      "CMC curve, Rank-16 :97.3%\n",
      "CMC curve, Rank-18 :97.7%\n",
      "CMC curve, Rank-20 :97.8%\n",
      "CMC curve, Rank-22 :97.9%\n",
      "CMC curve, Rank-24 :98.1%\n",
      "CMC curve, Rank-26 :98.2%\n",
      "CMC curve, Rank-28 :98.3%\n",
      "CMC curve, Rank-30 :98.3%\n",
      "CMC curve, Rank-32 :98.5%\n"
     ]
    },
    {
     "name": "stderr",
     "output_type": "stream",
     "text": [
      "Train Epoch: 187 [259/259 (100%)] Loss: 0.039365: : 259it [01:11,  3.62it/s]"
     ]
    },
    {
     "name": "stdout",
     "output_type": "stream",
     "text": [
      "Enter inferencing\n",
      "Create evaluator\n"
     ]
    },
    {
     "name": "stderr",
     "output_type": "stream",
     "text": [
      "\n"
     ]
    },
    {
     "name": "stdout",
     "output_type": "stream",
     "text": [
      "The test feature is normalized\n",
      "Validation Results\n",
      "mAP: 62.4%\n",
      "CMC curve, Rank-1  :83.7%\n",
      "CMC curve, Rank-2  :89.1%\n",
      "CMC curve, Rank-4  :92.8%\n",
      "CMC curve, Rank-6  :94.7%\n",
      "CMC curve, Rank-8  :95.8%\n",
      "CMC curve, Rank-10 :96.1%\n",
      "CMC curve, Rank-12 :96.5%\n",
      "CMC curve, Rank-14 :96.8%\n",
      "CMC curve, Rank-16 :97.2%\n",
      "CMC curve, Rank-18 :97.6%\n",
      "CMC curve, Rank-20 :97.8%\n",
      "CMC curve, Rank-22 :98.0%\n",
      "CMC curve, Rank-24 :98.0%\n",
      "CMC curve, Rank-26 :98.2%\n",
      "CMC curve, Rank-28 :98.3%\n",
      "CMC curve, Rank-30 :98.4%\n",
      "CMC curve, Rank-32 :98.4%\n"
     ]
    },
    {
     "name": "stderr",
     "output_type": "stream",
     "text": [
      "Train Epoch: 188 [259/259 (100%)] Loss: 0.063735: : 259it [01:11,  3.62it/s]"
     ]
    },
    {
     "name": "stdout",
     "output_type": "stream",
     "text": [
      "Enter inferencing\n",
      "Create evaluator\n"
     ]
    },
    {
     "name": "stderr",
     "output_type": "stream",
     "text": [
      "\n"
     ]
    },
    {
     "name": "stdout",
     "output_type": "stream",
     "text": [
      "The test feature is normalized\n",
      "Validation Results\n",
      "mAP: 62.3%\n",
      "CMC curve, Rank-1  :83.8%\n",
      "CMC curve, Rank-2  :89.0%\n",
      "CMC curve, Rank-4  :92.8%\n",
      "CMC curve, Rank-6  :94.5%\n",
      "CMC curve, Rank-8  :95.6%\n",
      "CMC curve, Rank-10 :96.1%\n",
      "CMC curve, Rank-12 :96.5%\n",
      "CMC curve, Rank-14 :96.8%\n",
      "CMC curve, Rank-16 :97.1%\n",
      "CMC curve, Rank-18 :97.5%\n",
      "CMC curve, Rank-20 :97.8%\n",
      "CMC curve, Rank-22 :97.9%\n",
      "CMC curve, Rank-24 :98.1%\n",
      "CMC curve, Rank-26 :98.2%\n",
      "CMC curve, Rank-28 :98.3%\n",
      "CMC curve, Rank-30 :98.4%\n",
      "CMC curve, Rank-32 :98.4%\n"
     ]
    },
    {
     "name": "stderr",
     "output_type": "stream",
     "text": [
      "Train Epoch: 189 [259/259 (100%)] Loss: 0.087035: : 259it [01:11,  3.62it/s]"
     ]
    },
    {
     "name": "stdout",
     "output_type": "stream",
     "text": [
      "Enter inferencing\n",
      "Create evaluator\n"
     ]
    },
    {
     "name": "stderr",
     "output_type": "stream",
     "text": [
      "\n"
     ]
    },
    {
     "name": "stdout",
     "output_type": "stream",
     "text": [
      "The test feature is normalized\n",
      "Validation Results\n",
      "mAP: 62.4%\n",
      "CMC curve, Rank-1  :84.1%\n",
      "CMC curve, Rank-2  :89.1%\n",
      "CMC curve, Rank-4  :92.8%\n",
      "CMC curve, Rank-6  :94.6%\n",
      "CMC curve, Rank-8  :95.5%\n",
      "CMC curve, Rank-10 :96.0%\n",
      "CMC curve, Rank-12 :96.3%\n",
      "CMC curve, Rank-14 :96.9%\n",
      "CMC curve, Rank-16 :97.3%\n",
      "CMC curve, Rank-18 :97.6%\n",
      "CMC curve, Rank-20 :97.8%\n",
      "CMC curve, Rank-22 :98.0%\n",
      "CMC curve, Rank-24 :98.0%\n",
      "CMC curve, Rank-26 :98.2%\n",
      "CMC curve, Rank-28 :98.3%\n",
      "CMC curve, Rank-30 :98.4%\n",
      "CMC curve, Rank-32 :98.4%\n"
     ]
    },
    {
     "name": "stderr",
     "output_type": "stream",
     "text": [
      "Train Epoch: 190 [259/259 (100%)] Loss: 0.047473: : 259it [01:11,  3.62it/s]"
     ]
    },
    {
     "name": "stdout",
     "output_type": "stream",
     "text": [
      "Enter inferencing\n",
      "Create evaluator\n"
     ]
    },
    {
     "name": "stderr",
     "output_type": "stream",
     "text": [
      "\n"
     ]
    },
    {
     "name": "stdout",
     "output_type": "stream",
     "text": [
      "The test feature is normalized\n",
      "Validation Results\n",
      "mAP: 62.3%\n",
      "CMC curve, Rank-1  :83.8%\n",
      "CMC curve, Rank-2  :89.2%\n",
      "CMC curve, Rank-4  :92.7%\n",
      "CMC curve, Rank-6  :94.7%\n",
      "CMC curve, Rank-8  :95.8%\n",
      "CMC curve, Rank-10 :96.2%\n",
      "CMC curve, Rank-12 :96.4%\n",
      "CMC curve, Rank-14 :96.7%\n",
      "CMC curve, Rank-16 :97.3%\n",
      "CMC curve, Rank-18 :97.5%\n",
      "CMC curve, Rank-20 :97.7%\n",
      "CMC curve, Rank-22 :97.9%\n",
      "CMC curve, Rank-24 :98.0%\n",
      "CMC curve, Rank-26 :98.1%\n",
      "CMC curve, Rank-28 :98.2%\n",
      "CMC curve, Rank-30 :98.3%\n",
      "CMC curve, Rank-32 :98.4%\n"
     ]
    },
    {
     "name": "stderr",
     "output_type": "stream",
     "text": [
      "Train Epoch: 191 [259/259 (100%)] Loss: 0.046602: : 259it [01:11,  3.62it/s]"
     ]
    },
    {
     "name": "stdout",
     "output_type": "stream",
     "text": [
      "Enter inferencing\n",
      "Create evaluator\n"
     ]
    },
    {
     "name": "stderr",
     "output_type": "stream",
     "text": [
      "\n"
     ]
    },
    {
     "name": "stdout",
     "output_type": "stream",
     "text": [
      "The test feature is normalized\n",
      "Validation Results\n",
      "mAP: 62.4%\n",
      "CMC curve, Rank-1  :83.8%\n",
      "CMC curve, Rank-2  :88.9%\n",
      "CMC curve, Rank-4  :92.9%\n",
      "CMC curve, Rank-6  :94.8%\n",
      "CMC curve, Rank-8  :95.8%\n",
      "CMC curve, Rank-10 :96.3%\n",
      "CMC curve, Rank-12 :96.4%\n",
      "CMC curve, Rank-14 :96.8%\n",
      "CMC curve, Rank-16 :97.1%\n",
      "CMC curve, Rank-18 :97.5%\n",
      "CMC curve, Rank-20 :97.7%\n",
      "CMC curve, Rank-22 :97.9%\n",
      "CMC curve, Rank-24 :98.1%\n",
      "CMC curve, Rank-26 :98.1%\n",
      "CMC curve, Rank-28 :98.2%\n",
      "CMC curve, Rank-30 :98.4%\n",
      "CMC curve, Rank-32 :98.6%\n"
     ]
    },
    {
     "name": "stderr",
     "output_type": "stream",
     "text": [
      "Train Epoch: 192 [259/259 (100%)] Loss: 0.041913: : 259it [01:11,  3.62it/s]"
     ]
    },
    {
     "name": "stdout",
     "output_type": "stream",
     "text": [
      "Enter inferencing\n",
      "Create evaluator\n"
     ]
    },
    {
     "name": "stderr",
     "output_type": "stream",
     "text": [
      "\n"
     ]
    },
    {
     "name": "stdout",
     "output_type": "stream",
     "text": [
      "The test feature is normalized\n",
      "Validation Results\n",
      "mAP: 62.3%\n",
      "CMC curve, Rank-1  :83.6%\n",
      "CMC curve, Rank-2  :89.2%\n",
      "CMC curve, Rank-4  :92.8%\n",
      "CMC curve, Rank-6  :94.6%\n",
      "CMC curve, Rank-8  :95.7%\n",
      "CMC curve, Rank-10 :96.2%\n",
      "CMC curve, Rank-12 :96.5%\n",
      "CMC curve, Rank-14 :97.0%\n",
      "CMC curve, Rank-16 :97.4%\n",
      "CMC curve, Rank-18 :97.7%\n",
      "CMC curve, Rank-20 :97.8%\n",
      "CMC curve, Rank-22 :98.0%\n",
      "CMC curve, Rank-24 :98.1%\n",
      "CMC curve, Rank-26 :98.1%\n",
      "CMC curve, Rank-28 :98.3%\n",
      "CMC curve, Rank-30 :98.3%\n",
      "CMC curve, Rank-32 :98.4%\n"
     ]
    },
    {
     "name": "stderr",
     "output_type": "stream",
     "text": [
      "Train Epoch: 193 [259/259 (100%)] Loss: 0.032495: : 259it [01:11,  3.63it/s]"
     ]
    },
    {
     "name": "stdout",
     "output_type": "stream",
     "text": [
      "Enter inferencing\n",
      "Create evaluator\n"
     ]
    },
    {
     "name": "stderr",
     "output_type": "stream",
     "text": [
      "\n"
     ]
    },
    {
     "name": "stdout",
     "output_type": "stream",
     "text": [
      "The test feature is normalized\n",
      "Validation Results\n",
      "mAP: 62.2%\n",
      "CMC curve, Rank-1  :83.5%\n",
      "CMC curve, Rank-2  :89.0%\n",
      "CMC curve, Rank-4  :92.8%\n",
      "CMC curve, Rank-6  :94.7%\n",
      "CMC curve, Rank-8  :95.6%\n",
      "CMC curve, Rank-10 :96.3%\n",
      "CMC curve, Rank-12 :96.6%\n",
      "CMC curve, Rank-14 :96.9%\n",
      "CMC curve, Rank-16 :97.1%\n",
      "CMC curve, Rank-18 :97.5%\n",
      "CMC curve, Rank-20 :97.7%\n",
      "CMC curve, Rank-22 :97.9%\n",
      "CMC curve, Rank-24 :98.0%\n",
      "CMC curve, Rank-26 :98.2%\n",
      "CMC curve, Rank-28 :98.2%\n",
      "CMC curve, Rank-30 :98.3%\n",
      "CMC curve, Rank-32 :98.4%\n"
     ]
    },
    {
     "name": "stderr",
     "output_type": "stream",
     "text": [
      "Train Epoch: 194 [259/259 (100%)] Loss: 0.038468: : 259it [01:11,  3.62it/s]"
     ]
    },
    {
     "name": "stdout",
     "output_type": "stream",
     "text": [
      "Enter inferencing\n",
      "Create evaluator\n"
     ]
    },
    {
     "name": "stderr",
     "output_type": "stream",
     "text": [
      "\n"
     ]
    },
    {
     "name": "stdout",
     "output_type": "stream",
     "text": [
      "The test feature is normalized\n",
      "Validation Results\n",
      "mAP: 62.3%\n",
      "CMC curve, Rank-1  :83.8%\n",
      "CMC curve, Rank-2  :89.2%\n",
      "CMC curve, Rank-4  :92.7%\n",
      "CMC curve, Rank-6  :94.7%\n",
      "CMC curve, Rank-8  :95.5%\n",
      "CMC curve, Rank-10 :96.1%\n",
      "CMC curve, Rank-12 :96.5%\n",
      "CMC curve, Rank-14 :96.9%\n",
      "CMC curve, Rank-16 :97.2%\n",
      "CMC curve, Rank-18 :97.5%\n",
      "CMC curve, Rank-20 :97.7%\n",
      "CMC curve, Rank-22 :97.9%\n",
      "CMC curve, Rank-24 :98.0%\n",
      "CMC curve, Rank-26 :98.1%\n",
      "CMC curve, Rank-28 :98.2%\n",
      "CMC curve, Rank-30 :98.2%\n",
      "CMC curve, Rank-32 :98.4%\n"
     ]
    },
    {
     "name": "stderr",
     "output_type": "stream",
     "text": [
      "Train Epoch: 195 [259/259 (100%)] Loss: 0.047783: : 259it [01:11,  3.62it/s]"
     ]
    },
    {
     "name": "stdout",
     "output_type": "stream",
     "text": [
      "Enter inferencing\n",
      "Create evaluator\n"
     ]
    },
    {
     "name": "stderr",
     "output_type": "stream",
     "text": [
      "\n"
     ]
    },
    {
     "name": "stdout",
     "output_type": "stream",
     "text": [
      "The test feature is normalized\n",
      "Validation Results\n",
      "mAP: 62.3%\n",
      "CMC curve, Rank-1  :83.8%\n",
      "CMC curve, Rank-2  :89.0%\n",
      "CMC curve, Rank-4  :92.9%\n",
      "CMC curve, Rank-6  :94.6%\n",
      "CMC curve, Rank-8  :95.7%\n",
      "CMC curve, Rank-10 :96.0%\n",
      "CMC curve, Rank-12 :96.5%\n",
      "CMC curve, Rank-14 :96.8%\n",
      "CMC curve, Rank-16 :97.2%\n",
      "CMC curve, Rank-18 :97.5%\n",
      "CMC curve, Rank-20 :97.7%\n",
      "CMC curve, Rank-22 :98.0%\n",
      "CMC curve, Rank-24 :98.0%\n",
      "CMC curve, Rank-26 :98.2%\n",
      "CMC curve, Rank-28 :98.2%\n",
      "CMC curve, Rank-30 :98.3%\n",
      "CMC curve, Rank-32 :98.5%\n"
     ]
    },
    {
     "name": "stderr",
     "output_type": "stream",
     "text": [
      "Train Epoch: 196 [259/259 (100%)] Loss: 0.071739: : 259it [01:11,  3.63it/s]"
     ]
    },
    {
     "name": "stdout",
     "output_type": "stream",
     "text": [
      "Enter inferencing\n",
      "Create evaluator\n"
     ]
    },
    {
     "name": "stderr",
     "output_type": "stream",
     "text": [
      "\n"
     ]
    },
    {
     "name": "stdout",
     "output_type": "stream",
     "text": [
      "The test feature is normalized\n",
      "Validation Results\n",
      "mAP: 62.3%\n",
      "CMC curve, Rank-1  :83.6%\n",
      "CMC curve, Rank-2  :89.3%\n",
      "CMC curve, Rank-4  :92.8%\n",
      "CMC curve, Rank-6  :94.5%\n",
      "CMC curve, Rank-8  :95.6%\n",
      "CMC curve, Rank-10 :96.1%\n",
      "CMC curve, Rank-12 :96.5%\n",
      "CMC curve, Rank-14 :96.7%\n",
      "CMC curve, Rank-16 :97.2%\n",
      "CMC curve, Rank-18 :97.7%\n",
      "CMC curve, Rank-20 :97.8%\n",
      "CMC curve, Rank-22 :97.8%\n",
      "CMC curve, Rank-24 :98.0%\n",
      "CMC curve, Rank-26 :98.2%\n",
      "CMC curve, Rank-28 :98.3%\n",
      "CMC curve, Rank-30 :98.4%\n",
      "CMC curve, Rank-32 :98.5%\n"
     ]
    },
    {
     "name": "stderr",
     "output_type": "stream",
     "text": [
      "Train Epoch: 197 [259/259 (100%)] Loss: 0.048501: : 259it [01:11,  3.62it/s]"
     ]
    },
    {
     "name": "stdout",
     "output_type": "stream",
     "text": [
      "Enter inferencing\n",
      "Create evaluator\n"
     ]
    },
    {
     "name": "stderr",
     "output_type": "stream",
     "text": [
      "\n"
     ]
    },
    {
     "name": "stdout",
     "output_type": "stream",
     "text": [
      "The test feature is normalized\n",
      "Validation Results\n",
      "mAP: 62.2%\n",
      "CMC curve, Rank-1  :83.8%\n",
      "CMC curve, Rank-2  :88.9%\n",
      "CMC curve, Rank-4  :92.7%\n",
      "CMC curve, Rank-6  :94.7%\n",
      "CMC curve, Rank-8  :95.8%\n",
      "CMC curve, Rank-10 :96.3%\n",
      "CMC curve, Rank-12 :96.6%\n",
      "CMC curve, Rank-14 :96.8%\n",
      "CMC curve, Rank-16 :97.2%\n",
      "CMC curve, Rank-18 :97.5%\n",
      "CMC curve, Rank-20 :97.9%\n",
      "CMC curve, Rank-22 :98.0%\n",
      "CMC curve, Rank-24 :98.2%\n",
      "CMC curve, Rank-26 :98.2%\n",
      "CMC curve, Rank-28 :98.3%\n",
      "CMC curve, Rank-30 :98.4%\n",
      "CMC curve, Rank-32 :98.4%\n"
     ]
    },
    {
     "name": "stderr",
     "output_type": "stream",
     "text": [
      "Train Epoch: 198 [259/259 (100%)] Loss: 0.084116: : 259it [01:11,  3.62it/s]"
     ]
    },
    {
     "name": "stdout",
     "output_type": "stream",
     "text": [
      "Enter inferencing\n",
      "Create evaluator\n"
     ]
    },
    {
     "name": "stderr",
     "output_type": "stream",
     "text": [
      "\n"
     ]
    },
    {
     "name": "stdout",
     "output_type": "stream",
     "text": [
      "The test feature is normalized\n",
      "Validation Results\n",
      "mAP: 62.3%\n",
      "CMC curve, Rank-1  :83.9%\n",
      "CMC curve, Rank-2  :89.0%\n",
      "CMC curve, Rank-4  :93.0%\n",
      "CMC curve, Rank-6  :94.7%\n",
      "CMC curve, Rank-8  :95.7%\n",
      "CMC curve, Rank-10 :96.1%\n",
      "CMC curve, Rank-12 :96.3%\n",
      "CMC curve, Rank-14 :96.9%\n",
      "CMC curve, Rank-16 :97.1%\n",
      "CMC curve, Rank-18 :97.6%\n",
      "CMC curve, Rank-20 :97.9%\n",
      "CMC curve, Rank-22 :98.0%\n",
      "CMC curve, Rank-24 :98.1%\n",
      "CMC curve, Rank-26 :98.2%\n",
      "CMC curve, Rank-28 :98.3%\n",
      "CMC curve, Rank-30 :98.4%\n",
      "CMC curve, Rank-32 :98.4%\n"
     ]
    },
    {
     "name": "stderr",
     "output_type": "stream",
     "text": [
      "Train Epoch: 199 [259/259 (100%)] Loss: 0.032139: : 259it [01:11,  3.62it/s]"
     ]
    },
    {
     "name": "stdout",
     "output_type": "stream",
     "text": [
      "Enter inferencing\n",
      "Create evaluator\n"
     ]
    },
    {
     "name": "stderr",
     "output_type": "stream",
     "text": [
      "\n"
     ]
    },
    {
     "name": "stdout",
     "output_type": "stream",
     "text": [
      "The test feature is normalized\n",
      "Validation Results\n",
      "mAP: 62.3%\n",
      "CMC curve, Rank-1  :83.8%\n",
      "CMC curve, Rank-2  :89.1%\n",
      "CMC curve, Rank-4  :92.8%\n",
      "CMC curve, Rank-6  :94.8%\n",
      "CMC curve, Rank-8  :95.8%\n",
      "CMC curve, Rank-10 :96.2%\n",
      "CMC curve, Rank-12 :96.4%\n",
      "CMC curve, Rank-14 :96.8%\n",
      "CMC curve, Rank-16 :97.2%\n",
      "CMC curve, Rank-18 :97.5%\n",
      "CMC curve, Rank-20 :97.7%\n",
      "CMC curve, Rank-22 :97.9%\n",
      "CMC curve, Rank-24 :98.0%\n",
      "CMC curve, Rank-26 :98.1%\n",
      "CMC curve, Rank-28 :98.2%\n",
      "CMC curve, Rank-30 :98.3%\n",
      "CMC curve, Rank-32 :98.5%\n"
     ]
    },
    {
     "name": "stderr",
     "output_type": "stream",
     "text": [
      "Train Epoch: 200 [259/259 (100%)] Loss: 0.029562: : 259it [01:11,  3.60it/s]"
     ]
    },
    {
     "name": "stdout",
     "output_type": "stream",
     "text": [
      "Enter inferencing\n",
      "Create evaluator\n"
     ]
    },
    {
     "name": "stderr",
     "output_type": "stream",
     "text": [
      "\n"
     ]
    },
    {
     "name": "stdout",
     "output_type": "stream",
     "text": [
      "The test feature is normalized\n",
      "Validation Results\n",
      "mAP: 62.3%\n",
      "CMC curve, Rank-1  :83.7%\n",
      "CMC curve, Rank-2  :89.1%\n",
      "CMC curve, Rank-4  :92.8%\n",
      "CMC curve, Rank-6  :94.6%\n",
      "CMC curve, Rank-8  :95.6%\n",
      "CMC curve, Rank-10 :96.1%\n",
      "CMC curve, Rank-12 :96.4%\n",
      "CMC curve, Rank-14 :96.8%\n",
      "CMC curve, Rank-16 :97.2%\n",
      "CMC curve, Rank-18 :97.4%\n",
      "CMC curve, Rank-20 :97.7%\n",
      "CMC curve, Rank-22 :97.9%\n",
      "CMC curve, Rank-24 :98.0%\n",
      "CMC curve, Rank-26 :98.2%\n",
      "CMC curve, Rank-28 :98.3%\n",
      "CMC curve, Rank-30 :98.4%\n",
      "CMC curve, Rank-32 :98.5%\n"
     ]
    },
    {
     "name": "stderr",
     "output_type": "stream",
     "text": [
      "Train Epoch: 201 [259/259 (100%)] Loss: 0.048499: : 259it [01:12,  3.58it/s]"
     ]
    },
    {
     "name": "stdout",
     "output_type": "stream",
     "text": [
      "Enter inferencing\n",
      "Create evaluator\n"
     ]
    },
    {
     "name": "stderr",
     "output_type": "stream",
     "text": [
      "\n"
     ]
    },
    {
     "name": "stdout",
     "output_type": "stream",
     "text": [
      "The test feature is normalized\n",
      "Validation Results\n",
      "mAP: 62.2%\n",
      "CMC curve, Rank-1  :83.6%\n",
      "CMC curve, Rank-2  :89.0%\n",
      "CMC curve, Rank-4  :92.7%\n",
      "CMC curve, Rank-6  :94.9%\n",
      "CMC curve, Rank-8  :95.6%\n",
      "CMC curve, Rank-10 :96.1%\n",
      "CMC curve, Rank-12 :96.4%\n",
      "CMC curve, Rank-14 :96.7%\n",
      "CMC curve, Rank-16 :97.1%\n",
      "CMC curve, Rank-18 :97.4%\n",
      "CMC curve, Rank-20 :97.7%\n",
      "CMC curve, Rank-22 :97.9%\n",
      "CMC curve, Rank-24 :98.0%\n",
      "CMC curve, Rank-26 :98.2%\n",
      "CMC curve, Rank-28 :98.3%\n",
      "CMC curve, Rank-30 :98.4%\n",
      "CMC curve, Rank-32 :98.5%\n"
     ]
    },
    {
     "name": "stderr",
     "output_type": "stream",
     "text": [
      "Train Epoch: 202 [259/259 (100%)] Loss: 0.125518: : 259it [01:12,  3.58it/s]"
     ]
    },
    {
     "name": "stdout",
     "output_type": "stream",
     "text": [
      "Enter inferencing\n",
      "Create evaluator\n"
     ]
    },
    {
     "name": "stderr",
     "output_type": "stream",
     "text": [
      "\n"
     ]
    },
    {
     "name": "stdout",
     "output_type": "stream",
     "text": [
      "The test feature is normalized\n",
      "Validation Results\n",
      "mAP: 62.1%\n",
      "CMC curve, Rank-1  :83.7%\n",
      "CMC curve, Rank-2  :88.9%\n",
      "CMC curve, Rank-4  :92.8%\n",
      "CMC curve, Rank-6  :94.6%\n",
      "CMC curve, Rank-8  :95.6%\n",
      "CMC curve, Rank-10 :96.1%\n",
      "CMC curve, Rank-12 :96.5%\n",
      "CMC curve, Rank-14 :96.8%\n",
      "CMC curve, Rank-16 :97.2%\n",
      "CMC curve, Rank-18 :97.5%\n",
      "CMC curve, Rank-20 :97.8%\n",
      "CMC curve, Rank-22 :98.0%\n",
      "CMC curve, Rank-24 :98.0%\n",
      "CMC curve, Rank-26 :98.2%\n",
      "CMC curve, Rank-28 :98.3%\n",
      "CMC curve, Rank-30 :98.4%\n",
      "CMC curve, Rank-32 :98.5%\n"
     ]
    },
    {
     "name": "stderr",
     "output_type": "stream",
     "text": [
      "Train Epoch: 203 [259/259 (100%)] Loss: 0.032445: : 259it [01:12,  3.59it/s]"
     ]
    },
    {
     "name": "stdout",
     "output_type": "stream",
     "text": [
      "Enter inferencing\n",
      "Create evaluator\n"
     ]
    },
    {
     "name": "stderr",
     "output_type": "stream",
     "text": [
      "\n"
     ]
    },
    {
     "name": "stdout",
     "output_type": "stream",
     "text": [
      "The test feature is normalized\n",
      "Validation Results\n",
      "mAP: 62.3%\n",
      "CMC curve, Rank-1  :83.6%\n",
      "CMC curve, Rank-2  :89.1%\n",
      "CMC curve, Rank-4  :92.7%\n",
      "CMC curve, Rank-6  :94.6%\n",
      "CMC curve, Rank-8  :95.6%\n",
      "CMC curve, Rank-10 :96.2%\n",
      "CMC curve, Rank-12 :96.6%\n",
      "CMC curve, Rank-14 :96.9%\n",
      "CMC curve, Rank-16 :97.3%\n",
      "CMC curve, Rank-18 :97.7%\n",
      "CMC curve, Rank-20 :97.8%\n",
      "CMC curve, Rank-22 :98.0%\n",
      "CMC curve, Rank-24 :98.1%\n",
      "CMC curve, Rank-26 :98.2%\n",
      "CMC curve, Rank-28 :98.3%\n",
      "CMC curve, Rank-30 :98.3%\n",
      "CMC curve, Rank-32 :98.5%\n"
     ]
    },
    {
     "name": "stderr",
     "output_type": "stream",
     "text": [
      "Train Epoch: 204 [259/259 (100%)] Loss: 0.042087: : 259it [01:12,  3.59it/s]"
     ]
    },
    {
     "name": "stdout",
     "output_type": "stream",
     "text": [
      "Enter inferencing\n",
      "Create evaluator\n"
     ]
    },
    {
     "name": "stderr",
     "output_type": "stream",
     "text": [
      "\n"
     ]
    },
    {
     "name": "stdout",
     "output_type": "stream",
     "text": [
      "The test feature is normalized\n",
      "Validation Results\n",
      "mAP: 62.4%\n",
      "CMC curve, Rank-1  :84.0%\n",
      "CMC curve, Rank-2  :89.2%\n",
      "CMC curve, Rank-4  :92.8%\n",
      "CMC curve, Rank-6  :94.6%\n",
      "CMC curve, Rank-8  :95.6%\n",
      "CMC curve, Rank-10 :96.1%\n",
      "CMC curve, Rank-12 :96.6%\n",
      "CMC curve, Rank-14 :96.9%\n",
      "CMC curve, Rank-16 :97.1%\n",
      "CMC curve, Rank-18 :97.5%\n",
      "CMC curve, Rank-20 :97.8%\n",
      "CMC curve, Rank-22 :97.9%\n",
      "CMC curve, Rank-24 :98.0%\n",
      "CMC curve, Rank-26 :98.2%\n",
      "CMC curve, Rank-28 :98.3%\n",
      "CMC curve, Rank-30 :98.4%\n",
      "CMC curve, Rank-32 :98.4%\n"
     ]
    },
    {
     "name": "stderr",
     "output_type": "stream",
     "text": [
      "Train Epoch: 205 [259/259 (100%)] Loss: 0.031506: : 259it [01:12,  3.59it/s]"
     ]
    },
    {
     "name": "stdout",
     "output_type": "stream",
     "text": [
      "Enter inferencing\n",
      "Create evaluator\n"
     ]
    },
    {
     "name": "stderr",
     "output_type": "stream",
     "text": [
      "\n"
     ]
    },
    {
     "name": "stdout",
     "output_type": "stream",
     "text": [
      "The test feature is normalized\n",
      "Validation Results\n",
      "mAP: 62.4%\n",
      "CMC curve, Rank-1  :83.9%\n",
      "CMC curve, Rank-2  :88.9%\n",
      "CMC curve, Rank-4  :92.9%\n",
      "CMC curve, Rank-6  :94.8%\n",
      "CMC curve, Rank-8  :95.8%\n",
      "CMC curve, Rank-10 :96.2%\n",
      "CMC curve, Rank-12 :96.5%\n",
      "CMC curve, Rank-14 :96.8%\n",
      "CMC curve, Rank-16 :97.4%\n",
      "CMC curve, Rank-18 :97.6%\n",
      "CMC curve, Rank-20 :97.8%\n",
      "CMC curve, Rank-22 :98.0%\n",
      "CMC curve, Rank-24 :98.1%\n",
      "CMC curve, Rank-26 :98.2%\n",
      "CMC curve, Rank-28 :98.3%\n",
      "CMC curve, Rank-30 :98.5%\n",
      "CMC curve, Rank-32 :98.5%\n"
     ]
    },
    {
     "name": "stderr",
     "output_type": "stream",
     "text": [
      "Train Epoch: 206 [259/259 (100%)] Loss: 0.030050: : 259it [01:12,  3.59it/s]"
     ]
    },
    {
     "name": "stdout",
     "output_type": "stream",
     "text": [
      "Enter inferencing\n",
      "Create evaluator\n"
     ]
    },
    {
     "name": "stderr",
     "output_type": "stream",
     "text": [
      "\n"
     ]
    },
    {
     "name": "stdout",
     "output_type": "stream",
     "text": [
      "The test feature is normalized\n",
      "Validation Results\n",
      "mAP: 62.3%\n",
      "CMC curve, Rank-1  :83.8%\n",
      "CMC curve, Rank-2  :89.0%\n",
      "CMC curve, Rank-4  :92.8%\n",
      "CMC curve, Rank-6  :94.7%\n",
      "CMC curve, Rank-8  :95.8%\n",
      "CMC curve, Rank-10 :96.1%\n",
      "CMC curve, Rank-12 :96.5%\n",
      "CMC curve, Rank-14 :96.8%\n",
      "CMC curve, Rank-16 :97.3%\n",
      "CMC curve, Rank-18 :97.6%\n",
      "CMC curve, Rank-20 :97.7%\n",
      "CMC curve, Rank-22 :97.9%\n",
      "CMC curve, Rank-24 :97.9%\n",
      "CMC curve, Rank-26 :98.1%\n",
      "CMC curve, Rank-28 :98.2%\n",
      "CMC curve, Rank-30 :98.3%\n",
      "CMC curve, Rank-32 :98.3%\n"
     ]
    },
    {
     "name": "stderr",
     "output_type": "stream",
     "text": [
      "Train Epoch: 207 [259/259 (100%)] Loss: 0.057585: : 259it [01:12,  3.59it/s]"
     ]
    },
    {
     "name": "stdout",
     "output_type": "stream",
     "text": [
      "Enter inferencing\n",
      "Create evaluator\n"
     ]
    },
    {
     "name": "stderr",
     "output_type": "stream",
     "text": [
      "\n"
     ]
    },
    {
     "name": "stdout",
     "output_type": "stream",
     "text": [
      "The test feature is normalized\n",
      "Validation Results\n",
      "mAP: 62.2%\n",
      "CMC curve, Rank-1  :83.7%\n",
      "CMC curve, Rank-2  :88.9%\n",
      "CMC curve, Rank-4  :92.6%\n",
      "CMC curve, Rank-6  :94.7%\n",
      "CMC curve, Rank-8  :95.6%\n",
      "CMC curve, Rank-10 :96.1%\n",
      "CMC curve, Rank-12 :96.4%\n",
      "CMC curve, Rank-14 :96.7%\n",
      "CMC curve, Rank-16 :97.3%\n",
      "CMC curve, Rank-18 :97.5%\n",
      "CMC curve, Rank-20 :97.9%\n",
      "CMC curve, Rank-22 :98.0%\n",
      "CMC curve, Rank-24 :98.1%\n",
      "CMC curve, Rank-26 :98.2%\n",
      "CMC curve, Rank-28 :98.3%\n",
      "CMC curve, Rank-30 :98.3%\n",
      "CMC curve, Rank-32 :98.5%\n"
     ]
    },
    {
     "name": "stderr",
     "output_type": "stream",
     "text": [
      "Train Epoch: 208 [259/259 (100%)] Loss: 0.045192: : 259it [01:12,  3.59it/s]"
     ]
    },
    {
     "name": "stdout",
     "output_type": "stream",
     "text": [
      "Enter inferencing\n",
      "Create evaluator\n"
     ]
    },
    {
     "name": "stderr",
     "output_type": "stream",
     "text": [
      "\n"
     ]
    },
    {
     "name": "stdout",
     "output_type": "stream",
     "text": [
      "The test feature is normalized\n",
      "Validation Results\n",
      "mAP: 62.4%\n",
      "CMC curve, Rank-1  :83.8%\n",
      "CMC curve, Rank-2  :89.3%\n",
      "CMC curve, Rank-4  :92.8%\n",
      "CMC curve, Rank-6  :94.7%\n",
      "CMC curve, Rank-8  :95.6%\n",
      "CMC curve, Rank-10 :96.1%\n",
      "CMC curve, Rank-12 :96.5%\n",
      "CMC curve, Rank-14 :96.9%\n",
      "CMC curve, Rank-16 :97.3%\n",
      "CMC curve, Rank-18 :97.5%\n",
      "CMC curve, Rank-20 :97.8%\n",
      "CMC curve, Rank-22 :98.0%\n",
      "CMC curve, Rank-24 :98.1%\n",
      "CMC curve, Rank-26 :98.3%\n",
      "CMC curve, Rank-28 :98.3%\n",
      "CMC curve, Rank-30 :98.4%\n",
      "CMC curve, Rank-32 :98.5%\n"
     ]
    },
    {
     "name": "stderr",
     "output_type": "stream",
     "text": [
      "Train Epoch: 209 [259/259 (100%)] Loss: 0.036708: : 259it [01:12,  3.55it/s]"
     ]
    },
    {
     "name": "stdout",
     "output_type": "stream",
     "text": [
      "Enter inferencing\n",
      "Create evaluator\n"
     ]
    },
    {
     "name": "stderr",
     "output_type": "stream",
     "text": [
      "\n"
     ]
    },
    {
     "name": "stdout",
     "output_type": "stream",
     "text": [
      "The test feature is normalized\n",
      "Validation Results\n",
      "mAP: 62.2%\n",
      "CMC curve, Rank-1  :83.5%\n",
      "CMC curve, Rank-2  :89.1%\n",
      "CMC curve, Rank-4  :92.7%\n",
      "CMC curve, Rank-6  :94.7%\n",
      "CMC curve, Rank-8  :95.6%\n",
      "CMC curve, Rank-10 :96.2%\n",
      "CMC curve, Rank-12 :96.5%\n",
      "CMC curve, Rank-14 :96.9%\n",
      "CMC curve, Rank-16 :97.3%\n",
      "CMC curve, Rank-18 :97.4%\n",
      "CMC curve, Rank-20 :97.7%\n",
      "CMC curve, Rank-22 :97.7%\n",
      "CMC curve, Rank-24 :97.9%\n",
      "CMC curve, Rank-26 :98.1%\n",
      "CMC curve, Rank-28 :98.3%\n",
      "CMC curve, Rank-30 :98.3%\n",
      "CMC curve, Rank-32 :98.5%\n"
     ]
    },
    {
     "name": "stderr",
     "output_type": "stream",
     "text": [
      "Train Epoch: 210 [259/259 (100%)] Loss: 0.064090: : 259it [01:19,  3.26it/s]"
     ]
    },
    {
     "name": "stdout",
     "output_type": "stream",
     "text": [
      "Enter inferencing\n",
      "Create evaluator\n"
     ]
    },
    {
     "name": "stderr",
     "output_type": "stream",
     "text": [
      "\n"
     ]
    },
    {
     "name": "stdout",
     "output_type": "stream",
     "text": [
      "The test feature is normalized\n",
      "Validation Results\n",
      "mAP: 62.4%\n",
      "CMC curve, Rank-1  :83.7%\n",
      "CMC curve, Rank-2  :89.3%\n",
      "CMC curve, Rank-4  :92.7%\n",
      "CMC curve, Rank-6  :94.6%\n",
      "CMC curve, Rank-8  :95.7%\n",
      "CMC curve, Rank-10 :96.1%\n",
      "CMC curve, Rank-12 :96.3%\n",
      "CMC curve, Rank-14 :96.7%\n",
      "CMC curve, Rank-16 :96.9%\n",
      "CMC curve, Rank-18 :97.5%\n",
      "CMC curve, Rank-20 :97.8%\n",
      "CMC curve, Rank-22 :97.9%\n",
      "CMC curve, Rank-24 :98.1%\n",
      "CMC curve, Rank-26 :98.2%\n",
      "CMC curve, Rank-28 :98.3%\n",
      "CMC curve, Rank-30 :98.4%\n",
      "CMC curve, Rank-32 :98.4%\n"
     ]
    },
    {
     "name": "stderr",
     "output_type": "stream",
     "text": [
      "Train Epoch: 211 [259/259 (100%)] Loss: 0.055276: : 259it [01:19,  3.25it/s]"
     ]
    },
    {
     "name": "stdout",
     "output_type": "stream",
     "text": [
      "Enter inferencing\n",
      "Create evaluator\n"
     ]
    },
    {
     "name": "stderr",
     "output_type": "stream",
     "text": [
      "\n"
     ]
    },
    {
     "name": "stdout",
     "output_type": "stream",
     "text": [
      "The test feature is normalized\n",
      "Validation Results\n",
      "mAP: 62.2%\n",
      "CMC curve, Rank-1  :83.6%\n",
      "CMC curve, Rank-2  :88.9%\n",
      "CMC curve, Rank-4  :92.7%\n",
      "CMC curve, Rank-6  :94.8%\n",
      "CMC curve, Rank-8  :95.7%\n",
      "CMC curve, Rank-10 :96.1%\n",
      "CMC curve, Rank-12 :96.5%\n",
      "CMC curve, Rank-14 :96.9%\n",
      "CMC curve, Rank-16 :97.2%\n",
      "CMC curve, Rank-18 :97.5%\n",
      "CMC curve, Rank-20 :97.7%\n",
      "CMC curve, Rank-22 :97.9%\n",
      "CMC curve, Rank-24 :98.0%\n",
      "CMC curve, Rank-26 :98.1%\n",
      "CMC curve, Rank-28 :98.2%\n",
      "CMC curve, Rank-30 :98.3%\n",
      "CMC curve, Rank-32 :98.4%\n"
     ]
    },
    {
     "name": "stderr",
     "output_type": "stream",
     "text": [
      "Train Epoch: 212 [259/259 (100%)] Loss: 0.042490: : 259it [01:19,  3.26it/s]"
     ]
    },
    {
     "name": "stdout",
     "output_type": "stream",
     "text": [
      "Enter inferencing\n",
      "Create evaluator\n"
     ]
    },
    {
     "name": "stderr",
     "output_type": "stream",
     "text": [
      "\n"
     ]
    },
    {
     "name": "stdout",
     "output_type": "stream",
     "text": [
      "The test feature is normalized\n",
      "Validation Results\n",
      "mAP: 62.3%\n",
      "CMC curve, Rank-1  :83.7%\n",
      "CMC curve, Rank-2  :89.1%\n",
      "CMC curve, Rank-4  :92.8%\n",
      "CMC curve, Rank-6  :94.6%\n",
      "CMC curve, Rank-8  :95.6%\n",
      "CMC curve, Rank-10 :96.1%\n",
      "CMC curve, Rank-12 :96.5%\n",
      "CMC curve, Rank-14 :96.9%\n",
      "CMC curve, Rank-16 :97.2%\n",
      "CMC curve, Rank-18 :97.5%\n",
      "CMC curve, Rank-20 :97.8%\n",
      "CMC curve, Rank-22 :97.9%\n",
      "CMC curve, Rank-24 :98.1%\n",
      "CMC curve, Rank-26 :98.2%\n",
      "CMC curve, Rank-28 :98.3%\n",
      "CMC curve, Rank-30 :98.4%\n",
      "CMC curve, Rank-32 :98.4%\n"
     ]
    },
    {
     "name": "stderr",
     "output_type": "stream",
     "text": [
      "Train Epoch: 213 [259/259 (100%)] Loss: 0.113810: : 259it [01:19,  3.26it/s]"
     ]
    },
    {
     "name": "stdout",
     "output_type": "stream",
     "text": [
      "Enter inferencing\n",
      "Create evaluator\n"
     ]
    },
    {
     "name": "stderr",
     "output_type": "stream",
     "text": [
      "\n"
     ]
    },
    {
     "name": "stdout",
     "output_type": "stream",
     "text": [
      "The test feature is normalized\n",
      "Validation Results\n",
      "mAP: 62.2%\n",
      "CMC curve, Rank-1  :83.8%\n",
      "CMC curve, Rank-2  :88.7%\n",
      "CMC curve, Rank-4  :92.8%\n",
      "CMC curve, Rank-6  :94.6%\n",
      "CMC curve, Rank-8  :95.8%\n",
      "CMC curve, Rank-10 :96.1%\n",
      "CMC curve, Rank-12 :96.6%\n",
      "CMC curve, Rank-14 :96.8%\n",
      "CMC curve, Rank-16 :97.2%\n",
      "CMC curve, Rank-18 :97.6%\n",
      "CMC curve, Rank-20 :97.9%\n",
      "CMC curve, Rank-22 :97.9%\n",
      "CMC curve, Rank-24 :98.1%\n",
      "CMC curve, Rank-26 :98.1%\n",
      "CMC curve, Rank-28 :98.2%\n",
      "CMC curve, Rank-30 :98.2%\n",
      "CMC curve, Rank-32 :98.4%\n"
     ]
    },
    {
     "name": "stderr",
     "output_type": "stream",
     "text": [
      "Train Epoch: 214 [259/259 (100%)] Loss: 0.047114: : 259it [01:18,  3.31it/s]"
     ]
    },
    {
     "name": "stdout",
     "output_type": "stream",
     "text": [
      "Enter inferencing\n",
      "Create evaluator\n"
     ]
    },
    {
     "name": "stderr",
     "output_type": "stream",
     "text": [
      "\n"
     ]
    },
    {
     "name": "stdout",
     "output_type": "stream",
     "text": [
      "The test feature is normalized\n",
      "Validation Results\n",
      "mAP: 62.4%\n",
      "CMC curve, Rank-1  :83.7%\n",
      "CMC curve, Rank-2  :88.9%\n",
      "CMC curve, Rank-4  :92.7%\n",
      "CMC curve, Rank-6  :94.8%\n",
      "CMC curve, Rank-8  :95.6%\n",
      "CMC curve, Rank-10 :96.1%\n",
      "CMC curve, Rank-12 :96.4%\n",
      "CMC curve, Rank-14 :96.9%\n",
      "CMC curve, Rank-16 :97.2%\n",
      "CMC curve, Rank-18 :97.6%\n",
      "CMC curve, Rank-20 :97.8%\n",
      "CMC curve, Rank-22 :98.0%\n",
      "CMC curve, Rank-24 :98.1%\n",
      "CMC curve, Rank-26 :98.1%\n",
      "CMC curve, Rank-28 :98.2%\n",
      "CMC curve, Rank-30 :98.4%\n",
      "CMC curve, Rank-32 :98.5%\n"
     ]
    },
    {
     "name": "stderr",
     "output_type": "stream",
     "text": [
      "Train Epoch: 215 [259/259 (100%)] Loss: 0.052197: : 259it [01:18,  3.29it/s]"
     ]
    },
    {
     "name": "stdout",
     "output_type": "stream",
     "text": [
      "Enter inferencing\n",
      "Create evaluator\n"
     ]
    },
    {
     "name": "stderr",
     "output_type": "stream",
     "text": [
      "\n"
     ]
    },
    {
     "name": "stdout",
     "output_type": "stream",
     "text": [
      "The test feature is normalized\n",
      "Validation Results\n",
      "mAP: 62.3%\n",
      "CMC curve, Rank-1  :83.7%\n",
      "CMC curve, Rank-2  :89.1%\n",
      "CMC curve, Rank-4  :92.9%\n",
      "CMC curve, Rank-6  :94.7%\n",
      "CMC curve, Rank-8  :95.6%\n",
      "CMC curve, Rank-10 :96.1%\n",
      "CMC curve, Rank-12 :96.4%\n",
      "CMC curve, Rank-14 :96.8%\n",
      "CMC curve, Rank-16 :97.0%\n",
      "CMC curve, Rank-18 :97.4%\n",
      "CMC curve, Rank-20 :97.6%\n",
      "CMC curve, Rank-22 :97.9%\n",
      "CMC curve, Rank-24 :98.0%\n",
      "CMC curve, Rank-26 :98.2%\n",
      "CMC curve, Rank-28 :98.3%\n",
      "CMC curve, Rank-30 :98.4%\n",
      "CMC curve, Rank-32 :98.5%\n"
     ]
    },
    {
     "name": "stderr",
     "output_type": "stream",
     "text": [
      "Train Epoch: 216 [259/259 (100%)] Loss: 0.063206: : 259it [01:17,  3.33it/s]"
     ]
    },
    {
     "name": "stdout",
     "output_type": "stream",
     "text": [
      "Enter inferencing\n",
      "Create evaluator\n"
     ]
    },
    {
     "name": "stderr",
     "output_type": "stream",
     "text": [
      "\n"
     ]
    },
    {
     "name": "stdout",
     "output_type": "stream",
     "text": [
      "The test feature is normalized\n",
      "Validation Results\n",
      "mAP: 62.2%\n",
      "CMC curve, Rank-1  :83.7%\n",
      "CMC curve, Rank-2  :89.2%\n",
      "CMC curve, Rank-4  :93.0%\n",
      "CMC curve, Rank-6  :94.6%\n",
      "CMC curve, Rank-8  :95.7%\n",
      "CMC curve, Rank-10 :96.2%\n",
      "CMC curve, Rank-12 :96.5%\n",
      "CMC curve, Rank-14 :96.9%\n",
      "CMC curve, Rank-16 :97.4%\n",
      "CMC curve, Rank-18 :97.7%\n",
      "CMC curve, Rank-20 :97.8%\n",
      "CMC curve, Rank-22 :98.0%\n",
      "CMC curve, Rank-24 :98.1%\n",
      "CMC curve, Rank-26 :98.2%\n",
      "CMC curve, Rank-28 :98.3%\n",
      "CMC curve, Rank-30 :98.4%\n",
      "CMC curve, Rank-32 :98.4%\n"
     ]
    },
    {
     "name": "stderr",
     "output_type": "stream",
     "text": [
      "Train Epoch: 217 [259/259 (100%)] Loss: 0.055817: : 259it [01:17,  3.33it/s]"
     ]
    },
    {
     "name": "stdout",
     "output_type": "stream",
     "text": [
      "Enter inferencing\n",
      "Create evaluator\n"
     ]
    },
    {
     "name": "stderr",
     "output_type": "stream",
     "text": [
      "\n"
     ]
    },
    {
     "name": "stdout",
     "output_type": "stream",
     "text": [
      "The test feature is normalized\n",
      "Validation Results\n",
      "mAP: 62.4%\n",
      "CMC curve, Rank-1  :84.0%\n",
      "CMC curve, Rank-2  :89.1%\n",
      "CMC curve, Rank-4  :92.8%\n",
      "CMC curve, Rank-6  :94.7%\n",
      "CMC curve, Rank-8  :95.7%\n",
      "CMC curve, Rank-10 :96.2%\n",
      "CMC curve, Rank-12 :96.5%\n",
      "CMC curve, Rank-14 :96.8%\n",
      "CMC curve, Rank-16 :97.2%\n",
      "CMC curve, Rank-18 :97.5%\n",
      "CMC curve, Rank-20 :97.9%\n",
      "CMC curve, Rank-22 :98.0%\n",
      "CMC curve, Rank-24 :98.0%\n",
      "CMC curve, Rank-26 :98.2%\n",
      "CMC curve, Rank-28 :98.3%\n",
      "CMC curve, Rank-30 :98.4%\n",
      "CMC curve, Rank-32 :98.5%\n"
     ]
    },
    {
     "name": "stderr",
     "output_type": "stream",
     "text": [
      "Train Epoch: 218 [259/259 (100%)] Loss: 0.049192: : 259it [01:17,  3.34it/s]"
     ]
    },
    {
     "name": "stdout",
     "output_type": "stream",
     "text": [
      "Enter inferencing\n",
      "Create evaluator\n"
     ]
    },
    {
     "name": "stderr",
     "output_type": "stream",
     "text": [
      "\n"
     ]
    },
    {
     "name": "stdout",
     "output_type": "stream",
     "text": [
      "The test feature is normalized\n",
      "Validation Results\n",
      "mAP: 62.2%\n",
      "CMC curve, Rank-1  :83.7%\n",
      "CMC curve, Rank-2  :88.9%\n",
      "CMC curve, Rank-4  :92.7%\n",
      "CMC curve, Rank-6  :94.7%\n",
      "CMC curve, Rank-8  :95.6%\n",
      "CMC curve, Rank-10 :96.1%\n",
      "CMC curve, Rank-12 :96.5%\n",
      "CMC curve, Rank-14 :96.8%\n",
      "CMC curve, Rank-16 :97.2%\n",
      "CMC curve, Rank-18 :97.6%\n",
      "CMC curve, Rank-20 :97.8%\n",
      "CMC curve, Rank-22 :97.9%\n",
      "CMC curve, Rank-24 :98.0%\n",
      "CMC curve, Rank-26 :98.2%\n",
      "CMC curve, Rank-28 :98.3%\n",
      "CMC curve, Rank-30 :98.4%\n",
      "CMC curve, Rank-32 :98.5%\n"
     ]
    },
    {
     "name": "stderr",
     "output_type": "stream",
     "text": [
      "Train Epoch: 219 [259/259 (100%)] Loss: 0.063831: : 259it [01:17,  3.33it/s]"
     ]
    },
    {
     "name": "stdout",
     "output_type": "stream",
     "text": [
      "Enter inferencing\n",
      "Create evaluator\n"
     ]
    },
    {
     "name": "stderr",
     "output_type": "stream",
     "text": [
      "\n"
     ]
    },
    {
     "name": "stdout",
     "output_type": "stream",
     "text": [
      "The test feature is normalized\n",
      "Validation Results\n",
      "mAP: 62.2%\n",
      "CMC curve, Rank-1  :83.7%\n",
      "CMC curve, Rank-2  :88.8%\n",
      "CMC curve, Rank-4  :92.9%\n",
      "CMC curve, Rank-6  :94.8%\n",
      "CMC curve, Rank-8  :95.7%\n",
      "CMC curve, Rank-10 :96.1%\n",
      "CMC curve, Rank-12 :96.5%\n",
      "CMC curve, Rank-14 :96.8%\n",
      "CMC curve, Rank-16 :97.1%\n",
      "CMC curve, Rank-18 :97.6%\n",
      "CMC curve, Rank-20 :97.8%\n",
      "CMC curve, Rank-22 :98.0%\n",
      "CMC curve, Rank-24 :98.0%\n",
      "CMC curve, Rank-26 :98.1%\n",
      "CMC curve, Rank-28 :98.3%\n",
      "CMC curve, Rank-30 :98.3%\n",
      "CMC curve, Rank-32 :98.4%\n"
     ]
    },
    {
     "name": "stderr",
     "output_type": "stream",
     "text": [
      "Train Epoch: 220 [259/259 (100%)] Loss: 0.037788: : 259it [01:17,  3.34it/s]"
     ]
    },
    {
     "name": "stdout",
     "output_type": "stream",
     "text": [
      "Enter inferencing\n",
      "Create evaluator\n"
     ]
    },
    {
     "name": "stderr",
     "output_type": "stream",
     "text": [
      "\n"
     ]
    },
    {
     "name": "stdout",
     "output_type": "stream",
     "text": [
      "The test feature is normalized\n",
      "Validation Results\n",
      "mAP: 62.2%\n",
      "CMC curve, Rank-1  :83.7%\n",
      "CMC curve, Rank-2  :88.9%\n",
      "CMC curve, Rank-4  :92.9%\n",
      "CMC curve, Rank-6  :94.6%\n",
      "CMC curve, Rank-8  :95.7%\n",
      "CMC curve, Rank-10 :96.1%\n",
      "CMC curve, Rank-12 :96.5%\n",
      "CMC curve, Rank-14 :96.8%\n",
      "CMC curve, Rank-16 :97.2%\n",
      "CMC curve, Rank-18 :97.7%\n",
      "CMC curve, Rank-20 :97.8%\n",
      "CMC curve, Rank-22 :97.9%\n",
      "CMC curve, Rank-24 :98.1%\n",
      "CMC curve, Rank-26 :98.1%\n",
      "CMC curve, Rank-28 :98.3%\n",
      "CMC curve, Rank-30 :98.3%\n",
      "CMC curve, Rank-32 :98.4%\n"
     ]
    },
    {
     "name": "stderr",
     "output_type": "stream",
     "text": [
      "Train Epoch: 221 [259/259 (100%)] Loss: 0.059134: : 259it [01:19,  3.25it/s]"
     ]
    },
    {
     "name": "stdout",
     "output_type": "stream",
     "text": [
      "Enter inferencing\n",
      "Create evaluator\n"
     ]
    },
    {
     "name": "stderr",
     "output_type": "stream",
     "text": [
      "\n"
     ]
    },
    {
     "name": "stdout",
     "output_type": "stream",
     "text": [
      "The test feature is normalized\n",
      "Validation Results\n",
      "mAP: 62.2%\n",
      "CMC curve, Rank-1  :83.7%\n",
      "CMC curve, Rank-2  :89.0%\n",
      "CMC curve, Rank-4  :92.9%\n",
      "CMC curve, Rank-6  :94.8%\n",
      "CMC curve, Rank-8  :95.7%\n",
      "CMC curve, Rank-10 :96.1%\n",
      "CMC curve, Rank-12 :96.6%\n",
      "CMC curve, Rank-14 :96.9%\n",
      "CMC curve, Rank-16 :97.2%\n",
      "CMC curve, Rank-18 :97.5%\n",
      "CMC curve, Rank-20 :97.7%\n",
      "CMC curve, Rank-22 :97.9%\n",
      "CMC curve, Rank-24 :98.1%\n",
      "CMC curve, Rank-26 :98.2%\n",
      "CMC curve, Rank-28 :98.3%\n",
      "CMC curve, Rank-30 :98.4%\n",
      "CMC curve, Rank-32 :98.4%\n"
     ]
    },
    {
     "name": "stderr",
     "output_type": "stream",
     "text": [
      "Train Epoch: 222 [259/259 (100%)] Loss: 0.053194: : 259it [01:19,  3.26it/s]"
     ]
    },
    {
     "name": "stdout",
     "output_type": "stream",
     "text": [
      "Enter inferencing\n",
      "Create evaluator\n"
     ]
    },
    {
     "name": "stderr",
     "output_type": "stream",
     "text": [
      "\n"
     ]
    },
    {
     "name": "stdout",
     "output_type": "stream",
     "text": [
      "The test feature is normalized\n",
      "Validation Results\n",
      "mAP: 62.3%\n",
      "CMC curve, Rank-1  :83.7%\n",
      "CMC curve, Rank-2  :88.8%\n",
      "CMC curve, Rank-4  :92.7%\n",
      "CMC curve, Rank-6  :94.7%\n",
      "CMC curve, Rank-8  :95.7%\n",
      "CMC curve, Rank-10 :96.1%\n",
      "CMC curve, Rank-12 :96.4%\n",
      "CMC curve, Rank-14 :96.8%\n",
      "CMC curve, Rank-16 :97.2%\n",
      "CMC curve, Rank-18 :97.5%\n",
      "CMC curve, Rank-20 :97.8%\n",
      "CMC curve, Rank-22 :97.9%\n",
      "CMC curve, Rank-24 :98.1%\n",
      "CMC curve, Rank-26 :98.1%\n",
      "CMC curve, Rank-28 :98.2%\n",
      "CMC curve, Rank-30 :98.4%\n",
      "CMC curve, Rank-32 :98.5%\n"
     ]
    },
    {
     "name": "stderr",
     "output_type": "stream",
     "text": [
      "Train Epoch: 223 [259/259 (100%)] Loss: 0.032999: : 259it [01:19,  3.25it/s]"
     ]
    },
    {
     "name": "stdout",
     "output_type": "stream",
     "text": [
      "Enter inferencing\n",
      "Create evaluator\n"
     ]
    },
    {
     "name": "stderr",
     "output_type": "stream",
     "text": [
      "\n"
     ]
    },
    {
     "name": "stdout",
     "output_type": "stream",
     "text": [
      "The test feature is normalized\n",
      "Validation Results\n",
      "mAP: 62.2%\n",
      "CMC curve, Rank-1  :83.8%\n",
      "CMC curve, Rank-2  :89.0%\n",
      "CMC curve, Rank-4  :92.6%\n",
      "CMC curve, Rank-6  :94.7%\n",
      "CMC curve, Rank-8  :95.9%\n",
      "CMC curve, Rank-10 :96.1%\n",
      "CMC curve, Rank-12 :96.4%\n",
      "CMC curve, Rank-14 :96.8%\n",
      "CMC curve, Rank-16 :97.3%\n",
      "CMC curve, Rank-18 :97.6%\n",
      "CMC curve, Rank-20 :97.7%\n",
      "CMC curve, Rank-22 :97.8%\n",
      "CMC curve, Rank-24 :98.0%\n",
      "CMC curve, Rank-26 :98.2%\n",
      "CMC curve, Rank-28 :98.2%\n",
      "CMC curve, Rank-30 :98.3%\n",
      "CMC curve, Rank-32 :98.4%\n"
     ]
    },
    {
     "name": "stderr",
     "output_type": "stream",
     "text": [
      "Train Epoch: 224 [259/259 (100%)] Loss: 0.032160: : 259it [01:19,  3.25it/s]"
     ]
    },
    {
     "name": "stdout",
     "output_type": "stream",
     "text": [
      "Enter inferencing\n",
      "Create evaluator\n"
     ]
    },
    {
     "name": "stderr",
     "output_type": "stream",
     "text": [
      "\n"
     ]
    },
    {
     "name": "stdout",
     "output_type": "stream",
     "text": [
      "The test feature is normalized\n",
      "Validation Results\n",
      "mAP: 62.3%\n",
      "CMC curve, Rank-1  :83.8%\n",
      "CMC curve, Rank-2  :89.1%\n",
      "CMC curve, Rank-4  :92.9%\n",
      "CMC curve, Rank-6  :94.6%\n",
      "CMC curve, Rank-8  :95.7%\n",
      "CMC curve, Rank-10 :96.1%\n",
      "CMC curve, Rank-12 :96.4%\n",
      "CMC curve, Rank-14 :96.8%\n",
      "CMC curve, Rank-16 :97.2%\n",
      "CMC curve, Rank-18 :97.5%\n",
      "CMC curve, Rank-20 :97.7%\n",
      "CMC curve, Rank-22 :97.9%\n",
      "CMC curve, Rank-24 :98.0%\n",
      "CMC curve, Rank-26 :98.2%\n",
      "CMC curve, Rank-28 :98.4%\n",
      "CMC curve, Rank-30 :98.4%\n",
      "CMC curve, Rank-32 :98.5%\n"
     ]
    },
    {
     "name": "stderr",
     "output_type": "stream",
     "text": [
      "Train Epoch: 225 [259/259 (100%)] Loss: 0.026578: : 259it [01:19,  3.26it/s]"
     ]
    },
    {
     "name": "stdout",
     "output_type": "stream",
     "text": [
      "Enter inferencing\n",
      "Create evaluator\n"
     ]
    },
    {
     "name": "stderr",
     "output_type": "stream",
     "text": [
      "\n"
     ]
    },
    {
     "name": "stdout",
     "output_type": "stream",
     "text": [
      "The test feature is normalized\n",
      "Validation Results\n",
      "mAP: 62.3%\n",
      "CMC curve, Rank-1  :83.6%\n",
      "CMC curve, Rank-2  :89.0%\n",
      "CMC curve, Rank-4  :92.7%\n",
      "CMC curve, Rank-6  :94.8%\n",
      "CMC curve, Rank-8  :95.8%\n",
      "CMC curve, Rank-10 :96.2%\n",
      "CMC curve, Rank-12 :96.4%\n",
      "CMC curve, Rank-14 :97.0%\n",
      "CMC curve, Rank-16 :97.4%\n",
      "CMC curve, Rank-18 :97.5%\n",
      "CMC curve, Rank-20 :97.7%\n",
      "CMC curve, Rank-22 :98.0%\n",
      "CMC curve, Rank-24 :98.1%\n",
      "CMC curve, Rank-26 :98.2%\n",
      "CMC curve, Rank-28 :98.2%\n",
      "CMC curve, Rank-30 :98.3%\n",
      "CMC curve, Rank-32 :98.4%\n"
     ]
    },
    {
     "name": "stderr",
     "output_type": "stream",
     "text": [
      "Train Epoch: 226 [259/259 (100%)] Loss: 0.033282: : 259it [01:18,  3.28it/s]"
     ]
    },
    {
     "name": "stdout",
     "output_type": "stream",
     "text": [
      "Enter inferencing\n",
      "Create evaluator\n"
     ]
    },
    {
     "name": "stderr",
     "output_type": "stream",
     "text": [
      "\n"
     ]
    },
    {
     "name": "stdout",
     "output_type": "stream",
     "text": [
      "The test feature is normalized\n",
      "Validation Results\n",
      "mAP: 62.3%\n",
      "CMC curve, Rank-1  :83.6%\n",
      "CMC curve, Rank-2  :89.0%\n",
      "CMC curve, Rank-4  :92.6%\n",
      "CMC curve, Rank-6  :94.7%\n",
      "CMC curve, Rank-8  :95.8%\n",
      "CMC curve, Rank-10 :96.3%\n",
      "CMC curve, Rank-12 :96.5%\n",
      "CMC curve, Rank-14 :96.9%\n",
      "CMC curve, Rank-16 :97.2%\n",
      "CMC curve, Rank-18 :97.5%\n",
      "CMC curve, Rank-20 :97.6%\n",
      "CMC curve, Rank-22 :97.8%\n",
      "CMC curve, Rank-24 :98.0%\n",
      "CMC curve, Rank-26 :98.1%\n",
      "CMC curve, Rank-28 :98.3%\n",
      "CMC curve, Rank-30 :98.3%\n",
      "CMC curve, Rank-32 :98.4%\n"
     ]
    },
    {
     "name": "stderr",
     "output_type": "stream",
     "text": [
      "Train Epoch: 227 [259/259 (100%)] Loss: 0.060572: : 259it [01:19,  3.25it/s]"
     ]
    },
    {
     "name": "stdout",
     "output_type": "stream",
     "text": [
      "Enter inferencing\n",
      "Create evaluator\n"
     ]
    },
    {
     "name": "stderr",
     "output_type": "stream",
     "text": [
      "\n"
     ]
    },
    {
     "name": "stdout",
     "output_type": "stream",
     "text": [
      "The test feature is normalized\n",
      "Validation Results\n",
      "mAP: 62.3%\n",
      "CMC curve, Rank-1  :83.9%\n",
      "CMC curve, Rank-2  :89.0%\n",
      "CMC curve, Rank-4  :92.8%\n",
      "CMC curve, Rank-6  :94.7%\n",
      "CMC curve, Rank-8  :95.8%\n",
      "CMC curve, Rank-10 :96.2%\n",
      "CMC curve, Rank-12 :96.6%\n",
      "CMC curve, Rank-14 :96.8%\n",
      "CMC curve, Rank-16 :97.3%\n",
      "CMC curve, Rank-18 :97.5%\n",
      "CMC curve, Rank-20 :97.8%\n",
      "CMC curve, Rank-22 :98.0%\n",
      "CMC curve, Rank-24 :98.0%\n",
      "CMC curve, Rank-26 :98.2%\n",
      "CMC curve, Rank-28 :98.3%\n",
      "CMC curve, Rank-30 :98.3%\n",
      "CMC curve, Rank-32 :98.4%\n"
     ]
    },
    {
     "name": "stderr",
     "output_type": "stream",
     "text": [
      "Train Epoch: 228 [259/259 (100%)] Loss: 0.036683: : 259it [01:19,  3.25it/s]"
     ]
    },
    {
     "name": "stdout",
     "output_type": "stream",
     "text": [
      "Enter inferencing\n",
      "Create evaluator\n"
     ]
    },
    {
     "name": "stderr",
     "output_type": "stream",
     "text": [
      "\n"
     ]
    },
    {
     "name": "stdout",
     "output_type": "stream",
     "text": [
      "The test feature is normalized\n",
      "Validation Results\n",
      "mAP: 62.4%\n",
      "CMC curve, Rank-1  :83.7%\n",
      "CMC curve, Rank-2  :89.2%\n",
      "CMC curve, Rank-4  :92.8%\n",
      "CMC curve, Rank-6  :94.8%\n",
      "CMC curve, Rank-8  :95.6%\n",
      "CMC curve, Rank-10 :96.2%\n",
      "CMC curve, Rank-12 :96.4%\n",
      "CMC curve, Rank-14 :96.8%\n",
      "CMC curve, Rank-16 :97.4%\n",
      "CMC curve, Rank-18 :97.6%\n",
      "CMC curve, Rank-20 :97.8%\n",
      "CMC curve, Rank-22 :98.0%\n",
      "CMC curve, Rank-24 :98.1%\n",
      "CMC curve, Rank-26 :98.2%\n",
      "CMC curve, Rank-28 :98.3%\n",
      "CMC curve, Rank-30 :98.4%\n",
      "CMC curve, Rank-32 :98.4%\n"
     ]
    },
    {
     "name": "stderr",
     "output_type": "stream",
     "text": [
      "Train Epoch: 229 [259/259 (100%)] Loss: 0.063151: : 259it [01:12,  3.58it/s]"
     ]
    },
    {
     "name": "stdout",
     "output_type": "stream",
     "text": [
      "Enter inferencing\n",
      "Create evaluator\n"
     ]
    },
    {
     "name": "stderr",
     "output_type": "stream",
     "text": [
      "\n"
     ]
    },
    {
     "name": "stdout",
     "output_type": "stream",
     "text": [
      "The test feature is normalized\n",
      "Validation Results\n",
      "mAP: 62.3%\n",
      "CMC curve, Rank-1  :83.9%\n",
      "CMC curve, Rank-2  :89.2%\n",
      "CMC curve, Rank-4  :92.8%\n",
      "CMC curve, Rank-6  :94.8%\n",
      "CMC curve, Rank-8  :95.7%\n",
      "CMC curve, Rank-10 :96.1%\n",
      "CMC curve, Rank-12 :96.5%\n",
      "CMC curve, Rank-14 :96.9%\n",
      "CMC curve, Rank-16 :97.2%\n",
      "CMC curve, Rank-18 :97.6%\n",
      "CMC curve, Rank-20 :97.8%\n",
      "CMC curve, Rank-22 :97.9%\n",
      "CMC curve, Rank-24 :98.0%\n",
      "CMC curve, Rank-26 :98.1%\n",
      "CMC curve, Rank-28 :98.3%\n",
      "CMC curve, Rank-30 :98.4%\n",
      "CMC curve, Rank-32 :98.5%\n"
     ]
    },
    {
     "name": "stderr",
     "output_type": "stream",
     "text": [
      "Train Epoch: 230 [259/259 (100%)] Loss: 0.101172: : 259it [01:12,  3.59it/s]"
     ]
    },
    {
     "name": "stdout",
     "output_type": "stream",
     "text": [
      "Enter inferencing\n",
      "Create evaluator\n"
     ]
    },
    {
     "name": "stderr",
     "output_type": "stream",
     "text": [
      "\n"
     ]
    },
    {
     "name": "stdout",
     "output_type": "stream",
     "text": [
      "The test feature is normalized\n",
      "Validation Results\n",
      "mAP: 62.3%\n",
      "CMC curve, Rank-1  :83.7%\n",
      "CMC curve, Rank-2  :89.0%\n",
      "CMC curve, Rank-4  :92.7%\n",
      "CMC curve, Rank-6  :94.6%\n",
      "CMC curve, Rank-8  :95.7%\n",
      "CMC curve, Rank-10 :96.2%\n",
      "CMC curve, Rank-12 :96.5%\n",
      "CMC curve, Rank-14 :96.8%\n",
      "CMC curve, Rank-16 :97.2%\n",
      "CMC curve, Rank-18 :97.7%\n",
      "CMC curve, Rank-20 :97.8%\n",
      "CMC curve, Rank-22 :98.0%\n",
      "CMC curve, Rank-24 :98.1%\n",
      "CMC curve, Rank-26 :98.2%\n",
      "CMC curve, Rank-28 :98.2%\n",
      "CMC curve, Rank-30 :98.2%\n",
      "CMC curve, Rank-32 :98.4%\n"
     ]
    },
    {
     "name": "stderr",
     "output_type": "stream",
     "text": [
      "Train Epoch: 231 [259/259 (100%)] Loss: 0.041703: : 259it [01:12,  3.59it/s]"
     ]
    },
    {
     "name": "stdout",
     "output_type": "stream",
     "text": [
      "Enter inferencing\n",
      "Create evaluator\n"
     ]
    },
    {
     "name": "stderr",
     "output_type": "stream",
     "text": [
      "\n"
     ]
    },
    {
     "name": "stdout",
     "output_type": "stream",
     "text": [
      "The test feature is normalized\n",
      "Validation Results\n",
      "mAP: 62.3%\n",
      "CMC curve, Rank-1  :83.9%\n",
      "CMC curve, Rank-2  :89.3%\n",
      "CMC curve, Rank-4  :92.8%\n",
      "CMC curve, Rank-6  :94.5%\n",
      "CMC curve, Rank-8  :95.8%\n",
      "CMC curve, Rank-10 :96.2%\n",
      "CMC curve, Rank-12 :96.4%\n",
      "CMC curve, Rank-14 :96.8%\n",
      "CMC curve, Rank-16 :97.1%\n",
      "CMC curve, Rank-18 :97.6%\n",
      "CMC curve, Rank-20 :97.7%\n",
      "CMC curve, Rank-22 :97.9%\n",
      "CMC curve, Rank-24 :98.0%\n",
      "CMC curve, Rank-26 :98.1%\n",
      "CMC curve, Rank-28 :98.2%\n",
      "CMC curve, Rank-30 :98.3%\n",
      "CMC curve, Rank-32 :98.4%\n"
     ]
    },
    {
     "name": "stderr",
     "output_type": "stream",
     "text": [
      "Train Epoch: 232 [259/259 (100%)] Loss: 0.058006: : 259it [01:12,  3.59it/s]"
     ]
    },
    {
     "name": "stdout",
     "output_type": "stream",
     "text": [
      "Enter inferencing\n",
      "Create evaluator\n"
     ]
    },
    {
     "name": "stderr",
     "output_type": "stream",
     "text": [
      "\n"
     ]
    },
    {
     "name": "stdout",
     "output_type": "stream",
     "text": [
      "The test feature is normalized\n",
      "Validation Results\n",
      "mAP: 62.3%\n",
      "CMC curve, Rank-1  :83.8%\n",
      "CMC curve, Rank-2  :89.0%\n",
      "CMC curve, Rank-4  :92.7%\n",
      "CMC curve, Rank-6  :94.7%\n",
      "CMC curve, Rank-8  :95.8%\n",
      "CMC curve, Rank-10 :96.2%\n",
      "CMC curve, Rank-12 :96.5%\n",
      "CMC curve, Rank-14 :96.8%\n",
      "CMC curve, Rank-16 :97.2%\n",
      "CMC curve, Rank-18 :97.6%\n",
      "CMC curve, Rank-20 :97.8%\n",
      "CMC curve, Rank-22 :97.9%\n",
      "CMC curve, Rank-24 :98.0%\n",
      "CMC curve, Rank-26 :98.1%\n",
      "CMC curve, Rank-28 :98.2%\n",
      "CMC curve, Rank-30 :98.5%\n",
      "CMC curve, Rank-32 :98.5%\n"
     ]
    },
    {
     "name": "stderr",
     "output_type": "stream",
     "text": [
      "Train Epoch: 233 [259/259 (100%)] Loss: 0.041523: : 259it [01:12,  3.59it/s]"
     ]
    },
    {
     "name": "stdout",
     "output_type": "stream",
     "text": [
      "Enter inferencing\n",
      "Create evaluator\n"
     ]
    },
    {
     "name": "stderr",
     "output_type": "stream",
     "text": [
      "\n"
     ]
    },
    {
     "name": "stdout",
     "output_type": "stream",
     "text": [
      "The test feature is normalized\n",
      "Validation Results\n",
      "mAP: 62.4%\n",
      "CMC curve, Rank-1  :83.8%\n",
      "CMC curve, Rank-2  :89.2%\n",
      "CMC curve, Rank-4  :92.8%\n",
      "CMC curve, Rank-6  :94.8%\n",
      "CMC curve, Rank-8  :95.6%\n",
      "CMC curve, Rank-10 :96.2%\n",
      "CMC curve, Rank-12 :96.4%\n",
      "CMC curve, Rank-14 :96.9%\n",
      "CMC curve, Rank-16 :97.3%\n",
      "CMC curve, Rank-18 :97.7%\n",
      "CMC curve, Rank-20 :97.9%\n",
      "CMC curve, Rank-22 :97.9%\n",
      "CMC curve, Rank-24 :98.1%\n",
      "CMC curve, Rank-26 :98.2%\n",
      "CMC curve, Rank-28 :98.3%\n",
      "CMC curve, Rank-30 :98.4%\n",
      "CMC curve, Rank-32 :98.4%\n"
     ]
    },
    {
     "name": "stderr",
     "output_type": "stream",
     "text": [
      "Train Epoch: 234 [259/259 (100%)] Loss: 0.041354: : 259it [01:12,  3.59it/s]"
     ]
    },
    {
     "name": "stdout",
     "output_type": "stream",
     "text": [
      "Enter inferencing\n",
      "Create evaluator\n"
     ]
    },
    {
     "name": "stderr",
     "output_type": "stream",
     "text": [
      "\n"
     ]
    },
    {
     "name": "stdout",
     "output_type": "stream",
     "text": [
      "The test feature is normalized\n",
      "Validation Results\n",
      "mAP: 62.5%\n",
      "CMC curve, Rank-1  :83.9%\n",
      "CMC curve, Rank-2  :89.1%\n",
      "CMC curve, Rank-4  :92.8%\n",
      "CMC curve, Rank-6  :94.7%\n",
      "CMC curve, Rank-8  :95.6%\n",
      "CMC curve, Rank-10 :96.3%\n",
      "CMC curve, Rank-12 :96.5%\n",
      "CMC curve, Rank-14 :96.8%\n",
      "CMC curve, Rank-16 :97.3%\n",
      "CMC curve, Rank-18 :97.6%\n",
      "CMC curve, Rank-20 :97.8%\n",
      "CMC curve, Rank-22 :98.0%\n",
      "CMC curve, Rank-24 :98.2%\n",
      "CMC curve, Rank-26 :98.3%\n",
      "CMC curve, Rank-28 :98.4%\n",
      "CMC curve, Rank-30 :98.5%\n",
      "CMC curve, Rank-32 :98.5%\n"
     ]
    },
    {
     "name": "stderr",
     "output_type": "stream",
     "text": [
      "Train Epoch: 235 [259/259 (100%)] Loss: 0.038880: : 259it [01:12,  3.59it/s]"
     ]
    },
    {
     "name": "stdout",
     "output_type": "stream",
     "text": [
      "Enter inferencing\n",
      "Create evaluator\n"
     ]
    },
    {
     "name": "stderr",
     "output_type": "stream",
     "text": [
      "\n"
     ]
    },
    {
     "name": "stdout",
     "output_type": "stream",
     "text": [
      "The test feature is normalized\n",
      "Validation Results\n",
      "mAP: 62.3%\n",
      "CMC curve, Rank-1  :83.9%\n",
      "CMC curve, Rank-2  :89.3%\n",
      "CMC curve, Rank-4  :92.7%\n",
      "CMC curve, Rank-6  :94.8%\n",
      "CMC curve, Rank-8  :95.7%\n",
      "CMC curve, Rank-10 :96.1%\n",
      "CMC curve, Rank-12 :96.5%\n",
      "CMC curve, Rank-14 :96.9%\n",
      "CMC curve, Rank-16 :97.2%\n",
      "CMC curve, Rank-18 :97.4%\n",
      "CMC curve, Rank-20 :97.7%\n",
      "CMC curve, Rank-22 :97.9%\n",
      "CMC curve, Rank-24 :98.0%\n",
      "CMC curve, Rank-26 :98.1%\n",
      "CMC curve, Rank-28 :98.2%\n",
      "CMC curve, Rank-30 :98.3%\n",
      "CMC curve, Rank-32 :98.4%\n"
     ]
    },
    {
     "name": "stderr",
     "output_type": "stream",
     "text": [
      "Train Epoch: 236 [259/259 (100%)] Loss: 0.060105: : 259it [01:12,  3.57it/s]"
     ]
    },
    {
     "name": "stdout",
     "output_type": "stream",
     "text": [
      "Enter inferencing\n",
      "Create evaluator\n"
     ]
    },
    {
     "name": "stderr",
     "output_type": "stream",
     "text": [
      "\n"
     ]
    },
    {
     "name": "stdout",
     "output_type": "stream",
     "text": [
      "The test feature is normalized\n",
      "Validation Results\n",
      "mAP: 62.2%\n",
      "CMC curve, Rank-1  :83.7%\n",
      "CMC curve, Rank-2  :89.1%\n",
      "CMC curve, Rank-4  :92.7%\n",
      "CMC curve, Rank-6  :94.6%\n",
      "CMC curve, Rank-8  :95.6%\n",
      "CMC curve, Rank-10 :96.2%\n",
      "CMC curve, Rank-12 :96.5%\n",
      "CMC curve, Rank-14 :96.9%\n",
      "CMC curve, Rank-16 :97.2%\n",
      "CMC curve, Rank-18 :97.6%\n",
      "CMC curve, Rank-20 :97.8%\n",
      "CMC curve, Rank-22 :98.0%\n",
      "CMC curve, Rank-24 :98.2%\n",
      "CMC curve, Rank-26 :98.3%\n",
      "CMC curve, Rank-28 :98.4%\n",
      "CMC curve, Rank-30 :98.4%\n",
      "CMC curve, Rank-32 :98.5%\n"
     ]
    },
    {
     "name": "stderr",
     "output_type": "stream",
     "text": [
      "Train Epoch: 237 [259/259 (100%)] Loss: 0.039675: : 259it [01:14,  3.49it/s]"
     ]
    },
    {
     "name": "stdout",
     "output_type": "stream",
     "text": [
      "Enter inferencing\n",
      "Create evaluator\n"
     ]
    },
    {
     "name": "stderr",
     "output_type": "stream",
     "text": [
      "\n"
     ]
    },
    {
     "name": "stdout",
     "output_type": "stream",
     "text": [
      "The test feature is normalized\n",
      "Validation Results\n",
      "mAP: 62.2%\n",
      "CMC curve, Rank-1  :83.8%\n",
      "CMC curve, Rank-2  :89.2%\n",
      "CMC curve, Rank-4  :92.8%\n",
      "CMC curve, Rank-6  :94.7%\n",
      "CMC curve, Rank-8  :95.7%\n",
      "CMC curve, Rank-10 :96.1%\n",
      "CMC curve, Rank-12 :96.4%\n",
      "CMC curve, Rank-14 :96.9%\n",
      "CMC curve, Rank-16 :97.2%\n",
      "CMC curve, Rank-18 :97.5%\n",
      "CMC curve, Rank-20 :97.8%\n",
      "CMC curve, Rank-22 :97.9%\n",
      "CMC curve, Rank-24 :98.0%\n",
      "CMC curve, Rank-26 :98.2%\n",
      "CMC curve, Rank-28 :98.2%\n",
      "CMC curve, Rank-30 :98.4%\n",
      "CMC curve, Rank-32 :98.5%\n"
     ]
    },
    {
     "name": "stderr",
     "output_type": "stream",
     "text": [
      "Train Epoch: 238 [259/259 (100%)] Loss: 0.058795: : 259it [01:11,  3.60it/s]"
     ]
    },
    {
     "name": "stdout",
     "output_type": "stream",
     "text": [
      "Enter inferencing\n",
      "Create evaluator\n"
     ]
    },
    {
     "name": "stderr",
     "output_type": "stream",
     "text": [
      "\n"
     ]
    },
    {
     "name": "stdout",
     "output_type": "stream",
     "text": [
      "The test feature is normalized\n",
      "Validation Results\n",
      "mAP: 62.2%\n",
      "CMC curve, Rank-1  :83.8%\n",
      "CMC curve, Rank-2  :89.0%\n",
      "CMC curve, Rank-4  :92.7%\n",
      "CMC curve, Rank-6  :94.6%\n",
      "CMC curve, Rank-8  :95.8%\n",
      "CMC curve, Rank-10 :96.1%\n",
      "CMC curve, Rank-12 :96.4%\n",
      "CMC curve, Rank-14 :97.0%\n",
      "CMC curve, Rank-16 :97.5%\n",
      "CMC curve, Rank-18 :97.8%\n",
      "CMC curve, Rank-20 :97.9%\n",
      "CMC curve, Rank-22 :98.0%\n",
      "CMC curve, Rank-24 :98.1%\n",
      "CMC curve, Rank-26 :98.2%\n",
      "CMC curve, Rank-28 :98.2%\n",
      "CMC curve, Rank-30 :98.3%\n",
      "CMC curve, Rank-32 :98.4%\n"
     ]
    },
    {
     "name": "stderr",
     "output_type": "stream",
     "text": [
      "Train Epoch: 239 [259/259 (100%)] Loss: 0.095751: : 259it [01:11,  3.60it/s]"
     ]
    },
    {
     "name": "stdout",
     "output_type": "stream",
     "text": [
      "Enter inferencing\n",
      "Create evaluator\n"
     ]
    },
    {
     "name": "stderr",
     "output_type": "stream",
     "text": [
      "\n"
     ]
    },
    {
     "name": "stdout",
     "output_type": "stream",
     "text": [
      "The test feature is normalized\n",
      "Validation Results\n",
      "mAP: 62.3%\n",
      "CMC curve, Rank-1  :83.6%\n",
      "CMC curve, Rank-2  :89.1%\n",
      "CMC curve, Rank-4  :92.5%\n",
      "CMC curve, Rank-6  :94.8%\n",
      "CMC curve, Rank-8  :95.8%\n",
      "CMC curve, Rank-10 :96.1%\n",
      "CMC curve, Rank-12 :96.3%\n",
      "CMC curve, Rank-14 :96.8%\n",
      "CMC curve, Rank-16 :97.1%\n",
      "CMC curve, Rank-18 :97.6%\n",
      "CMC curve, Rank-20 :97.8%\n",
      "CMC curve, Rank-22 :98.0%\n",
      "CMC curve, Rank-24 :98.1%\n",
      "CMC curve, Rank-26 :98.2%\n",
      "CMC curve, Rank-28 :98.4%\n",
      "CMC curve, Rank-30 :98.4%\n",
      "CMC curve, Rank-32 :98.5%\n"
     ]
    },
    {
     "name": "stderr",
     "output_type": "stream",
     "text": [
      "Train Epoch: 240 [259/259 (100%)] Loss: 0.038909: : 259it [01:11,  3.60it/s]"
     ]
    },
    {
     "name": "stdout",
     "output_type": "stream",
     "text": [
      "Enter inferencing\n",
      "Create evaluator\n"
     ]
    },
    {
     "name": "stderr",
     "output_type": "stream",
     "text": [
      "\n"
     ]
    },
    {
     "name": "stdout",
     "output_type": "stream",
     "text": [
      "The test feature is normalized\n",
      "Validation Results\n",
      "mAP: 62.3%\n",
      "CMC curve, Rank-1  :83.9%\n",
      "CMC curve, Rank-2  :89.0%\n",
      "CMC curve, Rank-4  :92.7%\n",
      "CMC curve, Rank-6  :94.7%\n",
      "CMC curve, Rank-8  :95.7%\n",
      "CMC curve, Rank-10 :96.1%\n",
      "CMC curve, Rank-12 :96.4%\n",
      "CMC curve, Rank-14 :96.7%\n",
      "CMC curve, Rank-16 :97.1%\n",
      "CMC curve, Rank-18 :97.6%\n",
      "CMC curve, Rank-20 :97.8%\n",
      "CMC curve, Rank-22 :97.9%\n",
      "CMC curve, Rank-24 :98.0%\n",
      "CMC curve, Rank-26 :98.2%\n",
      "CMC curve, Rank-28 :98.3%\n",
      "CMC curve, Rank-30 :98.4%\n",
      "CMC curve, Rank-32 :98.5%\n"
     ]
    },
    {
     "name": "stderr",
     "output_type": "stream",
     "text": [
      "Train Epoch: 241 [259/259 (100%)] Loss: 0.035641: : 259it [01:11,  3.60it/s]"
     ]
    },
    {
     "name": "stdout",
     "output_type": "stream",
     "text": [
      "Enter inferencing\n",
      "Create evaluator\n"
     ]
    },
    {
     "name": "stderr",
     "output_type": "stream",
     "text": [
      "\n"
     ]
    },
    {
     "name": "stdout",
     "output_type": "stream",
     "text": [
      "The test feature is normalized\n",
      "Validation Results\n",
      "mAP: 62.2%\n",
      "CMC curve, Rank-1  :83.6%\n",
      "CMC curve, Rank-2  :89.4%\n",
      "CMC curve, Rank-4  :93.0%\n",
      "CMC curve, Rank-6  :94.7%\n",
      "CMC curve, Rank-8  :95.7%\n",
      "CMC curve, Rank-10 :96.1%\n",
      "CMC curve, Rank-12 :96.6%\n",
      "CMC curve, Rank-14 :96.9%\n",
      "CMC curve, Rank-16 :97.1%\n",
      "CMC curve, Rank-18 :97.6%\n",
      "CMC curve, Rank-20 :97.7%\n",
      "CMC curve, Rank-22 :97.9%\n",
      "CMC curve, Rank-24 :98.0%\n",
      "CMC curve, Rank-26 :98.1%\n",
      "CMC curve, Rank-28 :98.2%\n",
      "CMC curve, Rank-30 :98.4%\n",
      "CMC curve, Rank-32 :98.5%\n"
     ]
    },
    {
     "name": "stderr",
     "output_type": "stream",
     "text": [
      "Train Epoch: 242 [259/259 (100%)] Loss: 0.049731: : 259it [01:11,  3.60it/s]"
     ]
    },
    {
     "name": "stdout",
     "output_type": "stream",
     "text": [
      "Enter inferencing\n",
      "Create evaluator\n"
     ]
    },
    {
     "name": "stderr",
     "output_type": "stream",
     "text": [
      "\n"
     ]
    },
    {
     "name": "stdout",
     "output_type": "stream",
     "text": [
      "The test feature is normalized\n",
      "Validation Results\n",
      "mAP: 62.4%\n",
      "CMC curve, Rank-1  :83.9%\n",
      "CMC curve, Rank-2  :89.1%\n",
      "CMC curve, Rank-4  :92.9%\n",
      "CMC curve, Rank-6  :94.8%\n",
      "CMC curve, Rank-8  :95.7%\n",
      "CMC curve, Rank-10 :96.2%\n",
      "CMC curve, Rank-12 :96.4%\n",
      "CMC curve, Rank-14 :96.9%\n",
      "CMC curve, Rank-16 :97.2%\n",
      "CMC curve, Rank-18 :97.7%\n",
      "CMC curve, Rank-20 :97.8%\n",
      "CMC curve, Rank-22 :98.0%\n",
      "CMC curve, Rank-24 :98.1%\n",
      "CMC curve, Rank-26 :98.2%\n",
      "CMC curve, Rank-28 :98.2%\n",
      "CMC curve, Rank-30 :98.3%\n",
      "CMC curve, Rank-32 :98.4%\n"
     ]
    },
    {
     "name": "stderr",
     "output_type": "stream",
     "text": [
      "Train Epoch: 243 [259/259 (100%)] Loss: 0.033865: : 259it [01:12,  3.60it/s]"
     ]
    },
    {
     "name": "stdout",
     "output_type": "stream",
     "text": [
      "Enter inferencing\n",
      "Create evaluator\n"
     ]
    },
    {
     "name": "stderr",
     "output_type": "stream",
     "text": [
      "\n"
     ]
    },
    {
     "name": "stdout",
     "output_type": "stream",
     "text": [
      "The test feature is normalized\n",
      "Validation Results\n",
      "mAP: 62.2%\n",
      "CMC curve, Rank-1  :83.9%\n",
      "CMC curve, Rank-2  :89.0%\n",
      "CMC curve, Rank-4  :92.8%\n",
      "CMC curve, Rank-6  :94.7%\n",
      "CMC curve, Rank-8  :95.6%\n",
      "CMC curve, Rank-10 :96.1%\n",
      "CMC curve, Rank-12 :96.4%\n",
      "CMC curve, Rank-14 :96.9%\n",
      "CMC curve, Rank-16 :97.2%\n",
      "CMC curve, Rank-18 :97.7%\n",
      "CMC curve, Rank-20 :97.7%\n",
      "CMC curve, Rank-22 :98.0%\n",
      "CMC curve, Rank-24 :98.1%\n",
      "CMC curve, Rank-26 :98.1%\n",
      "CMC curve, Rank-28 :98.2%\n",
      "CMC curve, Rank-30 :98.4%\n",
      "CMC curve, Rank-32 :98.4%\n"
     ]
    },
    {
     "name": "stderr",
     "output_type": "stream",
     "text": [
      "Train Epoch: 244 [259/259 (100%)] Loss: 0.047212: : 259it [01:14,  3.50it/s]"
     ]
    },
    {
     "name": "stdout",
     "output_type": "stream",
     "text": [
      "Enter inferencing\n",
      "Create evaluator\n"
     ]
    },
    {
     "name": "stderr",
     "output_type": "stream",
     "text": [
      "\n"
     ]
    },
    {
     "name": "stdout",
     "output_type": "stream",
     "text": [
      "The test feature is normalized\n",
      "Validation Results\n",
      "mAP: 62.2%\n",
      "CMC curve, Rank-1  :83.6%\n",
      "CMC curve, Rank-2  :88.9%\n",
      "CMC curve, Rank-4  :92.8%\n",
      "CMC curve, Rank-6  :94.7%\n",
      "CMC curve, Rank-8  :95.7%\n",
      "CMC curve, Rank-10 :96.1%\n",
      "CMC curve, Rank-12 :96.5%\n",
      "CMC curve, Rank-14 :96.7%\n",
      "CMC curve, Rank-16 :97.1%\n",
      "CMC curve, Rank-18 :97.5%\n",
      "CMC curve, Rank-20 :97.7%\n",
      "CMC curve, Rank-22 :97.9%\n",
      "CMC curve, Rank-24 :98.0%\n",
      "CMC curve, Rank-26 :98.2%\n",
      "CMC curve, Rank-28 :98.2%\n",
      "CMC curve, Rank-30 :98.3%\n",
      "CMC curve, Rank-32 :98.4%\n"
     ]
    },
    {
     "name": "stderr",
     "output_type": "stream",
     "text": [
      "Train Epoch: 245 [108/259 (41%)] Loss: 0.048234: : 108it [00:30,  3.53it/s]"
     ]
    }
   ],
   "source": [
    "best_mAP=0\n",
    "current_datetime = datetime.datetime.now().strftime(\"%Y_%m_%d_%H_%M_%S\")\n",
    "for epoch in range(0, 600):\n",
    "    model.train()\n",
    "\n",
    "    losses_per_epoch = []\n",
    "    if model == 'resnet50':\n",
    "        unfreeze_model_param = list(model.model.embedding.parameters()) + list(criterion.parameters())\n",
    "    else:\n",
    "        unfreeze_model_param = list(model.fc.parameters()) + list(criterion.parameters())\n",
    "\n",
    "    if epoch == 0:\n",
    "        for param in list(set(model.parameters()).difference(set(unfreeze_model_param))):\n",
    "            param.requires_grad = False\n",
    "    if epoch == 1:\n",
    "        for param in list(set(model.parameters()).difference(set(unfreeze_model_param))):\n",
    "            param.requires_grad = True\n",
    "\n",
    "    pbar = tqdm(enumerate(train_loader))\n",
    "\n",
    "    for batch_idx, (x, y) in pbar:                         \n",
    "        m = model(x.squeeze().cuda())\n",
    "        loss = criterion(m, y.squeeze().cuda())\n",
    "        \n",
    "        opt.zero_grad()\n",
    "        loss.backward()\n",
    "        \n",
    "        torch.nn.utils.clip_grad_value_(model.parameters(), 10)\n",
    "        \n",
    "        torch.nn.utils.clip_grad_value_(criterion.parameters(), 10)\n",
    "\n",
    "        losses_per_epoch.append(loss.data.cpu().numpy())\n",
    "        opt.step()\n",
    "\n",
    "        pbar.set_description(\n",
    "            'Train Epoch: {} [{}/{} ({:.0f}%)] Loss: {:.6f}'.format(\n",
    "                epoch, batch_idx + 1, len(train_loader),\n",
    "                100. * batch_idx / len(train_loader),\n",
    "                loss.item()))\n",
    "    scheduler.step()\n",
    "    \n",
    "    # if(epoch >= 0):\n",
    "    #     with torch.no_grad():\n",
    "    #         print(\"**Evaluating...**\")\n",
    "    #         Recalls = utils.evaluate_cos(model, val_dict['val_loader'])\n",
    "    #     if best_recall[0] < Recalls[0]:\n",
    "    #         best_recall = Recalls\n",
    "    #         best_epoch = epoch\n",
    "    #         if not os.path.exists(model_dir):\n",
    "    #             os.makedirs(model_dir)\n",
    "    #         torch.save({'model_state_dict':model.state_dict()}, '{}/{}_best.pth'.format(model_dir, model_name))\n",
    "    #         with open('{}/{}_best_results.txt'.format(model_dir, model_name), 'w') as f:\n",
    "    #             f.write('Best Epoch: {}\\n'.format(best_epoch))\n",
    "    #             for i in range(6):\n",
    "    #                 f.write(\"Best Recall@{}: {:.4f}\\n\".format(2**i, best_recall[i] * 100))\n",
    "    val_loader = val_dict['val_loader']\n",
    "    num_query = val_dict['num_query']\n",
    "    result = inference(model, val_loader, num_query)\n",
    "\n",
    "    if result[1] > best_mAP:\n",
    "        append_result(result, model)"
   ]
  },
  {
   "cell_type": "markdown",
   "id": "1bfa27e7-da1e-4b78-845c-a4d344aee85d",
   "metadata": {},
   "source": [
    "### Test codes"
   ]
  }
 ],
 "metadata": {
  "kernelspec": {
   "display_name": "Python 3 (ipykernel)",
   "language": "python",
   "name": "python3"
  },
  "language_info": {
   "codemirror_mode": {
    "name": "ipython",
    "version": 3
   },
   "file_extension": ".py",
   "mimetype": "text/x-python",
   "name": "python",
   "nbconvert_exporter": "python",
   "pygments_lexer": "ipython3",
   "version": "3.9.18"
  }
 },
 "nbformat": 4,
 "nbformat_minor": 5
}
