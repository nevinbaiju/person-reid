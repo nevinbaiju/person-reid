{
 "cells": [
  {
   "cell_type": "code",
   "execution_count": 1,
   "id": "dd117a25-51f7-4b37-80dd-57601c645fe7",
   "metadata": {},
   "outputs": [],
   "source": [
    "import torch, math, time, argparse, os\n",
    "import random, dataset, utils, losses, net\n",
    "import numpy as np\n",
    "\n",
    "from dataset.market import Market\n",
    "from net.resnet import *\n",
    "from net.googlenet import *\n",
    "from net.bn_inception import *\n",
    "from dataset import sampler\n",
    "from torch.utils.data.sampler import BatchSampler\n",
    "from torch.utils.data.dataloader import default_collate\n",
    "\n",
    "from tqdm import *\n",
    "import wandb\n",
    "import datetime"
   ]
  },
  {
   "cell_type": "code",
   "execution_count": 2,
   "id": "9b68c83a-1a81-444f-aa00-51349c5ecca5",
   "metadata": {},
   "outputs": [],
   "source": [
    "seed = 1\n",
    "random.seed(seed)\n",
    "np.random.seed(seed)\n",
    "torch.manual_seed(seed)\n",
    "torch.cuda.manual_seed_all(seed)"
   ]
  },
  {
   "cell_type": "code",
   "execution_count": 3,
   "id": "0de986bb-fec0-4e9a-b128-8144593a4615",
   "metadata": {},
   "outputs": [],
   "source": [
    "LOG_DIR = '.'\n",
    "trn_dataset = dataset.load('market', '../ITCS-5145-CV/learning/Market-1501-v15.09.15/', 'train', transform = dataset.utils.make_transform(\n",
    "                                                                                                                        is_train = True, \n",
    "                                                                                                                        is_inception = False))"
   ]
  },
  {
   "cell_type": "code",
   "execution_count": 4,
   "id": "fe096192-8b04-4ee1-8e3e-0e9ce965ec0e",
   "metadata": {},
   "outputs": [],
   "source": [
    "dl_tr = torch.utils.data.DataLoader(\n",
    "        trn_dataset,\n",
    "        batch_size = 50,\n",
    "        shuffle = True,\n",
    "        num_workers = 4,\n",
    "        drop_last = True,\n",
    "        pin_memory = True\n",
    "    )"
   ]
  },
  {
   "cell_type": "code",
   "execution_count": 5,
   "id": "46516afa-f077-4d5e-ad4a-eb73858068dc",
   "metadata": {},
   "outputs": [],
   "source": [
    "eval_dataset = dataset.load('market', '../ITCS-5145-CV/learning/Market-1501-v15.09.15/', 'train', transform = dataset.utils.make_transform(\n",
    "                                                                                                                        is_train = True, \n",
    "                                                                                                                        is_inception = False))\n",
    "\n",
    "dl_ev = torch.utils.data.DataLoader(\n",
    "        eval_dataset,\n",
    "        batch_size = 50,\n",
    "        shuffle = False,\n",
    "        num_workers = 4,\n",
    "        pin_memory = True\n",
    ")"
   ]
  },
  {
   "cell_type": "code",
   "execution_count": 6,
   "id": "61bf8ce8-11a7-4f5c-8f4d-27eae79c40c1",
   "metadata": {},
   "outputs": [],
   "source": [
    "model_name = 'resnet50'"
   ]
  },
  {
   "cell_type": "code",
   "execution_count": 7,
   "id": "e09b2d13-d22e-4d91-a519-a8971ba45bad",
   "metadata": {},
   "outputs": [
    {
     "name": "stderr",
     "output_type": "stream",
     "text": [
      "/home/nevin/anaconda3/envs/cv/lib/python3.9/site-packages/torchvision/models/_utils.py:135: UserWarning: Using 'weights' as positional parameter(s) is deprecated since 0.13 and may be removed in the future. Please use keyword parameter(s) instead.\n",
      "  warnings.warn(\n",
      "/home/nevin/anaconda3/envs/cv/lib/python3.9/site-packages/torchvision/models/_utils.py:223: UserWarning: Arguments other than a weight enum or `None` for 'weights' are deprecated since 0.13 and may be removed in the future. The current behavior is equivalent to passing `weights=ResNet50_Weights.IMAGENET1K_V1`. You can also use `weights=ResNet50_Weights.DEFAULT` to get the most up-to-date weights.\n",
      "  warnings.warn(msg)\n"
     ]
    }
   ],
   "source": [
    "if model_name == 'resnet50':\n",
    "    model = Resnet50(embedding_size=2048, pretrained=True, is_norm=1, bn_freeze =1).cuda()"
   ]
  },
  {
   "cell_type": "code",
   "execution_count": 8,
   "id": "aa815ea5-c86f-4e64-9dfb-bdd71319837c",
   "metadata": {},
   "outputs": [],
   "source": [
    "criterion = losses.Proxy_Anchor(nb_classes = trn_dataset.nb_classes(), sz_embed = 2048, mrg = 0.1, alpha = 32).cuda()"
   ]
  },
  {
   "cell_type": "code",
   "execution_count": 9,
   "id": "1d82987f-a60d-4672-8eb6-cc87035cb22e",
   "metadata": {},
   "outputs": [],
   "source": [
    "param_groups = [\n",
    "    {'params': list(set(model.parameters()).difference(set(model.model.embedding.parameters())))},\n",
    "    {'params': model.model.embedding.parameters(), 'lr':float(1e-4) * 1},\n",
    "]\n",
    "param_groups.append({'params': criterion.parameters(), 'lr':float(1e-4) * 100})"
   ]
  },
  {
   "cell_type": "code",
   "execution_count": 10,
   "id": "39029af3-6b21-4cd2-8dd0-d3d1db46d109",
   "metadata": {},
   "outputs": [],
   "source": [
    "opt = torch.optim.AdamW(param_groups, lr=float(1e-4), weight_decay = 1e-4)"
   ]
  },
  {
   "cell_type": "code",
   "execution_count": 11,
   "id": "00b75ef9-d5d0-48c1-a6fa-d80b64139414",
   "metadata": {},
   "outputs": [],
   "source": [
    "scheduler = torch.optim.lr_scheduler.StepLR(opt, step_size=10, gamma = 0.5)"
   ]
  },
  {
   "cell_type": "code",
   "execution_count": 12,
   "id": "0b4b8894-c782-41a7-a070-0cd9030ede22",
   "metadata": {},
   "outputs": [],
   "source": [
    "model_dir = 'models'"
   ]
  },
  {
   "cell_type": "raw",
   "id": "4723bb2a-883a-4ce9-93f8-1fba483a4734",
   "metadata": {},
   "source": [
    "model.load_state_dict(torch.load('models/resnet50_2023_11_22_20_00_13_best.pth')['model_state_dict'])"
   ]
  },
  {
   "cell_type": "code",
   "execution_count": 16,
   "id": "405de8ba-1e69-4f04-9b8a-1d995e5cfa7e",
   "metadata": {},
   "outputs": [
    {
     "name": "stderr",
     "output_type": "stream",
     "text": [
      "0it [00:00, ?it/s]/home/nevin/anaconda3/envs/cv/lib/python3.9/site-packages/torch/nn/modules/conv.py:456: UserWarning: Applied workaround for CuDNN issue, install nvrtc.so (Triggered internally at /opt/conda/conda-bld/pytorch_1695392022560/work/aten/src/ATen/native/cudnn/Conv_v8.cpp:80.)\n",
      "  return F.conv2d(input, weight, bias, self.stride,\n",
      "Train Epoch: 0 [549/549 (100%)] Loss: 0.483673: : 549it [00:51, 10.58it/s]\n"
     ]
    },
    {
     "name": "stdout",
     "output_type": "stream",
     "text": [
      "**Evaluating...**\n"
     ]
    },
    {
     "name": "stderr",
     "output_type": "stream",
     "text": [
      "100%|█████████████████████████████████████████| 550/550 [00:47<00:00, 11.50it/s]\n"
     ]
    },
    {
     "name": "stdout",
     "output_type": "stream",
     "text": [
      "R@1 : 82.191\n",
      "R@2 : 86.700\n",
      "R@4 : 90.084\n",
      "R@8 : 92.930\n",
      "R@16 : 95.124\n",
      "R@32 : 96.951\n"
     ]
    },
    {
     "name": "stderr",
     "output_type": "stream",
     "text": [
      "Train Epoch: 1 [549/549 (100%)] Loss: 0.514655: : 549it [02:25,  3.78it/s]\n"
     ]
    },
    {
     "name": "stdout",
     "output_type": "stream",
     "text": [
      "**Evaluating...**\n"
     ]
    },
    {
     "name": "stderr",
     "output_type": "stream",
     "text": [
      "100%|█████████████████████████████████████████| 550/550 [00:47<00:00, 11.49it/s]\n"
     ]
    },
    {
     "name": "stdout",
     "output_type": "stream",
     "text": [
      "R@1 : 77.359\n",
      "R@2 : 82.537\n",
      "R@4 : 86.769\n",
      "R@8 : 90.324\n",
      "R@16 : 93.192\n",
      "R@32 : 95.440\n"
     ]
    },
    {
     "name": "stderr",
     "output_type": "stream",
     "text": [
      "Train Epoch: 2 [549/549 (100%)] Loss: 0.496968: : 549it [02:25,  3.78it/s]\n"
     ]
    },
    {
     "name": "stdout",
     "output_type": "stream",
     "text": [
      "**Evaluating...**\n"
     ]
    },
    {
     "name": "stderr",
     "output_type": "stream",
     "text": [
      "100%|█████████████████████████████████████████| 550/550 [00:47<00:00, 11.49it/s]\n"
     ]
    },
    {
     "name": "stdout",
     "output_type": "stream",
     "text": [
      "R@1 : 77.454\n",
      "R@2 : 82.799\n",
      "R@4 : 87.064\n",
      "R@8 : 90.557\n",
      "R@16 : 93.446\n",
      "R@32 : 95.597\n"
     ]
    },
    {
     "name": "stderr",
     "output_type": "stream",
     "text": [
      "Train Epoch: 3 [549/549 (100%)] Loss: 0.435318: : 549it [02:26,  3.75it/s]\n"
     ]
    },
    {
     "name": "stdout",
     "output_type": "stream",
     "text": [
      "**Evaluating...**\n"
     ]
    },
    {
     "name": "stderr",
     "output_type": "stream",
     "text": [
      "100%|█████████████████████████████████████████| 550/550 [00:48<00:00, 11.29it/s]\n"
     ]
    },
    {
     "name": "stdout",
     "output_type": "stream",
     "text": [
      "R@1 : 77.974\n",
      "R@2 : 83.432\n",
      "R@4 : 87.650\n",
      "R@8 : 91.041\n",
      "R@16 : 93.610\n",
      "R@32 : 95.746\n"
     ]
    },
    {
     "name": "stderr",
     "output_type": "stream",
     "text": [
      "Train Epoch: 4 [549/549 (100%)] Loss: 0.542244: : 549it [02:25,  3.78it/s]\n"
     ]
    },
    {
     "name": "stdout",
     "output_type": "stream",
     "text": [
      "**Evaluating...**\n"
     ]
    },
    {
     "name": "stderr",
     "output_type": "stream",
     "text": [
      "100%|█████████████████████████████████████████| 550/550 [00:47<00:00, 11.59it/s]\n"
     ]
    },
    {
     "name": "stdout",
     "output_type": "stream",
     "text": [
      "R@1 : 77.985\n",
      "R@2 : 83.141\n",
      "R@4 : 87.220\n",
      "R@8 : 90.437\n",
      "R@16 : 93.148\n",
      "R@32 : 95.546\n"
     ]
    },
    {
     "name": "stderr",
     "output_type": "stream",
     "text": [
      "Train Epoch: 5 [549/549 (100%)] Loss: 0.344484: : 549it [02:27,  3.73it/s]\n"
     ]
    },
    {
     "name": "stdout",
     "output_type": "stream",
     "text": [
      "**Evaluating...**\n"
     ]
    },
    {
     "name": "stderr",
     "output_type": "stream",
     "text": [
      "100%|█████████████████████████████████████████| 550/550 [00:48<00:00, 11.39it/s]\n"
     ]
    },
    {
     "name": "stdout",
     "output_type": "stream",
     "text": [
      "R@1 : 78.873\n",
      "R@2 : 83.694\n",
      "R@4 : 87.883\n",
      "R@8 : 91.227\n",
      "R@16 : 93.905\n",
      "R@32 : 95.939\n"
     ]
    },
    {
     "name": "stderr",
     "output_type": "stream",
     "text": [
      "Train Epoch: 6 [549/549 (100%)] Loss: 0.305545: : 549it [02:28,  3.70it/s]\n"
     ]
    },
    {
     "name": "stdout",
     "output_type": "stream",
     "text": [
      "**Evaluating...**\n"
     ]
    },
    {
     "name": "stderr",
     "output_type": "stream",
     "text": [
      "100%|█████████████████████████████████████████| 550/550 [00:49<00:00, 11.21it/s]\n"
     ]
    },
    {
     "name": "stdout",
     "output_type": "stream",
     "text": [
      "R@1 : 78.505\n",
      "R@2 : 83.290\n",
      "R@4 : 87.362\n",
      "R@8 : 90.706\n",
      "R@16 : 93.410\n",
      "R@32 : 95.495\n"
     ]
    },
    {
     "name": "stderr",
     "output_type": "stream",
     "text": [
      "Train Epoch: 7 [549/549 (100%)] Loss: 0.363340: : 549it [02:27,  3.71it/s]\n"
     ]
    },
    {
     "name": "stdout",
     "output_type": "stream",
     "text": [
      "**Evaluating...**\n"
     ]
    },
    {
     "name": "stderr",
     "output_type": "stream",
     "text": [
      "100%|█████████████████████████████████████████| 550/550 [00:48<00:00, 11.39it/s]\n"
     ]
    },
    {
     "name": "stdout",
     "output_type": "stream",
     "text": [
      "R@1 : 79.193\n",
      "R@2 : 84.127\n",
      "R@4 : 87.926\n",
      "R@8 : 91.034\n",
      "R@16 : 93.716\n",
      "R@32 : 95.837\n"
     ]
    },
    {
     "name": "stderr",
     "output_type": "stream",
     "text": [
      "Train Epoch: 8 [549/549 (100%)] Loss: 0.388378: : 549it [02:27,  3.72it/s]\n"
     ]
    },
    {
     "name": "stdout",
     "output_type": "stream",
     "text": [
      "**Evaluating...**\n"
     ]
    },
    {
     "name": "stderr",
     "output_type": "stream",
     "text": [
      "100%|█████████████████████████████████████████| 550/550 [00:48<00:00, 11.28it/s]\n"
     ]
    },
    {
     "name": "stdout",
     "output_type": "stream",
     "text": [
      "R@1 : 79.644\n",
      "R@2 : 84.618\n",
      "R@4 : 88.363\n",
      "R@8 : 91.598\n",
      "R@16 : 94.196\n",
      "R@32 : 96.077\n"
     ]
    },
    {
     "name": "stderr",
     "output_type": "stream",
     "text": [
      "Train Epoch: 9 [549/549 (100%)] Loss: 0.736120: : 549it [02:26,  3.75it/s]\n"
     ]
    },
    {
     "name": "stdout",
     "output_type": "stream",
     "text": [
      "**Evaluating...**\n"
     ]
    },
    {
     "name": "stderr",
     "output_type": "stream",
     "text": [
      "100%|█████████████████████████████████████████| 550/550 [00:48<00:00, 11.37it/s]\n"
     ]
    },
    {
     "name": "stdout",
     "output_type": "stream",
     "text": [
      "R@1 : 78.935\n",
      "R@2 : 84.335\n",
      "R@4 : 88.421\n",
      "R@8 : 91.514\n",
      "R@16 : 94.029\n",
      "R@32 : 95.968\n"
     ]
    },
    {
     "name": "stderr",
     "output_type": "stream",
     "text": [
      "Train Epoch: 10 [549/549 (100%)] Loss: 0.290214: : 549it [02:24,  3.81it/s]\n"
     ]
    },
    {
     "name": "stdout",
     "output_type": "stream",
     "text": [
      "**Evaluating...**\n"
     ]
    },
    {
     "name": "stderr",
     "output_type": "stream",
     "text": [
      "100%|█████████████████████████████████████████| 550/550 [00:47<00:00, 11.59it/s]\n"
     ]
    },
    {
     "name": "stdout",
     "output_type": "stream",
     "text": [
      "R@1 : 81.464\n",
      "R@2 : 86.092\n",
      "R@4 : 89.571\n",
      "R@8 : 92.599\n",
      "R@16 : 95.037\n",
      "R@32 : 96.750\n"
     ]
    },
    {
     "name": "stderr",
     "output_type": "stream",
     "text": [
      "Train Epoch: 11 [549/549 (100%)] Loss: 0.284282: : 549it [02:23,  3.82it/s]\n"
     ]
    },
    {
     "name": "stdout",
     "output_type": "stream",
     "text": [
      "**Evaluating...**\n"
     ]
    },
    {
     "name": "stderr",
     "output_type": "stream",
     "text": [
      "100%|█████████████████████████████████████████| 550/550 [00:47<00:00, 11.59it/s]\n"
     ]
    },
    {
     "name": "stdout",
     "output_type": "stream",
     "text": [
      "R@1 : 81.234\n",
      "R@2 : 85.950\n",
      "R@4 : 89.524\n",
      "R@8 : 92.300\n",
      "R@16 : 94.658\n",
      "R@32 : 96.499\n"
     ]
    },
    {
     "name": "stderr",
     "output_type": "stream",
     "text": [
      "Train Epoch: 12 [549/549 (100%)] Loss: 0.304703: : 549it [02:23,  3.82it/s]\n"
     ]
    },
    {
     "name": "stdout",
     "output_type": "stream",
     "text": [
      "**Evaluating...**\n"
     ]
    },
    {
     "name": "stderr",
     "output_type": "stream",
     "text": [
      "100%|█████████████████████████████████████████| 550/550 [00:47<00:00, 11.59it/s]\n"
     ]
    },
    {
     "name": "stdout",
     "output_type": "stream",
     "text": [
      "R@1 : 81.817\n",
      "R@2 : 86.474\n",
      "R@4 : 90.088\n",
      "R@8 : 92.973\n",
      "R@16 : 95.055\n",
      "R@32 : 96.645\n"
     ]
    },
    {
     "name": "stderr",
     "output_type": "stream",
     "text": [
      "Train Epoch: 13 [549/549 (100%)] Loss: 0.340901: : 549it [02:23,  3.82it/s]\n"
     ]
    },
    {
     "name": "stdout",
     "output_type": "stream",
     "text": [
      "**Evaluating...**\n"
     ]
    },
    {
     "name": "stderr",
     "output_type": "stream",
     "text": [
      "100%|█████████████████████████████████████████| 550/550 [00:47<00:00, 11.58it/s]\n"
     ]
    },
    {
     "name": "stdout",
     "output_type": "stream",
     "text": [
      "R@1 : 81.827\n",
      "R@2 : 86.252\n",
      "R@4 : 89.928\n",
      "R@8 : 92.715\n",
      "R@16 : 95.102\n",
      "R@32 : 96.750\n"
     ]
    },
    {
     "name": "stderr",
     "output_type": "stream",
     "text": [
      "Train Epoch: 14 [549/549 (100%)] Loss: 0.304580: : 549it [02:23,  3.82it/s]\n"
     ]
    },
    {
     "name": "stdout",
     "output_type": "stream",
     "text": [
      "**Evaluating...**\n"
     ]
    },
    {
     "name": "stderr",
     "output_type": "stream",
     "text": [
      "100%|█████████████████████████████████████████| 550/550 [00:47<00:00, 11.57it/s]\n"
     ]
    },
    {
     "name": "stdout",
     "output_type": "stream",
     "text": [
      "R@1 : 82.734\n",
      "R@2 : 87.315\n",
      "R@4 : 90.721\n",
      "R@8 : 93.261\n",
      "R@16 : 95.339\n",
      "R@32 : 97.038\n"
     ]
    },
    {
     "name": "stderr",
     "output_type": "stream",
     "text": [
      "Train Epoch: 15 [549/549 (100%)] Loss: 0.265103: : 549it [02:23,  3.82it/s]\n"
     ]
    },
    {
     "name": "stdout",
     "output_type": "stream",
     "text": [
      "**Evaluating...**\n"
     ]
    },
    {
     "name": "stderr",
     "output_type": "stream",
     "text": [
      "100%|█████████████████████████████████████████| 550/550 [00:47<00:00, 11.59it/s]\n"
     ]
    },
    {
     "name": "stdout",
     "output_type": "stream",
     "text": [
      "R@1 : 82.599\n",
      "R@2 : 87.006\n",
      "R@4 : 90.688\n",
      "R@8 : 93.348\n",
      "R@16 : 95.309\n",
      "R@32 : 96.907\n"
     ]
    },
    {
     "name": "stderr",
     "output_type": "stream",
     "text": [
      "Train Epoch: 16 [549/549 (100%)] Loss: 0.243282: : 549it [02:24,  3.81it/s]\n"
     ]
    },
    {
     "name": "stdout",
     "output_type": "stream",
     "text": [
      "**Evaluating...**\n"
     ]
    },
    {
     "name": "stderr",
     "output_type": "stream",
     "text": [
      "100%|█████████████████████████████████████████| 550/550 [00:47<00:00, 11.47it/s]\n"
     ]
    },
    {
     "name": "stdout",
     "output_type": "stream",
     "text": [
      "R@1 : 82.770\n",
      "R@2 : 87.337\n",
      "R@4 : 90.841\n",
      "R@8 : 93.366\n",
      "R@16 : 95.630\n",
      "R@32 : 97.089\n"
     ]
    },
    {
     "name": "stderr",
     "output_type": "stream",
     "text": [
      "Train Epoch: 17 [549/549 (100%)] Loss: 0.431037: : 549it [02:27,  3.73it/s]\n"
     ]
    },
    {
     "name": "stdout",
     "output_type": "stream",
     "text": [
      "**Evaluating...**\n"
     ]
    },
    {
     "name": "stderr",
     "output_type": "stream",
     "text": [
      "100%|█████████████████████████████████████████| 550/550 [00:48<00:00, 11.25it/s]\n"
     ]
    },
    {
     "name": "stdout",
     "output_type": "stream",
     "text": [
      "R@1 : 82.865\n",
      "R@2 : 87.191\n",
      "R@4 : 90.524\n",
      "R@8 : 93.250\n",
      "R@16 : 95.371\n",
      "R@32 : 97.071\n"
     ]
    },
    {
     "name": "stderr",
     "output_type": "stream",
     "text": [
      "Train Epoch: 18 [549/549 (100%)] Loss: 0.277647: : 549it [02:25,  3.77it/s]\n"
     ]
    },
    {
     "name": "stdout",
     "output_type": "stream",
     "text": [
      "**Evaluating...**\n"
     ]
    },
    {
     "name": "stderr",
     "output_type": "stream",
     "text": [
      "100%|█████████████████████████████████████████| 550/550 [00:49<00:00, 11.20it/s]\n"
     ]
    },
    {
     "name": "stdout",
     "output_type": "stream",
     "text": [
      "R@1 : 82.970\n",
      "R@2 : 87.282\n",
      "R@4 : 90.714\n",
      "R@8 : 93.337\n",
      "R@16 : 95.229\n",
      "R@32 : 96.962\n"
     ]
    },
    {
     "name": "stderr",
     "output_type": "stream",
     "text": [
      "Train Epoch: 19 [549/549 (100%)] Loss: 0.264101: : 549it [02:28,  3.70it/s]\n"
     ]
    },
    {
     "name": "stdout",
     "output_type": "stream",
     "text": [
      "**Evaluating...**\n"
     ]
    },
    {
     "name": "stderr",
     "output_type": "stream",
     "text": [
      "100%|█████████████████████████████████████████| 550/550 [00:48<00:00, 11.26it/s]\n"
     ]
    },
    {
     "name": "stdout",
     "output_type": "stream",
     "text": [
      "R@1 : 82.897\n",
      "R@2 : 87.268\n",
      "R@4 : 90.765\n",
      "R@8 : 93.395\n",
      "R@16 : 95.437\n",
      "R@32 : 97.042\n"
     ]
    },
    {
     "name": "stderr",
     "output_type": "stream",
     "text": [
      "Train Epoch: 20 [549/549 (100%)] Loss: 0.265053: : 549it [02:27,  3.71it/s]\n"
     ]
    },
    {
     "name": "stdout",
     "output_type": "stream",
     "text": [
      "**Evaluating...**\n"
     ]
    },
    {
     "name": "stderr",
     "output_type": "stream",
     "text": [
      "100%|█████████████████████████████████████████| 550/550 [00:48<00:00, 11.25it/s]\n"
     ]
    },
    {
     "name": "stdout",
     "output_type": "stream",
     "text": [
      "R@1 : 83.902\n",
      "R@2 : 88.163\n",
      "R@4 : 91.354\n",
      "R@8 : 93.963\n",
      "R@16 : 96.030\n",
      "R@32 : 97.518\n"
     ]
    },
    {
     "name": "stderr",
     "output_type": "stream",
     "text": [
      "Train Epoch: 21 [549/549 (100%)] Loss: 0.207617: : 549it [02:28,  3.70it/s]\n"
     ]
    },
    {
     "name": "stdout",
     "output_type": "stream",
     "text": [
      "**Evaluating...**\n"
     ]
    },
    {
     "name": "stderr",
     "output_type": "stream",
     "text": [
      "100%|█████████████████████████████████████████| 550/550 [00:48<00:00, 11.39it/s]\n"
     ]
    },
    {
     "name": "stdout",
     "output_type": "stream",
     "text": [
      "R@1 : 84.287\n",
      "R@2 : 88.479\n",
      "R@4 : 91.732\n",
      "R@8 : 94.323\n",
      "R@16 : 96.194\n",
      "R@32 : 97.507\n"
     ]
    },
    {
     "name": "stderr",
     "output_type": "stream",
     "text": [
      "Train Epoch: 22 [549/549 (100%)] Loss: 0.282060: : 549it [02:24,  3.80it/s]\n"
     ]
    },
    {
     "name": "stdout",
     "output_type": "stream",
     "text": [
      "**Evaluating...**\n"
     ]
    },
    {
     "name": "stderr",
     "output_type": "stream",
     "text": [
      "100%|█████████████████████████████████████████| 550/550 [00:47<00:00, 11.48it/s]\n"
     ]
    },
    {
     "name": "stdout",
     "output_type": "stream",
     "text": [
      "R@1 : 83.974\n",
      "R@2 : 88.192\n",
      "R@4 : 91.529\n",
      "R@8 : 94.087\n",
      "R@16 : 96.030\n",
      "R@32 : 97.478\n"
     ]
    },
    {
     "name": "stderr",
     "output_type": "stream",
     "text": [
      "Train Epoch: 23 [549/549 (100%)] Loss: 0.202019: : 549it [02:25,  3.78it/s]\n"
     ]
    },
    {
     "name": "stdout",
     "output_type": "stream",
     "text": [
      "**Evaluating...**\n"
     ]
    },
    {
     "name": "stderr",
     "output_type": "stream",
     "text": [
      "100%|█████████████████████████████████████████| 550/550 [00:47<00:00, 11.48it/s]\n"
     ]
    },
    {
     "name": "stdout",
     "output_type": "stream",
     "text": [
      "R@1 : 84.571\n",
      "R@2 : 88.588\n",
      "R@4 : 91.874\n",
      "R@8 : 94.443\n",
      "R@16 : 96.150\n",
      "R@32 : 97.660\n"
     ]
    },
    {
     "name": "stderr",
     "output_type": "stream",
     "text": [
      "Train Epoch: 24 [549/549 (100%)] Loss: 0.266588: : 549it [02:25,  3.78it/s]\n"
     ]
    },
    {
     "name": "stdout",
     "output_type": "stream",
     "text": [
      "**Evaluating...**\n"
     ]
    },
    {
     "name": "stderr",
     "output_type": "stream",
     "text": [
      "100%|█████████████████████████████████████████| 550/550 [00:47<00:00, 11.48it/s]\n"
     ]
    },
    {
     "name": "stdout",
     "output_type": "stream",
     "text": [
      "R@1 : 84.549\n",
      "R@2 : 88.858\n",
      "R@4 : 92.067\n",
      "R@8 : 94.534\n",
      "R@16 : 96.401\n",
      "R@32 : 97.711\n"
     ]
    },
    {
     "name": "stderr",
     "output_type": "stream",
     "text": [
      "Train Epoch: 25 [549/549 (100%)] Loss: 0.184741: : 549it [02:25,  3.78it/s]\n"
     ]
    },
    {
     "name": "stdout",
     "output_type": "stream",
     "text": [
      "**Evaluating...**\n"
     ]
    },
    {
     "name": "stderr",
     "output_type": "stream",
     "text": [
      "100%|█████████████████████████████████████████| 550/550 [00:47<00:00, 11.48it/s]\n"
     ]
    },
    {
     "name": "stdout",
     "output_type": "stream",
     "text": [
      "R@1 : 84.742\n",
      "R@2 : 88.814\n",
      "R@4 : 91.980\n",
      "R@8 : 94.378\n",
      "R@16 : 96.361\n",
      "R@32 : 97.635\n"
     ]
    },
    {
     "name": "stderr",
     "output_type": "stream",
     "text": [
      "Train Epoch: 26 [549/549 (100%)] Loss: 0.109849: : 549it [02:25,  3.78it/s]\n"
     ]
    },
    {
     "name": "stdout",
     "output_type": "stream",
     "text": [
      "**Evaluating...**\n"
     ]
    },
    {
     "name": "stderr",
     "output_type": "stream",
     "text": [
      "100%|█████████████████████████████████████████| 550/550 [00:47<00:00, 11.48it/s]\n"
     ]
    },
    {
     "name": "stdout",
     "output_type": "stream",
     "text": [
      "R@1 : 84.819\n",
      "R@2 : 88.981\n",
      "R@4 : 92.129\n",
      "R@8 : 94.625\n",
      "R@16 : 96.347\n",
      "R@32 : 97.646\n"
     ]
    },
    {
     "name": "stderr",
     "output_type": "stream",
     "text": [
      "Train Epoch: 27 [549/549 (100%)] Loss: 0.190428: : 549it [02:25,  3.78it/s]\n"
     ]
    },
    {
     "name": "stdout",
     "output_type": "stream",
     "text": [
      "**Evaluating...**\n"
     ]
    },
    {
     "name": "stderr",
     "output_type": "stream",
     "text": [
      "100%|█████████████████████████████████████████| 550/550 [00:47<00:00, 11.48it/s]\n"
     ]
    },
    {
     "name": "stdout",
     "output_type": "stream",
     "text": [
      "R@1 : 84.509\n",
      "R@2 : 88.643\n",
      "R@4 : 92.009\n",
      "R@8 : 94.538\n",
      "R@16 : 96.456\n",
      "R@32 : 97.809\n"
     ]
    },
    {
     "name": "stderr",
     "output_type": "stream",
     "text": [
      "Train Epoch: 28 [549/549 (100%)] Loss: 0.227203: : 549it [02:25,  3.78it/s]\n"
     ]
    },
    {
     "name": "stdout",
     "output_type": "stream",
     "text": [
      "**Evaluating...**\n"
     ]
    },
    {
     "name": "stderr",
     "output_type": "stream",
     "text": [
      "100%|█████████████████████████████████████████| 550/550 [00:47<00:00, 11.48it/s]\n"
     ]
    },
    {
     "name": "stdout",
     "output_type": "stream",
     "text": [
      "R@1 : 85.033\n",
      "R@2 : 89.000\n",
      "R@4 : 92.169\n",
      "R@8 : 94.502\n",
      "R@16 : 96.288\n",
      "R@32 : 97.726\n"
     ]
    },
    {
     "name": "stderr",
     "output_type": "stream",
     "text": [
      "Train Epoch: 29 [549/549 (100%)] Loss: 0.237962: : 549it [02:25,  3.78it/s]\n"
     ]
    },
    {
     "name": "stdout",
     "output_type": "stream",
     "text": [
      "**Evaluating...**\n"
     ]
    },
    {
     "name": "stderr",
     "output_type": "stream",
     "text": [
      "100%|█████████████████████████████████████████| 550/550 [00:47<00:00, 11.48it/s]\n"
     ]
    },
    {
     "name": "stdout",
     "output_type": "stream",
     "text": [
      "R@1 : 85.288\n",
      "R@2 : 89.229\n",
      "R@4 : 92.187\n",
      "R@8 : 94.520\n",
      "R@16 : 96.245\n",
      "R@32 : 97.591\n"
     ]
    },
    {
     "name": "stderr",
     "output_type": "stream",
     "text": [
      "Train Epoch: 30 [549/549 (100%)] Loss: 0.164513: : 549it [02:25,  3.78it/s]\n"
     ]
    },
    {
     "name": "stdout",
     "output_type": "stream",
     "text": [
      "**Evaluating...**\n"
     ]
    },
    {
     "name": "stderr",
     "output_type": "stream",
     "text": [
      "100%|█████████████████████████████████████████| 550/550 [00:47<00:00, 11.48it/s]\n"
     ]
    },
    {
     "name": "stdout",
     "output_type": "stream",
     "text": [
      "R@1 : 85.335\n",
      "R@2 : 89.404\n",
      "R@4 : 92.482\n",
      "R@8 : 94.745\n",
      "R@16 : 96.459\n",
      "R@32 : 97.751\n"
     ]
    },
    {
     "name": "stderr",
     "output_type": "stream",
     "text": [
      "Train Epoch: 31 [549/549 (100%)] Loss: 0.258312: : 549it [02:25,  3.79it/s]\n"
     ]
    },
    {
     "name": "stdout",
     "output_type": "stream",
     "text": [
      "**Evaluating...**\n"
     ]
    },
    {
     "name": "stderr",
     "output_type": "stream",
     "text": [
      "100%|█████████████████████████████████████████| 550/550 [00:47<00:00, 11.48it/s]\n"
     ]
    },
    {
     "name": "stdout",
     "output_type": "stream",
     "text": [
      "R@1 : 85.779\n",
      "R@2 : 89.644\n",
      "R@4 : 92.486\n",
      "R@8 : 94.822\n",
      "R@16 : 96.532\n",
      "R@32 : 97.777\n"
     ]
    },
    {
     "name": "stderr",
     "output_type": "stream",
     "text": [
      "Train Epoch: 32 [549/549 (100%)] Loss: 0.234554: : 549it [02:25,  3.79it/s]\n"
     ]
    },
    {
     "name": "stdout",
     "output_type": "stream",
     "text": [
      "**Evaluating...**\n"
     ]
    },
    {
     "name": "stderr",
     "output_type": "stream",
     "text": [
      "100%|█████████████████████████████████████████| 550/550 [00:47<00:00, 11.49it/s]\n"
     ]
    },
    {
     "name": "stdout",
     "output_type": "stream",
     "text": [
      "R@1 : 85.619\n",
      "R@2 : 89.571\n",
      "R@4 : 92.544\n",
      "R@8 : 94.844\n",
      "R@16 : 96.565\n",
      "R@32 : 97.846\n"
     ]
    },
    {
     "name": "stderr",
     "output_type": "stream",
     "text": [
      "Train Epoch: 33 [549/549 (100%)] Loss: 0.133260: : 549it [02:25,  3.78it/s]\n"
     ]
    },
    {
     "name": "stdout",
     "output_type": "stream",
     "text": [
      "**Evaluating...**\n"
     ]
    },
    {
     "name": "stderr",
     "output_type": "stream",
     "text": [
      "100%|█████████████████████████████████████████| 550/550 [00:47<00:00, 11.49it/s]\n"
     ]
    },
    {
     "name": "stdout",
     "output_type": "stream",
     "text": [
      "R@1 : 86.034\n",
      "R@2 : 89.971\n",
      "R@4 : 92.908\n",
      "R@8 : 95.138\n",
      "R@16 : 96.780\n",
      "R@32 : 97.980\n"
     ]
    },
    {
     "name": "stderr",
     "output_type": "stream",
     "text": [
      "Train Epoch: 34 [549/549 (100%)] Loss: 0.248707: : 549it [02:25,  3.78it/s]\n"
     ]
    },
    {
     "name": "stdout",
     "output_type": "stream",
     "text": [
      "**Evaluating...**\n"
     ]
    },
    {
     "name": "stderr",
     "output_type": "stream",
     "text": [
      "100%|█████████████████████████████████████████| 550/550 [00:48<00:00, 11.32it/s]\n"
     ]
    },
    {
     "name": "stdout",
     "output_type": "stream",
     "text": [
      "R@1 : 85.790\n",
      "R@2 : 89.640\n",
      "R@4 : 92.449\n",
      "R@8 : 94.756\n",
      "R@16 : 96.398\n",
      "R@32 : 97.784\n"
     ]
    },
    {
     "name": "stderr",
     "output_type": "stream",
     "text": [
      "Train Epoch: 35 [549/549 (100%)] Loss: 0.242151: : 549it [02:24,  3.80it/s]\n"
     ]
    },
    {
     "name": "stdout",
     "output_type": "stream",
     "text": [
      "**Evaluating...**\n"
     ]
    },
    {
     "name": "stderr",
     "output_type": "stream",
     "text": [
      "100%|█████████████████████████████████████████| 550/550 [00:47<00:00, 11.53it/s]\n"
     ]
    },
    {
     "name": "stdout",
     "output_type": "stream",
     "text": [
      "R@1 : 85.772\n",
      "R@2 : 89.804\n",
      "R@4 : 92.660\n",
      "R@8 : 95.000\n",
      "R@16 : 96.769\n",
      "R@32 : 97.988\n"
     ]
    },
    {
     "name": "stderr",
     "output_type": "stream",
     "text": [
      "Train Epoch: 36 [549/549 (100%)] Loss: 0.175734: : 549it [02:24,  3.80it/s]\n"
     ]
    },
    {
     "name": "stdout",
     "output_type": "stream",
     "text": [
      "**Evaluating...**\n"
     ]
    },
    {
     "name": "stderr",
     "output_type": "stream",
     "text": [
      "100%|█████████████████████████████████████████| 550/550 [00:47<00:00, 11.53it/s]\n"
     ]
    },
    {
     "name": "stdout",
     "output_type": "stream",
     "text": [
      "R@1 : 86.005\n",
      "R@2 : 89.800\n",
      "R@4 : 92.711\n",
      "R@8 : 95.080\n",
      "R@16 : 96.729\n",
      "R@32 : 97.904\n"
     ]
    },
    {
     "name": "stderr",
     "output_type": "stream",
     "text": [
      "Train Epoch: 37 [549/549 (100%)] Loss: 0.237908: : 549it [02:24,  3.80it/s]\n"
     ]
    },
    {
     "name": "stdout",
     "output_type": "stream",
     "text": [
      "**Evaluating...**\n"
     ]
    },
    {
     "name": "stderr",
     "output_type": "stream",
     "text": [
      "100%|█████████████████████████████████████████| 550/550 [00:47<00:00, 11.53it/s]\n"
     ]
    },
    {
     "name": "stdout",
     "output_type": "stream",
     "text": [
      "R@1 : 86.059\n",
      "R@2 : 89.917\n",
      "R@4 : 92.726\n",
      "R@8 : 95.007\n",
      "R@16 : 96.689\n",
      "R@32 : 97.900\n"
     ]
    },
    {
     "name": "stderr",
     "output_type": "stream",
     "text": [
      "Train Epoch: 38 [549/549 (100%)] Loss: 0.150168: : 549it [02:24,  3.80it/s]\n"
     ]
    },
    {
     "name": "stdout",
     "output_type": "stream",
     "text": [
      "**Evaluating...**\n"
     ]
    },
    {
     "name": "stderr",
     "output_type": "stream",
     "text": [
      "100%|█████████████████████████████████████████| 550/550 [00:47<00:00, 11.53it/s]\n"
     ]
    },
    {
     "name": "stdout",
     "output_type": "stream",
     "text": [
      "R@1 : 85.874\n",
      "R@2 : 89.636\n",
      "R@4 : 92.468\n",
      "R@8 : 94.847\n",
      "R@16 : 96.605\n",
      "R@32 : 97.871\n"
     ]
    },
    {
     "name": "stderr",
     "output_type": "stream",
     "text": [
      "Train Epoch: 39 [549/549 (100%)] Loss: 0.102228: : 549it [02:24,  3.80it/s]\n"
     ]
    },
    {
     "name": "stdout",
     "output_type": "stream",
     "text": [
      "**Evaluating...**\n"
     ]
    },
    {
     "name": "stderr",
     "output_type": "stream",
     "text": [
      "100%|█████████████████████████████████████████| 550/550 [00:47<00:00, 11.53it/s]\n"
     ]
    },
    {
     "name": "stdout",
     "output_type": "stream",
     "text": [
      "R@1 : 86.376\n",
      "R@2 : 90.142\n",
      "R@4 : 93.130\n",
      "R@8 : 95.259\n",
      "R@16 : 96.943\n",
      "R@32 : 98.079\n"
     ]
    },
    {
     "name": "stderr",
     "output_type": "stream",
     "text": [
      "Train Epoch: 40 [549/549 (100%)] Loss: 0.308140: : 549it [02:24,  3.80it/s]\n"
     ]
    },
    {
     "name": "stdout",
     "output_type": "stream",
     "text": [
      "**Evaluating...**\n"
     ]
    },
    {
     "name": "stderr",
     "output_type": "stream",
     "text": [
      "100%|█████████████████████████████████████████| 550/550 [00:47<00:00, 11.53it/s]\n"
     ]
    },
    {
     "name": "stdout",
     "output_type": "stream",
     "text": [
      "R@1 : 85.699\n",
      "R@2 : 89.644\n",
      "R@4 : 92.599\n",
      "R@8 : 95.026\n",
      "R@16 : 96.685\n",
      "R@32 : 97.908\n"
     ]
    },
    {
     "name": "stderr",
     "output_type": "stream",
     "text": [
      "Train Epoch: 41 [549/549 (100%)] Loss: 0.116085: : 549it [02:24,  3.80it/s]\n"
     ]
    },
    {
     "name": "stdout",
     "output_type": "stream",
     "text": [
      "**Evaluating...**\n"
     ]
    },
    {
     "name": "stderr",
     "output_type": "stream",
     "text": [
      "100%|█████████████████████████████████████████| 550/550 [00:47<00:00, 11.53it/s]\n"
     ]
    },
    {
     "name": "stdout",
     "output_type": "stream",
     "text": [
      "R@1 : 86.427\n",
      "R@2 : 90.153\n",
      "R@4 : 92.995\n",
      "R@8 : 95.215\n",
      "R@16 : 96.707\n",
      "R@32 : 98.031\n"
     ]
    },
    {
     "name": "stderr",
     "output_type": "stream",
     "text": [
      "Train Epoch: 42 [549/549 (100%)] Loss: 0.214271: : 549it [02:24,  3.80it/s]\n"
     ]
    },
    {
     "name": "stdout",
     "output_type": "stream",
     "text": [
      "**Evaluating...**\n"
     ]
    },
    {
     "name": "stderr",
     "output_type": "stream",
     "text": [
      "100%|█████████████████████████████████████████| 550/550 [00:47<00:00, 11.53it/s]\n"
     ]
    },
    {
     "name": "stdout",
     "output_type": "stream",
     "text": [
      "R@1 : 86.281\n",
      "R@2 : 90.175\n",
      "R@4 : 93.035\n",
      "R@8 : 95.066\n",
      "R@16 : 96.769\n",
      "R@32 : 98.017\n"
     ]
    },
    {
     "name": "stderr",
     "output_type": "stream",
     "text": [
      "Train Epoch: 43 [549/549 (100%)] Loss: 0.202367: : 549it [02:24,  3.80it/s]\n"
     ]
    },
    {
     "name": "stdout",
     "output_type": "stream",
     "text": [
      "**Evaluating...**\n"
     ]
    },
    {
     "name": "stderr",
     "output_type": "stream",
     "text": [
      "100%|█████████████████████████████████████████| 550/550 [00:47<00:00, 11.53it/s]\n"
     ]
    },
    {
     "name": "stdout",
     "output_type": "stream",
     "text": [
      "R@1 : 86.380\n",
      "R@2 : 90.095\n",
      "R@4 : 92.850\n",
      "R@8 : 94.982\n",
      "R@16 : 96.703\n",
      "R@32 : 97.973\n"
     ]
    },
    {
     "name": "stderr",
     "output_type": "stream",
     "text": [
      "Train Epoch: 44 [549/549 (100%)] Loss: 0.119996: : 549it [02:24,  3.80it/s]\n"
     ]
    },
    {
     "name": "stdout",
     "output_type": "stream",
     "text": [
      "**Evaluating...**\n"
     ]
    },
    {
     "name": "stderr",
     "output_type": "stream",
     "text": [
      "100%|█████████████████████████████████████████| 550/550 [00:47<00:00, 11.53it/s]\n"
     ]
    },
    {
     "name": "stdout",
     "output_type": "stream",
     "text": [
      "R@1 : 86.769\n",
      "R@2 : 90.637\n",
      "R@4 : 93.381\n",
      "R@8 : 95.608\n",
      "R@16 : 97.060\n",
      "R@32 : 98.173\n"
     ]
    },
    {
     "name": "stderr",
     "output_type": "stream",
     "text": [
      "Train Epoch: 45 [549/549 (100%)] Loss: 0.260162: : 549it [02:24,  3.80it/s]\n"
     ]
    },
    {
     "name": "stdout",
     "output_type": "stream",
     "text": [
      "**Evaluating...**\n"
     ]
    },
    {
     "name": "stderr",
     "output_type": "stream",
     "text": [
      "100%|█████████████████████████████████████████| 550/550 [00:47<00:00, 11.53it/s]\n"
     ]
    },
    {
     "name": "stdout",
     "output_type": "stream",
     "text": [
      "R@1 : 86.926\n",
      "R@2 : 90.586\n",
      "R@4 : 93.181\n",
      "R@8 : 95.193\n",
      "R@16 : 96.911\n",
      "R@32 : 98.111\n"
     ]
    },
    {
     "name": "stderr",
     "output_type": "stream",
     "text": [
      "Train Epoch: 46 [549/549 (100%)] Loss: 0.150003: : 549it [02:24,  3.80it/s]\n"
     ]
    },
    {
     "name": "stdout",
     "output_type": "stream",
     "text": [
      "**Evaluating...**\n"
     ]
    },
    {
     "name": "stderr",
     "output_type": "stream",
     "text": [
      "100%|█████████████████████████████████████████| 550/550 [00:47<00:00, 11.52it/s]\n"
     ]
    },
    {
     "name": "stdout",
     "output_type": "stream",
     "text": [
      "R@1 : 86.765\n",
      "R@2 : 90.364\n",
      "R@4 : 93.188\n",
      "R@8 : 95.451\n",
      "R@16 : 96.991\n",
      "R@32 : 98.177\n"
     ]
    },
    {
     "name": "stderr",
     "output_type": "stream",
     "text": [
      "Train Epoch: 47 [549/549 (100%)] Loss: 0.121971: : 549it [02:24,  3.80it/s]\n"
     ]
    },
    {
     "name": "stdout",
     "output_type": "stream",
     "text": [
      "**Evaluating...**\n"
     ]
    },
    {
     "name": "stderr",
     "output_type": "stream",
     "text": [
      "100%|█████████████████████████████████████████| 550/550 [00:47<00:00, 11.53it/s]\n"
     ]
    },
    {
     "name": "stdout",
     "output_type": "stream",
     "text": [
      "R@1 : 86.398\n",
      "R@2 : 90.350\n",
      "R@4 : 93.370\n",
      "R@8 : 95.324\n",
      "R@16 : 96.954\n",
      "R@32 : 98.184\n"
     ]
    },
    {
     "name": "stderr",
     "output_type": "stream",
     "text": [
      "Train Epoch: 48 [549/549 (100%)] Loss: 0.228583: : 549it [02:24,  3.80it/s]\n"
     ]
    },
    {
     "name": "stdout",
     "output_type": "stream",
     "text": [
      "**Evaluating...**\n"
     ]
    },
    {
     "name": "stderr",
     "output_type": "stream",
     "text": [
      "100%|█████████████████████████████████████████| 550/550 [00:47<00:00, 11.53it/s]\n"
     ]
    },
    {
     "name": "stdout",
     "output_type": "stream",
     "text": [
      "R@1 : 86.736\n",
      "R@2 : 90.401\n",
      "R@4 : 93.163\n",
      "R@8 : 95.357\n",
      "R@16 : 96.911\n",
      "R@32 : 98.079\n"
     ]
    },
    {
     "name": "stderr",
     "output_type": "stream",
     "text": [
      "Train Epoch: 49 [549/549 (100%)] Loss: 0.133711: : 549it [02:24,  3.80it/s]\n"
     ]
    },
    {
     "name": "stdout",
     "output_type": "stream",
     "text": [
      "**Evaluating...**\n"
     ]
    },
    {
     "name": "stderr",
     "output_type": "stream",
     "text": [
      "100%|█████████████████████████████████████████| 550/550 [00:47<00:00, 11.53it/s]\n"
     ]
    },
    {
     "name": "stdout",
     "output_type": "stream",
     "text": [
      "R@1 : 86.547\n",
      "R@2 : 90.088\n",
      "R@4 : 93.152\n",
      "R@8 : 95.317\n",
      "R@16 : 96.976\n",
      "R@32 : 98.079\n"
     ]
    },
    {
     "name": "stderr",
     "output_type": "stream",
     "text": [
      "Train Epoch: 50 [549/549 (100%)] Loss: 0.144433: : 549it [02:24,  3.80it/s]\n"
     ]
    },
    {
     "name": "stdout",
     "output_type": "stream",
     "text": [
      "**Evaluating...**\n"
     ]
    },
    {
     "name": "stderr",
     "output_type": "stream",
     "text": [
      "100%|█████████████████████████████████████████| 550/550 [00:47<00:00, 11.53it/s]\n"
     ]
    },
    {
     "name": "stdout",
     "output_type": "stream",
     "text": [
      "R@1 : 86.278\n",
      "R@2 : 89.971\n",
      "R@4 : 92.944\n",
      "R@8 : 95.131\n",
      "R@16 : 96.816\n",
      "R@32 : 98.046\n"
     ]
    },
    {
     "name": "stderr",
     "output_type": "stream",
     "text": [
      "Train Epoch: 51 [549/549 (100%)] Loss: 0.177142: : 549it [02:24,  3.80it/s]\n"
     ]
    },
    {
     "name": "stdout",
     "output_type": "stream",
     "text": [
      "**Evaluating...**\n"
     ]
    },
    {
     "name": "stderr",
     "output_type": "stream",
     "text": [
      "100%|█████████████████████████████████████████| 550/550 [00:47<00:00, 11.53it/s]\n"
     ]
    },
    {
     "name": "stdout",
     "output_type": "stream",
     "text": [
      "R@1 : 86.744\n",
      "R@2 : 90.419\n",
      "R@4 : 93.184\n",
      "R@8 : 95.284\n",
      "R@16 : 96.889\n",
      "R@32 : 98.053\n"
     ]
    },
    {
     "name": "stderr",
     "output_type": "stream",
     "text": [
      "Train Epoch: 52 [549/549 (100%)] Loss: 0.179695: : 549it [02:24,  3.80it/s]\n"
     ]
    },
    {
     "name": "stdout",
     "output_type": "stream",
     "text": [
      "**Evaluating...**\n"
     ]
    },
    {
     "name": "stderr",
     "output_type": "stream",
     "text": [
      "100%|█████████████████████████████████████████| 550/550 [00:47<00:00, 11.50it/s]\n"
     ]
    },
    {
     "name": "stdout",
     "output_type": "stream",
     "text": [
      "R@1 : 86.525\n",
      "R@2 : 90.419\n",
      "R@4 : 93.184\n",
      "R@8 : 95.484\n",
      "R@16 : 96.962\n",
      "R@32 : 98.115\n"
     ]
    },
    {
     "name": "stderr",
     "output_type": "stream",
     "text": [
      "Train Epoch: 53 [549/549 (100%)] Loss: 0.138324: : 549it [02:24,  3.80it/s]\n"
     ]
    },
    {
     "name": "stdout",
     "output_type": "stream",
     "text": [
      "**Evaluating...**\n"
     ]
    },
    {
     "name": "stderr",
     "output_type": "stream",
     "text": [
      "100%|█████████████████████████████████████████| 550/550 [00:47<00:00, 11.52it/s]\n"
     ]
    },
    {
     "name": "stdout",
     "output_type": "stream",
     "text": [
      "R@1 : 86.820\n",
      "R@2 : 90.459\n",
      "R@4 : 93.192\n",
      "R@8 : 95.229\n",
      "R@16 : 96.907\n",
      "R@32 : 98.097\n"
     ]
    },
    {
     "name": "stderr",
     "output_type": "stream",
     "text": [
      "Train Epoch: 54 [549/549 (100%)] Loss: 0.199512: : 549it [02:24,  3.80it/s]\n"
     ]
    },
    {
     "name": "stdout",
     "output_type": "stream",
     "text": [
      "**Evaluating...**\n"
     ]
    },
    {
     "name": "stderr",
     "output_type": "stream",
     "text": [
      "100%|█████████████████████████████████████████| 550/550 [00:47<00:00, 11.52it/s]\n"
     ]
    },
    {
     "name": "stdout",
     "output_type": "stream",
     "text": [
      "R@1 : 86.882\n",
      "R@2 : 90.463\n",
      "R@4 : 93.323\n",
      "R@8 : 95.335\n",
      "R@16 : 96.965\n",
      "R@32 : 98.075\n"
     ]
    },
    {
     "name": "stderr",
     "output_type": "stream",
     "text": [
      "Train Epoch: 55 [549/549 (100%)] Loss: 0.242870: : 549it [02:24,  3.80it/s]\n"
     ]
    },
    {
     "name": "stdout",
     "output_type": "stream",
     "text": [
      "**Evaluating...**\n"
     ]
    },
    {
     "name": "stderr",
     "output_type": "stream",
     "text": [
      "100%|█████████████████████████████████████████| 550/550 [00:47<00:00, 11.53it/s]\n"
     ]
    },
    {
     "name": "stdout",
     "output_type": "stream",
     "text": [
      "R@1 : 87.169\n",
      "R@2 : 90.619\n",
      "R@4 : 93.417\n",
      "R@8 : 95.513\n",
      "R@16 : 97.027\n",
      "R@32 : 98.188\n"
     ]
    },
    {
     "name": "stderr",
     "output_type": "stream",
     "text": [
      "Train Epoch: 56 [549/549 (100%)] Loss: 0.113982: : 549it [02:24,  3.80it/s]\n"
     ]
    },
    {
     "name": "stdout",
     "output_type": "stream",
     "text": [
      "**Evaluating...**\n"
     ]
    },
    {
     "name": "stderr",
     "output_type": "stream",
     "text": [
      "100%|█████████████████████████████████████████| 550/550 [00:47<00:00, 11.52it/s]\n"
     ]
    },
    {
     "name": "stdout",
     "output_type": "stream",
     "text": [
      "R@1 : 86.696\n",
      "R@2 : 90.313\n",
      "R@4 : 93.232\n",
      "R@8 : 95.309\n",
      "R@16 : 97.042\n",
      "R@32 : 98.170\n"
     ]
    },
    {
     "name": "stderr",
     "output_type": "stream",
     "text": [
      "Train Epoch: 57 [549/549 (100%)] Loss: 0.199811: : 549it [02:24,  3.80it/s]\n"
     ]
    },
    {
     "name": "stdout",
     "output_type": "stream",
     "text": [
      "**Evaluating...**\n"
     ]
    },
    {
     "name": "stderr",
     "output_type": "stream",
     "text": [
      "100%|█████████████████████████████████████████| 550/550 [00:47<00:00, 11.53it/s]\n"
     ]
    },
    {
     "name": "stdout",
     "output_type": "stream",
     "text": [
      "R@1 : 87.264\n",
      "R@2 : 90.674\n",
      "R@4 : 93.446\n",
      "R@8 : 95.535\n",
      "R@16 : 97.012\n",
      "R@32 : 98.162\n"
     ]
    },
    {
     "name": "stderr",
     "output_type": "stream",
     "text": [
      "Train Epoch: 58 [549/549 (100%)] Loss: 0.125601: : 549it [02:24,  3.80it/s]\n"
     ]
    },
    {
     "name": "stdout",
     "output_type": "stream",
     "text": [
      "**Evaluating...**\n"
     ]
    },
    {
     "name": "stderr",
     "output_type": "stream",
     "text": [
      "100%|█████████████████████████████████████████| 550/550 [00:47<00:00, 11.53it/s]\n"
     ]
    },
    {
     "name": "stdout",
     "output_type": "stream",
     "text": [
      "R@1 : 86.856\n",
      "R@2 : 90.612\n",
      "R@4 : 93.359\n",
      "R@8 : 95.426\n",
      "R@16 : 96.943\n",
      "R@32 : 98.108\n"
     ]
    },
    {
     "name": "stderr",
     "output_type": "stream",
     "text": [
      "Train Epoch: 59 [549/549 (100%)] Loss: 0.090193: : 549it [02:24,  3.80it/s]\n"
     ]
    },
    {
     "name": "stdout",
     "output_type": "stream",
     "text": [
      "**Evaluating...**\n"
     ]
    },
    {
     "name": "stderr",
     "output_type": "stream",
     "text": [
      "100%|█████████████████████████████████████████| 550/550 [00:47<00:00, 11.51it/s]\n"
     ]
    },
    {
     "name": "stdout",
     "output_type": "stream",
     "text": [
      "R@1 : 86.816\n",
      "R@2 : 90.492\n",
      "R@4 : 93.279\n",
      "R@8 : 95.448\n",
      "R@16 : 97.114\n",
      "R@32 : 98.319\n"
     ]
    },
    {
     "name": "stderr",
     "output_type": "stream",
     "text": [
      "Train Epoch: 60 [549/549 (100%)] Loss: 0.082235: : 549it [02:24,  3.80it/s]\n"
     ]
    },
    {
     "name": "stdout",
     "output_type": "stream",
     "text": [
      "**Evaluating...**\n"
     ]
    },
    {
     "name": "stderr",
     "output_type": "stream",
     "text": [
      "100%|█████████████████████████████████████████| 550/550 [00:47<00:00, 11.53it/s]\n"
     ]
    },
    {
     "name": "stdout",
     "output_type": "stream",
     "text": [
      "R@1 : 86.838\n",
      "R@2 : 90.546\n",
      "R@4 : 93.352\n",
      "R@8 : 95.470\n",
      "R@16 : 97.042\n",
      "R@32 : 98.257\n"
     ]
    },
    {
     "name": "stderr",
     "output_type": "stream",
     "text": [
      "Train Epoch: 61 [549/549 (100%)] Loss: 0.142826: : 549it [02:24,  3.80it/s]\n"
     ]
    },
    {
     "name": "stdout",
     "output_type": "stream",
     "text": [
      "**Evaluating...**\n"
     ]
    },
    {
     "name": "stderr",
     "output_type": "stream",
     "text": [
      "100%|█████████████████████████████████████████| 550/550 [00:47<00:00, 11.52it/s]\n"
     ]
    },
    {
     "name": "stdout",
     "output_type": "stream",
     "text": [
      "R@1 : 87.158\n",
      "R@2 : 90.779\n",
      "R@4 : 93.596\n",
      "R@8 : 95.666\n",
      "R@16 : 97.227\n",
      "R@32 : 98.337\n"
     ]
    },
    {
     "name": "stderr",
     "output_type": "stream",
     "text": [
      "Train Epoch: 62 [549/549 (100%)] Loss: 0.240275: : 549it [02:24,  3.80it/s]\n"
     ]
    },
    {
     "name": "stdout",
     "output_type": "stream",
     "text": [
      "**Evaluating...**\n"
     ]
    },
    {
     "name": "stderr",
     "output_type": "stream",
     "text": [
      "100%|█████████████████████████████████████████| 550/550 [00:47<00:00, 11.53it/s]\n"
     ]
    },
    {
     "name": "stdout",
     "output_type": "stream",
     "text": [
      "R@1 : 86.875\n",
      "R@2 : 90.510\n",
      "R@4 : 93.399\n",
      "R@8 : 95.601\n",
      "R@16 : 97.158\n",
      "R@32 : 98.232\n"
     ]
    },
    {
     "name": "stderr",
     "output_type": "stream",
     "text": [
      "Train Epoch: 63 [549/549 (100%)] Loss: 0.219067: : 549it [02:24,  3.80it/s]\n"
     ]
    },
    {
     "name": "stdout",
     "output_type": "stream",
     "text": [
      "**Evaluating...**\n"
     ]
    },
    {
     "name": "stderr",
     "output_type": "stream",
     "text": [
      "100%|█████████████████████████████████████████| 550/550 [00:47<00:00, 11.53it/s]\n"
     ]
    },
    {
     "name": "stdout",
     "output_type": "stream",
     "text": [
      "R@1 : 86.907\n",
      "R@2 : 90.455\n",
      "R@4 : 93.177\n",
      "R@8 : 95.259\n",
      "R@16 : 97.027\n",
      "R@32 : 98.148\n"
     ]
    },
    {
     "name": "stderr",
     "output_type": "stream",
     "text": [
      "Train Epoch: 64 [549/549 (100%)] Loss: 0.157049: : 549it [02:24,  3.80it/s]\n"
     ]
    },
    {
     "name": "stdout",
     "output_type": "stream",
     "text": [
      "**Evaluating...**\n"
     ]
    },
    {
     "name": "stderr",
     "output_type": "stream",
     "text": [
      "100%|█████████████████████████████████████████| 550/550 [00:47<00:00, 11.53it/s]\n"
     ]
    },
    {
     "name": "stdout",
     "output_type": "stream",
     "text": [
      "R@1 : 86.707\n",
      "R@2 : 90.444\n",
      "R@4 : 93.243\n",
      "R@8 : 95.317\n",
      "R@16 : 97.005\n",
      "R@32 : 98.199\n"
     ]
    },
    {
     "name": "stderr",
     "output_type": "stream",
     "text": [
      "Train Epoch: 65 [549/549 (100%)] Loss: 0.112246: : 549it [02:24,  3.80it/s]\n"
     ]
    },
    {
     "name": "stdout",
     "output_type": "stream",
     "text": [
      "**Evaluating...**\n"
     ]
    },
    {
     "name": "stderr",
     "output_type": "stream",
     "text": [
      "100%|█████████████████████████████████████████| 550/550 [00:47<00:00, 11.53it/s]\n"
     ]
    },
    {
     "name": "stdout",
     "output_type": "stream",
     "text": [
      "R@1 : 86.562\n",
      "R@2 : 90.448\n",
      "R@4 : 93.261\n",
      "R@8 : 95.346\n",
      "R@16 : 96.980\n",
      "R@32 : 98.115\n"
     ]
    },
    {
     "name": "stderr",
     "output_type": "stream",
     "text": [
      "Train Epoch: 66 [549/549 (100%)] Loss: 0.207082: : 549it [02:24,  3.80it/s]\n"
     ]
    },
    {
     "name": "stdout",
     "output_type": "stream",
     "text": [
      "**Evaluating...**\n"
     ]
    },
    {
     "name": "stderr",
     "output_type": "stream",
     "text": [
      "100%|█████████████████████████████████████████| 550/550 [00:47<00:00, 11.53it/s]\n"
     ]
    },
    {
     "name": "stdout",
     "output_type": "stream",
     "text": [
      "R@1 : 87.060\n",
      "R@2 : 90.561\n",
      "R@4 : 93.235\n",
      "R@8 : 95.346\n",
      "R@16 : 96.932\n",
      "R@32 : 98.181\n"
     ]
    },
    {
     "name": "stderr",
     "output_type": "stream",
     "text": [
      "Train Epoch: 67 [549/549 (100%)] Loss: 0.136680: : 549it [02:24,  3.80it/s]\n"
     ]
    },
    {
     "name": "stdout",
     "output_type": "stream",
     "text": [
      "**Evaluating...**\n"
     ]
    },
    {
     "name": "stderr",
     "output_type": "stream",
     "text": [
      "100%|█████████████████████████████████████████| 550/550 [00:47<00:00, 11.52it/s]\n"
     ]
    },
    {
     "name": "stdout",
     "output_type": "stream",
     "text": [
      "R@1 : 86.664\n",
      "R@2 : 90.503\n",
      "R@4 : 93.246\n",
      "R@8 : 95.364\n",
      "R@16 : 96.954\n",
      "R@32 : 98.148\n"
     ]
    },
    {
     "name": "stderr",
     "output_type": "stream",
     "text": [
      "Train Epoch: 68 [549/549 (100%)] Loss: 0.078263: : 549it [02:24,  3.80it/s]\n"
     ]
    },
    {
     "name": "stdout",
     "output_type": "stream",
     "text": [
      "**Evaluating...**\n"
     ]
    },
    {
     "name": "stderr",
     "output_type": "stream",
     "text": [
      "100%|█████████████████████████████████████████| 550/550 [00:47<00:00, 11.53it/s]\n"
     ]
    },
    {
     "name": "stdout",
     "output_type": "stream",
     "text": [
      "R@1 : 86.918\n",
      "R@2 : 90.539\n",
      "R@4 : 93.374\n",
      "R@8 : 95.390\n",
      "R@16 : 96.980\n",
      "R@32 : 98.181\n"
     ]
    },
    {
     "name": "stderr",
     "output_type": "stream",
     "text": [
      "Train Epoch: 69 [549/549 (100%)] Loss: 0.133606: : 549it [02:24,  3.80it/s]\n"
     ]
    },
    {
     "name": "stdout",
     "output_type": "stream",
     "text": [
      "**Evaluating...**\n"
     ]
    },
    {
     "name": "stderr",
     "output_type": "stream",
     "text": [
      "100%|█████████████████████████████████████████| 550/550 [00:47<00:00, 11.53it/s]\n"
     ]
    },
    {
     "name": "stdout",
     "output_type": "stream",
     "text": [
      "R@1 : 87.515\n",
      "R@2 : 90.917\n",
      "R@4 : 93.621\n",
      "R@8 : 95.692\n",
      "R@16 : 97.136\n",
      "R@32 : 98.191\n"
     ]
    },
    {
     "name": "stderr",
     "output_type": "stream",
     "text": [
      "Train Epoch: 70 [549/549 (100%)] Loss: 0.101574: : 549it [02:24,  3.80it/s]\n"
     ]
    },
    {
     "name": "stdout",
     "output_type": "stream",
     "text": [
      "**Evaluating...**\n"
     ]
    },
    {
     "name": "stderr",
     "output_type": "stream",
     "text": [
      "100%|█████████████████████████████████████████| 550/550 [00:47<00:00, 11.53it/s]\n"
     ]
    },
    {
     "name": "stdout",
     "output_type": "stream",
     "text": [
      "R@1 : 87.129\n",
      "R@2 : 90.655\n",
      "R@4 : 93.421\n",
      "R@8 : 95.561\n",
      "R@16 : 97.220\n",
      "R@32 : 98.341\n"
     ]
    },
    {
     "name": "stderr",
     "output_type": "stream",
     "text": [
      "Train Epoch: 71 [549/549 (100%)] Loss: 0.102333: : 549it [02:24,  3.80it/s]\n"
     ]
    },
    {
     "name": "stdout",
     "output_type": "stream",
     "text": [
      "**Evaluating...**\n"
     ]
    },
    {
     "name": "stderr",
     "output_type": "stream",
     "text": [
      "100%|█████████████████████████████████████████| 550/550 [00:47<00:00, 11.53it/s]\n"
     ]
    },
    {
     "name": "stdout",
     "output_type": "stream",
     "text": [
      "R@1 : 87.399\n",
      "R@2 : 90.917\n",
      "R@4 : 93.556\n",
      "R@8 : 95.608\n",
      "R@16 : 97.180\n",
      "R@32 : 98.330\n"
     ]
    },
    {
     "name": "stderr",
     "output_type": "stream",
     "text": [
      "Train Epoch: 72 [549/549 (100%)] Loss: 0.162318: : 549it [02:24,  3.80it/s]\n"
     ]
    },
    {
     "name": "stdout",
     "output_type": "stream",
     "text": [
      "**Evaluating...**\n"
     ]
    },
    {
     "name": "stderr",
     "output_type": "stream",
     "text": [
      "100%|█████████████████████████████████████████| 550/550 [00:47<00:00, 11.53it/s]\n"
     ]
    },
    {
     "name": "stdout",
     "output_type": "stream",
     "text": [
      "R@1 : 87.217\n",
      "R@2 : 90.717\n",
      "R@4 : 93.475\n",
      "R@8 : 95.517\n",
      "R@16 : 97.009\n",
      "R@32 : 98.141\n"
     ]
    },
    {
     "name": "stderr",
     "output_type": "stream",
     "text": [
      "Train Epoch: 73 [549/549 (100%)] Loss: 0.122733: : 549it [02:24,  3.80it/s]\n"
     ]
    },
    {
     "name": "stdout",
     "output_type": "stream",
     "text": [
      "**Evaluating...**\n"
     ]
    },
    {
     "name": "stderr",
     "output_type": "stream",
     "text": [
      "100%|█████████████████████████████████████████| 550/550 [00:47<00:00, 11.53it/s]\n"
     ]
    },
    {
     "name": "stdout",
     "output_type": "stream",
     "text": [
      "R@1 : 86.969\n",
      "R@2 : 90.663\n",
      "R@4 : 93.483\n",
      "R@8 : 95.462\n",
      "R@16 : 97.038\n",
      "R@32 : 98.181\n"
     ]
    },
    {
     "name": "stderr",
     "output_type": "stream",
     "text": [
      "Train Epoch: 74 [549/549 (100%)] Loss: 0.061991: : 549it [02:24,  3.80it/s]\n"
     ]
    },
    {
     "name": "stdout",
     "output_type": "stream",
     "text": [
      "**Evaluating...**\n"
     ]
    },
    {
     "name": "stderr",
     "output_type": "stream",
     "text": [
      "100%|█████████████████████████████████████████| 550/550 [00:47<00:00, 11.53it/s]\n"
     ]
    },
    {
     "name": "stdout",
     "output_type": "stream",
     "text": [
      "R@1 : 87.057\n",
      "R@2 : 90.794\n",
      "R@4 : 93.381\n",
      "R@8 : 95.568\n",
      "R@16 : 97.136\n",
      "R@32 : 98.355\n"
     ]
    },
    {
     "name": "stderr",
     "output_type": "stream",
     "text": [
      "Train Epoch: 75 [549/549 (100%)] Loss: 0.116034: : 549it [02:24,  3.80it/s]\n"
     ]
    },
    {
     "name": "stdout",
     "output_type": "stream",
     "text": [
      "**Evaluating...**\n"
     ]
    },
    {
     "name": "stderr",
     "output_type": "stream",
     "text": [
      "100%|█████████████████████████████████████████| 550/550 [00:47<00:00, 11.52it/s]\n"
     ]
    },
    {
     "name": "stdout",
     "output_type": "stream",
     "text": [
      "R@1 : 87.075\n",
      "R@2 : 90.721\n",
      "R@4 : 93.461\n",
      "R@8 : 95.513\n",
      "R@16 : 97.042\n",
      "R@32 : 98.177\n"
     ]
    },
    {
     "name": "stderr",
     "output_type": "stream",
     "text": [
      "Train Epoch: 76 [549/549 (100%)] Loss: 0.135495: : 549it [02:24,  3.80it/s]\n"
     ]
    },
    {
     "name": "stdout",
     "output_type": "stream",
     "text": [
      "**Evaluating...**\n"
     ]
    },
    {
     "name": "stderr",
     "output_type": "stream",
     "text": [
      "100%|█████████████████████████████████████████| 550/550 [00:47<00:00, 11.54it/s]\n"
     ]
    },
    {
     "name": "stdout",
     "output_type": "stream",
     "text": [
      "R@1 : 87.366\n",
      "R@2 : 90.768\n",
      "R@4 : 93.410\n",
      "R@8 : 95.444\n",
      "R@16 : 97.071\n",
      "R@32 : 98.232\n"
     ]
    },
    {
     "name": "stderr",
     "output_type": "stream",
     "text": [
      "Train Epoch: 77 [549/549 (100%)] Loss: 0.134077: : 549it [02:24,  3.80it/s]\n"
     ]
    },
    {
     "name": "stdout",
     "output_type": "stream",
     "text": [
      "**Evaluating...**\n"
     ]
    },
    {
     "name": "stderr",
     "output_type": "stream",
     "text": [
      "100%|█████████████████████████████████████████| 550/550 [00:47<00:00, 11.53it/s]\n"
     ]
    },
    {
     "name": "stdout",
     "output_type": "stream",
     "text": [
      "R@1 : 87.093\n",
      "R@2 : 90.644\n",
      "R@4 : 93.425\n",
      "R@8 : 95.601\n",
      "R@16 : 97.173\n",
      "R@32 : 98.326\n"
     ]
    },
    {
     "name": "stderr",
     "output_type": "stream",
     "text": [
      "Train Epoch: 78 [549/549 (100%)] Loss: 0.095284: : 549it [02:24,  3.80it/s]\n"
     ]
    },
    {
     "name": "stdout",
     "output_type": "stream",
     "text": [
      "**Evaluating...**\n"
     ]
    },
    {
     "name": "stderr",
     "output_type": "stream",
     "text": [
      "100%|█████████████████████████████████████████| 550/550 [00:47<00:00, 11.53it/s]\n"
     ]
    },
    {
     "name": "stdout",
     "output_type": "stream",
     "text": [
      "R@1 : 87.118\n",
      "R@2 : 90.783\n",
      "R@4 : 93.534\n",
      "R@8 : 95.612\n",
      "R@16 : 97.147\n",
      "R@32 : 98.195\n"
     ]
    },
    {
     "name": "stderr",
     "output_type": "stream",
     "text": [
      "Train Epoch: 79 [549/549 (100%)] Loss: 0.111051: : 549it [02:24,  3.80it/s]\n"
     ]
    },
    {
     "name": "stdout",
     "output_type": "stream",
     "text": [
      "**Evaluating...**\n"
     ]
    },
    {
     "name": "stderr",
     "output_type": "stream",
     "text": [
      "100%|█████████████████████████████████████████| 550/550 [00:47<00:00, 11.52it/s]\n"
     ]
    },
    {
     "name": "stdout",
     "output_type": "stream",
     "text": [
      "R@1 : 86.947\n",
      "R@2 : 90.634\n",
      "R@4 : 93.414\n",
      "R@8 : 95.521\n",
      "R@16 : 97.031\n",
      "R@32 : 98.031\n"
     ]
    },
    {
     "name": "stderr",
     "output_type": "stream",
     "text": [
      "Train Epoch: 80 [549/549 (100%)] Loss: 0.155188: : 549it [02:24,  3.80it/s]\n"
     ]
    },
    {
     "name": "stdout",
     "output_type": "stream",
     "text": [
      "**Evaluating...**\n"
     ]
    },
    {
     "name": "stderr",
     "output_type": "stream",
     "text": [
      "100%|█████████████████████████████████████████| 550/550 [00:47<00:00, 11.51it/s]\n"
     ]
    },
    {
     "name": "stdout",
     "output_type": "stream",
     "text": [
      "R@1 : 87.682\n",
      "R@2 : 91.023\n",
      "R@4 : 93.697\n",
      "R@8 : 95.721\n",
      "R@16 : 97.220\n",
      "R@32 : 98.333\n"
     ]
    },
    {
     "name": "stderr",
     "output_type": "stream",
     "text": [
      "Train Epoch: 81 [549/549 (100%)] Loss: 0.157039: : 549it [02:24,  3.80it/s]\n"
     ]
    },
    {
     "name": "stdout",
     "output_type": "stream",
     "text": [
      "**Evaluating...**\n"
     ]
    },
    {
     "name": "stderr",
     "output_type": "stream",
     "text": [
      "100%|█████████████████████████████████████████| 550/550 [00:47<00:00, 11.52it/s]\n"
     ]
    },
    {
     "name": "stdout",
     "output_type": "stream",
     "text": [
      "R@1 : 87.599\n",
      "R@2 : 90.957\n",
      "R@4 : 93.599\n",
      "R@8 : 95.630\n",
      "R@16 : 97.227\n",
      "R@32 : 98.344\n"
     ]
    },
    {
     "name": "stderr",
     "output_type": "stream",
     "text": [
      "Train Epoch: 82 [549/549 (100%)] Loss: 0.085085: : 549it [02:24,  3.80it/s]\n"
     ]
    },
    {
     "name": "stdout",
     "output_type": "stream",
     "text": [
      "**Evaluating...**\n"
     ]
    },
    {
     "name": "stderr",
     "output_type": "stream",
     "text": [
      "100%|█████████████████████████████████████████| 550/550 [00:47<00:00, 11.53it/s]\n"
     ]
    },
    {
     "name": "stdout",
     "output_type": "stream",
     "text": [
      "R@1 : 87.278\n",
      "R@2 : 90.746\n",
      "R@4 : 93.537\n",
      "R@8 : 95.571\n",
      "R@16 : 97.209\n",
      "R@32 : 98.330\n"
     ]
    },
    {
     "name": "stderr",
     "output_type": "stream",
     "text": [
      "Train Epoch: 83 [549/549 (100%)] Loss: 0.175032: : 549it [02:24,  3.80it/s]\n"
     ]
    },
    {
     "name": "stdout",
     "output_type": "stream",
     "text": [
      "**Evaluating...**\n"
     ]
    },
    {
     "name": "stderr",
     "output_type": "stream",
     "text": [
      "100%|█████████████████████████████████████████| 550/550 [00:47<00:00, 11.53it/s]\n"
     ]
    },
    {
     "name": "stdout",
     "output_type": "stream",
     "text": [
      "R@1 : 86.907\n",
      "R@2 : 90.655\n",
      "R@4 : 93.392\n",
      "R@8 : 95.506\n",
      "R@16 : 97.053\n",
      "R@32 : 98.206\n"
     ]
    },
    {
     "name": "stderr",
     "output_type": "stream",
     "text": [
      "Train Epoch: 84 [549/549 (100%)] Loss: 0.152575: : 549it [02:24,  3.80it/s]\n"
     ]
    },
    {
     "name": "stdout",
     "output_type": "stream",
     "text": [
      "**Evaluating...**\n"
     ]
    },
    {
     "name": "stderr",
     "output_type": "stream",
     "text": [
      "100%|█████████████████████████████████████████| 550/550 [00:47<00:00, 11.53it/s]\n"
     ]
    },
    {
     "name": "stdout",
     "output_type": "stream",
     "text": [
      "R@1 : 87.369\n",
      "R@2 : 90.794\n",
      "R@4 : 93.497\n",
      "R@8 : 95.502\n",
      "R@16 : 97.147\n",
      "R@32 : 98.279\n"
     ]
    },
    {
     "name": "stderr",
     "output_type": "stream",
     "text": [
      "Train Epoch: 85 [549/549 (100%)] Loss: 0.134322: : 549it [02:24,  3.80it/s]\n"
     ]
    },
    {
     "name": "stdout",
     "output_type": "stream",
     "text": [
      "**Evaluating...**\n"
     ]
    },
    {
     "name": "stderr",
     "output_type": "stream",
     "text": [
      "100%|█████████████████████████████████████████| 550/550 [00:47<00:00, 11.53it/s]\n"
     ]
    },
    {
     "name": "stdout",
     "output_type": "stream",
     "text": [
      "R@1 : 86.838\n",
      "R@2 : 90.430\n",
      "R@4 : 93.344\n",
      "R@8 : 95.542\n",
      "R@16 : 97.136\n",
      "R@32 : 98.308\n"
     ]
    },
    {
     "name": "stderr",
     "output_type": "stream",
     "text": [
      "Train Epoch: 86 [549/549 (100%)] Loss: 0.084161: : 549it [02:24,  3.80it/s]\n"
     ]
    },
    {
     "name": "stdout",
     "output_type": "stream",
     "text": [
      "**Evaluating...**\n"
     ]
    },
    {
     "name": "stderr",
     "output_type": "stream",
     "text": [
      "100%|█████████████████████████████████████████| 550/550 [00:47<00:00, 11.53it/s]\n"
     ]
    },
    {
     "name": "stdout",
     "output_type": "stream",
     "text": [
      "R@1 : 87.188\n",
      "R@2 : 90.845\n",
      "R@4 : 93.548\n",
      "R@8 : 95.724\n",
      "R@16 : 97.300\n",
      "R@32 : 98.315\n"
     ]
    },
    {
     "name": "stderr",
     "output_type": "stream",
     "text": [
      "Train Epoch: 87 [549/549 (100%)] Loss: 0.074189: : 549it [02:24,  3.80it/s]\n"
     ]
    },
    {
     "name": "stdout",
     "output_type": "stream",
     "text": [
      "**Evaluating...**\n"
     ]
    },
    {
     "name": "stderr",
     "output_type": "stream",
     "text": [
      "100%|█████████████████████████████████████████| 550/550 [00:47<00:00, 11.53it/s]\n"
     ]
    },
    {
     "name": "stdout",
     "output_type": "stream",
     "text": [
      "R@1 : 87.431\n",
      "R@2 : 90.972\n",
      "R@4 : 93.548\n",
      "R@8 : 95.473\n",
      "R@16 : 97.085\n",
      "R@32 : 98.275\n"
     ]
    },
    {
     "name": "stderr",
     "output_type": "stream",
     "text": [
      "Train Epoch: 88 [549/549 (100%)] Loss: 0.142492: : 549it [02:24,  3.80it/s]\n"
     ]
    },
    {
     "name": "stdout",
     "output_type": "stream",
     "text": [
      "**Evaluating...**\n"
     ]
    },
    {
     "name": "stderr",
     "output_type": "stream",
     "text": [
      "100%|█████████████████████████████████████████| 550/550 [00:47<00:00, 11.52it/s]\n"
     ]
    },
    {
     "name": "stdout",
     "output_type": "stream",
     "text": [
      "R@1 : 87.297\n",
      "R@2 : 91.132\n",
      "R@4 : 93.734\n",
      "R@8 : 95.866\n",
      "R@16 : 97.391\n",
      "R@32 : 98.410\n"
     ]
    },
    {
     "name": "stderr",
     "output_type": "stream",
     "text": [
      "Train Epoch: 89 [549/549 (100%)] Loss: 0.127390: : 549it [02:24,  3.80it/s]\n"
     ]
    },
    {
     "name": "stdout",
     "output_type": "stream",
     "text": [
      "**Evaluating...**\n"
     ]
    },
    {
     "name": "stderr",
     "output_type": "stream",
     "text": [
      "100%|█████████████████████████████████████████| 550/550 [00:47<00:00, 11.53it/s]\n"
     ]
    },
    {
     "name": "stdout",
     "output_type": "stream",
     "text": [
      "R@1 : 87.348\n",
      "R@2 : 90.695\n",
      "R@4 : 93.508\n",
      "R@8 : 95.546\n",
      "R@16 : 97.045\n",
      "R@32 : 98.221\n"
     ]
    },
    {
     "name": "stderr",
     "output_type": "stream",
     "text": [
      "Train Epoch: 90 [549/549 (100%)] Loss: 0.143754: : 549it [02:24,  3.80it/s]\n"
     ]
    },
    {
     "name": "stdout",
     "output_type": "stream",
     "text": [
      "**Evaluating...**\n"
     ]
    },
    {
     "name": "stderr",
     "output_type": "stream",
     "text": [
      "100%|█████████████████████████████████████████| 550/550 [00:47<00:00, 11.53it/s]\n"
     ]
    },
    {
     "name": "stdout",
     "output_type": "stream",
     "text": [
      "R@1 : 87.158\n",
      "R@2 : 90.644\n",
      "R@4 : 93.286\n",
      "R@8 : 95.466\n",
      "R@16 : 97.074\n",
      "R@32 : 98.177\n"
     ]
    },
    {
     "name": "stderr",
     "output_type": "stream",
     "text": [
      "Train Epoch: 91 [549/549 (100%)] Loss: 0.075661: : 549it [02:24,  3.80it/s]\n"
     ]
    },
    {
     "name": "stdout",
     "output_type": "stream",
     "text": [
      "**Evaluating...**\n"
     ]
    },
    {
     "name": "stderr",
     "output_type": "stream",
     "text": [
      "100%|█████████████████████████████████████████| 550/550 [00:47<00:00, 11.53it/s]\n"
     ]
    },
    {
     "name": "stdout",
     "output_type": "stream",
     "text": [
      "R@1 : 87.158\n",
      "R@2 : 90.648\n",
      "R@4 : 93.315\n",
      "R@8 : 95.426\n",
      "R@16 : 97.060\n",
      "R@32 : 98.275\n"
     ]
    },
    {
     "name": "stderr",
     "output_type": "stream",
     "text": [
      "Train Epoch: 92 [549/549 (100%)] Loss: 0.118512: : 549it [02:24,  3.80it/s]\n"
     ]
    },
    {
     "name": "stdout",
     "output_type": "stream",
     "text": [
      "**Evaluating...**\n"
     ]
    },
    {
     "name": "stderr",
     "output_type": "stream",
     "text": [
      "100%|█████████████████████████████████████████| 550/550 [00:47<00:00, 11.53it/s]\n"
     ]
    },
    {
     "name": "stdout",
     "output_type": "stream",
     "text": [
      "R@1 : 87.439\n",
      "R@2 : 90.914\n",
      "R@4 : 93.366\n",
      "R@8 : 95.517\n",
      "R@16 : 97.074\n",
      "R@32 : 98.115\n"
     ]
    },
    {
     "name": "stderr",
     "output_type": "stream",
     "text": [
      "Train Epoch: 93 [549/549 (100%)] Loss: 0.159774: : 549it [02:24,  3.80it/s]\n"
     ]
    },
    {
     "name": "stdout",
     "output_type": "stream",
     "text": [
      "**Evaluating...**\n"
     ]
    },
    {
     "name": "stderr",
     "output_type": "stream",
     "text": [
      "100%|█████████████████████████████████████████| 550/550 [00:47<00:00, 11.53it/s]\n"
     ]
    },
    {
     "name": "stdout",
     "output_type": "stream",
     "text": [
      "R@1 : 87.446\n",
      "R@2 : 91.361\n",
      "R@4 : 93.883\n",
      "R@8 : 95.804\n",
      "R@16 : 97.205\n",
      "R@32 : 98.253\n"
     ]
    },
    {
     "name": "stderr",
     "output_type": "stream",
     "text": [
      "Train Epoch: 94 [549/549 (100%)] Loss: 0.104132: : 549it [02:24,  3.80it/s]\n"
     ]
    },
    {
     "name": "stdout",
     "output_type": "stream",
     "text": [
      "**Evaluating...**\n"
     ]
    },
    {
     "name": "stderr",
     "output_type": "stream",
     "text": [
      "100%|█████████████████████████████████████████| 550/550 [00:47<00:00, 11.53it/s]\n"
     ]
    },
    {
     "name": "stdout",
     "output_type": "stream",
     "text": [
      "R@1 : 87.355\n",
      "R@2 : 91.027\n",
      "R@4 : 93.759\n",
      "R@8 : 95.753\n",
      "R@16 : 97.264\n",
      "R@32 : 98.326\n"
     ]
    },
    {
     "name": "stderr",
     "output_type": "stream",
     "text": [
      "Train Epoch: 95 [549/549 (100%)] Loss: 0.217408: : 549it [02:24,  3.80it/s]\n"
     ]
    },
    {
     "name": "stdout",
     "output_type": "stream",
     "text": [
      "**Evaluating...**\n"
     ]
    },
    {
     "name": "stderr",
     "output_type": "stream",
     "text": [
      "100%|█████████████████████████████████████████| 550/550 [00:47<00:00, 11.52it/s]\n"
     ]
    },
    {
     "name": "stdout",
     "output_type": "stream",
     "text": [
      "R@1 : 87.340\n",
      "R@2 : 90.925\n",
      "R@4 : 93.519\n",
      "R@8 : 95.499\n",
      "R@16 : 97.122\n",
      "R@32 : 98.202\n"
     ]
    },
    {
     "name": "stderr",
     "output_type": "stream",
     "text": [
      "Train Epoch: 96 [549/549 (100%)] Loss: 0.210703: : 549it [02:24,  3.80it/s]\n"
     ]
    },
    {
     "name": "stdout",
     "output_type": "stream",
     "text": [
      "**Evaluating...**\n"
     ]
    },
    {
     "name": "stderr",
     "output_type": "stream",
     "text": [
      "100%|█████████████████████████████████████████| 550/550 [00:47<00:00, 11.53it/s]\n"
     ]
    },
    {
     "name": "stdout",
     "output_type": "stream",
     "text": [
      "R@1 : 86.882\n",
      "R@2 : 90.546\n",
      "R@4 : 93.268\n",
      "R@8 : 95.335\n",
      "R@16 : 97.009\n",
      "R@32 : 98.261\n"
     ]
    },
    {
     "name": "stderr",
     "output_type": "stream",
     "text": [
      "Train Epoch: 97 [549/549 (100%)] Loss: 0.109177: : 549it [02:24,  3.80it/s]\n"
     ]
    },
    {
     "name": "stdout",
     "output_type": "stream",
     "text": [
      "**Evaluating...**\n"
     ]
    },
    {
     "name": "stderr",
     "output_type": "stream",
     "text": [
      "100%|█████████████████████████████████████████| 550/550 [00:47<00:00, 11.52it/s]\n"
     ]
    },
    {
     "name": "stdout",
     "output_type": "stream",
     "text": [
      "R@1 : 87.147\n",
      "R@2 : 90.801\n",
      "R@4 : 93.425\n",
      "R@8 : 95.510\n",
      "R@16 : 97.107\n",
      "R@32 : 98.268\n"
     ]
    },
    {
     "name": "stderr",
     "output_type": "stream",
     "text": [
      "Train Epoch: 98 [549/549 (100%)] Loss: 0.119342: : 549it [02:24,  3.80it/s]\n"
     ]
    },
    {
     "name": "stdout",
     "output_type": "stream",
     "text": [
      "**Evaluating...**\n"
     ]
    },
    {
     "name": "stderr",
     "output_type": "stream",
     "text": [
      "100%|█████████████████████████████████████████| 550/550 [00:47<00:00, 11.51it/s]\n"
     ]
    },
    {
     "name": "stdout",
     "output_type": "stream",
     "text": [
      "R@1 : 86.878\n",
      "R@2 : 90.706\n",
      "R@4 : 93.490\n",
      "R@8 : 95.593\n",
      "R@16 : 97.234\n",
      "R@32 : 98.344\n"
     ]
    },
    {
     "name": "stderr",
     "output_type": "stream",
     "text": [
      "Train Epoch: 99 [549/549 (100%)] Loss: 0.140124: : 549it [02:24,  3.80it/s]\n"
     ]
    },
    {
     "name": "stdout",
     "output_type": "stream",
     "text": [
      "**Evaluating...**\n"
     ]
    },
    {
     "name": "stderr",
     "output_type": "stream",
     "text": [
      "100%|█████████████████████████████████████████| 550/550 [00:47<00:00, 11.52it/s]\n"
     ]
    },
    {
     "name": "stdout",
     "output_type": "stream",
     "text": [
      "R@1 : 86.795\n",
      "R@2 : 90.473\n",
      "R@4 : 93.297\n",
      "R@8 : 95.353\n",
      "R@16 : 96.998\n",
      "R@32 : 98.170\n"
     ]
    },
    {
     "name": "stderr",
     "output_type": "stream",
     "text": [
      "Train Epoch: 100 [549/549 (100%)] Loss: 0.113583: : 549it [02:24,  3.80it/s]\n"
     ]
    },
    {
     "name": "stdout",
     "output_type": "stream",
     "text": [
      "**Evaluating...**\n"
     ]
    },
    {
     "name": "stderr",
     "output_type": "stream",
     "text": [
      "100%|█████████████████████████████████████████| 550/550 [00:47<00:00, 11.52it/s]\n"
     ]
    },
    {
     "name": "stdout",
     "output_type": "stream",
     "text": [
      "R@1 : 86.995\n",
      "R@2 : 90.594\n",
      "R@4 : 93.290\n",
      "R@8 : 95.433\n",
      "R@16 : 97.103\n",
      "R@32 : 98.286\n"
     ]
    },
    {
     "name": "stderr",
     "output_type": "stream",
     "text": [
      "Train Epoch: 101 [549/549 (100%)] Loss: 0.107897: : 549it [02:24,  3.80it/s]\n"
     ]
    },
    {
     "name": "stdout",
     "output_type": "stream",
     "text": [
      "**Evaluating...**\n"
     ]
    },
    {
     "name": "stderr",
     "output_type": "stream",
     "text": [
      "100%|█████████████████████████████████████████| 550/550 [00:47<00:00, 11.53it/s]\n"
     ]
    },
    {
     "name": "stdout",
     "output_type": "stream",
     "text": [
      "R@1 : 87.107\n",
      "R@2 : 90.644\n",
      "R@4 : 93.472\n",
      "R@8 : 95.513\n",
      "R@16 : 97.158\n",
      "R@32 : 98.279\n"
     ]
    },
    {
     "name": "stderr",
     "output_type": "stream",
     "text": [
      "Train Epoch: 102 [549/549 (100%)] Loss: 0.099866: : 549it [02:24,  3.80it/s]\n"
     ]
    },
    {
     "name": "stdout",
     "output_type": "stream",
     "text": [
      "**Evaluating...**\n"
     ]
    },
    {
     "name": "stderr",
     "output_type": "stream",
     "text": [
      "100%|█████████████████████████████████████████| 550/550 [00:47<00:00, 11.52it/s]\n"
     ]
    },
    {
     "name": "stdout",
     "output_type": "stream",
     "text": [
      "R@1 : 87.151\n",
      "R@2 : 90.608\n",
      "R@4 : 93.479\n",
      "R@8 : 95.513\n",
      "R@16 : 97.078\n",
      "R@32 : 98.286\n"
     ]
    },
    {
     "name": "stderr",
     "output_type": "stream",
     "text": [
      "Train Epoch: 103 [549/549 (100%)] Loss: 0.159861: : 549it [02:24,  3.80it/s]\n"
     ]
    },
    {
     "name": "stdout",
     "output_type": "stream",
     "text": [
      "**Evaluating...**\n"
     ]
    },
    {
     "name": "stderr",
     "output_type": "stream",
     "text": [
      "100%|█████████████████████████████████████████| 550/550 [00:47<00:00, 11.52it/s]\n"
     ]
    },
    {
     "name": "stdout",
     "output_type": "stream",
     "text": [
      "R@1 : 86.769\n",
      "R@2 : 90.532\n",
      "R@4 : 93.239\n",
      "R@8 : 95.415\n",
      "R@16 : 96.994\n",
      "R@32 : 98.155\n"
     ]
    },
    {
     "name": "stderr",
     "output_type": "stream",
     "text": [
      "Train Epoch: 104 [549/549 (100%)] Loss: 0.102015: : 549it [02:24,  3.80it/s]\n"
     ]
    },
    {
     "name": "stdout",
     "output_type": "stream",
     "text": [
      "**Evaluating...**\n"
     ]
    },
    {
     "name": "stderr",
     "output_type": "stream",
     "text": [
      "100%|█████████████████████████████████████████| 550/550 [00:47<00:00, 11.52it/s]\n"
     ]
    },
    {
     "name": "stdout",
     "output_type": "stream",
     "text": [
      "R@1 : 87.027\n",
      "R@2 : 90.677\n",
      "R@4 : 93.563\n",
      "R@8 : 95.601\n",
      "R@16 : 97.136\n",
      "R@32 : 98.301\n"
     ]
    },
    {
     "name": "stderr",
     "output_type": "stream",
     "text": [
      "Train Epoch: 105 [549/549 (100%)] Loss: 0.180078: : 549it [02:24,  3.80it/s]\n"
     ]
    },
    {
     "name": "stdout",
     "output_type": "stream",
     "text": [
      "**Evaluating...**\n"
     ]
    },
    {
     "name": "stderr",
     "output_type": "stream",
     "text": [
      "100%|█████████████████████████████████████████| 550/550 [00:47<00:00, 11.52it/s]\n"
     ]
    },
    {
     "name": "stdout",
     "output_type": "stream",
     "text": [
      "R@1 : 86.907\n",
      "R@2 : 90.557\n",
      "R@4 : 93.312\n",
      "R@8 : 95.462\n",
      "R@16 : 96.976\n",
      "R@32 : 98.173\n"
     ]
    },
    {
     "name": "stderr",
     "output_type": "stream",
     "text": [
      "Train Epoch: 106 [549/549 (100%)] Loss: 0.105846: : 549it [02:24,  3.80it/s]\n"
     ]
    },
    {
     "name": "stdout",
     "output_type": "stream",
     "text": [
      "**Evaluating...**\n"
     ]
    },
    {
     "name": "stderr",
     "output_type": "stream",
     "text": [
      "100%|█████████████████████████████████████████| 550/550 [00:47<00:00, 11.52it/s]\n"
     ]
    },
    {
     "name": "stdout",
     "output_type": "stream",
     "text": [
      "R@1 : 87.177\n",
      "R@2 : 90.714\n",
      "R@4 : 93.465\n",
      "R@8 : 95.528\n",
      "R@16 : 97.020\n",
      "R@32 : 98.071\n"
     ]
    },
    {
     "name": "stderr",
     "output_type": "stream",
     "text": [
      "Train Epoch: 107 [549/549 (100%)] Loss: 0.136562: : 549it [02:24,  3.80it/s]\n"
     ]
    },
    {
     "name": "stdout",
     "output_type": "stream",
     "text": [
      "**Evaluating...**\n"
     ]
    },
    {
     "name": "stderr",
     "output_type": "stream",
     "text": [
      "100%|█████████████████████████████████████████| 550/550 [00:47<00:00, 11.52it/s]\n"
     ]
    },
    {
     "name": "stdout",
     "output_type": "stream",
     "text": [
      "R@1 : 87.046\n",
      "R@2 : 90.623\n",
      "R@4 : 93.461\n",
      "R@8 : 95.390\n",
      "R@16 : 96.907\n",
      "R@32 : 98.090\n"
     ]
    },
    {
     "name": "stderr",
     "output_type": "stream",
     "text": [
      "Train Epoch: 108 [549/549 (100%)] Loss: 0.111496: : 549it [02:24,  3.80it/s]\n"
     ]
    },
    {
     "name": "stdout",
     "output_type": "stream",
     "text": [
      "**Evaluating...**\n"
     ]
    },
    {
     "name": "stderr",
     "output_type": "stream",
     "text": [
      "100%|█████████████████████████████████████████| 550/550 [00:47<00:00, 11.52it/s]\n"
     ]
    },
    {
     "name": "stdout",
     "output_type": "stream",
     "text": [
      "R@1 : 87.049\n",
      "R@2 : 90.728\n",
      "R@4 : 93.337\n",
      "R@8 : 95.535\n",
      "R@16 : 96.947\n",
      "R@32 : 98.115\n"
     ]
    },
    {
     "name": "stderr",
     "output_type": "stream",
     "text": [
      "Train Epoch: 109 [549/549 (100%)] Loss: 0.105799: : 549it [02:24,  3.80it/s]\n"
     ]
    },
    {
     "name": "stdout",
     "output_type": "stream",
     "text": [
      "**Evaluating...**\n"
     ]
    },
    {
     "name": "stderr",
     "output_type": "stream",
     "text": [
      "100%|█████████████████████████████████████████| 550/550 [00:47<00:00, 11.52it/s]\n"
     ]
    },
    {
     "name": "stdout",
     "output_type": "stream",
     "text": [
      "R@1 : 87.180\n",
      "R@2 : 90.692\n",
      "R@4 : 93.599\n",
      "R@8 : 95.626\n",
      "R@16 : 97.114\n",
      "R@32 : 98.326\n"
     ]
    },
    {
     "name": "stderr",
     "output_type": "stream",
     "text": [
      "Train Epoch: 110 [549/549 (100%)] Loss: 0.143047: : 549it [02:24,  3.80it/s]\n"
     ]
    },
    {
     "name": "stdout",
     "output_type": "stream",
     "text": [
      "**Evaluating...**\n"
     ]
    },
    {
     "name": "stderr",
     "output_type": "stream",
     "text": [
      "100%|█████████████████████████████████████████| 550/550 [00:47<00:00, 11.52it/s]\n"
     ]
    },
    {
     "name": "stdout",
     "output_type": "stream",
     "text": [
      "R@1 : 86.936\n",
      "R@2 : 90.604\n",
      "R@4 : 93.432\n",
      "R@8 : 95.521\n",
      "R@16 : 97.060\n",
      "R@32 : 98.195\n"
     ]
    },
    {
     "name": "stderr",
     "output_type": "stream",
     "text": [
      "Train Epoch: 111 [549/549 (100%)] Loss: 0.112296: : 549it [02:24,  3.80it/s]\n"
     ]
    },
    {
     "name": "stdout",
     "output_type": "stream",
     "text": [
      "**Evaluating...**\n"
     ]
    },
    {
     "name": "stderr",
     "output_type": "stream",
     "text": [
      "100%|█████████████████████████████████████████| 550/550 [00:47<00:00, 11.52it/s]\n"
     ]
    },
    {
     "name": "stdout",
     "output_type": "stream",
     "text": [
      "R@1 : 87.209\n",
      "R@2 : 90.706\n",
      "R@4 : 93.395\n",
      "R@8 : 95.375\n",
      "R@16 : 97.042\n",
      "R@32 : 98.191\n"
     ]
    },
    {
     "name": "stderr",
     "output_type": "stream",
     "text": [
      "Train Epoch: 112 [549/549 (100%)] Loss: 0.182374: : 549it [02:24,  3.80it/s]\n"
     ]
    },
    {
     "name": "stdout",
     "output_type": "stream",
     "text": [
      "**Evaluating...**\n"
     ]
    },
    {
     "name": "stderr",
     "output_type": "stream",
     "text": [
      "100%|█████████████████████████████████████████| 550/550 [00:47<00:00, 11.50it/s]\n"
     ]
    },
    {
     "name": "stdout",
     "output_type": "stream",
     "text": [
      "R@1 : 87.224\n",
      "R@2 : 90.772\n",
      "R@4 : 93.599\n",
      "R@8 : 95.557\n",
      "R@16 : 97.034\n",
      "R@32 : 98.155\n"
     ]
    },
    {
     "name": "stderr",
     "output_type": "stream",
     "text": [
      "Train Epoch: 113 [549/549 (100%)] Loss: 0.168063: : 549it [02:24,  3.80it/s]\n"
     ]
    },
    {
     "name": "stdout",
     "output_type": "stream",
     "text": [
      "**Evaluating...**\n"
     ]
    },
    {
     "name": "stderr",
     "output_type": "stream",
     "text": [
      "100%|█████████████████████████████████████████| 550/550 [00:47<00:00, 11.52it/s]\n"
     ]
    },
    {
     "name": "stdout",
     "output_type": "stream",
     "text": [
      "R@1 : 87.340\n",
      "R@2 : 91.052\n",
      "R@4 : 93.661\n",
      "R@8 : 95.746\n",
      "R@16 : 97.256\n",
      "R@32 : 98.326\n"
     ]
    },
    {
     "name": "stderr",
     "output_type": "stream",
     "text": [
      "Train Epoch: 114 [549/549 (100%)] Loss: 0.138473: : 549it [02:24,  3.80it/s]\n"
     ]
    },
    {
     "name": "stdout",
     "output_type": "stream",
     "text": [
      "**Evaluating...**\n"
     ]
    },
    {
     "name": "stderr",
     "output_type": "stream",
     "text": [
      "100%|█████████████████████████████████████████| 550/550 [00:47<00:00, 11.52it/s]\n"
     ]
    },
    {
     "name": "stdout",
     "output_type": "stream",
     "text": [
      "R@1 : 87.097\n",
      "R@2 : 90.750\n",
      "R@4 : 93.643\n",
      "R@8 : 95.739\n",
      "R@16 : 97.191\n",
      "R@32 : 98.286\n"
     ]
    },
    {
     "name": "stderr",
     "output_type": "stream",
     "text": [
      "Train Epoch: 115 [549/549 (100%)] Loss: 0.151345: : 549it [02:24,  3.80it/s]\n"
     ]
    },
    {
     "name": "stdout",
     "output_type": "stream",
     "text": [
      "**Evaluating...**\n"
     ]
    },
    {
     "name": "stderr",
     "output_type": "stream",
     "text": [
      "100%|█████████████████████████████████████████| 550/550 [00:47<00:00, 11.52it/s]\n"
     ]
    },
    {
     "name": "stdout",
     "output_type": "stream",
     "text": [
      "R@1 : 86.889\n",
      "R@2 : 90.495\n",
      "R@4 : 93.428\n",
      "R@8 : 95.462\n",
      "R@16 : 97.071\n",
      "R@32 : 98.253\n"
     ]
    },
    {
     "name": "stderr",
     "output_type": "stream",
     "text": [
      "Train Epoch: 116 [549/549 (100%)] Loss: 0.201993: : 549it [02:24,  3.79it/s]\n"
     ]
    },
    {
     "name": "stdout",
     "output_type": "stream",
     "text": [
      "**Evaluating...**\n"
     ]
    },
    {
     "name": "stderr",
     "output_type": "stream",
     "text": [
      "100%|█████████████████████████████████████████| 550/550 [00:47<00:00, 11.51it/s]\n"
     ]
    },
    {
     "name": "stdout",
     "output_type": "stream",
     "text": [
      "R@1 : 87.595\n",
      "R@2 : 90.986\n",
      "R@4 : 93.712\n",
      "R@8 : 95.888\n",
      "R@16 : 97.413\n",
      "R@32 : 98.435\n"
     ]
    },
    {
     "name": "stderr",
     "output_type": "stream",
     "text": [
      "Train Epoch: 117 [549/549 (100%)] Loss: 0.344487: : 549it [02:24,  3.80it/s]\n"
     ]
    },
    {
     "name": "stdout",
     "output_type": "stream",
     "text": [
      "**Evaluating...**\n"
     ]
    },
    {
     "name": "stderr",
     "output_type": "stream",
     "text": [
      "100%|█████████████████████████████████████████| 550/550 [00:47<00:00, 11.52it/s]\n"
     ]
    },
    {
     "name": "stdout",
     "output_type": "stream",
     "text": [
      "R@1 : 87.264\n",
      "R@2 : 90.870\n",
      "R@4 : 93.552\n",
      "R@8 : 95.517\n",
      "R@16 : 97.071\n",
      "R@32 : 98.202\n"
     ]
    },
    {
     "name": "stderr",
     "output_type": "stream",
     "text": [
      "Train Epoch: 118 [549/549 (100%)] Loss: 0.143863: : 549it [02:24,  3.80it/s]\n"
     ]
    },
    {
     "name": "stdout",
     "output_type": "stream",
     "text": [
      "**Evaluating...**\n"
     ]
    },
    {
     "name": "stderr",
     "output_type": "stream",
     "text": [
      "100%|█████████████████████████████████████████| 550/550 [00:47<00:00, 11.52it/s]\n"
     ]
    },
    {
     "name": "stdout",
     "output_type": "stream",
     "text": [
      "R@1 : 87.289\n",
      "R@2 : 90.859\n",
      "R@4 : 93.588\n",
      "R@8 : 95.608\n",
      "R@16 : 97.093\n",
      "R@32 : 98.308\n"
     ]
    },
    {
     "name": "stderr",
     "output_type": "stream",
     "text": [
      "Train Epoch: 119 [549/549 (100%)] Loss: 0.220408: : 549it [02:24,  3.79it/s]\n"
     ]
    },
    {
     "name": "stdout",
     "output_type": "stream",
     "text": [
      "**Evaluating...**\n"
     ]
    },
    {
     "name": "stderr",
     "output_type": "stream",
     "text": [
      "100%|█████████████████████████████████████████| 550/550 [00:47<00:00, 11.52it/s]\n"
     ]
    },
    {
     "name": "stdout",
     "output_type": "stream",
     "text": [
      "R@1 : 87.060\n",
      "R@2 : 90.739\n",
      "R@4 : 93.417\n",
      "R@8 : 95.571\n",
      "R@16 : 97.140\n",
      "R@32 : 98.221\n"
     ]
    },
    {
     "name": "stderr",
     "output_type": "stream",
     "text": [
      "Train Epoch: 120 [549/549 (100%)] Loss: 0.128265: : 549it [02:24,  3.80it/s]\n"
     ]
    },
    {
     "name": "stdout",
     "output_type": "stream",
     "text": [
      "**Evaluating...**\n"
     ]
    },
    {
     "name": "stderr",
     "output_type": "stream",
     "text": [
      "100%|█████████████████████████████████████████| 550/550 [00:47<00:00, 11.52it/s]\n"
     ]
    },
    {
     "name": "stdout",
     "output_type": "stream",
     "text": [
      "R@1 : 87.424\n",
      "R@2 : 91.008\n",
      "R@4 : 93.748\n",
      "R@8 : 95.823\n",
      "R@16 : 97.260\n",
      "R@32 : 98.315\n"
     ]
    },
    {
     "name": "stderr",
     "output_type": "stream",
     "text": [
      "Train Epoch: 121 [549/549 (100%)] Loss: 0.084404: : 549it [02:24,  3.80it/s]\n"
     ]
    },
    {
     "name": "stdout",
     "output_type": "stream",
     "text": [
      "**Evaluating...**\n"
     ]
    },
    {
     "name": "stderr",
     "output_type": "stream",
     "text": [
      "100%|█████████████████████████████████████████| 550/550 [00:47<00:00, 11.52it/s]\n"
     ]
    },
    {
     "name": "stdout",
     "output_type": "stream",
     "text": [
      "R@1 : 87.300\n",
      "R@2 : 90.866\n",
      "R@4 : 93.617\n",
      "R@8 : 95.783\n",
      "R@16 : 97.307\n",
      "R@32 : 98.384\n"
     ]
    },
    {
     "name": "stderr",
     "output_type": "stream",
     "text": [
      "Train Epoch: 122 [549/549 (100%)] Loss: 0.087876: : 549it [02:24,  3.80it/s]\n"
     ]
    },
    {
     "name": "stdout",
     "output_type": "stream",
     "text": [
      "**Evaluating...**\n"
     ]
    },
    {
     "name": "stderr",
     "output_type": "stream",
     "text": [
      "100%|█████████████████████████████████████████| 550/550 [00:47<00:00, 11.52it/s]\n"
     ]
    },
    {
     "name": "stdout",
     "output_type": "stream",
     "text": [
      "R@1 : 87.089\n",
      "R@2 : 90.506\n",
      "R@4 : 93.312\n",
      "R@8 : 95.484\n",
      "R@16 : 96.998\n",
      "R@32 : 98.177\n"
     ]
    },
    {
     "name": "stderr",
     "output_type": "stream",
     "text": [
      "Train Epoch: 123 [549/549 (100%)] Loss: 0.121007: : 549it [02:24,  3.80it/s]\n"
     ]
    },
    {
     "name": "stdout",
     "output_type": "stream",
     "text": [
      "**Evaluating...**\n"
     ]
    },
    {
     "name": "stderr",
     "output_type": "stream",
     "text": [
      "100%|█████████████████████████████████████████| 550/550 [00:47<00:00, 11.52it/s]\n"
     ]
    },
    {
     "name": "stdout",
     "output_type": "stream",
     "text": [
      "R@1 : 87.337\n",
      "R@2 : 90.775\n",
      "R@4 : 93.457\n",
      "R@8 : 95.521\n",
      "R@16 : 97.071\n",
      "R@32 : 98.235\n"
     ]
    },
    {
     "name": "stderr",
     "output_type": "stream",
     "text": [
      "Train Epoch: 124 [549/549 (100%)] Loss: 0.105115: : 549it [02:24,  3.80it/s]\n"
     ]
    },
    {
     "name": "stdout",
     "output_type": "stream",
     "text": [
      "**Evaluating...**\n"
     ]
    },
    {
     "name": "stderr",
     "output_type": "stream",
     "text": [
      "100%|█████████████████████████████████████████| 550/550 [00:47<00:00, 11.52it/s]\n"
     ]
    },
    {
     "name": "stdout",
     "output_type": "stream",
     "text": [
      "R@1 : 87.446\n",
      "R@2 : 90.881\n",
      "R@4 : 93.505\n",
      "R@8 : 95.531\n",
      "R@16 : 97.034\n",
      "R@32 : 98.137\n"
     ]
    },
    {
     "name": "stderr",
     "output_type": "stream",
     "text": [
      "Train Epoch: 125 [549/549 (100%)] Loss: 0.087629: : 549it [02:24,  3.80it/s]\n"
     ]
    },
    {
     "name": "stdout",
     "output_type": "stream",
     "text": [
      "**Evaluating...**\n"
     ]
    },
    {
     "name": "stderr",
     "output_type": "stream",
     "text": [
      "100%|█████████████████████████████████████████| 550/550 [00:47<00:00, 11.51it/s]\n"
     ]
    },
    {
     "name": "stdout",
     "output_type": "stream",
     "text": [
      "R@1 : 86.944\n",
      "R@2 : 90.834\n",
      "R@4 : 93.537\n",
      "R@8 : 95.608\n",
      "R@16 : 97.151\n",
      "R@32 : 98.250\n"
     ]
    },
    {
     "name": "stderr",
     "output_type": "stream",
     "text": [
      "Train Epoch: 126 [549/549 (100%)] Loss: 0.154884: : 549it [02:24,  3.80it/s]\n"
     ]
    },
    {
     "name": "stdout",
     "output_type": "stream",
     "text": [
      "**Evaluating...**\n"
     ]
    },
    {
     "name": "stderr",
     "output_type": "stream",
     "text": [
      "100%|█████████████████████████████████████████| 550/550 [00:47<00:00, 11.52it/s]\n"
     ]
    },
    {
     "name": "stdout",
     "output_type": "stream",
     "text": [
      "R@1 : 87.064\n",
      "R@2 : 90.812\n",
      "R@4 : 93.617\n",
      "R@8 : 95.721\n",
      "R@16 : 97.209\n",
      "R@32 : 98.293\n"
     ]
    },
    {
     "name": "stderr",
     "output_type": "stream",
     "text": [
      "Train Epoch: 127 [549/549 (100%)] Loss: 0.140233: : 549it [02:24,  3.79it/s]\n"
     ]
    },
    {
     "name": "stdout",
     "output_type": "stream",
     "text": [
      "**Evaluating...**\n"
     ]
    },
    {
     "name": "stderr",
     "output_type": "stream",
     "text": [
      "100%|█████████████████████████████████████████| 550/550 [00:47<00:00, 11.52it/s]\n"
     ]
    },
    {
     "name": "stdout",
     "output_type": "stream",
     "text": [
      "R@1 : 87.180\n",
      "R@2 : 90.779\n",
      "R@4 : 93.450\n",
      "R@8 : 95.488\n",
      "R@16 : 97.060\n",
      "R@32 : 98.257\n"
     ]
    },
    {
     "name": "stderr",
     "output_type": "stream",
     "text": [
      "Train Epoch: 128 [549/549 (100%)] Loss: 0.102970: : 549it [02:24,  3.80it/s]\n"
     ]
    },
    {
     "name": "stdout",
     "output_type": "stream",
     "text": [
      "**Evaluating...**\n"
     ]
    },
    {
     "name": "stderr",
     "output_type": "stream",
     "text": [
      "100%|█████████████████████████████████████████| 550/550 [00:47<00:00, 11.53it/s]\n"
     ]
    },
    {
     "name": "stdout",
     "output_type": "stream",
     "text": [
      "R@1 : 87.453\n",
      "R@2 : 90.808\n",
      "R@4 : 93.497\n",
      "R@8 : 95.575\n",
      "R@16 : 97.158\n",
      "R@32 : 98.232\n"
     ]
    },
    {
     "name": "stderr",
     "output_type": "stream",
     "text": [
      "Train Epoch: 129 [549/549 (100%)] Loss: 0.187804: : 549it [02:24,  3.80it/s]\n"
     ]
    },
    {
     "name": "stdout",
     "output_type": "stream",
     "text": [
      "**Evaluating...**\n"
     ]
    },
    {
     "name": "stderr",
     "output_type": "stream",
     "text": [
      "100%|█████████████████████████████████████████| 550/550 [00:47<00:00, 11.52it/s]\n"
     ]
    },
    {
     "name": "stdout",
     "output_type": "stream",
     "text": [
      "R@1 : 87.340\n",
      "R@2 : 90.815\n",
      "R@4 : 93.556\n",
      "R@8 : 95.612\n",
      "R@16 : 97.089\n",
      "R@32 : 98.188\n"
     ]
    },
    {
     "name": "stderr",
     "output_type": "stream",
     "text": [
      "Train Epoch: 130 [549/549 (100%)] Loss: 0.123203: : 549it [02:24,  3.80it/s]\n"
     ]
    },
    {
     "name": "stdout",
     "output_type": "stream",
     "text": [
      "**Evaluating...**\n"
     ]
    },
    {
     "name": "stderr",
     "output_type": "stream",
     "text": [
      "100%|█████████████████████████████████████████| 550/550 [00:47<00:00, 11.52it/s]\n"
     ]
    },
    {
     "name": "stdout",
     "output_type": "stream",
     "text": [
      "R@1 : 87.129\n",
      "R@2 : 90.703\n",
      "R@4 : 93.224\n",
      "R@8 : 95.193\n",
      "R@16 : 96.969\n",
      "R@32 : 98.155\n"
     ]
    },
    {
     "name": "stderr",
     "output_type": "stream",
     "text": [
      "Train Epoch: 131 [549/549 (100%)] Loss: 0.101770: : 549it [02:24,  3.80it/s]\n"
     ]
    },
    {
     "name": "stdout",
     "output_type": "stream",
     "text": [
      "**Evaluating...**\n"
     ]
    },
    {
     "name": "stderr",
     "output_type": "stream",
     "text": [
      "100%|█████████████████████████████████████████| 550/550 [00:47<00:00, 11.52it/s]\n"
     ]
    },
    {
     "name": "stdout",
     "output_type": "stream",
     "text": [
      "R@1 : 87.337\n",
      "R@2 : 90.903\n",
      "R@4 : 93.596\n",
      "R@8 : 95.561\n",
      "R@16 : 97.071\n",
      "R@32 : 98.206\n"
     ]
    },
    {
     "name": "stderr",
     "output_type": "stream",
     "text": [
      "Train Epoch: 132 [549/549 (100%)] Loss: 0.146469: : 549it [02:24,  3.80it/s]\n"
     ]
    },
    {
     "name": "stdout",
     "output_type": "stream",
     "text": [
      "**Evaluating...**\n"
     ]
    },
    {
     "name": "stderr",
     "output_type": "stream",
     "text": [
      "100%|█████████████████████████████████████████| 550/550 [00:47<00:00, 11.52it/s]\n"
     ]
    },
    {
     "name": "stdout",
     "output_type": "stream",
     "text": [
      "R@1 : 87.100\n",
      "R@2 : 90.728\n",
      "R@4 : 93.381\n",
      "R@8 : 95.440\n",
      "R@16 : 97.060\n",
      "R@32 : 98.159\n"
     ]
    },
    {
     "name": "stderr",
     "output_type": "stream",
     "text": [
      "Train Epoch: 133 [549/549 (100%)] Loss: 0.270242: : 549it [02:24,  3.80it/s]\n"
     ]
    },
    {
     "name": "stdout",
     "output_type": "stream",
     "text": [
      "**Evaluating...**\n"
     ]
    },
    {
     "name": "stderr",
     "output_type": "stream",
     "text": [
      "100%|█████████████████████████████████████████| 550/550 [00:47<00:00, 11.52it/s]\n"
     ]
    },
    {
     "name": "stdout",
     "output_type": "stream",
     "text": [
      "R@1 : 87.693\n",
      "R@2 : 91.088\n",
      "R@4 : 93.730\n",
      "R@8 : 95.695\n",
      "R@16 : 97.125\n",
      "R@32 : 98.144\n"
     ]
    },
    {
     "name": "stderr",
     "output_type": "stream",
     "text": [
      "Train Epoch: 134 [549/549 (100%)] Loss: 0.083103: : 549it [02:24,  3.80it/s]\n"
     ]
    },
    {
     "name": "stdout",
     "output_type": "stream",
     "text": [
      "**Evaluating...**\n"
     ]
    },
    {
     "name": "stderr",
     "output_type": "stream",
     "text": [
      "100%|█████████████████████████████████████████| 550/550 [00:47<00:00, 11.52it/s]\n"
     ]
    },
    {
     "name": "stdout",
     "output_type": "stream",
     "text": [
      "R@1 : 87.166\n",
      "R@2 : 90.961\n",
      "R@4 : 93.585\n",
      "R@8 : 95.662\n",
      "R@16 : 97.165\n",
      "R@32 : 98.319\n"
     ]
    },
    {
     "name": "stderr",
     "output_type": "stream",
     "text": [
      "Train Epoch: 135 [549/549 (100%)] Loss: 0.125750: : 549it [02:24,  3.80it/s]\n"
     ]
    },
    {
     "name": "stdout",
     "output_type": "stream",
     "text": [
      "**Evaluating...**\n"
     ]
    },
    {
     "name": "stderr",
     "output_type": "stream",
     "text": [
      "100%|█████████████████████████████████████████| 550/550 [00:47<00:00, 11.52it/s]\n"
     ]
    },
    {
     "name": "stdout",
     "output_type": "stream",
     "text": [
      "R@1 : 87.246\n",
      "R@2 : 90.641\n",
      "R@4 : 93.534\n",
      "R@8 : 95.575\n",
      "R@16 : 97.016\n",
      "R@32 : 98.144\n"
     ]
    },
    {
     "name": "stderr",
     "output_type": "stream",
     "text": [
      "Train Epoch: 136 [549/549 (100%)] Loss: 0.133782: : 549it [02:24,  3.80it/s]\n"
     ]
    },
    {
     "name": "stdout",
     "output_type": "stream",
     "text": [
      "**Evaluating...**\n"
     ]
    },
    {
     "name": "stderr",
     "output_type": "stream",
     "text": [
      "100%|█████████████████████████████████████████| 550/550 [00:47<00:00, 11.50it/s]\n"
     ]
    },
    {
     "name": "stdout",
     "output_type": "stream",
     "text": [
      "R@1 : 87.479\n",
      "R@2 : 90.794\n",
      "R@4 : 93.548\n",
      "R@8 : 95.477\n",
      "R@16 : 96.987\n",
      "R@32 : 98.141\n"
     ]
    },
    {
     "name": "stderr",
     "output_type": "stream",
     "text": [
      "Train Epoch: 137 [549/549 (100%)] Loss: 0.148690: : 549it [02:24,  3.80it/s]\n"
     ]
    },
    {
     "name": "stdout",
     "output_type": "stream",
     "text": [
      "**Evaluating...**\n"
     ]
    },
    {
     "name": "stderr",
     "output_type": "stream",
     "text": [
      "100%|█████████████████████████████████████████| 550/550 [00:47<00:00, 11.52it/s]\n"
     ]
    },
    {
     "name": "stdout",
     "output_type": "stream",
     "text": [
      "R@1 : 87.388\n",
      "R@2 : 90.877\n",
      "R@4 : 93.403\n",
      "R@8 : 95.470\n",
      "R@16 : 97.063\n",
      "R@32 : 98.162\n"
     ]
    },
    {
     "name": "stderr",
     "output_type": "stream",
     "text": [
      "Train Epoch: 138 [549/549 (100%)] Loss: 0.161167: : 549it [02:24,  3.80it/s]\n"
     ]
    },
    {
     "name": "stdout",
     "output_type": "stream",
     "text": [
      "**Evaluating...**\n"
     ]
    },
    {
     "name": "stderr",
     "output_type": "stream",
     "text": [
      "100%|█████████████████████████████████████████| 550/550 [00:47<00:00, 11.52it/s]\n"
     ]
    },
    {
     "name": "stdout",
     "output_type": "stream",
     "text": [
      "R@1 : 87.428\n",
      "R@2 : 90.928\n",
      "R@4 : 93.676\n",
      "R@8 : 95.746\n",
      "R@16 : 97.209\n",
      "R@32 : 98.337\n"
     ]
    },
    {
     "name": "stderr",
     "output_type": "stream",
     "text": [
      "Train Epoch: 139 [549/549 (100%)] Loss: 0.125379: : 549it [02:24,  3.80it/s]\n"
     ]
    },
    {
     "name": "stdout",
     "output_type": "stream",
     "text": [
      "**Evaluating...**\n"
     ]
    },
    {
     "name": "stderr",
     "output_type": "stream",
     "text": [
      "100%|█████████████████████████████████████████| 550/550 [00:47<00:00, 11.52it/s]\n"
     ]
    },
    {
     "name": "stdout",
     "output_type": "stream",
     "text": [
      "R@1 : 86.795\n",
      "R@2 : 90.415\n",
      "R@4 : 93.385\n",
      "R@8 : 95.455\n",
      "R@16 : 97.074\n",
      "R@32 : 98.170\n"
     ]
    },
    {
     "name": "stderr",
     "output_type": "stream",
     "text": [
      "Train Epoch: 140 [549/549 (100%)] Loss: 0.127549: : 549it [02:24,  3.80it/s]\n"
     ]
    },
    {
     "name": "stdout",
     "output_type": "stream",
     "text": [
      "**Evaluating...**\n"
     ]
    },
    {
     "name": "stderr",
     "output_type": "stream",
     "text": [
      "100%|█████████████████████████████████████████| 550/550 [00:47<00:00, 11.51it/s]\n"
     ]
    },
    {
     "name": "stdout",
     "output_type": "stream",
     "text": [
      "R@1 : 87.246\n",
      "R@2 : 90.866\n",
      "R@4 : 93.592\n",
      "R@8 : 95.604\n",
      "R@16 : 97.143\n",
      "R@32 : 98.246\n"
     ]
    },
    {
     "name": "stderr",
     "output_type": "stream",
     "text": [
      "Train Epoch: 141 [549/549 (100%)] Loss: 0.177678: : 549it [02:24,  3.80it/s]\n"
     ]
    },
    {
     "name": "stdout",
     "output_type": "stream",
     "text": [
      "**Evaluating...**\n"
     ]
    },
    {
     "name": "stderr",
     "output_type": "stream",
     "text": [
      "100%|█████████████████████████████████████████| 550/550 [00:47<00:00, 11.52it/s]\n"
     ]
    },
    {
     "name": "stdout",
     "output_type": "stream",
     "text": [
      "R@1 : 87.224\n",
      "R@2 : 90.772\n",
      "R@4 : 93.454\n",
      "R@8 : 95.531\n",
      "R@16 : 97.056\n",
      "R@32 : 98.202\n"
     ]
    },
    {
     "name": "stderr",
     "output_type": "stream",
     "text": [
      "Train Epoch: 142 [549/549 (100%)] Loss: 0.161066: : 549it [02:24,  3.80it/s]\n"
     ]
    },
    {
     "name": "stdout",
     "output_type": "stream",
     "text": [
      "**Evaluating...**\n"
     ]
    },
    {
     "name": "stderr",
     "output_type": "stream",
     "text": [
      "100%|█████████████████████████████████████████| 550/550 [00:47<00:00, 11.52it/s]\n"
     ]
    },
    {
     "name": "stdout",
     "output_type": "stream",
     "text": [
      "R@1 : 87.228\n",
      "R@2 : 90.746\n",
      "R@4 : 93.443\n",
      "R@8 : 95.419\n",
      "R@16 : 96.994\n",
      "R@32 : 98.239\n"
     ]
    },
    {
     "name": "stderr",
     "output_type": "stream",
     "text": [
      "Train Epoch: 143 [549/549 (100%)] Loss: 0.071380: : 549it [02:24,  3.80it/s]\n"
     ]
    },
    {
     "name": "stdout",
     "output_type": "stream",
     "text": [
      "**Evaluating...**\n"
     ]
    },
    {
     "name": "stderr",
     "output_type": "stream",
     "text": [
      "100%|█████████████████████████████████████████| 550/550 [00:47<00:00, 11.52it/s]\n"
     ]
    },
    {
     "name": "stdout",
     "output_type": "stream",
     "text": [
      "R@1 : 87.246\n",
      "R@2 : 90.695\n",
      "R@4 : 93.392\n",
      "R@8 : 95.455\n",
      "R@16 : 97.096\n",
      "R@32 : 98.224\n"
     ]
    },
    {
     "name": "stderr",
     "output_type": "stream",
     "text": [
      "Train Epoch: 144 [549/549 (100%)] Loss: 0.183705: : 549it [02:24,  3.80it/s]\n"
     ]
    },
    {
     "name": "stdout",
     "output_type": "stream",
     "text": [
      "**Evaluating...**\n"
     ]
    },
    {
     "name": "stderr",
     "output_type": "stream",
     "text": [
      "100%|█████████████████████████████████████████| 550/550 [00:47<00:00, 11.52it/s]\n"
     ]
    },
    {
     "name": "stdout",
     "output_type": "stream",
     "text": [
      "R@1 : 86.947\n",
      "R@2 : 90.674\n",
      "R@4 : 93.483\n",
      "R@8 : 95.561\n",
      "R@16 : 97.103\n",
      "R@32 : 98.170\n"
     ]
    },
    {
     "name": "stderr",
     "output_type": "stream",
     "text": [
      "Train Epoch: 145 [549/549 (100%)] Loss: 0.124508: : 549it [02:24,  3.80it/s]\n"
     ]
    },
    {
     "name": "stdout",
     "output_type": "stream",
     "text": [
      "**Evaluating...**\n"
     ]
    },
    {
     "name": "stderr",
     "output_type": "stream",
     "text": [
      "100%|█████████████████████████████████████████| 550/550 [00:47<00:00, 11.52it/s]\n"
     ]
    },
    {
     "name": "stdout",
     "output_type": "stream",
     "text": [
      "R@1 : 87.206\n",
      "R@2 : 90.761\n",
      "R@4 : 93.472\n",
      "R@8 : 95.455\n",
      "R@16 : 97.205\n",
      "R@32 : 98.268\n"
     ]
    },
    {
     "name": "stderr",
     "output_type": "stream",
     "text": [
      "Train Epoch: 146 [549/549 (100%)] Loss: 0.155952: : 549it [02:24,  3.80it/s]\n"
     ]
    },
    {
     "name": "stdout",
     "output_type": "stream",
     "text": [
      "**Evaluating...**\n"
     ]
    },
    {
     "name": "stderr",
     "output_type": "stream",
     "text": [
      "100%|█████████████████████████████████████████| 550/550 [00:47<00:00, 11.52it/s]\n"
     ]
    },
    {
     "name": "stdout",
     "output_type": "stream",
     "text": [
      "R@1 : 87.188\n",
      "R@2 : 90.601\n",
      "R@4 : 93.486\n",
      "R@8 : 95.604\n",
      "R@16 : 97.198\n",
      "R@32 : 98.235\n"
     ]
    },
    {
     "name": "stderr",
     "output_type": "stream",
     "text": [
      "Train Epoch: 147 [549/549 (100%)] Loss: 0.181264: : 549it [02:24,  3.80it/s]\n"
     ]
    },
    {
     "name": "stdout",
     "output_type": "stream",
     "text": [
      "**Evaluating...**\n"
     ]
    },
    {
     "name": "stderr",
     "output_type": "stream",
     "text": [
      "100%|█████████████████████████████████████████| 550/550 [00:47<00:00, 11.52it/s]\n"
     ]
    },
    {
     "name": "stdout",
     "output_type": "stream",
     "text": [
      "R@1 : 87.177\n",
      "R@2 : 90.750\n",
      "R@4 : 93.395\n",
      "R@8 : 95.495\n",
      "R@16 : 97.012\n",
      "R@32 : 98.082\n"
     ]
    },
    {
     "name": "stderr",
     "output_type": "stream",
     "text": [
      "Train Epoch: 148 [549/549 (100%)] Loss: 0.118161: : 549it [02:24,  3.80it/s]\n"
     ]
    },
    {
     "name": "stdout",
     "output_type": "stream",
     "text": [
      "**Evaluating...**\n"
     ]
    },
    {
     "name": "stderr",
     "output_type": "stream",
     "text": [
      "100%|█████████████████████████████████████████| 550/550 [00:47<00:00, 11.52it/s]\n"
     ]
    },
    {
     "name": "stdout",
     "output_type": "stream",
     "text": [
      "R@1 : 87.257\n",
      "R@2 : 91.037\n",
      "R@4 : 93.785\n",
      "R@8 : 95.790\n",
      "R@16 : 97.176\n",
      "R@32 : 98.235\n"
     ]
    },
    {
     "name": "stderr",
     "output_type": "stream",
     "text": [
      "Train Epoch: 149 [549/549 (100%)] Loss: 0.144176: : 549it [02:24,  3.80it/s]\n"
     ]
    },
    {
     "name": "stdout",
     "output_type": "stream",
     "text": [
      "**Evaluating...**\n"
     ]
    },
    {
     "name": "stderr",
     "output_type": "stream",
     "text": [
      "100%|█████████████████████████████████████████| 550/550 [00:47<00:00, 11.52it/s]\n"
     ]
    },
    {
     "name": "stdout",
     "output_type": "stream",
     "text": [
      "R@1 : 86.907\n",
      "R@2 : 90.583\n",
      "R@4 : 93.264\n",
      "R@8 : 95.331\n",
      "R@16 : 96.987\n",
      "R@32 : 98.137\n"
     ]
    },
    {
     "name": "stderr",
     "output_type": "stream",
     "text": [
      "Train Epoch: 150 [549/549 (100%)] Loss: 0.095091: : 549it [02:24,  3.80it/s]\n"
     ]
    },
    {
     "name": "stdout",
     "output_type": "stream",
     "text": [
      "**Evaluating...**\n"
     ]
    },
    {
     "name": "stderr",
     "output_type": "stream",
     "text": [
      "100%|█████████████████████████████████████████| 550/550 [00:47<00:00, 11.52it/s]\n"
     ]
    },
    {
     "name": "stdout",
     "output_type": "stream",
     "text": [
      "R@1 : 87.439\n",
      "R@2 : 91.110\n",
      "R@4 : 93.705\n",
      "R@8 : 95.743\n",
      "R@16 : 97.329\n",
      "R@32 : 98.392\n"
     ]
    },
    {
     "name": "stderr",
     "output_type": "stream",
     "text": [
      "Train Epoch: 151 [549/549 (100%)] Loss: 0.152583: : 549it [02:24,  3.80it/s]\n"
     ]
    },
    {
     "name": "stdout",
     "output_type": "stream",
     "text": [
      "**Evaluating...**\n"
     ]
    },
    {
     "name": "stderr",
     "output_type": "stream",
     "text": [
      "100%|█████████████████████████████████████████| 550/550 [00:47<00:00, 11.52it/s]\n"
     ]
    },
    {
     "name": "stdout",
     "output_type": "stream",
     "text": [
      "R@1 : 87.071\n",
      "R@2 : 90.765\n",
      "R@4 : 93.537\n",
      "R@8 : 95.451\n",
      "R@16 : 97.067\n",
      "R@32 : 98.191\n"
     ]
    },
    {
     "name": "stderr",
     "output_type": "stream",
     "text": [
      "Train Epoch: 152 [549/549 (100%)] Loss: 0.076521: : 549it [02:24,  3.80it/s]\n"
     ]
    },
    {
     "name": "stdout",
     "output_type": "stream",
     "text": [
      "**Evaluating...**\n"
     ]
    },
    {
     "name": "stderr",
     "output_type": "stream",
     "text": [
      "100%|█████████████████████████████████████████| 550/550 [00:47<00:00, 11.52it/s]\n"
     ]
    },
    {
     "name": "stdout",
     "output_type": "stream",
     "text": [
      "R@1 : 87.253\n",
      "R@2 : 90.768\n",
      "R@4 : 93.443\n",
      "R@8 : 95.542\n",
      "R@16 : 97.060\n",
      "R@32 : 98.195\n"
     ]
    },
    {
     "name": "stderr",
     "output_type": "stream",
     "text": [
      "Train Epoch: 153 [549/549 (100%)] Loss: 0.081536: : 549it [02:24,  3.80it/s]\n"
     ]
    },
    {
     "name": "stdout",
     "output_type": "stream",
     "text": [
      "**Evaluating...**\n"
     ]
    },
    {
     "name": "stderr",
     "output_type": "stream",
     "text": [
      "100%|█████████████████████████████████████████| 550/550 [00:47<00:00, 11.52it/s]\n"
     ]
    },
    {
     "name": "stdout",
     "output_type": "stream",
     "text": [
      "R@1 : 87.089\n",
      "R@2 : 90.786\n",
      "R@4 : 93.505\n",
      "R@8 : 95.539\n",
      "R@16 : 97.202\n",
      "R@32 : 98.246\n"
     ]
    },
    {
     "name": "stderr",
     "output_type": "stream",
     "text": [
      "Train Epoch: 154 [549/549 (100%)] Loss: 0.240363: : 549it [02:24,  3.80it/s]\n"
     ]
    },
    {
     "name": "stdout",
     "output_type": "stream",
     "text": [
      "**Evaluating...**\n"
     ]
    },
    {
     "name": "stderr",
     "output_type": "stream",
     "text": [
      "100%|█████████████████████████████████████████| 550/550 [00:47<00:00, 11.52it/s]\n"
     ]
    },
    {
     "name": "stdout",
     "output_type": "stream",
     "text": [
      "R@1 : 86.984\n",
      "R@2 : 90.623\n",
      "R@4 : 93.516\n",
      "R@8 : 95.557\n",
      "R@16 : 96.951\n",
      "R@32 : 98.064\n"
     ]
    },
    {
     "name": "stderr",
     "output_type": "stream",
     "text": [
      "Train Epoch: 155 [549/549 (100%)] Loss: 0.149694: : 549it [02:24,  3.80it/s]\n"
     ]
    },
    {
     "name": "stdout",
     "output_type": "stream",
     "text": [
      "**Evaluating...**\n"
     ]
    },
    {
     "name": "stderr",
     "output_type": "stream",
     "text": [
      "100%|█████████████████████████████████████████| 550/550 [00:47<00:00, 11.53it/s]\n"
     ]
    },
    {
     "name": "stdout",
     "output_type": "stream",
     "text": [
      "R@1 : 86.762\n",
      "R@2 : 90.422\n",
      "R@4 : 93.290\n",
      "R@8 : 95.382\n",
      "R@16 : 97.089\n",
      "R@32 : 98.221\n"
     ]
    },
    {
     "name": "stderr",
     "output_type": "stream",
     "text": [
      "Train Epoch: 156 [549/549 (100%)] Loss: 0.153424: : 549it [02:24,  3.80it/s]\n"
     ]
    },
    {
     "name": "stdout",
     "output_type": "stream",
     "text": [
      "**Evaluating...**\n"
     ]
    },
    {
     "name": "stderr",
     "output_type": "stream",
     "text": [
      "100%|█████████████████████████████████████████| 550/550 [00:47<00:00, 11.52it/s]\n"
     ]
    },
    {
     "name": "stdout",
     "output_type": "stream",
     "text": [
      "R@1 : 87.388\n",
      "R@2 : 91.027\n",
      "R@4 : 93.683\n",
      "R@8 : 95.677\n",
      "R@16 : 97.173\n",
      "R@32 : 98.326\n"
     ]
    },
    {
     "name": "stderr",
     "output_type": "stream",
     "text": [
      "Train Epoch: 157 [549/549 (100%)] Loss: 0.111001: : 549it [02:24,  3.80it/s]\n"
     ]
    },
    {
     "name": "stdout",
     "output_type": "stream",
     "text": [
      "**Evaluating...**\n"
     ]
    },
    {
     "name": "stderr",
     "output_type": "stream",
     "text": [
      "100%|█████████████████████████████████████████| 550/550 [00:47<00:00, 11.52it/s]\n"
     ]
    },
    {
     "name": "stdout",
     "output_type": "stream",
     "text": [
      "R@1 : 87.060\n",
      "R@2 : 90.717\n",
      "R@4 : 93.457\n",
      "R@8 : 95.433\n",
      "R@16 : 96.998\n",
      "R@32 : 98.159\n"
     ]
    },
    {
     "name": "stderr",
     "output_type": "stream",
     "text": [
      "Train Epoch: 158 [549/549 (100%)] Loss: 0.242684: : 549it [02:24,  3.80it/s]\n"
     ]
    },
    {
     "name": "stdout",
     "output_type": "stream",
     "text": [
      "**Evaluating...**\n"
     ]
    },
    {
     "name": "stderr",
     "output_type": "stream",
     "text": [
      "100%|█████████████████████████████████████████| 550/550 [00:47<00:00, 11.52it/s]\n"
     ]
    },
    {
     "name": "stdout",
     "output_type": "stream",
     "text": [
      "R@1 : 87.355\n",
      "R@2 : 91.005\n",
      "R@4 : 93.588\n",
      "R@8 : 95.677\n",
      "R@16 : 97.293\n",
      "R@32 : 98.293\n"
     ]
    },
    {
     "name": "stderr",
     "output_type": "stream",
     "text": [
      "Train Epoch: 159 [549/549 (100%)] Loss: 0.176047: : 549it [02:24,  3.80it/s]\n"
     ]
    },
    {
     "name": "stdout",
     "output_type": "stream",
     "text": [
      "**Evaluating...**\n"
     ]
    },
    {
     "name": "stderr",
     "output_type": "stream",
     "text": [
      "100%|█████████████████████████████████████████| 550/550 [00:47<00:00, 11.52it/s]\n"
     ]
    },
    {
     "name": "stdout",
     "output_type": "stream",
     "text": [
      "R@1 : 87.409\n",
      "R@2 : 91.012\n",
      "R@4 : 93.730\n",
      "R@8 : 95.721\n",
      "R@16 : 97.344\n",
      "R@32 : 98.315\n"
     ]
    },
    {
     "name": "stderr",
     "output_type": "stream",
     "text": [
      "Train Epoch: 160 [549/549 (100%)] Loss: 0.105093: : 549it [02:24,  3.80it/s]\n"
     ]
    },
    {
     "name": "stdout",
     "output_type": "stream",
     "text": [
      "**Evaluating...**\n"
     ]
    },
    {
     "name": "stderr",
     "output_type": "stream",
     "text": [
      "100%|█████████████████████████████████████████| 550/550 [00:47<00:00, 11.53it/s]\n"
     ]
    },
    {
     "name": "stdout",
     "output_type": "stream",
     "text": [
      "R@1 : 87.042\n",
      "R@2 : 90.663\n",
      "R@4 : 93.472\n",
      "R@8 : 95.542\n",
      "R@16 : 97.100\n",
      "R@32 : 98.195\n"
     ]
    },
    {
     "name": "stderr",
     "output_type": "stream",
     "text": [
      "Train Epoch: 161 [549/549 (100%)] Loss: 0.212631: : 549it [02:24,  3.80it/s]\n"
     ]
    },
    {
     "name": "stdout",
     "output_type": "stream",
     "text": [
      "**Evaluating...**\n"
     ]
    },
    {
     "name": "stderr",
     "output_type": "stream",
     "text": [
      "100%|█████████████████████████████████████████| 550/550 [00:47<00:00, 11.53it/s]\n"
     ]
    },
    {
     "name": "stdout",
     "output_type": "stream",
     "text": [
      "R@1 : 86.962\n",
      "R@2 : 90.604\n",
      "R@4 : 93.388\n",
      "R@8 : 95.499\n",
      "R@16 : 97.103\n",
      "R@32 : 98.173\n"
     ]
    },
    {
     "name": "stderr",
     "output_type": "stream",
     "text": [
      "Train Epoch: 162 [549/549 (100%)] Loss: 0.220604: : 549it [02:24,  3.80it/s]\n"
     ]
    },
    {
     "name": "stdout",
     "output_type": "stream",
     "text": [
      "**Evaluating...**\n"
     ]
    },
    {
     "name": "stderr",
     "output_type": "stream",
     "text": [
      "100%|█████████████████████████████████████████| 550/550 [00:47<00:00, 11.53it/s]\n"
     ]
    },
    {
     "name": "stdout",
     "output_type": "stream",
     "text": [
      "R@1 : 87.348\n",
      "R@2 : 91.027\n",
      "R@4 : 93.541\n",
      "R@8 : 95.597\n",
      "R@16 : 97.216\n",
      "R@32 : 98.293\n"
     ]
    },
    {
     "name": "stderr",
     "output_type": "stream",
     "text": [
      "Train Epoch: 163 [549/549 (100%)] Loss: 0.215960: : 549it [02:24,  3.80it/s]\n"
     ]
    },
    {
     "name": "stdout",
     "output_type": "stream",
     "text": [
      "**Evaluating...**\n"
     ]
    },
    {
     "name": "stderr",
     "output_type": "stream",
     "text": [
      "100%|█████████████████████████████████████████| 550/550 [00:47<00:00, 11.53it/s]\n"
     ]
    },
    {
     "name": "stdout",
     "output_type": "stream",
     "text": [
      "R@1 : 87.319\n",
      "R@2 : 90.986\n",
      "R@4 : 93.614\n",
      "R@8 : 95.542\n",
      "R@16 : 97.114\n",
      "R@32 : 98.279\n"
     ]
    },
    {
     "name": "stderr",
     "output_type": "stream",
     "text": [
      "Train Epoch: 164 [549/549 (100%)] Loss: 0.123959: : 549it [02:24,  3.80it/s]\n"
     ]
    },
    {
     "name": "stdout",
     "output_type": "stream",
     "text": [
      "**Evaluating...**\n"
     ]
    },
    {
     "name": "stderr",
     "output_type": "stream",
     "text": [
      "100%|█████████████████████████████████████████| 550/550 [00:47<00:00, 11.52it/s]\n"
     ]
    },
    {
     "name": "stdout",
     "output_type": "stream",
     "text": [
      "R@1 : 86.896\n",
      "R@2 : 90.419\n",
      "R@4 : 93.224\n",
      "R@8 : 95.386\n",
      "R@16 : 97.002\n",
      "R@32 : 98.111\n"
     ]
    },
    {
     "name": "stderr",
     "output_type": "stream",
     "text": [
      "Train Epoch: 165 [549/549 (100%)] Loss: 0.158313: : 549it [02:24,  3.80it/s]\n"
     ]
    },
    {
     "name": "stdout",
     "output_type": "stream",
     "text": [
      "**Evaluating...**\n"
     ]
    },
    {
     "name": "stderr",
     "output_type": "stream",
     "text": [
      "100%|█████████████████████████████████████████| 550/550 [00:47<00:00, 11.52it/s]\n"
     ]
    },
    {
     "name": "stdout",
     "output_type": "stream",
     "text": [
      "R@1 : 87.337\n",
      "R@2 : 90.684\n",
      "R@4 : 93.494\n",
      "R@8 : 95.513\n",
      "R@16 : 97.147\n",
      "R@32 : 98.290\n"
     ]
    },
    {
     "name": "stderr",
     "output_type": "stream",
     "text": [
      "Train Epoch: 166 [549/549 (100%)] Loss: 0.109962: : 549it [02:24,  3.80it/s]\n"
     ]
    },
    {
     "name": "stdout",
     "output_type": "stream",
     "text": [
      "**Evaluating...**\n"
     ]
    },
    {
     "name": "stderr",
     "output_type": "stream",
     "text": [
      "100%|█████████████████████████████████████████| 550/550 [00:47<00:00, 11.53it/s]\n"
     ]
    },
    {
     "name": "stdout",
     "output_type": "stream",
     "text": [
      "R@1 : 87.002\n",
      "R@2 : 90.615\n",
      "R@4 : 93.526\n",
      "R@8 : 95.597\n",
      "R@16 : 97.082\n",
      "R@32 : 98.199\n"
     ]
    },
    {
     "name": "stderr",
     "output_type": "stream",
     "text": [
      "Train Epoch: 167 [549/549 (100%)] Loss: 0.164844: : 549it [02:24,  3.80it/s]\n"
     ]
    },
    {
     "name": "stdout",
     "output_type": "stream",
     "text": [
      "**Evaluating...**\n"
     ]
    },
    {
     "name": "stderr",
     "output_type": "stream",
     "text": [
      "100%|█████████████████████████████████████████| 550/550 [00:47<00:00, 11.52it/s]\n"
     ]
    },
    {
     "name": "stdout",
     "output_type": "stream",
     "text": [
      "R@1 : 87.304\n",
      "R@2 : 91.052\n",
      "R@4 : 93.668\n",
      "R@8 : 95.717\n",
      "R@16 : 97.315\n",
      "R@32 : 98.381\n"
     ]
    },
    {
     "name": "stderr",
     "output_type": "stream",
     "text": [
      "Train Epoch: 168 [549/549 (100%)] Loss: 0.092717: : 549it [02:24,  3.80it/s]\n"
     ]
    },
    {
     "name": "stdout",
     "output_type": "stream",
     "text": [
      "**Evaluating...**\n"
     ]
    },
    {
     "name": "stderr",
     "output_type": "stream",
     "text": [
      "100%|█████████████████████████████████████████| 550/550 [00:47<00:00, 11.51it/s]\n"
     ]
    },
    {
     "name": "stdout",
     "output_type": "stream",
     "text": [
      "R@1 : 87.406\n",
      "R@2 : 90.965\n",
      "R@4 : 93.679\n",
      "R@8 : 95.655\n",
      "R@16 : 97.267\n",
      "R@32 : 98.315\n"
     ]
    },
    {
     "name": "stderr",
     "output_type": "stream",
     "text": [
      "Train Epoch: 169 [549/549 (100%)] Loss: 0.093987: : 549it [02:24,  3.80it/s]\n"
     ]
    },
    {
     "name": "stdout",
     "output_type": "stream",
     "text": [
      "**Evaluating...**\n"
     ]
    },
    {
     "name": "stderr",
     "output_type": "stream",
     "text": [
      "100%|█████████████████████████████████████████| 550/550 [00:47<00:00, 11.52it/s]\n"
     ]
    },
    {
     "name": "stdout",
     "output_type": "stream",
     "text": [
      "R@1 : 87.388\n",
      "R@2 : 90.990\n",
      "R@4 : 93.508\n",
      "R@8 : 95.582\n",
      "R@16 : 97.122\n",
      "R@32 : 98.257\n"
     ]
    },
    {
     "name": "stderr",
     "output_type": "stream",
     "text": [
      "Train Epoch: 170 [549/549 (100%)] Loss: 0.132640: : 549it [02:24,  3.80it/s]\n"
     ]
    },
    {
     "name": "stdout",
     "output_type": "stream",
     "text": [
      "**Evaluating...**\n"
     ]
    },
    {
     "name": "stderr",
     "output_type": "stream",
     "text": [
      "100%|█████████████████████████████████████████| 550/550 [00:47<00:00, 11.52it/s]\n"
     ]
    },
    {
     "name": "stdout",
     "output_type": "stream",
     "text": [
      "R@1 : 86.864\n",
      "R@2 : 90.601\n",
      "R@4 : 93.279\n",
      "R@8 : 95.481\n",
      "R@16 : 97.082\n",
      "R@32 : 98.235\n"
     ]
    },
    {
     "name": "stderr",
     "output_type": "stream",
     "text": [
      "Train Epoch: 171 [549/549 (100%)] Loss: 0.114315: : 549it [02:24,  3.80it/s]\n"
     ]
    },
    {
     "name": "stdout",
     "output_type": "stream",
     "text": [
      "**Evaluating...**\n"
     ]
    },
    {
     "name": "stderr",
     "output_type": "stream",
     "text": [
      "100%|█████████████████████████████████████████| 550/550 [00:47<00:00, 11.52it/s]\n"
     ]
    },
    {
     "name": "stdout",
     "output_type": "stream",
     "text": [
      "R@1 : 86.980\n",
      "R@2 : 90.695\n",
      "R@4 : 93.712\n",
      "R@8 : 95.724\n",
      "R@16 : 97.140\n",
      "R@32 : 98.235\n"
     ]
    },
    {
     "name": "stderr",
     "output_type": "stream",
     "text": [
      "Train Epoch: 172 [549/549 (100%)] Loss: 0.111765: : 549it [02:24,  3.80it/s]\n"
     ]
    },
    {
     "name": "stdout",
     "output_type": "stream",
     "text": [
      "**Evaluating...**\n"
     ]
    },
    {
     "name": "stderr",
     "output_type": "stream",
     "text": [
      "100%|█████████████████████████████████████████| 550/550 [00:47<00:00, 11.53it/s]\n"
     ]
    },
    {
     "name": "stdout",
     "output_type": "stream",
     "text": [
      "R@1 : 87.122\n",
      "R@2 : 90.641\n",
      "R@4 : 93.403\n",
      "R@8 : 95.575\n",
      "R@16 : 97.184\n",
      "R@32 : 98.359\n"
     ]
    },
    {
     "name": "stderr",
     "output_type": "stream",
     "text": [
      "Train Epoch: 173 [549/549 (100%)] Loss: 0.196731: : 549it [02:24,  3.80it/s]\n"
     ]
    },
    {
     "name": "stdout",
     "output_type": "stream",
     "text": [
      "**Evaluating...**\n"
     ]
    },
    {
     "name": "stderr",
     "output_type": "stream",
     "text": [
      "100%|█████████████████████████████████████████| 550/550 [00:47<00:00, 11.52it/s]\n"
     ]
    },
    {
     "name": "stdout",
     "output_type": "stream",
     "text": [
      "R@1 : 87.198\n",
      "R@2 : 90.761\n",
      "R@4 : 93.417\n",
      "R@8 : 95.506\n",
      "R@16 : 97.023\n",
      "R@32 : 98.141\n"
     ]
    },
    {
     "name": "stderr",
     "output_type": "stream",
     "text": [
      "Train Epoch: 174 [549/549 (100%)] Loss: 0.102266: : 549it [02:24,  3.80it/s]\n"
     ]
    },
    {
     "name": "stdout",
     "output_type": "stream",
     "text": [
      "**Evaluating...**\n"
     ]
    },
    {
     "name": "stderr",
     "output_type": "stream",
     "text": [
      "100%|█████████████████████████████████████████| 550/550 [00:47<00:00, 11.52it/s]\n"
     ]
    },
    {
     "name": "stdout",
     "output_type": "stream",
     "text": [
      "R@1 : 87.428\n",
      "R@2 : 91.034\n",
      "R@4 : 93.654\n",
      "R@8 : 95.826\n",
      "R@16 : 97.209\n",
      "R@32 : 98.217\n"
     ]
    },
    {
     "name": "stderr",
     "output_type": "stream",
     "text": [
      "Train Epoch: 175 [549/549 (100%)] Loss: 0.114943: : 549it [02:24,  3.80it/s]\n"
     ]
    },
    {
     "name": "stdout",
     "output_type": "stream",
     "text": [
      "**Evaluating...**\n"
     ]
    },
    {
     "name": "stderr",
     "output_type": "stream",
     "text": [
      "100%|█████████████████████████████████████████| 550/550 [00:47<00:00, 11.52it/s]\n"
     ]
    },
    {
     "name": "stdout",
     "output_type": "stream",
     "text": [
      "R@1 : 86.936\n",
      "R@2 : 90.543\n",
      "R@4 : 93.290\n",
      "R@8 : 95.451\n",
      "R@16 : 97.049\n",
      "R@32 : 98.344\n"
     ]
    },
    {
     "name": "stderr",
     "output_type": "stream",
     "text": [
      "Train Epoch: 176 [549/549 (100%)] Loss: 0.111918: : 549it [02:24,  3.80it/s]\n"
     ]
    },
    {
     "name": "stdout",
     "output_type": "stream",
     "text": [
      "**Evaluating...**\n"
     ]
    },
    {
     "name": "stderr",
     "output_type": "stream",
     "text": [
      "100%|█████████████████████████████████████████| 550/550 [00:47<00:00, 11.52it/s]\n"
     ]
    },
    {
     "name": "stdout",
     "output_type": "stream",
     "text": [
      "R@1 : 87.340\n",
      "R@2 : 90.797\n",
      "R@4 : 93.523\n",
      "R@8 : 95.575\n",
      "R@16 : 97.238\n",
      "R@32 : 98.355\n"
     ]
    },
    {
     "name": "stderr",
     "output_type": "stream",
     "text": [
      "Train Epoch: 177 [549/549 (100%)] Loss: 0.108001: : 549it [02:24,  3.80it/s]\n"
     ]
    },
    {
     "name": "stdout",
     "output_type": "stream",
     "text": [
      "**Evaluating...**\n"
     ]
    },
    {
     "name": "stderr",
     "output_type": "stream",
     "text": [
      "100%|█████████████████████████████████████████| 550/550 [00:47<00:00, 11.52it/s]\n"
     ]
    },
    {
     "name": "stdout",
     "output_type": "stream",
     "text": [
      "R@1 : 86.824\n",
      "R@2 : 90.615\n",
      "R@4 : 93.381\n",
      "R@8 : 95.510\n",
      "R@16 : 96.980\n",
      "R@32 : 98.064\n"
     ]
    },
    {
     "name": "stderr",
     "output_type": "stream",
     "text": [
      "Train Epoch: 178 [549/549 (100%)] Loss: 0.262089: : 549it [02:24,  3.80it/s]\n"
     ]
    },
    {
     "name": "stdout",
     "output_type": "stream",
     "text": [
      "**Evaluating...**\n"
     ]
    },
    {
     "name": "stderr",
     "output_type": "stream",
     "text": [
      "100%|█████████████████████████████████████████| 550/550 [00:47<00:00, 11.52it/s]\n"
     ]
    },
    {
     "name": "stdout",
     "output_type": "stream",
     "text": [
      "R@1 : 87.366\n",
      "R@2 : 90.754\n",
      "R@4 : 93.570\n",
      "R@8 : 95.757\n",
      "R@16 : 97.311\n",
      "R@32 : 98.363\n"
     ]
    },
    {
     "name": "stderr",
     "output_type": "stream",
     "text": [
      "Train Epoch: 179 [549/549 (100%)] Loss: 0.095122: : 549it [02:24,  3.80it/s]\n"
     ]
    },
    {
     "name": "stdout",
     "output_type": "stream",
     "text": [
      "**Evaluating...**\n"
     ]
    },
    {
     "name": "stderr",
     "output_type": "stream",
     "text": [
      "100%|█████████████████████████████████████████| 550/550 [00:47<00:00, 11.52it/s]\n"
     ]
    },
    {
     "name": "stdout",
     "output_type": "stream",
     "text": [
      "R@1 : 87.359\n",
      "R@2 : 90.823\n",
      "R@4 : 93.428\n",
      "R@8 : 95.593\n",
      "R@16 : 97.143\n",
      "R@32 : 98.315\n"
     ]
    },
    {
     "name": "stderr",
     "output_type": "stream",
     "text": [
      "Train Epoch: 180 [549/549 (100%)] Loss: 0.184091: : 549it [02:24,  3.80it/s]\n"
     ]
    },
    {
     "name": "stdout",
     "output_type": "stream",
     "text": [
      "**Evaluating...**\n"
     ]
    },
    {
     "name": "stderr",
     "output_type": "stream",
     "text": [
      "100%|█████████████████████████████████████████| 550/550 [00:47<00:00, 11.53it/s]\n"
     ]
    },
    {
     "name": "stdout",
     "output_type": "stream",
     "text": [
      "R@1 : 87.220\n",
      "R@2 : 90.812\n",
      "R@4 : 93.461\n",
      "R@8 : 95.528\n",
      "R@16 : 97.158\n",
      "R@32 : 98.184\n"
     ]
    },
    {
     "name": "stderr",
     "output_type": "stream",
     "text": [
      "Train Epoch: 181 [549/549 (100%)] Loss: 0.105920: : 549it [02:24,  3.80it/s]\n"
     ]
    },
    {
     "name": "stdout",
     "output_type": "stream",
     "text": [
      "**Evaluating...**\n"
     ]
    },
    {
     "name": "stderr",
     "output_type": "stream",
     "text": [
      "100%|█████████████████████████████████████████| 550/550 [00:47<00:00, 11.50it/s]\n"
     ]
    },
    {
     "name": "stdout",
     "output_type": "stream",
     "text": [
      "R@1 : 87.475\n",
      "R@2 : 90.961\n",
      "R@4 : 93.599\n",
      "R@8 : 95.659\n",
      "R@16 : 97.191\n",
      "R@32 : 98.290\n"
     ]
    },
    {
     "name": "stderr",
     "output_type": "stream",
     "text": [
      "Train Epoch: 182 [549/549 (100%)] Loss: 0.152510: : 549it [02:24,  3.80it/s]\n"
     ]
    },
    {
     "name": "stdout",
     "output_type": "stream",
     "text": [
      "**Evaluating...**\n"
     ]
    },
    {
     "name": "stderr",
     "output_type": "stream",
     "text": [
      "100%|█████████████████████████████████████████| 550/550 [00:47<00:00, 11.50it/s]\n"
     ]
    },
    {
     "name": "stdout",
     "output_type": "stream",
     "text": [
      "R@1 : 87.249\n",
      "R@2 : 90.830\n",
      "R@4 : 93.628\n",
      "R@8 : 95.633\n",
      "R@16 : 97.151\n",
      "R@32 : 98.206\n"
     ]
    },
    {
     "name": "stderr",
     "output_type": "stream",
     "text": [
      "Train Epoch: 183 [549/549 (100%)] Loss: 0.106100: : 549it [02:24,  3.80it/s]\n"
     ]
    },
    {
     "name": "stdout",
     "output_type": "stream",
     "text": [
      "**Evaluating...**\n"
     ]
    },
    {
     "name": "stderr",
     "output_type": "stream",
     "text": [
      "100%|█████████████████████████████████████████| 550/550 [00:47<00:00, 11.52it/s]\n"
     ]
    },
    {
     "name": "stdout",
     "output_type": "stream",
     "text": [
      "R@1 : 86.929\n",
      "R@2 : 90.564\n",
      "R@4 : 93.355\n",
      "R@8 : 95.350\n",
      "R@16 : 97.096\n",
      "R@32 : 98.141\n"
     ]
    },
    {
     "name": "stderr",
     "output_type": "stream",
     "text": [
      "Train Epoch: 184 [549/549 (100%)] Loss: 0.139945: : 549it [02:24,  3.79it/s]\n"
     ]
    },
    {
     "name": "stdout",
     "output_type": "stream",
     "text": [
      "**Evaluating...**\n"
     ]
    },
    {
     "name": "stderr",
     "output_type": "stream",
     "text": [
      "100%|█████████████████████████████████████████| 550/550 [00:47<00:00, 11.53it/s]\n"
     ]
    },
    {
     "name": "stdout",
     "output_type": "stream",
     "text": [
      "R@1 : 86.911\n",
      "R@2 : 90.805\n",
      "R@4 : 93.537\n",
      "R@8 : 95.615\n",
      "R@16 : 97.158\n",
      "R@32 : 98.232\n"
     ]
    },
    {
     "name": "stderr",
     "output_type": "stream",
     "text": [
      "Train Epoch: 185 [549/549 (100%)] Loss: 0.082372: : 549it [02:24,  3.80it/s]\n"
     ]
    },
    {
     "name": "stdout",
     "output_type": "stream",
     "text": [
      "**Evaluating...**\n"
     ]
    },
    {
     "name": "stderr",
     "output_type": "stream",
     "text": [
      "100%|█████████████████████████████████████████| 550/550 [00:47<00:00, 11.53it/s]\n"
     ]
    },
    {
     "name": "stdout",
     "output_type": "stream",
     "text": [
      "R@1 : 87.031\n",
      "R@2 : 90.699\n",
      "R@4 : 93.472\n",
      "R@8 : 95.517\n",
      "R@16 : 97.067\n",
      "R@32 : 98.304\n"
     ]
    },
    {
     "name": "stderr",
     "output_type": "stream",
     "text": [
      "Train Epoch: 186 [549/549 (100%)] Loss: 0.125366: : 549it [02:24,  3.79it/s]\n"
     ]
    },
    {
     "name": "stdout",
     "output_type": "stream",
     "text": [
      "**Evaluating...**\n"
     ]
    },
    {
     "name": "stderr",
     "output_type": "stream",
     "text": [
      "100%|█████████████████████████████████████████| 550/550 [00:47<00:00, 11.52it/s]\n"
     ]
    },
    {
     "name": "stdout",
     "output_type": "stream",
     "text": [
      "R@1 : 87.282\n",
      "R@2 : 90.939\n",
      "R@4 : 93.650\n",
      "R@8 : 95.673\n",
      "R@16 : 97.234\n",
      "R@32 : 98.333\n"
     ]
    },
    {
     "name": "stderr",
     "output_type": "stream",
     "text": [
      "Train Epoch: 187 [549/549 (100%)] Loss: 0.074501: : 549it [02:24,  3.79it/s]\n"
     ]
    },
    {
     "name": "stdout",
     "output_type": "stream",
     "text": [
      "**Evaluating...**\n"
     ]
    },
    {
     "name": "stderr",
     "output_type": "stream",
     "text": [
      "100%|█████████████████████████████████████████| 550/550 [00:47<00:00, 11.52it/s]\n"
     ]
    },
    {
     "name": "stdout",
     "output_type": "stream",
     "text": [
      "R@1 : 87.147\n",
      "R@2 : 90.783\n",
      "R@4 : 93.588\n",
      "R@8 : 95.666\n",
      "R@16 : 97.220\n",
      "R@32 : 98.268\n"
     ]
    },
    {
     "name": "stderr",
     "output_type": "stream",
     "text": [
      "Train Epoch: 188 [549/549 (100%)] Loss: 0.121186: : 549it [02:24,  3.79it/s]\n"
     ]
    },
    {
     "name": "stdout",
     "output_type": "stream",
     "text": [
      "**Evaluating...**\n"
     ]
    },
    {
     "name": "stderr",
     "output_type": "stream",
     "text": [
      "100%|█████████████████████████████████████████| 550/550 [00:47<00:00, 11.52it/s]\n"
     ]
    },
    {
     "name": "stdout",
     "output_type": "stream",
     "text": [
      "R@1 : 87.475\n",
      "R@2 : 91.030\n",
      "R@4 : 93.625\n",
      "R@8 : 95.531\n",
      "R@16 : 97.133\n",
      "R@32 : 98.315\n"
     ]
    },
    {
     "name": "stderr",
     "output_type": "stream",
     "text": [
      "Train Epoch: 189 [549/549 (100%)] Loss: 0.264272: : 549it [02:24,  3.79it/s]\n"
     ]
    },
    {
     "name": "stdout",
     "output_type": "stream",
     "text": [
      "**Evaluating...**\n"
     ]
    },
    {
     "name": "stderr",
     "output_type": "stream",
     "text": [
      "100%|█████████████████████████████████████████| 550/550 [00:47<00:00, 11.52it/s]\n"
     ]
    },
    {
     "name": "stdout",
     "output_type": "stream",
     "text": [
      "R@1 : 87.093\n",
      "R@2 : 90.590\n",
      "R@4 : 93.374\n",
      "R@8 : 95.510\n",
      "R@16 : 97.063\n",
      "R@32 : 98.155\n"
     ]
    },
    {
     "name": "stderr",
     "output_type": "stream",
     "text": [
      "Train Epoch: 190 [549/549 (100%)] Loss: 0.157105: : 549it [02:24,  3.79it/s]\n"
     ]
    },
    {
     "name": "stdout",
     "output_type": "stream",
     "text": [
      "**Evaluating...**\n"
     ]
    },
    {
     "name": "stderr",
     "output_type": "stream",
     "text": [
      "100%|█████████████████████████████████████████| 550/550 [00:47<00:00, 11.53it/s]\n"
     ]
    },
    {
     "name": "stdout",
     "output_type": "stream",
     "text": [
      "R@1 : 87.439\n",
      "R@2 : 90.888\n",
      "R@4 : 93.610\n",
      "R@8 : 95.571\n",
      "R@16 : 97.136\n",
      "R@32 : 98.202\n"
     ]
    },
    {
     "name": "stderr",
     "output_type": "stream",
     "text": [
      "Train Epoch: 191 [549/549 (100%)] Loss: 0.189241: : 549it [02:24,  3.79it/s]\n"
     ]
    },
    {
     "name": "stdout",
     "output_type": "stream",
     "text": [
      "**Evaluating...**\n"
     ]
    },
    {
     "name": "stderr",
     "output_type": "stream",
     "text": [
      "100%|█████████████████████████████████████████| 550/550 [00:47<00:00, 11.52it/s]\n"
     ]
    },
    {
     "name": "stdout",
     "output_type": "stream",
     "text": [
      "R@1 : 87.100\n",
      "R@2 : 90.608\n",
      "R@4 : 93.468\n",
      "R@8 : 95.542\n",
      "R@16 : 97.173\n",
      "R@32 : 98.228\n"
     ]
    },
    {
     "name": "stderr",
     "output_type": "stream",
     "text": [
      "Train Epoch: 192 [549/549 (100%)] Loss: 0.105337: : 549it [02:24,  3.79it/s]\n"
     ]
    },
    {
     "name": "stdout",
     "output_type": "stream",
     "text": [
      "**Evaluating...**\n"
     ]
    },
    {
     "name": "stderr",
     "output_type": "stream",
     "text": [
      "100%|█████████████████████████████████████████| 550/550 [00:47<00:00, 11.53it/s]\n"
     ]
    },
    {
     "name": "stdout",
     "output_type": "stream",
     "text": [
      "R@1 : 87.209\n",
      "R@2 : 90.823\n",
      "R@4 : 93.676\n",
      "R@8 : 95.721\n",
      "R@16 : 97.249\n",
      "R@32 : 98.279\n"
     ]
    },
    {
     "name": "stderr",
     "output_type": "stream",
     "text": [
      "Train Epoch: 193 [549/549 (100%)] Loss: 0.132437: : 549it [02:24,  3.79it/s]\n"
     ]
    },
    {
     "name": "stdout",
     "output_type": "stream",
     "text": [
      "**Evaluating...**\n"
     ]
    },
    {
     "name": "stderr",
     "output_type": "stream",
     "text": [
      "100%|█████████████████████████████████████████| 550/550 [00:47<00:00, 11.52it/s]\n"
     ]
    },
    {
     "name": "stdout",
     "output_type": "stream",
     "text": [
      "R@1 : 87.278\n",
      "R@2 : 90.783\n",
      "R@4 : 93.490\n",
      "R@8 : 95.582\n",
      "R@16 : 97.140\n",
      "R@32 : 98.213\n"
     ]
    },
    {
     "name": "stderr",
     "output_type": "stream",
     "text": [
      "Train Epoch: 194 [549/549 (100%)] Loss: 0.281129: : 549it [02:24,  3.79it/s]\n"
     ]
    },
    {
     "name": "stdout",
     "output_type": "stream",
     "text": [
      "**Evaluating...**\n"
     ]
    },
    {
     "name": "stderr",
     "output_type": "stream",
     "text": [
      "100%|█████████████████████████████████████████| 550/550 [00:47<00:00, 11.52it/s]\n"
     ]
    },
    {
     "name": "stdout",
     "output_type": "stream",
     "text": [
      "R@1 : 87.395\n",
      "R@2 : 90.983\n",
      "R@4 : 93.727\n",
      "R@8 : 95.823\n",
      "R@16 : 97.209\n",
      "R@32 : 98.224\n"
     ]
    },
    {
     "name": "stderr",
     "output_type": "stream",
     "text": [
      "Train Epoch: 195 [549/549 (100%)] Loss: 0.146681: : 549it [02:24,  3.79it/s]\n"
     ]
    },
    {
     "name": "stdout",
     "output_type": "stream",
     "text": [
      "**Evaluating...**\n"
     ]
    },
    {
     "name": "stderr",
     "output_type": "stream",
     "text": [
      "100%|█████████████████████████████████████████| 550/550 [00:47<00:00, 11.53it/s]\n"
     ]
    },
    {
     "name": "stdout",
     "output_type": "stream",
     "text": [
      "R@1 : 87.322\n",
      "R@2 : 90.870\n",
      "R@4 : 93.650\n",
      "R@8 : 95.684\n",
      "R@16 : 97.173\n",
      "R@32 : 98.235\n"
     ]
    },
    {
     "name": "stderr",
     "output_type": "stream",
     "text": [
      "Train Epoch: 196 [549/549 (100%)] Loss: 0.136694: : 549it [02:24,  3.79it/s]\n"
     ]
    },
    {
     "name": "stdout",
     "output_type": "stream",
     "text": [
      "**Evaluating...**\n"
     ]
    },
    {
     "name": "stderr",
     "output_type": "stream",
     "text": [
      "100%|█████████████████████████████████████████| 550/550 [00:47<00:00, 11.52it/s]\n"
     ]
    },
    {
     "name": "stdout",
     "output_type": "stream",
     "text": [
      "R@1 : 87.228\n",
      "R@2 : 90.754\n",
      "R@4 : 93.435\n",
      "R@8 : 95.419\n",
      "R@16 : 96.991\n",
      "R@32 : 98.144\n"
     ]
    },
    {
     "name": "stderr",
     "output_type": "stream",
     "text": [
      "Train Epoch: 197 [549/549 (100%)] Loss: 0.108998: : 549it [02:24,  3.79it/s]\n"
     ]
    },
    {
     "name": "stdout",
     "output_type": "stream",
     "text": [
      "**Evaluating...**\n"
     ]
    },
    {
     "name": "stderr",
     "output_type": "stream",
     "text": [
      "100%|█████████████████████████████████████████| 550/550 [00:47<00:00, 11.53it/s]\n"
     ]
    },
    {
     "name": "stdout",
     "output_type": "stream",
     "text": [
      "R@1 : 87.235\n",
      "R@2 : 90.663\n",
      "R@4 : 93.283\n",
      "R@8 : 95.437\n",
      "R@16 : 97.093\n",
      "R@32 : 98.202\n"
     ]
    },
    {
     "name": "stderr",
     "output_type": "stream",
     "text": [
      "Train Epoch: 198 [549/549 (100%)] Loss: 0.089334: : 549it [02:24,  3.79it/s]\n"
     ]
    },
    {
     "name": "stdout",
     "output_type": "stream",
     "text": [
      "**Evaluating...**\n"
     ]
    },
    {
     "name": "stderr",
     "output_type": "stream",
     "text": [
      "100%|█████████████████████████████████████████| 550/550 [00:47<00:00, 11.53it/s]\n"
     ]
    },
    {
     "name": "stdout",
     "output_type": "stream",
     "text": [
      "R@1 : 86.987\n",
      "R@2 : 90.710\n",
      "R@4 : 93.603\n",
      "R@8 : 95.652\n",
      "R@16 : 97.202\n",
      "R@32 : 98.261\n"
     ]
    },
    {
     "name": "stderr",
     "output_type": "stream",
     "text": [
      "Train Epoch: 199 [549/549 (100%)] Loss: 0.157371: : 549it [02:24,  3.79it/s]\n"
     ]
    },
    {
     "name": "stdout",
     "output_type": "stream",
     "text": [
      "**Evaluating...**\n"
     ]
    },
    {
     "name": "stderr",
     "output_type": "stream",
     "text": [
      "100%|█████████████████████████████████████████| 550/550 [00:47<00:00, 11.53it/s]\n"
     ]
    },
    {
     "name": "stdout",
     "output_type": "stream",
     "text": [
      "R@1 : 87.155\n",
      "R@2 : 90.874\n",
      "R@4 : 93.610\n",
      "R@8 : 95.670\n",
      "R@16 : 97.213\n",
      "R@32 : 98.381\n"
     ]
    },
    {
     "name": "stderr",
     "output_type": "stream",
     "text": [
      "Train Epoch: 200 [549/549 (100%)] Loss: 0.104921: : 549it [02:24,  3.79it/s]\n"
     ]
    },
    {
     "name": "stdout",
     "output_type": "stream",
     "text": [
      "**Evaluating...**\n"
     ]
    },
    {
     "name": "stderr",
     "output_type": "stream",
     "text": [
      "100%|█████████████████████████████████████████| 550/550 [00:47<00:00, 11.52it/s]\n"
     ]
    },
    {
     "name": "stdout",
     "output_type": "stream",
     "text": [
      "R@1 : 87.439\n",
      "R@2 : 90.885\n",
      "R@4 : 93.537\n",
      "R@8 : 95.717\n",
      "R@16 : 97.227\n",
      "R@32 : 98.326\n"
     ]
    },
    {
     "name": "stderr",
     "output_type": "stream",
     "text": [
      "Train Epoch: 201 [549/549 (100%)] Loss: 0.141655: : 549it [02:24,  3.79it/s]\n"
     ]
    },
    {
     "name": "stdout",
     "output_type": "stream",
     "text": [
      "**Evaluating...**\n"
     ]
    },
    {
     "name": "stderr",
     "output_type": "stream",
     "text": [
      "100%|█████████████████████████████████████████| 550/550 [00:47<00:00, 11.53it/s]\n"
     ]
    },
    {
     "name": "stdout",
     "output_type": "stream",
     "text": [
      "R@1 : 86.824\n",
      "R@2 : 90.412\n",
      "R@4 : 93.421\n",
      "R@8 : 95.524\n",
      "R@16 : 97.107\n",
      "R@32 : 98.235\n"
     ]
    },
    {
     "name": "stderr",
     "output_type": "stream",
     "text": [
      "Train Epoch: 202 [549/549 (100%)] Loss: 0.103359: : 549it [02:24,  3.79it/s]\n"
     ]
    },
    {
     "name": "stdout",
     "output_type": "stream",
     "text": [
      "**Evaluating...**\n"
     ]
    },
    {
     "name": "stderr",
     "output_type": "stream",
     "text": [
      "100%|█████████████████████████████████████████| 550/550 [00:47<00:00, 11.52it/s]\n"
     ]
    },
    {
     "name": "stdout",
     "output_type": "stream",
     "text": [
      "R@1 : 87.067\n",
      "R@2 : 90.637\n",
      "R@4 : 93.512\n",
      "R@8 : 95.615\n",
      "R@16 : 97.231\n",
      "R@32 : 98.319\n"
     ]
    },
    {
     "name": "stderr",
     "output_type": "stream",
     "text": [
      "Train Epoch: 203 [549/549 (100%)] Loss: 0.146592: : 549it [02:24,  3.79it/s]\n"
     ]
    },
    {
     "name": "stdout",
     "output_type": "stream",
     "text": [
      "**Evaluating...**\n"
     ]
    },
    {
     "name": "stderr",
     "output_type": "stream",
     "text": [
      "100%|█████████████████████████████████████████| 550/550 [00:47<00:00, 11.52it/s]\n"
     ]
    },
    {
     "name": "stdout",
     "output_type": "stream",
     "text": [
      "R@1 : 87.315\n",
      "R@2 : 90.856\n",
      "R@4 : 93.450\n",
      "R@8 : 95.662\n",
      "R@16 : 97.114\n",
      "R@32 : 98.253\n"
     ]
    },
    {
     "name": "stderr",
     "output_type": "stream",
     "text": [
      "Train Epoch: 204 [549/549 (100%)] Loss: 0.108480: : 549it [02:24,  3.79it/s]\n"
     ]
    },
    {
     "name": "stdout",
     "output_type": "stream",
     "text": [
      "**Evaluating...**\n"
     ]
    },
    {
     "name": "stderr",
     "output_type": "stream",
     "text": [
      "100%|█████████████████████████████████████████| 550/550 [00:47<00:00, 11.53it/s]\n"
     ]
    },
    {
     "name": "stdout",
     "output_type": "stream",
     "text": [
      "R@1 : 87.129\n",
      "R@2 : 90.532\n",
      "R@4 : 93.268\n",
      "R@8 : 95.350\n",
      "R@16 : 97.023\n",
      "R@32 : 98.122\n"
     ]
    },
    {
     "name": "stderr",
     "output_type": "stream",
     "text": [
      "Train Epoch: 205 [549/549 (100%)] Loss: 0.192291: : 549it [02:24,  3.79it/s]\n"
     ]
    },
    {
     "name": "stdout",
     "output_type": "stream",
     "text": [
      "**Evaluating...**\n"
     ]
    },
    {
     "name": "stderr",
     "output_type": "stream",
     "text": [
      "100%|█████████████████████████████████████████| 550/550 [00:47<00:00, 11.52it/s]\n"
     ]
    },
    {
     "name": "stdout",
     "output_type": "stream",
     "text": [
      "R@1 : 87.195\n",
      "R@2 : 90.954\n",
      "R@4 : 93.650\n",
      "R@8 : 95.721\n",
      "R@16 : 97.234\n",
      "R@32 : 98.410\n"
     ]
    },
    {
     "name": "stderr",
     "output_type": "stream",
     "text": [
      "Train Epoch: 206 [549/549 (100%)] Loss: 0.118984: : 549it [02:24,  3.79it/s]\n"
     ]
    },
    {
     "name": "stdout",
     "output_type": "stream",
     "text": [
      "**Evaluating...**\n"
     ]
    },
    {
     "name": "stderr",
     "output_type": "stream",
     "text": [
      "100%|█████████████████████████████████████████| 550/550 [00:47<00:00, 11.53it/s]\n"
     ]
    },
    {
     "name": "stdout",
     "output_type": "stream",
     "text": [
      "R@1 : 87.337\n",
      "R@2 : 90.914\n",
      "R@4 : 93.621\n",
      "R@8 : 95.670\n",
      "R@16 : 97.224\n",
      "R@32 : 98.337\n"
     ]
    },
    {
     "name": "stderr",
     "output_type": "stream",
     "text": [
      "Train Epoch: 207 [549/549 (100%)] Loss: 0.123861: : 549it [02:24,  3.79it/s]\n"
     ]
    },
    {
     "name": "stdout",
     "output_type": "stream",
     "text": [
      "**Evaluating...**\n"
     ]
    },
    {
     "name": "stderr",
     "output_type": "stream",
     "text": [
      "100%|█████████████████████████████████████████| 550/550 [00:47<00:00, 11.52it/s]\n"
     ]
    },
    {
     "name": "stdout",
     "output_type": "stream",
     "text": [
      "R@1 : 87.180\n",
      "R@2 : 90.801\n",
      "R@4 : 93.545\n",
      "R@8 : 95.724\n",
      "R@16 : 97.122\n",
      "R@32 : 98.257\n"
     ]
    },
    {
     "name": "stderr",
     "output_type": "stream",
     "text": [
      "Train Epoch: 208 [549/549 (100%)] Loss: 0.143025: : 549it [02:24,  3.79it/s]\n"
     ]
    },
    {
     "name": "stdout",
     "output_type": "stream",
     "text": [
      "**Evaluating...**\n"
     ]
    },
    {
     "name": "stderr",
     "output_type": "stream",
     "text": [
      "100%|█████████████████████████████████████████| 550/550 [00:47<00:00, 11.52it/s]\n"
     ]
    },
    {
     "name": "stdout",
     "output_type": "stream",
     "text": [
      "R@1 : 86.744\n",
      "R@2 : 90.572\n",
      "R@4 : 93.330\n",
      "R@8 : 95.531\n",
      "R@16 : 97.085\n",
      "R@32 : 98.272\n"
     ]
    },
    {
     "name": "stderr",
     "output_type": "stream",
     "text": [
      "Train Epoch: 209 [549/549 (100%)] Loss: 0.075947: : 549it [02:24,  3.79it/s]\n"
     ]
    },
    {
     "name": "stdout",
     "output_type": "stream",
     "text": [
      "**Evaluating...**\n"
     ]
    },
    {
     "name": "stderr",
     "output_type": "stream",
     "text": [
      "100%|█████████████████████████████████████████| 550/550 [00:47<00:00, 11.50it/s]\n"
     ]
    },
    {
     "name": "stdout",
     "output_type": "stream",
     "text": [
      "R@1 : 87.406\n",
      "R@2 : 91.165\n",
      "R@4 : 93.727\n",
      "R@8 : 95.666\n",
      "R@16 : 97.194\n",
      "R@32 : 98.330\n"
     ]
    },
    {
     "name": "stderr",
     "output_type": "stream",
     "text": [
      "Train Epoch: 210 [549/549 (100%)] Loss: 0.122193: : 549it [02:25,  3.78it/s]\n"
     ]
    },
    {
     "name": "stdout",
     "output_type": "stream",
     "text": [
      "**Evaluating...**\n"
     ]
    },
    {
     "name": "stderr",
     "output_type": "stream",
     "text": [
      "100%|█████████████████████████████████████████| 550/550 [00:47<00:00, 11.46it/s]\n"
     ]
    },
    {
     "name": "stdout",
     "output_type": "stream",
     "text": [
      "R@1 : 87.155\n",
      "R@2 : 90.739\n",
      "R@4 : 93.395\n",
      "R@8 : 95.571\n",
      "R@16 : 97.074\n",
      "R@32 : 98.235\n"
     ]
    },
    {
     "name": "stderr",
     "output_type": "stream",
     "text": [
      "Train Epoch: 211 [549/549 (100%)] Loss: 0.138621: : 549it [02:26,  3.76it/s]\n"
     ]
    },
    {
     "name": "stdout",
     "output_type": "stream",
     "text": [
      "**Evaluating...**\n"
     ]
    },
    {
     "name": "stderr",
     "output_type": "stream",
     "text": [
      "100%|█████████████████████████████████████████| 550/550 [00:48<00:00, 11.45it/s]\n"
     ]
    },
    {
     "name": "stdout",
     "output_type": "stream",
     "text": [
      "R@1 : 87.202\n",
      "R@2 : 90.761\n",
      "R@4 : 93.486\n",
      "R@8 : 95.612\n",
      "R@16 : 97.118\n",
      "R@32 : 98.217\n"
     ]
    },
    {
     "name": "stderr",
     "output_type": "stream",
     "text": [
      "Train Epoch: 212 [549/549 (100%)] Loss: 0.079406: : 549it [02:24,  3.80it/s]\n"
     ]
    },
    {
     "name": "stdout",
     "output_type": "stream",
     "text": [
      "**Evaluating...**\n"
     ]
    },
    {
     "name": "stderr",
     "output_type": "stream",
     "text": [
      "100%|█████████████████████████████████████████| 550/550 [00:48<00:00, 11.25it/s]\n"
     ]
    },
    {
     "name": "stdout",
     "output_type": "stream",
     "text": [
      "R@1 : 86.867\n",
      "R@2 : 90.422\n",
      "R@4 : 93.272\n",
      "R@8 : 95.386\n",
      "R@16 : 97.009\n",
      "R@32 : 98.177\n"
     ]
    },
    {
     "name": "stderr",
     "output_type": "stream",
     "text": [
      "Train Epoch: 213 [549/549 (100%)] Loss: 0.115156: : 549it [02:26,  3.74it/s]\n"
     ]
    },
    {
     "name": "stdout",
     "output_type": "stream",
     "text": [
      "**Evaluating...**\n"
     ]
    },
    {
     "name": "stderr",
     "output_type": "stream",
     "text": [
      "100%|█████████████████████████████████████████| 550/550 [00:47<00:00, 11.54it/s]\n"
     ]
    },
    {
     "name": "stdout",
     "output_type": "stream",
     "text": [
      "R@1 : 87.129\n",
      "R@2 : 90.757\n",
      "R@4 : 93.534\n",
      "R@8 : 95.673\n",
      "R@16 : 97.224\n",
      "R@32 : 98.282\n"
     ]
    },
    {
     "name": "stderr",
     "output_type": "stream",
     "text": [
      "Train Epoch: 214 [346/549 (63%)] Loss: 0.093499: : 346it [01:31,  3.77it/s]\n"
     ]
    },
    {
     "ename": "KeyboardInterrupt",
     "evalue": "",
     "output_type": "error",
     "traceback": [
      "\u001b[0;31m---------------------------------------------------------------------------\u001b[0m",
      "\u001b[0;31mKeyboardInterrupt\u001b[0m                         Traceback (most recent call last)",
      "Cell \u001b[0;32mIn[16], line 37\u001b[0m\n\u001b[1;32m     33\u001b[0m torch\u001b[38;5;241m.\u001b[39mnn\u001b[38;5;241m.\u001b[39mutils\u001b[38;5;241m.\u001b[39mclip_grad_value_(model\u001b[38;5;241m.\u001b[39mparameters(), \u001b[38;5;241m10\u001b[39m)\n\u001b[1;32m     35\u001b[0m torch\u001b[38;5;241m.\u001b[39mnn\u001b[38;5;241m.\u001b[39mutils\u001b[38;5;241m.\u001b[39mclip_grad_value_(criterion\u001b[38;5;241m.\u001b[39mparameters(), \u001b[38;5;241m10\u001b[39m)\n\u001b[0;32m---> 37\u001b[0m losses_per_epoch\u001b[38;5;241m.\u001b[39mappend(\u001b[43mloss\u001b[49m\u001b[38;5;241;43m.\u001b[39;49m\u001b[43mdata\u001b[49m\u001b[38;5;241;43m.\u001b[39;49m\u001b[43mcpu\u001b[49m\u001b[43m(\u001b[49m\u001b[43m)\u001b[49m\u001b[38;5;241m.\u001b[39mnumpy())\n\u001b[1;32m     38\u001b[0m opt\u001b[38;5;241m.\u001b[39mstep()\n\u001b[1;32m     40\u001b[0m pbar\u001b[38;5;241m.\u001b[39mset_description(\n\u001b[1;32m     41\u001b[0m     \u001b[38;5;124m'\u001b[39m\u001b[38;5;124mTrain Epoch: \u001b[39m\u001b[38;5;132;01m{}\u001b[39;00m\u001b[38;5;124m [\u001b[39m\u001b[38;5;132;01m{}\u001b[39;00m\u001b[38;5;124m/\u001b[39m\u001b[38;5;132;01m{}\u001b[39;00m\u001b[38;5;124m (\u001b[39m\u001b[38;5;132;01m{:.0f}\u001b[39;00m\u001b[38;5;124m%\u001b[39m\u001b[38;5;124m)] Loss: \u001b[39m\u001b[38;5;132;01m{:.6f}\u001b[39;00m\u001b[38;5;124m'\u001b[39m\u001b[38;5;241m.\u001b[39mformat(\n\u001b[1;32m     42\u001b[0m         epoch, batch_idx \u001b[38;5;241m+\u001b[39m \u001b[38;5;241m1\u001b[39m, \u001b[38;5;28mlen\u001b[39m(dl_tr),\n\u001b[1;32m     43\u001b[0m         \u001b[38;5;241m100.\u001b[39m \u001b[38;5;241m*\u001b[39m batch_idx \u001b[38;5;241m/\u001b[39m \u001b[38;5;28mlen\u001b[39m(dl_tr),\n\u001b[1;32m     44\u001b[0m         loss\u001b[38;5;241m.\u001b[39mitem()))\n",
      "\u001b[0;31mKeyboardInterrupt\u001b[0m: "
     ]
    }
   ],
   "source": [
    "best_recall=[0]\n",
    "log = {}\n",
    "current_datetime = datetime.datetime.now().strftime(\"%Y_%m_%d_%H_%M_%S\")\n",
    "for epoch in range(0, 500):\n",
    "    model.train()\n",
    "    bn_freeze = True\n",
    "\n",
    "    if bn_freeze:\n",
    "            modules = model.model.modules()\n",
    "            for m in modules: \n",
    "                if isinstance(m, nn.BatchNorm2d):\n",
    "                    m.eval()\n",
    "\n",
    "    losses_per_epoch = []\n",
    "    unfreeze_model_param = list(model.model.embedding.parameters()) + list(criterion.parameters())\n",
    "\n",
    "    if epoch == 0:\n",
    "        for param in list(set(model.parameters()).difference(set(unfreeze_model_param))):\n",
    "            param.requires_grad = False\n",
    "    if epoch == 1:\n",
    "        for param in list(set(model.parameters()).difference(set(unfreeze_model_param))):\n",
    "            param.requires_grad = True\n",
    "\n",
    "    pbar = tqdm(enumerate(dl_tr))\n",
    "\n",
    "    for batch_idx, (x, y) in pbar:                         \n",
    "        m = model(x.squeeze().cuda())\n",
    "        loss = criterion(m, y.squeeze().cuda())\n",
    "        \n",
    "        opt.zero_grad()\n",
    "        loss.backward()\n",
    "        \n",
    "        torch.nn.utils.clip_grad_value_(model.parameters(), 10)\n",
    "        \n",
    "        torch.nn.utils.clip_grad_value_(criterion.parameters(), 10)\n",
    "\n",
    "        losses_per_epoch.append(loss.data.cpu().numpy())\n",
    "        opt.step()\n",
    "\n",
    "        pbar.set_description(\n",
    "            'Train Epoch: {} [{}/{} ({:.0f}%)] Loss: {:.6f}'.format(\n",
    "                epoch, batch_idx + 1, len(dl_tr),\n",
    "                100. * batch_idx / len(dl_tr),\n",
    "                loss.item()))\n",
    "    scheduler.step()\n",
    "    \n",
    "    if(epoch >= 0):\n",
    "        with torch.no_grad():\n",
    "            print(\"**Evaluating...**\")\n",
    "            Recalls = utils.evaluate_cos(model, dl_ev)\n",
    "        if best_recall[0] < Recalls[0]:\n",
    "            best_recall = Recalls\n",
    "            best_epoch = epoch\n",
    "            if not os.path.exists(model_dir):\n",
    "                os.makedirs(model_dir)\n",
    "            torch.save({'model_state_dict':model.state_dict()}, '{}/{}_{}_best.pth'.format(model_dir, model_name, current_datetime))\n",
    "            with open('{}/{}_{}_best_results.txt'.format(model_dir, model_name, current_datetime), 'w') as f:\n",
    "                f.write('Best Epoch: {}\\n'.format(best_epoch))\n",
    "                for i in range(6):\n",
    "                    f.write(\"Best Recall@{}: {:.4f}\\n\".format(2**i, best_recall[i] * 100))"
   ]
  },
  {
   "cell_type": "code",
   "execution_count": null,
   "id": "84668f13-333a-4879-9946-918b166cc699",
   "metadata": {},
   "outputs": [],
   "source": []
  }
 ],
 "metadata": {
  "kernelspec": {
   "display_name": "Python 3 (ipykernel)",
   "language": "python",
   "name": "python3"
  },
  "language_info": {
   "codemirror_mode": {
    "name": "ipython",
    "version": 3
   },
   "file_extension": ".py",
   "mimetype": "text/x-python",
   "name": "python",
   "nbconvert_exporter": "python",
   "pygments_lexer": "ipython3",
   "version": "3.9.18"
  }
 },
 "nbformat": 4,
 "nbformat_minor": 5
}
