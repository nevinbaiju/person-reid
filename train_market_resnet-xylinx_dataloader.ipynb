{
 "cells": [
  {
   "cell_type": "code",
   "execution_count": 16,
   "id": "dd117a25-51f7-4b37-80dd-57601c645fe7",
   "metadata": {},
   "outputs": [],
   "source": [
    "import torch, math, time, argparse, os\n",
    "import random, dataset, utils, losses, net\n",
    "import numpy as np\n",
    "\n",
    "from dataset.market import Market\n",
    "from dataset.build_market import build_market_dataloader\n",
    "from net.os_net import get_embedding_model, osnet_ibn_x1_0, OSNet, OSBlock\n",
    "from net.resnet import *\n",
    "from net.googlenet import *\n",
    "from net.bn_inception import *\n",
    "from dataset import sampler\n",
    "from eval import inference\n",
    "from torch.utils.data.sampler import BatchSampler\n",
    "from torch.utils.data.dataloader import default_collate\n",
    "\n",
    "from tqdm import *\n",
    "import datetime\n",
    "import wandb"
   ]
  },
  {
   "cell_type": "code",
   "execution_count": 17,
   "id": "9b68c83a-1a81-444f-aa00-51349c5ecca5",
   "metadata": {},
   "outputs": [],
   "source": [
    "seed = 1\n",
    "random.seed(seed)\n",
    "np.random.seed(seed)\n",
    "torch.manual_seed(seed)\n",
    "torch.cuda.manual_seed_all(seed)"
   ]
  },
  {
   "cell_type": "code",
   "execution_count": 18,
   "id": "22a24709-0200-480a-b886-4f93794672dc",
   "metadata": {},
   "outputs": [
    {
     "name": "stdout",
     "output_type": "stream",
     "text": [
      "=> Market1501 loaded\n",
      "Dataset statistics:\n",
      "  ----------------------------------------\n",
      "  subset   | # ids | # images | # cameras\n",
      "  ----------------------------------------\n",
      "  train    |   751 |    12936 |         6\n",
      "  query    |   750 |     3368 |         6\n",
      "  gallery  |   751 |    15913 |         6\n",
      "  ----------------------------------------\n"
     ]
    }
   ],
   "source": [
    "train_loader, val_dict, num_classes = build_market_dataloader()"
   ]
  },
  {
   "cell_type": "code",
   "execution_count": 19,
   "id": "61bf8ce8-11a7-4f5c-8f4d-27eae79c40c1",
   "metadata": {},
   "outputs": [],
   "source": [
    "model_name = 'osnet'"
   ]
  },
  {
   "cell_type": "code",
   "execution_count": 28,
   "id": "aa815ea5-c86f-4e64-9dfb-bdd71319837c",
   "metadata": {},
   "outputs": [],
   "source": [
    "sz_embed = 512\n",
    "criterion = losses.Proxy_Anchor(nb_classes = num_classes, sz_embed = sz_embed, mrg = 0.1, alpha = 32).cuda()"
   ]
  },
  {
   "cell_type": "code",
   "execution_count": 29,
   "id": "e09b2d13-d22e-4d91-a519-a8971ba45bad",
   "metadata": {},
   "outputs": [
    {
     "name": "stdout",
     "output_type": "stream",
     "text": [
      "Successfully loaded imagenet pretrained weights from \"/home/nevin/.cache/torch/checkpoints/osnet_ibn_x1_0_imagenet.pth\"\n",
      "** The following layers are discarded due to unmatched keys or layer size: ['classifier.weight', 'classifier.bias']\n"
     ]
    }
   ],
   "source": [
    "if model_name == 'resnet50':\n",
    "    model = Resnet50(embedding_size=sz_embed, pretrained=True, is_norm=1, bn_freeze =1).cuda()\n",
    "\n",
    "    param_groups = [\n",
    "        {'params': list(set(model.parameters()).difference(set(model.model.embedding.parameters())))},\n",
    "        {'params': model.model.embedding.parameters(), 'lr':float(1e-4) * 1},\n",
    "    ]\n",
    "    param_groups.append({'params': criterion.parameters(), 'lr':float(1e-4) * 100})\n",
    "\n",
    "    modules = model.model.modules()\n",
    "    for m in modules: \n",
    "        if isinstance(m, nn.BatchNorm2d):\n",
    "            m.eval()\n",
    "elif model_name == 'osnet':\n",
    "    model = osnet_ibn_x1_0(pretrained=True).cuda()\n",
    "    \n",
    "    param_groups = [\n",
    "        {'params': list(set(model.parameters()).difference(set(model.fc.parameters())))},\n",
    "        {'params': model.fc.parameters(), 'lr':float(1e-4) * 1},\n",
    "    ]\n",
    "    param_groups.append({'params': criterion.parameters(), 'lr':float(1e-4) * 100})\n",
    "\n",
    "    modules = model.modules()\n",
    "    for m in modules: \n",
    "        if isinstance(m, nn.BatchNorm2d):\n",
    "            m.eval()"
   ]
  },
  {
   "cell_type": "code",
   "execution_count": 30,
   "id": "39029af3-6b21-4cd2-8dd0-d3d1db46d109",
   "metadata": {},
   "outputs": [],
   "source": [
    "opt = torch.optim.AdamW(param_groups, lr=float(1e-4), weight_decay = 1e-4)"
   ]
  },
  {
   "cell_type": "code",
   "execution_count": 31,
   "id": "00b75ef9-d5d0-48c1-a6fa-d80b64139414",
   "metadata": {},
   "outputs": [],
   "source": [
    "scheduler = torch.optim.lr_scheduler.StepLR(opt, step_size=10, gamma = 0.5)"
   ]
  },
  {
   "cell_type": "code",
   "execution_count": 32,
   "id": "0b4b8894-c782-41a7-a070-0cd9030ede22",
   "metadata": {},
   "outputs": [],
   "source": [
    "model_dir = 'models'\n",
    "if not os.path.exists(model_dir):\n",
    "    os.mkdir(model_dir)"
   ]
  },
  {
   "cell_type": "code",
   "execution_count": 33,
   "id": "e0c95048-c4c7-4762-a0be-01155d42e93c",
   "metadata": {},
   "outputs": [],
   "source": [
    "def append_result(result, model, epoch):\n",
    "    filename = f\"{model_dir}/results_{current_datetime}.txt\"\n",
    "\n",
    "    # Open the file in append mode and write the result\n",
    "    with open(filename, \"w\") as file:\n",
    "        file.write(f'Epoch: {epoch}\\n')\n",
    "        file.write(str(result[0]) + \"\\n\")\n",
    "        file.write('CMC\\n')\n",
    "        file.write(str(result[0]) + \"\\n\")\n",
    "        file.write('mAP\\n')\n",
    "        file.write(str(result[1]) + \"\\n\\n\")\n",
    "    torch.save({'model_state_dict':model.state_dict()}, '{}/{}_{}_best.pth'.format(model_dir, model_name, current_datetime))"
   ]
  },
  {
   "cell_type": "code",
   "execution_count": null,
   "id": "7d9047ce-c008-4224-ba46-5f45f280e6d5",
   "metadata": {},
   "outputs": [
    {
     "name": "stderr",
     "output_type": "stream",
     "text": [
      "Train Epoch: 0 [259/259 (100%)] Loss: 3.273218: : 259it [00:30,  8.53it/s]"
     ]
    },
    {
     "name": "stdout",
     "output_type": "stream",
     "text": [
      "Enter inferencing\n",
      "Create evaluator\n"
     ]
    },
    {
     "name": "stderr",
     "output_type": "stream",
     "text": [
      "\n"
     ]
    },
    {
     "name": "stdout",
     "output_type": "stream",
     "text": [
      "The test feature is normalized\n",
      "Validation Results\n",
      "mAP: 1.9%\n",
      "CMC curve, Rank-1  :6.3%\n",
      "CMC curve, Rank-2  :9.2%\n",
      "CMC curve, Rank-4  :13.1%\n",
      "CMC curve, Rank-6  :15.8%\n",
      "CMC curve, Rank-8  :18.2%\n",
      "CMC curve, Rank-10 :20.0%\n",
      "CMC curve, Rank-12 :21.9%\n",
      "CMC curve, Rank-14 :23.5%\n",
      "CMC curve, Rank-16 :25.1%\n",
      "CMC curve, Rank-18 :26.6%\n",
      "CMC curve, Rank-20 :28.1%\n",
      "CMC curve, Rank-22 :29.3%\n",
      "CMC curve, Rank-24 :30.3%\n",
      "CMC curve, Rank-26 :31.3%\n",
      "CMC curve, Rank-28 :32.3%\n",
      "CMC curve, Rank-30 :33.2%\n",
      "CMC curve, Rank-32 :34.2%\n"
     ]
    },
    {
     "name": "stderr",
     "output_type": "stream",
     "text": [
      "Train Epoch: 1 [259/259 (100%)] Loss: 0.933172: : 259it [01:24,  3.07it/s]"
     ]
    },
    {
     "name": "stdout",
     "output_type": "stream",
     "text": [
      "Enter inferencing\n",
      "Create evaluator\n"
     ]
    },
    {
     "name": "stderr",
     "output_type": "stream",
     "text": [
      "\n"
     ]
    },
    {
     "name": "stdout",
     "output_type": "stream",
     "text": [
      "The test feature is normalized\n",
      "Validation Results\n",
      "mAP: 15.1%\n",
      "CMC curve, Rank-1  :34.3%\n",
      "CMC curve, Rank-2  :42.4%\n",
      "CMC curve, Rank-4  :52.3%\n",
      "CMC curve, Rank-6  :56.9%\n",
      "CMC curve, Rank-8  :60.7%\n",
      "CMC curve, Rank-10 :64.0%\n",
      "CMC curve, Rank-12 :66.8%\n",
      "CMC curve, Rank-14 :68.7%\n",
      "CMC curve, Rank-16 :70.6%\n",
      "CMC curve, Rank-18 :72.0%\n",
      "CMC curve, Rank-20 :73.1%\n",
      "CMC curve, Rank-22 :74.0%\n",
      "CMC curve, Rank-24 :75.1%\n",
      "CMC curve, Rank-26 :76.0%\n",
      "CMC curve, Rank-28 :76.8%\n",
      "CMC curve, Rank-30 :77.7%\n",
      "CMC curve, Rank-32 :78.4%\n"
     ]
    },
    {
     "name": "stderr",
     "output_type": "stream",
     "text": [
      "Train Epoch: 2 [259/259 (100%)] Loss: 0.714117: : 259it [01:23,  3.10it/s]"
     ]
    },
    {
     "name": "stdout",
     "output_type": "stream",
     "text": [
      "Enter inferencing\n",
      "Create evaluator\n"
     ]
    },
    {
     "name": "stderr",
     "output_type": "stream",
     "text": [
      "\n"
     ]
    },
    {
     "name": "stdout",
     "output_type": "stream",
     "text": [
      "The test feature is normalized\n",
      "Validation Results\n",
      "mAP: 23.6%\n",
      "CMC curve, Rank-1  :46.8%\n",
      "CMC curve, Rank-2  :55.8%\n",
      "CMC curve, Rank-4  :65.0%\n",
      "CMC curve, Rank-6  :69.5%\n",
      "CMC curve, Rank-8  :72.9%\n",
      "CMC curve, Rank-10 :75.6%\n",
      "CMC curve, Rank-12 :77.7%\n",
      "CMC curve, Rank-14 :79.4%\n",
      "CMC curve, Rank-16 :80.6%\n",
      "CMC curve, Rank-18 :81.7%\n",
      "CMC curve, Rank-20 :82.6%\n",
      "CMC curve, Rank-22 :83.5%\n",
      "CMC curve, Rank-24 :84.4%\n",
      "CMC curve, Rank-26 :85.1%\n",
      "CMC curve, Rank-28 :85.7%\n",
      "CMC curve, Rank-30 :86.3%\n",
      "CMC curve, Rank-32 :86.8%\n"
     ]
    },
    {
     "name": "stderr",
     "output_type": "stream",
     "text": [
      "Train Epoch: 3 [259/259 (100%)] Loss: 0.334975: : 259it [01:24,  3.06it/s]"
     ]
    },
    {
     "name": "stdout",
     "output_type": "stream",
     "text": [
      "Enter inferencing\n",
      "Create evaluator\n"
     ]
    },
    {
     "name": "stderr",
     "output_type": "stream",
     "text": [
      "\n"
     ]
    },
    {
     "name": "stdout",
     "output_type": "stream",
     "text": [
      "The test feature is normalized\n",
      "Validation Results\n",
      "mAP: 29.8%\n",
      "CMC curve, Rank-1  :55.9%\n",
      "CMC curve, Rank-2  :64.6%\n",
      "CMC curve, Rank-4  :72.3%\n",
      "CMC curve, Rank-6  :76.7%\n",
      "CMC curve, Rank-8  :79.4%\n",
      "CMC curve, Rank-10 :81.8%\n",
      "CMC curve, Rank-12 :83.3%\n",
      "CMC curve, Rank-14 :84.8%\n",
      "CMC curve, Rank-16 :86.0%\n",
      "CMC curve, Rank-18 :86.9%\n",
      "CMC curve, Rank-20 :87.9%\n",
      "CMC curve, Rank-22 :88.8%\n",
      "CMC curve, Rank-24 :89.5%\n",
      "CMC curve, Rank-26 :89.9%\n",
      "CMC curve, Rank-28 :90.6%\n",
      "CMC curve, Rank-30 :91.0%\n",
      "CMC curve, Rank-32 :91.7%\n"
     ]
    },
    {
     "name": "stderr",
     "output_type": "stream",
     "text": [
      "Train Epoch: 4 [259/259 (100%)] Loss: 0.473953: : 259it [01:23,  3.09it/s]"
     ]
    },
    {
     "name": "stdout",
     "output_type": "stream",
     "text": [
      "Enter inferencing\n",
      "Create evaluator\n"
     ]
    },
    {
     "name": "stderr",
     "output_type": "stream",
     "text": [
      "\n"
     ]
    },
    {
     "name": "stdout",
     "output_type": "stream",
     "text": [
      "The test feature is normalized\n",
      "Validation Results\n",
      "mAP: 34.0%\n",
      "CMC curve, Rank-1  :60.9%\n",
      "CMC curve, Rank-2  :68.7%\n",
      "CMC curve, Rank-4  :75.8%\n",
      "CMC curve, Rank-6  :79.8%\n",
      "CMC curve, Rank-8  :82.4%\n",
      "CMC curve, Rank-10 :84.7%\n",
      "CMC curve, Rank-12 :86.2%\n",
      "CMC curve, Rank-14 :87.6%\n",
      "CMC curve, Rank-16 :88.8%\n",
      "CMC curve, Rank-18 :89.7%\n",
      "CMC curve, Rank-20 :90.4%\n",
      "CMC curve, Rank-22 :91.2%\n",
      "CMC curve, Rank-24 :91.9%\n",
      "CMC curve, Rank-26 :92.3%\n",
      "CMC curve, Rank-28 :92.5%\n",
      "CMC curve, Rank-30 :92.7%\n",
      "CMC curve, Rank-32 :93.1%\n"
     ]
    },
    {
     "name": "stderr",
     "output_type": "stream",
     "text": [
      "Train Epoch: 5 [259/259 (100%)] Loss: 0.369214: : 259it [01:24,  3.06it/s]"
     ]
    },
    {
     "name": "stdout",
     "output_type": "stream",
     "text": [
      "Enter inferencing\n",
      "Create evaluator\n"
     ]
    },
    {
     "name": "stderr",
     "output_type": "stream",
     "text": [
      "\n"
     ]
    },
    {
     "name": "stdout",
     "output_type": "stream",
     "text": [
      "The test feature is normalized\n",
      "Validation Results\n",
      "mAP: 38.3%\n",
      "CMC curve, Rank-1  :64.2%\n",
      "CMC curve, Rank-2  :72.7%\n",
      "CMC curve, Rank-4  :79.5%\n",
      "CMC curve, Rank-6  :83.0%\n",
      "CMC curve, Rank-8  :85.6%\n",
      "CMC curve, Rank-10 :87.5%\n",
      "CMC curve, Rank-12 :89.1%\n",
      "CMC curve, Rank-14 :89.8%\n",
      "CMC curve, Rank-16 :90.5%\n",
      "CMC curve, Rank-18 :91.3%\n",
      "CMC curve, Rank-20 :91.8%\n",
      "CMC curve, Rank-22 :92.3%\n",
      "CMC curve, Rank-24 :92.7%\n",
      "CMC curve, Rank-26 :93.1%\n",
      "CMC curve, Rank-28 :93.5%\n",
      "CMC curve, Rank-30 :93.8%\n",
      "CMC curve, Rank-32 :94.1%\n"
     ]
    },
    {
     "name": "stderr",
     "output_type": "stream",
     "text": [
      "Train Epoch: 6 [259/259 (100%)] Loss: 0.423481: : 259it [01:24,  3.06it/s]"
     ]
    },
    {
     "name": "stdout",
     "output_type": "stream",
     "text": [
      "Enter inferencing\n",
      "Create evaluator\n"
     ]
    },
    {
     "name": "stderr",
     "output_type": "stream",
     "text": [
      "\n"
     ]
    },
    {
     "name": "stdout",
     "output_type": "stream",
     "text": [
      "The test feature is normalized\n",
      "Validation Results\n",
      "mAP: 41.0%\n",
      "CMC curve, Rank-1  :66.5%\n",
      "CMC curve, Rank-2  :74.5%\n",
      "CMC curve, Rank-4  :81.6%\n",
      "CMC curve, Rank-6  :85.2%\n",
      "CMC curve, Rank-8  :87.4%\n",
      "CMC curve, Rank-10 :89.2%\n",
      "CMC curve, Rank-12 :90.4%\n",
      "CMC curve, Rank-14 :91.5%\n",
      "CMC curve, Rank-16 :92.2%\n",
      "CMC curve, Rank-18 :92.8%\n",
      "CMC curve, Rank-20 :93.2%\n",
      "CMC curve, Rank-22 :93.4%\n",
      "CMC curve, Rank-24 :93.8%\n",
      "CMC curve, Rank-26 :94.1%\n",
      "CMC curve, Rank-28 :94.4%\n",
      "CMC curve, Rank-30 :94.7%\n",
      "CMC curve, Rank-32 :95.0%\n"
     ]
    },
    {
     "name": "stderr",
     "output_type": "stream",
     "text": [
      "Train Epoch: 7 [259/259 (100%)] Loss: 0.187674: : 259it [01:26,  3.00it/s]"
     ]
    },
    {
     "name": "stdout",
     "output_type": "stream",
     "text": [
      "Enter inferencing\n",
      "Create evaluator\n"
     ]
    },
    {
     "name": "stderr",
     "output_type": "stream",
     "text": [
      "\n"
     ]
    },
    {
     "name": "stdout",
     "output_type": "stream",
     "text": [
      "The test feature is normalized\n",
      "Validation Results\n",
      "mAP: 44.3%\n",
      "CMC curve, Rank-1  :69.7%\n",
      "CMC curve, Rank-2  :77.5%\n",
      "CMC curve, Rank-4  :83.3%\n",
      "CMC curve, Rank-6  :86.8%\n",
      "CMC curve, Rank-8  :88.9%\n",
      "CMC curve, Rank-10 :90.4%\n",
      "CMC curve, Rank-12 :91.7%\n",
      "CMC curve, Rank-14 :92.6%\n",
      "CMC curve, Rank-16 :93.5%\n",
      "CMC curve, Rank-18 :94.0%\n",
      "CMC curve, Rank-20 :94.4%\n",
      "CMC curve, Rank-22 :94.8%\n",
      "CMC curve, Rank-24 :95.0%\n",
      "CMC curve, Rank-26 :95.4%\n",
      "CMC curve, Rank-28 :95.6%\n",
      "CMC curve, Rank-30 :95.8%\n",
      "CMC curve, Rank-32 :95.9%\n"
     ]
    },
    {
     "name": "stderr",
     "output_type": "stream",
     "text": [
      "Train Epoch: 8 [259/259 (100%)] Loss: 0.220142: : 259it [01:24,  3.08it/s]"
     ]
    },
    {
     "name": "stdout",
     "output_type": "stream",
     "text": [
      "Enter inferencing\n",
      "Create evaluator\n"
     ]
    },
    {
     "name": "stderr",
     "output_type": "stream",
     "text": [
      "\n"
     ]
    },
    {
     "name": "stdout",
     "output_type": "stream",
     "text": [
      "The test feature is normalized\n",
      "Validation Results\n",
      "mAP: 46.1%\n",
      "CMC curve, Rank-1  :72.1%\n",
      "CMC curve, Rank-2  :79.2%\n",
      "CMC curve, Rank-4  :85.4%\n",
      "CMC curve, Rank-6  :88.2%\n",
      "CMC curve, Rank-8  :90.6%\n",
      "CMC curve, Rank-10 :91.9%\n",
      "CMC curve, Rank-12 :93.1%\n",
      "CMC curve, Rank-14 :93.8%\n",
      "CMC curve, Rank-16 :94.4%\n",
      "CMC curve, Rank-18 :95.0%\n",
      "CMC curve, Rank-20 :95.2%\n",
      "CMC curve, Rank-22 :95.6%\n",
      "CMC curve, Rank-24 :95.9%\n",
      "CMC curve, Rank-26 :96.0%\n",
      "CMC curve, Rank-28 :96.2%\n",
      "CMC curve, Rank-30 :96.3%\n",
      "CMC curve, Rank-32 :96.4%\n"
     ]
    },
    {
     "name": "stderr",
     "output_type": "stream",
     "text": [
      "Train Epoch: 9 [259/259 (100%)] Loss: 0.340741: : 259it [01:25,  3.05it/s]"
     ]
    },
    {
     "name": "stdout",
     "output_type": "stream",
     "text": [
      "Enter inferencing\n",
      "Create evaluator\n"
     ]
    },
    {
     "name": "stderr",
     "output_type": "stream",
     "text": [
      "\n"
     ]
    },
    {
     "name": "stdout",
     "output_type": "stream",
     "text": [
      "The test feature is normalized\n",
      "Validation Results\n",
      "mAP: 47.8%\n",
      "CMC curve, Rank-1  :72.9%\n",
      "CMC curve, Rank-2  :80.1%\n",
      "CMC curve, Rank-4  :85.7%\n",
      "CMC curve, Rank-6  :88.9%\n",
      "CMC curve, Rank-8  :90.9%\n",
      "CMC curve, Rank-10 :92.2%\n",
      "CMC curve, Rank-12 :93.3%\n",
      "CMC curve, Rank-14 :93.9%\n",
      "CMC curve, Rank-16 :94.5%\n",
      "CMC curve, Rank-18 :95.0%\n",
      "CMC curve, Rank-20 :95.4%\n",
      "CMC curve, Rank-22 :95.8%\n",
      "CMC curve, Rank-24 :96.0%\n",
      "CMC curve, Rank-26 :96.3%\n",
      "CMC curve, Rank-28 :96.6%\n",
      "CMC curve, Rank-30 :96.8%\n",
      "CMC curve, Rank-32 :96.9%\n"
     ]
    },
    {
     "name": "stderr",
     "output_type": "stream",
     "text": [
      "Train Epoch: 10 [259/259 (100%)] Loss: 0.145287: : 259it [01:25,  3.03it/s]"
     ]
    },
    {
     "name": "stdout",
     "output_type": "stream",
     "text": [
      "Enter inferencing\n",
      "Create evaluator\n"
     ]
    },
    {
     "name": "stderr",
     "output_type": "stream",
     "text": [
      "\n"
     ]
    },
    {
     "name": "stdout",
     "output_type": "stream",
     "text": [
      "The test feature is normalized\n",
      "Validation Results\n",
      "mAP: 49.0%\n",
      "CMC curve, Rank-1  :73.7%\n",
      "CMC curve, Rank-2  :81.1%\n",
      "CMC curve, Rank-4  :86.7%\n",
      "CMC curve, Rank-6  :89.4%\n",
      "CMC curve, Rank-8  :91.5%\n",
      "CMC curve, Rank-10 :92.8%\n",
      "CMC curve, Rank-12 :93.7%\n",
      "CMC curve, Rank-14 :94.6%\n",
      "CMC curve, Rank-16 :95.0%\n",
      "CMC curve, Rank-18 :95.5%\n",
      "CMC curve, Rank-20 :95.8%\n",
      "CMC curve, Rank-22 :96.0%\n",
      "CMC curve, Rank-24 :96.3%\n",
      "CMC curve, Rank-26 :96.5%\n",
      "CMC curve, Rank-28 :96.6%\n",
      "CMC curve, Rank-30 :96.8%\n",
      "CMC curve, Rank-32 :97.0%\n"
     ]
    },
    {
     "name": "stderr",
     "output_type": "stream",
     "text": [
      "Train Epoch: 11 [259/259 (100%)] Loss: 0.111648: : 259it [01:24,  3.05it/s]"
     ]
    },
    {
     "name": "stdout",
     "output_type": "stream",
     "text": [
      "Enter inferencing\n",
      "Create evaluator\n"
     ]
    },
    {
     "name": "stderr",
     "output_type": "stream",
     "text": [
      "\n"
     ]
    },
    {
     "name": "stdout",
     "output_type": "stream",
     "text": [
      "The test feature is normalized\n",
      "Validation Results\n",
      "mAP: 49.9%\n",
      "CMC curve, Rank-1  :74.2%\n",
      "CMC curve, Rank-2  :81.5%\n",
      "CMC curve, Rank-4  :86.8%\n",
      "CMC curve, Rank-6  :90.1%\n",
      "CMC curve, Rank-8  :91.9%\n",
      "CMC curve, Rank-10 :93.1%\n",
      "CMC curve, Rank-12 :93.8%\n",
      "CMC curve, Rank-14 :94.7%\n",
      "CMC curve, Rank-16 :95.1%\n",
      "CMC curve, Rank-18 :95.5%\n",
      "CMC curve, Rank-20 :96.1%\n",
      "CMC curve, Rank-22 :96.3%\n",
      "CMC curve, Rank-24 :96.7%\n",
      "CMC curve, Rank-26 :96.8%\n",
      "CMC curve, Rank-28 :96.9%\n",
      "CMC curve, Rank-30 :97.0%\n",
      "CMC curve, Rank-32 :97.1%\n"
     ]
    },
    {
     "name": "stderr",
     "output_type": "stream",
     "text": [
      "Train Epoch: 12 [259/259 (100%)] Loss: 0.086801: : 259it [01:24,  3.08it/s]"
     ]
    },
    {
     "name": "stdout",
     "output_type": "stream",
     "text": [
      "Enter inferencing\n",
      "Create evaluator\n"
     ]
    },
    {
     "name": "stderr",
     "output_type": "stream",
     "text": [
      "\n"
     ]
    },
    {
     "name": "stdout",
     "output_type": "stream",
     "text": [
      "The test feature is normalized\n",
      "Validation Results\n",
      "mAP: 51.0%\n",
      "CMC curve, Rank-1  :75.2%\n",
      "CMC curve, Rank-2  :81.9%\n",
      "CMC curve, Rank-4  :87.5%\n",
      "CMC curve, Rank-6  :90.5%\n",
      "CMC curve, Rank-8  :92.2%\n",
      "CMC curve, Rank-10 :93.4%\n",
      "CMC curve, Rank-12 :94.1%\n",
      "CMC curve, Rank-14 :94.7%\n",
      "CMC curve, Rank-16 :95.2%\n",
      "CMC curve, Rank-18 :95.5%\n",
      "CMC curve, Rank-20 :96.0%\n",
      "CMC curve, Rank-22 :96.3%\n",
      "CMC curve, Rank-24 :96.6%\n",
      "CMC curve, Rank-26 :96.7%\n",
      "CMC curve, Rank-28 :96.9%\n",
      "CMC curve, Rank-30 :97.1%\n",
      "CMC curve, Rank-32 :97.2%\n"
     ]
    },
    {
     "name": "stderr",
     "output_type": "stream",
     "text": [
      "Train Epoch: 13 [259/259 (100%)] Loss: 0.110548: : 259it [01:23,  3.12it/s]"
     ]
    },
    {
     "name": "stdout",
     "output_type": "stream",
     "text": [
      "Enter inferencing\n",
      "Create evaluator\n"
     ]
    },
    {
     "name": "stderr",
     "output_type": "stream",
     "text": [
      "\n"
     ]
    },
    {
     "name": "stdout",
     "output_type": "stream",
     "text": [
      "The test feature is normalized\n",
      "Validation Results\n",
      "mAP: 51.7%\n",
      "CMC curve, Rank-1  :75.9%\n",
      "CMC curve, Rank-2  :82.4%\n",
      "CMC curve, Rank-4  :87.5%\n",
      "CMC curve, Rank-6  :91.0%\n",
      "CMC curve, Rank-8  :92.8%\n",
      "CMC curve, Rank-10 :94.1%\n",
      "CMC curve, Rank-12 :94.8%\n",
      "CMC curve, Rank-14 :95.1%\n",
      "CMC curve, Rank-16 :95.7%\n",
      "CMC curve, Rank-18 :95.9%\n",
      "CMC curve, Rank-20 :96.1%\n",
      "CMC curve, Rank-22 :96.4%\n",
      "CMC curve, Rank-24 :96.8%\n",
      "CMC curve, Rank-26 :97.0%\n",
      "CMC curve, Rank-28 :97.2%\n",
      "CMC curve, Rank-30 :97.3%\n",
      "CMC curve, Rank-32 :97.3%\n"
     ]
    },
    {
     "name": "stderr",
     "output_type": "stream",
     "text": [
      "Train Epoch: 14 [259/259 (100%)] Loss: 0.121604: : 259it [01:24,  3.05it/s]"
     ]
    },
    {
     "name": "stdout",
     "output_type": "stream",
     "text": [
      "Enter inferencing\n",
      "Create evaluator\n"
     ]
    },
    {
     "name": "stderr",
     "output_type": "stream",
     "text": [
      "\n"
     ]
    },
    {
     "name": "stdout",
     "output_type": "stream",
     "text": [
      "The test feature is normalized\n",
      "Validation Results\n",
      "mAP: 52.6%\n",
      "CMC curve, Rank-1  :76.3%\n",
      "CMC curve, Rank-2  :83.2%\n",
      "CMC curve, Rank-4  :88.2%\n",
      "CMC curve, Rank-6  :91.3%\n",
      "CMC curve, Rank-8  :93.1%\n",
      "CMC curve, Rank-10 :93.9%\n",
      "CMC curve, Rank-12 :94.8%\n",
      "CMC curve, Rank-14 :95.3%\n",
      "CMC curve, Rank-16 :95.7%\n",
      "CMC curve, Rank-18 :96.0%\n",
      "CMC curve, Rank-20 :96.5%\n",
      "CMC curve, Rank-22 :96.9%\n",
      "CMC curve, Rank-24 :97.1%\n",
      "CMC curve, Rank-26 :97.2%\n",
      "CMC curve, Rank-28 :97.5%\n",
      "CMC curve, Rank-30 :97.6%\n",
      "CMC curve, Rank-32 :97.7%\n"
     ]
    },
    {
     "name": "stderr",
     "output_type": "stream",
     "text": [
      "Train Epoch: 15 [259/259 (100%)] Loss: 0.119908: : 259it [01:23,  3.10it/s]"
     ]
    },
    {
     "name": "stdout",
     "output_type": "stream",
     "text": [
      "Enter inferencing\n",
      "Create evaluator\n"
     ]
    },
    {
     "name": "stderr",
     "output_type": "stream",
     "text": [
      "\n"
     ]
    },
    {
     "name": "stdout",
     "output_type": "stream",
     "text": [
      "The test feature is normalized\n",
      "Validation Results\n",
      "mAP: 53.3%\n",
      "CMC curve, Rank-1  :76.6%\n",
      "CMC curve, Rank-2  :83.2%\n",
      "CMC curve, Rank-4  :88.3%\n",
      "CMC curve, Rank-6  :91.1%\n",
      "CMC curve, Rank-8  :92.8%\n",
      "CMC curve, Rank-10 :94.1%\n",
      "CMC curve, Rank-12 :94.9%\n",
      "CMC curve, Rank-14 :95.5%\n",
      "CMC curve, Rank-16 :95.9%\n",
      "CMC curve, Rank-18 :96.2%\n",
      "CMC curve, Rank-20 :96.5%\n",
      "CMC curve, Rank-22 :96.8%\n",
      "CMC curve, Rank-24 :97.0%\n",
      "CMC curve, Rank-26 :97.3%\n",
      "CMC curve, Rank-28 :97.4%\n",
      "CMC curve, Rank-30 :97.6%\n",
      "CMC curve, Rank-32 :97.7%\n"
     ]
    },
    {
     "name": "stderr",
     "output_type": "stream",
     "text": [
      "Train Epoch: 16 [259/259 (100%)] Loss: 0.126260: : 259it [01:24,  3.07it/s]"
     ]
    },
    {
     "name": "stdout",
     "output_type": "stream",
     "text": [
      "Enter inferencing\n",
      "Create evaluator\n"
     ]
    },
    {
     "name": "stderr",
     "output_type": "stream",
     "text": [
      "\n"
     ]
    },
    {
     "name": "stdout",
     "output_type": "stream",
     "text": [
      "The test feature is normalized\n",
      "Validation Results\n",
      "mAP: 53.9%\n",
      "CMC curve, Rank-1  :77.6%\n",
      "CMC curve, Rank-2  :83.9%\n",
      "CMC curve, Rank-4  :88.9%\n",
      "CMC curve, Rank-6  :91.8%\n",
      "CMC curve, Rank-8  :93.5%\n",
      "CMC curve, Rank-10 :94.3%\n",
      "CMC curve, Rank-12 :95.2%\n",
      "CMC curve, Rank-14 :95.7%\n",
      "CMC curve, Rank-16 :96.0%\n",
      "CMC curve, Rank-18 :96.3%\n",
      "CMC curve, Rank-20 :96.7%\n",
      "CMC curve, Rank-22 :97.0%\n",
      "CMC curve, Rank-24 :97.1%\n",
      "CMC curve, Rank-26 :97.4%\n",
      "CMC curve, Rank-28 :97.5%\n",
      "CMC curve, Rank-30 :97.7%\n",
      "CMC curve, Rank-32 :97.9%\n"
     ]
    },
    {
     "name": "stderr",
     "output_type": "stream",
     "text": [
      "Train Epoch: 17 [259/259 (100%)] Loss: 0.120152: : 259it [01:25,  3.01it/s]"
     ]
    },
    {
     "name": "stdout",
     "output_type": "stream",
     "text": [
      "Enter inferencing\n",
      "Create evaluator\n"
     ]
    },
    {
     "name": "stderr",
     "output_type": "stream",
     "text": [
      "\n"
     ]
    },
    {
     "name": "stdout",
     "output_type": "stream",
     "text": [
      "The test feature is normalized\n",
      "Validation Results\n",
      "mAP: 54.9%\n",
      "CMC curve, Rank-1  :78.2%\n",
      "CMC curve, Rank-2  :84.7%\n",
      "CMC curve, Rank-4  :89.7%\n",
      "CMC curve, Rank-6  :92.2%\n",
      "CMC curve, Rank-8  :93.9%\n",
      "CMC curve, Rank-10 :94.8%\n",
      "CMC curve, Rank-12 :95.5%\n",
      "CMC curve, Rank-14 :95.9%\n",
      "CMC curve, Rank-16 :96.4%\n",
      "CMC curve, Rank-18 :96.7%\n",
      "CMC curve, Rank-20 :97.0%\n",
      "CMC curve, Rank-22 :97.3%\n",
      "CMC curve, Rank-24 :97.4%\n",
      "CMC curve, Rank-26 :97.6%\n",
      "CMC curve, Rank-28 :97.6%\n",
      "CMC curve, Rank-30 :97.7%\n",
      "CMC curve, Rank-32 :97.8%\n"
     ]
    },
    {
     "name": "stderr",
     "output_type": "stream",
     "text": [
      "Train Epoch: 18 [259/259 (100%)] Loss: 0.128959: : 259it [01:24,  3.07it/s]"
     ]
    },
    {
     "name": "stdout",
     "output_type": "stream",
     "text": [
      "Enter inferencing\n",
      "Create evaluator\n"
     ]
    },
    {
     "name": "stderr",
     "output_type": "stream",
     "text": [
      "\n"
     ]
    },
    {
     "name": "stdout",
     "output_type": "stream",
     "text": [
      "The test feature is normalized\n",
      "Validation Results\n",
      "mAP: 55.4%\n",
      "CMC curve, Rank-1  :78.9%\n",
      "CMC curve, Rank-2  :85.1%\n",
      "CMC curve, Rank-4  :90.0%\n",
      "CMC curve, Rank-6  :92.8%\n",
      "CMC curve, Rank-8  :93.9%\n",
      "CMC curve, Rank-10 :94.8%\n",
      "CMC curve, Rank-12 :95.5%\n",
      "CMC curve, Rank-14 :96.1%\n",
      "CMC curve, Rank-16 :96.3%\n",
      "CMC curve, Rank-18 :96.6%\n",
      "CMC curve, Rank-20 :96.9%\n",
      "CMC curve, Rank-22 :97.2%\n",
      "CMC curve, Rank-24 :97.4%\n",
      "CMC curve, Rank-26 :97.6%\n",
      "CMC curve, Rank-28 :97.9%\n",
      "CMC curve, Rank-30 :98.0%\n",
      "CMC curve, Rank-32 :98.1%\n"
     ]
    },
    {
     "name": "stderr",
     "output_type": "stream",
     "text": [
      "Train Epoch: 19 [259/259 (100%)] Loss: 0.100896: : 259it [01:25,  3.04it/s]"
     ]
    },
    {
     "name": "stdout",
     "output_type": "stream",
     "text": [
      "Enter inferencing\n",
      "Create evaluator\n"
     ]
    },
    {
     "name": "stderr",
     "output_type": "stream",
     "text": [
      "\n"
     ]
    },
    {
     "name": "stdout",
     "output_type": "stream",
     "text": [
      "The test feature is normalized\n",
      "Validation Results\n",
      "mAP: 56.1%\n",
      "CMC curve, Rank-1  :79.4%\n",
      "CMC curve, Rank-2  :85.5%\n",
      "CMC curve, Rank-4  :90.6%\n",
      "CMC curve, Rank-6  :93.0%\n",
      "CMC curve, Rank-8  :94.2%\n",
      "CMC curve, Rank-10 :95.1%\n",
      "CMC curve, Rank-12 :95.5%\n",
      "CMC curve, Rank-14 :95.9%\n",
      "CMC curve, Rank-16 :96.3%\n",
      "CMC curve, Rank-18 :96.6%\n",
      "CMC curve, Rank-20 :96.8%\n",
      "CMC curve, Rank-22 :97.0%\n",
      "CMC curve, Rank-24 :97.2%\n",
      "CMC curve, Rank-26 :97.4%\n",
      "CMC curve, Rank-28 :97.6%\n",
      "CMC curve, Rank-30 :97.6%\n",
      "CMC curve, Rank-32 :97.7%\n"
     ]
    },
    {
     "name": "stderr",
     "output_type": "stream",
     "text": [
      "Train Epoch: 20 [259/259 (100%)] Loss: 0.107924: : 259it [01:24,  3.08it/s]"
     ]
    },
    {
     "name": "stdout",
     "output_type": "stream",
     "text": [
      "Enter inferencing\n",
      "Create evaluator\n"
     ]
    },
    {
     "name": "stderr",
     "output_type": "stream",
     "text": [
      "\n"
     ]
    },
    {
     "name": "stdout",
     "output_type": "stream",
     "text": [
      "The test feature is normalized\n",
      "Validation Results\n",
      "mAP: 56.7%\n",
      "CMC curve, Rank-1  :79.4%\n",
      "CMC curve, Rank-2  :85.5%\n",
      "CMC curve, Rank-4  :90.9%\n",
      "CMC curve, Rank-6  :93.1%\n",
      "CMC curve, Rank-8  :94.5%\n",
      "CMC curve, Rank-10 :95.2%\n",
      "CMC curve, Rank-12 :95.7%\n",
      "CMC curve, Rank-14 :96.2%\n",
      "CMC curve, Rank-16 :96.5%\n",
      "CMC curve, Rank-18 :96.7%\n",
      "CMC curve, Rank-20 :96.9%\n",
      "CMC curve, Rank-22 :97.2%\n",
      "CMC curve, Rank-24 :97.4%\n",
      "CMC curve, Rank-26 :97.7%\n",
      "CMC curve, Rank-28 :97.8%\n",
      "CMC curve, Rank-30 :97.9%\n",
      "CMC curve, Rank-32 :97.9%\n"
     ]
    },
    {
     "name": "stderr",
     "output_type": "stream",
     "text": [
      "Train Epoch: 21 [259/259 (100%)] Loss: 0.081296: : 259it [01:24,  3.05it/s]"
     ]
    },
    {
     "name": "stdout",
     "output_type": "stream",
     "text": [
      "Enter inferencing\n",
      "Create evaluator\n"
     ]
    },
    {
     "name": "stderr",
     "output_type": "stream",
     "text": [
      "\n"
     ]
    },
    {
     "name": "stdout",
     "output_type": "stream",
     "text": [
      "The test feature is normalized\n",
      "Validation Results\n",
      "mAP: 56.9%\n",
      "CMC curve, Rank-1  :79.5%\n",
      "CMC curve, Rank-2  :85.8%\n",
      "CMC curve, Rank-4  :90.9%\n",
      "CMC curve, Rank-6  :93.0%\n",
      "CMC curve, Rank-8  :94.3%\n",
      "CMC curve, Rank-10 :95.0%\n",
      "CMC curve, Rank-12 :95.5%\n",
      "CMC curve, Rank-14 :95.9%\n",
      "CMC curve, Rank-16 :96.5%\n",
      "CMC curve, Rank-18 :96.9%\n",
      "CMC curve, Rank-20 :97.0%\n",
      "CMC curve, Rank-22 :97.3%\n",
      "CMC curve, Rank-24 :97.6%\n",
      "CMC curve, Rank-26 :97.7%\n",
      "CMC curve, Rank-28 :97.8%\n",
      "CMC curve, Rank-30 :98.0%\n",
      "CMC curve, Rank-32 :98.0%\n"
     ]
    },
    {
     "name": "stderr",
     "output_type": "stream",
     "text": [
      "Train Epoch: 22 [259/259 (100%)] Loss: 0.054475: : 259it [01:25,  3.02it/s]"
     ]
    },
    {
     "name": "stdout",
     "output_type": "stream",
     "text": [
      "Enter inferencing\n",
      "Create evaluator\n"
     ]
    },
    {
     "name": "stderr",
     "output_type": "stream",
     "text": [
      "\n"
     ]
    },
    {
     "name": "stdout",
     "output_type": "stream",
     "text": [
      "The test feature is normalized\n",
      "Validation Results\n",
      "mAP: 57.3%\n",
      "CMC curve, Rank-1  :80.0%\n",
      "CMC curve, Rank-2  :85.6%\n",
      "CMC curve, Rank-4  :90.6%\n",
      "CMC curve, Rank-6  :93.4%\n",
      "CMC curve, Rank-8  :94.6%\n",
      "CMC curve, Rank-10 :95.1%\n",
      "CMC curve, Rank-12 :95.8%\n",
      "CMC curve, Rank-14 :96.2%\n",
      "CMC curve, Rank-16 :96.5%\n",
      "CMC curve, Rank-18 :96.8%\n",
      "CMC curve, Rank-20 :97.1%\n",
      "CMC curve, Rank-22 :97.2%\n",
      "CMC curve, Rank-24 :97.4%\n",
      "CMC curve, Rank-26 :97.6%\n",
      "CMC curve, Rank-28 :97.8%\n",
      "CMC curve, Rank-30 :97.8%\n",
      "CMC curve, Rank-32 :98.0%\n"
     ]
    },
    {
     "name": "stderr",
     "output_type": "stream",
     "text": [
      "Train Epoch: 23 [259/259 (100%)] Loss: 0.066566: : 259it [01:23,  3.10it/s]"
     ]
    },
    {
     "name": "stdout",
     "output_type": "stream",
     "text": [
      "Enter inferencing\n",
      "Create evaluator\n"
     ]
    },
    {
     "name": "stderr",
     "output_type": "stream",
     "text": [
      "\n"
     ]
    },
    {
     "name": "stdout",
     "output_type": "stream",
     "text": [
      "The test feature is normalized\n",
      "Validation Results\n",
      "mAP: 57.8%\n",
      "CMC curve, Rank-1  :80.1%\n",
      "CMC curve, Rank-2  :86.2%\n",
      "CMC curve, Rank-4  :91.2%\n",
      "CMC curve, Rank-6  :93.6%\n",
      "CMC curve, Rank-8  :94.7%\n",
      "CMC curve, Rank-10 :95.4%\n",
      "CMC curve, Rank-12 :95.9%\n",
      "CMC curve, Rank-14 :96.3%\n",
      "CMC curve, Rank-16 :96.7%\n",
      "CMC curve, Rank-18 :96.9%\n",
      "CMC curve, Rank-20 :97.1%\n",
      "CMC curve, Rank-22 :97.4%\n",
      "CMC curve, Rank-24 :97.6%\n",
      "CMC curve, Rank-26 :97.8%\n",
      "CMC curve, Rank-28 :97.9%\n",
      "CMC curve, Rank-30 :98.0%\n",
      "CMC curve, Rank-32 :98.2%\n"
     ]
    },
    {
     "name": "stderr",
     "output_type": "stream",
     "text": [
      "Train Epoch: 24 [259/259 (100%)] Loss: 0.107933: : 259it [01:24,  3.05it/s]"
     ]
    },
    {
     "name": "stdout",
     "output_type": "stream",
     "text": [
      "Enter inferencing\n",
      "Create evaluator\n"
     ]
    },
    {
     "name": "stderr",
     "output_type": "stream",
     "text": [
      "\n"
     ]
    },
    {
     "name": "stdout",
     "output_type": "stream",
     "text": [
      "The test feature is normalized\n",
      "Validation Results\n",
      "mAP: 57.9%\n",
      "CMC curve, Rank-1  :80.4%\n",
      "CMC curve, Rank-2  :86.0%\n",
      "CMC curve, Rank-4  :91.2%\n",
      "CMC curve, Rank-6  :93.4%\n",
      "CMC curve, Rank-8  :94.5%\n",
      "CMC curve, Rank-10 :95.5%\n",
      "CMC curve, Rank-12 :96.1%\n",
      "CMC curve, Rank-14 :96.5%\n",
      "CMC curve, Rank-16 :96.8%\n",
      "CMC curve, Rank-18 :97.1%\n",
      "CMC curve, Rank-20 :97.4%\n",
      "CMC curve, Rank-22 :97.6%\n",
      "CMC curve, Rank-24 :97.8%\n",
      "CMC curve, Rank-26 :97.9%\n",
      "CMC curve, Rank-28 :98.0%\n",
      "CMC curve, Rank-30 :98.0%\n",
      "CMC curve, Rank-32 :98.1%\n"
     ]
    },
    {
     "name": "stderr",
     "output_type": "stream",
     "text": [
      "Train Epoch: 25 [259/259 (100%)] Loss: 0.096321: : 259it [01:23,  3.10it/s]"
     ]
    },
    {
     "name": "stdout",
     "output_type": "stream",
     "text": [
      "Enter inferencing\n",
      "Create evaluator\n"
     ]
    },
    {
     "name": "stderr",
     "output_type": "stream",
     "text": [
      "\n"
     ]
    },
    {
     "name": "stdout",
     "output_type": "stream",
     "text": [
      "The test feature is normalized\n",
      "Validation Results\n",
      "mAP: 58.3%\n",
      "CMC curve, Rank-1  :80.6%\n",
      "CMC curve, Rank-2  :86.0%\n",
      "CMC curve, Rank-4  :91.3%\n",
      "CMC curve, Rank-6  :93.5%\n",
      "CMC curve, Rank-8  :94.9%\n",
      "CMC curve, Rank-10 :95.3%\n",
      "CMC curve, Rank-12 :96.1%\n",
      "CMC curve, Rank-14 :96.3%\n",
      "CMC curve, Rank-16 :96.8%\n",
      "CMC curve, Rank-18 :97.0%\n",
      "CMC curve, Rank-20 :97.3%\n",
      "CMC curve, Rank-22 :97.5%\n",
      "CMC curve, Rank-24 :97.7%\n",
      "CMC curve, Rank-26 :97.8%\n",
      "CMC curve, Rank-28 :97.9%\n",
      "CMC curve, Rank-30 :97.9%\n",
      "CMC curve, Rank-32 :98.1%\n"
     ]
    },
    {
     "name": "stderr",
     "output_type": "stream",
     "text": [
      "Train Epoch: 26 [259/259 (100%)] Loss: 0.086156: : 259it [01:23,  3.11it/s]"
     ]
    },
    {
     "name": "stdout",
     "output_type": "stream",
     "text": [
      "Enter inferencing\n",
      "Create evaluator\n"
     ]
    },
    {
     "name": "stderr",
     "output_type": "stream",
     "text": [
      "\n"
     ]
    },
    {
     "name": "stdout",
     "output_type": "stream",
     "text": [
      "The test feature is normalized\n",
      "Validation Results\n",
      "mAP: 58.6%\n",
      "CMC curve, Rank-1  :80.8%\n",
      "CMC curve, Rank-2  :86.9%\n",
      "CMC curve, Rank-4  :91.3%\n",
      "CMC curve, Rank-6  :93.6%\n",
      "CMC curve, Rank-8  :94.8%\n",
      "CMC curve, Rank-10 :95.4%\n",
      "CMC curve, Rank-12 :96.1%\n",
      "CMC curve, Rank-14 :96.6%\n",
      "CMC curve, Rank-16 :96.8%\n",
      "CMC curve, Rank-18 :97.0%\n",
      "CMC curve, Rank-20 :97.4%\n",
      "CMC curve, Rank-22 :97.5%\n",
      "CMC curve, Rank-24 :97.7%\n",
      "CMC curve, Rank-26 :97.8%\n",
      "CMC curve, Rank-28 :97.9%\n",
      "CMC curve, Rank-30 :98.0%\n",
      "CMC curve, Rank-32 :98.1%\n"
     ]
    },
    {
     "name": "stderr",
     "output_type": "stream",
     "text": [
      "Train Epoch: 27 [259/259 (100%)] Loss: 0.126765: : 259it [01:25,  3.04it/s]"
     ]
    },
    {
     "name": "stdout",
     "output_type": "stream",
     "text": [
      "Enter inferencing\n",
      "Create evaluator\n"
     ]
    },
    {
     "name": "stderr",
     "output_type": "stream",
     "text": [
      "\n"
     ]
    },
    {
     "name": "stdout",
     "output_type": "stream",
     "text": [
      "The test feature is normalized\n",
      "Validation Results\n",
      "mAP: 58.9%\n",
      "CMC curve, Rank-1  :81.1%\n",
      "CMC curve, Rank-2  :86.8%\n",
      "CMC curve, Rank-4  :91.8%\n",
      "CMC curve, Rank-6  :93.7%\n",
      "CMC curve, Rank-8  :94.7%\n",
      "CMC curve, Rank-10 :95.5%\n",
      "CMC curve, Rank-12 :95.9%\n",
      "CMC curve, Rank-14 :96.4%\n",
      "CMC curve, Rank-16 :96.8%\n",
      "CMC curve, Rank-18 :97.1%\n",
      "CMC curve, Rank-20 :97.2%\n",
      "CMC curve, Rank-22 :97.5%\n",
      "CMC curve, Rank-24 :97.6%\n",
      "CMC curve, Rank-26 :97.8%\n",
      "CMC curve, Rank-28 :97.8%\n",
      "CMC curve, Rank-30 :97.9%\n",
      "CMC curve, Rank-32 :98.0%\n"
     ]
    },
    {
     "name": "stderr",
     "output_type": "stream",
     "text": [
      "Train Epoch: 28 [259/259 (100%)] Loss: 0.122001: : 259it [01:25,  3.05it/s]"
     ]
    },
    {
     "name": "stdout",
     "output_type": "stream",
     "text": [
      "Enter inferencing\n",
      "Create evaluator\n"
     ]
    },
    {
     "name": "stderr",
     "output_type": "stream",
     "text": [
      "\n"
     ]
    },
    {
     "name": "stdout",
     "output_type": "stream",
     "text": [
      "The test feature is normalized\n",
      "Validation Results\n",
      "mAP: 59.1%\n",
      "CMC curve, Rank-1  :81.7%\n",
      "CMC curve, Rank-2  :87.0%\n",
      "CMC curve, Rank-4  :91.7%\n",
      "CMC curve, Rank-6  :93.5%\n",
      "CMC curve, Rank-8  :94.8%\n",
      "CMC curve, Rank-10 :95.5%\n",
      "CMC curve, Rank-12 :96.1%\n",
      "CMC curve, Rank-14 :96.5%\n",
      "CMC curve, Rank-16 :96.7%\n",
      "CMC curve, Rank-18 :96.9%\n",
      "CMC curve, Rank-20 :97.2%\n",
      "CMC curve, Rank-22 :97.5%\n",
      "CMC curve, Rank-24 :97.7%\n",
      "CMC curve, Rank-26 :97.8%\n",
      "CMC curve, Rank-28 :97.9%\n",
      "CMC curve, Rank-30 :98.0%\n",
      "CMC curve, Rank-32 :98.2%\n"
     ]
    },
    {
     "name": "stderr",
     "output_type": "stream",
     "text": [
      "Train Epoch: 29 [259/259 (100%)] Loss: 0.054937: : 259it [01:22,  3.13it/s]"
     ]
    },
    {
     "name": "stdout",
     "output_type": "stream",
     "text": [
      "Enter inferencing\n",
      "Create evaluator\n"
     ]
    },
    {
     "name": "stderr",
     "output_type": "stream",
     "text": [
      "\n"
     ]
    },
    {
     "name": "stdout",
     "output_type": "stream",
     "text": [
      "The test feature is normalized\n",
      "Validation Results\n",
      "mAP: 59.7%\n",
      "CMC curve, Rank-1  :81.7%\n",
      "CMC curve, Rank-2  :88.1%\n",
      "CMC curve, Rank-4  :91.9%\n",
      "CMC curve, Rank-6  :94.0%\n",
      "CMC curve, Rank-8  :95.0%\n",
      "CMC curve, Rank-10 :95.5%\n",
      "CMC curve, Rank-12 :96.1%\n",
      "CMC curve, Rank-14 :96.5%\n",
      "CMC curve, Rank-16 :96.9%\n",
      "CMC curve, Rank-18 :97.1%\n",
      "CMC curve, Rank-20 :97.3%\n",
      "CMC curve, Rank-22 :97.7%\n",
      "CMC curve, Rank-24 :97.8%\n",
      "CMC curve, Rank-26 :98.0%\n",
      "CMC curve, Rank-28 :98.1%\n",
      "CMC curve, Rank-30 :98.2%\n",
      "CMC curve, Rank-32 :98.2%\n"
     ]
    },
    {
     "name": "stderr",
     "output_type": "stream",
     "text": [
      "Train Epoch: 30 [259/259 (100%)] Loss: 0.046237: : 259it [01:22,  3.13it/s]"
     ]
    },
    {
     "name": "stdout",
     "output_type": "stream",
     "text": [
      "Enter inferencing\n",
      "Create evaluator\n"
     ]
    },
    {
     "name": "stderr",
     "output_type": "stream",
     "text": [
      "\n"
     ]
    },
    {
     "name": "stdout",
     "output_type": "stream",
     "text": [
      "The test feature is normalized\n",
      "Validation Results\n",
      "mAP: 59.9%\n",
      "CMC curve, Rank-1  :81.8%\n",
      "CMC curve, Rank-2  :88.0%\n",
      "CMC curve, Rank-4  :92.2%\n",
      "CMC curve, Rank-6  :94.0%\n",
      "CMC curve, Rank-8  :95.1%\n",
      "CMC curve, Rank-10 :95.8%\n",
      "CMC curve, Rank-12 :96.2%\n",
      "CMC curve, Rank-14 :96.6%\n",
      "CMC curve, Rank-16 :96.9%\n",
      "CMC curve, Rank-18 :97.1%\n",
      "CMC curve, Rank-20 :97.4%\n",
      "CMC curve, Rank-22 :97.5%\n",
      "CMC curve, Rank-24 :97.7%\n",
      "CMC curve, Rank-26 :98.0%\n",
      "CMC curve, Rank-28 :98.0%\n",
      "CMC curve, Rank-30 :98.1%\n",
      "CMC curve, Rank-32 :98.2%\n"
     ]
    },
    {
     "name": "stderr",
     "output_type": "stream",
     "text": [
      "Train Epoch: 31 [259/259 (100%)] Loss: 0.073384: : 259it [01:23,  3.09it/s]"
     ]
    },
    {
     "name": "stdout",
     "output_type": "stream",
     "text": [
      "Enter inferencing\n",
      "Create evaluator\n"
     ]
    },
    {
     "name": "stderr",
     "output_type": "stream",
     "text": [
      "\n"
     ]
    },
    {
     "name": "stdout",
     "output_type": "stream",
     "text": [
      "The test feature is normalized\n",
      "Validation Results\n",
      "mAP: 59.9%\n",
      "CMC curve, Rank-1  :82.2%\n",
      "CMC curve, Rank-2  :87.6%\n",
      "CMC curve, Rank-4  :91.9%\n",
      "CMC curve, Rank-6  :94.2%\n",
      "CMC curve, Rank-8  :95.1%\n",
      "CMC curve, Rank-10 :95.9%\n",
      "CMC curve, Rank-12 :96.4%\n",
      "CMC curve, Rank-14 :96.7%\n",
      "CMC curve, Rank-16 :97.1%\n",
      "CMC curve, Rank-18 :97.3%\n",
      "CMC curve, Rank-20 :97.6%\n",
      "CMC curve, Rank-22 :97.8%\n",
      "CMC curve, Rank-24 :97.8%\n",
      "CMC curve, Rank-26 :97.9%\n",
      "CMC curve, Rank-28 :98.0%\n",
      "CMC curve, Rank-30 :98.1%\n",
      "CMC curve, Rank-32 :98.2%\n"
     ]
    },
    {
     "name": "stderr",
     "output_type": "stream",
     "text": [
      "Train Epoch: 32 [259/259 (100%)] Loss: 0.065972: : 259it [01:25,  3.03it/s]"
     ]
    },
    {
     "name": "stdout",
     "output_type": "stream",
     "text": [
      "Enter inferencing\n",
      "Create evaluator\n"
     ]
    },
    {
     "name": "stderr",
     "output_type": "stream",
     "text": [
      "\n"
     ]
    },
    {
     "name": "stdout",
     "output_type": "stream",
     "text": [
      "The test feature is normalized\n",
      "Validation Results\n",
      "mAP: 60.3%\n",
      "CMC curve, Rank-1  :82.3%\n",
      "CMC curve, Rank-2  :88.1%\n",
      "CMC curve, Rank-4  :92.2%\n",
      "CMC curve, Rank-6  :94.1%\n",
      "CMC curve, Rank-8  :95.2%\n",
      "CMC curve, Rank-10 :96.0%\n",
      "CMC curve, Rank-12 :96.4%\n",
      "CMC curve, Rank-14 :96.8%\n",
      "CMC curve, Rank-16 :97.2%\n",
      "CMC curve, Rank-18 :97.2%\n",
      "CMC curve, Rank-20 :97.5%\n",
      "CMC curve, Rank-22 :97.7%\n",
      "CMC curve, Rank-24 :97.8%\n",
      "CMC curve, Rank-26 :97.9%\n",
      "CMC curve, Rank-28 :98.0%\n",
      "CMC curve, Rank-30 :98.1%\n",
      "CMC curve, Rank-32 :98.2%\n"
     ]
    },
    {
     "name": "stderr",
     "output_type": "stream",
     "text": [
      "Train Epoch: 33 [259/259 (100%)] Loss: 0.054554: : 259it [01:22,  3.13it/s]"
     ]
    },
    {
     "name": "stdout",
     "output_type": "stream",
     "text": [
      "Enter inferencing\n",
      "Create evaluator\n"
     ]
    },
    {
     "name": "stderr",
     "output_type": "stream",
     "text": [
      "\n"
     ]
    },
    {
     "name": "stdout",
     "output_type": "stream",
     "text": [
      "The test feature is normalized\n",
      "Validation Results\n",
      "mAP: 60.4%\n",
      "CMC curve, Rank-1  :82.3%\n",
      "CMC curve, Rank-2  :87.8%\n",
      "CMC curve, Rank-4  :92.0%\n",
      "CMC curve, Rank-6  :94.0%\n",
      "CMC curve, Rank-8  :95.2%\n",
      "CMC curve, Rank-10 :95.8%\n",
      "CMC curve, Rank-12 :96.5%\n",
      "CMC curve, Rank-14 :96.9%\n",
      "CMC curve, Rank-16 :97.1%\n",
      "CMC curve, Rank-18 :97.3%\n",
      "CMC curve, Rank-20 :97.5%\n",
      "CMC curve, Rank-22 :97.7%\n",
      "CMC curve, Rank-24 :97.7%\n",
      "CMC curve, Rank-26 :97.9%\n",
      "CMC curve, Rank-28 :98.0%\n",
      "CMC curve, Rank-30 :98.1%\n",
      "CMC curve, Rank-32 :98.2%\n"
     ]
    },
    {
     "name": "stderr",
     "output_type": "stream",
     "text": [
      "Train Epoch: 34 [259/259 (100%)] Loss: 0.055207: : 259it [01:22,  3.13it/s]"
     ]
    },
    {
     "name": "stdout",
     "output_type": "stream",
     "text": [
      "Enter inferencing\n",
      "Create evaluator\n"
     ]
    },
    {
     "name": "stderr",
     "output_type": "stream",
     "text": [
      "\n"
     ]
    },
    {
     "name": "stdout",
     "output_type": "stream",
     "text": [
      "The test feature is normalized\n",
      "Validation Results\n",
      "mAP: 60.6%\n",
      "CMC curve, Rank-1  :82.7%\n",
      "CMC curve, Rank-2  :87.7%\n",
      "CMC curve, Rank-4  :92.0%\n",
      "CMC curve, Rank-6  :93.9%\n",
      "CMC curve, Rank-8  :95.2%\n",
      "CMC curve, Rank-10 :95.9%\n",
      "CMC curve, Rank-12 :96.4%\n",
      "CMC curve, Rank-14 :96.8%\n",
      "CMC curve, Rank-16 :97.0%\n",
      "CMC curve, Rank-18 :97.3%\n",
      "CMC curve, Rank-20 :97.5%\n",
      "CMC curve, Rank-22 :97.7%\n",
      "CMC curve, Rank-24 :97.8%\n",
      "CMC curve, Rank-26 :97.9%\n",
      "CMC curve, Rank-28 :98.0%\n",
      "CMC curve, Rank-30 :98.1%\n",
      "CMC curve, Rank-32 :98.2%\n"
     ]
    },
    {
     "name": "stderr",
     "output_type": "stream",
     "text": [
      "Train Epoch: 35 [259/259 (100%)] Loss: 0.044432: : 259it [01:28,  2.93it/s]"
     ]
    },
    {
     "name": "stdout",
     "output_type": "stream",
     "text": [
      "Enter inferencing\n",
      "Create evaluator\n"
     ]
    },
    {
     "name": "stderr",
     "output_type": "stream",
     "text": [
      "\n"
     ]
    },
    {
     "name": "stdout",
     "output_type": "stream",
     "text": [
      "The test feature is normalized\n",
      "Validation Results\n",
      "mAP: 60.5%\n",
      "CMC curve, Rank-1  :82.3%\n",
      "CMC curve, Rank-2  :87.6%\n",
      "CMC curve, Rank-4  :92.2%\n",
      "CMC curve, Rank-6  :94.0%\n",
      "CMC curve, Rank-8  :95.1%\n",
      "CMC curve, Rank-10 :95.9%\n",
      "CMC curve, Rank-12 :96.5%\n",
      "CMC curve, Rank-14 :96.8%\n",
      "CMC curve, Rank-16 :97.1%\n",
      "CMC curve, Rank-18 :97.4%\n",
      "CMC curve, Rank-20 :97.6%\n",
      "CMC curve, Rank-22 :97.7%\n",
      "CMC curve, Rank-24 :97.9%\n",
      "CMC curve, Rank-26 :98.0%\n",
      "CMC curve, Rank-28 :98.1%\n",
      "CMC curve, Rank-30 :98.2%\n",
      "CMC curve, Rank-32 :98.3%\n"
     ]
    },
    {
     "name": "stderr",
     "output_type": "stream",
     "text": [
      "Train Epoch: 36 [259/259 (100%)] Loss: 0.042914: : 259it [01:28,  2.93it/s]"
     ]
    },
    {
     "name": "stdout",
     "output_type": "stream",
     "text": [
      "Enter inferencing\n",
      "Create evaluator\n"
     ]
    },
    {
     "name": "stderr",
     "output_type": "stream",
     "text": [
      "\n"
     ]
    },
    {
     "name": "stdout",
     "output_type": "stream",
     "text": [
      "The test feature is normalized\n",
      "Validation Results\n",
      "mAP: 60.7%\n",
      "CMC curve, Rank-1  :82.2%\n",
      "CMC curve, Rank-2  :88.1%\n",
      "CMC curve, Rank-4  :92.2%\n",
      "CMC curve, Rank-6  :93.9%\n",
      "CMC curve, Rank-8  :95.2%\n",
      "CMC curve, Rank-10 :96.0%\n",
      "CMC curve, Rank-12 :96.6%\n",
      "CMC curve, Rank-14 :97.0%\n",
      "CMC curve, Rank-16 :97.3%\n",
      "CMC curve, Rank-18 :97.5%\n",
      "CMC curve, Rank-20 :97.7%\n",
      "CMC curve, Rank-22 :97.8%\n",
      "CMC curve, Rank-24 :98.0%\n",
      "CMC curve, Rank-26 :98.1%\n",
      "CMC curve, Rank-28 :98.1%\n",
      "CMC curve, Rank-30 :98.1%\n",
      "CMC curve, Rank-32 :98.2%\n"
     ]
    },
    {
     "name": "stderr",
     "output_type": "stream",
     "text": [
      "Train Epoch: 37 [259/259 (100%)] Loss: 0.054979: : 259it [01:28,  2.93it/s]"
     ]
    },
    {
     "name": "stdout",
     "output_type": "stream",
     "text": [
      "Enter inferencing\n",
      "Create evaluator\n"
     ]
    },
    {
     "name": "stderr",
     "output_type": "stream",
     "text": [
      "\n"
     ]
    },
    {
     "name": "stdout",
     "output_type": "stream",
     "text": [
      "The test feature is normalized\n",
      "Validation Results\n",
      "mAP: 60.7%\n",
      "CMC curve, Rank-1  :82.5%\n",
      "CMC curve, Rank-2  :88.0%\n",
      "CMC curve, Rank-4  :92.3%\n",
      "CMC curve, Rank-6  :94.0%\n",
      "CMC curve, Rank-8  :95.2%\n",
      "CMC curve, Rank-10 :96.0%\n",
      "CMC curve, Rank-12 :96.6%\n",
      "CMC curve, Rank-14 :97.0%\n",
      "CMC curve, Rank-16 :97.3%\n",
      "CMC curve, Rank-18 :97.4%\n",
      "CMC curve, Rank-20 :97.6%\n",
      "CMC curve, Rank-22 :97.8%\n",
      "CMC curve, Rank-24 :97.9%\n",
      "CMC curve, Rank-26 :98.0%\n",
      "CMC curve, Rank-28 :98.1%\n",
      "CMC curve, Rank-30 :98.1%\n",
      "CMC curve, Rank-32 :98.2%\n"
     ]
    },
    {
     "name": "stderr",
     "output_type": "stream",
     "text": [
      "Train Epoch: 38 [259/259 (100%)] Loss: 0.061654: : 259it [01:28,  2.94it/s]"
     ]
    },
    {
     "name": "stdout",
     "output_type": "stream",
     "text": [
      "Enter inferencing\n",
      "Create evaluator\n"
     ]
    },
    {
     "name": "stderr",
     "output_type": "stream",
     "text": [
      "\n"
     ]
    },
    {
     "name": "stdout",
     "output_type": "stream",
     "text": [
      "The test feature is normalized\n",
      "Validation Results\n",
      "mAP: 61.0%\n",
      "CMC curve, Rank-1  :82.8%\n",
      "CMC curve, Rank-2  :88.1%\n",
      "CMC curve, Rank-4  :92.5%\n",
      "CMC curve, Rank-6  :94.1%\n",
      "CMC curve, Rank-8  :95.1%\n",
      "CMC curve, Rank-10 :96.1%\n",
      "CMC curve, Rank-12 :96.4%\n",
      "CMC curve, Rank-14 :96.9%\n",
      "CMC curve, Rank-16 :97.2%\n",
      "CMC curve, Rank-18 :97.5%\n",
      "CMC curve, Rank-20 :97.7%\n",
      "CMC curve, Rank-22 :97.9%\n",
      "CMC curve, Rank-24 :98.0%\n",
      "CMC curve, Rank-26 :98.0%\n",
      "CMC curve, Rank-28 :98.1%\n",
      "CMC curve, Rank-30 :98.2%\n",
      "CMC curve, Rank-32 :98.3%\n"
     ]
    },
    {
     "name": "stderr",
     "output_type": "stream",
     "text": [
      "Train Epoch: 39 [259/259 (100%)] Loss: 0.032080: : 259it [01:28,  2.93it/s]"
     ]
    },
    {
     "name": "stdout",
     "output_type": "stream",
     "text": [
      "Enter inferencing\n",
      "Create evaluator\n"
     ]
    },
    {
     "name": "stderr",
     "output_type": "stream",
     "text": [
      "\n"
     ]
    },
    {
     "name": "stdout",
     "output_type": "stream",
     "text": [
      "The test feature is normalized\n",
      "Validation Results\n",
      "mAP: 61.1%\n",
      "CMC curve, Rank-1  :83.0%\n",
      "CMC curve, Rank-2  :88.1%\n",
      "CMC curve, Rank-4  :92.3%\n",
      "CMC curve, Rank-6  :94.2%\n",
      "CMC curve, Rank-8  :95.5%\n",
      "CMC curve, Rank-10 :96.1%\n",
      "CMC curve, Rank-12 :96.5%\n",
      "CMC curve, Rank-14 :97.0%\n",
      "CMC curve, Rank-16 :97.2%\n",
      "CMC curve, Rank-18 :97.4%\n",
      "CMC curve, Rank-20 :97.6%\n",
      "CMC curve, Rank-22 :97.8%\n",
      "CMC curve, Rank-24 :97.9%\n",
      "CMC curve, Rank-26 :98.0%\n",
      "CMC curve, Rank-28 :98.1%\n",
      "CMC curve, Rank-30 :98.2%\n",
      "CMC curve, Rank-32 :98.3%\n"
     ]
    },
    {
     "name": "stderr",
     "output_type": "stream",
     "text": [
      "Train Epoch: 40 [259/259 (100%)] Loss: 0.103235: : 259it [01:25,  3.04it/s]"
     ]
    },
    {
     "name": "stdout",
     "output_type": "stream",
     "text": [
      "Enter inferencing\n",
      "Create evaluator\n"
     ]
    },
    {
     "name": "stderr",
     "output_type": "stream",
     "text": [
      "\n"
     ]
    },
    {
     "name": "stdout",
     "output_type": "stream",
     "text": [
      "The test feature is normalized\n",
      "Validation Results\n",
      "mAP: 61.3%\n",
      "CMC curve, Rank-1  :83.0%\n",
      "CMC curve, Rank-2  :88.0%\n",
      "CMC curve, Rank-4  :92.5%\n",
      "CMC curve, Rank-6  :94.4%\n",
      "CMC curve, Rank-8  :95.3%\n",
      "CMC curve, Rank-10 :96.0%\n",
      "CMC curve, Rank-12 :96.6%\n",
      "CMC curve, Rank-14 :97.0%\n",
      "CMC curve, Rank-16 :97.3%\n",
      "CMC curve, Rank-18 :97.6%\n",
      "CMC curve, Rank-20 :97.7%\n",
      "CMC curve, Rank-22 :97.8%\n",
      "CMC curve, Rank-24 :97.9%\n",
      "CMC curve, Rank-26 :98.1%\n",
      "CMC curve, Rank-28 :98.1%\n",
      "CMC curve, Rank-30 :98.3%\n",
      "CMC curve, Rank-32 :98.4%\n"
     ]
    },
    {
     "name": "stderr",
     "output_type": "stream",
     "text": [
      "Train Epoch: 41 [259/259 (100%)] Loss: 0.070304: : 259it [01:25,  3.03it/s]"
     ]
    },
    {
     "name": "stdout",
     "output_type": "stream",
     "text": [
      "Enter inferencing\n",
      "Create evaluator\n"
     ]
    },
    {
     "name": "stderr",
     "output_type": "stream",
     "text": [
      "\n"
     ]
    },
    {
     "name": "stdout",
     "output_type": "stream",
     "text": [
      "The test feature is normalized\n",
      "Validation Results\n",
      "mAP: 61.3%\n",
      "CMC curve, Rank-1  :83.1%\n",
      "CMC curve, Rank-2  :88.6%\n",
      "CMC curve, Rank-4  :92.5%\n",
      "CMC curve, Rank-6  :94.1%\n",
      "CMC curve, Rank-8  :95.2%\n",
      "CMC curve, Rank-10 :96.0%\n",
      "CMC curve, Rank-12 :96.6%\n",
      "CMC curve, Rank-14 :97.1%\n",
      "CMC curve, Rank-16 :97.4%\n",
      "CMC curve, Rank-18 :97.5%\n",
      "CMC curve, Rank-20 :97.7%\n",
      "CMC curve, Rank-22 :97.8%\n",
      "CMC curve, Rank-24 :98.0%\n",
      "CMC curve, Rank-26 :98.1%\n",
      "CMC curve, Rank-28 :98.2%\n",
      "CMC curve, Rank-30 :98.3%\n",
      "CMC curve, Rank-32 :98.4%\n"
     ]
    },
    {
     "name": "stderr",
     "output_type": "stream",
     "text": [
      "Train Epoch: 42 [259/259 (100%)] Loss: 0.051117: : 259it [01:25,  3.03it/s]"
     ]
    },
    {
     "name": "stdout",
     "output_type": "stream",
     "text": [
      "Enter inferencing\n",
      "Create evaluator\n"
     ]
    },
    {
     "name": "stderr",
     "output_type": "stream",
     "text": [
      "\n"
     ]
    },
    {
     "name": "stdout",
     "output_type": "stream",
     "text": [
      "The test feature is normalized\n",
      "Validation Results\n",
      "mAP: 61.5%\n",
      "CMC curve, Rank-1  :83.3%\n",
      "CMC curve, Rank-2  :88.3%\n",
      "CMC curve, Rank-4  :92.4%\n",
      "CMC curve, Rank-6  :94.2%\n",
      "CMC curve, Rank-8  :95.4%\n",
      "CMC curve, Rank-10 :96.2%\n",
      "CMC curve, Rank-12 :96.6%\n",
      "CMC curve, Rank-14 :97.1%\n",
      "CMC curve, Rank-16 :97.4%\n",
      "CMC curve, Rank-18 :97.6%\n",
      "CMC curve, Rank-20 :97.8%\n",
      "CMC curve, Rank-22 :97.9%\n",
      "CMC curve, Rank-24 :98.0%\n",
      "CMC curve, Rank-26 :98.0%\n",
      "CMC curve, Rank-28 :98.1%\n",
      "CMC curve, Rank-30 :98.2%\n",
      "CMC curve, Rank-32 :98.3%\n"
     ]
    },
    {
     "name": "stderr",
     "output_type": "stream",
     "text": [
      "Train Epoch: 43 [259/259 (100%)] Loss: 0.043472: : 259it [01:25,  3.03it/s]"
     ]
    },
    {
     "name": "stdout",
     "output_type": "stream",
     "text": [
      "Enter inferencing\n",
      "Create evaluator\n"
     ]
    },
    {
     "name": "stderr",
     "output_type": "stream",
     "text": [
      "\n"
     ]
    },
    {
     "name": "stdout",
     "output_type": "stream",
     "text": [
      "The test feature is normalized\n",
      "Validation Results\n",
      "mAP: 61.6%\n",
      "CMC curve, Rank-1  :83.3%\n",
      "CMC curve, Rank-2  :88.7%\n",
      "CMC curve, Rank-4  :92.5%\n",
      "CMC curve, Rank-6  :94.3%\n",
      "CMC curve, Rank-8  :95.6%\n",
      "CMC curve, Rank-10 :96.2%\n",
      "CMC curve, Rank-12 :96.7%\n",
      "CMC curve, Rank-14 :96.9%\n",
      "CMC curve, Rank-16 :97.2%\n",
      "CMC curve, Rank-18 :97.5%\n",
      "CMC curve, Rank-20 :97.7%\n",
      "CMC curve, Rank-22 :97.9%\n",
      "CMC curve, Rank-24 :98.0%\n",
      "CMC curve, Rank-26 :98.0%\n",
      "CMC curve, Rank-28 :98.1%\n",
      "CMC curve, Rank-30 :98.2%\n",
      "CMC curve, Rank-32 :98.2%\n"
     ]
    },
    {
     "name": "stderr",
     "output_type": "stream",
     "text": [
      "Train Epoch: 44 [259/259 (100%)] Loss: 0.037016: : 259it [01:25,  3.03it/s]"
     ]
    },
    {
     "name": "stdout",
     "output_type": "stream",
     "text": [
      "Enter inferencing\n",
      "Create evaluator\n"
     ]
    },
    {
     "name": "stderr",
     "output_type": "stream",
     "text": [
      "\n"
     ]
    },
    {
     "name": "stdout",
     "output_type": "stream",
     "text": [
      "The test feature is normalized\n",
      "Validation Results\n",
      "mAP: 61.6%\n",
      "CMC curve, Rank-1  :83.2%\n",
      "CMC curve, Rank-2  :88.5%\n",
      "CMC curve, Rank-4  :92.5%\n",
      "CMC curve, Rank-6  :94.2%\n",
      "CMC curve, Rank-8  :95.4%\n",
      "CMC curve, Rank-10 :96.2%\n",
      "CMC curve, Rank-12 :96.5%\n",
      "CMC curve, Rank-14 :96.9%\n",
      "CMC curve, Rank-16 :97.2%\n",
      "CMC curve, Rank-18 :97.5%\n",
      "CMC curve, Rank-20 :97.7%\n",
      "CMC curve, Rank-22 :97.9%\n",
      "CMC curve, Rank-24 :98.0%\n",
      "CMC curve, Rank-26 :98.0%\n",
      "CMC curve, Rank-28 :98.2%\n",
      "CMC curve, Rank-30 :98.3%\n",
      "CMC curve, Rank-32 :98.3%\n"
     ]
    },
    {
     "name": "stderr",
     "output_type": "stream",
     "text": [
      "Train Epoch: 45 [259/259 (100%)] Loss: 0.079145: : 259it [01:25,  3.04it/s]"
     ]
    },
    {
     "name": "stdout",
     "output_type": "stream",
     "text": [
      "Enter inferencing\n",
      "Create evaluator\n"
     ]
    },
    {
     "name": "stderr",
     "output_type": "stream",
     "text": [
      "\n"
     ]
    },
    {
     "name": "stdout",
     "output_type": "stream",
     "text": [
      "The test feature is normalized\n",
      "Validation Results\n",
      "mAP: 61.6%\n",
      "CMC curve, Rank-1  :83.2%\n",
      "CMC curve, Rank-2  :88.8%\n",
      "CMC curve, Rank-4  :92.6%\n",
      "CMC curve, Rank-6  :94.4%\n",
      "CMC curve, Rank-8  :95.5%\n",
      "CMC curve, Rank-10 :96.2%\n",
      "CMC curve, Rank-12 :96.5%\n",
      "CMC curve, Rank-14 :97.0%\n",
      "CMC curve, Rank-16 :97.2%\n",
      "CMC curve, Rank-18 :97.5%\n",
      "CMC curve, Rank-20 :97.7%\n",
      "CMC curve, Rank-22 :97.8%\n",
      "CMC curve, Rank-24 :97.9%\n",
      "CMC curve, Rank-26 :98.0%\n",
      "CMC curve, Rank-28 :98.1%\n",
      "CMC curve, Rank-30 :98.2%\n",
      "CMC curve, Rank-32 :98.2%\n"
     ]
    },
    {
     "name": "stderr",
     "output_type": "stream",
     "text": [
      "Train Epoch: 46 [259/259 (100%)] Loss: 0.070981: : 259it [01:25,  3.03it/s]"
     ]
    },
    {
     "name": "stdout",
     "output_type": "stream",
     "text": [
      "Enter inferencing\n",
      "Create evaluator\n"
     ]
    },
    {
     "name": "stderr",
     "output_type": "stream",
     "text": [
      "\n"
     ]
    },
    {
     "name": "stdout",
     "output_type": "stream",
     "text": [
      "The test feature is normalized\n",
      "Validation Results\n",
      "mAP: 61.7%\n",
      "CMC curve, Rank-1  :83.3%\n",
      "CMC curve, Rank-2  :88.7%\n",
      "CMC curve, Rank-4  :92.9%\n",
      "CMC curve, Rank-6  :94.3%\n",
      "CMC curve, Rank-8  :95.5%\n",
      "CMC curve, Rank-10 :96.2%\n",
      "CMC curve, Rank-12 :96.6%\n",
      "CMC curve, Rank-14 :97.0%\n",
      "CMC curve, Rank-16 :97.2%\n",
      "CMC curve, Rank-18 :97.4%\n",
      "CMC curve, Rank-20 :97.8%\n",
      "CMC curve, Rank-22 :97.8%\n",
      "CMC curve, Rank-24 :98.0%\n",
      "CMC curve, Rank-26 :98.0%\n",
      "CMC curve, Rank-28 :98.2%\n",
      "CMC curve, Rank-30 :98.3%\n",
      "CMC curve, Rank-32 :98.3%\n"
     ]
    },
    {
     "name": "stderr",
     "output_type": "stream",
     "text": [
      "Train Epoch: 47 [259/259 (100%)] Loss: 0.117950: : 259it [01:25,  3.03it/s]"
     ]
    },
    {
     "name": "stdout",
     "output_type": "stream",
     "text": [
      "Enter inferencing\n",
      "Create evaluator\n"
     ]
    },
    {
     "name": "stderr",
     "output_type": "stream",
     "text": [
      "\n"
     ]
    },
    {
     "name": "stdout",
     "output_type": "stream",
     "text": [
      "The test feature is normalized\n",
      "Validation Results\n",
      "mAP: 61.7%\n",
      "CMC curve, Rank-1  :83.5%\n",
      "CMC curve, Rank-2  :88.6%\n",
      "CMC curve, Rank-4  :92.5%\n",
      "CMC curve, Rank-6  :94.2%\n",
      "CMC curve, Rank-8  :95.4%\n",
      "CMC curve, Rank-10 :96.2%\n",
      "CMC curve, Rank-12 :96.6%\n",
      "CMC curve, Rank-14 :96.9%\n",
      "CMC curve, Rank-16 :97.3%\n",
      "CMC curve, Rank-18 :97.5%\n",
      "CMC curve, Rank-20 :97.6%\n",
      "CMC curve, Rank-22 :97.7%\n",
      "CMC curve, Rank-24 :97.8%\n",
      "CMC curve, Rank-26 :98.0%\n",
      "CMC curve, Rank-28 :98.1%\n",
      "CMC curve, Rank-30 :98.2%\n",
      "CMC curve, Rank-32 :98.3%\n"
     ]
    },
    {
     "name": "stderr",
     "output_type": "stream",
     "text": [
      "Train Epoch: 48 [259/259 (100%)] Loss: 0.040159: : 259it [01:25,  3.03it/s]"
     ]
    },
    {
     "name": "stdout",
     "output_type": "stream",
     "text": [
      "Enter inferencing\n",
      "Create evaluator\n"
     ]
    },
    {
     "name": "stderr",
     "output_type": "stream",
     "text": [
      "\n"
     ]
    },
    {
     "name": "stdout",
     "output_type": "stream",
     "text": [
      "The test feature is normalized\n",
      "Validation Results\n",
      "mAP: 61.8%\n",
      "CMC curve, Rank-1  :83.4%\n",
      "CMC curve, Rank-2  :88.7%\n",
      "CMC curve, Rank-4  :92.7%\n",
      "CMC curve, Rank-6  :94.4%\n",
      "CMC curve, Rank-8  :95.5%\n",
      "CMC curve, Rank-10 :96.2%\n",
      "CMC curve, Rank-12 :96.8%\n",
      "CMC curve, Rank-14 :97.1%\n",
      "CMC curve, Rank-16 :97.2%\n",
      "CMC curve, Rank-18 :97.5%\n",
      "CMC curve, Rank-20 :97.6%\n",
      "CMC curve, Rank-22 :97.8%\n",
      "CMC curve, Rank-24 :98.0%\n",
      "CMC curve, Rank-26 :98.1%\n",
      "CMC curve, Rank-28 :98.2%\n",
      "CMC curve, Rank-30 :98.2%\n",
      "CMC curve, Rank-32 :98.3%\n"
     ]
    },
    {
     "name": "stderr",
     "output_type": "stream",
     "text": [
      "Train Epoch: 49 [259/259 (100%)] Loss: 0.032666: : 259it [01:26,  3.01it/s]"
     ]
    },
    {
     "name": "stdout",
     "output_type": "stream",
     "text": [
      "Enter inferencing\n",
      "Create evaluator\n"
     ]
    },
    {
     "name": "stderr",
     "output_type": "stream",
     "text": [
      "\n"
     ]
    },
    {
     "name": "stdout",
     "output_type": "stream",
     "text": [
      "The test feature is normalized\n",
      "Validation Results\n",
      "mAP: 61.8%\n",
      "CMC curve, Rank-1  :83.2%\n",
      "CMC curve, Rank-2  :88.6%\n",
      "CMC curve, Rank-4  :92.5%\n",
      "CMC curve, Rank-6  :94.3%\n",
      "CMC curve, Rank-8  :95.4%\n",
      "CMC curve, Rank-10 :96.3%\n",
      "CMC curve, Rank-12 :96.8%\n",
      "CMC curve, Rank-14 :97.0%\n",
      "CMC curve, Rank-16 :97.3%\n",
      "CMC curve, Rank-18 :97.4%\n",
      "CMC curve, Rank-20 :97.6%\n",
      "CMC curve, Rank-22 :97.7%\n",
      "CMC curve, Rank-24 :97.9%\n",
      "CMC curve, Rank-26 :98.0%\n",
      "CMC curve, Rank-28 :98.1%\n",
      "CMC curve, Rank-30 :98.2%\n",
      "CMC curve, Rank-32 :98.3%\n"
     ]
    },
    {
     "name": "stderr",
     "output_type": "stream",
     "text": [
      "Train Epoch: 50 [259/259 (100%)] Loss: 0.038663: : 259it [01:25,  3.04it/s]"
     ]
    },
    {
     "name": "stdout",
     "output_type": "stream",
     "text": [
      "Enter inferencing\n",
      "Create evaluator\n"
     ]
    },
    {
     "name": "stderr",
     "output_type": "stream",
     "text": [
      "\n"
     ]
    },
    {
     "name": "stdout",
     "output_type": "stream",
     "text": [
      "The test feature is normalized\n",
      "Validation Results\n",
      "mAP: 62.0%\n",
      "CMC curve, Rank-1  :83.6%\n",
      "CMC curve, Rank-2  :88.7%\n",
      "CMC curve, Rank-4  :92.7%\n",
      "CMC curve, Rank-6  :94.5%\n",
      "CMC curve, Rank-8  :95.6%\n",
      "CMC curve, Rank-10 :96.2%\n",
      "CMC curve, Rank-12 :96.7%\n",
      "CMC curve, Rank-14 :97.0%\n",
      "CMC curve, Rank-16 :97.3%\n",
      "CMC curve, Rank-18 :97.4%\n",
      "CMC curve, Rank-20 :97.7%\n",
      "CMC curve, Rank-22 :97.9%\n",
      "CMC curve, Rank-24 :98.0%\n",
      "CMC curve, Rank-26 :98.1%\n",
      "CMC curve, Rank-28 :98.2%\n",
      "CMC curve, Rank-30 :98.4%\n",
      "CMC curve, Rank-32 :98.5%\n"
     ]
    },
    {
     "name": "stderr",
     "output_type": "stream",
     "text": [
      "Train Epoch: 51 [259/259 (100%)] Loss: 0.086574: : 259it [01:22,  3.12it/s]"
     ]
    },
    {
     "name": "stdout",
     "output_type": "stream",
     "text": [
      "Enter inferencing\n",
      "Create evaluator\n"
     ]
    },
    {
     "name": "stderr",
     "output_type": "stream",
     "text": [
      "\n"
     ]
    },
    {
     "name": "stdout",
     "output_type": "stream",
     "text": [
      "The test feature is normalized\n",
      "Validation Results\n",
      "mAP: 62.0%\n",
      "CMC curve, Rank-1  :83.5%\n",
      "CMC curve, Rank-2  :88.7%\n",
      "CMC curve, Rank-4  :92.5%\n",
      "CMC curve, Rank-6  :94.5%\n",
      "CMC curve, Rank-8  :95.4%\n",
      "CMC curve, Rank-10 :96.1%\n",
      "CMC curve, Rank-12 :96.7%\n",
      "CMC curve, Rank-14 :97.0%\n",
      "CMC curve, Rank-16 :97.3%\n",
      "CMC curve, Rank-18 :97.4%\n",
      "CMC curve, Rank-20 :97.6%\n",
      "CMC curve, Rank-22 :97.7%\n",
      "CMC curve, Rank-24 :97.9%\n",
      "CMC curve, Rank-26 :98.1%\n",
      "CMC curve, Rank-28 :98.3%\n",
      "CMC curve, Rank-30 :98.4%\n",
      "CMC curve, Rank-32 :98.5%\n"
     ]
    },
    {
     "name": "stderr",
     "output_type": "stream",
     "text": [
      "Train Epoch: 52 [259/259 (100%)] Loss: 0.051374: : 259it [01:22,  3.13it/s]"
     ]
    },
    {
     "name": "stdout",
     "output_type": "stream",
     "text": [
      "Enter inferencing\n",
      "Create evaluator\n"
     ]
    },
    {
     "name": "stderr",
     "output_type": "stream",
     "text": [
      "\n"
     ]
    },
    {
     "name": "stdout",
     "output_type": "stream",
     "text": [
      "The test feature is normalized\n",
      "Validation Results\n",
      "mAP: 62.1%\n",
      "CMC curve, Rank-1  :83.6%\n",
      "CMC curve, Rank-2  :88.8%\n",
      "CMC curve, Rank-4  :92.6%\n",
      "CMC curve, Rank-6  :94.1%\n",
      "CMC curve, Rank-8  :95.6%\n",
      "CMC curve, Rank-10 :96.3%\n",
      "CMC curve, Rank-12 :96.7%\n",
      "CMC curve, Rank-14 :97.0%\n",
      "CMC curve, Rank-16 :97.3%\n",
      "CMC curve, Rank-18 :97.6%\n",
      "CMC curve, Rank-20 :97.8%\n",
      "CMC curve, Rank-22 :97.9%\n",
      "CMC curve, Rank-24 :98.0%\n",
      "CMC curve, Rank-26 :98.1%\n",
      "CMC curve, Rank-28 :98.2%\n",
      "CMC curve, Rank-30 :98.3%\n",
      "CMC curve, Rank-32 :98.4%\n"
     ]
    },
    {
     "name": "stderr",
     "output_type": "stream",
     "text": [
      "Train Epoch: 53 [259/259 (100%)] Loss: 0.044063: : 259it [01:22,  3.12it/s]"
     ]
    },
    {
     "name": "stdout",
     "output_type": "stream",
     "text": [
      "Enter inferencing\n",
      "Create evaluator\n"
     ]
    },
    {
     "name": "stderr",
     "output_type": "stream",
     "text": [
      "\n"
     ]
    },
    {
     "name": "stdout",
     "output_type": "stream",
     "text": [
      "The test feature is normalized\n",
      "Validation Results\n",
      "mAP: 62.0%\n",
      "CMC curve, Rank-1  :83.9%\n",
      "CMC curve, Rank-2  :89.0%\n",
      "CMC curve, Rank-4  :92.5%\n",
      "CMC curve, Rank-6  :94.3%\n",
      "CMC curve, Rank-8  :95.5%\n",
      "CMC curve, Rank-10 :96.4%\n",
      "CMC curve, Rank-12 :96.7%\n",
      "CMC curve, Rank-14 :97.0%\n",
      "CMC curve, Rank-16 :97.3%\n",
      "CMC curve, Rank-18 :97.5%\n",
      "CMC curve, Rank-20 :97.6%\n",
      "CMC curve, Rank-22 :97.8%\n",
      "CMC curve, Rank-24 :97.9%\n",
      "CMC curve, Rank-26 :98.0%\n",
      "CMC curve, Rank-28 :98.1%\n",
      "CMC curve, Rank-30 :98.3%\n",
      "CMC curve, Rank-32 :98.4%\n"
     ]
    },
    {
     "name": "stderr",
     "output_type": "stream",
     "text": [
      "Train Epoch: 54 [259/259 (100%)] Loss: 0.046960: : 259it [01:22,  3.13it/s]"
     ]
    },
    {
     "name": "stdout",
     "output_type": "stream",
     "text": [
      "Enter inferencing\n",
      "Create evaluator\n"
     ]
    },
    {
     "name": "stderr",
     "output_type": "stream",
     "text": [
      "\n"
     ]
    },
    {
     "name": "stdout",
     "output_type": "stream",
     "text": [
      "The test feature is normalized\n",
      "Validation Results\n",
      "mAP: 61.9%\n",
      "CMC curve, Rank-1  :83.5%\n",
      "CMC curve, Rank-2  :88.6%\n",
      "CMC curve, Rank-4  :92.5%\n",
      "CMC curve, Rank-6  :94.4%\n",
      "CMC curve, Rank-8  :95.4%\n",
      "CMC curve, Rank-10 :96.2%\n",
      "CMC curve, Rank-12 :96.8%\n",
      "CMC curve, Rank-14 :97.0%\n",
      "CMC curve, Rank-16 :97.3%\n",
      "CMC curve, Rank-18 :97.4%\n",
      "CMC curve, Rank-20 :97.6%\n",
      "CMC curve, Rank-22 :97.7%\n",
      "CMC curve, Rank-24 :97.9%\n",
      "CMC curve, Rank-26 :98.0%\n",
      "CMC curve, Rank-28 :98.2%\n",
      "CMC curve, Rank-30 :98.4%\n",
      "CMC curve, Rank-32 :98.4%\n"
     ]
    },
    {
     "name": "stderr",
     "output_type": "stream",
     "text": [
      "Train Epoch: 55 [259/259 (100%)] Loss: 0.035695: : 259it [01:22,  3.12it/s]"
     ]
    },
    {
     "name": "stdout",
     "output_type": "stream",
     "text": [
      "Enter inferencing\n",
      "Create evaluator\n"
     ]
    },
    {
     "name": "stderr",
     "output_type": "stream",
     "text": [
      "\n"
     ]
    },
    {
     "name": "stdout",
     "output_type": "stream",
     "text": [
      "The test feature is normalized\n",
      "Validation Results\n",
      "mAP: 62.2%\n",
      "CMC curve, Rank-1  :83.5%\n",
      "CMC curve, Rank-2  :88.8%\n",
      "CMC curve, Rank-4  :92.8%\n",
      "CMC curve, Rank-6  :94.4%\n",
      "CMC curve, Rank-8  :95.5%\n",
      "CMC curve, Rank-10 :96.1%\n",
      "CMC curve, Rank-12 :96.7%\n",
      "CMC curve, Rank-14 :97.1%\n",
      "CMC curve, Rank-16 :97.2%\n",
      "CMC curve, Rank-18 :97.4%\n",
      "CMC curve, Rank-20 :97.6%\n",
      "CMC curve, Rank-22 :97.7%\n",
      "CMC curve, Rank-24 :98.0%\n",
      "CMC curve, Rank-26 :98.1%\n",
      "CMC curve, Rank-28 :98.3%\n",
      "CMC curve, Rank-30 :98.4%\n",
      "CMC curve, Rank-32 :98.4%\n"
     ]
    },
    {
     "name": "stderr",
     "output_type": "stream",
     "text": [
      "Train Epoch: 56 [259/259 (100%)] Loss: 0.081129: : 259it [01:22,  3.12it/s]"
     ]
    },
    {
     "name": "stdout",
     "output_type": "stream",
     "text": [
      "Enter inferencing\n",
      "Create evaluator\n"
     ]
    },
    {
     "name": "stderr",
     "output_type": "stream",
     "text": [
      "\n"
     ]
    },
    {
     "name": "stdout",
     "output_type": "stream",
     "text": [
      "The test feature is normalized\n",
      "Validation Results\n",
      "mAP: 62.2%\n",
      "CMC curve, Rank-1  :84.0%\n",
      "CMC curve, Rank-2  :88.8%\n",
      "CMC curve, Rank-4  :92.8%\n",
      "CMC curve, Rank-6  :94.3%\n",
      "CMC curve, Rank-8  :95.5%\n",
      "CMC curve, Rank-10 :96.3%\n",
      "CMC curve, Rank-12 :96.9%\n",
      "CMC curve, Rank-14 :97.1%\n",
      "CMC curve, Rank-16 :97.3%\n",
      "CMC curve, Rank-18 :97.5%\n",
      "CMC curve, Rank-20 :97.6%\n",
      "CMC curve, Rank-22 :97.7%\n",
      "CMC curve, Rank-24 :97.9%\n",
      "CMC curve, Rank-26 :98.0%\n",
      "CMC curve, Rank-28 :98.2%\n",
      "CMC curve, Rank-30 :98.3%\n",
      "CMC curve, Rank-32 :98.4%\n"
     ]
    },
    {
     "name": "stderr",
     "output_type": "stream",
     "text": [
      "Train Epoch: 57 [259/259 (100%)] Loss: 0.029995: : 259it [01:22,  3.13it/s]"
     ]
    },
    {
     "name": "stdout",
     "output_type": "stream",
     "text": [
      "Enter inferencing\n",
      "Create evaluator\n"
     ]
    },
    {
     "name": "stderr",
     "output_type": "stream",
     "text": [
      "\n"
     ]
    },
    {
     "name": "stdout",
     "output_type": "stream",
     "text": [
      "The test feature is normalized\n",
      "Validation Results\n",
      "mAP: 62.3%\n",
      "CMC curve, Rank-1  :83.8%\n",
      "CMC curve, Rank-2  :88.8%\n",
      "CMC curve, Rank-4  :92.5%\n",
      "CMC curve, Rank-6  :94.3%\n",
      "CMC curve, Rank-8  :95.6%\n",
      "CMC curve, Rank-10 :96.2%\n",
      "CMC curve, Rank-12 :96.7%\n",
      "CMC curve, Rank-14 :97.1%\n",
      "CMC curve, Rank-16 :97.4%\n",
      "CMC curve, Rank-18 :97.6%\n",
      "CMC curve, Rank-20 :97.7%\n",
      "CMC curve, Rank-22 :97.8%\n",
      "CMC curve, Rank-24 :98.0%\n",
      "CMC curve, Rank-26 :98.1%\n",
      "CMC curve, Rank-28 :98.2%\n",
      "CMC curve, Rank-30 :98.2%\n",
      "CMC curve, Rank-32 :98.4%\n"
     ]
    },
    {
     "name": "stderr",
     "output_type": "stream",
     "text": [
      "Train Epoch: 58 [259/259 (100%)] Loss: 0.030035: : 259it [01:22,  3.13it/s]"
     ]
    },
    {
     "name": "stdout",
     "output_type": "stream",
     "text": [
      "Enter inferencing\n",
      "Create evaluator\n"
     ]
    },
    {
     "name": "stderr",
     "output_type": "stream",
     "text": [
      "\n"
     ]
    },
    {
     "name": "stdout",
     "output_type": "stream",
     "text": [
      "The test feature is normalized\n",
      "Validation Results\n",
      "mAP: 62.2%\n",
      "CMC curve, Rank-1  :83.5%\n",
      "CMC curve, Rank-2  :88.8%\n",
      "CMC curve, Rank-4  :92.8%\n",
      "CMC curve, Rank-6  :94.4%\n",
      "CMC curve, Rank-8  :95.8%\n",
      "CMC curve, Rank-10 :96.2%\n",
      "CMC curve, Rank-12 :96.8%\n",
      "CMC curve, Rank-14 :97.1%\n",
      "CMC curve, Rank-16 :97.3%\n",
      "CMC curve, Rank-18 :97.5%\n",
      "CMC curve, Rank-20 :97.8%\n",
      "CMC curve, Rank-22 :97.8%\n",
      "CMC curve, Rank-24 :98.0%\n",
      "CMC curve, Rank-26 :98.1%\n",
      "CMC curve, Rank-28 :98.2%\n",
      "CMC curve, Rank-30 :98.4%\n",
      "CMC curve, Rank-32 :98.5%\n"
     ]
    },
    {
     "name": "stderr",
     "output_type": "stream",
     "text": [
      "Train Epoch: 59 [259/259 (100%)] Loss: 0.049328: : 259it [01:22,  3.13it/s]"
     ]
    },
    {
     "name": "stdout",
     "output_type": "stream",
     "text": [
      "Enter inferencing\n",
      "Create evaluator\n"
     ]
    },
    {
     "name": "stderr",
     "output_type": "stream",
     "text": [
      "\n"
     ]
    },
    {
     "name": "stdout",
     "output_type": "stream",
     "text": [
      "The test feature is normalized\n",
      "Validation Results\n",
      "mAP: 62.4%\n",
      "CMC curve, Rank-1  :84.1%\n",
      "CMC curve, Rank-2  :89.0%\n",
      "CMC curve, Rank-4  :92.7%\n",
      "CMC curve, Rank-6  :94.4%\n",
      "CMC curve, Rank-8  :95.7%\n",
      "CMC curve, Rank-10 :96.2%\n",
      "CMC curve, Rank-12 :96.6%\n",
      "CMC curve, Rank-14 :97.2%\n",
      "CMC curve, Rank-16 :97.4%\n",
      "CMC curve, Rank-18 :97.6%\n",
      "CMC curve, Rank-20 :97.7%\n",
      "CMC curve, Rank-22 :97.9%\n",
      "CMC curve, Rank-24 :98.0%\n",
      "CMC curve, Rank-26 :98.1%\n",
      "CMC curve, Rank-28 :98.2%\n",
      "CMC curve, Rank-30 :98.4%\n",
      "CMC curve, Rank-32 :98.4%\n"
     ]
    },
    {
     "name": "stderr",
     "output_type": "stream",
     "text": [
      "Train Epoch: 60 [259/259 (100%)] Loss: 0.038956: : 259it [01:24,  3.06it/s]"
     ]
    },
    {
     "name": "stdout",
     "output_type": "stream",
     "text": [
      "Enter inferencing\n",
      "Create evaluator\n"
     ]
    },
    {
     "name": "stderr",
     "output_type": "stream",
     "text": [
      "\n"
     ]
    },
    {
     "name": "stdout",
     "output_type": "stream",
     "text": [
      "The test feature is normalized\n",
      "Validation Results\n",
      "mAP: 62.3%\n",
      "CMC curve, Rank-1  :84.1%\n",
      "CMC curve, Rank-2  :89.0%\n",
      "CMC curve, Rank-4  :92.8%\n",
      "CMC curve, Rank-6  :94.5%\n",
      "CMC curve, Rank-8  :95.6%\n",
      "CMC curve, Rank-10 :96.3%\n",
      "CMC curve, Rank-12 :96.8%\n",
      "CMC curve, Rank-14 :97.1%\n",
      "CMC curve, Rank-16 :97.3%\n",
      "CMC curve, Rank-18 :97.5%\n",
      "CMC curve, Rank-20 :97.7%\n",
      "CMC curve, Rank-22 :97.9%\n",
      "CMC curve, Rank-24 :98.0%\n",
      "CMC curve, Rank-26 :98.1%\n",
      "CMC curve, Rank-28 :98.3%\n",
      "CMC curve, Rank-30 :98.4%\n",
      "CMC curve, Rank-32 :98.5%\n"
     ]
    },
    {
     "name": "stderr",
     "output_type": "stream",
     "text": [
      "Train Epoch: 61 [259/259 (100%)] Loss: 0.045893: : 259it [01:24,  3.05it/s]"
     ]
    },
    {
     "name": "stdout",
     "output_type": "stream",
     "text": [
      "Enter inferencing\n",
      "Create evaluator\n"
     ]
    },
    {
     "name": "stderr",
     "output_type": "stream",
     "text": [
      "\n"
     ]
    },
    {
     "name": "stdout",
     "output_type": "stream",
     "text": [
      "The test feature is normalized\n",
      "Validation Results\n",
      "mAP: 62.3%\n",
      "CMC curve, Rank-1  :84.0%\n",
      "CMC curve, Rank-2  :88.9%\n",
      "CMC curve, Rank-4  :92.5%\n",
      "CMC curve, Rank-6  :94.4%\n",
      "CMC curve, Rank-8  :95.5%\n",
      "CMC curve, Rank-10 :96.3%\n",
      "CMC curve, Rank-12 :96.7%\n",
      "CMC curve, Rank-14 :97.1%\n",
      "CMC curve, Rank-16 :97.4%\n",
      "CMC curve, Rank-18 :97.6%\n",
      "CMC curve, Rank-20 :97.8%\n",
      "CMC curve, Rank-22 :97.9%\n",
      "CMC curve, Rank-24 :98.0%\n",
      "CMC curve, Rank-26 :98.1%\n",
      "CMC curve, Rank-28 :98.2%\n",
      "CMC curve, Rank-30 :98.4%\n",
      "CMC curve, Rank-32 :98.5%\n"
     ]
    },
    {
     "name": "stderr",
     "output_type": "stream",
     "text": [
      "Train Epoch: 62 [259/259 (100%)] Loss: 0.067205: : 259it [01:25,  3.03it/s]"
     ]
    },
    {
     "name": "stdout",
     "output_type": "stream",
     "text": [
      "Enter inferencing\n",
      "Create evaluator\n"
     ]
    },
    {
     "name": "stderr",
     "output_type": "stream",
     "text": [
      "\n"
     ]
    },
    {
     "name": "stdout",
     "output_type": "stream",
     "text": [
      "The test feature is normalized\n",
      "Validation Results\n",
      "mAP: 62.4%\n",
      "CMC curve, Rank-1  :83.8%\n",
      "CMC curve, Rank-2  :88.8%\n",
      "CMC curve, Rank-4  :92.7%\n",
      "CMC curve, Rank-6  :94.5%\n",
      "CMC curve, Rank-8  :95.5%\n",
      "CMC curve, Rank-10 :96.3%\n",
      "CMC curve, Rank-12 :96.9%\n",
      "CMC curve, Rank-14 :97.2%\n",
      "CMC curve, Rank-16 :97.4%\n",
      "CMC curve, Rank-18 :97.7%\n",
      "CMC curve, Rank-20 :97.8%\n",
      "CMC curve, Rank-22 :97.9%\n",
      "CMC curve, Rank-24 :98.0%\n",
      "CMC curve, Rank-26 :98.1%\n",
      "CMC curve, Rank-28 :98.3%\n",
      "CMC curve, Rank-30 :98.5%\n",
      "CMC curve, Rank-32 :98.5%\n"
     ]
    },
    {
     "name": "stderr",
     "output_type": "stream",
     "text": [
      "Train Epoch: 63 [259/259 (100%)] Loss: 0.105202: : 259it [01:23,  3.09it/s]"
     ]
    },
    {
     "name": "stdout",
     "output_type": "stream",
     "text": [
      "Enter inferencing\n",
      "Create evaluator\n"
     ]
    },
    {
     "name": "stderr",
     "output_type": "stream",
     "text": [
      "\n"
     ]
    },
    {
     "name": "stdout",
     "output_type": "stream",
     "text": [
      "The test feature is normalized\n",
      "Validation Results\n",
      "mAP: 62.4%\n",
      "CMC curve, Rank-1  :83.9%\n",
      "CMC curve, Rank-2  :88.9%\n",
      "CMC curve, Rank-4  :92.8%\n",
      "CMC curve, Rank-6  :94.6%\n",
      "CMC curve, Rank-8  :95.7%\n",
      "CMC curve, Rank-10 :96.3%\n",
      "CMC curve, Rank-12 :96.8%\n",
      "CMC curve, Rank-14 :97.2%\n",
      "CMC curve, Rank-16 :97.4%\n",
      "CMC curve, Rank-18 :97.5%\n",
      "CMC curve, Rank-20 :97.7%\n",
      "CMC curve, Rank-22 :97.8%\n",
      "CMC curve, Rank-24 :98.0%\n",
      "CMC curve, Rank-26 :98.1%\n",
      "CMC curve, Rank-28 :98.3%\n",
      "CMC curve, Rank-30 :98.4%\n",
      "CMC curve, Rank-32 :98.4%\n"
     ]
    },
    {
     "name": "stderr",
     "output_type": "stream",
     "text": [
      "Train Epoch: 64 [259/259 (100%)] Loss: 0.035240: : 259it [01:24,  3.06it/s]"
     ]
    },
    {
     "name": "stdout",
     "output_type": "stream",
     "text": [
      "Enter inferencing\n",
      "Create evaluator\n"
     ]
    },
    {
     "name": "stderr",
     "output_type": "stream",
     "text": [
      "\n"
     ]
    },
    {
     "name": "stdout",
     "output_type": "stream",
     "text": [
      "The test feature is normalized\n",
      "Validation Results\n",
      "mAP: 62.4%\n",
      "CMC curve, Rank-1  :84.0%\n",
      "CMC curve, Rank-2  :88.8%\n",
      "CMC curve, Rank-4  :92.8%\n",
      "CMC curve, Rank-6  :94.4%\n",
      "CMC curve, Rank-8  :95.5%\n",
      "CMC curve, Rank-10 :96.2%\n",
      "CMC curve, Rank-12 :96.7%\n",
      "CMC curve, Rank-14 :97.2%\n",
      "CMC curve, Rank-16 :97.5%\n",
      "CMC curve, Rank-18 :97.7%\n",
      "CMC curve, Rank-20 :97.7%\n",
      "CMC curve, Rank-22 :97.8%\n",
      "CMC curve, Rank-24 :97.9%\n",
      "CMC curve, Rank-26 :98.1%\n",
      "CMC curve, Rank-28 :98.2%\n",
      "CMC curve, Rank-30 :98.3%\n",
      "CMC curve, Rank-32 :98.4%\n"
     ]
    },
    {
     "name": "stderr",
     "output_type": "stream",
     "text": [
      "Train Epoch: 65 [259/259 (100%)] Loss: 0.037797: : 259it [01:23,  3.09it/s]"
     ]
    },
    {
     "name": "stdout",
     "output_type": "stream",
     "text": [
      "Enter inferencing\n",
      "Create evaluator\n"
     ]
    },
    {
     "name": "stderr",
     "output_type": "stream",
     "text": [
      "\n"
     ]
    },
    {
     "name": "stdout",
     "output_type": "stream",
     "text": [
      "The test feature is normalized\n",
      "Validation Results\n",
      "mAP: 62.4%\n",
      "CMC curve, Rank-1  :83.9%\n",
      "CMC curve, Rank-2  :89.0%\n",
      "CMC curve, Rank-4  :92.7%\n",
      "CMC curve, Rank-6  :94.5%\n",
      "CMC curve, Rank-8  :95.5%\n",
      "CMC curve, Rank-10 :96.3%\n",
      "CMC curve, Rank-12 :96.6%\n",
      "CMC curve, Rank-14 :97.0%\n",
      "CMC curve, Rank-16 :97.3%\n",
      "CMC curve, Rank-18 :97.6%\n",
      "CMC curve, Rank-20 :97.7%\n",
      "CMC curve, Rank-22 :97.9%\n",
      "CMC curve, Rank-24 :97.9%\n",
      "CMC curve, Rank-26 :98.0%\n",
      "CMC curve, Rank-28 :98.3%\n",
      "CMC curve, Rank-30 :98.4%\n",
      "CMC curve, Rank-32 :98.5%\n"
     ]
    },
    {
     "name": "stderr",
     "output_type": "stream",
     "text": [
      "Train Epoch: 66 [259/259 (100%)] Loss: 0.060222: : 259it [01:22,  3.13it/s]"
     ]
    },
    {
     "name": "stdout",
     "output_type": "stream",
     "text": [
      "Enter inferencing\n",
      "Create evaluator\n"
     ]
    },
    {
     "name": "stderr",
     "output_type": "stream",
     "text": [
      "\n"
     ]
    },
    {
     "name": "stdout",
     "output_type": "stream",
     "text": [
      "The test feature is normalized\n",
      "Validation Results\n",
      "mAP: 62.3%\n",
      "CMC curve, Rank-1  :83.8%\n",
      "CMC curve, Rank-2  :88.8%\n",
      "CMC curve, Rank-4  :92.7%\n",
      "CMC curve, Rank-6  :94.4%\n",
      "CMC curve, Rank-8  :95.5%\n",
      "CMC curve, Rank-10 :96.1%\n",
      "CMC curve, Rank-12 :96.8%\n",
      "CMC curve, Rank-14 :97.1%\n",
      "CMC curve, Rank-16 :97.4%\n",
      "CMC curve, Rank-18 :97.6%\n",
      "CMC curve, Rank-20 :97.7%\n",
      "CMC curve, Rank-22 :97.9%\n",
      "CMC curve, Rank-24 :98.0%\n",
      "CMC curve, Rank-26 :98.2%\n",
      "CMC curve, Rank-28 :98.3%\n",
      "CMC curve, Rank-30 :98.4%\n",
      "CMC curve, Rank-32 :98.5%\n"
     ]
    },
    {
     "name": "stderr",
     "output_type": "stream",
     "text": [
      "Train Epoch: 67 [259/259 (100%)] Loss: 0.031946: : 259it [01:22,  3.13it/s]"
     ]
    },
    {
     "name": "stdout",
     "output_type": "stream",
     "text": [
      "Enter inferencing\n",
      "Create evaluator\n"
     ]
    },
    {
     "name": "stderr",
     "output_type": "stream",
     "text": [
      "\n"
     ]
    },
    {
     "name": "stdout",
     "output_type": "stream",
     "text": [
      "The test feature is normalized\n",
      "Validation Results\n",
      "mAP: 62.5%\n",
      "CMC curve, Rank-1  :84.0%\n",
      "CMC curve, Rank-2  :89.0%\n",
      "CMC curve, Rank-4  :92.7%\n",
      "CMC curve, Rank-6  :94.5%\n",
      "CMC curve, Rank-8  :95.6%\n",
      "CMC curve, Rank-10 :96.3%\n",
      "CMC curve, Rank-12 :96.8%\n",
      "CMC curve, Rank-14 :97.1%\n",
      "CMC curve, Rank-16 :97.4%\n",
      "CMC curve, Rank-18 :97.6%\n",
      "CMC curve, Rank-20 :97.8%\n",
      "CMC curve, Rank-22 :97.9%\n",
      "CMC curve, Rank-24 :98.1%\n",
      "CMC curve, Rank-26 :98.2%\n",
      "CMC curve, Rank-28 :98.3%\n",
      "CMC curve, Rank-30 :98.3%\n",
      "CMC curve, Rank-32 :98.4%\n"
     ]
    },
    {
     "name": "stderr",
     "output_type": "stream",
     "text": [
      "Train Epoch: 68 [259/259 (100%)] Loss: 0.044880: : 259it [01:22,  3.13it/s]"
     ]
    },
    {
     "name": "stdout",
     "output_type": "stream",
     "text": [
      "Enter inferencing\n",
      "Create evaluator\n"
     ]
    },
    {
     "name": "stderr",
     "output_type": "stream",
     "text": [
      "\n"
     ]
    },
    {
     "name": "stdout",
     "output_type": "stream",
     "text": [
      "The test feature is normalized\n",
      "Validation Results\n",
      "mAP: 62.4%\n",
      "CMC curve, Rank-1  :83.8%\n",
      "CMC curve, Rank-2  :88.8%\n",
      "CMC curve, Rank-4  :92.8%\n",
      "CMC curve, Rank-6  :94.3%\n",
      "CMC curve, Rank-8  :95.5%\n",
      "CMC curve, Rank-10 :96.2%\n",
      "CMC curve, Rank-12 :96.8%\n",
      "CMC curve, Rank-14 :97.3%\n",
      "CMC curve, Rank-16 :97.4%\n",
      "CMC curve, Rank-18 :97.6%\n",
      "CMC curve, Rank-20 :97.7%\n",
      "CMC curve, Rank-22 :97.9%\n",
      "CMC curve, Rank-24 :98.0%\n",
      "CMC curve, Rank-26 :98.1%\n",
      "CMC curve, Rank-28 :98.2%\n",
      "CMC curve, Rank-30 :98.3%\n",
      "CMC curve, Rank-32 :98.5%\n"
     ]
    },
    {
     "name": "stderr",
     "output_type": "stream",
     "text": [
      "Train Epoch: 69 [259/259 (100%)] Loss: 0.038716: : 259it [01:25,  3.04it/s]"
     ]
    },
    {
     "name": "stdout",
     "output_type": "stream",
     "text": [
      "Enter inferencing\n",
      "Create evaluator\n"
     ]
    },
    {
     "name": "stderr",
     "output_type": "stream",
     "text": [
      "\n"
     ]
    },
    {
     "name": "stdout",
     "output_type": "stream",
     "text": [
      "The test feature is normalized\n",
      "Validation Results\n",
      "mAP: 62.4%\n",
      "CMC curve, Rank-1  :84.1%\n",
      "CMC curve, Rank-2  :88.9%\n",
      "CMC curve, Rank-4  :92.6%\n",
      "CMC curve, Rank-6  :94.5%\n",
      "CMC curve, Rank-8  :95.7%\n",
      "CMC curve, Rank-10 :96.2%\n",
      "CMC curve, Rank-12 :96.8%\n",
      "CMC curve, Rank-14 :97.1%\n",
      "CMC curve, Rank-16 :97.4%\n",
      "CMC curve, Rank-18 :97.5%\n",
      "CMC curve, Rank-20 :97.7%\n",
      "CMC curve, Rank-22 :97.9%\n",
      "CMC curve, Rank-24 :98.0%\n",
      "CMC curve, Rank-26 :98.2%\n",
      "CMC curve, Rank-28 :98.2%\n",
      "CMC curve, Rank-30 :98.3%\n",
      "CMC curve, Rank-32 :98.3%\n"
     ]
    },
    {
     "name": "stderr",
     "output_type": "stream",
     "text": [
      "Train Epoch: 70 [259/259 (100%)] Loss: 0.046655: : 259it [01:23,  3.08it/s]"
     ]
    },
    {
     "name": "stdout",
     "output_type": "stream",
     "text": [
      "Enter inferencing\n",
      "Create evaluator\n"
     ]
    },
    {
     "name": "stderr",
     "output_type": "stream",
     "text": [
      "\n"
     ]
    },
    {
     "name": "stdout",
     "output_type": "stream",
     "text": [
      "The test feature is normalized\n",
      "Validation Results\n",
      "mAP: 62.4%\n",
      "CMC curve, Rank-1  :83.8%\n",
      "CMC curve, Rank-2  :88.9%\n",
      "CMC curve, Rank-4  :92.5%\n",
      "CMC curve, Rank-6  :94.7%\n",
      "CMC curve, Rank-8  :95.6%\n",
      "CMC curve, Rank-10 :96.3%\n",
      "CMC curve, Rank-12 :96.8%\n",
      "CMC curve, Rank-14 :97.2%\n",
      "CMC curve, Rank-16 :97.5%\n",
      "CMC curve, Rank-18 :97.7%\n",
      "CMC curve, Rank-20 :97.9%\n",
      "CMC curve, Rank-22 :98.0%\n",
      "CMC curve, Rank-24 :98.1%\n",
      "CMC curve, Rank-26 :98.2%\n",
      "CMC curve, Rank-28 :98.2%\n",
      "CMC curve, Rank-30 :98.3%\n",
      "CMC curve, Rank-32 :98.4%\n"
     ]
    },
    {
     "name": "stderr",
     "output_type": "stream",
     "text": [
      "Train Epoch: 71 [259/259 (100%)] Loss: 0.072537: : 259it [01:22,  3.13it/s]"
     ]
    },
    {
     "name": "stdout",
     "output_type": "stream",
     "text": [
      "Enter inferencing\n",
      "Create evaluator\n"
     ]
    },
    {
     "name": "stderr",
     "output_type": "stream",
     "text": [
      "\n"
     ]
    },
    {
     "name": "stdout",
     "output_type": "stream",
     "text": [
      "The test feature is normalized\n",
      "Validation Results\n",
      "mAP: 62.5%\n",
      "CMC curve, Rank-1  :84.1%\n",
      "CMC curve, Rank-2  :88.9%\n",
      "CMC curve, Rank-4  :92.7%\n",
      "CMC curve, Rank-6  :94.5%\n",
      "CMC curve, Rank-8  :95.5%\n",
      "CMC curve, Rank-10 :96.2%\n",
      "CMC curve, Rank-12 :96.7%\n",
      "CMC curve, Rank-14 :97.2%\n",
      "CMC curve, Rank-16 :97.4%\n",
      "CMC curve, Rank-18 :97.7%\n",
      "CMC curve, Rank-20 :97.7%\n",
      "CMC curve, Rank-22 :97.8%\n",
      "CMC curve, Rank-24 :98.0%\n",
      "CMC curve, Rank-26 :98.2%\n",
      "CMC curve, Rank-28 :98.2%\n",
      "CMC curve, Rank-30 :98.4%\n",
      "CMC curve, Rank-32 :98.5%\n"
     ]
    },
    {
     "name": "stderr",
     "output_type": "stream",
     "text": [
      "Train Epoch: 72 [259/259 (100%)] Loss: 0.060179: : 259it [01:22,  3.13it/s]"
     ]
    },
    {
     "name": "stdout",
     "output_type": "stream",
     "text": [
      "Enter inferencing\n",
      "Create evaluator\n"
     ]
    },
    {
     "name": "stderr",
     "output_type": "stream",
     "text": [
      "\n"
     ]
    },
    {
     "name": "stdout",
     "output_type": "stream",
     "text": [
      "The test feature is normalized\n",
      "Validation Results\n",
      "mAP: 62.5%\n",
      "CMC curve, Rank-1  :83.9%\n",
      "CMC curve, Rank-2  :88.8%\n",
      "CMC curve, Rank-4  :92.5%\n",
      "CMC curve, Rank-6  :94.4%\n",
      "CMC curve, Rank-8  :95.5%\n",
      "CMC curve, Rank-10 :96.3%\n",
      "CMC curve, Rank-12 :96.9%\n",
      "CMC curve, Rank-14 :97.2%\n",
      "CMC curve, Rank-16 :97.4%\n",
      "CMC curve, Rank-18 :97.6%\n",
      "CMC curve, Rank-20 :97.7%\n",
      "CMC curve, Rank-22 :97.9%\n",
      "CMC curve, Rank-24 :98.0%\n",
      "CMC curve, Rank-26 :98.2%\n",
      "CMC curve, Rank-28 :98.3%\n",
      "CMC curve, Rank-30 :98.4%\n",
      "CMC curve, Rank-32 :98.5%\n"
     ]
    },
    {
     "name": "stderr",
     "output_type": "stream",
     "text": [
      "Train Epoch: 73 [259/259 (100%)] Loss: 0.057950: : 259it [01:22,  3.13it/s]"
     ]
    },
    {
     "name": "stdout",
     "output_type": "stream",
     "text": [
      "Enter inferencing\n",
      "Create evaluator\n"
     ]
    },
    {
     "name": "stderr",
     "output_type": "stream",
     "text": [
      "\n"
     ]
    },
    {
     "name": "stdout",
     "output_type": "stream",
     "text": [
      "The test feature is normalized\n",
      "Validation Results\n",
      "mAP: 62.5%\n",
      "CMC curve, Rank-1  :84.0%\n",
      "CMC curve, Rank-2  :88.7%\n",
      "CMC curve, Rank-4  :92.8%\n",
      "CMC curve, Rank-6  :94.6%\n",
      "CMC curve, Rank-8  :95.6%\n",
      "CMC curve, Rank-10 :96.3%\n",
      "CMC curve, Rank-12 :96.7%\n",
      "CMC curve, Rank-14 :97.1%\n",
      "CMC curve, Rank-16 :97.4%\n",
      "CMC curve, Rank-18 :97.7%\n",
      "CMC curve, Rank-20 :97.8%\n",
      "CMC curve, Rank-22 :98.0%\n",
      "CMC curve, Rank-24 :98.0%\n",
      "CMC curve, Rank-26 :98.2%\n",
      "CMC curve, Rank-28 :98.2%\n",
      "CMC curve, Rank-30 :98.3%\n",
      "CMC curve, Rank-32 :98.5%\n"
     ]
    },
    {
     "name": "stderr",
     "output_type": "stream",
     "text": [
      "Train Epoch: 74 [259/259 (100%)] Loss: 0.024566: : 259it [01:23,  3.10it/s]"
     ]
    },
    {
     "name": "stdout",
     "output_type": "stream",
     "text": [
      "Enter inferencing\n",
      "Create evaluator\n"
     ]
    },
    {
     "name": "stderr",
     "output_type": "stream",
     "text": [
      "\n"
     ]
    },
    {
     "name": "stdout",
     "output_type": "stream",
     "text": [
      "The test feature is normalized\n",
      "Validation Results\n",
      "mAP: 62.5%\n",
      "CMC curve, Rank-1  :83.7%\n",
      "CMC curve, Rank-2  :88.9%\n",
      "CMC curve, Rank-4  :92.7%\n",
      "CMC curve, Rank-6  :94.6%\n",
      "CMC curve, Rank-8  :95.6%\n",
      "CMC curve, Rank-10 :96.5%\n",
      "CMC curve, Rank-12 :96.9%\n",
      "CMC curve, Rank-14 :97.1%\n",
      "CMC curve, Rank-16 :97.4%\n",
      "CMC curve, Rank-18 :97.6%\n",
      "CMC curve, Rank-20 :97.8%\n",
      "CMC curve, Rank-22 :97.9%\n",
      "CMC curve, Rank-24 :98.0%\n",
      "CMC curve, Rank-26 :98.0%\n",
      "CMC curve, Rank-28 :98.1%\n",
      "CMC curve, Rank-30 :98.2%\n",
      "CMC curve, Rank-32 :98.3%\n"
     ]
    },
    {
     "name": "stderr",
     "output_type": "stream",
     "text": [
      "Train Epoch: 75 [259/259 (100%)] Loss: 0.048563: : 259it [01:23,  3.09it/s]"
     ]
    },
    {
     "name": "stdout",
     "output_type": "stream",
     "text": [
      "Enter inferencing\n",
      "Create evaluator\n"
     ]
    },
    {
     "name": "stderr",
     "output_type": "stream",
     "text": [
      "\n"
     ]
    },
    {
     "name": "stdout",
     "output_type": "stream",
     "text": [
      "The test feature is normalized\n",
      "Validation Results\n",
      "mAP: 62.5%\n",
      "CMC curve, Rank-1  :84.0%\n",
      "CMC curve, Rank-2  :88.8%\n",
      "CMC curve, Rank-4  :92.8%\n",
      "CMC curve, Rank-6  :94.6%\n",
      "CMC curve, Rank-8  :95.6%\n",
      "CMC curve, Rank-10 :96.3%\n",
      "CMC curve, Rank-12 :96.8%\n",
      "CMC curve, Rank-14 :97.2%\n",
      "CMC curve, Rank-16 :97.4%\n",
      "CMC curve, Rank-18 :97.7%\n",
      "CMC curve, Rank-20 :97.7%\n",
      "CMC curve, Rank-22 :97.9%\n",
      "CMC curve, Rank-24 :98.0%\n",
      "CMC curve, Rank-26 :98.1%\n",
      "CMC curve, Rank-28 :98.2%\n",
      "CMC curve, Rank-30 :98.4%\n",
      "CMC curve, Rank-32 :98.5%\n"
     ]
    },
    {
     "name": "stderr",
     "output_type": "stream",
     "text": [
      "Train Epoch: 76 [259/259 (100%)] Loss: 0.039233: : 259it [01:24,  3.06it/s]"
     ]
    },
    {
     "name": "stdout",
     "output_type": "stream",
     "text": [
      "Enter inferencing\n",
      "Create evaluator\n"
     ]
    },
    {
     "name": "stderr",
     "output_type": "stream",
     "text": [
      "\n"
     ]
    },
    {
     "name": "stdout",
     "output_type": "stream",
     "text": [
      "The test feature is normalized\n",
      "Validation Results\n",
      "mAP: 62.5%\n",
      "CMC curve, Rank-1  :84.1%\n",
      "CMC curve, Rank-2  :88.9%\n",
      "CMC curve, Rank-4  :92.6%\n",
      "CMC curve, Rank-6  :94.4%\n",
      "CMC curve, Rank-8  :95.5%\n",
      "CMC curve, Rank-10 :96.3%\n",
      "CMC curve, Rank-12 :96.7%\n",
      "CMC curve, Rank-14 :97.1%\n",
      "CMC curve, Rank-16 :97.5%\n",
      "CMC curve, Rank-18 :97.7%\n",
      "CMC curve, Rank-20 :97.8%\n",
      "CMC curve, Rank-22 :98.0%\n",
      "CMC curve, Rank-24 :98.0%\n",
      "CMC curve, Rank-26 :98.1%\n",
      "CMC curve, Rank-28 :98.3%\n",
      "CMC curve, Rank-30 :98.4%\n",
      "CMC curve, Rank-32 :98.4%\n"
     ]
    },
    {
     "name": "stderr",
     "output_type": "stream",
     "text": [
      "Train Epoch: 77 [259/259 (100%)] Loss: 0.035366: : 259it [01:26,  3.00it/s]"
     ]
    },
    {
     "name": "stdout",
     "output_type": "stream",
     "text": [
      "Enter inferencing\n",
      "Create evaluator\n"
     ]
    },
    {
     "name": "stderr",
     "output_type": "stream",
     "text": [
      "\n"
     ]
    },
    {
     "name": "stdout",
     "output_type": "stream",
     "text": [
      "The test feature is normalized\n",
      "Validation Results\n",
      "mAP: 62.4%\n",
      "CMC curve, Rank-1  :84.0%\n",
      "CMC curve, Rank-2  :88.8%\n",
      "CMC curve, Rank-4  :92.6%\n",
      "CMC curve, Rank-6  :94.5%\n",
      "CMC curve, Rank-8  :95.5%\n",
      "CMC curve, Rank-10 :96.3%\n",
      "CMC curve, Rank-12 :96.8%\n",
      "CMC curve, Rank-14 :97.2%\n",
      "CMC curve, Rank-16 :97.4%\n",
      "CMC curve, Rank-18 :97.7%\n",
      "CMC curve, Rank-20 :97.7%\n",
      "CMC curve, Rank-22 :97.9%\n",
      "CMC curve, Rank-24 :98.0%\n",
      "CMC curve, Rank-26 :98.1%\n",
      "CMC curve, Rank-28 :98.3%\n",
      "CMC curve, Rank-30 :98.4%\n",
      "CMC curve, Rank-32 :98.5%\n"
     ]
    },
    {
     "name": "stderr",
     "output_type": "stream",
     "text": [
      "Train Epoch: 78 [259/259 (100%)] Loss: 0.061970: : 259it [01:25,  3.03it/s]"
     ]
    },
    {
     "name": "stdout",
     "output_type": "stream",
     "text": [
      "Enter inferencing\n",
      "Create evaluator\n"
     ]
    },
    {
     "name": "stderr",
     "output_type": "stream",
     "text": [
      "\n"
     ]
    },
    {
     "name": "stdout",
     "output_type": "stream",
     "text": [
      "The test feature is normalized\n",
      "Validation Results\n",
      "mAP: 62.7%\n",
      "CMC curve, Rank-1  :84.3%\n",
      "CMC curve, Rank-2  :89.0%\n",
      "CMC curve, Rank-4  :92.7%\n",
      "CMC curve, Rank-6  :94.5%\n",
      "CMC curve, Rank-8  :95.5%\n",
      "CMC curve, Rank-10 :96.4%\n",
      "CMC curve, Rank-12 :96.8%\n",
      "CMC curve, Rank-14 :97.3%\n",
      "CMC curve, Rank-16 :97.5%\n",
      "CMC curve, Rank-18 :97.6%\n",
      "CMC curve, Rank-20 :97.8%\n",
      "CMC curve, Rank-22 :97.9%\n",
      "CMC curve, Rank-24 :98.0%\n",
      "CMC curve, Rank-26 :98.1%\n",
      "CMC curve, Rank-28 :98.2%\n",
      "CMC curve, Rank-30 :98.4%\n",
      "CMC curve, Rank-32 :98.4%\n"
     ]
    },
    {
     "name": "stderr",
     "output_type": "stream",
     "text": [
      "Train Epoch: 79 [259/259 (100%)] Loss: 0.041352: : 259it [01:25,  3.04it/s]"
     ]
    },
    {
     "name": "stdout",
     "output_type": "stream",
     "text": [
      "Enter inferencing\n",
      "Create evaluator\n"
     ]
    },
    {
     "name": "stderr",
     "output_type": "stream",
     "text": [
      "\n"
     ]
    },
    {
     "name": "stdout",
     "output_type": "stream",
     "text": [
      "The test feature is normalized\n",
      "Validation Results\n",
      "mAP: 62.5%\n",
      "CMC curve, Rank-1  :84.0%\n",
      "CMC curve, Rank-2  :88.7%\n",
      "CMC curve, Rank-4  :92.8%\n",
      "CMC curve, Rank-6  :94.5%\n",
      "CMC curve, Rank-8  :95.6%\n",
      "CMC curve, Rank-10 :96.3%\n",
      "CMC curve, Rank-12 :96.8%\n",
      "CMC curve, Rank-14 :97.1%\n",
      "CMC curve, Rank-16 :97.2%\n",
      "CMC curve, Rank-18 :97.5%\n",
      "CMC curve, Rank-20 :97.7%\n",
      "CMC curve, Rank-22 :97.9%\n",
      "CMC curve, Rank-24 :98.0%\n",
      "CMC curve, Rank-26 :98.0%\n",
      "CMC curve, Rank-28 :98.1%\n",
      "CMC curve, Rank-30 :98.3%\n",
      "CMC curve, Rank-32 :98.4%\n"
     ]
    },
    {
     "name": "stderr",
     "output_type": "stream",
     "text": [
      "Train Epoch: 80 [259/259 (100%)] Loss: 0.041644: : 259it [01:23,  3.09it/s]"
     ]
    },
    {
     "name": "stdout",
     "output_type": "stream",
     "text": [
      "Enter inferencing\n",
      "Create evaluator\n"
     ]
    },
    {
     "name": "stderr",
     "output_type": "stream",
     "text": [
      "\n"
     ]
    },
    {
     "name": "stdout",
     "output_type": "stream",
     "text": [
      "The test feature is normalized\n",
      "Validation Results\n",
      "mAP: 62.5%\n",
      "CMC curve, Rank-1  :84.0%\n",
      "CMC curve, Rank-2  :89.0%\n",
      "CMC curve, Rank-4  :92.8%\n",
      "CMC curve, Rank-6  :94.4%\n",
      "CMC curve, Rank-8  :95.6%\n",
      "CMC curve, Rank-10 :96.3%\n",
      "CMC curve, Rank-12 :96.9%\n",
      "CMC curve, Rank-14 :97.1%\n",
      "CMC curve, Rank-16 :97.4%\n",
      "CMC curve, Rank-18 :97.7%\n",
      "CMC curve, Rank-20 :97.8%\n",
      "CMC curve, Rank-22 :98.0%\n",
      "CMC curve, Rank-24 :98.0%\n",
      "CMC curve, Rank-26 :98.2%\n",
      "CMC curve, Rank-28 :98.4%\n",
      "CMC curve, Rank-30 :98.4%\n",
      "CMC curve, Rank-32 :98.5%\n"
     ]
    },
    {
     "name": "stderr",
     "output_type": "stream",
     "text": [
      "Train Epoch: 81 [259/259 (100%)] Loss: 0.062954: : 259it [01:23,  3.09it/s]"
     ]
    },
    {
     "name": "stdout",
     "output_type": "stream",
     "text": [
      "Enter inferencing\n",
      "Create evaluator\n"
     ]
    },
    {
     "name": "stderr",
     "output_type": "stream",
     "text": [
      "\n"
     ]
    },
    {
     "name": "stdout",
     "output_type": "stream",
     "text": [
      "The test feature is normalized\n",
      "Validation Results\n",
      "mAP: 62.4%\n",
      "CMC curve, Rank-1  :84.1%\n",
      "CMC curve, Rank-2  :88.9%\n",
      "CMC curve, Rank-4  :92.7%\n",
      "CMC curve, Rank-6  :94.4%\n",
      "CMC curve, Rank-8  :95.6%\n",
      "CMC curve, Rank-10 :96.3%\n",
      "CMC curve, Rank-12 :96.8%\n",
      "CMC curve, Rank-14 :97.0%\n",
      "CMC curve, Rank-16 :97.3%\n",
      "CMC curve, Rank-18 :97.5%\n",
      "CMC curve, Rank-20 :97.7%\n",
      "CMC curve, Rank-22 :97.9%\n",
      "CMC curve, Rank-24 :98.0%\n",
      "CMC curve, Rank-26 :98.1%\n",
      "CMC curve, Rank-28 :98.3%\n",
      "CMC curve, Rank-30 :98.3%\n",
      "CMC curve, Rank-32 :98.4%\n"
     ]
    },
    {
     "name": "stderr",
     "output_type": "stream",
     "text": [
      "Train Epoch: 82 [259/259 (100%)] Loss: 0.029196: : 259it [01:23,  3.12it/s]"
     ]
    },
    {
     "name": "stdout",
     "output_type": "stream",
     "text": [
      "Enter inferencing\n",
      "Create evaluator\n"
     ]
    },
    {
     "name": "stderr",
     "output_type": "stream",
     "text": [
      "\n"
     ]
    },
    {
     "name": "stdout",
     "output_type": "stream",
     "text": [
      "The test feature is normalized\n",
      "Validation Results\n",
      "mAP: 62.6%\n",
      "CMC curve, Rank-1  :84.2%\n",
      "CMC curve, Rank-2  :88.8%\n",
      "CMC curve, Rank-4  :92.8%\n",
      "CMC curve, Rank-6  :94.5%\n",
      "CMC curve, Rank-8  :95.6%\n",
      "CMC curve, Rank-10 :96.3%\n",
      "CMC curve, Rank-12 :96.8%\n",
      "CMC curve, Rank-14 :97.1%\n",
      "CMC curve, Rank-16 :97.4%\n",
      "CMC curve, Rank-18 :97.7%\n",
      "CMC curve, Rank-20 :97.8%\n",
      "CMC curve, Rank-22 :97.9%\n",
      "CMC curve, Rank-24 :98.0%\n",
      "CMC curve, Rank-26 :98.1%\n",
      "CMC curve, Rank-28 :98.2%\n",
      "CMC curve, Rank-30 :98.4%\n",
      "CMC curve, Rank-32 :98.5%\n"
     ]
    },
    {
     "name": "stderr",
     "output_type": "stream",
     "text": [
      "Train Epoch: 83 [259/259 (100%)] Loss: 0.057185: : 259it [01:23,  3.11it/s]"
     ]
    },
    {
     "name": "stdout",
     "output_type": "stream",
     "text": [
      "Enter inferencing\n",
      "Create evaluator\n"
     ]
    },
    {
     "name": "stderr",
     "output_type": "stream",
     "text": [
      "\n"
     ]
    },
    {
     "name": "stdout",
     "output_type": "stream",
     "text": [
      "The test feature is normalized\n",
      "Validation Results\n",
      "mAP: 62.5%\n",
      "CMC curve, Rank-1  :84.2%\n",
      "CMC curve, Rank-2  :88.9%\n",
      "CMC curve, Rank-4  :92.8%\n",
      "CMC curve, Rank-6  :94.5%\n",
      "CMC curve, Rank-8  :95.7%\n",
      "CMC curve, Rank-10 :96.3%\n",
      "CMC curve, Rank-12 :96.8%\n",
      "CMC curve, Rank-14 :97.1%\n",
      "CMC curve, Rank-16 :97.3%\n",
      "CMC curve, Rank-18 :97.6%\n",
      "CMC curve, Rank-20 :97.9%\n",
      "CMC curve, Rank-22 :98.0%\n",
      "CMC curve, Rank-24 :98.0%\n",
      "CMC curve, Rank-26 :98.1%\n",
      "CMC curve, Rank-28 :98.2%\n",
      "CMC curve, Rank-30 :98.3%\n",
      "CMC curve, Rank-32 :98.4%\n"
     ]
    },
    {
     "name": "stderr",
     "output_type": "stream",
     "text": [
      "Train Epoch: 84 [259/259 (100%)] Loss: 0.040843: : 259it [01:23,  3.10it/s]"
     ]
    },
    {
     "name": "stdout",
     "output_type": "stream",
     "text": [
      "Enter inferencing\n",
      "Create evaluator\n"
     ]
    },
    {
     "name": "stderr",
     "output_type": "stream",
     "text": [
      "\n"
     ]
    },
    {
     "name": "stdout",
     "output_type": "stream",
     "text": [
      "The test feature is normalized\n",
      "Validation Results\n",
      "mAP: 62.6%\n",
      "CMC curve, Rank-1  :84.2%\n",
      "CMC curve, Rank-2  :89.1%\n",
      "CMC curve, Rank-4  :92.7%\n",
      "CMC curve, Rank-6  :94.6%\n",
      "CMC curve, Rank-8  :95.5%\n",
      "CMC curve, Rank-10 :96.3%\n",
      "CMC curve, Rank-12 :96.8%\n",
      "CMC curve, Rank-14 :97.1%\n",
      "CMC curve, Rank-16 :97.5%\n",
      "CMC curve, Rank-18 :97.7%\n",
      "CMC curve, Rank-20 :97.7%\n",
      "CMC curve, Rank-22 :97.8%\n",
      "CMC curve, Rank-24 :98.0%\n",
      "CMC curve, Rank-26 :98.2%\n",
      "CMC curve, Rank-28 :98.3%\n",
      "CMC curve, Rank-30 :98.4%\n",
      "CMC curve, Rank-32 :98.5%\n"
     ]
    },
    {
     "name": "stderr",
     "output_type": "stream",
     "text": [
      "Train Epoch: 85 [259/259 (100%)] Loss: 0.053697: : 259it [01:24,  3.08it/s]"
     ]
    },
    {
     "name": "stdout",
     "output_type": "stream",
     "text": [
      "Enter inferencing\n",
      "Create evaluator\n"
     ]
    },
    {
     "name": "stderr",
     "output_type": "stream",
     "text": [
      "\n"
     ]
    },
    {
     "name": "stdout",
     "output_type": "stream",
     "text": [
      "The test feature is normalized\n",
      "Validation Results\n",
      "mAP: 62.6%\n",
      "CMC curve, Rank-1  :84.1%\n",
      "CMC curve, Rank-2  :88.9%\n",
      "CMC curve, Rank-4  :92.7%\n",
      "CMC curve, Rank-6  :94.6%\n",
      "CMC curve, Rank-8  :95.6%\n",
      "CMC curve, Rank-10 :96.3%\n",
      "CMC curve, Rank-12 :96.8%\n",
      "CMC curve, Rank-14 :97.2%\n",
      "CMC curve, Rank-16 :97.4%\n",
      "CMC curve, Rank-18 :97.6%\n",
      "CMC curve, Rank-20 :97.7%\n",
      "CMC curve, Rank-22 :97.9%\n",
      "CMC curve, Rank-24 :98.0%\n",
      "CMC curve, Rank-26 :98.1%\n",
      "CMC curve, Rank-28 :98.3%\n",
      "CMC curve, Rank-30 :98.4%\n",
      "CMC curve, Rank-32 :98.5%\n"
     ]
    },
    {
     "name": "stderr",
     "output_type": "stream",
     "text": [
      "Train Epoch: 86 [259/259 (100%)] Loss: 0.040407: : 259it [01:23,  3.09it/s]"
     ]
    },
    {
     "name": "stdout",
     "output_type": "stream",
     "text": [
      "Enter inferencing\n",
      "Create evaluator\n"
     ]
    },
    {
     "name": "stderr",
     "output_type": "stream",
     "text": [
      "\n"
     ]
    },
    {
     "name": "stdout",
     "output_type": "stream",
     "text": [
      "The test feature is normalized\n",
      "Validation Results\n",
      "mAP: 62.5%\n",
      "CMC curve, Rank-1  :83.9%\n",
      "CMC curve, Rank-2  :89.0%\n",
      "CMC curve, Rank-4  :92.7%\n",
      "CMC curve, Rank-6  :94.5%\n",
      "CMC curve, Rank-8  :95.5%\n",
      "CMC curve, Rank-10 :96.3%\n",
      "CMC curve, Rank-12 :96.8%\n",
      "CMC curve, Rank-14 :97.2%\n",
      "CMC curve, Rank-16 :97.4%\n",
      "CMC curve, Rank-18 :97.6%\n",
      "CMC curve, Rank-20 :97.8%\n",
      "CMC curve, Rank-22 :97.9%\n",
      "CMC curve, Rank-24 :98.1%\n",
      "CMC curve, Rank-26 :98.2%\n",
      "CMC curve, Rank-28 :98.3%\n",
      "CMC curve, Rank-30 :98.5%\n",
      "CMC curve, Rank-32 :98.5%\n"
     ]
    },
    {
     "name": "stderr",
     "output_type": "stream",
     "text": [
      "Train Epoch: 87 [259/259 (100%)] Loss: 0.045136: : 259it [01:24,  3.07it/s]"
     ]
    },
    {
     "name": "stdout",
     "output_type": "stream",
     "text": [
      "Enter inferencing\n",
      "Create evaluator\n"
     ]
    },
    {
     "name": "stderr",
     "output_type": "stream",
     "text": [
      "\n"
     ]
    },
    {
     "name": "stdout",
     "output_type": "stream",
     "text": [
      "The test feature is normalized\n",
      "Validation Results\n",
      "mAP: 62.5%\n",
      "CMC curve, Rank-1  :84.0%\n",
      "CMC curve, Rank-2  :88.8%\n",
      "CMC curve, Rank-4  :92.8%\n",
      "CMC curve, Rank-6  :94.5%\n",
      "CMC curve, Rank-8  :95.6%\n",
      "CMC curve, Rank-10 :96.3%\n",
      "CMC curve, Rank-12 :97.0%\n",
      "CMC curve, Rank-14 :97.2%\n",
      "CMC curve, Rank-16 :97.5%\n",
      "CMC curve, Rank-18 :97.7%\n",
      "CMC curve, Rank-20 :97.8%\n",
      "CMC curve, Rank-22 :97.9%\n",
      "CMC curve, Rank-24 :98.0%\n",
      "CMC curve, Rank-26 :98.2%\n",
      "CMC curve, Rank-28 :98.4%\n",
      "CMC curve, Rank-30 :98.4%\n",
      "CMC curve, Rank-32 :98.6%\n"
     ]
    },
    {
     "name": "stderr",
     "output_type": "stream",
     "text": [
      "Train Epoch: 88 [259/259 (100%)] Loss: 0.030008: : 259it [01:24,  3.05it/s]"
     ]
    },
    {
     "name": "stdout",
     "output_type": "stream",
     "text": [
      "Enter inferencing\n",
      "Create evaluator\n"
     ]
    },
    {
     "name": "stderr",
     "output_type": "stream",
     "text": [
      "\n"
     ]
    },
    {
     "name": "stdout",
     "output_type": "stream",
     "text": [
      "The test feature is normalized\n",
      "Validation Results\n",
      "mAP: 62.5%\n",
      "CMC curve, Rank-1  :84.0%\n",
      "CMC curve, Rank-2  :88.8%\n",
      "CMC curve, Rank-4  :92.9%\n",
      "CMC curve, Rank-6  :94.5%\n",
      "CMC curve, Rank-8  :95.7%\n",
      "CMC curve, Rank-10 :96.3%\n",
      "CMC curve, Rank-12 :96.7%\n",
      "CMC curve, Rank-14 :97.1%\n",
      "CMC curve, Rank-16 :97.4%\n",
      "CMC curve, Rank-18 :97.6%\n",
      "CMC curve, Rank-20 :97.8%\n",
      "CMC curve, Rank-22 :97.9%\n",
      "CMC curve, Rank-24 :98.0%\n",
      "CMC curve, Rank-26 :98.0%\n",
      "CMC curve, Rank-28 :98.1%\n",
      "CMC curve, Rank-30 :98.2%\n",
      "CMC curve, Rank-32 :98.3%\n"
     ]
    },
    {
     "name": "stderr",
     "output_type": "stream",
     "text": [
      "Train Epoch: 89 [259/259 (100%)] Loss: 0.036287: : 259it [01:25,  3.04it/s]"
     ]
    },
    {
     "name": "stdout",
     "output_type": "stream",
     "text": [
      "Enter inferencing\n",
      "Create evaluator\n"
     ]
    },
    {
     "name": "stderr",
     "output_type": "stream",
     "text": [
      "\n"
     ]
    },
    {
     "name": "stdout",
     "output_type": "stream",
     "text": [
      "The test feature is normalized\n",
      "Validation Results\n",
      "mAP: 62.6%\n",
      "CMC curve, Rank-1  :84.1%\n",
      "CMC curve, Rank-2  :88.9%\n",
      "CMC curve, Rank-4  :92.7%\n",
      "CMC curve, Rank-6  :94.6%\n",
      "CMC curve, Rank-8  :95.6%\n",
      "CMC curve, Rank-10 :96.5%\n",
      "CMC curve, Rank-12 :96.8%\n",
      "CMC curve, Rank-14 :97.2%\n",
      "CMC curve, Rank-16 :97.4%\n",
      "CMC curve, Rank-18 :97.6%\n",
      "CMC curve, Rank-20 :97.7%\n",
      "CMC curve, Rank-22 :97.8%\n",
      "CMC curve, Rank-24 :98.0%\n",
      "CMC curve, Rank-26 :98.1%\n",
      "CMC curve, Rank-28 :98.3%\n",
      "CMC curve, Rank-30 :98.4%\n",
      "CMC curve, Rank-32 :98.5%\n"
     ]
    },
    {
     "name": "stderr",
     "output_type": "stream",
     "text": [
      "Train Epoch: 90 [259/259 (100%)] Loss: 0.025399: : 259it [01:24,  3.05it/s]"
     ]
    },
    {
     "name": "stdout",
     "output_type": "stream",
     "text": [
      "Enter inferencing\n",
      "Create evaluator\n"
     ]
    },
    {
     "name": "stderr",
     "output_type": "stream",
     "text": [
      "\n"
     ]
    },
    {
     "name": "stdout",
     "output_type": "stream",
     "text": [
      "The test feature is normalized\n",
      "Validation Results\n",
      "mAP: 62.5%\n",
      "CMC curve, Rank-1  :84.0%\n",
      "CMC curve, Rank-2  :89.0%\n",
      "CMC curve, Rank-4  :92.7%\n",
      "CMC curve, Rank-6  :94.5%\n",
      "CMC curve, Rank-8  :95.6%\n",
      "CMC curve, Rank-10 :96.3%\n",
      "CMC curve, Rank-12 :96.8%\n",
      "CMC curve, Rank-14 :97.2%\n",
      "CMC curve, Rank-16 :97.3%\n",
      "CMC curve, Rank-18 :97.6%\n",
      "CMC curve, Rank-20 :97.7%\n",
      "CMC curve, Rank-22 :98.0%\n",
      "CMC curve, Rank-24 :98.1%\n",
      "CMC curve, Rank-26 :98.1%\n",
      "CMC curve, Rank-28 :98.2%\n",
      "CMC curve, Rank-30 :98.4%\n",
      "CMC curve, Rank-32 :98.5%\n"
     ]
    },
    {
     "name": "stderr",
     "output_type": "stream",
     "text": [
      "Train Epoch: 91 [259/259 (100%)] Loss: 0.042804: : 259it [01:24,  3.05it/s]"
     ]
    },
    {
     "name": "stdout",
     "output_type": "stream",
     "text": [
      "Enter inferencing\n",
      "Create evaluator\n"
     ]
    },
    {
     "name": "stderr",
     "output_type": "stream",
     "text": [
      "\n"
     ]
    },
    {
     "name": "stdout",
     "output_type": "stream",
     "text": [
      "The test feature is normalized\n",
      "Validation Results\n",
      "mAP: 62.6%\n",
      "CMC curve, Rank-1  :84.1%\n",
      "CMC curve, Rank-2  :88.8%\n",
      "CMC curve, Rank-4  :92.7%\n",
      "CMC curve, Rank-6  :94.5%\n",
      "CMC curve, Rank-8  :95.5%\n",
      "CMC curve, Rank-10 :96.2%\n",
      "CMC curve, Rank-12 :96.7%\n",
      "CMC curve, Rank-14 :97.1%\n",
      "CMC curve, Rank-16 :97.4%\n",
      "CMC curve, Rank-18 :97.6%\n",
      "CMC curve, Rank-20 :97.8%\n",
      "CMC curve, Rank-22 :97.9%\n",
      "CMC curve, Rank-24 :98.0%\n",
      "CMC curve, Rank-26 :98.1%\n",
      "CMC curve, Rank-28 :98.2%\n",
      "CMC curve, Rank-30 :98.3%\n",
      "CMC curve, Rank-32 :98.4%\n"
     ]
    },
    {
     "name": "stderr",
     "output_type": "stream",
     "text": [
      "Train Epoch: 92 [259/259 (100%)] Loss: 0.042952: : 259it [01:25,  3.05it/s]"
     ]
    },
    {
     "name": "stdout",
     "output_type": "stream",
     "text": [
      "Enter inferencing\n",
      "Create evaluator\n"
     ]
    },
    {
     "name": "stderr",
     "output_type": "stream",
     "text": [
      "\n"
     ]
    },
    {
     "name": "stdout",
     "output_type": "stream",
     "text": [
      "The test feature is normalized\n",
      "Validation Results\n",
      "mAP: 62.5%\n",
      "CMC curve, Rank-1  :83.8%\n",
      "CMC curve, Rank-2  :89.1%\n",
      "CMC curve, Rank-4  :92.9%\n",
      "CMC curve, Rank-6  :94.5%\n",
      "CMC curve, Rank-8  :95.7%\n",
      "CMC curve, Rank-10 :96.4%\n",
      "CMC curve, Rank-12 :96.7%\n",
      "CMC curve, Rank-14 :97.1%\n",
      "CMC curve, Rank-16 :97.3%\n",
      "CMC curve, Rank-18 :97.6%\n",
      "CMC curve, Rank-20 :97.8%\n",
      "CMC curve, Rank-22 :97.9%\n",
      "CMC curve, Rank-24 :98.1%\n",
      "CMC curve, Rank-26 :98.1%\n",
      "CMC curve, Rank-28 :98.2%\n",
      "CMC curve, Rank-30 :98.5%\n",
      "CMC curve, Rank-32 :98.5%\n"
     ]
    },
    {
     "name": "stderr",
     "output_type": "stream",
     "text": [
      "Train Epoch: 93 [259/259 (100%)] Loss: 0.042109: : 259it [01:25,  3.05it/s]"
     ]
    },
    {
     "name": "stdout",
     "output_type": "stream",
     "text": [
      "Enter inferencing\n",
      "Create evaluator\n"
     ]
    },
    {
     "name": "stderr",
     "output_type": "stream",
     "text": [
      "\n"
     ]
    },
    {
     "name": "stdout",
     "output_type": "stream",
     "text": [
      "The test feature is normalized\n",
      "Validation Results\n",
      "mAP: 62.5%\n",
      "CMC curve, Rank-1  :83.6%\n",
      "CMC curve, Rank-2  :88.7%\n",
      "CMC curve, Rank-4  :92.8%\n",
      "CMC curve, Rank-6  :94.6%\n",
      "CMC curve, Rank-8  :95.6%\n",
      "CMC curve, Rank-10 :96.2%\n",
      "CMC curve, Rank-12 :96.7%\n",
      "CMC curve, Rank-14 :97.1%\n",
      "CMC curve, Rank-16 :97.4%\n",
      "CMC curve, Rank-18 :97.6%\n",
      "CMC curve, Rank-20 :97.8%\n",
      "CMC curve, Rank-22 :97.9%\n",
      "CMC curve, Rank-24 :98.0%\n",
      "CMC curve, Rank-26 :98.2%\n",
      "CMC curve, Rank-28 :98.2%\n",
      "CMC curve, Rank-30 :98.4%\n",
      "CMC curve, Rank-32 :98.5%\n"
     ]
    },
    {
     "name": "stderr",
     "output_type": "stream",
     "text": [
      "Train Epoch: 94 [259/259 (100%)] Loss: 0.030453: : 259it [01:26,  2.99it/s]"
     ]
    },
    {
     "name": "stdout",
     "output_type": "stream",
     "text": [
      "Enter inferencing\n",
      "Create evaluator\n"
     ]
    },
    {
     "name": "stderr",
     "output_type": "stream",
     "text": [
      "\n"
     ]
    },
    {
     "name": "stdout",
     "output_type": "stream",
     "text": [
      "The test feature is normalized\n",
      "Validation Results\n",
      "mAP: 62.6%\n",
      "CMC curve, Rank-1  :84.0%\n",
      "CMC curve, Rank-2  :89.0%\n",
      "CMC curve, Rank-4  :92.7%\n",
      "CMC curve, Rank-6  :94.7%\n",
      "CMC curve, Rank-8  :95.7%\n",
      "CMC curve, Rank-10 :96.4%\n",
      "CMC curve, Rank-12 :96.9%\n",
      "CMC curve, Rank-14 :97.1%\n",
      "CMC curve, Rank-16 :97.5%\n",
      "CMC curve, Rank-18 :97.7%\n",
      "CMC curve, Rank-20 :97.8%\n",
      "CMC curve, Rank-22 :97.9%\n",
      "CMC curve, Rank-24 :97.9%\n",
      "CMC curve, Rank-26 :98.1%\n",
      "CMC curve, Rank-28 :98.3%\n",
      "CMC curve, Rank-30 :98.4%\n",
      "CMC curve, Rank-32 :98.5%\n"
     ]
    },
    {
     "name": "stderr",
     "output_type": "stream",
     "text": [
      "Train Epoch: 95 [259/259 (100%)] Loss: 0.054494: : 259it [01:24,  3.07it/s]"
     ]
    },
    {
     "name": "stdout",
     "output_type": "stream",
     "text": [
      "Enter inferencing\n",
      "Create evaluator\n"
     ]
    },
    {
     "name": "stderr",
     "output_type": "stream",
     "text": [
      "\n"
     ]
    },
    {
     "name": "stdout",
     "output_type": "stream",
     "text": [
      "The test feature is normalized\n",
      "Validation Results\n",
      "mAP: 62.6%\n",
      "CMC curve, Rank-1  :83.9%\n",
      "CMC curve, Rank-2  :88.9%\n",
      "CMC curve, Rank-4  :92.8%\n",
      "CMC curve, Rank-6  :94.5%\n",
      "CMC curve, Rank-8  :95.4%\n",
      "CMC curve, Rank-10 :96.3%\n",
      "CMC curve, Rank-12 :96.9%\n",
      "CMC curve, Rank-14 :97.2%\n",
      "CMC curve, Rank-16 :97.4%\n",
      "CMC curve, Rank-18 :97.6%\n",
      "CMC curve, Rank-20 :97.8%\n",
      "CMC curve, Rank-22 :98.0%\n",
      "CMC curve, Rank-24 :98.1%\n",
      "CMC curve, Rank-26 :98.2%\n",
      "CMC curve, Rank-28 :98.3%\n",
      "CMC curve, Rank-30 :98.4%\n",
      "CMC curve, Rank-32 :98.5%\n"
     ]
    },
    {
     "name": "stderr",
     "output_type": "stream",
     "text": [
      "Train Epoch: 96 [259/259 (100%)] Loss: 0.043667: : 259it [01:25,  3.02it/s]"
     ]
    },
    {
     "name": "stdout",
     "output_type": "stream",
     "text": [
      "Enter inferencing\n",
      "Create evaluator\n"
     ]
    },
    {
     "name": "stderr",
     "output_type": "stream",
     "text": [
      "\n"
     ]
    },
    {
     "name": "stdout",
     "output_type": "stream",
     "text": [
      "The test feature is normalized\n",
      "Validation Results\n",
      "mAP: 62.6%\n",
      "CMC curve, Rank-1  :84.2%\n",
      "CMC curve, Rank-2  :88.9%\n",
      "CMC curve, Rank-4  :92.5%\n",
      "CMC curve, Rank-6  :94.5%\n",
      "CMC curve, Rank-8  :95.6%\n",
      "CMC curve, Rank-10 :96.3%\n",
      "CMC curve, Rank-12 :96.9%\n",
      "CMC curve, Rank-14 :97.2%\n",
      "CMC curve, Rank-16 :97.5%\n",
      "CMC curve, Rank-18 :97.7%\n",
      "CMC curve, Rank-20 :97.8%\n",
      "CMC curve, Rank-22 :97.9%\n",
      "CMC curve, Rank-24 :98.0%\n",
      "CMC curve, Rank-26 :98.2%\n",
      "CMC curve, Rank-28 :98.2%\n",
      "CMC curve, Rank-30 :98.4%\n",
      "CMC curve, Rank-32 :98.5%\n"
     ]
    },
    {
     "name": "stderr",
     "output_type": "stream",
     "text": [
      "Train Epoch: 97 [259/259 (100%)] Loss: 0.035873: : 259it [01:23,  3.12it/s]"
     ]
    },
    {
     "name": "stdout",
     "output_type": "stream",
     "text": [
      "Enter inferencing\n",
      "Create evaluator\n"
     ]
    },
    {
     "name": "stderr",
     "output_type": "stream",
     "text": [
      "\n"
     ]
    },
    {
     "name": "stdout",
     "output_type": "stream",
     "text": [
      "The test feature is normalized\n",
      "Validation Results\n",
      "mAP: 62.6%\n",
      "CMC curve, Rank-1  :84.1%\n",
      "CMC curve, Rank-2  :88.9%\n",
      "CMC curve, Rank-4  :92.7%\n",
      "CMC curve, Rank-6  :94.3%\n",
      "CMC curve, Rank-8  :95.7%\n",
      "CMC curve, Rank-10 :96.3%\n",
      "CMC curve, Rank-12 :96.8%\n",
      "CMC curve, Rank-14 :97.3%\n",
      "CMC curve, Rank-16 :97.4%\n",
      "CMC curve, Rank-18 :97.6%\n",
      "CMC curve, Rank-20 :97.7%\n",
      "CMC curve, Rank-22 :97.9%\n",
      "CMC curve, Rank-24 :98.0%\n",
      "CMC curve, Rank-26 :98.1%\n",
      "CMC curve, Rank-28 :98.3%\n",
      "CMC curve, Rank-30 :98.4%\n",
      "CMC curve, Rank-32 :98.4%\n"
     ]
    },
    {
     "name": "stderr",
     "output_type": "stream",
     "text": [
      "Train Epoch: 98 [259/259 (100%)] Loss: 0.072817: : 259it [01:23,  3.11it/s]"
     ]
    },
    {
     "name": "stdout",
     "output_type": "stream",
     "text": [
      "Enter inferencing\n",
      "Create evaluator\n"
     ]
    },
    {
     "name": "stderr",
     "output_type": "stream",
     "text": [
      "\n"
     ]
    },
    {
     "name": "stdout",
     "output_type": "stream",
     "text": [
      "The test feature is normalized\n",
      "Validation Results\n",
      "mAP: 62.6%\n",
      "CMC curve, Rank-1  :83.9%\n",
      "CMC curve, Rank-2  :89.1%\n",
      "CMC curve, Rank-4  :92.9%\n",
      "CMC curve, Rank-6  :94.3%\n",
      "CMC curve, Rank-8  :95.5%\n",
      "CMC curve, Rank-10 :96.2%\n",
      "CMC curve, Rank-12 :96.7%\n",
      "CMC curve, Rank-14 :97.2%\n",
      "CMC curve, Rank-16 :97.5%\n",
      "CMC curve, Rank-18 :97.7%\n",
      "CMC curve, Rank-20 :97.9%\n",
      "CMC curve, Rank-22 :98.0%\n",
      "CMC curve, Rank-24 :98.0%\n",
      "CMC curve, Rank-26 :98.1%\n",
      "CMC curve, Rank-28 :98.2%\n",
      "CMC curve, Rank-30 :98.3%\n",
      "CMC curve, Rank-32 :98.5%\n"
     ]
    },
    {
     "name": "stderr",
     "output_type": "stream",
     "text": [
      "Train Epoch: 99 [259/259 (100%)] Loss: 0.045747: : 259it [01:23,  3.11it/s]"
     ]
    },
    {
     "name": "stdout",
     "output_type": "stream",
     "text": [
      "Enter inferencing\n",
      "Create evaluator\n"
     ]
    },
    {
     "name": "stderr",
     "output_type": "stream",
     "text": [
      "\n"
     ]
    },
    {
     "name": "stdout",
     "output_type": "stream",
     "text": [
      "The test feature is normalized\n",
      "Validation Results\n",
      "mAP: 62.7%\n",
      "CMC curve, Rank-1  :84.1%\n",
      "CMC curve, Rank-2  :88.9%\n",
      "CMC curve, Rank-4  :92.8%\n",
      "CMC curve, Rank-6  :94.6%\n",
      "CMC curve, Rank-8  :95.7%\n",
      "CMC curve, Rank-10 :96.4%\n",
      "CMC curve, Rank-12 :96.7%\n",
      "CMC curve, Rank-14 :97.2%\n",
      "CMC curve, Rank-16 :97.5%\n",
      "CMC curve, Rank-18 :97.7%\n",
      "CMC curve, Rank-20 :97.8%\n",
      "CMC curve, Rank-22 :97.9%\n",
      "CMC curve, Rank-24 :98.1%\n",
      "CMC curve, Rank-26 :98.1%\n",
      "CMC curve, Rank-28 :98.2%\n",
      "CMC curve, Rank-30 :98.3%\n",
      "CMC curve, Rank-32 :98.5%\n"
     ]
    },
    {
     "name": "stderr",
     "output_type": "stream",
     "text": [
      "Train Epoch: 100 [259/259 (100%)] Loss: 0.031280: : 259it [01:23,  3.11it/s]"
     ]
    },
    {
     "name": "stdout",
     "output_type": "stream",
     "text": [
      "Enter inferencing\n",
      "Create evaluator\n"
     ]
    },
    {
     "name": "stderr",
     "output_type": "stream",
     "text": [
      "\n"
     ]
    },
    {
     "name": "stdout",
     "output_type": "stream",
     "text": [
      "The test feature is normalized\n",
      "Validation Results\n",
      "mAP: 62.5%\n",
      "CMC curve, Rank-1  :83.9%\n",
      "CMC curve, Rank-2  :88.7%\n",
      "CMC curve, Rank-4  :92.8%\n",
      "CMC curve, Rank-6  :94.6%\n",
      "CMC curve, Rank-8  :95.5%\n",
      "CMC curve, Rank-10 :96.4%\n",
      "CMC curve, Rank-12 :96.9%\n",
      "CMC curve, Rank-14 :97.1%\n",
      "CMC curve, Rank-16 :97.4%\n",
      "CMC curve, Rank-18 :97.6%\n",
      "CMC curve, Rank-20 :97.7%\n",
      "CMC curve, Rank-22 :97.9%\n",
      "CMC curve, Rank-24 :98.0%\n",
      "CMC curve, Rank-26 :98.1%\n",
      "CMC curve, Rank-28 :98.2%\n",
      "CMC curve, Rank-30 :98.2%\n",
      "CMC curve, Rank-32 :98.5%\n"
     ]
    },
    {
     "name": "stderr",
     "output_type": "stream",
     "text": [
      "Train Epoch: 101 [259/259 (100%)] Loss: 0.034354: : 259it [01:23,  3.11it/s]"
     ]
    },
    {
     "name": "stdout",
     "output_type": "stream",
     "text": [
      "Enter inferencing\n",
      "Create evaluator\n"
     ]
    },
    {
     "name": "stderr",
     "output_type": "stream",
     "text": [
      "\n"
     ]
    },
    {
     "name": "stdout",
     "output_type": "stream",
     "text": [
      "The test feature is normalized\n",
      "Validation Results\n",
      "mAP: 62.6%\n",
      "CMC curve, Rank-1  :83.9%\n",
      "CMC curve, Rank-2  :89.0%\n",
      "CMC curve, Rank-4  :92.6%\n",
      "CMC curve, Rank-6  :94.5%\n",
      "CMC curve, Rank-8  :95.7%\n",
      "CMC curve, Rank-10 :96.3%\n",
      "CMC curve, Rank-12 :96.9%\n",
      "CMC curve, Rank-14 :97.1%\n",
      "CMC curve, Rank-16 :97.5%\n",
      "CMC curve, Rank-18 :97.6%\n",
      "CMC curve, Rank-20 :97.8%\n",
      "CMC curve, Rank-22 :97.8%\n",
      "CMC curve, Rank-24 :98.0%\n",
      "CMC curve, Rank-26 :98.1%\n",
      "CMC curve, Rank-28 :98.3%\n",
      "CMC curve, Rank-30 :98.5%\n",
      "CMC curve, Rank-32 :98.5%\n"
     ]
    },
    {
     "name": "stderr",
     "output_type": "stream",
     "text": [
      "Train Epoch: 102 [259/259 (100%)] Loss: 0.032028: : 259it [01:23,  3.11it/s]"
     ]
    },
    {
     "name": "stdout",
     "output_type": "stream",
     "text": [
      "Enter inferencing\n",
      "Create evaluator\n"
     ]
    },
    {
     "name": "stderr",
     "output_type": "stream",
     "text": [
      "\n"
     ]
    },
    {
     "name": "stdout",
     "output_type": "stream",
     "text": [
      "The test feature is normalized\n",
      "Validation Results\n",
      "mAP: 62.6%\n",
      "CMC curve, Rank-1  :84.2%\n",
      "CMC curve, Rank-2  :89.2%\n",
      "CMC curve, Rank-4  :92.9%\n",
      "CMC curve, Rank-6  :94.4%\n",
      "CMC curve, Rank-8  :95.5%\n",
      "CMC curve, Rank-10 :96.4%\n",
      "CMC curve, Rank-12 :96.9%\n",
      "CMC curve, Rank-14 :97.2%\n",
      "CMC curve, Rank-16 :97.4%\n",
      "CMC curve, Rank-18 :97.6%\n",
      "CMC curve, Rank-20 :97.8%\n",
      "CMC curve, Rank-22 :97.9%\n",
      "CMC curve, Rank-24 :98.0%\n",
      "CMC curve, Rank-26 :98.1%\n",
      "CMC curve, Rank-28 :98.2%\n",
      "CMC curve, Rank-30 :98.2%\n",
      "CMC curve, Rank-32 :98.5%\n"
     ]
    },
    {
     "name": "stderr",
     "output_type": "stream",
     "text": [
      "Train Epoch: 103 [259/259 (100%)] Loss: 0.043391: : 259it [01:23,  3.11it/s]"
     ]
    },
    {
     "name": "stdout",
     "output_type": "stream",
     "text": [
      "Enter inferencing\n",
      "Create evaluator\n"
     ]
    },
    {
     "name": "stderr",
     "output_type": "stream",
     "text": [
      "\n"
     ]
    },
    {
     "name": "stdout",
     "output_type": "stream",
     "text": [
      "The test feature is normalized\n",
      "Validation Results\n",
      "mAP: 62.6%\n",
      "CMC curve, Rank-1  :84.0%\n",
      "CMC curve, Rank-2  :88.7%\n",
      "CMC curve, Rank-4  :92.8%\n",
      "CMC curve, Rank-6  :94.5%\n",
      "CMC curve, Rank-8  :95.5%\n",
      "CMC curve, Rank-10 :96.3%\n",
      "CMC curve, Rank-12 :96.8%\n",
      "CMC curve, Rank-14 :97.1%\n",
      "CMC curve, Rank-16 :97.4%\n",
      "CMC curve, Rank-18 :97.6%\n",
      "CMC curve, Rank-20 :97.7%\n",
      "CMC curve, Rank-22 :97.9%\n",
      "CMC curve, Rank-24 :98.0%\n",
      "CMC curve, Rank-26 :98.1%\n",
      "CMC curve, Rank-28 :98.2%\n",
      "CMC curve, Rank-30 :98.4%\n",
      "CMC curve, Rank-32 :98.5%\n"
     ]
    },
    {
     "name": "stderr",
     "output_type": "stream",
     "text": [
      "Train Epoch: 104 [259/259 (100%)] Loss: 0.036672: : 259it [01:23,  3.11it/s]"
     ]
    },
    {
     "name": "stdout",
     "output_type": "stream",
     "text": [
      "Enter inferencing\n",
      "Create evaluator\n"
     ]
    },
    {
     "name": "stderr",
     "output_type": "stream",
     "text": [
      "\n"
     ]
    },
    {
     "name": "stdout",
     "output_type": "stream",
     "text": [
      "The test feature is normalized\n",
      "Validation Results\n",
      "mAP: 62.6%\n",
      "CMC curve, Rank-1  :84.1%\n",
      "CMC curve, Rank-2  :89.0%\n",
      "CMC curve, Rank-4  :92.8%\n",
      "CMC curve, Rank-6  :94.4%\n",
      "CMC curve, Rank-8  :95.4%\n",
      "CMC curve, Rank-10 :96.2%\n",
      "CMC curve, Rank-12 :96.8%\n",
      "CMC curve, Rank-14 :97.2%\n",
      "CMC curve, Rank-16 :97.5%\n",
      "CMC curve, Rank-18 :97.7%\n",
      "CMC curve, Rank-20 :97.8%\n",
      "CMC curve, Rank-22 :97.9%\n",
      "CMC curve, Rank-24 :98.1%\n",
      "CMC curve, Rank-26 :98.2%\n",
      "CMC curve, Rank-28 :98.3%\n",
      "CMC curve, Rank-30 :98.4%\n",
      "CMC curve, Rank-32 :98.5%\n"
     ]
    },
    {
     "name": "stderr",
     "output_type": "stream",
     "text": [
      "Train Epoch: 105 [259/259 (100%)] Loss: 0.030961: : 259it [01:23,  3.11it/s]"
     ]
    },
    {
     "name": "stdout",
     "output_type": "stream",
     "text": [
      "Enter inferencing\n",
      "Create evaluator\n"
     ]
    },
    {
     "name": "stderr",
     "output_type": "stream",
     "text": [
      "\n"
     ]
    },
    {
     "name": "stdout",
     "output_type": "stream",
     "text": [
      "The test feature is normalized\n",
      "Validation Results\n",
      "mAP: 62.5%\n",
      "CMC curve, Rank-1  :83.9%\n",
      "CMC curve, Rank-2  :88.8%\n",
      "CMC curve, Rank-4  :92.6%\n",
      "CMC curve, Rank-6  :94.5%\n",
      "CMC curve, Rank-8  :95.5%\n",
      "CMC curve, Rank-10 :96.3%\n",
      "CMC curve, Rank-12 :96.8%\n",
      "CMC curve, Rank-14 :97.3%\n",
      "CMC curve, Rank-16 :97.4%\n",
      "CMC curve, Rank-18 :97.6%\n",
      "CMC curve, Rank-20 :97.7%\n",
      "CMC curve, Rank-22 :97.9%\n",
      "CMC curve, Rank-24 :98.0%\n",
      "CMC curve, Rank-26 :98.2%\n",
      "CMC curve, Rank-28 :98.3%\n",
      "CMC curve, Rank-30 :98.4%\n",
      "CMC curve, Rank-32 :98.5%\n"
     ]
    },
    {
     "name": "stderr",
     "output_type": "stream",
     "text": [
      "Train Epoch: 106 [259/259 (100%)] Loss: 0.036711: : 259it [01:23,  3.11it/s]"
     ]
    },
    {
     "name": "stdout",
     "output_type": "stream",
     "text": [
      "Enter inferencing\n",
      "Create evaluator\n"
     ]
    },
    {
     "name": "stderr",
     "output_type": "stream",
     "text": [
      "\n"
     ]
    },
    {
     "name": "stdout",
     "output_type": "stream",
     "text": [
      "The test feature is normalized\n",
      "Validation Results\n",
      "mAP: 62.6%\n",
      "CMC curve, Rank-1  :84.0%\n",
      "CMC curve, Rank-2  :88.9%\n",
      "CMC curve, Rank-4  :92.8%\n",
      "CMC curve, Rank-6  :94.5%\n",
      "CMC curve, Rank-8  :95.6%\n",
      "CMC curve, Rank-10 :96.3%\n",
      "CMC curve, Rank-12 :96.8%\n",
      "CMC curve, Rank-14 :97.1%\n",
      "CMC curve, Rank-16 :97.4%\n",
      "CMC curve, Rank-18 :97.7%\n",
      "CMC curve, Rank-20 :97.9%\n",
      "CMC curve, Rank-22 :98.0%\n",
      "CMC curve, Rank-24 :98.0%\n",
      "CMC curve, Rank-26 :98.1%\n",
      "CMC curve, Rank-28 :98.2%\n",
      "CMC curve, Rank-30 :98.4%\n",
      "CMC curve, Rank-32 :98.4%\n"
     ]
    },
    {
     "name": "stderr",
     "output_type": "stream",
     "text": [
      "Train Epoch: 107 [259/259 (100%)] Loss: 0.036794: : 259it [01:23,  3.12it/s]"
     ]
    },
    {
     "name": "stdout",
     "output_type": "stream",
     "text": [
      "Enter inferencing\n",
      "Create evaluator\n"
     ]
    },
    {
     "name": "stderr",
     "output_type": "stream",
     "text": [
      "\n"
     ]
    },
    {
     "name": "stdout",
     "output_type": "stream",
     "text": [
      "The test feature is normalized\n",
      "Validation Results\n",
      "mAP: 62.6%\n",
      "CMC curve, Rank-1  :83.9%\n",
      "CMC curve, Rank-2  :89.0%\n",
      "CMC curve, Rank-4  :92.7%\n",
      "CMC curve, Rank-6  :94.5%\n",
      "CMC curve, Rank-8  :95.7%\n",
      "CMC curve, Rank-10 :96.3%\n",
      "CMC curve, Rank-12 :96.8%\n",
      "CMC curve, Rank-14 :97.2%\n",
      "CMC curve, Rank-16 :97.5%\n",
      "CMC curve, Rank-18 :97.7%\n",
      "CMC curve, Rank-20 :97.8%\n",
      "CMC curve, Rank-22 :97.9%\n",
      "CMC curve, Rank-24 :98.0%\n",
      "CMC curve, Rank-26 :98.2%\n",
      "CMC curve, Rank-28 :98.3%\n",
      "CMC curve, Rank-30 :98.3%\n",
      "CMC curve, Rank-32 :98.5%\n"
     ]
    },
    {
     "name": "stderr",
     "output_type": "stream",
     "text": [
      "Train Epoch: 108 [259/259 (100%)] Loss: 0.039738: : 259it [01:23,  3.12it/s]"
     ]
    },
    {
     "name": "stdout",
     "output_type": "stream",
     "text": [
      "Enter inferencing\n",
      "Create evaluator\n"
     ]
    },
    {
     "name": "stderr",
     "output_type": "stream",
     "text": [
      "\n"
     ]
    },
    {
     "name": "stdout",
     "output_type": "stream",
     "text": [
      "The test feature is normalized\n",
      "Validation Results\n",
      "mAP: 62.5%\n",
      "CMC curve, Rank-1  :84.1%\n",
      "CMC curve, Rank-2  :88.8%\n",
      "CMC curve, Rank-4  :92.8%\n",
      "CMC curve, Rank-6  :94.5%\n",
      "CMC curve, Rank-8  :95.6%\n",
      "CMC curve, Rank-10 :96.3%\n",
      "CMC curve, Rank-12 :96.9%\n",
      "CMC curve, Rank-14 :97.2%\n",
      "CMC curve, Rank-16 :97.4%\n",
      "CMC curve, Rank-18 :97.6%\n",
      "CMC curve, Rank-20 :97.8%\n",
      "CMC curve, Rank-22 :98.0%\n",
      "CMC curve, Rank-24 :98.1%\n",
      "CMC curve, Rank-26 :98.2%\n",
      "CMC curve, Rank-28 :98.3%\n",
      "CMC curve, Rank-30 :98.4%\n",
      "CMC curve, Rank-32 :98.4%\n"
     ]
    },
    {
     "name": "stderr",
     "output_type": "stream",
     "text": [
      "Train Epoch: 109 [259/259 (100%)] Loss: 0.040899: : 259it [01:23,  3.12it/s]"
     ]
    },
    {
     "name": "stdout",
     "output_type": "stream",
     "text": [
      "Enter inferencing\n",
      "Create evaluator\n"
     ]
    },
    {
     "name": "stderr",
     "output_type": "stream",
     "text": [
      "\n"
     ]
    },
    {
     "name": "stdout",
     "output_type": "stream",
     "text": [
      "The test feature is normalized\n",
      "Validation Results\n",
      "mAP: 62.6%\n",
      "CMC curve, Rank-1  :84.0%\n",
      "CMC curve, Rank-2  :88.9%\n",
      "CMC curve, Rank-4  :92.9%\n",
      "CMC curve, Rank-6  :94.6%\n",
      "CMC curve, Rank-8  :95.6%\n",
      "CMC curve, Rank-10 :96.4%\n",
      "CMC curve, Rank-12 :96.9%\n",
      "CMC curve, Rank-14 :97.3%\n",
      "CMC curve, Rank-16 :97.4%\n",
      "CMC curve, Rank-18 :97.7%\n",
      "CMC curve, Rank-20 :97.8%\n",
      "CMC curve, Rank-22 :97.9%\n",
      "CMC curve, Rank-24 :98.0%\n",
      "CMC curve, Rank-26 :98.0%\n",
      "CMC curve, Rank-28 :98.1%\n",
      "CMC curve, Rank-30 :98.3%\n",
      "CMC curve, Rank-32 :98.4%\n"
     ]
    },
    {
     "name": "stderr",
     "output_type": "stream",
     "text": [
      "Train Epoch: 110 [259/259 (100%)] Loss: 0.050358: : 259it [01:25,  3.04it/s]"
     ]
    },
    {
     "name": "stdout",
     "output_type": "stream",
     "text": [
      "Enter inferencing\n",
      "Create evaluator\n"
     ]
    },
    {
     "name": "stderr",
     "output_type": "stream",
     "text": [
      "\n"
     ]
    },
    {
     "name": "stdout",
     "output_type": "stream",
     "text": [
      "The test feature is normalized\n",
      "Validation Results\n",
      "mAP: 62.7%\n",
      "CMC curve, Rank-1  :84.1%\n",
      "CMC curve, Rank-2  :89.1%\n",
      "CMC curve, Rank-4  :92.8%\n",
      "CMC curve, Rank-6  :94.6%\n",
      "CMC curve, Rank-8  :95.8%\n",
      "CMC curve, Rank-10 :96.4%\n",
      "CMC curve, Rank-12 :96.8%\n",
      "CMC curve, Rank-14 :97.1%\n",
      "CMC curve, Rank-16 :97.5%\n",
      "CMC curve, Rank-18 :97.6%\n",
      "CMC curve, Rank-20 :97.8%\n",
      "CMC curve, Rank-22 :97.9%\n",
      "CMC curve, Rank-24 :98.0%\n",
      "CMC curve, Rank-26 :98.2%\n",
      "CMC curve, Rank-28 :98.3%\n",
      "CMC curve, Rank-30 :98.3%\n",
      "CMC curve, Rank-32 :98.4%\n"
     ]
    },
    {
     "name": "stderr",
     "output_type": "stream",
     "text": [
      "Train Epoch: 111 [259/259 (100%)] Loss: 0.035852: : 259it [01:23,  3.10it/s]"
     ]
    },
    {
     "name": "stdout",
     "output_type": "stream",
     "text": [
      "Enter inferencing\n",
      "Create evaluator\n"
     ]
    },
    {
     "name": "stderr",
     "output_type": "stream",
     "text": [
      "\n"
     ]
    },
    {
     "name": "stdout",
     "output_type": "stream",
     "text": [
      "The test feature is normalized\n",
      "Validation Results\n",
      "mAP: 62.6%\n",
      "CMC curve, Rank-1  :84.1%\n",
      "CMC curve, Rank-2  :88.9%\n",
      "CMC curve, Rank-4  :92.8%\n",
      "CMC curve, Rank-6  :94.6%\n",
      "CMC curve, Rank-8  :95.7%\n",
      "CMC curve, Rank-10 :96.4%\n",
      "CMC curve, Rank-12 :96.9%\n",
      "CMC curve, Rank-14 :97.1%\n",
      "CMC curve, Rank-16 :97.5%\n",
      "CMC curve, Rank-18 :97.7%\n",
      "CMC curve, Rank-20 :97.8%\n",
      "CMC curve, Rank-22 :97.9%\n",
      "CMC curve, Rank-24 :98.0%\n",
      "CMC curve, Rank-26 :98.2%\n",
      "CMC curve, Rank-28 :98.2%\n",
      "CMC curve, Rank-30 :98.4%\n",
      "CMC curve, Rank-32 :98.5%\n"
     ]
    },
    {
     "name": "stderr",
     "output_type": "stream",
     "text": [
      "Train Epoch: 112 [259/259 (100%)] Loss: 0.055955: : 259it [01:25,  3.04it/s]"
     ]
    },
    {
     "name": "stdout",
     "output_type": "stream",
     "text": [
      "Enter inferencing\n",
      "Create evaluator\n"
     ]
    },
    {
     "name": "stderr",
     "output_type": "stream",
     "text": [
      "\n"
     ]
    },
    {
     "name": "stdout",
     "output_type": "stream",
     "text": [
      "The test feature is normalized\n",
      "Validation Results\n",
      "mAP: 62.5%\n",
      "CMC curve, Rank-1  :83.8%\n",
      "CMC curve, Rank-2  :89.1%\n",
      "CMC curve, Rank-4  :92.8%\n",
      "CMC curve, Rank-6  :94.4%\n",
      "CMC curve, Rank-8  :95.6%\n",
      "CMC curve, Rank-10 :96.4%\n",
      "CMC curve, Rank-12 :96.8%\n",
      "CMC curve, Rank-14 :97.1%\n",
      "CMC curve, Rank-16 :97.4%\n",
      "CMC curve, Rank-18 :97.6%\n",
      "CMC curve, Rank-20 :97.8%\n",
      "CMC curve, Rank-22 :98.0%\n",
      "CMC curve, Rank-24 :98.1%\n",
      "CMC curve, Rank-26 :98.2%\n",
      "CMC curve, Rank-28 :98.3%\n",
      "CMC curve, Rank-30 :98.4%\n",
      "CMC curve, Rank-32 :98.5%\n"
     ]
    },
    {
     "name": "stderr",
     "output_type": "stream",
     "text": [
      "Train Epoch: 113 [259/259 (100%)] Loss: 0.086113: : 259it [01:25,  3.04it/s]"
     ]
    },
    {
     "name": "stdout",
     "output_type": "stream",
     "text": [
      "Enter inferencing\n",
      "Create evaluator\n"
     ]
    },
    {
     "name": "stderr",
     "output_type": "stream",
     "text": [
      "\n"
     ]
    },
    {
     "name": "stdout",
     "output_type": "stream",
     "text": [
      "The test feature is normalized\n",
      "Validation Results\n",
      "mAP: 62.7%\n",
      "CMC curve, Rank-1  :83.9%\n",
      "CMC curve, Rank-2  :89.0%\n",
      "CMC curve, Rank-4  :92.7%\n",
      "CMC curve, Rank-6  :94.7%\n",
      "CMC curve, Rank-8  :95.6%\n",
      "CMC curve, Rank-10 :96.4%\n",
      "CMC curve, Rank-12 :96.7%\n",
      "CMC curve, Rank-14 :97.1%\n",
      "CMC curve, Rank-16 :97.4%\n",
      "CMC curve, Rank-18 :97.7%\n",
      "CMC curve, Rank-20 :97.9%\n",
      "CMC curve, Rank-22 :98.0%\n",
      "CMC curve, Rank-24 :98.0%\n",
      "CMC curve, Rank-26 :98.2%\n",
      "CMC curve, Rank-28 :98.3%\n",
      "CMC curve, Rank-30 :98.3%\n",
      "CMC curve, Rank-32 :98.4%\n"
     ]
    },
    {
     "name": "stderr",
     "output_type": "stream",
     "text": [
      "Train Epoch: 114 [259/259 (100%)] Loss: 0.040658: : 259it [01:24,  3.07it/s]"
     ]
    },
    {
     "name": "stdout",
     "output_type": "stream",
     "text": [
      "Enter inferencing\n",
      "Create evaluator\n"
     ]
    },
    {
     "name": "stderr",
     "output_type": "stream",
     "text": [
      "\n"
     ]
    },
    {
     "name": "stdout",
     "output_type": "stream",
     "text": [
      "The test feature is normalized\n",
      "Validation Results\n",
      "mAP: 62.6%\n",
      "CMC curve, Rank-1  :84.0%\n",
      "CMC curve, Rank-2  :88.9%\n",
      "CMC curve, Rank-4  :92.8%\n",
      "CMC curve, Rank-6  :94.4%\n",
      "CMC curve, Rank-8  :95.6%\n",
      "CMC curve, Rank-10 :96.3%\n",
      "CMC curve, Rank-12 :96.9%\n",
      "CMC curve, Rank-14 :97.3%\n",
      "CMC curve, Rank-16 :97.4%\n",
      "CMC curve, Rank-18 :97.6%\n",
      "CMC curve, Rank-20 :97.8%\n",
      "CMC curve, Rank-22 :97.9%\n",
      "CMC curve, Rank-24 :98.1%\n",
      "CMC curve, Rank-26 :98.1%\n",
      "CMC curve, Rank-28 :98.3%\n",
      "CMC curve, Rank-30 :98.3%\n",
      "CMC curve, Rank-32 :98.4%\n"
     ]
    },
    {
     "name": "stderr",
     "output_type": "stream",
     "text": [
      "Train Epoch: 115 [259/259 (100%)] Loss: 0.048241: : 259it [01:23,  3.10it/s]"
     ]
    },
    {
     "name": "stdout",
     "output_type": "stream",
     "text": [
      "Enter inferencing\n",
      "Create evaluator\n"
     ]
    },
    {
     "name": "stderr",
     "output_type": "stream",
     "text": [
      "\n"
     ]
    },
    {
     "name": "stdout",
     "output_type": "stream",
     "text": [
      "The test feature is normalized\n",
      "Validation Results\n",
      "mAP: 62.6%\n",
      "CMC curve, Rank-1  :84.1%\n",
      "CMC curve, Rank-2  :88.6%\n",
      "CMC curve, Rank-4  :92.7%\n",
      "CMC curve, Rank-6  :94.5%\n",
      "CMC curve, Rank-8  :95.7%\n",
      "CMC curve, Rank-10 :96.4%\n",
      "CMC curve, Rank-12 :96.8%\n",
      "CMC curve, Rank-14 :97.1%\n",
      "CMC curve, Rank-16 :97.4%\n",
      "CMC curve, Rank-18 :97.6%\n",
      "CMC curve, Rank-20 :97.7%\n",
      "CMC curve, Rank-22 :97.9%\n",
      "CMC curve, Rank-24 :98.0%\n",
      "CMC curve, Rank-26 :98.1%\n",
      "CMC curve, Rank-28 :98.2%\n",
      "CMC curve, Rank-30 :98.3%\n",
      "CMC curve, Rank-32 :98.4%\n"
     ]
    },
    {
     "name": "stderr",
     "output_type": "stream",
     "text": [
      "Train Epoch: 116 [259/259 (100%)] Loss: 0.064908: : 259it [01:23,  3.11it/s]"
     ]
    },
    {
     "name": "stdout",
     "output_type": "stream",
     "text": [
      "Enter inferencing\n",
      "Create evaluator\n"
     ]
    },
    {
     "name": "stderr",
     "output_type": "stream",
     "text": [
      "\n"
     ]
    },
    {
     "name": "stdout",
     "output_type": "stream",
     "text": [
      "The test feature is normalized\n",
      "Validation Results\n",
      "mAP: 62.5%\n",
      "CMC curve, Rank-1  :84.0%\n",
      "CMC curve, Rank-2  :89.1%\n",
      "CMC curve, Rank-4  :92.7%\n",
      "CMC curve, Rank-6  :94.6%\n",
      "CMC curve, Rank-8  :95.5%\n",
      "CMC curve, Rank-10 :96.3%\n",
      "CMC curve, Rank-12 :96.9%\n",
      "CMC curve, Rank-14 :97.2%\n",
      "CMC curve, Rank-16 :97.5%\n",
      "CMC curve, Rank-18 :97.7%\n",
      "CMC curve, Rank-20 :97.8%\n",
      "CMC curve, Rank-22 :98.0%\n",
      "CMC curve, Rank-24 :98.1%\n",
      "CMC curve, Rank-26 :98.1%\n",
      "CMC curve, Rank-28 :98.2%\n",
      "CMC curve, Rank-30 :98.4%\n",
      "CMC curve, Rank-32 :98.5%\n"
     ]
    },
    {
     "name": "stderr",
     "output_type": "stream",
     "text": [
      "Train Epoch: 117 [259/259 (100%)] Loss: 0.033648: : 259it [01:23,  3.11it/s]"
     ]
    },
    {
     "name": "stdout",
     "output_type": "stream",
     "text": [
      "Enter inferencing\n",
      "Create evaluator\n"
     ]
    },
    {
     "name": "stderr",
     "output_type": "stream",
     "text": [
      "\n"
     ]
    },
    {
     "name": "stdout",
     "output_type": "stream",
     "text": [
      "The test feature is normalized\n",
      "Validation Results\n",
      "mAP: 62.6%\n",
      "CMC curve, Rank-1  :83.9%\n",
      "CMC curve, Rank-2  :89.0%\n",
      "CMC curve, Rank-4  :92.8%\n",
      "CMC curve, Rank-6  :94.6%\n",
      "CMC curve, Rank-8  :95.5%\n",
      "CMC curve, Rank-10 :96.2%\n",
      "CMC curve, Rank-12 :96.8%\n",
      "CMC curve, Rank-14 :97.1%\n",
      "CMC curve, Rank-16 :97.5%\n",
      "CMC curve, Rank-18 :97.7%\n",
      "CMC curve, Rank-20 :97.8%\n",
      "CMC curve, Rank-22 :98.0%\n",
      "CMC curve, Rank-24 :98.0%\n",
      "CMC curve, Rank-26 :98.2%\n",
      "CMC curve, Rank-28 :98.3%\n",
      "CMC curve, Rank-30 :98.5%\n",
      "CMC curve, Rank-32 :98.5%\n"
     ]
    },
    {
     "name": "stderr",
     "output_type": "stream",
     "text": [
      "Train Epoch: 118 [259/259 (100%)] Loss: 0.103490: : 259it [01:24,  3.08it/s]"
     ]
    },
    {
     "name": "stdout",
     "output_type": "stream",
     "text": [
      "Enter inferencing\n",
      "Create evaluator\n"
     ]
    },
    {
     "name": "stderr",
     "output_type": "stream",
     "text": [
      "\n"
     ]
    },
    {
     "name": "stdout",
     "output_type": "stream",
     "text": [
      "The test feature is normalized\n",
      "Validation Results\n",
      "mAP: 62.6%\n",
      "CMC curve, Rank-1  :83.8%\n",
      "CMC curve, Rank-2  :88.8%\n",
      "CMC curve, Rank-4  :92.7%\n",
      "CMC curve, Rank-6  :94.6%\n",
      "CMC curve, Rank-8  :95.6%\n",
      "CMC curve, Rank-10 :96.2%\n",
      "CMC curve, Rank-12 :96.8%\n",
      "CMC curve, Rank-14 :97.2%\n",
      "CMC curve, Rank-16 :97.5%\n",
      "CMC curve, Rank-18 :97.7%\n",
      "CMC curve, Rank-20 :97.8%\n",
      "CMC curve, Rank-22 :97.9%\n",
      "CMC curve, Rank-24 :98.0%\n",
      "CMC curve, Rank-26 :98.1%\n",
      "CMC curve, Rank-28 :98.2%\n",
      "CMC curve, Rank-30 :98.3%\n",
      "CMC curve, Rank-32 :98.4%\n"
     ]
    },
    {
     "name": "stderr",
     "output_type": "stream",
     "text": [
      "Train Epoch: 119 [259/259 (100%)] Loss: 0.042904: : 259it [01:25,  3.04it/s]"
     ]
    },
    {
     "name": "stdout",
     "output_type": "stream",
     "text": [
      "Enter inferencing\n",
      "Create evaluator\n"
     ]
    },
    {
     "name": "stderr",
     "output_type": "stream",
     "text": [
      "\n"
     ]
    },
    {
     "name": "stdout",
     "output_type": "stream",
     "text": [
      "The test feature is normalized\n",
      "Validation Results\n",
      "mAP: 62.6%\n",
      "CMC curve, Rank-1  :84.1%\n",
      "CMC curve, Rank-2  :89.0%\n",
      "CMC curve, Rank-4  :92.9%\n",
      "CMC curve, Rank-6  :94.6%\n",
      "CMC curve, Rank-8  :95.7%\n",
      "CMC curve, Rank-10 :96.5%\n",
      "CMC curve, Rank-12 :96.9%\n",
      "CMC curve, Rank-14 :97.2%\n",
      "CMC curve, Rank-16 :97.4%\n",
      "CMC curve, Rank-18 :97.7%\n",
      "CMC curve, Rank-20 :97.8%\n",
      "CMC curve, Rank-22 :98.0%\n",
      "CMC curve, Rank-24 :98.1%\n",
      "CMC curve, Rank-26 :98.3%\n",
      "CMC curve, Rank-28 :98.3%\n",
      "CMC curve, Rank-30 :98.3%\n",
      "CMC curve, Rank-32 :98.4%\n"
     ]
    },
    {
     "name": "stderr",
     "output_type": "stream",
     "text": [
      "Train Epoch: 120 [259/259 (100%)] Loss: 0.063949: : 259it [01:24,  3.08it/s]"
     ]
    },
    {
     "name": "stdout",
     "output_type": "stream",
     "text": [
      "Enter inferencing\n",
      "Create evaluator\n"
     ]
    },
    {
     "name": "stderr",
     "output_type": "stream",
     "text": [
      "\n"
     ]
    },
    {
     "name": "stdout",
     "output_type": "stream",
     "text": [
      "The test feature is normalized\n",
      "Validation Results\n",
      "mAP: 62.5%\n",
      "CMC curve, Rank-1  :84.0%\n",
      "CMC curve, Rank-2  :88.7%\n",
      "CMC curve, Rank-4  :93.0%\n",
      "CMC curve, Rank-6  :94.5%\n",
      "CMC curve, Rank-8  :95.4%\n",
      "CMC curve, Rank-10 :96.3%\n",
      "CMC curve, Rank-12 :96.8%\n",
      "CMC curve, Rank-14 :97.1%\n",
      "CMC curve, Rank-16 :97.4%\n",
      "CMC curve, Rank-18 :97.6%\n",
      "CMC curve, Rank-20 :97.7%\n",
      "CMC curve, Rank-22 :97.9%\n",
      "CMC curve, Rank-24 :98.0%\n",
      "CMC curve, Rank-26 :98.1%\n",
      "CMC curve, Rank-28 :98.2%\n",
      "CMC curve, Rank-30 :98.3%\n",
      "CMC curve, Rank-32 :98.5%\n"
     ]
    },
    {
     "name": "stderr",
     "output_type": "stream",
     "text": [
      "Train Epoch: 121 [259/259 (100%)] Loss: 0.038263: : 259it [01:24,  3.06it/s]"
     ]
    },
    {
     "name": "stdout",
     "output_type": "stream",
     "text": [
      "Enter inferencing\n",
      "Create evaluator\n"
     ]
    },
    {
     "name": "stderr",
     "output_type": "stream",
     "text": [
      "\n"
     ]
    },
    {
     "name": "stdout",
     "output_type": "stream",
     "text": [
      "The test feature is normalized\n",
      "Validation Results\n",
      "mAP: 62.6%\n",
      "CMC curve, Rank-1  :84.0%\n",
      "CMC curve, Rank-2  :89.0%\n",
      "CMC curve, Rank-4  :92.8%\n",
      "CMC curve, Rank-6  :94.7%\n",
      "CMC curve, Rank-8  :95.6%\n",
      "CMC curve, Rank-10 :96.3%\n",
      "CMC curve, Rank-12 :96.8%\n",
      "CMC curve, Rank-14 :97.1%\n",
      "CMC curve, Rank-16 :97.4%\n",
      "CMC curve, Rank-18 :97.6%\n",
      "CMC curve, Rank-20 :97.8%\n",
      "CMC curve, Rank-22 :97.9%\n",
      "CMC curve, Rank-24 :98.0%\n",
      "CMC curve, Rank-26 :98.1%\n",
      "CMC curve, Rank-28 :98.2%\n",
      "CMC curve, Rank-30 :98.3%\n",
      "CMC curve, Rank-32 :98.4%\n"
     ]
    },
    {
     "name": "stderr",
     "output_type": "stream",
     "text": [
      "Train Epoch: 122 [259/259 (100%)] Loss: 0.041430: : 259it [01:23,  3.11it/s]"
     ]
    },
    {
     "name": "stdout",
     "output_type": "stream",
     "text": [
      "Enter inferencing\n",
      "Create evaluator\n"
     ]
    },
    {
     "name": "stderr",
     "output_type": "stream",
     "text": [
      "\n"
     ]
    },
    {
     "name": "stdout",
     "output_type": "stream",
     "text": [
      "The test feature is normalized\n",
      "Validation Results\n",
      "mAP: 62.6%\n",
      "CMC curve, Rank-1  :84.1%\n",
      "CMC curve, Rank-2  :88.9%\n",
      "CMC curve, Rank-4  :92.7%\n",
      "CMC curve, Rank-6  :94.5%\n",
      "CMC curve, Rank-8  :95.8%\n",
      "CMC curve, Rank-10 :96.3%\n",
      "CMC curve, Rank-12 :96.8%\n",
      "CMC curve, Rank-14 :97.1%\n",
      "CMC curve, Rank-16 :97.4%\n",
      "CMC curve, Rank-18 :97.7%\n",
      "CMC curve, Rank-20 :97.8%\n",
      "CMC curve, Rank-22 :98.0%\n",
      "CMC curve, Rank-24 :98.0%\n",
      "CMC curve, Rank-26 :98.1%\n",
      "CMC curve, Rank-28 :98.2%\n",
      "CMC curve, Rank-30 :98.5%\n",
      "CMC curve, Rank-32 :98.5%\n"
     ]
    },
    {
     "name": "stderr",
     "output_type": "stream",
     "text": [
      "Train Epoch: 123 [259/259 (100%)] Loss: 0.044552: : 259it [01:23,  3.11it/s]"
     ]
    },
    {
     "name": "stdout",
     "output_type": "stream",
     "text": [
      "Enter inferencing\n",
      "Create evaluator\n"
     ]
    },
    {
     "name": "stderr",
     "output_type": "stream",
     "text": [
      "\n"
     ]
    },
    {
     "name": "stdout",
     "output_type": "stream",
     "text": [
      "The test feature is normalized\n",
      "Validation Results\n",
      "mAP: 62.6%\n",
      "CMC curve, Rank-1  :84.1%\n",
      "CMC curve, Rank-2  :88.7%\n",
      "CMC curve, Rank-4  :92.7%\n",
      "CMC curve, Rank-6  :94.7%\n",
      "CMC curve, Rank-8  :95.7%\n",
      "CMC curve, Rank-10 :96.3%\n",
      "CMC curve, Rank-12 :96.8%\n",
      "CMC curve, Rank-14 :97.2%\n",
      "CMC curve, Rank-16 :97.4%\n",
      "CMC curve, Rank-18 :97.7%\n",
      "CMC curve, Rank-20 :97.7%\n",
      "CMC curve, Rank-22 :97.9%\n",
      "CMC curve, Rank-24 :98.0%\n",
      "CMC curve, Rank-26 :98.2%\n",
      "CMC curve, Rank-28 :98.4%\n",
      "CMC curve, Rank-30 :98.4%\n",
      "CMC curve, Rank-32 :98.4%\n"
     ]
    },
    {
     "name": "stderr",
     "output_type": "stream",
     "text": [
      "Train Epoch: 124 [259/259 (100%)] Loss: 0.041563: : 259it [01:23,  3.11it/s]"
     ]
    },
    {
     "name": "stdout",
     "output_type": "stream",
     "text": [
      "Enter inferencing\n",
      "Create evaluator\n"
     ]
    },
    {
     "name": "stderr",
     "output_type": "stream",
     "text": [
      "\n"
     ]
    },
    {
     "name": "stdout",
     "output_type": "stream",
     "text": [
      "The test feature is normalized\n",
      "Validation Results\n",
      "mAP: 62.6%\n",
      "CMC curve, Rank-1  :84.0%\n",
      "CMC curve, Rank-2  :89.1%\n",
      "CMC curve, Rank-4  :92.8%\n",
      "CMC curve, Rank-6  :94.7%\n",
      "CMC curve, Rank-8  :95.7%\n",
      "CMC curve, Rank-10 :96.3%\n",
      "CMC curve, Rank-12 :96.9%\n",
      "CMC curve, Rank-14 :97.1%\n",
      "CMC curve, Rank-16 :97.5%\n",
      "CMC curve, Rank-18 :97.7%\n",
      "CMC curve, Rank-20 :97.8%\n",
      "CMC curve, Rank-22 :98.0%\n",
      "CMC curve, Rank-24 :98.1%\n",
      "CMC curve, Rank-26 :98.2%\n",
      "CMC curve, Rank-28 :98.3%\n",
      "CMC curve, Rank-30 :98.4%\n",
      "CMC curve, Rank-32 :98.4%\n"
     ]
    },
    {
     "name": "stderr",
     "output_type": "stream",
     "text": [
      "Train Epoch: 125 [259/259 (100%)] Loss: 0.067614: : 259it [01:23,  3.10it/s]"
     ]
    },
    {
     "name": "stdout",
     "output_type": "stream",
     "text": [
      "Enter inferencing\n",
      "Create evaluator\n"
     ]
    },
    {
     "name": "stderr",
     "output_type": "stream",
     "text": [
      "\n"
     ]
    },
    {
     "name": "stdout",
     "output_type": "stream",
     "text": [
      "The test feature is normalized\n",
      "Validation Results\n",
      "mAP: 62.6%\n",
      "CMC curve, Rank-1  :84.0%\n",
      "CMC curve, Rank-2  :88.6%\n",
      "CMC curve, Rank-4  :92.9%\n",
      "CMC curve, Rank-6  :94.3%\n",
      "CMC curve, Rank-8  :95.6%\n",
      "CMC curve, Rank-10 :96.3%\n",
      "CMC curve, Rank-12 :96.9%\n",
      "CMC curve, Rank-14 :97.2%\n",
      "CMC curve, Rank-16 :97.5%\n",
      "CMC curve, Rank-18 :97.6%\n",
      "CMC curve, Rank-20 :97.8%\n",
      "CMC curve, Rank-22 :97.9%\n",
      "CMC curve, Rank-24 :97.9%\n",
      "CMC curve, Rank-26 :98.1%\n",
      "CMC curve, Rank-28 :98.2%\n",
      "CMC curve, Rank-30 :98.4%\n",
      "CMC curve, Rank-32 :98.5%\n"
     ]
    },
    {
     "name": "stderr",
     "output_type": "stream",
     "text": [
      "Train Epoch: 126 [259/259 (100%)] Loss: 0.030190: : 259it [01:23,  3.10it/s]"
     ]
    },
    {
     "name": "stdout",
     "output_type": "stream",
     "text": [
      "Enter inferencing\n",
      "Create evaluator\n"
     ]
    },
    {
     "name": "stderr",
     "output_type": "stream",
     "text": [
      "\n"
     ]
    },
    {
     "name": "stdout",
     "output_type": "stream",
     "text": [
      "The test feature is normalized\n",
      "Validation Results\n",
      "mAP: 62.7%\n",
      "CMC curve, Rank-1  :84.1%\n",
      "CMC curve, Rank-2  :88.9%\n",
      "CMC curve, Rank-4  :93.0%\n",
      "CMC curve, Rank-6  :94.6%\n",
      "CMC curve, Rank-8  :95.7%\n",
      "CMC curve, Rank-10 :96.4%\n",
      "CMC curve, Rank-12 :96.8%\n",
      "CMC curve, Rank-14 :97.1%\n",
      "CMC curve, Rank-16 :97.5%\n",
      "CMC curve, Rank-18 :97.7%\n",
      "CMC curve, Rank-20 :97.8%\n",
      "CMC curve, Rank-22 :97.9%\n",
      "CMC curve, Rank-24 :98.0%\n",
      "CMC curve, Rank-26 :98.2%\n",
      "CMC curve, Rank-28 :98.4%\n",
      "CMC curve, Rank-30 :98.5%\n",
      "CMC curve, Rank-32 :98.5%\n"
     ]
    },
    {
     "name": "stderr",
     "output_type": "stream",
     "text": [
      "Train Epoch: 127 [259/259 (100%)] Loss: 0.041084: : 259it [01:23,  3.11it/s]"
     ]
    },
    {
     "name": "stdout",
     "output_type": "stream",
     "text": [
      "Enter inferencing\n",
      "Create evaluator\n"
     ]
    },
    {
     "name": "stderr",
     "output_type": "stream",
     "text": [
      "\n"
     ]
    },
    {
     "name": "stdout",
     "output_type": "stream",
     "text": [
      "The test feature is normalized\n",
      "Validation Results\n",
      "mAP: 62.6%\n",
      "CMC curve, Rank-1  :84.3%\n",
      "CMC curve, Rank-2  :88.9%\n",
      "CMC curve, Rank-4  :92.7%\n",
      "CMC curve, Rank-6  :94.6%\n",
      "CMC curve, Rank-8  :95.5%\n",
      "CMC curve, Rank-10 :96.4%\n",
      "CMC curve, Rank-12 :96.9%\n",
      "CMC curve, Rank-14 :97.2%\n",
      "CMC curve, Rank-16 :97.4%\n",
      "CMC curve, Rank-18 :97.6%\n",
      "CMC curve, Rank-20 :97.7%\n",
      "CMC curve, Rank-22 :98.0%\n",
      "CMC curve, Rank-24 :98.1%\n",
      "CMC curve, Rank-26 :98.2%\n",
      "CMC curve, Rank-28 :98.3%\n",
      "CMC curve, Rank-30 :98.3%\n",
      "CMC curve, Rank-32 :98.5%\n"
     ]
    },
    {
     "name": "stderr",
     "output_type": "stream",
     "text": [
      "Train Epoch: 128 [259/259 (100%)] Loss: 0.096892: : 259it [01:23,  3.11it/s]"
     ]
    },
    {
     "name": "stdout",
     "output_type": "stream",
     "text": [
      "Enter inferencing\n",
      "Create evaluator\n"
     ]
    },
    {
     "name": "stderr",
     "output_type": "stream",
     "text": [
      "\n"
     ]
    },
    {
     "name": "stdout",
     "output_type": "stream",
     "text": [
      "The test feature is normalized\n",
      "Validation Results\n",
      "mAP: 62.7%\n",
      "CMC curve, Rank-1  :84.0%\n",
      "CMC curve, Rank-2  :89.0%\n",
      "CMC curve, Rank-4  :93.0%\n",
      "CMC curve, Rank-6  :94.6%\n",
      "CMC curve, Rank-8  :95.7%\n",
      "CMC curve, Rank-10 :96.3%\n",
      "CMC curve, Rank-12 :96.8%\n",
      "CMC curve, Rank-14 :97.1%\n",
      "CMC curve, Rank-16 :97.5%\n",
      "CMC curve, Rank-18 :97.6%\n",
      "CMC curve, Rank-20 :97.8%\n",
      "CMC curve, Rank-22 :97.9%\n",
      "CMC curve, Rank-24 :98.0%\n",
      "CMC curve, Rank-26 :98.1%\n",
      "CMC curve, Rank-28 :98.2%\n",
      "CMC curve, Rank-30 :98.4%\n",
      "CMC curve, Rank-32 :98.4%\n"
     ]
    },
    {
     "name": "stderr",
     "output_type": "stream",
     "text": [
      "Train Epoch: 129 [259/259 (100%)] Loss: 0.058972: : 259it [01:23,  3.12it/s]"
     ]
    },
    {
     "name": "stdout",
     "output_type": "stream",
     "text": [
      "Enter inferencing\n",
      "Create evaluator\n"
     ]
    },
    {
     "name": "stderr",
     "output_type": "stream",
     "text": [
      "\n"
     ]
    },
    {
     "name": "stdout",
     "output_type": "stream",
     "text": [
      "The test feature is normalized\n",
      "Validation Results\n",
      "mAP: 62.4%\n",
      "CMC curve, Rank-1  :84.0%\n",
      "CMC curve, Rank-2  :88.7%\n",
      "CMC curve, Rank-4  :92.6%\n",
      "CMC curve, Rank-6  :94.3%\n",
      "CMC curve, Rank-8  :95.7%\n",
      "CMC curve, Rank-10 :96.3%\n",
      "CMC curve, Rank-12 :96.8%\n",
      "CMC curve, Rank-14 :97.1%\n",
      "CMC curve, Rank-16 :97.4%\n",
      "CMC curve, Rank-18 :97.6%\n",
      "CMC curve, Rank-20 :97.7%\n",
      "CMC curve, Rank-22 :97.9%\n",
      "CMC curve, Rank-24 :98.0%\n",
      "CMC curve, Rank-26 :98.2%\n",
      "CMC curve, Rank-28 :98.2%\n",
      "CMC curve, Rank-30 :98.4%\n",
      "CMC curve, Rank-32 :98.5%\n"
     ]
    },
    {
     "name": "stderr",
     "output_type": "stream",
     "text": [
      "Train Epoch: 130 [259/259 (100%)] Loss: 0.028614: : 259it [01:22,  3.12it/s]"
     ]
    },
    {
     "name": "stdout",
     "output_type": "stream",
     "text": [
      "Enter inferencing\n",
      "Create evaluator\n"
     ]
    },
    {
     "name": "stderr",
     "output_type": "stream",
     "text": [
      "\n"
     ]
    },
    {
     "name": "stdout",
     "output_type": "stream",
     "text": [
      "The test feature is normalized\n",
      "Validation Results\n",
      "mAP: 62.6%\n",
      "CMC curve, Rank-1  :84.2%\n",
      "CMC curve, Rank-2  :88.9%\n",
      "CMC curve, Rank-4  :92.8%\n",
      "CMC curve, Rank-6  :94.6%\n",
      "CMC curve, Rank-8  :95.6%\n",
      "CMC curve, Rank-10 :96.4%\n",
      "CMC curve, Rank-12 :96.8%\n",
      "CMC curve, Rank-14 :97.1%\n",
      "CMC curve, Rank-16 :97.4%\n",
      "CMC curve, Rank-18 :97.6%\n",
      "CMC curve, Rank-20 :97.8%\n",
      "CMC curve, Rank-22 :97.9%\n",
      "CMC curve, Rank-24 :98.0%\n",
      "CMC curve, Rank-26 :98.1%\n",
      "CMC curve, Rank-28 :98.2%\n",
      "CMC curve, Rank-30 :98.3%\n",
      "CMC curve, Rank-32 :98.5%\n"
     ]
    },
    {
     "name": "stderr",
     "output_type": "stream",
     "text": [
      "Train Epoch: 131 [259/259 (100%)] Loss: 0.048936: : 259it [01:25,  3.02it/s]"
     ]
    },
    {
     "name": "stdout",
     "output_type": "stream",
     "text": [
      "Enter inferencing\n",
      "Create evaluator\n"
     ]
    },
    {
     "name": "stderr",
     "output_type": "stream",
     "text": [
      "\n"
     ]
    },
    {
     "name": "stdout",
     "output_type": "stream",
     "text": [
      "The test feature is normalized\n",
      "Validation Results\n",
      "mAP: 62.7%\n",
      "CMC curve, Rank-1  :84.1%\n",
      "CMC curve, Rank-2  :88.9%\n",
      "CMC curve, Rank-4  :92.7%\n",
      "CMC curve, Rank-6  :94.5%\n",
      "CMC curve, Rank-8  :95.7%\n",
      "CMC curve, Rank-10 :96.4%\n",
      "CMC curve, Rank-12 :96.9%\n",
      "CMC curve, Rank-14 :97.1%\n",
      "CMC curve, Rank-16 :97.4%\n",
      "CMC curve, Rank-18 :97.7%\n",
      "CMC curve, Rank-20 :97.8%\n",
      "CMC curve, Rank-22 :97.9%\n",
      "CMC curve, Rank-24 :98.0%\n",
      "CMC curve, Rank-26 :98.2%\n",
      "CMC curve, Rank-28 :98.2%\n",
      "CMC curve, Rank-30 :98.4%\n",
      "CMC curve, Rank-32 :98.5%\n"
     ]
    },
    {
     "name": "stderr",
     "output_type": "stream",
     "text": [
      "Train Epoch: 132 [259/259 (100%)] Loss: 0.052850: : 259it [01:25,  3.03it/s]"
     ]
    },
    {
     "name": "stdout",
     "output_type": "stream",
     "text": [
      "Enter inferencing\n",
      "Create evaluator\n"
     ]
    },
    {
     "name": "stderr",
     "output_type": "stream",
     "text": [
      "\n"
     ]
    },
    {
     "name": "stdout",
     "output_type": "stream",
     "text": [
      "The test feature is normalized\n",
      "Validation Results\n",
      "mAP: 62.7%\n",
      "CMC curve, Rank-1  :84.2%\n",
      "CMC curve, Rank-2  :89.0%\n",
      "CMC curve, Rank-4  :92.7%\n",
      "CMC curve, Rank-6  :94.9%\n",
      "CMC curve, Rank-8  :95.6%\n",
      "CMC curve, Rank-10 :96.4%\n",
      "CMC curve, Rank-12 :96.8%\n",
      "CMC curve, Rank-14 :97.1%\n",
      "CMC curve, Rank-16 :97.4%\n",
      "CMC curve, Rank-18 :97.6%\n",
      "CMC curve, Rank-20 :97.8%\n",
      "CMC curve, Rank-22 :98.0%\n",
      "CMC curve, Rank-24 :98.0%\n",
      "CMC curve, Rank-26 :98.2%\n",
      "CMC curve, Rank-28 :98.3%\n",
      "CMC curve, Rank-30 :98.3%\n",
      "CMC curve, Rank-32 :98.4%\n"
     ]
    },
    {
     "name": "stderr",
     "output_type": "stream",
     "text": [
      "Train Epoch: 133 [259/259 (100%)] Loss: 0.052143: : 259it [01:23,  3.11it/s]"
     ]
    },
    {
     "name": "stdout",
     "output_type": "stream",
     "text": [
      "Enter inferencing\n",
      "Create evaluator\n"
     ]
    },
    {
     "name": "stderr",
     "output_type": "stream",
     "text": [
      "\n"
     ]
    },
    {
     "name": "stdout",
     "output_type": "stream",
     "text": [
      "The test feature is normalized\n",
      "Validation Results\n",
      "mAP: 62.7%\n",
      "CMC curve, Rank-1  :84.0%\n",
      "CMC curve, Rank-2  :89.1%\n",
      "CMC curve, Rank-4  :92.7%\n",
      "CMC curve, Rank-6  :94.5%\n",
      "CMC curve, Rank-8  :95.5%\n",
      "CMC curve, Rank-10 :96.3%\n",
      "CMC curve, Rank-12 :96.8%\n",
      "CMC curve, Rank-14 :97.1%\n",
      "CMC curve, Rank-16 :97.4%\n",
      "CMC curve, Rank-18 :97.7%\n",
      "CMC curve, Rank-20 :97.8%\n",
      "CMC curve, Rank-22 :97.9%\n",
      "CMC curve, Rank-24 :98.0%\n",
      "CMC curve, Rank-26 :98.2%\n",
      "CMC curve, Rank-28 :98.2%\n",
      "CMC curve, Rank-30 :98.3%\n",
      "CMC curve, Rank-32 :98.5%\n"
     ]
    },
    {
     "name": "stderr",
     "output_type": "stream",
     "text": [
      "Train Epoch: 134 [259/259 (100%)] Loss: 0.029986: : 259it [01:23,  3.11it/s]"
     ]
    },
    {
     "name": "stdout",
     "output_type": "stream",
     "text": [
      "Enter inferencing\n",
      "Create evaluator\n"
     ]
    },
    {
     "name": "stderr",
     "output_type": "stream",
     "text": [
      "\n"
     ]
    },
    {
     "name": "stdout",
     "output_type": "stream",
     "text": [
      "The test feature is normalized\n",
      "Validation Results\n",
      "mAP: 62.7%\n",
      "CMC curve, Rank-1  :84.2%\n",
      "CMC curve, Rank-2  :89.1%\n",
      "CMC curve, Rank-4  :92.8%\n",
      "CMC curve, Rank-6  :94.5%\n",
      "CMC curve, Rank-8  :95.7%\n",
      "CMC curve, Rank-10 :96.3%\n",
      "CMC curve, Rank-12 :96.7%\n",
      "CMC curve, Rank-14 :97.1%\n",
      "CMC curve, Rank-16 :97.4%\n",
      "CMC curve, Rank-18 :97.7%\n",
      "CMC curve, Rank-20 :97.8%\n",
      "CMC curve, Rank-22 :97.9%\n",
      "CMC curve, Rank-24 :98.0%\n",
      "CMC curve, Rank-26 :98.2%\n",
      "CMC curve, Rank-28 :98.2%\n",
      "CMC curve, Rank-30 :98.4%\n",
      "CMC curve, Rank-32 :98.5%\n"
     ]
    },
    {
     "name": "stderr",
     "output_type": "stream",
     "text": [
      "Train Epoch: 135 [259/259 (100%)] Loss: 0.031429: : 259it [01:23,  3.11it/s]"
     ]
    },
    {
     "name": "stdout",
     "output_type": "stream",
     "text": [
      "Enter inferencing\n",
      "Create evaluator\n"
     ]
    },
    {
     "name": "stderr",
     "output_type": "stream",
     "text": [
      "\n"
     ]
    },
    {
     "name": "stdout",
     "output_type": "stream",
     "text": [
      "The test feature is normalized\n",
      "Validation Results\n",
      "mAP: 62.5%\n",
      "CMC curve, Rank-1  :83.8%\n",
      "CMC curve, Rank-2  :88.8%\n",
      "CMC curve, Rank-4  :92.7%\n",
      "CMC curve, Rank-6  :94.7%\n",
      "CMC curve, Rank-8  :95.6%\n",
      "CMC curve, Rank-10 :96.3%\n",
      "CMC curve, Rank-12 :96.9%\n",
      "CMC curve, Rank-14 :97.2%\n",
      "CMC curve, Rank-16 :97.4%\n",
      "CMC curve, Rank-18 :97.6%\n",
      "CMC curve, Rank-20 :97.7%\n",
      "CMC curve, Rank-22 :97.9%\n",
      "CMC curve, Rank-24 :97.9%\n",
      "CMC curve, Rank-26 :98.0%\n",
      "CMC curve, Rank-28 :98.2%\n",
      "CMC curve, Rank-30 :98.4%\n",
      "CMC curve, Rank-32 :98.4%\n"
     ]
    },
    {
     "name": "stderr",
     "output_type": "stream",
     "text": [
      "Train Epoch: 136 [259/259 (100%)] Loss: 0.032200: : 259it [01:23,  3.11it/s]"
     ]
    },
    {
     "name": "stdout",
     "output_type": "stream",
     "text": [
      "Enter inferencing\n",
      "Create evaluator\n"
     ]
    },
    {
     "name": "stderr",
     "output_type": "stream",
     "text": [
      "\n"
     ]
    },
    {
     "name": "stdout",
     "output_type": "stream",
     "text": [
      "The test feature is normalized\n",
      "Validation Results\n",
      "mAP: 62.6%\n",
      "CMC curve, Rank-1  :84.2%\n",
      "CMC curve, Rank-2  :89.1%\n",
      "CMC curve, Rank-4  :92.9%\n",
      "CMC curve, Rank-6  :94.4%\n",
      "CMC curve, Rank-8  :95.7%\n",
      "CMC curve, Rank-10 :96.5%\n",
      "CMC curve, Rank-12 :96.8%\n",
      "CMC curve, Rank-14 :97.0%\n",
      "CMC curve, Rank-16 :97.4%\n",
      "CMC curve, Rank-18 :97.7%\n",
      "CMC curve, Rank-20 :97.9%\n",
      "CMC curve, Rank-22 :98.0%\n",
      "CMC curve, Rank-24 :98.1%\n",
      "CMC curve, Rank-26 :98.2%\n",
      "CMC curve, Rank-28 :98.3%\n",
      "CMC curve, Rank-30 :98.4%\n",
      "CMC curve, Rank-32 :98.5%\n"
     ]
    },
    {
     "name": "stderr",
     "output_type": "stream",
     "text": [
      "Train Epoch: 137 [259/259 (100%)] Loss: 0.030404: : 259it [01:23,  3.11it/s]"
     ]
    },
    {
     "name": "stdout",
     "output_type": "stream",
     "text": [
      "Enter inferencing\n",
      "Create evaluator\n"
     ]
    },
    {
     "name": "stderr",
     "output_type": "stream",
     "text": [
      "\n"
     ]
    },
    {
     "name": "stdout",
     "output_type": "stream",
     "text": [
      "The test feature is normalized\n",
      "Validation Results\n",
      "mAP: 62.7%\n",
      "CMC curve, Rank-1  :83.8%\n",
      "CMC curve, Rank-2  :89.0%\n",
      "CMC curve, Rank-4  :92.8%\n",
      "CMC curve, Rank-6  :94.5%\n",
      "CMC curve, Rank-8  :95.5%\n",
      "CMC curve, Rank-10 :96.3%\n",
      "CMC curve, Rank-12 :96.7%\n",
      "CMC curve, Rank-14 :97.0%\n",
      "CMC curve, Rank-16 :97.4%\n",
      "CMC curve, Rank-18 :97.5%\n",
      "CMC curve, Rank-20 :97.7%\n",
      "CMC curve, Rank-22 :97.8%\n",
      "CMC curve, Rank-24 :98.0%\n",
      "CMC curve, Rank-26 :98.0%\n",
      "CMC curve, Rank-28 :98.3%\n",
      "CMC curve, Rank-30 :98.5%\n",
      "CMC curve, Rank-32 :98.6%\n"
     ]
    },
    {
     "name": "stderr",
     "output_type": "stream",
     "text": [
      "Train Epoch: 138 [259/259 (100%)] Loss: 0.041028: : 259it [01:23,  3.12it/s]"
     ]
    },
    {
     "name": "stdout",
     "output_type": "stream",
     "text": [
      "Enter inferencing\n",
      "Create evaluator\n"
     ]
    },
    {
     "name": "stderr",
     "output_type": "stream",
     "text": [
      "\n"
     ]
    },
    {
     "name": "stdout",
     "output_type": "stream",
     "text": [
      "The test feature is normalized\n",
      "Validation Results\n",
      "mAP: 62.5%\n",
      "CMC curve, Rank-1  :83.8%\n",
      "CMC curve, Rank-2  :89.0%\n",
      "CMC curve, Rank-4  :92.8%\n",
      "CMC curve, Rank-6  :94.4%\n",
      "CMC curve, Rank-8  :95.5%\n",
      "CMC curve, Rank-10 :96.3%\n",
      "CMC curve, Rank-12 :96.8%\n",
      "CMC curve, Rank-14 :97.2%\n",
      "CMC curve, Rank-16 :97.5%\n",
      "CMC curve, Rank-18 :97.6%\n",
      "CMC curve, Rank-20 :97.7%\n",
      "CMC curve, Rank-22 :97.8%\n",
      "CMC curve, Rank-24 :98.1%\n",
      "CMC curve, Rank-26 :98.2%\n",
      "CMC curve, Rank-28 :98.4%\n",
      "CMC curve, Rank-30 :98.5%\n",
      "CMC curve, Rank-32 :98.5%\n"
     ]
    },
    {
     "name": "stderr",
     "output_type": "stream",
     "text": [
      "Train Epoch: 139 [259/259 (100%)] Loss: 0.034880: : 259it [01:23,  3.12it/s]"
     ]
    },
    {
     "name": "stdout",
     "output_type": "stream",
     "text": [
      "Enter inferencing\n",
      "Create evaluator\n"
     ]
    },
    {
     "name": "stderr",
     "output_type": "stream",
     "text": [
      "\n"
     ]
    },
    {
     "name": "stdout",
     "output_type": "stream",
     "text": [
      "The test feature is normalized\n",
      "Validation Results\n",
      "mAP: 62.6%\n",
      "CMC curve, Rank-1  :83.9%\n",
      "CMC curve, Rank-2  :89.0%\n",
      "CMC curve, Rank-4  :92.8%\n",
      "CMC curve, Rank-6  :94.6%\n",
      "CMC curve, Rank-8  :95.6%\n",
      "CMC curve, Rank-10 :96.3%\n",
      "CMC curve, Rank-12 :96.8%\n",
      "CMC curve, Rank-14 :97.2%\n",
      "CMC curve, Rank-16 :97.5%\n",
      "CMC curve, Rank-18 :97.7%\n",
      "CMC curve, Rank-20 :97.8%\n",
      "CMC curve, Rank-22 :97.9%\n",
      "CMC curve, Rank-24 :98.0%\n",
      "CMC curve, Rank-26 :98.1%\n",
      "CMC curve, Rank-28 :98.3%\n",
      "CMC curve, Rank-30 :98.3%\n",
      "CMC curve, Rank-32 :98.4%\n"
     ]
    },
    {
     "name": "stderr",
     "output_type": "stream",
     "text": [
      "Train Epoch: 140 [259/259 (100%)] Loss: 0.032707: : 259it [01:23,  3.12it/s]"
     ]
    },
    {
     "name": "stdout",
     "output_type": "stream",
     "text": [
      "Enter inferencing\n",
      "Create evaluator\n"
     ]
    },
    {
     "name": "stderr",
     "output_type": "stream",
     "text": [
      "\n"
     ]
    },
    {
     "name": "stdout",
     "output_type": "stream",
     "text": [
      "The test feature is normalized\n",
      "Validation Results\n",
      "mAP: 62.5%\n",
      "CMC curve, Rank-1  :84.0%\n",
      "CMC curve, Rank-2  :88.9%\n",
      "CMC curve, Rank-4  :92.8%\n",
      "CMC curve, Rank-6  :94.5%\n",
      "CMC curve, Rank-8  :95.6%\n",
      "CMC curve, Rank-10 :96.4%\n",
      "CMC curve, Rank-12 :96.9%\n",
      "CMC curve, Rank-14 :97.1%\n",
      "CMC curve, Rank-16 :97.4%\n",
      "CMC curve, Rank-18 :97.6%\n",
      "CMC curve, Rank-20 :97.8%\n",
      "CMC curve, Rank-22 :98.0%\n",
      "CMC curve, Rank-24 :98.1%\n",
      "CMC curve, Rank-26 :98.2%\n",
      "CMC curve, Rank-28 :98.3%\n",
      "CMC curve, Rank-30 :98.4%\n",
      "CMC curve, Rank-32 :98.5%\n"
     ]
    },
    {
     "name": "stderr",
     "output_type": "stream",
     "text": [
      "Train Epoch: 141 [259/259 (100%)] Loss: 0.068837: : 259it [01:23,  3.12it/s]"
     ]
    },
    {
     "name": "stdout",
     "output_type": "stream",
     "text": [
      "Enter inferencing\n",
      "Create evaluator\n"
     ]
    },
    {
     "name": "stderr",
     "output_type": "stream",
     "text": [
      "\n"
     ]
    },
    {
     "name": "stdout",
     "output_type": "stream",
     "text": [
      "The test feature is normalized\n",
      "Validation Results\n",
      "mAP: 62.5%\n",
      "CMC curve, Rank-1  :84.0%\n",
      "CMC curve, Rank-2  :88.9%\n",
      "CMC curve, Rank-4  :92.4%\n",
      "CMC curve, Rank-6  :94.4%\n",
      "CMC curve, Rank-8  :95.7%\n",
      "CMC curve, Rank-10 :96.4%\n",
      "CMC curve, Rank-12 :96.9%\n",
      "CMC curve, Rank-14 :97.1%\n",
      "CMC curve, Rank-16 :97.5%\n",
      "CMC curve, Rank-18 :97.7%\n",
      "CMC curve, Rank-20 :97.8%\n",
      "CMC curve, Rank-22 :97.9%\n",
      "CMC curve, Rank-24 :98.0%\n",
      "CMC curve, Rank-26 :98.2%\n",
      "CMC curve, Rank-28 :98.3%\n",
      "CMC curve, Rank-30 :98.3%\n",
      "CMC curve, Rank-32 :98.4%\n"
     ]
    },
    {
     "name": "stderr",
     "output_type": "stream",
     "text": [
      "Train Epoch: 142 [259/259 (100%)] Loss: 0.040303: : 259it [01:27,  2.97it/s]"
     ]
    },
    {
     "name": "stdout",
     "output_type": "stream",
     "text": [
      "Enter inferencing\n",
      "Create evaluator\n"
     ]
    },
    {
     "name": "stderr",
     "output_type": "stream",
     "text": [
      "\n"
     ]
    },
    {
     "name": "stdout",
     "output_type": "stream",
     "text": [
      "The test feature is normalized\n",
      "Validation Results\n",
      "mAP: 62.6%\n",
      "CMC curve, Rank-1  :84.0%\n",
      "CMC curve, Rank-2  :89.0%\n",
      "CMC curve, Rank-4  :92.6%\n",
      "CMC curve, Rank-6  :94.5%\n",
      "CMC curve, Rank-8  :95.7%\n",
      "CMC curve, Rank-10 :96.3%\n",
      "CMC curve, Rank-12 :96.8%\n",
      "CMC curve, Rank-14 :97.2%\n",
      "CMC curve, Rank-16 :97.5%\n",
      "CMC curve, Rank-18 :97.7%\n",
      "CMC curve, Rank-20 :97.9%\n",
      "CMC curve, Rank-22 :98.0%\n",
      "CMC curve, Rank-24 :98.1%\n",
      "CMC curve, Rank-26 :98.2%\n",
      "CMC curve, Rank-28 :98.3%\n",
      "CMC curve, Rank-30 :98.4%\n",
      "CMC curve, Rank-32 :98.5%\n"
     ]
    },
    {
     "name": "stderr",
     "output_type": "stream",
     "text": [
      "Train Epoch: 143 [259/259 (100%)] Loss: 0.033685: : 259it [01:28,  2.93it/s]"
     ]
    },
    {
     "name": "stdout",
     "output_type": "stream",
     "text": [
      "Enter inferencing\n",
      "Create evaluator\n"
     ]
    },
    {
     "name": "stderr",
     "output_type": "stream",
     "text": [
      "\n"
     ]
    },
    {
     "name": "stdout",
     "output_type": "stream",
     "text": [
      "The test feature is normalized\n",
      "Validation Results\n",
      "mAP: 62.6%\n",
      "CMC curve, Rank-1  :83.8%\n",
      "CMC curve, Rank-2  :88.8%\n",
      "CMC curve, Rank-4  :92.7%\n",
      "CMC curve, Rank-6  :94.5%\n",
      "CMC curve, Rank-8  :95.5%\n",
      "CMC curve, Rank-10 :96.3%\n",
      "CMC curve, Rank-12 :96.8%\n",
      "CMC curve, Rank-14 :97.0%\n",
      "CMC curve, Rank-16 :97.4%\n",
      "CMC curve, Rank-18 :97.7%\n",
      "CMC curve, Rank-20 :97.9%\n",
      "CMC curve, Rank-22 :97.9%\n",
      "CMC curve, Rank-24 :98.0%\n",
      "CMC curve, Rank-26 :98.2%\n",
      "CMC curve, Rank-28 :98.3%\n",
      "CMC curve, Rank-30 :98.5%\n",
      "CMC curve, Rank-32 :98.5%\n"
     ]
    },
    {
     "name": "stderr",
     "output_type": "stream",
     "text": [
      "Train Epoch: 144 [259/259 (100%)] Loss: 0.039220: : 259it [01:28,  2.93it/s]"
     ]
    },
    {
     "name": "stdout",
     "output_type": "stream",
     "text": [
      "Enter inferencing\n",
      "Create evaluator\n"
     ]
    },
    {
     "name": "stderr",
     "output_type": "stream",
     "text": [
      "\n"
     ]
    },
    {
     "name": "stdout",
     "output_type": "stream",
     "text": [
      "The test feature is normalized\n",
      "Validation Results\n",
      "mAP: 62.5%\n",
      "CMC curve, Rank-1  :83.8%\n",
      "CMC curve, Rank-2  :88.8%\n",
      "CMC curve, Rank-4  :92.7%\n",
      "CMC curve, Rank-6  :94.5%\n",
      "CMC curve, Rank-8  :95.6%\n",
      "CMC curve, Rank-10 :96.3%\n",
      "CMC curve, Rank-12 :96.9%\n",
      "CMC curve, Rank-14 :97.1%\n",
      "CMC curve, Rank-16 :97.5%\n",
      "CMC curve, Rank-18 :97.7%\n",
      "CMC curve, Rank-20 :97.9%\n",
      "CMC curve, Rank-22 :98.0%\n",
      "CMC curve, Rank-24 :98.0%\n",
      "CMC curve, Rank-26 :98.2%\n",
      "CMC curve, Rank-28 :98.3%\n",
      "CMC curve, Rank-30 :98.4%\n",
      "CMC curve, Rank-32 :98.5%\n"
     ]
    },
    {
     "name": "stderr",
     "output_type": "stream",
     "text": [
      "Train Epoch: 145 [259/259 (100%)] Loss: 0.036404: : 259it [01:26,  3.00it/s]"
     ]
    },
    {
     "name": "stdout",
     "output_type": "stream",
     "text": [
      "Enter inferencing\n",
      "Create evaluator\n"
     ]
    },
    {
     "name": "stderr",
     "output_type": "stream",
     "text": [
      "\n"
     ]
    },
    {
     "name": "stdout",
     "output_type": "stream",
     "text": [
      "The test feature is normalized\n",
      "Validation Results\n",
      "mAP: 62.5%\n",
      "CMC curve, Rank-1  :84.1%\n",
      "CMC curve, Rank-2  :88.7%\n",
      "CMC curve, Rank-4  :92.7%\n",
      "CMC curve, Rank-6  :94.5%\n",
      "CMC curve, Rank-8  :95.7%\n",
      "CMC curve, Rank-10 :96.5%\n",
      "CMC curve, Rank-12 :96.8%\n",
      "CMC curve, Rank-14 :97.1%\n",
      "CMC curve, Rank-16 :97.4%\n",
      "CMC curve, Rank-18 :97.7%\n",
      "CMC curve, Rank-20 :97.8%\n",
      "CMC curve, Rank-22 :97.9%\n",
      "CMC curve, Rank-24 :98.0%\n",
      "CMC curve, Rank-26 :98.1%\n",
      "CMC curve, Rank-28 :98.2%\n",
      "CMC curve, Rank-30 :98.4%\n",
      "CMC curve, Rank-32 :98.5%\n"
     ]
    },
    {
     "name": "stderr",
     "output_type": "stream",
     "text": [
      "Train Epoch: 146 [259/259 (100%)] Loss: 0.059864: : 259it [01:28,  2.92it/s]"
     ]
    },
    {
     "name": "stdout",
     "output_type": "stream",
     "text": [
      "Enter inferencing\n",
      "Create evaluator\n"
     ]
    },
    {
     "name": "stderr",
     "output_type": "stream",
     "text": [
      "\n"
     ]
    },
    {
     "name": "stdout",
     "output_type": "stream",
     "text": [
      "The test feature is normalized\n",
      "Validation Results\n",
      "mAP: 62.5%\n",
      "CMC curve, Rank-1  :84.1%\n",
      "CMC curve, Rank-2  :88.8%\n",
      "CMC curve, Rank-4  :92.8%\n",
      "CMC curve, Rank-6  :94.8%\n",
      "CMC curve, Rank-8  :95.6%\n",
      "CMC curve, Rank-10 :96.4%\n",
      "CMC curve, Rank-12 :96.9%\n",
      "CMC curve, Rank-14 :97.1%\n",
      "CMC curve, Rank-16 :97.3%\n",
      "CMC curve, Rank-18 :97.7%\n",
      "CMC curve, Rank-20 :97.8%\n",
      "CMC curve, Rank-22 :97.9%\n",
      "CMC curve, Rank-24 :98.0%\n",
      "CMC curve, Rank-26 :98.1%\n",
      "CMC curve, Rank-28 :98.2%\n",
      "CMC curve, Rank-30 :98.4%\n",
      "CMC curve, Rank-32 :98.4%\n"
     ]
    },
    {
     "name": "stderr",
     "output_type": "stream",
     "text": [
      "Train Epoch: 147 [259/259 (100%)] Loss: 0.038173: : 259it [01:28,  2.92it/s]"
     ]
    },
    {
     "name": "stdout",
     "output_type": "stream",
     "text": [
      "Enter inferencing\n",
      "Create evaluator\n"
     ]
    },
    {
     "name": "stderr",
     "output_type": "stream",
     "text": [
      "\n"
     ]
    },
    {
     "name": "stdout",
     "output_type": "stream",
     "text": [
      "The test feature is normalized\n",
      "Validation Results\n",
      "mAP: 62.6%\n",
      "CMC curve, Rank-1  :84.2%\n",
      "CMC curve, Rank-2  :88.7%\n",
      "CMC curve, Rank-4  :92.7%\n",
      "CMC curve, Rank-6  :94.6%\n",
      "CMC curve, Rank-8  :95.6%\n",
      "CMC curve, Rank-10 :96.3%\n",
      "CMC curve, Rank-12 :96.9%\n",
      "CMC curve, Rank-14 :97.1%\n",
      "CMC curve, Rank-16 :97.4%\n",
      "CMC curve, Rank-18 :97.7%\n",
      "CMC curve, Rank-20 :97.9%\n",
      "CMC curve, Rank-22 :97.9%\n",
      "CMC curve, Rank-24 :98.0%\n",
      "CMC curve, Rank-26 :98.1%\n",
      "CMC curve, Rank-28 :98.2%\n",
      "CMC curve, Rank-30 :98.3%\n",
      "CMC curve, Rank-32 :98.4%\n"
     ]
    },
    {
     "name": "stderr",
     "output_type": "stream",
     "text": [
      "Train Epoch: 148 [259/259 (100%)] Loss: 0.035347: : 259it [01:28,  2.93it/s]"
     ]
    },
    {
     "name": "stdout",
     "output_type": "stream",
     "text": [
      "Enter inferencing\n",
      "Create evaluator\n"
     ]
    },
    {
     "name": "stderr",
     "output_type": "stream",
     "text": [
      "\n"
     ]
    },
    {
     "name": "stdout",
     "output_type": "stream",
     "text": [
      "The test feature is normalized\n",
      "Validation Results\n",
      "mAP: 62.6%\n",
      "CMC curve, Rank-1  :84.0%\n",
      "CMC curve, Rank-2  :89.1%\n",
      "CMC curve, Rank-4  :92.9%\n",
      "CMC curve, Rank-6  :94.5%\n",
      "CMC curve, Rank-8  :95.7%\n",
      "CMC curve, Rank-10 :96.4%\n",
      "CMC curve, Rank-12 :96.8%\n",
      "CMC curve, Rank-14 :97.2%\n",
      "CMC curve, Rank-16 :97.4%\n",
      "CMC curve, Rank-18 :97.7%\n",
      "CMC curve, Rank-20 :97.8%\n",
      "CMC curve, Rank-22 :98.0%\n",
      "CMC curve, Rank-24 :98.0%\n",
      "CMC curve, Rank-26 :98.1%\n",
      "CMC curve, Rank-28 :98.3%\n",
      "CMC curve, Rank-30 :98.3%\n",
      "CMC curve, Rank-32 :98.5%\n"
     ]
    },
    {
     "name": "stderr",
     "output_type": "stream",
     "text": [
      "Train Epoch: 149 [259/259 (100%)] Loss: 0.054499: : 259it [01:28,  2.92it/s]"
     ]
    },
    {
     "name": "stdout",
     "output_type": "stream",
     "text": [
      "Enter inferencing\n",
      "Create evaluator\n"
     ]
    },
    {
     "name": "stderr",
     "output_type": "stream",
     "text": [
      "\n"
     ]
    },
    {
     "name": "stdout",
     "output_type": "stream",
     "text": [
      "The test feature is normalized\n",
      "Validation Results\n",
      "mAP: 62.6%\n",
      "CMC curve, Rank-1  :84.0%\n",
      "CMC curve, Rank-2  :88.9%\n",
      "CMC curve, Rank-4  :92.8%\n",
      "CMC curve, Rank-6  :94.4%\n",
      "CMC curve, Rank-8  :95.4%\n",
      "CMC curve, Rank-10 :96.4%\n",
      "CMC curve, Rank-12 :96.7%\n",
      "CMC curve, Rank-14 :97.0%\n",
      "CMC curve, Rank-16 :97.3%\n",
      "CMC curve, Rank-18 :97.5%\n",
      "CMC curve, Rank-20 :97.7%\n",
      "CMC curve, Rank-22 :97.9%\n",
      "CMC curve, Rank-24 :98.0%\n",
      "CMC curve, Rank-26 :98.1%\n",
      "CMC curve, Rank-28 :98.2%\n",
      "CMC curve, Rank-30 :98.3%\n",
      "CMC curve, Rank-32 :98.5%\n"
     ]
    },
    {
     "name": "stderr",
     "output_type": "stream",
     "text": [
      "Train Epoch: 150 [259/259 (100%)] Loss: 0.052498: : 259it [01:28,  2.93it/s]"
     ]
    },
    {
     "name": "stdout",
     "output_type": "stream",
     "text": [
      "Enter inferencing\n",
      "Create evaluator\n"
     ]
    },
    {
     "name": "stderr",
     "output_type": "stream",
     "text": [
      "\n"
     ]
    },
    {
     "name": "stdout",
     "output_type": "stream",
     "text": [
      "The test feature is normalized\n",
      "Validation Results\n",
      "mAP: 62.6%\n",
      "CMC curve, Rank-1  :83.8%\n",
      "CMC curve, Rank-2  :89.4%\n",
      "CMC curve, Rank-4  :92.8%\n",
      "CMC curve, Rank-6  :94.6%\n",
      "CMC curve, Rank-8  :95.7%\n",
      "CMC curve, Rank-10 :96.3%\n",
      "CMC curve, Rank-12 :96.9%\n",
      "CMC curve, Rank-14 :97.1%\n",
      "CMC curve, Rank-16 :97.4%\n",
      "CMC curve, Rank-18 :97.7%\n",
      "CMC curve, Rank-20 :97.8%\n",
      "CMC curve, Rank-22 :98.0%\n",
      "CMC curve, Rank-24 :98.0%\n",
      "CMC curve, Rank-26 :98.1%\n",
      "CMC curve, Rank-28 :98.2%\n",
      "CMC curve, Rank-30 :98.3%\n",
      "CMC curve, Rank-32 :98.5%\n"
     ]
    },
    {
     "name": "stderr",
     "output_type": "stream",
     "text": [
      "Train Epoch: 151 [259/259 (100%)] Loss: 0.039293: : 259it [01:28,  2.92it/s]"
     ]
    },
    {
     "name": "stdout",
     "output_type": "stream",
     "text": [
      "Enter inferencing\n",
      "Create evaluator\n"
     ]
    },
    {
     "name": "stderr",
     "output_type": "stream",
     "text": [
      "\n"
     ]
    },
    {
     "name": "stdout",
     "output_type": "stream",
     "text": [
      "The test feature is normalized\n",
      "Validation Results\n",
      "mAP: 62.6%\n",
      "CMC curve, Rank-1  :84.0%\n",
      "CMC curve, Rank-2  :88.8%\n",
      "CMC curve, Rank-4  :92.8%\n",
      "CMC curve, Rank-6  :94.6%\n",
      "CMC curve, Rank-8  :95.7%\n",
      "CMC curve, Rank-10 :96.3%\n",
      "CMC curve, Rank-12 :96.9%\n",
      "CMC curve, Rank-14 :97.2%\n",
      "CMC curve, Rank-16 :97.5%\n",
      "CMC curve, Rank-18 :97.7%\n",
      "CMC curve, Rank-20 :97.8%\n",
      "CMC curve, Rank-22 :98.0%\n",
      "CMC curve, Rank-24 :98.1%\n",
      "CMC curve, Rank-26 :98.2%\n",
      "CMC curve, Rank-28 :98.2%\n",
      "CMC curve, Rank-30 :98.3%\n",
      "CMC curve, Rank-32 :98.4%\n"
     ]
    },
    {
     "name": "stderr",
     "output_type": "stream",
     "text": [
      "Train Epoch: 152 [259/259 (100%)] Loss: 0.049223: : 259it [01:28,  2.92it/s]"
     ]
    },
    {
     "name": "stdout",
     "output_type": "stream",
     "text": [
      "Enter inferencing\n",
      "Create evaluator\n"
     ]
    },
    {
     "name": "stderr",
     "output_type": "stream",
     "text": [
      "\n"
     ]
    },
    {
     "name": "stdout",
     "output_type": "stream",
     "text": [
      "The test feature is normalized\n",
      "Validation Results\n",
      "mAP: 62.5%\n",
      "CMC curve, Rank-1  :83.9%\n",
      "CMC curve, Rank-2  :88.5%\n",
      "CMC curve, Rank-4  :92.8%\n",
      "CMC curve, Rank-6  :94.4%\n",
      "CMC curve, Rank-8  :95.6%\n",
      "CMC curve, Rank-10 :96.4%\n",
      "CMC curve, Rank-12 :96.9%\n",
      "CMC curve, Rank-14 :97.2%\n",
      "CMC curve, Rank-16 :97.4%\n",
      "CMC curve, Rank-18 :97.7%\n",
      "CMC curve, Rank-20 :97.8%\n",
      "CMC curve, Rank-22 :98.0%\n",
      "CMC curve, Rank-24 :98.0%\n",
      "CMC curve, Rank-26 :98.2%\n",
      "CMC curve, Rank-28 :98.3%\n",
      "CMC curve, Rank-30 :98.5%\n",
      "CMC curve, Rank-32 :98.5%\n"
     ]
    },
    {
     "name": "stderr",
     "output_type": "stream",
     "text": [
      "Train Epoch: 153 [259/259 (100%)] Loss: 0.104469: : 259it [01:28,  2.94it/s]"
     ]
    },
    {
     "name": "stdout",
     "output_type": "stream",
     "text": [
      "Enter inferencing\n",
      "Create evaluator\n"
     ]
    },
    {
     "name": "stderr",
     "output_type": "stream",
     "text": [
      "\n"
     ]
    },
    {
     "name": "stdout",
     "output_type": "stream",
     "text": [
      "The test feature is normalized\n",
      "Validation Results\n",
      "mAP: 62.6%\n",
      "CMC curve, Rank-1  :83.9%\n",
      "CMC curve, Rank-2  :89.0%\n",
      "CMC curve, Rank-4  :93.0%\n",
      "CMC curve, Rank-6  :94.6%\n",
      "CMC curve, Rank-8  :95.7%\n",
      "CMC curve, Rank-10 :96.3%\n",
      "CMC curve, Rank-12 :96.7%\n",
      "CMC curve, Rank-14 :97.1%\n",
      "CMC curve, Rank-16 :97.4%\n",
      "CMC curve, Rank-18 :97.5%\n",
      "CMC curve, Rank-20 :97.8%\n",
      "CMC curve, Rank-22 :97.9%\n",
      "CMC curve, Rank-24 :98.0%\n",
      "CMC curve, Rank-26 :98.2%\n",
      "CMC curve, Rank-28 :98.2%\n",
      "CMC curve, Rank-30 :98.3%\n",
      "CMC curve, Rank-32 :98.4%\n"
     ]
    },
    {
     "name": "stderr",
     "output_type": "stream",
     "text": [
      "Train Epoch: 154 [259/259 (100%)] Loss: 0.062641: : 259it [01:25,  3.02it/s]"
     ]
    },
    {
     "name": "stdout",
     "output_type": "stream",
     "text": [
      "Enter inferencing\n",
      "Create evaluator\n"
     ]
    },
    {
     "name": "stderr",
     "output_type": "stream",
     "text": [
      "\n"
     ]
    },
    {
     "name": "stdout",
     "output_type": "stream",
     "text": [
      "The test feature is normalized\n",
      "Validation Results\n",
      "mAP: 62.6%\n",
      "CMC curve, Rank-1  :84.1%\n",
      "CMC curve, Rank-2  :88.9%\n",
      "CMC curve, Rank-4  :92.7%\n",
      "CMC curve, Rank-6  :94.7%\n",
      "CMC curve, Rank-8  :95.7%\n",
      "CMC curve, Rank-10 :96.3%\n",
      "CMC curve, Rank-12 :96.8%\n",
      "CMC curve, Rank-14 :97.1%\n",
      "CMC curve, Rank-16 :97.5%\n",
      "CMC curve, Rank-18 :97.7%\n",
      "CMC curve, Rank-20 :97.8%\n",
      "CMC curve, Rank-22 :98.0%\n",
      "CMC curve, Rank-24 :98.0%\n",
      "CMC curve, Rank-26 :98.2%\n",
      "CMC curve, Rank-28 :98.2%\n",
      "CMC curve, Rank-30 :98.4%\n",
      "CMC curve, Rank-32 :98.5%\n"
     ]
    },
    {
     "name": "stderr",
     "output_type": "stream",
     "text": [
      "Train Epoch: 155 [259/259 (100%)] Loss: 0.055305: : 259it [01:25,  3.02it/s]"
     ]
    },
    {
     "name": "stdout",
     "output_type": "stream",
     "text": [
      "Enter inferencing\n",
      "Create evaluator\n"
     ]
    },
    {
     "name": "stderr",
     "output_type": "stream",
     "text": [
      "\n"
     ]
    },
    {
     "name": "stdout",
     "output_type": "stream",
     "text": [
      "The test feature is normalized\n",
      "Validation Results\n",
      "mAP: 62.6%\n",
      "CMC curve, Rank-1  :84.0%\n",
      "CMC curve, Rank-2  :89.0%\n",
      "CMC curve, Rank-4  :92.8%\n",
      "CMC curve, Rank-6  :94.6%\n",
      "CMC curve, Rank-8  :95.8%\n",
      "CMC curve, Rank-10 :96.4%\n",
      "CMC curve, Rank-12 :96.8%\n",
      "CMC curve, Rank-14 :97.2%\n",
      "CMC curve, Rank-16 :97.4%\n",
      "CMC curve, Rank-18 :97.6%\n",
      "CMC curve, Rank-20 :97.8%\n",
      "CMC curve, Rank-22 :97.9%\n",
      "CMC curve, Rank-24 :98.0%\n",
      "CMC curve, Rank-26 :98.1%\n",
      "CMC curve, Rank-28 :98.3%\n",
      "CMC curve, Rank-30 :98.4%\n",
      "CMC curve, Rank-32 :98.5%\n"
     ]
    },
    {
     "name": "stderr",
     "output_type": "stream",
     "text": [
      "Train Epoch: 156 [259/259 (100%)] Loss: 0.083379: : 259it [01:25,  3.03it/s]"
     ]
    },
    {
     "name": "stdout",
     "output_type": "stream",
     "text": [
      "Enter inferencing\n",
      "Create evaluator\n"
     ]
    },
    {
     "name": "stderr",
     "output_type": "stream",
     "text": [
      "\n"
     ]
    },
    {
     "name": "stdout",
     "output_type": "stream",
     "text": [
      "The test feature is normalized\n",
      "Validation Results\n",
      "mAP: 62.6%\n",
      "CMC curve, Rank-1  :84.0%\n",
      "CMC curve, Rank-2  :88.8%\n",
      "CMC curve, Rank-4  :92.8%\n",
      "CMC curve, Rank-6  :94.6%\n",
      "CMC curve, Rank-8  :95.6%\n",
      "CMC curve, Rank-10 :96.4%\n",
      "CMC curve, Rank-12 :96.9%\n",
      "CMC curve, Rank-14 :97.1%\n",
      "CMC curve, Rank-16 :97.4%\n",
      "CMC curve, Rank-18 :97.6%\n",
      "CMC curve, Rank-20 :97.8%\n",
      "CMC curve, Rank-22 :97.9%\n",
      "CMC curve, Rank-24 :98.0%\n",
      "CMC curve, Rank-26 :98.2%\n",
      "CMC curve, Rank-28 :98.3%\n",
      "CMC curve, Rank-30 :98.5%\n",
      "CMC curve, Rank-32 :98.5%\n"
     ]
    },
    {
     "name": "stderr",
     "output_type": "stream",
     "text": [
      "Train Epoch: 157 [259/259 (100%)] Loss: 0.035082: : 259it [01:25,  3.03it/s]"
     ]
    },
    {
     "name": "stdout",
     "output_type": "stream",
     "text": [
      "Enter inferencing\n",
      "Create evaluator\n"
     ]
    },
    {
     "name": "stderr",
     "output_type": "stream",
     "text": [
      "\n"
     ]
    },
    {
     "name": "stdout",
     "output_type": "stream",
     "text": [
      "The test feature is normalized\n",
      "Validation Results\n",
      "mAP: 62.5%\n",
      "CMC curve, Rank-1  :84.1%\n",
      "CMC curve, Rank-2  :89.0%\n",
      "CMC curve, Rank-4  :92.8%\n",
      "CMC curve, Rank-6  :94.7%\n",
      "CMC curve, Rank-8  :95.7%\n",
      "CMC curve, Rank-10 :96.4%\n",
      "CMC curve, Rank-12 :96.8%\n",
      "CMC curve, Rank-14 :97.0%\n",
      "CMC curve, Rank-16 :97.4%\n",
      "CMC curve, Rank-18 :97.7%\n",
      "CMC curve, Rank-20 :97.8%\n",
      "CMC curve, Rank-22 :97.9%\n",
      "CMC curve, Rank-24 :98.0%\n",
      "CMC curve, Rank-26 :98.1%\n",
      "CMC curve, Rank-28 :98.2%\n",
      "CMC curve, Rank-30 :98.3%\n",
      "CMC curve, Rank-32 :98.4%\n"
     ]
    },
    {
     "name": "stderr",
     "output_type": "stream",
     "text": [
      "Train Epoch: 158 [259/259 (100%)] Loss: 0.042849: : 259it [01:25,  3.03it/s]"
     ]
    },
    {
     "name": "stdout",
     "output_type": "stream",
     "text": [
      "Enter inferencing\n",
      "Create evaluator\n"
     ]
    },
    {
     "name": "stderr",
     "output_type": "stream",
     "text": [
      "\n"
     ]
    },
    {
     "name": "stdout",
     "output_type": "stream",
     "text": [
      "The test feature is normalized\n",
      "Validation Results\n",
      "mAP: 62.6%\n",
      "CMC curve, Rank-1  :83.9%\n",
      "CMC curve, Rank-2  :89.1%\n",
      "CMC curve, Rank-4  :92.7%\n",
      "CMC curve, Rank-6  :94.6%\n",
      "CMC curve, Rank-8  :95.7%\n",
      "CMC curve, Rank-10 :96.4%\n",
      "CMC curve, Rank-12 :96.9%\n",
      "CMC curve, Rank-14 :97.2%\n",
      "CMC curve, Rank-16 :97.4%\n",
      "CMC curve, Rank-18 :97.6%\n",
      "CMC curve, Rank-20 :97.7%\n",
      "CMC curve, Rank-22 :97.8%\n",
      "CMC curve, Rank-24 :98.0%\n",
      "CMC curve, Rank-26 :98.2%\n",
      "CMC curve, Rank-28 :98.2%\n",
      "CMC curve, Rank-30 :98.3%\n",
      "CMC curve, Rank-32 :98.4%\n"
     ]
    },
    {
     "name": "stderr",
     "output_type": "stream",
     "text": [
      "Train Epoch: 159 [259/259 (100%)] Loss: 0.073435: : 259it [01:25,  3.03it/s]"
     ]
    },
    {
     "name": "stdout",
     "output_type": "stream",
     "text": [
      "Enter inferencing\n",
      "Create evaluator\n"
     ]
    },
    {
     "name": "stderr",
     "output_type": "stream",
     "text": [
      "\n"
     ]
    },
    {
     "name": "stdout",
     "output_type": "stream",
     "text": [
      "The test feature is normalized\n",
      "Validation Results\n",
      "mAP: 62.7%\n",
      "CMC curve, Rank-1  :84.2%\n",
      "CMC curve, Rank-2  :88.9%\n",
      "CMC curve, Rank-4  :92.8%\n",
      "CMC curve, Rank-6  :94.6%\n",
      "CMC curve, Rank-8  :95.5%\n",
      "CMC curve, Rank-10 :96.3%\n",
      "CMC curve, Rank-12 :96.9%\n",
      "CMC curve, Rank-14 :97.1%\n",
      "CMC curve, Rank-16 :97.4%\n",
      "CMC curve, Rank-18 :97.7%\n",
      "CMC curve, Rank-20 :97.8%\n",
      "CMC curve, Rank-22 :97.9%\n",
      "CMC curve, Rank-24 :98.0%\n",
      "CMC curve, Rank-26 :98.1%\n",
      "CMC curve, Rank-28 :98.2%\n",
      "CMC curve, Rank-30 :98.3%\n",
      "CMC curve, Rank-32 :98.5%\n"
     ]
    },
    {
     "name": "stderr",
     "output_type": "stream",
     "text": [
      "Train Epoch: 160 [259/259 (100%)] Loss: 0.025519: : 259it [01:25,  3.03it/s]"
     ]
    },
    {
     "name": "stdout",
     "output_type": "stream",
     "text": [
      "Enter inferencing\n",
      "Create evaluator\n"
     ]
    },
    {
     "name": "stderr",
     "output_type": "stream",
     "text": [
      "\n"
     ]
    },
    {
     "name": "stdout",
     "output_type": "stream",
     "text": [
      "The test feature is normalized\n",
      "Validation Results\n",
      "mAP: 62.7%\n",
      "CMC curve, Rank-1  :84.1%\n",
      "CMC curve, Rank-2  :88.9%\n",
      "CMC curve, Rank-4  :93.0%\n",
      "CMC curve, Rank-6  :94.6%\n",
      "CMC curve, Rank-8  :95.7%\n",
      "CMC curve, Rank-10 :96.5%\n",
      "CMC curve, Rank-12 :96.8%\n",
      "CMC curve, Rank-14 :97.2%\n",
      "CMC curve, Rank-16 :97.5%\n",
      "CMC curve, Rank-18 :97.7%\n",
      "CMC curve, Rank-20 :97.8%\n",
      "CMC curve, Rank-22 :98.0%\n",
      "CMC curve, Rank-24 :98.0%\n",
      "CMC curve, Rank-26 :98.2%\n",
      "CMC curve, Rank-28 :98.2%\n",
      "CMC curve, Rank-30 :98.3%\n",
      "CMC curve, Rank-32 :98.5%\n"
     ]
    },
    {
     "name": "stderr",
     "output_type": "stream",
     "text": [
      "Train Epoch: 161 [259/259 (100%)] Loss: 0.051602: : 259it [01:25,  3.03it/s]"
     ]
    },
    {
     "name": "stdout",
     "output_type": "stream",
     "text": [
      "Enter inferencing\n",
      "Create evaluator\n"
     ]
    },
    {
     "name": "stderr",
     "output_type": "stream",
     "text": [
      "\n"
     ]
    },
    {
     "name": "stdout",
     "output_type": "stream",
     "text": [
      "The test feature is normalized\n",
      "Validation Results\n",
      "mAP: 62.5%\n",
      "CMC curve, Rank-1  :84.0%\n",
      "CMC curve, Rank-2  :89.0%\n",
      "CMC curve, Rank-4  :92.7%\n",
      "CMC curve, Rank-6  :94.6%\n",
      "CMC curve, Rank-8  :95.5%\n",
      "CMC curve, Rank-10 :96.3%\n",
      "CMC curve, Rank-12 :96.7%\n",
      "CMC curve, Rank-14 :97.1%\n",
      "CMC curve, Rank-16 :97.4%\n",
      "CMC curve, Rank-18 :97.6%\n",
      "CMC curve, Rank-20 :97.7%\n",
      "CMC curve, Rank-22 :97.9%\n",
      "CMC curve, Rank-24 :98.2%\n",
      "CMC curve, Rank-26 :98.2%\n",
      "CMC curve, Rank-28 :98.3%\n",
      "CMC curve, Rank-30 :98.4%\n",
      "CMC curve, Rank-32 :98.5%\n"
     ]
    },
    {
     "name": "stderr",
     "output_type": "stream",
     "text": [
      "Train Epoch: 162 [259/259 (100%)] Loss: 0.027060: : 259it [01:25,  3.02it/s]"
     ]
    },
    {
     "name": "stdout",
     "output_type": "stream",
     "text": [
      "Enter inferencing\n",
      "Create evaluator\n"
     ]
    },
    {
     "name": "stderr",
     "output_type": "stream",
     "text": [
      "\n"
     ]
    },
    {
     "name": "stdout",
     "output_type": "stream",
     "text": [
      "The test feature is normalized\n",
      "Validation Results\n",
      "mAP: 62.6%\n",
      "CMC curve, Rank-1  :83.8%\n",
      "CMC curve, Rank-2  :88.7%\n",
      "CMC curve, Rank-4  :92.7%\n",
      "CMC curve, Rank-6  :94.6%\n",
      "CMC curve, Rank-8  :95.5%\n",
      "CMC curve, Rank-10 :96.3%\n",
      "CMC curve, Rank-12 :96.9%\n",
      "CMC curve, Rank-14 :97.1%\n",
      "CMC curve, Rank-16 :97.5%\n",
      "CMC curve, Rank-18 :97.7%\n",
      "CMC curve, Rank-20 :97.8%\n",
      "CMC curve, Rank-22 :98.0%\n",
      "CMC curve, Rank-24 :98.1%\n",
      "CMC curve, Rank-26 :98.2%\n",
      "CMC curve, Rank-28 :98.3%\n",
      "CMC curve, Rank-30 :98.4%\n",
      "CMC curve, Rank-32 :98.5%\n"
     ]
    },
    {
     "name": "stderr",
     "output_type": "stream",
     "text": [
      "Train Epoch: 163 [259/259 (100%)] Loss: 0.038427: : 259it [01:25,  3.02it/s]"
     ]
    },
    {
     "name": "stdout",
     "output_type": "stream",
     "text": [
      "Enter inferencing\n",
      "Create evaluator\n"
     ]
    },
    {
     "name": "stderr",
     "output_type": "stream",
     "text": [
      "\n"
     ]
    },
    {
     "name": "stdout",
     "output_type": "stream",
     "text": [
      "The test feature is normalized\n",
      "Validation Results\n",
      "mAP: 62.5%\n",
      "CMC curve, Rank-1  :83.8%\n",
      "CMC curve, Rank-2  :89.0%\n",
      "CMC curve, Rank-4  :92.7%\n",
      "CMC curve, Rank-6  :94.6%\n",
      "CMC curve, Rank-8  :95.8%\n",
      "CMC curve, Rank-10 :96.3%\n",
      "CMC curve, Rank-12 :96.7%\n",
      "CMC curve, Rank-14 :97.1%\n",
      "CMC curve, Rank-16 :97.4%\n",
      "CMC curve, Rank-18 :97.6%\n",
      "CMC curve, Rank-20 :97.7%\n",
      "CMC curve, Rank-22 :97.9%\n",
      "CMC curve, Rank-24 :98.0%\n",
      "CMC curve, Rank-26 :98.1%\n",
      "CMC curve, Rank-28 :98.2%\n",
      "CMC curve, Rank-30 :98.3%\n",
      "CMC curve, Rank-32 :98.4%\n"
     ]
    },
    {
     "name": "stderr",
     "output_type": "stream",
     "text": [
      "Train Epoch: 164 [259/259 (100%)] Loss: 0.095164: : 259it [01:25,  3.02it/s]"
     ]
    },
    {
     "name": "stdout",
     "output_type": "stream",
     "text": [
      "Enter inferencing\n",
      "Create evaluator\n"
     ]
    },
    {
     "name": "stderr",
     "output_type": "stream",
     "text": [
      "\n"
     ]
    },
    {
     "name": "stdout",
     "output_type": "stream",
     "text": [
      "The test feature is normalized\n",
      "Validation Results\n",
      "mAP: 62.6%\n",
      "CMC curve, Rank-1  :84.0%\n",
      "CMC curve, Rank-2  :88.9%\n",
      "CMC curve, Rank-4  :93.0%\n",
      "CMC curve, Rank-6  :94.6%\n",
      "CMC curve, Rank-8  :95.6%\n",
      "CMC curve, Rank-10 :96.3%\n",
      "CMC curve, Rank-12 :96.8%\n",
      "CMC curve, Rank-14 :97.2%\n",
      "CMC curve, Rank-16 :97.4%\n",
      "CMC curve, Rank-18 :97.7%\n",
      "CMC curve, Rank-20 :97.9%\n",
      "CMC curve, Rank-22 :98.0%\n",
      "CMC curve, Rank-24 :98.0%\n",
      "CMC curve, Rank-26 :98.2%\n",
      "CMC curve, Rank-28 :98.3%\n",
      "CMC curve, Rank-30 :98.4%\n",
      "CMC curve, Rank-32 :98.5%\n"
     ]
    },
    {
     "name": "stderr",
     "output_type": "stream",
     "text": [
      "Train Epoch: 165 [259/259 (100%)] Loss: 0.047697: : 259it [01:25,  3.02it/s]"
     ]
    },
    {
     "name": "stdout",
     "output_type": "stream",
     "text": [
      "Enter inferencing\n",
      "Create evaluator\n"
     ]
    },
    {
     "name": "stderr",
     "output_type": "stream",
     "text": [
      "\n"
     ]
    },
    {
     "name": "stdout",
     "output_type": "stream",
     "text": [
      "The test feature is normalized\n",
      "Validation Results\n",
      "mAP: 62.6%\n",
      "CMC curve, Rank-1  :84.3%\n",
      "CMC curve, Rank-2  :89.0%\n",
      "CMC curve, Rank-4  :92.8%\n",
      "CMC curve, Rank-6  :94.5%\n",
      "CMC curve, Rank-8  :95.6%\n",
      "CMC curve, Rank-10 :96.4%\n",
      "CMC curve, Rank-12 :96.8%\n",
      "CMC curve, Rank-14 :97.1%\n",
      "CMC curve, Rank-16 :97.5%\n",
      "CMC curve, Rank-18 :97.6%\n",
      "CMC curve, Rank-20 :97.8%\n",
      "CMC curve, Rank-22 :97.8%\n",
      "CMC curve, Rank-24 :98.0%\n",
      "CMC curve, Rank-26 :98.2%\n",
      "CMC curve, Rank-28 :98.2%\n",
      "CMC curve, Rank-30 :98.4%\n",
      "CMC curve, Rank-32 :98.5%\n"
     ]
    },
    {
     "name": "stderr",
     "output_type": "stream",
     "text": [
      "Train Epoch: 166 [259/259 (100%)] Loss: 0.093966: : 259it [01:25,  3.01it/s]"
     ]
    },
    {
     "name": "stdout",
     "output_type": "stream",
     "text": [
      "Enter inferencing\n",
      "Create evaluator\n"
     ]
    },
    {
     "name": "stderr",
     "output_type": "stream",
     "text": [
      "\n"
     ]
    },
    {
     "name": "stdout",
     "output_type": "stream",
     "text": [
      "The test feature is normalized\n",
      "Validation Results\n",
      "mAP: 62.6%\n",
      "CMC curve, Rank-1  :84.2%\n",
      "CMC curve, Rank-2  :88.9%\n",
      "CMC curve, Rank-4  :92.7%\n",
      "CMC curve, Rank-6  :94.6%\n",
      "CMC curve, Rank-8  :95.7%\n",
      "CMC curve, Rank-10 :96.4%\n",
      "CMC curve, Rank-12 :96.8%\n",
      "CMC curve, Rank-14 :97.2%\n",
      "CMC curve, Rank-16 :97.5%\n",
      "CMC curve, Rank-18 :97.7%\n",
      "CMC curve, Rank-20 :97.8%\n",
      "CMC curve, Rank-22 :97.9%\n",
      "CMC curve, Rank-24 :97.9%\n",
      "CMC curve, Rank-26 :98.0%\n",
      "CMC curve, Rank-28 :98.2%\n",
      "CMC curve, Rank-30 :98.4%\n",
      "CMC curve, Rank-32 :98.4%\n"
     ]
    },
    {
     "name": "stderr",
     "output_type": "stream",
     "text": [
      "Train Epoch: 167 [259/259 (100%)] Loss: 0.026395: : 259it [01:26,  3.01it/s]"
     ]
    },
    {
     "name": "stdout",
     "output_type": "stream",
     "text": [
      "Enter inferencing\n",
      "Create evaluator\n"
     ]
    },
    {
     "name": "stderr",
     "output_type": "stream",
     "text": [
      "\n"
     ]
    },
    {
     "name": "stdout",
     "output_type": "stream",
     "text": [
      "The test feature is normalized\n",
      "Validation Results\n",
      "mAP: 62.7%\n",
      "CMC curve, Rank-1  :83.9%\n",
      "CMC curve, Rank-2  :88.9%\n",
      "CMC curve, Rank-4  :92.7%\n",
      "CMC curve, Rank-6  :94.6%\n",
      "CMC curve, Rank-8  :95.7%\n",
      "CMC curve, Rank-10 :96.3%\n",
      "CMC curve, Rank-12 :96.8%\n",
      "CMC curve, Rank-14 :97.1%\n",
      "CMC curve, Rank-16 :97.4%\n",
      "CMC curve, Rank-18 :97.7%\n",
      "CMC curve, Rank-20 :97.8%\n",
      "CMC curve, Rank-22 :97.9%\n",
      "CMC curve, Rank-24 :98.1%\n",
      "CMC curve, Rank-26 :98.2%\n",
      "CMC curve, Rank-28 :98.3%\n",
      "CMC curve, Rank-30 :98.4%\n",
      "CMC curve, Rank-32 :98.5%\n"
     ]
    },
    {
     "name": "stderr",
     "output_type": "stream",
     "text": [
      "Train Epoch: 168 [259/259 (100%)] Loss: 0.028751: : 259it [01:23,  3.11it/s]"
     ]
    },
    {
     "name": "stdout",
     "output_type": "stream",
     "text": [
      "Enter inferencing\n",
      "Create evaluator\n"
     ]
    },
    {
     "name": "stderr",
     "output_type": "stream",
     "text": [
      "\n"
     ]
    },
    {
     "name": "stdout",
     "output_type": "stream",
     "text": [
      "The test feature is normalized\n",
      "Validation Results\n",
      "mAP: 62.5%\n",
      "CMC curve, Rank-1  :83.9%\n",
      "CMC curve, Rank-2  :88.9%\n",
      "CMC curve, Rank-4  :92.7%\n",
      "CMC curve, Rank-6  :94.6%\n",
      "CMC curve, Rank-8  :95.6%\n",
      "CMC curve, Rank-10 :96.2%\n",
      "CMC curve, Rank-12 :96.7%\n",
      "CMC curve, Rank-14 :97.1%\n",
      "CMC curve, Rank-16 :97.4%\n",
      "CMC curve, Rank-18 :97.7%\n",
      "CMC curve, Rank-20 :97.8%\n",
      "CMC curve, Rank-22 :97.9%\n",
      "CMC curve, Rank-24 :98.0%\n",
      "CMC curve, Rank-26 :98.1%\n",
      "CMC curve, Rank-28 :98.2%\n",
      "CMC curve, Rank-30 :98.4%\n",
      "CMC curve, Rank-32 :98.5%\n"
     ]
    },
    {
     "name": "stderr",
     "output_type": "stream",
     "text": [
      "Train Epoch: 169 [259/259 (100%)] Loss: 0.044214: : 259it [01:24,  3.07it/s]"
     ]
    },
    {
     "name": "stdout",
     "output_type": "stream",
     "text": [
      "Enter inferencing\n",
      "Create evaluator\n"
     ]
    },
    {
     "name": "stderr",
     "output_type": "stream",
     "text": [
      "\n"
     ]
    },
    {
     "name": "stdout",
     "output_type": "stream",
     "text": [
      "The test feature is normalized\n",
      "Validation Results\n",
      "mAP: 62.6%\n",
      "CMC curve, Rank-1  :84.0%\n",
      "CMC curve, Rank-2  :89.0%\n",
      "CMC curve, Rank-4  :92.7%\n",
      "CMC curve, Rank-6  :94.6%\n",
      "CMC curve, Rank-8  :95.7%\n",
      "CMC curve, Rank-10 :96.4%\n",
      "CMC curve, Rank-12 :96.9%\n",
      "CMC curve, Rank-14 :97.1%\n",
      "CMC curve, Rank-16 :97.5%\n",
      "CMC curve, Rank-18 :97.7%\n",
      "CMC curve, Rank-20 :97.8%\n",
      "CMC curve, Rank-22 :98.0%\n",
      "CMC curve, Rank-24 :98.0%\n",
      "CMC curve, Rank-26 :98.2%\n",
      "CMC curve, Rank-28 :98.2%\n",
      "CMC curve, Rank-30 :98.3%\n",
      "CMC curve, Rank-32 :98.5%\n"
     ]
    },
    {
     "name": "stderr",
     "output_type": "stream",
     "text": [
      "Train Epoch: 170 [259/259 (100%)] Loss: 0.047054: : 259it [01:22,  3.13it/s]"
     ]
    },
    {
     "name": "stdout",
     "output_type": "stream",
     "text": [
      "Enter inferencing\n",
      "Create evaluator\n"
     ]
    },
    {
     "name": "stderr",
     "output_type": "stream",
     "text": [
      "\n"
     ]
    },
    {
     "name": "stdout",
     "output_type": "stream",
     "text": [
      "The test feature is normalized\n",
      "Validation Results\n",
      "mAP: 62.6%\n",
      "CMC curve, Rank-1  :84.1%\n",
      "CMC curve, Rank-2  :88.9%\n",
      "CMC curve, Rank-4  :92.8%\n",
      "CMC curve, Rank-6  :94.4%\n",
      "CMC curve, Rank-8  :95.5%\n",
      "CMC curve, Rank-10 :96.2%\n",
      "CMC curve, Rank-12 :96.8%\n",
      "CMC curve, Rank-14 :97.1%\n",
      "CMC curve, Rank-16 :97.4%\n",
      "CMC curve, Rank-18 :97.7%\n",
      "CMC curve, Rank-20 :97.8%\n",
      "CMC curve, Rank-22 :97.9%\n",
      "CMC curve, Rank-24 :97.9%\n",
      "CMC curve, Rank-26 :98.2%\n",
      "CMC curve, Rank-28 :98.3%\n",
      "CMC curve, Rank-30 :98.5%\n",
      "CMC curve, Rank-32 :98.5%\n"
     ]
    },
    {
     "name": "stderr",
     "output_type": "stream",
     "text": [
      "Train Epoch: 171 [259/259 (100%)] Loss: 0.037968: : 259it [01:22,  3.13it/s]"
     ]
    },
    {
     "name": "stdout",
     "output_type": "stream",
     "text": [
      "Enter inferencing\n",
      "Create evaluator\n"
     ]
    },
    {
     "name": "stderr",
     "output_type": "stream",
     "text": [
      "\n"
     ]
    },
    {
     "name": "stdout",
     "output_type": "stream",
     "text": [
      "The test feature is normalized\n",
      "Validation Results\n",
      "mAP: 62.6%\n",
      "CMC curve, Rank-1  :84.0%\n",
      "CMC curve, Rank-2  :89.0%\n",
      "CMC curve, Rank-4  :92.7%\n",
      "CMC curve, Rank-6  :94.5%\n",
      "CMC curve, Rank-8  :95.7%\n",
      "CMC curve, Rank-10 :96.3%\n",
      "CMC curve, Rank-12 :96.8%\n",
      "CMC curve, Rank-14 :97.1%\n",
      "CMC curve, Rank-16 :97.5%\n",
      "CMC curve, Rank-18 :97.7%\n",
      "CMC curve, Rank-20 :97.8%\n",
      "CMC curve, Rank-22 :97.9%\n",
      "CMC curve, Rank-24 :98.1%\n",
      "CMC curve, Rank-26 :98.2%\n",
      "CMC curve, Rank-28 :98.3%\n",
      "CMC curve, Rank-30 :98.4%\n",
      "CMC curve, Rank-32 :98.4%\n"
     ]
    },
    {
     "name": "stderr",
     "output_type": "stream",
     "text": [
      "Train Epoch: 172 [259/259 (100%)] Loss: 0.049963: : 259it [01:23,  3.11it/s]"
     ]
    },
    {
     "name": "stdout",
     "output_type": "stream",
     "text": [
      "Enter inferencing\n",
      "Create evaluator\n"
     ]
    },
    {
     "name": "stderr",
     "output_type": "stream",
     "text": [
      "\n"
     ]
    },
    {
     "name": "stdout",
     "output_type": "stream",
     "text": [
      "The test feature is normalized\n",
      "Validation Results\n",
      "mAP: 62.6%\n",
      "CMC curve, Rank-1  :83.9%\n",
      "CMC curve, Rank-2  :88.9%\n",
      "CMC curve, Rank-4  :92.9%\n",
      "CMC curve, Rank-6  :94.5%\n",
      "CMC curve, Rank-8  :95.5%\n",
      "CMC curve, Rank-10 :96.3%\n",
      "CMC curve, Rank-12 :96.8%\n",
      "CMC curve, Rank-14 :97.2%\n",
      "CMC curve, Rank-16 :97.4%\n",
      "CMC curve, Rank-18 :97.6%\n",
      "CMC curve, Rank-20 :97.7%\n",
      "CMC curve, Rank-22 :97.9%\n",
      "CMC curve, Rank-24 :98.0%\n",
      "CMC curve, Rank-26 :98.1%\n",
      "CMC curve, Rank-28 :98.2%\n",
      "CMC curve, Rank-30 :98.3%\n",
      "CMC curve, Rank-32 :98.4%\n"
     ]
    },
    {
     "name": "stderr",
     "output_type": "stream",
     "text": [
      "Train Epoch: 173 [259/259 (100%)] Loss: 0.066311: : 259it [01:23,  3.09it/s]"
     ]
    },
    {
     "name": "stdout",
     "output_type": "stream",
     "text": [
      "Enter inferencing\n",
      "Create evaluator\n"
     ]
    },
    {
     "name": "stderr",
     "output_type": "stream",
     "text": [
      "\n"
     ]
    },
    {
     "name": "stdout",
     "output_type": "stream",
     "text": [
      "The test feature is normalized\n",
      "Validation Results\n",
      "mAP: 62.6%\n",
      "CMC curve, Rank-1  :84.1%\n",
      "CMC curve, Rank-2  :88.9%\n",
      "CMC curve, Rank-4  :92.8%\n",
      "CMC curve, Rank-6  :94.4%\n",
      "CMC curve, Rank-8  :95.5%\n",
      "CMC curve, Rank-10 :96.4%\n",
      "CMC curve, Rank-12 :96.9%\n",
      "CMC curve, Rank-14 :97.1%\n",
      "CMC curve, Rank-16 :97.4%\n",
      "CMC curve, Rank-18 :97.6%\n",
      "CMC curve, Rank-20 :97.8%\n",
      "CMC curve, Rank-22 :97.9%\n",
      "CMC curve, Rank-24 :98.0%\n",
      "CMC curve, Rank-26 :98.2%\n",
      "CMC curve, Rank-28 :98.3%\n",
      "CMC curve, Rank-30 :98.4%\n",
      "CMC curve, Rank-32 :98.5%\n"
     ]
    },
    {
     "name": "stderr",
     "output_type": "stream",
     "text": [
      "Train Epoch: 174 [259/259 (100%)] Loss: 0.056854: : 259it [01:24,  3.08it/s]"
     ]
    },
    {
     "name": "stdout",
     "output_type": "stream",
     "text": [
      "Enter inferencing\n",
      "Create evaluator\n"
     ]
    },
    {
     "name": "stderr",
     "output_type": "stream",
     "text": [
      "\n"
     ]
    },
    {
     "name": "stdout",
     "output_type": "stream",
     "text": [
      "The test feature is normalized\n",
      "Validation Results\n",
      "mAP: 62.5%\n",
      "CMC curve, Rank-1  :84.0%\n",
      "CMC curve, Rank-2  :88.5%\n",
      "CMC curve, Rank-4  :92.7%\n",
      "CMC curve, Rank-6  :94.6%\n",
      "CMC curve, Rank-8  :95.5%\n",
      "CMC curve, Rank-10 :96.2%\n",
      "CMC curve, Rank-12 :96.7%\n",
      "CMC curve, Rank-14 :97.0%\n",
      "CMC curve, Rank-16 :97.4%\n",
      "CMC curve, Rank-18 :97.7%\n",
      "CMC curve, Rank-20 :97.7%\n",
      "CMC curve, Rank-22 :97.9%\n",
      "CMC curve, Rank-24 :98.0%\n",
      "CMC curve, Rank-26 :98.2%\n",
      "CMC curve, Rank-28 :98.2%\n",
      "CMC curve, Rank-30 :98.3%\n",
      "CMC curve, Rank-32 :98.4%\n"
     ]
    },
    {
     "name": "stderr",
     "output_type": "stream",
     "text": [
      "Train Epoch: 175 [259/259 (100%)] Loss: 0.036707: : 259it [01:24,  3.05it/s]"
     ]
    },
    {
     "name": "stdout",
     "output_type": "stream",
     "text": [
      "Enter inferencing\n",
      "Create evaluator\n"
     ]
    },
    {
     "name": "stderr",
     "output_type": "stream",
     "text": [
      "\n"
     ]
    },
    {
     "name": "stdout",
     "output_type": "stream",
     "text": [
      "The test feature is normalized\n",
      "Validation Results\n",
      "mAP: 62.5%\n",
      "CMC curve, Rank-1  :83.8%\n",
      "CMC curve, Rank-2  :88.8%\n",
      "CMC curve, Rank-4  :92.8%\n",
      "CMC curve, Rank-6  :94.5%\n",
      "CMC curve, Rank-8  :95.4%\n",
      "CMC curve, Rank-10 :96.2%\n",
      "CMC curve, Rank-12 :96.8%\n",
      "CMC curve, Rank-14 :97.2%\n",
      "CMC curve, Rank-16 :97.4%\n",
      "CMC curve, Rank-18 :97.7%\n",
      "CMC curve, Rank-20 :97.7%\n",
      "CMC curve, Rank-22 :97.9%\n",
      "CMC curve, Rank-24 :98.0%\n",
      "CMC curve, Rank-26 :98.1%\n",
      "CMC curve, Rank-28 :98.3%\n",
      "CMC curve, Rank-30 :98.4%\n",
      "CMC curve, Rank-32 :98.5%\n"
     ]
    },
    {
     "name": "stderr",
     "output_type": "stream",
     "text": [
      "Train Epoch: 176 [259/259 (100%)] Loss: 0.033056: : 259it [01:25,  3.04it/s]"
     ]
    },
    {
     "name": "stdout",
     "output_type": "stream",
     "text": [
      "Enter inferencing\n",
      "Create evaluator\n"
     ]
    },
    {
     "name": "stderr",
     "output_type": "stream",
     "text": [
      "\n"
     ]
    },
    {
     "name": "stdout",
     "output_type": "stream",
     "text": [
      "The test feature is normalized\n",
      "Validation Results\n",
      "mAP: 62.6%\n",
      "CMC curve, Rank-1  :84.4%\n",
      "CMC curve, Rank-2  :89.0%\n",
      "CMC curve, Rank-4  :93.0%\n",
      "CMC curve, Rank-6  :94.5%\n",
      "CMC curve, Rank-8  :95.5%\n",
      "CMC curve, Rank-10 :96.3%\n",
      "CMC curve, Rank-12 :96.7%\n",
      "CMC curve, Rank-14 :97.1%\n",
      "CMC curve, Rank-16 :97.4%\n",
      "CMC curve, Rank-18 :97.6%\n",
      "CMC curve, Rank-20 :97.8%\n",
      "CMC curve, Rank-22 :97.9%\n",
      "CMC curve, Rank-24 :98.0%\n",
      "CMC curve, Rank-26 :98.1%\n",
      "CMC curve, Rank-28 :98.2%\n",
      "CMC curve, Rank-30 :98.3%\n",
      "CMC curve, Rank-32 :98.5%\n"
     ]
    },
    {
     "name": "stderr",
     "output_type": "stream",
     "text": [
      "Train Epoch: 177 [259/259 (100%)] Loss: 0.036932: : 259it [01:22,  3.13it/s]"
     ]
    },
    {
     "name": "stdout",
     "output_type": "stream",
     "text": [
      "Enter inferencing\n",
      "Create evaluator\n"
     ]
    },
    {
     "name": "stderr",
     "output_type": "stream",
     "text": [
      "\n"
     ]
    },
    {
     "name": "stdout",
     "output_type": "stream",
     "text": [
      "The test feature is normalized\n",
      "Validation Results\n",
      "mAP: 62.6%\n",
      "CMC curve, Rank-1  :84.1%\n",
      "CMC curve, Rank-2  :89.0%\n",
      "CMC curve, Rank-4  :92.8%\n",
      "CMC curve, Rank-6  :94.7%\n",
      "CMC curve, Rank-8  :95.6%\n",
      "CMC curve, Rank-10 :96.3%\n",
      "CMC curve, Rank-12 :96.9%\n",
      "CMC curve, Rank-14 :97.2%\n",
      "CMC curve, Rank-16 :97.4%\n",
      "CMC curve, Rank-18 :97.7%\n",
      "CMC curve, Rank-20 :97.8%\n",
      "CMC curve, Rank-22 :97.9%\n",
      "CMC curve, Rank-24 :98.0%\n",
      "CMC curve, Rank-26 :98.1%\n",
      "CMC curve, Rank-28 :98.2%\n",
      "CMC curve, Rank-30 :98.4%\n",
      "CMC curve, Rank-32 :98.5%\n"
     ]
    },
    {
     "name": "stderr",
     "output_type": "stream",
     "text": [
      "Train Epoch: 178 [259/259 (100%)] Loss: 0.047565: : 259it [01:23,  3.10it/s]"
     ]
    },
    {
     "name": "stdout",
     "output_type": "stream",
     "text": [
      "Enter inferencing\n",
      "Create evaluator\n"
     ]
    },
    {
     "name": "stderr",
     "output_type": "stream",
     "text": [
      "\n"
     ]
    },
    {
     "name": "stdout",
     "output_type": "stream",
     "text": [
      "The test feature is normalized\n",
      "Validation Results\n",
      "mAP: 62.6%\n",
      "CMC curve, Rank-1  :84.1%\n",
      "CMC curve, Rank-2  :89.1%\n",
      "CMC curve, Rank-4  :92.8%\n",
      "CMC curve, Rank-6  :94.4%\n",
      "CMC curve, Rank-8  :95.7%\n",
      "CMC curve, Rank-10 :96.2%\n",
      "CMC curve, Rank-12 :96.7%\n",
      "CMC curve, Rank-14 :97.1%\n",
      "CMC curve, Rank-16 :97.5%\n",
      "CMC curve, Rank-18 :97.6%\n",
      "CMC curve, Rank-20 :97.7%\n",
      "CMC curve, Rank-22 :97.9%\n",
      "CMC curve, Rank-24 :98.0%\n",
      "CMC curve, Rank-26 :98.2%\n",
      "CMC curve, Rank-28 :98.3%\n",
      "CMC curve, Rank-30 :98.4%\n",
      "CMC curve, Rank-32 :98.5%\n"
     ]
    },
    {
     "name": "stderr",
     "output_type": "stream",
     "text": [
      "Train Epoch: 179 [259/259 (100%)] Loss: 0.051572: : 259it [01:22,  3.13it/s]"
     ]
    },
    {
     "name": "stdout",
     "output_type": "stream",
     "text": [
      "Enter inferencing\n",
      "Create evaluator\n"
     ]
    },
    {
     "name": "stderr",
     "output_type": "stream",
     "text": [
      "\n"
     ]
    },
    {
     "name": "stdout",
     "output_type": "stream",
     "text": [
      "The test feature is normalized\n",
      "Validation Results\n",
      "mAP: 62.6%\n",
      "CMC curve, Rank-1  :84.1%\n",
      "CMC curve, Rank-2  :88.7%\n",
      "CMC curve, Rank-4  :92.7%\n",
      "CMC curve, Rank-6  :94.4%\n",
      "CMC curve, Rank-8  :95.5%\n",
      "CMC curve, Rank-10 :96.4%\n",
      "CMC curve, Rank-12 :96.8%\n",
      "CMC curve, Rank-14 :97.2%\n",
      "CMC curve, Rank-16 :97.4%\n",
      "CMC curve, Rank-18 :97.6%\n",
      "CMC curve, Rank-20 :97.7%\n",
      "CMC curve, Rank-22 :97.8%\n",
      "CMC curve, Rank-24 :98.0%\n",
      "CMC curve, Rank-26 :98.0%\n",
      "CMC curve, Rank-28 :98.2%\n",
      "CMC curve, Rank-30 :98.3%\n",
      "CMC curve, Rank-32 :98.5%\n"
     ]
    },
    {
     "name": "stderr",
     "output_type": "stream",
     "text": [
      "Train Epoch: 180 [259/259 (100%)] Loss: 0.106503: : 259it [01:26,  2.98it/s]"
     ]
    },
    {
     "name": "stdout",
     "output_type": "stream",
     "text": [
      "Enter inferencing\n",
      "Create evaluator\n"
     ]
    },
    {
     "name": "stderr",
     "output_type": "stream",
     "text": [
      "\n"
     ]
    },
    {
     "name": "stdout",
     "output_type": "stream",
     "text": [
      "The test feature is normalized\n",
      "Validation Results\n",
      "mAP: 62.5%\n",
      "CMC curve, Rank-1  :84.0%\n",
      "CMC curve, Rank-2  :89.0%\n",
      "CMC curve, Rank-4  :92.6%\n",
      "CMC curve, Rank-6  :94.5%\n",
      "CMC curve, Rank-8  :95.5%\n",
      "CMC curve, Rank-10 :96.4%\n",
      "CMC curve, Rank-12 :96.9%\n",
      "CMC curve, Rank-14 :97.1%\n",
      "CMC curve, Rank-16 :97.4%\n",
      "CMC curve, Rank-18 :97.6%\n",
      "CMC curve, Rank-20 :97.7%\n",
      "CMC curve, Rank-22 :97.9%\n",
      "CMC curve, Rank-24 :98.0%\n",
      "CMC curve, Rank-26 :98.0%\n",
      "CMC curve, Rank-28 :98.2%\n",
      "CMC curve, Rank-30 :98.4%\n",
      "CMC curve, Rank-32 :98.5%\n"
     ]
    },
    {
     "name": "stderr",
     "output_type": "stream",
     "text": [
      "Train Epoch: 181 [259/259 (100%)] Loss: 0.042575: : 259it [01:25,  3.01it/s]"
     ]
    },
    {
     "name": "stdout",
     "output_type": "stream",
     "text": [
      "Enter inferencing\n",
      "Create evaluator\n"
     ]
    },
    {
     "name": "stderr",
     "output_type": "stream",
     "text": [
      "\n"
     ]
    },
    {
     "name": "stdout",
     "output_type": "stream",
     "text": [
      "The test feature is normalized\n",
      "Validation Results\n",
      "mAP: 62.5%\n",
      "CMC curve, Rank-1  :83.8%\n",
      "CMC curve, Rank-2  :89.0%\n",
      "CMC curve, Rank-4  :92.8%\n",
      "CMC curve, Rank-6  :94.4%\n",
      "CMC curve, Rank-8  :95.7%\n",
      "CMC curve, Rank-10 :96.4%\n",
      "CMC curve, Rank-12 :96.8%\n",
      "CMC curve, Rank-14 :97.1%\n",
      "CMC curve, Rank-16 :97.4%\n",
      "CMC curve, Rank-18 :97.7%\n",
      "CMC curve, Rank-20 :97.8%\n",
      "CMC curve, Rank-22 :97.9%\n",
      "CMC curve, Rank-24 :98.1%\n",
      "CMC curve, Rank-26 :98.2%\n",
      "CMC curve, Rank-28 :98.2%\n",
      "CMC curve, Rank-30 :98.4%\n",
      "CMC curve, Rank-32 :98.4%\n"
     ]
    },
    {
     "name": "stderr",
     "output_type": "stream",
     "text": [
      "Train Epoch: 182 [117/259 (45%)] Loss: 0.030060: : 117it [00:38,  2.98it/s]"
     ]
    }
   ],
   "source": [
    "best_mAP=0\n",
    "current_datetime = datetime.datetime.now().strftime(\"%Y_%m_%d_%H_%M_%S\")\n",
    "for epoch in range(0, 600):\n",
    "    model.train()\n",
    "\n",
    "    losses_per_epoch = []\n",
    "    if model_name == 'resnet50':\n",
    "        unfreeze_model_param = list(model.model.embedding.parameters()) + list(criterion.parameters())\n",
    "    else:\n",
    "        unfreeze_model_param = list(model.fc.parameters()) + list(criterion.parameters())\n",
    "\n",
    "    if epoch == 0:\n",
    "        for param in list(set(model.parameters()).difference(set(unfreeze_model_param))):\n",
    "            param.requires_grad = False\n",
    "    if epoch == 1:\n",
    "        for param in list(set(model.parameters()).difference(set(unfreeze_model_param))):\n",
    "            param.requires_grad = True\n",
    "\n",
    "    pbar = tqdm(enumerate(train_loader))\n",
    "\n",
    "    for batch_idx, (x, y) in pbar:                         \n",
    "        m = model(x.squeeze().cuda())\n",
    "        loss = criterion(m, y.squeeze().cuda())\n",
    "        \n",
    "        opt.zero_grad()\n",
    "        loss.backward()\n",
    "        \n",
    "        torch.nn.utils.clip_grad_value_(model.parameters(), 10)\n",
    "        \n",
    "        torch.nn.utils.clip_grad_value_(criterion.parameters(), 10)\n",
    "\n",
    "        losses_per_epoch.append(loss.data.cpu().numpy())\n",
    "        opt.step()\n",
    "\n",
    "        pbar.set_description(\n",
    "            'Train Epoch: {} [{}/{} ({:.0f}%)] Loss: {:.6f}'.format(\n",
    "                epoch, batch_idx + 1, len(train_loader),\n",
    "                100. * batch_idx / len(train_loader),\n",
    "                loss.item()))\n",
    "    scheduler.step()\n",
    "    \n",
    "    val_loader = val_dict['val_loader']\n",
    "    num_query = val_dict['num_query']\n",
    "    result = inference(model, val_loader, num_query)\n",
    "\n",
    "    if result[1] > best_mAP:\n",
    "        append_result(result, model, epoch)"
   ]
  },
  {
   "cell_type": "markdown",
   "id": "1bfa27e7-da1e-4b78-845c-a4d344aee85d",
   "metadata": {},
   "source": [
    "### Test codes"
   ]
  }
 ],
 "metadata": {
  "kernelspec": {
   "display_name": "Python 3 (ipykernel)",
   "language": "python",
   "name": "python3"
  },
  "language_info": {
   "codemirror_mode": {
    "name": "ipython",
    "version": 3
   },
   "file_extension": ".py",
   "mimetype": "text/x-python",
   "name": "python",
   "nbconvert_exporter": "python",
   "pygments_lexer": "ipython3",
   "version": "3.9.18"
  }
 },
 "nbformat": 4,
 "nbformat_minor": 5
}
